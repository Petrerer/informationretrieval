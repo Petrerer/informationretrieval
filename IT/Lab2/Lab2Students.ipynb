{
  "cells": [
    {
      "cell_type": "code",
      "execution_count": 58,
      "metadata": {
        "id": "5dWS_Pojd0_0"
      },
      "outputs": [
        {
          "name": "stdout",
          "output_type": "stream",
          "text": [
            "Requirement already satisfied: bs4 in c:\\users\\franc\\miniconda3\\lib\\site-packages (0.0.2)\n",
            "Requirement already satisfied: requests in c:\\users\\franc\\miniconda3\\lib\\site-packages (2.32.3)\n",
            "Requirement already satisfied: networkx in c:\\users\\franc\\miniconda3\\lib\\site-packages (3.4.2)\n",
            "Requirement already satisfied: beautifulsoup4 in c:\\users\\franc\\miniconda3\\lib\\site-packages (from bs4) (4.14.2)\n",
            "Requirement already satisfied: charset-normalizer<4,>=2 in c:\\users\\franc\\miniconda3\\lib\\site-packages (from requests) (3.3.2)\n",
            "Requirement already satisfied: idna<4,>=2.5 in c:\\users\\franc\\miniconda3\\lib\\site-packages (from requests) (3.7)\n",
            "Requirement already satisfied: urllib3<3,>=1.21.1 in c:\\users\\franc\\miniconda3\\lib\\site-packages (from requests) (2.3.0)\n",
            "Requirement already satisfied: certifi>=2017.4.17 in c:\\users\\franc\\miniconda3\\lib\\site-packages (from requests) (2025.4.26)\n",
            "Requirement already satisfied: soupsieve>1.2 in c:\\users\\franc\\miniconda3\\lib\\site-packages (from beautifulsoup4->bs4) (2.8)\n",
            "Requirement already satisfied: typing-extensions>=4.0.0 in c:\\users\\franc\\miniconda3\\lib\\site-packages (from beautifulsoup4->bs4) (4.12.2)\n"
          ]
        }
      ],
      "source": [
        "\n",
        "!pip install bs4 requests networkx\n",
        "import requests\n",
        "import bs4\n",
        "import re\n",
        "from time import sleep\n",
        "import random\n",
        "import networkx as nx\n",
        "\n",
        "import warnings\n",
        "import logging\n",
        "\n",
        "warnings.filterwarnings(\"ignore\")\n",
        "logging.disable(logging.CRITICAL)"
      ]
    },
    {
      "cell_type": "markdown",
      "metadata": {
        "id": "U-Aa23yBd0_1"
      },
      "source": [
        "When you look at a website using a web browser what you see is a rendered view from an HTML code. This graphical version is much easier for us to read, however, it's not trivial to automatize the process of any data retrieval from it. That's why we will use raw HTML form\n",
        "\n",
        "The first step is to download the content. We can use a request library. Basic usage is very simple."
      ]
    },
    {
      "cell_type": "code",
      "execution_count": 5,
      "metadata": {
        "id": "iKZfwSZqd0_2"
      },
      "outputs": [
        {
          "name": "stderr",
          "output_type": "stream",
          "text": [
            "2025-10-18 19:44:50 [urllib3.connectionpool] DEBUG: Starting new HTTPS connection (1): en.wikipedia.org:443\n",
            "2025-10-18 19:44:51 [urllib3.connectionpool] DEBUG: https://en.wikipedia.org:443 \"GET /wiki/Pozna%C5%84_University_of_Technology HTTP/1.1\" 200 27878\n"
          ]
        },
        {
          "data": {
            "text/plain": [
              "200"
            ]
          },
          "execution_count": 5,
          "metadata": {},
          "output_type": "execute_result"
        }
      ],
      "source": [
        "headers = {\n",
        "    'User-Agent': 'IRclasses',\n",
        "}\n",
        "\n",
        "\n",
        "response = requests.get('https://en.wikipedia.org/wiki/Pozna%C5%84_University_of_Technology', headers=headers)\n",
        "response.status_code # it's wise to check the status code"
      ]
    },
    {
      "cell_type": "code",
      "execution_count": 3,
      "metadata": {
        "id": "6UaqxNyOd0_3"
      },
      "outputs": [
        {
          "data": {
            "text/plain": [
              "'<!DOCTYPE html>\\n<html class=\"client-nojs vector-feature-language-in-header-enabled vector-feature-language-in-main-page-header-disabled vector-feature-page-tools-pinned-disabled vector-feature-toc-pinned-clientpref-1 vector-feature-main-menu-pinned-disabled vector-feature-limited-width-clientpref-1 vector-feature-limited-width-content-enabled vector-feature-custom-font-size-clientpref-1 vector-feature-appearance-pinned-clientpref-1 vector-feature-night-mode-enabled skin-theme-clientpref-day vector-sticky-header-enabled vector-toc-available\" lang=\"en\" dir=\"ltr\">\\n<head>\\n<meta charset=\"UTF-8\">\\n<title>Poznań University of Technology - Wikipedia</title>\\n<script>(function(){var className=\"client-js vector-feature-language-in-header-enabled vector-feature-language-in-main-page-header-disabled vector-feature-page-tools-pinned-disabled vector-feature-toc-pinned-clientpref-1 vector-feature-main-menu-pinned-disabled vector-feature-limited-width-clientpref-1 vector-feature-limited-width-content-enabled vector-feature-custom-font-size-clientpref-1 vector-feature-appearance-pinned-clientpref-1 vector-feature-night-mode-enabled skin-theme-clientpref-day vector-sticky-header-enabled vector-toc-available\";var cookie=document.cookie.match(/(?:^|; )enwikimwclientpreferences=([^;]+)/);if(cookie){cookie[1].split(\\'%2C\\').forEach(function(pref){className=className.replace(new RegExp(\\'(^| )\\'+pref.replace(/-clientpref-\\\\w+$|[^\\\\w-]+/g,\\'\\')+\\'-clientpref-\\\\\\\\w+( |$)\\'),\\'$1\\'+pref+\\'$2\\');});}document.documentElement.className=className;}());RLCONF={\"wgBreakFrames\":false,\"wgSeparatorTransformTable\":[\"\",\"\"],\"wgDigitTransformTable\":[\"\",\"\"],\"wgDefaultDateFormat\":\"dmy\",\"wgMonthNames\":[\"\",\"January\",\"February\",\"March\",\"April\",\"May\",\"June\",\"July\",\"August\",\"September\",\"October\",\"November\",\"December\"],\"wgRequestId\":\"2ca91674-fa67-4c43-ba78-63ec5d6e304a\",\"wgCanonicalNamespace\":\"\",\"wgCanonicalSpecialPageName\":false,\"wgNamespaceNumber\":0,\"wgPageName\":\"Poznań_University_of_Technology\",\"wgTitle\":\"Poznań University of Technology\",\"wgCurRevisionId\":1308818926,\"wgRevisionId\":1308818926,\"wgArticleId\":38290,\"wgIsArticle\":true,\"wgIsRedirect\":false,\"wgAction\":\"view\",\"wgUserName\":null,\"wgUserGroups\":[\"*\"],\"wgCategories\":[\"CS1 Polish-language sources (pl)\",\"Pages using gadget WikiMiniAtlas\",\"Articles with short description\",\"Short description matches Wikidata\",\"Use dmy dates from April 2020\",\"Articles needing additional references from August 2015\",\"All articles needing additional references\",\"Articles containing Latin-language text\",\"Infobox mapframe without OSM relation ID on Wikidata\",\"Articles using infobox university\",\"Pages using infobox university with the affiliations parameter\",\"Articles using infobox templates with no data rows\",\"Articles containing Polish-language text\",\"Coordinates on Wikidata\",\"Pages using the Kartographer extension\",\"Poznań University of Technology\",\"Universities and colleges established in 1955\",\"1955 establishments in Poland\"],\"wgPageViewLanguage\":\"en\",\"wgPageContentLanguage\":\"en\",\"wgPageContentModel\":\"wikitext\",\"wgRelevantPageName\":\"Poznań_University_of_Technology\",\"wgRelevantArticleId\":38290,\"wgIsProbablyEditable\":true,\"wgRelevantPageIsProbablyEditable\":true,\"wgRestrictionEdit\":[],\"wgRestrictionMove\":[],\"wgNoticeProject\":\"wikipedia\",\"wgFlaggedRevsParams\":{\"tags\":{\"status\":{\"levels\":1}}},\"wgMediaViewerOnClick\":true,\"wgMediaViewerEnabledByDefault\":true,\"wgPopupsFlags\":0,\"wgVisualEditor\":{\"pageLanguageCode\":\"en\",\"pageLanguageDir\":\"ltr\",\"pageVariantFallbacks\":\"en\"},\"wgMFDisplayWikibaseDescriptions\":{\"search\":true,\"watchlist\":true,\"tagline\":false,\"nearby\":true},\"wgWMESchemaEditAttemptStepOversample\":false,\"wgWMEPageLength\":9000,\"wgMetricsPlatformUserExperiments\":{\"active_experiments\":[],\"overrides\":[],\"enrolled\":[],\"assigned\":[],\"subject_ids\":[],\"sampling_units\":[]},\"wgCoordinates\":{\"lat\":52.3942,\"lon\":16.9183},\"wgEditSubmitButtonLabelPublish\":true,\"wgULSPosition\":\"interlanguage\",\"wgULSisCompactLinksEnabled\":false,\"wgVector2022LanguageInHeader\":true,\"wgULSisLanguageSelectorEmpty\":false,\"wgWikibaseItemId\":\"Q1678753\",\"wgCheckUserClientHintsHeadersJsApi\":[\"brands\",\"architecture\",\"bitness\",\"fullVersionList\",\"mobile\",\"model\",\"platform\",\"platformVersion\"],\"GEHomepageSuggestedEditsEnableTopics\":true,\"wgGESuggestedEditsTaskTypes\":{\"taskTypes\":[\"copyedit\",\"link-recommendation\"],\"unavailableTaskTypes\":[]},\"wgGETopicsMatchModeEnabled\":false,\"wgGELevelingUpEnabledForUser\":false};\\nRLSTATE={\"ext.globalCssJs.user.styles\":\"ready\",\"site.styles\":\"ready\",\"user.styles\":\"ready\",\"ext.globalCssJs.user\":\"ready\",\"user\":\"ready\",\"user.options\":\"loading\",\"ext.cite.styles\":\"ready\",\"ext.kartographer.style\":\"ready\",\"ext.wikimediamessages.styles\":\"ready\",\"skins.vector.search.codex.styles\":\"ready\",\"skins.vector.styles\":\"ready\",\"skins.vector.icons\":\"ready\",\"jquery.makeCollapsible.styles\":\"ready\",\"ext.visualEditor.desktopArticleTarget.noscript\":\"ready\",\"ext.uls.interlanguage\":\"ready\",\"wikibase.client.init\":\"ready\"};RLPAGEMODULES=[\"ext.xLab\",\"ext.cite.ux-enhancements\",\"ext.kartographer.staticframe\",\"mediawiki.page.media\",\"site\",\"mediawiki.page.ready\",\"jquery.makeCollapsible\",\"mediawiki.toc\",\"skins.vector.js\",\"ext.centralNotice.geoIP\",\"ext.centralNotice.startUp\",\"ext.gadget.ReferenceTooltips\",\"ext.gadget.switcher\",\"ext.gadget.WikiMiniAtlas\",\"ext.urlShortener.toolbar\",\"ext.centralauth.centralautologin\",\"mmv.bootstrap\",\"ext.popups\",\"ext.visualEditor.desktopArticleTarget.init\",\"ext.visualEditor.targetLoader\",\"ext.echo.centralauth\",\"ext.eventLogging\",\"ext.wikimediaEvents\",\"ext.navigationTiming\",\"ext.uls.interface\",\"ext.cx.eventlogging.campaigns\",\"ext.cx.uls.quick.actions\",\"wikibase.client.vector-2022\",\"ext.checkUser.clientHints\",\"ext.growthExperiments.SuggestedEditSession\"];</script>\\n<script>(RLQ=window.RLQ||[]).push(function(){mw.loader.impl(function(){return[\"user.options@12s5i\",function($,jQuery,require,module){mw.user.tokens.set({\"patrolToken\":\"+\\\\\\\\\",\"watchToken\":\"+\\\\\\\\\",\"csrfToken\":\"+\\\\\\\\\"});\\n}];});});</script>\\n<link rel=\"stylesheet\" href=\"/w/load.php?lang=en&amp;modules=ext.cite.styles%7Cext.kartographer.style%7Cext.uls.interlanguage%7Cext.visualEditor.desktopArticleTarget.noscript%7Cext.wikimediamessages.styles%7Cjquery.makeCollapsible.styles%7Cskins.vector.icons%2Cstyles%7Cskins.vector.search.codex.styles%7Cwikibase.client.init&amp;only=styles&amp;skin=vector-2022\">\\n<script async=\"\" src=\"/w/load.php?lang=en&amp;modules=startup&amp;only=scripts&amp;raw=1&amp;skin=vector-2022\"></script>\\n<meta name=\"ResourceLoaderDynamicStyles\" content=\"\">\\n<link rel=\"stylesheet\" href=\"/w/load.php?lang=en&amp;modules=site.styles&amp;only=styles&amp;skin=vector-2022\">\\n<meta name=\"generator\" content=\"MediaWiki 1.45.0-wmf.23\">\\n<meta name=\"referrer\" content=\"origin\">\\n<meta name=\"referrer\" content=\"origin-when-cross-origin\">\\n<meta name=\"robots\" content=\"max-image-preview:standard\">\\n<meta name=\"format-detection\" content=\"telephone=no\">\\n<meta property=\"og:image\" content=\"https://upload.wikimedia.org/wikipedia/commons/thumb/2/2e/Rektorat_Politechniki_Pozna%C5%84skiej_04.JPG/960px-Rektorat_Politechniki_Pozna%C5%84skiej_04.JPG\">\\n<meta property=\"og:image:width\" content=\"856\">\\n<meta property=\"og:image:height\" content=\"1200\">\\n<meta name=\"viewport\" content=\"width=1120\">\\n<meta property=\"og:title\" content=\"Poznań University of Technology - Wikipedia\">\\n<meta property=\"og:type\" content=\"website\">\\n<link rel=\"preconnect\" href=\"//upload.wikimedia.org\">\\n<link rel=\"alternate\" type=\"application/x-wiki\" title=\"Edit this page\" href=\"/w/index.php?title=Pozna%C5%84_University_of_Technology&amp;action=edit\">\\n<link rel=\"apple-touch-icon\" href=\"/static/apple-touch/wikipedia.png\">\\n<link rel=\"icon\" href=\"/static/favicon/wikipedia.ico\">\\n<link rel=\"search\" type=\"application/opensearchdescription+xml\" href=\"/w/rest.php/v1/search\" title=\"Wikipedia (en)\">\\n<link rel=\"EditURI\" type=\"application/rsd+xml\" href=\"//en.wikipedia.org/w/api.php?action=rsd\">\\n<link rel=\"canonical\" href=\"https://en.wikipedia.org/wiki/Pozna%C5%84_University_of_Technology\">\\n<link rel=\"license\" href=\"https://creativecommons.org/licenses/by-sa/4.0/deed.en\">\\n<link rel=\"alternate\" type=\"application/atom+xml\" title=\"Wikipedia Atom feed\" href=\"/w/index.php?title=Special:RecentChanges&amp;feed=atom\">\\n<link rel=\"dns-prefetch\" href=\"//meta.wikimedia.org\" />\\n<link rel=\"dns-prefetch\" href=\"auth.wikimedia.org\">\\n</head>\\n<body class=\"skin--responsive skin-vector skin-vector-search-vue mediawiki ltr sitedir-ltr mw-hide-empty-elt ns-0 ns-subject mw-editable page-Poznań_University_of_Technology rootpage-Poznań_University_of_Technology skin-vector-2022 action-view\"><a class=\"mw-jump-link\" href=\"#bodyContent\">Jump to content</a>\\n<div class=\"vector-header-container\">\\n\\t<header class=\"vector-header mw-header no-font-mode-scale\">\\n\\t\\t<div class=\"vector-header-start\">\\n\\t\\t\\t<nav class=\"vector-main-menu-landmark\" aria-label=\"Site\">\\n\\t\\t\\t\\t\\n<div id=\"vector-main-menu-dropdown\" class=\"vector-dropdown vector-main-menu-dropdown vector-button-flush-left vector-button-flush-right\"  title=\"Main menu\" >\\n\\t<input type=\"checkbox\" id=\"vector-main-menu-dropdown-checkbox\" role=\"button\" aria-haspopup=\"true\" data-event-name=\"ui.dropdown-vector-main-menu-dropdown\" class=\"vector-dropdown-checkbox \"  aria-label=\"Main menu\"  >\\n\\t<label id=\"vector-main-menu-dropdown-label\" for=\"vector-main-menu-dropdown-checkbox\" class=\"vector-dropdown-label cdx-button cdx-button--fake-button cdx-button--fake-button--enabled cdx-button--weight-quiet cdx-button--icon-only \" aria-hidden=\"true\"  ><span class=\"vector-icon mw-ui-icon-menu mw-ui-icon-wikimedia-menu\"></span>\\n\\n<span class=\"vector-dropdown-label-text\">Main menu</span>\\n\\t</label>\\n\\t<div class=\"vector-dropdown-content\">\\n\\n\\n\\t\\t\\t\\t<div id=\"vector-main-menu-unpinned-container\" class=\"vector-unpinned-container\">\\n\\t\\t\\n<div id=\"vector-main-menu\" class=\"vector-main-menu vector-pinnable-element\">\\n\\t<div\\n\\tclass=\"vector-pinnable-header vector-main-menu-pinnable-header vector-pinnable-header-unpinned\"\\n\\tdata-feature-name=\"main-menu-pinned\"\\n\\tdata-pinnable-element-id=\"vector-main-menu\"\\n\\tdata-pinned-container-id=\"vector-main-menu-pinned-container\"\\n\\tdata-unpinned-container-id=\"vector-main-menu-unpinned-container\"\\n>\\n\\t<div class=\"vector-pinnable-header-label\">Main menu</div>\\n\\t<button class=\"vector-pinnable-header-toggle-button vector-pinnable-header-pin-button\" data-event-name=\"pinnable-header.vector-main-menu.pin\">move to sidebar</button>\\n\\t<button class=\"vector-pinnable-header-toggle-button vector-pinnable-header-unpin-button\" data-event-name=\"pinnable-header.vector-main-menu.unpin\">hide</button>\\n</div>\\n\\n\\t\\n<div id=\"p-navigation\" class=\"vector-menu mw-portlet mw-portlet-navigation\"  >\\n\\t<div class=\"vector-menu-heading\">\\n\\t\\tNavigation\\n\\t</div>\\n\\t<div class=\"vector-menu-content\">\\n\\t\\t\\n\\t\\t<ul class=\"vector-menu-content-list\">\\n\\t\\t\\t\\n\\t\\t\\t<li id=\"n-mainpage-description\" class=\"mw-list-item\"><a href=\"/wiki/Main_Page\" title=\"Visit the main page [z]\" accesskey=\"z\"><span>Main page</span></a></li><li id=\"n-contents\" class=\"mw-list-item\"><a href=\"/wiki/Wikipedia:Contents\" title=\"Guides to browsing Wikipedia\"><span>Contents</span></a></li><li id=\"n-currentevents\" class=\"mw-list-item\"><a href=\"/wiki/Portal:Current_events\" title=\"Articles related to current events\"><span>Current events</span></a></li><li id=\"n-randompage\" class=\"mw-list-item\"><a href=\"/wiki/Special:Random\" title=\"Visit a randomly selected article [x]\" accesskey=\"x\"><span>Random article</span></a></li><li id=\"n-aboutsite\" class=\"mw-list-item\"><a href=\"/wiki/Wikipedia:About\" title=\"Learn about Wikipedia and how it works\"><span>About Wikipedia</span></a></li><li id=\"n-contactpage\" class=\"mw-list-item\"><a href=\"//en.wikipedia.org/wiki/Wikipedia:Contact_us\" title=\"How to contact Wikipedia\"><span>Contact us</span></a></li>\\n\\t\\t</ul>\\n\\t\\t\\n\\t</div>\\n</div>\\n\\n\\t\\n<div id=\"p-interaction\" class=\"vector-menu mw-portlet mw-portlet-interaction\"  >\\n\\t<div class=\"vector-menu-heading\">\\n\\t\\tContribute\\n\\t</div>\\n\\t<div class=\"vector-menu-content\">\\n\\t\\t\\n\\t\\t<ul class=\"vector-menu-content-list\">\\n\\t\\t\\t\\n\\t\\t\\t<li id=\"n-help\" class=\"mw-list-item\"><a href=\"/wiki/Help:Contents\" title=\"Guidance on how to use and edit Wikipedia\"><span>Help</span></a></li><li id=\"n-introduction\" class=\"mw-list-item\"><a href=\"/wiki/Help:Introduction\" title=\"Learn how to edit Wikipedia\"><span>Learn to edit</span></a></li><li id=\"n-portal\" class=\"mw-list-item\"><a href=\"/wiki/Wikipedia:Community_portal\" title=\"The hub for editors\"><span>Community portal</span></a></li><li id=\"n-recentchanges\" class=\"mw-list-item\"><a href=\"/wiki/Special:RecentChanges\" title=\"A list of recent changes to Wikipedia [r]\" accesskey=\"r\"><span>Recent changes</span></a></li><li id=\"n-upload\" class=\"mw-list-item\"><a href=\"/wiki/Wikipedia:File_upload_wizard\" title=\"Add images or other media for use on Wikipedia\"><span>Upload file</span></a></li><li id=\"n-specialpages\" class=\"mw-list-item\"><a href=\"/wiki/Special:SpecialPages\"><span>Special pages</span></a></li>\\n\\t\\t</ul>\\n\\t\\t\\n\\t</div>\\n</div>\\n\\n</div>\\n\\n\\t\\t\\t\\t</div>\\n\\n\\t</div>\\n</div>\\n\\n\\t\\t</nav>\\n\\t\\t\\t\\n<a href=\"/wiki/Main_Page\" class=\"mw-logo\">\\n\\t<img class=\"mw-logo-icon\" src=\"/static/images/icons/wikipedia.png\" alt=\"\" aria-hidden=\"true\" height=\"50\" width=\"50\">\\n\\t<span class=\"mw-logo-container skin-invert\">\\n\\t\\t<img class=\"mw-logo-wordmark\" alt=\"Wikipedia\" src=\"/static/images/mobile/copyright/wikipedia-wordmark-en.svg\" style=\"width: 7.5em; height: 1.125em;\">\\n\\t\\t<img class=\"mw-logo-tagline\" alt=\"The Free Encyclopedia\" src=\"/static/images/mobile/copyright/wikipedia-tagline-en.svg\" width=\"117\" height=\"13\" style=\"width: 7.3125em; height: 0.8125em;\">\\n\\t</span>\\n</a>\\n\\n\\t\\t</div>\\n\\t\\t<div class=\"vector-header-end\">\\n\\t\\t\\t\\n<div id=\"p-search\" role=\"search\" class=\"vector-search-box-vue  vector-search-box-collapses vector-search-box-show-thumbnail vector-search-box-auto-expand-width vector-search-box\">\\n\\t<a href=\"/wiki/Special:Search\" class=\"cdx-button cdx-button--fake-button cdx-button--fake-button--enabled cdx-button--weight-quiet cdx-button--icon-only search-toggle\" title=\"Search Wikipedia [f]\" accesskey=\"f\"><span class=\"vector-icon mw-ui-icon-search mw-ui-icon-wikimedia-search\"></span>\\n\\n<span>Search</span>\\n\\t</a>\\n\\t<div class=\"vector-typeahead-search-container\">\\n\\t\\t<div class=\"cdx-typeahead-search cdx-typeahead-search--show-thumbnail cdx-typeahead-search--auto-expand-width\">\\n\\t\\t\\t<form action=\"/w/index.php\" id=\"searchform\" class=\"cdx-search-input cdx-search-input--has-end-button\">\\n\\t\\t\\t\\t<div id=\"simpleSearch\" class=\"cdx-search-input__input-wrapper\"  data-search-loc=\"header-moved\">\\n\\t\\t\\t\\t\\t<div class=\"cdx-text-input cdx-text-input--has-start-icon\">\\n\\t\\t\\t\\t\\t\\t<input\\n\\t\\t\\t\\t\\t\\t\\tclass=\"cdx-text-input__input mw-searchInput\" autocomplete=\"off\"\\n\\t\\t\\t\\t\\t\\t\\t type=\"search\" name=\"search\" placeholder=\"Search Wikipedia\" aria-label=\"Search Wikipedia\" autocapitalize=\"sentences\" spellcheck=\"false\" title=\"Search Wikipedia [f]\" accesskey=\"f\" id=\"searchInput\"\\n\\t\\t\\t\\t\\t\\t\\t>\\n\\t\\t\\t\\t\\t\\t<span class=\"cdx-text-input__icon cdx-text-input__start-icon\"></span>\\n\\t\\t\\t\\t\\t</div>\\n\\t\\t\\t\\t\\t<input type=\"hidden\" name=\"title\" value=\"Special:Search\">\\n\\t\\t\\t\\t</div>\\n\\t\\t\\t\\t<button class=\"cdx-button cdx-search-input__end-button\">Search</button>\\n\\t\\t\\t</form>\\n\\t\\t</div>\\n\\t</div>\\n</div>\\n\\n\\t\\t\\t<nav class=\"vector-user-links vector-user-links-wide\" aria-label=\"Personal tools\">\\n\\t<div class=\"vector-user-links-main\">\\n\\t\\n<div id=\"p-vector-user-menu-preferences\" class=\"vector-menu mw-portlet emptyPortlet\"  >\\n\\t<div class=\"vector-menu-content\">\\n\\t\\t\\n\\t\\t<ul class=\"vector-menu-content-list\">\\n\\t\\t\\t\\n\\t\\t\\t\\n\\t\\t</ul>\\n\\t\\t\\n\\t</div>\\n</div>\\n\\n\\t\\n<div id=\"p-vector-user-menu-userpage\" class=\"vector-menu mw-portlet emptyPortlet\"  >\\n\\t<div class=\"vector-menu-content\">\\n\\t\\t\\n\\t\\t<ul class=\"vector-menu-content-list\">\\n\\t\\t\\t\\n\\t\\t\\t\\n\\t\\t</ul>\\n\\t\\t\\n\\t</div>\\n</div>\\n\\n\\t<nav class=\"vector-appearance-landmark\" aria-label=\"Appearance\">\\n\\t\\t\\n<div id=\"vector-appearance-dropdown\" class=\"vector-dropdown \"  title=\"Change the appearance of the page&#039;s font size, width, and color\" >\\n\\t<input type=\"checkbox\" id=\"vector-appearance-dropdown-checkbox\" role=\"button\" aria-haspopup=\"true\" data-event-name=\"ui.dropdown-vector-appearance-dropdown\" class=\"vector-dropdown-checkbox \"  aria-label=\"Appearance\"  >\\n\\t<label id=\"vector-appearance-dropdown-label\" for=\"vector-appearance-dropdown-checkbox\" class=\"vector-dropdown-label cdx-button cdx-button--fake-button cdx-button--fake-button--enabled cdx-button--weight-quiet cdx-button--icon-only \" aria-hidden=\"true\"  ><span class=\"vector-icon mw-ui-icon-appearance mw-ui-icon-wikimedia-appearance\"></span>\\n\\n<span class=\"vector-dropdown-label-text\">Appearance</span>\\n\\t</label>\\n\\t<div class=\"vector-dropdown-content\">\\n\\n\\n\\t\\t\\t<div id=\"vector-appearance-unpinned-container\" class=\"vector-unpinned-container\">\\n\\t\\t\\t\\t\\n\\t\\t\\t</div>\\n\\t\\t\\n\\t</div>\\n</div>\\n\\n\\t</nav>\\n\\t\\n<div id=\"p-vector-user-menu-notifications\" class=\"vector-menu mw-portlet emptyPortlet\"  >\\n\\t<div class=\"vector-menu-content\">\\n\\t\\t\\n\\t\\t<ul class=\"vector-menu-content-list\">\\n\\t\\t\\t\\n\\t\\t\\t\\n\\t\\t</ul>\\n\\t\\t\\n\\t</div>\\n</div>\\n\\n\\t\\n<div id=\"p-vector-user-menu-overflow\" class=\"vector-menu mw-portlet\"  >\\n\\t<div class=\"vector-menu-content\">\\n\\t\\t\\n\\t\\t<ul class=\"vector-menu-content-list\">\\n\\t\\t\\t<li id=\"pt-sitesupport-2\" class=\"user-links-collapsible-item mw-list-item user-links-collapsible-item\"><a data-mw=\"interface\" href=\"https://donate.wikimedia.org/?wmf_source=donate&amp;wmf_medium=sidebar&amp;wmf_campaign=en.wikipedia.org&amp;uselang=en\" class=\"\"><span>Donate</span></a>\\n</li>\\n<li id=\"pt-createaccount-2\" class=\"user-links-collapsible-item mw-list-item user-links-collapsible-item\"><a data-mw=\"interface\" href=\"/w/index.php?title=Special:CreateAccount&amp;returnto=Pozna%C5%84+University+of+Technology\" title=\"You are encouraged to create an account and log in; however, it is not mandatory\" class=\"\"><span>Create account</span></a>\\n</li>\\n<li id=\"pt-login-2\" class=\"user-links-collapsible-item mw-list-item user-links-collapsible-item\"><a data-mw=\"interface\" href=\"/w/index.php?title=Special:UserLogin&amp;returnto=Pozna%C5%84+University+of+Technology\" title=\"You&#039;re encouraged to log in; however, it&#039;s not mandatory. [o]\" accesskey=\"o\" class=\"\"><span>Log in</span></a>\\n</li>\\n\\n\\t\\t\\t\\n\\t\\t</ul>\\n\\t\\t\\n\\t</div>\\n</div>\\n\\n\\t</div>\\n\\t\\n<div id=\"vector-user-links-dropdown\" class=\"vector-dropdown vector-user-menu vector-button-flush-right vector-user-menu-logged-out\"  title=\"Log in and more options\" >\\n\\t<input type=\"checkbox\" id=\"vector-user-links-dropdown-checkbox\" role=\"button\" aria-haspopup=\"true\" data-event-name=\"ui.dropdown-vector-user-links-dropdown\" class=\"vector-dropdown-checkbox \"  aria-label=\"Personal tools\"  >\\n\\t<label id=\"vector-user-links-dropdown-label\" for=\"vector-user-links-dropdown-checkbox\" class=\"vector-dropdown-label cdx-button cdx-button--fake-button cdx-button--fake-button--enabled cdx-button--weight-quiet cdx-button--icon-only \" aria-hidden=\"true\"  ><span class=\"vector-icon mw-ui-icon-ellipsis mw-ui-icon-wikimedia-ellipsis\"></span>\\n\\n<span class=\"vector-dropdown-label-text\">Personal tools</span>\\n\\t</label>\\n\\t<div class=\"vector-dropdown-content\">\\n\\n\\n\\t\\t\\n<div id=\"p-personal\" class=\"vector-menu mw-portlet mw-portlet-personal user-links-collapsible-item\"  title=\"User menu\" >\\n\\t<div class=\"vector-menu-content\">\\n\\t\\t\\n\\t\\t<ul class=\"vector-menu-content-list\">\\n\\t\\t\\t\\n\\t\\t\\t<li id=\"pt-sitesupport\" class=\"user-links-collapsible-item mw-list-item\"><a href=\"https://donate.wikimedia.org/?wmf_source=donate&amp;wmf_medium=sidebar&amp;wmf_campaign=en.wikipedia.org&amp;uselang=en\"><span>Donate</span></a></li><li id=\"pt-createaccount\" class=\"user-links-collapsible-item mw-list-item\"><a href=\"/w/index.php?title=Special:CreateAccount&amp;returnto=Pozna%C5%84+University+of+Technology\" title=\"You are encouraged to create an account and log in; however, it is not mandatory\"><span class=\"vector-icon mw-ui-icon-userAdd mw-ui-icon-wikimedia-userAdd\"></span> <span>Create account</span></a></li><li id=\"pt-login\" class=\"user-links-collapsible-item mw-list-item\"><a href=\"/w/index.php?title=Special:UserLogin&amp;returnto=Pozna%C5%84+University+of+Technology\" title=\"You&#039;re encouraged to log in; however, it&#039;s not mandatory. [o]\" accesskey=\"o\"><span class=\"vector-icon mw-ui-icon-logIn mw-ui-icon-wikimedia-logIn\"></span> <span>Log in</span></a></li>\\n\\t\\t</ul>\\n\\t\\t\\n\\t</div>\\n</div>\\n\\n<div id=\"p-user-menu-anon-editor\" class=\"vector-menu mw-portlet mw-portlet-user-menu-anon-editor\"  >\\n\\t<div class=\"vector-menu-heading\">\\n\\t\\tPages for logged out editors <a href=\"/wiki/Help:Introduction\" aria-label=\"Learn more about editing\"><span>learn more</span></a>\\n\\t</div>\\n\\t<div class=\"vector-menu-content\">\\n\\t\\t\\n\\t\\t<ul class=\"vector-menu-content-list\">\\n\\t\\t\\t\\n\\t\\t\\t<li id=\"pt-anoncontribs\" class=\"mw-list-item\"><a href=\"/wiki/Special:MyContributions\" title=\"A list of edits made from this IP address [y]\" accesskey=\"y\"><span>Contributions</span></a></li><li id=\"pt-anontalk\" class=\"mw-list-item\"><a href=\"/wiki/Special:MyTalk\" title=\"Discussion about edits from this IP address [n]\" accesskey=\"n\"><span>Talk</span></a></li>\\n\\t\\t</ul>\\n\\t\\t\\n\\t</div>\\n</div>\\n\\n\\t\\n\\t</div>\\n</div>\\n\\n</nav>\\n\\n\\t\\t</div>\\n\\t</header>\\n</div>\\n<div class=\"mw-page-container\">\\n\\t<div class=\"mw-page-container-inner\">\\n\\t\\t<div class=\"vector-sitenotice-container\">\\n\\t\\t\\t<div id=\"siteNotice\"><!-- CentralNotice --></div>\\n\\t\\t</div>\\n\\t\\t<div class=\"vector-column-start\">\\n\\t\\t\\t<div class=\"vector-main-menu-container\">\\n\\t\\t<div id=\"mw-navigation\">\\n\\t\\t\\t<nav id=\"mw-panel\" class=\"vector-main-menu-landmark\" aria-label=\"Site\">\\n\\t\\t\\t\\t<div id=\"vector-main-menu-pinned-container\" class=\"vector-pinned-container\">\\n\\t\\t\\t\\t\\n\\t\\t\\t\\t</div>\\n\\t\\t</nav>\\n\\t\\t</div>\\n\\t</div>\\n\\t<div class=\"vector-sticky-pinned-container\">\\n\\t\\t\\t\\t<nav id=\"mw-panel-toc\" aria-label=\"Contents\" data-event-name=\"ui.sidebar-toc\" class=\"mw-table-of-contents-container vector-toc-landmark\">\\n\\t\\t\\t\\t\\t<div id=\"vector-toc-pinned-container\" class=\"vector-pinned-container\">\\n\\t\\t\\t\\t\\t<div id=\"vector-toc\" class=\"vector-toc vector-pinnable-element\">\\n\\t<div\\n\\tclass=\"vector-pinnable-header vector-toc-pinnable-header vector-pinnable-header-pinned\"\\n\\tdata-feature-name=\"toc-pinned\"\\n\\tdata-pinnable-element-id=\"vector-toc\"\\n\\t\\n\\t\\n>\\n\\t<h2 class=\"vector-pinnable-header-label\">Contents</h2>\\n\\t<button class=\"vector-pinnable-header-toggle-button vector-pinnable-header-pin-button\" data-event-name=\"pinnable-header.vector-toc.pin\">move to sidebar</button>\\n\\t<button class=\"vector-pinnable-header-toggle-button vector-pinnable-header-unpin-button\" data-event-name=\"pinnable-header.vector-toc.unpin\">hide</button>\\n</div>\\n\\n\\n\\t<ul class=\"vector-toc-contents\" id=\"mw-panel-toc-list\">\\n\\t\\t<li id=\"toc-mw-content-text\"\\n\\t\\t\\tclass=\"vector-toc-list-item vector-toc-level-1\">\\n\\t\\t\\t<a href=\"#\" class=\"vector-toc-link\">\\n\\t\\t\\t\\t<div class=\"vector-toc-text\">(Top)</div>\\n\\t\\t\\t</a>\\n\\t\\t</li>\\n\\t\\t<li id=\"toc-Faculties\"\\n\\t\\tclass=\"vector-toc-list-item vector-toc-level-1 vector-toc-list-item-expanded\">\\n\\t\\t<a class=\"vector-toc-link\" href=\"#Faculties\">\\n\\t\\t\\t<div class=\"vector-toc-text\">\\n\\t\\t\\t\\t<span class=\"vector-toc-numb\">1</span>\\n\\t\\t\\t\\t<span>Faculties</span>\\n\\t\\t\\t</div>\\n\\t\\t</a>\\n\\t\\t\\n\\t\\t<ul id=\"toc-Faculties-sublist\" class=\"vector-toc-list\">\\n\\t\\t</ul>\\n\\t</li>\\n\\t<li id=\"toc-History\"\\n\\t\\tclass=\"vector-toc-list-item vector-toc-level-1 vector-toc-list-item-expanded\">\\n\\t\\t<a class=\"vector-toc-link\" href=\"#History\">\\n\\t\\t\\t<div class=\"vector-toc-text\">\\n\\t\\t\\t\\t<span class=\"vector-toc-numb\">2</span>\\n\\t\\t\\t\\t<span>History</span>\\n\\t\\t\\t</div>\\n\\t\\t</a>\\n\\t\\t\\n\\t\\t<ul id=\"toc-History-sublist\" class=\"vector-toc-list\">\\n\\t\\t</ul>\\n\\t</li>\\n\\t<li id=\"toc-Successes\"\\n\\t\\tclass=\"vector-toc-list-item vector-toc-level-1 vector-toc-list-item-expanded\">\\n\\t\\t<a class=\"vector-toc-link\" href=\"#Successes\">\\n\\t\\t\\t<div class=\"vector-toc-text\">\\n\\t\\t\\t\\t<span class=\"vector-toc-numb\">3</span>\\n\\t\\t\\t\\t<span>Successes</span>\\n\\t\\t\\t</div>\\n\\t\\t</a>\\n\\t\\t\\n\\t\\t<ul id=\"toc-Successes-sublist\" class=\"vector-toc-list\">\\n\\t\\t</ul>\\n\\t</li>\\n\\t<li id=\"toc-Notable_alumni\"\\n\\t\\tclass=\"vector-toc-list-item vector-toc-level-1 vector-toc-list-item-expanded\">\\n\\t\\t<a class=\"vector-toc-link\" href=\"#Notable_alumni\">\\n\\t\\t\\t<div class=\"vector-toc-text\">\\n\\t\\t\\t\\t<span class=\"vector-toc-numb\">4</span>\\n\\t\\t\\t\\t<span>Notable alumni</span>\\n\\t\\t\\t</div>\\n\\t\\t</a>\\n\\t\\t\\n\\t\\t<ul id=\"toc-Notable_alumni-sublist\" class=\"vector-toc-list\">\\n\\t\\t</ul>\\n\\t</li>\\n\\t<li id=\"toc-List_of_rectors\"\\n\\t\\tclass=\"vector-toc-list-item vector-toc-level-1 vector-toc-list-item-expanded\">\\n\\t\\t<a class=\"vector-toc-link\" href=\"#List_of_rectors\">\\n\\t\\t\\t<div class=\"vector-toc-text\">\\n\\t\\t\\t\\t<span class=\"vector-toc-numb\">5</span>\\n\\t\\t\\t\\t<span>List of rectors</span>\\n\\t\\t\\t</div>\\n\\t\\t</a>\\n\\t\\t\\n\\t\\t<ul id=\"toc-List_of_rectors-sublist\" class=\"vector-toc-list\">\\n\\t\\t</ul>\\n\\t</li>\\n\\t<li id=\"toc-See_also\"\\n\\t\\tclass=\"vector-toc-list-item vector-toc-level-1 vector-toc-list-item-expanded\">\\n\\t\\t<a class=\"vector-toc-link\" href=\"#See_also\">\\n\\t\\t\\t<div class=\"vector-toc-text\">\\n\\t\\t\\t\\t<span class=\"vector-toc-numb\">6</span>\\n\\t\\t\\t\\t<span>See also</span>\\n\\t\\t\\t</div>\\n\\t\\t</a>\\n\\t\\t\\n\\t\\t<ul id=\"toc-See_also-sublist\" class=\"vector-toc-list\">\\n\\t\\t</ul>\\n\\t</li>\\n\\t<li id=\"toc-References\"\\n\\t\\tclass=\"vector-toc-list-item vector-toc-level-1 vector-toc-list-item-expanded\">\\n\\t\\t<a class=\"vector-toc-link\" href=\"#References\">\\n\\t\\t\\t<div class=\"vector-toc-text\">\\n\\t\\t\\t\\t<span class=\"vector-toc-numb\">7</span>\\n\\t\\t\\t\\t<span>References</span>\\n\\t\\t\\t</div>\\n\\t\\t</a>\\n\\t\\t\\n\\t\\t<ul id=\"toc-References-sublist\" class=\"vector-toc-list\">\\n\\t\\t</ul>\\n\\t</li>\\n\\t<li id=\"toc-External_links\"\\n\\t\\tclass=\"vector-toc-list-item vector-toc-level-1 vector-toc-list-item-expanded\">\\n\\t\\t<a class=\"vector-toc-link\" href=\"#External_links\">\\n\\t\\t\\t<div class=\"vector-toc-text\">\\n\\t\\t\\t\\t<span class=\"vector-toc-numb\">8</span>\\n\\t\\t\\t\\t<span>External links</span>\\n\\t\\t\\t</div>\\n\\t\\t</a>\\n\\t\\t\\n\\t\\t<ul id=\"toc-External_links-sublist\" class=\"vector-toc-list\">\\n\\t\\t</ul>\\n\\t</li>\\n</ul>\\n</div>\\n\\n\\t\\t\\t\\t\\t</div>\\n\\t\\t</nav>\\n\\t\\t\\t</div>\\n\\t\\t</div>\\n\\t\\t<div class=\"mw-content-container\">\\n\\t\\t\\t<main id=\"content\" class=\"mw-body\">\\n\\t\\t\\t\\t<header class=\"mw-body-header vector-page-titlebar no-font-mode-scale\">\\n\\t\\t\\t\\t\\t<nav aria-label=\"Contents\" class=\"vector-toc-landmark\">\\n\\t\\t\\t\\t\\t\\t\\n<div id=\"vector-page-titlebar-toc\" class=\"vector-dropdown vector-page-titlebar-toc vector-button-flush-left\"  title=\"Table of Contents\" >\\n\\t<input type=\"checkbox\" id=\"vector-page-titlebar-toc-checkbox\" role=\"button\" aria-haspopup=\"true\" data-event-name=\"ui.dropdown-vector-page-titlebar-toc\" class=\"vector-dropdown-checkbox \"  aria-label=\"Toggle the table of contents\"  >\\n\\t<label id=\"vector-page-titlebar-toc-label\" for=\"vector-page-titlebar-toc-checkbox\" class=\"vector-dropdown-label cdx-button cdx-button--fake-button cdx-button--fake-button--enabled cdx-button--weight-quiet cdx-button--icon-only \" aria-hidden=\"true\"  ><span class=\"vector-icon mw-ui-icon-listBullet mw-ui-icon-wikimedia-listBullet\"></span>\\n\\n<span class=\"vector-dropdown-label-text\">Toggle the table of contents</span>\\n\\t</label>\\n\\t<div class=\"vector-dropdown-content\">\\n\\n\\n\\t\\t\\t\\t\\t\\t\\t<div id=\"vector-page-titlebar-toc-unpinned-container\" class=\"vector-unpinned-container\">\\n\\t\\t\\t</div>\\n\\t\\t\\n\\t</div>\\n</div>\\n\\n\\t\\t\\t\\t\\t</nav>\\n\\t\\t\\t\\t\\t<h1 id=\"firstHeading\" class=\"firstHeading mw-first-heading\"><span class=\"mw-page-title-main\">Poznań University of Technology</span></h1>\\n\\t\\t\\t\\t\\t\\t\\t\\n<div id=\"p-lang-btn\" class=\"vector-dropdown mw-portlet mw-portlet-lang\"  >\\n\\t<input type=\"checkbox\" id=\"p-lang-btn-checkbox\" role=\"button\" aria-haspopup=\"true\" data-event-name=\"ui.dropdown-p-lang-btn\" class=\"vector-dropdown-checkbox mw-interlanguage-selector\" aria-label=\"Go to an article in another language. Available in 11 languages\"   >\\n\\t<label id=\"p-lang-btn-label\" for=\"p-lang-btn-checkbox\" class=\"vector-dropdown-label cdx-button cdx-button--fake-button cdx-button--fake-button--enabled cdx-button--weight-quiet cdx-button--action-progressive mw-portlet-lang-heading-11\" aria-hidden=\"true\"  ><span class=\"vector-icon mw-ui-icon-language-progressive mw-ui-icon-wikimedia-language-progressive\"></span>\\n\\n<span class=\"vector-dropdown-label-text\">11 languages</span>\\n\\t</label>\\n\\t<div class=\"vector-dropdown-content\">\\n\\n\\t\\t<div class=\"vector-menu-content\">\\n\\t\\t\\t\\n\\t\\t\\t<ul class=\"vector-menu-content-list\">\\n\\t\\t\\t\\t\\n\\t\\t\\t\\t<li class=\"interlanguage-link interwiki-be mw-list-item\"><a href=\"https://be.wikipedia.org/wiki/%D0%9F%D0%BE%D0%B7%D0%BD%D0%B0%D0%BD%D1%8C%D1%81%D0%BA%D1%96_%D0%BF%D0%BE%D0%BB%D1%96%D1%82%D1%8D%D1%85%D0%BD%D1%96%D1%87%D0%BD%D1%8B_%D1%9E%D0%BD%D1%96%D0%B2%D0%B5%D1%80%D1%81%D1%96%D1%82%D1%8D%D1%82\" title=\"Познаньскі політэхнічны ўніверсітэт – Belarusian\" lang=\"be\" hreflang=\"be\" data-title=\"Познаньскі політэхнічны ўніверсітэт\" data-language-autonym=\"Беларуская\" data-language-local-name=\"Belarusian\" class=\"interlanguage-link-target\"><span>Беларуская</span></a></li><li class=\"interlanguage-link interwiki-de mw-list-item\"><a href=\"https://de.wikipedia.org/wiki/Technische_Universit%C3%A4t_Posen\" title=\"Technische Universität Posen – German\" lang=\"de\" hreflang=\"de\" data-title=\"Technische Universität Posen\" data-language-autonym=\"Deutsch\" data-language-local-name=\"German\" class=\"interlanguage-link-target\"><span>Deutsch</span></a></li><li class=\"interlanguage-link interwiki-et mw-list-item\"><a href=\"https://et.wikipedia.org/wiki/Pozna%C5%84i_Tehnika%C3%BClikool\" title=\"Poznańi Tehnikaülikool – Estonian\" lang=\"et\" hreflang=\"et\" data-title=\"Poznańi Tehnikaülikool\" data-language-autonym=\"Eesti\" data-language-local-name=\"Estonian\" class=\"interlanguage-link-target\"><span>Eesti</span></a></li><li class=\"interlanguage-link interwiki-it mw-list-item\"><a href=\"https://it.wikipedia.org/wiki/Politecnico_di_Pozna%C5%84\" title=\"Politecnico di Poznań – Italian\" lang=\"it\" hreflang=\"it\" data-title=\"Politecnico di Poznań\" data-language-autonym=\"Italiano\" data-language-local-name=\"Italian\" class=\"interlanguage-link-target\"><span>Italiano</span></a></li><li class=\"interlanguage-link interwiki-lt mw-list-item\"><a href=\"https://lt.wikipedia.org/wiki/Poznan%C4%97s_technikos_universitetas\" title=\"Poznanės technikos universitetas – Lithuanian\" lang=\"lt\" hreflang=\"lt\" data-title=\"Poznanės technikos universitetas\" data-language-autonym=\"Lietuvių\" data-language-local-name=\"Lithuanian\" class=\"interlanguage-link-target\"><span>Lietuvių</span></a></li><li class=\"interlanguage-link interwiki-nl mw-list-item\"><a href=\"https://nl.wikipedia.org/wiki/Technische_Universiteit_Pozna%C5%84\" title=\"Technische Universiteit Poznań – Dutch\" lang=\"nl\" hreflang=\"nl\" data-title=\"Technische Universiteit Poznań\" data-language-autonym=\"Nederlands\" data-language-local-name=\"Dutch\" class=\"interlanguage-link-target\"><span>Nederlands</span></a></li><li class=\"interlanguage-link interwiki-pl mw-list-item\"><a href=\"https://pl.wikipedia.org/wiki/Politechnika_Pozna%C5%84ska\" title=\"Politechnika Poznańska – Polish\" lang=\"pl\" hreflang=\"pl\" data-title=\"Politechnika Poznańska\" data-language-autonym=\"Polski\" data-language-local-name=\"Polish\" class=\"interlanguage-link-target\"><span>Polski</span></a></li><li class=\"interlanguage-link interwiki-pt mw-list-item\"><a href=\"https://pt.wikipedia.org/wiki/Universidade_T%C3%A9cnica_de_Poznan\" title=\"Universidade Técnica de Poznan – Portuguese\" lang=\"pt\" hreflang=\"pt\" data-title=\"Universidade Técnica de Poznan\" data-language-autonym=\"Português\" data-language-local-name=\"Portuguese\" class=\"interlanguage-link-target\"><span>Português</span></a></li><li class=\"interlanguage-link interwiki-ru mw-list-item\"><a href=\"https://ru.wikipedia.org/wiki/%D0%9F%D0%BE%D0%B7%D0%BD%D0%B0%D0%BD%D1%81%D0%BA%D0%B8%D0%B9_%D1%82%D0%B5%D1%85%D0%BD%D0%B8%D1%87%D0%B5%D1%81%D0%BA%D0%B8%D0%B9_%D1%83%D0%BD%D0%B8%D0%B2%D0%B5%D1%80%D1%81%D0%B8%D1%82%D0%B5%D1%82\" title=\"Познанский технический университет – Russian\" lang=\"ru\" hreflang=\"ru\" data-title=\"Познанский технический университет\" data-language-autonym=\"Русский\" data-language-local-name=\"Russian\" class=\"interlanguage-link-target\"><span>Русский</span></a></li><li class=\"interlanguage-link interwiki-uk mw-list-item\"><a href=\"https://uk.wikipedia.org/wiki/%D0%9F%D0%BE%D0%B7%D0%BD%D0%B0%D0%BD%D1%81%D1%8C%D0%BA%D0%B8%D0%B9_%D1%82%D0%B5%D1%85%D0%BD%D1%96%D1%87%D0%BD%D0%B8%D0%B9_%D1%83%D0%BD%D1%96%D0%B2%D0%B5%D1%80%D1%81%D0%B8%D1%82%D0%B5%D1%82\" title=\"Познанський технічний університет – Ukrainian\" lang=\"uk\" hreflang=\"uk\" data-title=\"Познанський технічний університет\" data-language-autonym=\"Українська\" data-language-local-name=\"Ukrainian\" class=\"interlanguage-link-target\"><span>Українська</span></a></li><li class=\"interlanguage-link interwiki-zh mw-list-item\"><a href=\"https://zh.wikipedia.org/wiki/%E6%B3%A2%E5%85%B9%E5%8D%97%E7%90%86%E5%B7%A5%E5%A4%A7%E5%AD%A6\" title=\"波兹南理工大学 – Chinese\" lang=\"zh\" hreflang=\"zh\" data-title=\"波兹南理工大学\" data-language-autonym=\"中文\" data-language-local-name=\"Chinese\" class=\"interlanguage-link-target\"><span>中文</span></a></li>\\n\\t\\t\\t</ul>\\n\\t\\t\\t<div class=\"after-portlet after-portlet-lang\"><span class=\"wb-langlinks-edit wb-langlinks-link\"><a href=\"https://www.wikidata.org/wiki/Special:EntityPage/Q1678753#sitelinks-wikipedia\" title=\"Edit interlanguage links\" class=\"wbc-editpage\">Edit links</a></span></div>\\n\\t\\t</div>\\n\\n\\t</div>\\n</div>\\n</header>\\n\\t\\t\\t\\t<div class=\"vector-page-toolbar vector-feature-custom-font-size-clientpref--excluded\">\\n\\t\\t\\t\\t\\t<div class=\"vector-page-toolbar-container\">\\n\\t\\t\\t\\t\\t\\t<div id=\"left-navigation\">\\n\\t\\t\\t\\t\\t\\t\\t<nav aria-label=\"Namespaces\">\\n\\t\\t\\t\\t\\t\\t\\t\\t\\n<div id=\"p-associated-pages\" class=\"vector-menu vector-menu-tabs mw-portlet mw-portlet-associated-pages\"  >\\n\\t<div class=\"vector-menu-content\">\\n\\t\\t\\n\\t\\t<ul class=\"vector-menu-content-list\">\\n\\t\\t\\t\\n\\t\\t\\t<li id=\"ca-nstab-main\" class=\"selected vector-tab-noicon mw-list-item\"><a href=\"/wiki/Pozna%C5%84_University_of_Technology\" title=\"View the content page [c]\" accesskey=\"c\"><span>Article</span></a></li><li id=\"ca-talk\" class=\"vector-tab-noicon mw-list-item\"><a href=\"/wiki/Talk:Pozna%C5%84_University_of_Technology\" rel=\"discussion\" title=\"Discuss improvements to the content page [t]\" accesskey=\"t\"><span>Talk</span></a></li>\\n\\t\\t</ul>\\n\\t\\t\\n\\t</div>\\n</div>\\n\\n\\t\\t\\t\\t\\t\\t\\t\\t\\n<div id=\"vector-variants-dropdown\" class=\"vector-dropdown emptyPortlet\"  >\\n\\t<input type=\"checkbox\" id=\"vector-variants-dropdown-checkbox\" role=\"button\" aria-haspopup=\"true\" data-event-name=\"ui.dropdown-vector-variants-dropdown\" class=\"vector-dropdown-checkbox \" aria-label=\"Change language variant\"   >\\n\\t<label id=\"vector-variants-dropdown-label\" for=\"vector-variants-dropdown-checkbox\" class=\"vector-dropdown-label cdx-button cdx-button--fake-button cdx-button--fake-button--enabled cdx-button--weight-quiet\" aria-hidden=\"true\"  ><span class=\"vector-dropdown-label-text\">English</span>\\n\\t</label>\\n\\t<div class=\"vector-dropdown-content\">\\n\\n\\n\\t\\t\\t\\t\\t\\n<div id=\"p-variants\" class=\"vector-menu mw-portlet mw-portlet-variants emptyPortlet\"  >\\n\\t<div class=\"vector-menu-content\">\\n\\t\\t\\n\\t\\t<ul class=\"vector-menu-content-list\">\\n\\t\\t\\t\\n\\t\\t\\t\\n\\t\\t</ul>\\n\\t\\t\\n\\t</div>\\n</div>\\n\\n\\t\\t\\t\\t\\n\\t</div>\\n</div>\\n\\n\\t\\t\\t\\t\\t\\t\\t</nav>\\n\\t\\t\\t\\t\\t\\t</div>\\n\\t\\t\\t\\t\\t\\t<div id=\"right-navigation\" class=\"vector-collapsible\">\\n\\t\\t\\t\\t\\t\\t\\t<nav aria-label=\"Views\">\\n\\t\\t\\t\\t\\t\\t\\t\\t\\n<div id=\"p-views\" class=\"vector-menu vector-menu-tabs mw-portlet mw-portlet-views\"  >\\n\\t<div class=\"vector-menu-content\">\\n\\t\\t\\n\\t\\t<ul class=\"vector-menu-content-list\">\\n\\t\\t\\t\\n\\t\\t\\t<li id=\"ca-view\" class=\"selected vector-tab-noicon mw-list-item\"><a href=\"/wiki/Pozna%C5%84_University_of_Technology\"><span>Read</span></a></li><li id=\"ca-edit\" class=\"vector-tab-noicon mw-list-item\"><a href=\"/w/index.php?title=Pozna%C5%84_University_of_Technology&amp;action=edit\" title=\"Edit this page [e]\" accesskey=\"e\"><span>Edit</span></a></li><li id=\"ca-history\" class=\"vector-tab-noicon mw-list-item\"><a href=\"/w/index.php?title=Pozna%C5%84_University_of_Technology&amp;action=history\" title=\"Past revisions of this page [h]\" accesskey=\"h\"><span>View history</span></a></li>\\n\\t\\t</ul>\\n\\t\\t\\n\\t</div>\\n</div>\\n\\n\\t\\t\\t\\t\\t\\t\\t</nav>\\n\\t\\t\\t\\t\\n\\t\\t\\t\\t\\t\\t\\t<nav class=\"vector-page-tools-landmark\" aria-label=\"Page tools\">\\n\\t\\t\\t\\t\\t\\t\\t\\t\\n<div id=\"vector-page-tools-dropdown\" class=\"vector-dropdown vector-page-tools-dropdown\"  >\\n\\t<input type=\"checkbox\" id=\"vector-page-tools-dropdown-checkbox\" role=\"button\" aria-haspopup=\"true\" data-event-name=\"ui.dropdown-vector-page-tools-dropdown\" class=\"vector-dropdown-checkbox \"  aria-label=\"Tools\"  >\\n\\t<label id=\"vector-page-tools-dropdown-label\" for=\"vector-page-tools-dropdown-checkbox\" class=\"vector-dropdown-label cdx-button cdx-button--fake-button cdx-button--fake-button--enabled cdx-button--weight-quiet\" aria-hidden=\"true\"  ><span class=\"vector-dropdown-label-text\">Tools</span>\\n\\t</label>\\n\\t<div class=\"vector-dropdown-content\">\\n\\n\\n\\t\\t\\t\\t\\t\\t\\t\\t\\t<div id=\"vector-page-tools-unpinned-container\" class=\"vector-unpinned-container\">\\n\\t\\t\\t\\t\\t\\t\\n<div id=\"vector-page-tools\" class=\"vector-page-tools vector-pinnable-element\">\\n\\t<div\\n\\tclass=\"vector-pinnable-header vector-page-tools-pinnable-header vector-pinnable-header-unpinned\"\\n\\tdata-feature-name=\"page-tools-pinned\"\\n\\tdata-pinnable-element-id=\"vector-page-tools\"\\n\\tdata-pinned-container-id=\"vector-page-tools-pinned-container\"\\n\\tdata-unpinned-container-id=\"vector-page-tools-unpinned-container\"\\n>\\n\\t<div class=\"vector-pinnable-header-label\">Tools</div>\\n\\t<button class=\"vector-pinnable-header-toggle-button vector-pinnable-header-pin-button\" data-event-name=\"pinnable-header.vector-page-tools.pin\">move to sidebar</button>\\n\\t<button class=\"vector-pinnable-header-toggle-button vector-pinnable-header-unpin-button\" data-event-name=\"pinnable-header.vector-page-tools.unpin\">hide</button>\\n</div>\\n\\n\\t\\n<div id=\"p-cactions\" class=\"vector-menu mw-portlet mw-portlet-cactions emptyPortlet vector-has-collapsible-items\"  title=\"More options\" >\\n\\t<div class=\"vector-menu-heading\">\\n\\t\\tActions\\n\\t</div>\\n\\t<div class=\"vector-menu-content\">\\n\\t\\t\\n\\t\\t<ul class=\"vector-menu-content-list\">\\n\\t\\t\\t\\n\\t\\t\\t<li id=\"ca-more-view\" class=\"selected vector-more-collapsible-item mw-list-item\"><a href=\"/wiki/Pozna%C5%84_University_of_Technology\"><span>Read</span></a></li><li id=\"ca-more-edit\" class=\"vector-more-collapsible-item mw-list-item\"><a href=\"/w/index.php?title=Pozna%C5%84_University_of_Technology&amp;action=edit\" title=\"Edit this page [e]\" accesskey=\"e\"><span>Edit</span></a></li><li id=\"ca-more-history\" class=\"vector-more-collapsible-item mw-list-item\"><a href=\"/w/index.php?title=Pozna%C5%84_University_of_Technology&amp;action=history\"><span>View history</span></a></li>\\n\\t\\t</ul>\\n\\t\\t\\n\\t</div>\\n</div>\\n\\n<div id=\"p-tb\" class=\"vector-menu mw-portlet mw-portlet-tb\"  >\\n\\t<div class=\"vector-menu-heading\">\\n\\t\\tGeneral\\n\\t</div>\\n\\t<div class=\"vector-menu-content\">\\n\\t\\t\\n\\t\\t<ul class=\"vector-menu-content-list\">\\n\\t\\t\\t\\n\\t\\t\\t<li id=\"t-whatlinkshere\" class=\"mw-list-item\"><a href=\"/wiki/Special:WhatLinksHere/Pozna%C5%84_University_of_Technology\" title=\"List of all English Wikipedia pages containing links to this page [j]\" accesskey=\"j\"><span>What links here</span></a></li><li id=\"t-recentchangeslinked\" class=\"mw-list-item\"><a href=\"/wiki/Special:RecentChangesLinked/Pozna%C5%84_University_of_Technology\" rel=\"nofollow\" title=\"Recent changes in pages linked from this page [k]\" accesskey=\"k\"><span>Related changes</span></a></li><li id=\"t-upload\" class=\"mw-list-item\"><a href=\"//en.wikipedia.org/wiki/Wikipedia:File_Upload_Wizard\" title=\"Upload files [u]\" accesskey=\"u\"><span>Upload file</span></a></li><li id=\"t-permalink\" class=\"mw-list-item\"><a href=\"/w/index.php?title=Pozna%C5%84_University_of_Technology&amp;oldid=1308818926\" title=\"Permanent link to this revision of this page\"><span>Permanent link</span></a></li><li id=\"t-info\" class=\"mw-list-item\"><a href=\"/w/index.php?title=Pozna%C5%84_University_of_Technology&amp;action=info\" title=\"More information about this page\"><span>Page information</span></a></li><li id=\"t-cite\" class=\"mw-list-item\"><a href=\"/w/index.php?title=Special:CiteThisPage&amp;page=Pozna%C5%84_University_of_Technology&amp;id=1308818926&amp;wpFormIdentifier=titleform\" title=\"Information on how to cite this page\"><span>Cite this page</span></a></li><li id=\"t-urlshortener\" class=\"mw-list-item\"><a href=\"/w/index.php?title=Special:UrlShortener&amp;url=https%3A%2F%2Fen.wikipedia.org%2Fwiki%2FPozna%25C5%2584_University_of_Technology\"><span>Get shortened URL</span></a></li><li id=\"t-urlshortener-qrcode\" class=\"mw-list-item\"><a href=\"/w/index.php?title=Special:QrCode&amp;url=https%3A%2F%2Fen.wikipedia.org%2Fwiki%2FPozna%25C5%2584_University_of_Technology\"><span>Download QR code</span></a></li>\\n\\t\\t</ul>\\n\\t\\t\\n\\t</div>\\n</div>\\n\\n<div id=\"p-coll-print_export\" class=\"vector-menu mw-portlet mw-portlet-coll-print_export\"  >\\n\\t<div class=\"vector-menu-heading\">\\n\\t\\tPrint/export\\n\\t</div>\\n\\t<div class=\"vector-menu-content\">\\n\\t\\t\\n\\t\\t<ul class=\"vector-menu-content-list\">\\n\\t\\t\\t\\n\\t\\t\\t<li id=\"coll-download-as-rl\" class=\"mw-list-item\"><a href=\"/w/index.php?title=Special:DownloadAsPdf&amp;page=Pozna%C5%84_University_of_Technology&amp;action=show-download-screen\" title=\"Download this page as a PDF file\"><span>Download as PDF</span></a></li><li id=\"t-print\" class=\"mw-list-item\"><a href=\"/w/index.php?title=Pozna%C5%84_University_of_Technology&amp;printable=yes\" title=\"Printable version of this page [p]\" accesskey=\"p\"><span>Printable version</span></a></li>\\n\\t\\t</ul>\\n\\t\\t\\n\\t</div>\\n</div>\\n\\n<div id=\"p-wikibase-otherprojects\" class=\"vector-menu mw-portlet mw-portlet-wikibase-otherprojects\"  >\\n\\t<div class=\"vector-menu-heading\">\\n\\t\\tIn other projects\\n\\t</div>\\n\\t<div class=\"vector-menu-content\">\\n\\t\\t\\n\\t\\t<ul class=\"vector-menu-content-list\">\\n\\t\\t\\t\\n\\t\\t\\t<li class=\"wb-otherproject-link wb-otherproject-commons mw-list-item\"><a href=\"https://commons.wikimedia.org/wiki/Category:Pozna%C5%84_University_of_Technology\" hreflang=\"en\"><span>Wikimedia Commons</span></a></li><li id=\"t-wikibase\" class=\"wb-otherproject-link wb-otherproject-wikibase-dataitem mw-list-item\"><a href=\"https://www.wikidata.org/wiki/Special:EntityPage/Q1678753\" title=\"Structured data on this page hosted by Wikidata [g]\" accesskey=\"g\"><span>Wikidata item</span></a></li>\\n\\t\\t</ul>\\n\\t\\t\\n\\t</div>\\n</div>\\n\\n</div>\\n\\n\\t\\t\\t\\t\\t\\t\\t\\t\\t</div>\\n\\t\\t\\t\\t\\n\\t</div>\\n</div>\\n\\n\\t\\t\\t\\t\\t\\t\\t</nav>\\n\\t\\t\\t\\t\\t\\t</div>\\n\\t\\t\\t\\t\\t</div>\\n\\t\\t\\t\\t</div>\\n\\t\\t\\t\\t<div class=\"vector-column-end no-font-mode-scale\">\\n\\t\\t\\t\\t\\t<div class=\"vector-sticky-pinned-container\">\\n\\t\\t\\t\\t\\t\\t<nav class=\"vector-page-tools-landmark\" aria-label=\"Page tools\">\\n\\t\\t\\t\\t\\t\\t\\t<div id=\"vector-page-tools-pinned-container\" class=\"vector-pinned-container\">\\n\\t\\t\\t\\t\\n\\t\\t\\t\\t\\t\\t\\t</div>\\n\\t\\t</nav>\\n\\t\\t\\t\\t\\t\\t<nav class=\"vector-appearance-landmark\" aria-label=\"Appearance\">\\n\\t\\t\\t\\t\\t\\t\\t<div id=\"vector-appearance-pinned-container\" class=\"vector-pinned-container\">\\n\\t\\t\\t\\t<div id=\"vector-appearance\" class=\"vector-appearance vector-pinnable-element\">\\n\\t<div\\n\\tclass=\"vector-pinnable-header vector-appearance-pinnable-header vector-pinnable-header-pinned\"\\n\\tdata-feature-name=\"appearance-pinned\"\\n\\tdata-pinnable-element-id=\"vector-appearance\"\\n\\tdata-pinned-container-id=\"vector-appearance-pinned-container\"\\n\\tdata-unpinned-container-id=\"vector-appearance-unpinned-container\"\\n>\\n\\t<div class=\"vector-pinnable-header-label\">Appearance</div>\\n\\t<button class=\"vector-pinnable-header-toggle-button vector-pinnable-header-pin-button\" data-event-name=\"pinnable-header.vector-appearance.pin\">move to sidebar</button>\\n\\t<button class=\"vector-pinnable-header-toggle-button vector-pinnable-header-unpin-button\" data-event-name=\"pinnable-header.vector-appearance.unpin\">hide</button>\\n</div>\\n\\n\\n</div>\\n\\n\\t\\t\\t\\t\\t\\t\\t</div>\\n\\t\\t</nav>\\n\\t\\t\\t\\t\\t</div>\\n\\t\\t\\t\\t</div>\\n\\t\\t\\t\\t<div id=\"bodyContent\" class=\"vector-body\" aria-labelledby=\"firstHeading\" data-mw-ve-target-container>\\n\\t\\t\\t\\t\\t<div class=\"vector-body-before-content\">\\n\\t\\t\\t\\t\\t\\t\\t<div class=\"mw-indicators\">\\n\\t\\t<div id=\"mw-indicator-coordinates\" class=\"mw-indicator\"><div class=\"mw-parser-output\"><span id=\"coordinates\"><a href=\"/wiki/Geographic_coordinate_system\" title=\"Geographic coordinate system\">Coordinates</a>: <style data-mw-deduplicate=\"TemplateStyles:r1156832818\">.mw-parser-output .geo-default,.mw-parser-output .geo-dms,.mw-parser-output .geo-dec{display:inline}.mw-parser-output .geo-nondefault,.mw-parser-output .geo-multi-punct,.mw-parser-output .geo-inline-hidden{display:none}.mw-parser-output .longitude,.mw-parser-output .latitude{white-space:nowrap}</style><span class=\"plainlinks nourlexpansion\"><a class=\"external text\" href=\"https://geohack.toolforge.org/geohack.php?pagename=Pozna%C5%84_University_of_Technology&amp;params=52.3942_N_16.9183_E_source:kolossus-plwiki\"><span class=\"geo-nondefault\"><span class=\"geo-dms\" title=\"Maps, aerial photos, and other data for this location\"><span class=\"latitude\">52°23′39″N</span> <span class=\"longitude\">16°55′06″E</span></span></span><span class=\"geo-multi-punct\">&#xfeff; / &#xfeff;</span><span class=\"geo-default\"><span class=\"geo-dec\" title=\"Maps, aerial photos, and other data for this location\">52.3942°N 16.9183°E</span><span style=\"display:none\">&#xfeff; / <span class=\"geo\">52.3942; 16.9183</span></span></span></a></span></span></div></div>\\n\\t\\t</div>\\n\\n\\t\\t\\t\\t\\t\\t<div id=\"siteSub\" class=\"noprint\">From Wikipedia, the free encyclopedia</div>\\n\\t\\t\\t\\t\\t</div>\\n\\t\\t\\t\\t\\t<div id=\"contentSub\"><div id=\"mw-content-subtitle\"></div></div>\\n\\t\\t\\t\\t\\t\\n\\t\\t\\t\\t\\t\\n\\t\\t\\t\\t\\t<div id=\"mw-content-text\" class=\"mw-body-content\"><div class=\"mw-content-ltr mw-parser-output\" lang=\"en\" dir=\"ltr\"><div class=\"shortdescription nomobile noexcerpt noprint searchaux\" style=\"display:none\">Technical university in Poznań, Poland</div>\\n<p class=\"mw-empty-elt\">\\n</p>\\n<style data-mw-deduplicate=\"TemplateStyles:r1305433154\">.mw-parser-output .ambox{border:1px solid #a2a9b1;border-left:10px solid #36c;background-color:#fbfbfb;box-sizing:border-box}.mw-parser-output .ambox+link+.ambox,.mw-parser-output .ambox+link+style+.ambox,.mw-parser-output .ambox+link+link+.ambox,.mw-parser-output .ambox+.mw-empty-elt+link+.ambox,.mw-parser-output .ambox+.mw-empty-elt+link+style+.ambox,.mw-parser-output .ambox+.mw-empty-elt+link+link+.ambox{margin-top:-1px}html body.mediawiki .mw-parser-output .ambox.mbox-small-left{margin:4px 1em 4px 0;overflow:hidden;width:238px;border-collapse:collapse;font-size:88%;line-height:1.25em}.mw-parser-output .ambox-speedy{border-left:10px solid #b32424;background-color:#fee7e6}.mw-parser-output .ambox-delete{border-left:10px solid #b32424}.mw-parser-output .ambox-content{border-left:10px solid #f28500}.mw-parser-output .ambox-style{border-left:10px solid #fc3}.mw-parser-output .ambox-move{border-left:10px solid #9932cc}.mw-parser-output .ambox-protection{border-left:10px solid #a2a9b1}.mw-parser-output .ambox .mbox-text{border:none;padding:0.25em 0.5em;width:100%}.mw-parser-output .ambox .mbox-image{border:none;padding:2px 0 2px 0.5em;text-align:center}.mw-parser-output .ambox .mbox-imageright{border:none;padding:2px 0.5em 2px 0;text-align:center}.mw-parser-output .ambox .mbox-empty-cell{border:none;padding:0;width:1px}.mw-parser-output .ambox .mbox-image-div{width:52px}@media(min-width:720px){.mw-parser-output .ambox{margin:0 10%}}@media print{body.ns-0 .mw-parser-output .ambox{display:none!important}}</style><table class=\"box-More&#95;citations&#95;needed plainlinks metadata ambox ambox-content ambox-Refimprove\" role=\"presentation\"><tbody><tr><td class=\"mbox-image\"><div class=\"mbox-image-div\"><span typeof=\"mw:File\"><a href=\"/wiki/File:Question_book-new.svg\" class=\"mw-file-description\"><img alt=\"\" src=\"//upload.wikimedia.org/wikipedia/en/thumb/9/99/Question_book-new.svg/60px-Question_book-new.svg.png\" decoding=\"async\" width=\"50\" height=\"39\" class=\"mw-file-element\" srcset=\"//upload.wikimedia.org/wikipedia/en/thumb/9/99/Question_book-new.svg/120px-Question_book-new.svg.png 1.5x\" data-file-width=\"512\" data-file-height=\"399\" /></a></span></div></td><td class=\"mbox-text\"><div class=\"mbox-text-span\">This article <b>needs additional citations for <a href=\"/wiki/Wikipedia:Verifiability\" title=\"Wikipedia:Verifiability\">verification</a></b>.<span class=\"hide-when-compact\"> Please help <a href=\"/wiki/Special:EditPage/Pozna%C5%84_University_of_Technology\" title=\"Special:EditPage/Poznań University of Technology\">improve this article</a> by <a href=\"/wiki/Help:Referencing_for_beginners\" title=\"Help:Referencing for beginners\">adding citations to reliable sources</a>. Unsourced material may be challenged and removed.<br /><small><span class=\"plainlinks\"><i>Find sources:</i>&#160;<a rel=\"nofollow\" class=\"external text\" href=\"https://www.google.com/search?as_eq=wikipedia&amp;q=%22Pozna%C5%84+University+of+Technology%22\">\"Poznań University of Technology\"</a>&#160;–&#160;<a rel=\"nofollow\" class=\"external text\" href=\"https://www.google.com/search?tbm=nws&amp;q=%22Pozna%C5%84+University+of+Technology%22+-wikipedia&amp;tbs=ar:1\">news</a>&#160;<b>·</b> <a rel=\"nofollow\" class=\"external text\" href=\"https://www.google.com/search?&amp;q=%22Pozna%C5%84+University+of+Technology%22&amp;tbs=bkt:s&amp;tbm=bks\">newspapers</a>&#160;<b>·</b> <a rel=\"nofollow\" class=\"external text\" href=\"https://www.google.com/search?tbs=bks:1&amp;q=%22Pozna%C5%84+University+of+Technology%22+-wikipedia\">books</a>&#160;<b>·</b> <a rel=\"nofollow\" class=\"external text\" href=\"https://scholar.google.com/scholar?q=%22Pozna%C5%84+University+of+Technology%22\">scholar</a>&#160;<b>·</b> <a rel=\"nofollow\" class=\"external text\" href=\"https://www.jstor.org/action/doBasicSearch?Query=%22Pozna%C5%84+University+of+Technology%22&amp;acc=on&amp;wc=on\">JSTOR</a></span></small></span>  <span class=\"date-container\"><i>(<span class=\"date\">August 2015</span>)</i></span><span class=\"hide-when-compact\"><i> (<small><a href=\"/wiki/Help:Maintenance_template_removal\" title=\"Help:Maintenance template removal\">Learn how and when to remove this message</a></small>)</i></span></div></td></tr></tbody></table>\\n<style data-mw-deduplicate=\"TemplateStyles:r1316064257\">.mw-parser-output .infobox-subbox{padding:0;border:none;margin:-3px;width:auto;min-width:100%;font-size:100%;clear:none;float:none;background-color:transparent;color:inherit}.mw-parser-output .infobox-3cols-child{margin:-3px}.mw-parser-output .infobox .navbar{font-size:100%}@media screen{html.skin-theme-clientpref-night .mw-parser-output .infobox-full-data:not(.notheme)>div:not(.notheme)[style]{background:#1f1f23!important;color:#f8f9fa}}@media screen and (prefers-color-scheme:dark){html.skin-theme-clientpref-os .mw-parser-output .infobox-full-data:not(.notheme)>div:not(.notheme)[style]{background:#1f1f23!important;color:#f8f9fa}}@media(min-width:640px){body.skin--responsive .mw-parser-output .infobox-table{display:table!important}body.skin--responsive .mw-parser-output .infobox-table>caption{display:table-caption!important}body.skin--responsive .mw-parser-output .infobox-table>tbody{display:table-row-group}body.skin--responsive .mw-parser-output .infobox-table th,body.skin--responsive .mw-parser-output .infobox-table td{padding-left:inherit;padding-right:inherit}}</style><table class=\"infobox vcard\"><caption class=\"infobox-title fn org\">Poznań University of Technology</caption><tbody><tr><td colspan=\"2\" class=\"infobox-subheader\"><div class=\"nickname\">Politechnika Poznańska</div></td></tr><tr><td colspan=\"2\" class=\"infobox-full-data nickname\"><a href=\"/wiki/Latin_language\" class=\"mw-redirect\" title=\"Latin language\">Latin</a>: <i lang=\"la\">Polytechnica Posnaniensis</i></td></tr><tr><th scope=\"row\" class=\"infobox-label\" style=\"padding-right:0.65em;\">Motto</th><td class=\"infobox-data\"><i>Technologies in a positive climate</i></td></tr><tr><th scope=\"row\" class=\"infobox-label\" style=\"padding-right:0.65em;\">Type</th><td class=\"infobox-data\"><a href=\"/wiki/Public_university\" title=\"Public university\">Public</a></td></tr><tr><th scope=\"row\" class=\"infobox-label\" style=\"padding-right:0.65em;\">Established</th><td class=\"infobox-data\">1955 (1919)</td></tr><tr><th scope=\"row\" class=\"infobox-label\" style=\"padding-right:0.65em;\"><a href=\"/wiki/Rector_(academia)\" title=\"Rector (academia)\">Rector</a></th><td class=\"infobox-data\">PhD, Prof. Teofil Jesionowski</td></tr><tr><th scope=\"row\" class=\"infobox-label\" style=\"padding-right:0.65em;\">Students</th><td class=\"infobox-data\">14,138<sup id=\"cite&#95;ref-1\" class=\"reference\"><a href=\"#cite_note-1\"><span class=\"cite-bracket\">&#91;</span>1<span class=\"cite-bracket\">&#93;</span></a></sup> <small>(12.2023)</small></td></tr><tr><th scope=\"row\" class=\"infobox-label\" style=\"padding-right:0.65em;\">Address</th><td class=\"infobox-data adr\"><div style=\"display:inline\" class=\"street-address\">pl. Marii Skłodowskiej-Curie 5<br />60-965 Poznań</div>, <div style=\"display:inline\" class=\"locality\"><a href=\"/wiki/Pozna%C5%84\" title=\"Poznań\">Poznań</a></div>, <div style=\"display:inline\" class=\"state\"><a href=\"/wiki/Greater_Poland_Voivodeship\" title=\"Greater Poland Voivodeship\">Greater Poland Voivodeship</a></div>, <div style=\"display:inline\" class=\"country-name\"><a href=\"/wiki/Poland\" title=\"Poland\">Poland</a></div></td></tr><tr><th scope=\"row\" class=\"infobox-label\" style=\"padding-right:0.65em;\">Campus</th><td class=\"infobox-data\">Piotrowo, Nieszawska</td></tr><tr><th scope=\"row\" class=\"infobox-label\" style=\"padding-right:0.65em;\">Affiliations</th><td class=\"infobox-data\"><a href=\"/wiki/Conference_of_European_Schools_for_Advanced_Engineering_Education_and_Research\" class=\"mw-redirect\" title=\"Conference of European Schools for Advanced Engineering Education and Research\">CESAER</a>, <a href=\"/wiki/Socrates-Erasmus\" class=\"mw-redirect\" title=\"Socrates-Erasmus\">ERASMUS</a>, <a href=\"/wiki/European_University_Association\" title=\"European University Association\">EUA</a>, <a href=\"/wiki/EAIE\" class=\"mw-redirect\" title=\"EAIE\">EAIE</a>, <a href=\"/wiki/European_Society_for_Engineering_Education\" title=\"European Society for Engineering Education\">SEFI</a>,LEONET</td></tr><tr><th scope=\"row\" class=\"infobox-label\" style=\"padding-right:0.65em;\">Website</th><td class=\"infobox-data\"><span class=\"url\"><a rel=\"nofollow\" class=\"external text\" href=\"http://put.poznan.pl\">put<wbr />.poznan<wbr />.pl</a></span></td></tr><tr><td colspan=\"2\" class=\"infobox-full-data\"><a class=\"mw-kartographer-map notheme mw-kartographer-container center\" style=\"width: 270px; height: 200px;\" data-mw-kartographer=\"mapframe\" data-style=\"osm-intl\" data-width=\"270\" data-height=\"200\" data-zoom=\"13\" data-overlays=\"[&quot;_a20a830a9c4273f20ad80c6495aebc77bc082cc4&quot;]\"><img src=\"https://maps.wikimedia.org/img/osm-intl,13,a,a,270x200.png?lang=en&amp;domain=en.wikipedia.org&amp;title=Pozna%C5%84_University_of_Technology&amp;revid=1308818926&amp;groups=_a20a830a9c4273f20ad80c6495aebc77bc082cc4\" width=\"270\" height=\"200\" decoding=\"async\" srcset=\"https://maps.wikimedia.org/img/osm-intl,13,a,a,270x200@2x.png?lang=en&amp;domain=en.wikipedia.org&amp;title=Pozna%C5%84_University_of_Technology&amp;revid=1308818926&amp;groups=_a20a830a9c4273f20ad80c6495aebc77bc082cc4 2x\" alt=\"Map\" /></a></td></tr></tbody></table>\\n<link rel=\"mw-deduplicated-inline-style\" href=\"mw-data:TemplateStyles:r1316064257\" /><table class=\"infobox vcard\"><tbody><tr><th colspan=\"2\" class=\"infobox-above\"><span class=\"fn\"><a href=\"/wiki/College_and_university_rankings\" title=\"College and university rankings\">University rankings</a></span></th></tr><tr><th colspan=\"2\" class=\"infobox-header\" style=\"background:lavender; color:inherit;\"><link rel=\"mw-deduplicated-inline-style\" href=\"mw-data:TemplateStyles:r1316064257\" />Regional – Overall</th></tr><tr><th scope=\"row\" class=\"infobox-label\"><i><a href=\"/wiki/QS_World_University_Rankings\" title=\"QS World University Rankings\">QS</a></i> Emerging Europe and Central Asia<sup id=\"cite&#95;ref-QS&#95;World&#95;University&#95;Rankings&#95;2022&#95;2-0\" class=\"reference\"><a href=\"#cite_note-QS_World_University_Rankings_2022-2\"><span class=\"cite-bracket\">&#91;</span>2<span class=\"cite-bracket\">&#93;</span></a></sup></th><td class=\"infobox-data\" style=\"width:35%;text-align:right\">85 (2022)</td></tr><tr style=\"display:none\"><th colspan=\"2\">\\n</th></tr></tbody></table>\\n<figure class=\"mw-default-size mw-halign-right\" typeof=\"mw:File/Thumb\"><a href=\"/wiki/File:Rektorat_Politechniki_Pozna%C5%84skiej_04.JPG\" class=\"mw-file-description\"><img src=\"//upload.wikimedia.org/wikipedia/commons/thumb/2/2e/Rektorat_Politechniki_Pozna%C5%84skiej_04.JPG/250px-Rektorat_Politechniki_Pozna%C5%84skiej_04.JPG\" decoding=\"async\" width=\"250\" height=\"350\" class=\"mw-file-element\" srcset=\"//upload.wikimedia.org/wikipedia/commons/thumb/2/2e/Rektorat_Politechniki_Pozna%C5%84skiej_04.JPG/500px-Rektorat_Politechniki_Pozna%C5%84skiej_04.JPG 1.5x\" data-file-width=\"2866\" data-file-height=\"4016\" /></a><figcaption>Rector\\'s Office</figcaption></figure>\\n<figure class=\"mw-default-size\" typeof=\"mw:File/Thumb\"><a href=\"/wiki/File:Wydzial_Technologii_Chemicznych_Politechnika_Poznanska,_Berdychowo_(5).JPG\" class=\"mw-file-description\"><img src=\"//upload.wikimedia.org/wikipedia/commons/thumb/6/6e/Wydzial_Technologii_Chemicznych_Politechnika_Poznanska%2C_Berdychowo_%285%29.JPG/250px-Wydzial_Technologii_Chemicznych_Politechnika_Poznanska%2C_Berdychowo_%285%29.JPG\" decoding=\"async\" width=\"250\" height=\"188\" class=\"mw-file-element\" srcset=\"//upload.wikimedia.org/wikipedia/commons/thumb/6/6e/Wydzial_Technologii_Chemicznych_Politechnika_Poznanska%2C_Berdychowo_%285%29.JPG/500px-Wydzial_Technologii_Chemicznych_Politechnika_Poznanska%2C_Berdychowo_%285%29.JPG 1.5x\" data-file-width=\"3648\" data-file-height=\"2736\" /></a><figcaption>Faculty of Chemical Technology</figcaption></figure>\\n<p><b>Poznań University of Technology</b>, <b>PUT</b> (<a href=\"/wiki/Polish_language\" title=\"Polish language\">Polish</a>: <i lang=\"pl\">Politechnika Poznańska</i>) is a university in <a href=\"/wiki/Pozna%C5%84\" title=\"Poznań\">Poznań</a>, Poland.<sup id=\"cite&#95;ref-3\" class=\"reference\"><a href=\"#cite_note-3\"><span class=\"cite-bracket\">&#91;</span>3<span class=\"cite-bracket\">&#93;</span></a></sup> Poznań University of Technology is known as one of the best <a href=\"/wiki/Technical_university\" class=\"mw-redirect\" title=\"Technical university\">technical universities</a> in Poland. <a href=\"/wiki/University_Ranking_by_Academic_Performance\" title=\"University Ranking by Academic Performance\">URAP</a> ranked PUT among the top 6% of world universities and <a href=\"/wiki/Webometrics\" title=\"Webometrics\">Webometrics</a> ranked it at no. 842 in the world by Google citations for the year 2015. In 1995, it became the first <a href=\"/wiki/Universities_in_Poland\" class=\"mw-redirect\" title=\"Universities in Poland\">Polish university</a> to become a member of the <a href=\"/wiki/Conference_of_European_Schools_for_Advanced_Engineering_Education_and_Research\" class=\"mw-redirect\" title=\"Conference of European Schools for Advanced Engineering Education and Research\">Conference of European Schools for Advanced Engineering Education and Research</a> (CESAER), an organization comprising the best technical universities in Europe. The university is also a member of the <a href=\"/wiki/Socrates-Erasmus\" class=\"mw-redirect\" title=\"Socrates-Erasmus\">Socrates-Erasmus</a> programme for <a href=\"/wiki/Exchange_student\" class=\"mw-redirect\" title=\"Exchange student\">exchange students</a> from all over Europe, promoting advanced engineering and a European dimension. The university is home to many organizations and student circles, and the radio station Afera 98.6&#160;MHz. The university has over 21,000 students and over 1,100 academic staff.\\n</p>\\n<meta property=\"mw:PageProp/toc\" />\\n<div class=\"mw-heading mw-heading2\"><h2 id=\"Faculties\">Faculties</h2><span class=\"mw-editsection\"><span class=\"mw-editsection-bracket\">[</span><a href=\"/w/index.php?title=Pozna%C5%84_University_of_Technology&amp;action=edit&amp;section=1\" title=\"Edit section: Faculties\"><span>edit</span></a><span class=\"mw-editsection-bracket\">]</span></span></div>\\n<p>There are nine faculties (since 2020):\\n</p>\\n<ul><li><i><a href=\"/wiki/Faculty_of_Architecture_Pozna%C5%84_University_of_Technology\" title=\"Faculty of Architecture Poznań University of Technology\">Architecture</a></i></li>\\n<li>Automatic Control, Robotics and Electrical Engineering</li>\\n<li>Chemical Technology</li>\\n<li>Computing and Telecommunications</li>\\n<li>Civil and Transport Engineering</li>\\n<li>Materials Engineering and Technical Physics</li>\\n<li>Mechanical Engineering</li>\\n<li>Environmental Engineering and Energy</li>\\n<li>Engineering Management</li></ul>\\n<div class=\"mw-heading mw-heading2\"><h2 id=\"History\">History</h2><span class=\"mw-editsection\"><span class=\"mw-editsection-bracket\">[</span><a href=\"/w/index.php?title=Pozna%C5%84_University_of_Technology&amp;action=edit&amp;section=2\" title=\"Edit section: History\"><span>edit</span></a><span class=\"mw-editsection-bracket\">]</span></span></div>\\n<p>Poznan University of Technology (PUT) was officially founded in 1955 and the first <a href=\"/wiki/Rector_(academia)\" title=\"Rector (academia)\">rector</a> was Roman Kozak. But a state school had existed in <a href=\"/wiki/Pozna%C5%84\" title=\"Poznań\">Poznań</a> since 1919, named the Higher State School of Machinery. After adding a second department in 1929, its name was changed to the Higher State School of Machinery and Electrotechnics. It was supposed to become the University of Technology in 1940, but its development was interrupted by <a href=\"/wiki/World_War_II\" title=\"World War II\">World War II</a>. In 1945 the school received the status of Higher Engineering School and in 1955 it became the University of Technology.\\n</p><p>In 1999 PUT celebrated the 80th anniversary of the higher educational technical system in Poznan. It continues traditions of the State Higher School of Mechanical Engineering, which was opened in August 1919. The school remained open at the outbreak of the Second World War, during which time 716 graduates had completed their studies there. It was allocated in a building nowadays situated at <a href=\"/wiki/Marie_Curie\" title=\"Marie Curie\">Marie Skłodowska-Curie</a> Square, today the Rector\\'s Office. In 1929, the school changed its name to the State Higher School of Mechanical and <a href=\"/wiki/Electrical_Engineering\" class=\"mw-redirect\" title=\"Electrical Engineering\">Electrical Engineering</a>. As a result of further development, the Higher School was to be given the status of a university in 1940. Unfortunately, this did not occur during the war period. In September 1945, the school received the title High School of Engineering and after ten years became Poznan University of Technology.\\n</p><p>PUT is at present autonomous state institution consisting of nine faculties in which institutes and chairs over one thousand academic staff members do research and run educational tasks for over fourteen thousand students of full -time and part-time studies. PUT has been granted the right to confer doctorates in technical science. Moreover, it runs <a href=\"/wiki/Postgraduate_studies\" class=\"mw-redirect\" title=\"Postgraduate studies\">postgraduate studies</a> within different faculties.\\n</p><p>In 1995 PUT, as the first Polish University of Technology, became a member of the <a href=\"/wiki/Conference_of_European_Schools_for_Advanced_Engineering_Education_and_Research\" class=\"mw-redirect\" title=\"Conference of European Schools for Advanced Engineering Education and Research\">Conference of European Schools for Advanced Engineering Education and Research</a> – CESAER-bringing together the best European Engineering Colleges and Universities of Technology. In 1999 PUT was the host organization of the IX CESAER Conference.\\n</p><p>In the academic year 1999 / 2000 <a href=\"/wiki/European_Credit_Transfer_System\" class=\"mw-redirect\" title=\"European Credit Transfer System\">European Credit Transfer System</a> –ECTS-was introduced at the PUT.\\n</p><p>From the academic year 2006/2007, Poznan University of Technology also conducts its existing doctoral studies as third-cycle studies.<sup id=\"cite&#95;ref-4\" class=\"reference\"><a href=\"#cite_note-4\"><span class=\"cite-bracket\">&#91;</span>4<span class=\"cite-bracket\">&#93;</span></a></sup>\\n</p>\\n<div class=\"mw-heading mw-heading2\"><h2 id=\"Successes\">Successes</h2><span class=\"mw-editsection\"><span class=\"mw-editsection-bracket\">[</span><a href=\"/w/index.php?title=Pozna%C5%84_University_of_Technology&amp;action=edit&amp;section=3\" title=\"Edit section: Successes\"><span>edit</span></a><span class=\"mw-editsection-bracket\">]</span></span></div>\\n<p>Students from the Faculty of <a href=\"/wiki/Computer_Science\" class=\"mw-redirect\" title=\"Computer Science\">Computer Science</a> started few times in CSIDC computer systems projecting world championships organised by <a href=\"/wiki/Institute_of_Electrical_and_Electronics_Engineers\" title=\"Institute of Electrical and Electronics Engineers\">Institute of Electrical and Electronics Engineers</a> (IEEE) Computer Society and ImagineCup (Microsoft). Four different teams in 2001–2006 managed by Doctor of Engineering Jan Kniat were three-time world champions. Many graduates from Computer science and Management faculty work in Microsoft corporation in <a href=\"/wiki/Redmond,_Washington\" title=\"Redmond, Washington\">Redmond, Washington</a>, US. PUT is a member of <a href=\"/wiki/CESAER_Association\" class=\"mw-redirect\" title=\"CESAER Association\">CESAER Association</a> and was the first Polish technical university to receive membership of that organisation.\\n</p>\\n<div class=\"mw-heading mw-heading2\"><h2 id=\"Notable_alumni\">Notable alumni</h2><span class=\"mw-editsection\"><span class=\"mw-editsection-bracket\">[</span><a href=\"/w/index.php?title=Pozna%C5%84_University_of_Technology&amp;action=edit&amp;section=4\" title=\"Edit section: Notable alumni\"><span>edit</span></a><span class=\"mw-editsection-bracket\">]</span></span></div>\\n<style data-mw-deduplicate=\"TemplateStyles:r1236090951\">.mw-parser-output .hatnote{font-style:italic}.mw-parser-output div.hatnote{padding-left:1.6em;margin-bottom:0.5em}.mw-parser-output .hatnote i{font-style:normal}.mw-parser-output .hatnote+link+.hatnote{margin-top:-0.5em}@media print{body.ns-0 .mw-parser-output .hatnote{display:none!important}}</style><div role=\"note\" class=\"hatnote navigation-not-searchable selfref\">See also: <a href=\"/wiki/Category:Pozna%C5%84_University_of_Technology_alumni\" title=\"Category:Poznań University of Technology alumni\">Category:Poznań University of Technology alumni</a></div><figure class=\"mw-default-size\" typeof=\"mw:File/Thumb\"><a href=\"/wiki/File:2005063030_(Politechnika_Pozna%C5%84ska,_Centrum_Wyk%C5%82adowo-Konferencyjne).png\" class=\"mw-file-description\"><img src=\"//upload.wikimedia.org/wikipedia/commons/thumb/d/dd/2005063030_%28Politechnika_Pozna%C5%84ska%2C_Centrum_Wyk%C5%82adowo-Konferencyjne%29.png/250px-2005063030_%28Politechnika_Pozna%C5%84ska%2C_Centrum_Wyk%C5%82adowo-Konferencyjne%29.png\" decoding=\"async\" width=\"250\" height=\"167\" class=\"mw-file-element\" srcset=\"//upload.wikimedia.org/wikipedia/commons/thumb/d/dd/2005063030_%28Politechnika_Pozna%C5%84ska%2C_Centrum_Wyk%C5%82adowo-Konferencyjne%29.png/500px-2005063030_%28Politechnika_Pozna%C5%84ska%2C_Centrum_Wyk%C5%82adowo-Konferencyjne%29.png 1.5x\" data-file-width=\"600\" data-file-height=\"400\" /></a><figcaption>Conference Hall of the Poznań University of Technology</figcaption></figure>\\n<ul><li><a href=\"/wiki/Pawe%C5%82_Arndt\" title=\"Paweł Arndt\">Paweł Arndt</a> (b. 1954), politician</li>\\n<li><a href=\"/wiki/Jacek_B%C5%82a%C5%BCewicz\" title=\"Jacek Błażewicz\">Jacek Błażewicz</a> (b. 1951), <a href=\"/wiki/Computer_scientist\" title=\"Computer scientist\">computer scientist</a></li>\\n<li><a href=\"/wiki/Janusz_Centka\" title=\"Janusz Centka\">Janusz Centka</a> (b. 1950), glider pilot, winner of three <a href=\"/wiki/World_Gliding_Championships\" title=\"World Gliding Championships\">World Gliding Championships</a></li>\\n<li><a href=\"/wiki/Witold_Czarnecki\" title=\"Witold Czarnecki\">Witold Czarnecki</a> (b. 1953), politician</li>\\n<li><a href=\"/wiki/Aleksander_Doba\" title=\"Aleksander Doba\">Aleksander Doba</a> (b. 1946), explorer, traveller</li>\\n<li><a href=\"/wiki/Waldy_Dzikowski\" title=\"Waldy Dzikowski\">Waldy Dzikowski</a> (b. 1959), politician</li>\\n<li><a href=\"/wiki/Andrzej_Jajszczyk\" title=\"Andrzej Jajszczyk\">Andrzej Jajszczyk</a> (b. 1952), scientist, academic</li>\\n<li><a href=\"/wiki/Fiann_Paul\" title=\"Fiann Paul\">Fiann Paul</a> (b. 1980), ocean rower</li>\\n<li><a href=\"/wiki/Roman_S%C5%82owi%C5%84ski\" title=\"Roman Słowiński\">Roman Słowiński</a> (b. 1952), computer scientist, academic</li>\\n<li><a href=\"/wiki/Piotr_Szczerek\" class=\"mw-redirect\" title=\"Piotr Szczerek\">Piotr Szczerek</a> (born 1975), entrepreneur, CEO of the Drogbruk paving company</li>\\n<li><a href=\"/wiki/Jan_W%C4%99glarz\" title=\"Jan Węglarz\">Jan Węglarz</a> (b. 1947), computer scientist</li></ul>\\n<div class=\"mw-heading mw-heading2\"><h2 id=\"List_of_rectors\">List of rectors</h2><span class=\"mw-editsection\"><span class=\"mw-editsection-bracket\">[</span><a href=\"/w/index.php?title=Pozna%C5%84_University_of_Technology&amp;action=edit&amp;section=5\" title=\"Edit section: List of rectors\"><span>edit</span></a><span class=\"mw-editsection-bracket\">]</span></span></div>\\n<figure class=\"mw-default-size\" typeof=\"mw:File/Thumb\"><a href=\"/wiki/File:Politechnika_Pozna%C5%84ska-1.jpg\" class=\"mw-file-description\"><img src=\"//upload.wikimedia.org/wikipedia/commons/thumb/a/a2/Politechnika_Pozna%C5%84ska-1.jpg/250px-Politechnika_Pozna%C5%84ska-1.jpg\" decoding=\"async\" width=\"250\" height=\"188\" class=\"mw-file-element\" srcset=\"//upload.wikimedia.org/wikipedia/commons/thumb/a/a2/Politechnika_Pozna%C5%84ska-1.jpg/500px-Politechnika_Pozna%C5%84ska-1.jpg 1.5x\" data-file-width=\"2592\" data-file-height=\"1944\" /></a><figcaption>Poznań University of Technology PUT-1</figcaption></figure>\\n<ul><li><a href=\"/w/index.php?title=Roman_Kozak_(rector)&amp;action=edit&amp;redlink=1\" class=\"new\" title=\"Roman Kozak (rector) (page does not exist)\">Roman Kozak</a> (1955–1962)</li>\\n<li><a href=\"/w/index.php?title=Zbigniew_Jasicki&amp;action=edit&amp;redlink=1\" class=\"new\" title=\"Zbigniew Jasicki (page does not exist)\">Zbigniew Jasicki</a> (1962–1969)</li>\\n<li><a href=\"/w/index.php?title=Wiktor_Jankowski&amp;action=edit&amp;redlink=1\" class=\"new\" title=\"Wiktor Jankowski (page does not exist)\">Wiktor Jankowski</a> (1969–1972)</li>\\n<li><a href=\"/w/index.php?title=Boles%C5%82aw_Wojciechowicz&amp;action=edit&amp;redlink=1\" class=\"new\" title=\"Bolesław Wojciechowicz (page does not exist)\">Bolesław Wojciechowicz</a> (1972–1981)</li>\\n<li><a href=\"/w/index.php?title=Edmund_Tuliszka&amp;action=edit&amp;redlink=1\" class=\"new\" title=\"Edmund Tuliszka (page does not exist)\">Edmund Tuliszka</a> (1981–1982)</li>\\n<li><a href=\"/w/index.php?title=Czes%C5%82aw_Kr%C3%B3likowski&amp;action=edit&amp;redlink=1\" class=\"new\" title=\"Czesław Królikowski (page does not exist)\">Czesław Królikowski</a> (1982–1983)</li>\\n<li><a href=\"/w/index.php?title=Wiktor_Jankowski&amp;action=edit&amp;redlink=1\" class=\"new\" title=\"Wiktor Jankowski (page does not exist)\">Wiktor Jankowski</a> (1983–1984)</li>\\n<li><a href=\"/w/index.php?title=Tadeusz_Pucha%C5%82ka&amp;action=edit&amp;redlink=1\" class=\"new\" title=\"Tadeusz Puchałka (page does not exist)\">Tadeusz Puchałka</a> (1984–1985)</li>\\n<li><a href=\"/w/index.php?title=Andrzej_Ry%C5%BCy%C5%84ski&amp;action=edit&amp;redlink=1\" class=\"new\" title=\"Andrzej Ryżyński (page does not exist)\">Andrzej Ryżyński</a> (1985–1990)</li>\\n<li><a href=\"/w/index.php?title=Jaros%C5%82aw_Stefaniak&amp;action=edit&amp;redlink=1\" class=\"new\" title=\"Jarosław Stefaniak (page does not exist)\">Jarosław Stefaniak</a> (1990–1993)</li>\\n<li><a href=\"/w/index.php?title=Eugeniusz_Mitkowski&amp;action=edit&amp;redlink=1\" class=\"new\" title=\"Eugeniusz Mitkowski (page does not exist)\">Eugeniusz Mitkowski</a> (1993–1999)</li>\\n<li><a href=\"/w/index.php?title=Jerzy_Dembczy%C5%84ski&amp;action=edit&amp;redlink=1\" class=\"new\" title=\"Jerzy Dembczyński (page does not exist)\">Jerzy Dembczyński</a> (1999–2005)</li>\\n<li><a href=\"/w/index.php?title=Adam_Hamrol&amp;action=edit&amp;redlink=1\" class=\"new\" title=\"Adam Hamrol (page does not exist)\">Adam Hamrol</a> (2005–2012)</li>\\n<li><a href=\"/w/index.php?title=Tomasz_%C5%81odygowski&amp;action=edit&amp;redlink=1\" class=\"new\" title=\"Tomasz Łodygowski (page does not exist)\">Tomasz Łodygowski</a> (2012–2020)</li>\\n<li><a href=\"/w/index.php?title=Teofil_Jesionowski&amp;action=edit&amp;redlink=1\" class=\"new\" title=\"Teofil Jesionowski (page does not exist)\">Teofil Jesionowski</a> (2020–)</li></ul>\\n<div class=\"mw-heading mw-heading2\"><h2 id=\"See_also\">See also</h2><span class=\"mw-editsection\"><span class=\"mw-editsection-bracket\">[</span><a href=\"/w/index.php?title=Pozna%C5%84_University_of_Technology&amp;action=edit&amp;section=6\" title=\"Edit section: See also\"><span>edit</span></a><span class=\"mw-editsection-bracket\">]</span></span></div>\\n<ul><li><a href=\"/wiki/List_of_universities_in_Poland\" title=\"List of universities in Poland\">List of universities in Poland</a></li>\\n<li><a href=\"/wiki/Universities_in_Poznan\" class=\"mw-redirect\" title=\"Universities in Poznan\">Universities in Poznan</a></li></ul>\\n<div class=\"mw-heading mw-heading2\"><h2 id=\"References\">References</h2><span class=\"mw-editsection\"><span class=\"mw-editsection-bracket\">[</span><a href=\"/w/index.php?title=Pozna%C5%84_University_of_Technology&amp;action=edit&amp;section=7\" title=\"Edit section: References\"><span>edit</span></a><span class=\"mw-editsection-bracket\">]</span></span></div>\\n<style data-mw-deduplicate=\"TemplateStyles:r1239543626\">.mw-parser-output .reflist{margin-bottom:0.5em;list-style-type:decimal}@media screen{.mw-parser-output .reflist{font-size:90%}}.mw-parser-output .reflist .references{font-size:100%;margin-bottom:0;list-style-type:inherit}.mw-parser-output .reflist-columns-2{column-width:30em}.mw-parser-output .reflist-columns-3{column-width:25em}.mw-parser-output .reflist-columns{margin-top:0.3em}.mw-parser-output .reflist-columns ol{margin-top:0}.mw-parser-output .reflist-columns li{page-break-inside:avoid;break-inside:avoid-column}.mw-parser-output .reflist-upper-alpha{list-style-type:upper-alpha}.mw-parser-output .reflist-upper-roman{list-style-type:upper-roman}.mw-parser-output .reflist-lower-alpha{list-style-type:lower-alpha}.mw-parser-output .reflist-lower-greek{list-style-type:lower-greek}.mw-parser-output .reflist-lower-roman{list-style-type:lower-roman}</style><div class=\"reflist\">\\n<div class=\"mw-references-wrap\"><ol class=\"references\">\\n<li id=\"cite&#95;note-1\"><span class=\"mw-cite-backlink\"><b><a href=\"#cite_ref-1\">^</a></b></span> <span class=\"reference-text\"><style data-mw-deduplicate=\"TemplateStyles:r1238218222\">.mw-parser-output cite.citation{font-style:inherit;word-wrap:break-word}.mw-parser-output .citation q{quotes:\"\\\\\"\"\"\\\\\"\"\"\\'\"\"\\'\"}.mw-parser-output .citation:target{background-color:rgba(0,127,255,0.133)}.mw-parser-output .id-lock-free.id-lock-free a{background:url(\"//upload.wikimedia.org/wikipedia/commons/6/65/Lock-green.svg\")right 0.1em center/9px no-repeat}.mw-parser-output .id-lock-limited.id-lock-limited a,.mw-parser-output .id-lock-registration.id-lock-registration a{background:url(\"//upload.wikimedia.org/wikipedia/commons/d/d6/Lock-gray-alt-2.svg\")right 0.1em center/9px no-repeat}.mw-parser-output .id-lock-subscription.id-lock-subscription a{background:url(\"//upload.wikimedia.org/wikipedia/commons/a/aa/Lock-red-alt-2.svg\")right 0.1em center/9px no-repeat}.mw-parser-output .cs1-ws-icon a{background:url(\"//upload.wikimedia.org/wikipedia/commons/4/4c/Wikisource-logo.svg\")right 0.1em center/12px no-repeat}body:not(.skin-timeless):not(.skin-minerva) .mw-parser-output .id-lock-free a,body:not(.skin-timeless):not(.skin-minerva) .mw-parser-output .id-lock-limited a,body:not(.skin-timeless):not(.skin-minerva) .mw-parser-output .id-lock-registration a,body:not(.skin-timeless):not(.skin-minerva) .mw-parser-output .id-lock-subscription a,body:not(.skin-timeless):not(.skin-minerva) .mw-parser-output .cs1-ws-icon a{background-size:contain;padding:0 1em 0 0}.mw-parser-output .cs1-code{color:inherit;background:inherit;border:none;padding:inherit}.mw-parser-output .cs1-hidden-error{display:none;color:var(--color-error,#d33)}.mw-parser-output .cs1-visible-error{color:var(--color-error,#d33)}.mw-parser-output .cs1-maint{display:none;color:#085;margin-left:0.3em}.mw-parser-output .cs1-kern-left{padding-left:0.2em}.mw-parser-output .cs1-kern-right{padding-right:0.2em}.mw-parser-output .citation .mw-selflink{font-weight:inherit}@media screen{.mw-parser-output .cs1-format{font-size:95%}html.skin-theme-clientpref-night .mw-parser-output .cs1-maint{color:#18911f}}@media screen and (prefers-color-scheme:dark){html.skin-theme-clientpref-os .mw-parser-output .cs1-maint{color:#18911f}}</style><cite class=\"citation web cs1 cs1-prop-foreign-lang-source\"><a rel=\"nofollow\" class=\"external text\" href=\"https://stat.gov.pl/obszary-tematyczne/edukacja/edukacja/szkolnictwo-wyzsze-w-roku-akademickim-20232024,8,10.html\">\"Higher education in the 2023/24 academic year\"</a> (in Polish). Statistics Poland<span class=\"reference-accessdate\">. Retrieved <span class=\"nowrap\">30 June</span> 2024</span>.</cite><span title=\"ctx&#95;ver=Z39.88-2004&amp;rft&#95;val&#95;fmt=info%3Aofi%2Ffmt%3Akev%3Amtx%3Abook&amp;rft.genre=unknown&amp;rft.btitle=Higher+education+in+the+2023%2F24+academic+year&amp;rft.pub=Statistics+Poland&amp;rft&#95;id=https%3A%2F%2Fstat.gov.pl%2Fobszary-tematyczne%2Fedukacja%2Fedukacja%2Fszkolnictwo-wyzsze-w-roku-akademickim-20232024%2C8%2C10.html&amp;rfr&#95;id=info%3Asid%2Fen.wikipedia.org%3APozna%C5%84+University+of+Technology\" class=\"Z3988\"></span></span>\\n</li>\\n<li id=\"cite&#95;note-QS&#95;World&#95;University&#95;Rankings&#95;2022-2\"><span class=\"mw-cite-backlink\"><b><a href=\"#cite_ref-QS_World_University_Rankings_2022_2-0\">^</a></b></span> <span class=\"reference-text\"><link rel=\"mw-deduplicated-inline-style\" href=\"mw-data:TemplateStyles:r1238218222\" /><cite class=\"citation web cs1\"><a rel=\"nofollow\" class=\"external text\" href=\"https://www.topuniversities.com/university-rankings/eeca-rankings/2022\">\"QS World University Rankings-Emerging Europe &amp; Central Asia\"</a><span class=\"reference-accessdate\">. Retrieved <span class=\"nowrap\">15 January</span> 2023</span>.</cite><span title=\"ctx&#95;ver=Z39.88-2004&amp;rft&#95;val&#95;fmt=info%3Aofi%2Ffmt%3Akev%3Amtx%3Abook&amp;rft.genre=unknown&amp;rft.btitle=QS+World+University+Rankings-Emerging+Europe+%26+Central+Asia&amp;rft&#95;id=https%3A%2F%2Fwww.topuniversities.com%2Funiversity-rankings%2Feeca-rankings%2F2022&amp;rfr&#95;id=info%3Asid%2Fen.wikipedia.org%3APozna%C5%84+University+of+Technology\" class=\"Z3988\"></span></span>\\n</li>\\n<li id=\"cite&#95;note-3\"><span class=\"mw-cite-backlink\"><b><a href=\"#cite_ref-3\">^</a></b></span> <span class=\"reference-text\"><link rel=\"mw-deduplicated-inline-style\" href=\"mw-data:TemplateStyles:r1238218222\" /><cite class=\"citation web cs1\"><a rel=\"nofollow\" class=\"external text\" href=\"https://www.bip.gov.pl/subjects/29692,Politechnika+Pozna%C5%84ska.html\">\"Politechnika Poznańska\"</a>. <i>www.bip.gov.pl</i>. Biuletyn Informacji Publicznej<span class=\"reference-accessdate\">. Retrieved <span class=\"nowrap\">4 April</span> 2024</span>.</cite><span title=\"ctx&#95;ver=Z39.88-2004&amp;rft&#95;val&#95;fmt=info%3Aofi%2Ffmt%3Akev%3Amtx%3Ajournal&amp;rft.genre=unknown&amp;rft.jtitle=www.bip.gov.pl&amp;rft.atitle=Politechnika+Pozna%C5%84ska&amp;rft&#95;id=https%3A%2F%2Fwww.bip.gov.pl%2Fsubjects%2F29692%2CPolitechnika%2BPozna%25C5%2584ska.html&amp;rfr&#95;id=info%3Asid%2Fen.wikipedia.org%3APozna%C5%84+University+of+Technology\" class=\"Z3988\"></span></span>\\n</li>\\n<li id=\"cite&#95;note-4\"><span class=\"mw-cite-backlink\"><b><a href=\"#cite_ref-4\">^</a></b></span> <span class=\"reference-text\"><link rel=\"mw-deduplicated-inline-style\" href=\"mw-data:TemplateStyles:r1238218222\" /><cite class=\"citation web cs1 cs1-prop-foreign-lang-source\"><a rel=\"nofollow\" class=\"external text\" href=\"https://uczelnie.info.pl/uczelnie/politechnika-poznanska/\">\"Politechnika Poznańska\"</a> (in Polish). 11 September 2023<span class=\"reference-accessdate\">. Retrieved <span class=\"nowrap\">4 April</span> 2024</span>.</cite><span title=\"ctx&#95;ver=Z39.88-2004&amp;rft&#95;val&#95;fmt=info%3Aofi%2Ffmt%3Akev%3Amtx%3Abook&amp;rft.genre=unknown&amp;rft.btitle=Politechnika+Pozna%C5%84ska&amp;rft.date=2023-09-11&amp;rft&#95;id=https%3A%2F%2Fuczelnie.info.pl%2Fuczelnie%2Fpolitechnika-poznanska%2F&amp;rfr&#95;id=info%3Asid%2Fen.wikipedia.org%3APozna%C5%84+University+of+Technology\" class=\"Z3988\"></span></span>\\n</li>\\n</ol></div></div>\\n<div class=\"mw-heading mw-heading2\"><h2 id=\"External_links\">External links</h2><span class=\"mw-editsection\"><span class=\"mw-editsection-bracket\">[</span><a href=\"/w/index.php?title=Pozna%C5%84_University_of_Technology&amp;action=edit&amp;section=8\" title=\"Edit section: External links\"><span>edit</span></a><span class=\"mw-editsection-bracket\">]</span></span></div>\\n<ul><li><a rel=\"nofollow\" class=\"external text\" href=\"https://www.put.poznan.pl/\">Official site of PUT</a></li>\\n<li><a rel=\"nofollow\" class=\"external text\" href=\"http://www.cs.put.poznan.pl/\">PUT\\'s Institute of Computer Science</a></li>\\n<li><a rel=\"nofollow\" class=\"external text\" href=\"https://web.archive.org/web/20040202202747/http://www.me.put.poznan.pl/english.php\">PUT\\'s Institute of Management Engineering</a></li>\\n<li><a rel=\"nofollow\" class=\"external text\" href=\"http://www.ee.put.poznan.pl/\">PUT\\'s Institute of Environmental Engineering</a></li>\\n<li><a rel=\"nofollow\" class=\"external text\" href=\"https://web.archive.org/web/20090304003834/http://www.skn.put.poznan.pl/\">Association of Scientific Circles at PUT</a></li>\\n<li><a rel=\"nofollow\" class=\"external text\" href=\"http://www.knis.put.poznan.pl/\">Scientific Circle of Environmental Engineers</a></li></ul>\\n<div class=\"navbox-styles\"><style data-mw-deduplicate=\"TemplateStyles:r1129693374\">.mw-parser-output .hlist dl,.mw-parser-output .hlist ol,.mw-parser-output .hlist ul{margin:0;padding:0}.mw-parser-output .hlist dd,.mw-parser-output .hlist dt,.mw-parser-output .hlist li{margin:0;display:inline}.mw-parser-output .hlist.inline,.mw-parser-output .hlist.inline dl,.mw-parser-output .hlist.inline ol,.mw-parser-output .hlist.inline ul,.mw-parser-output .hlist dl dl,.mw-parser-output .hlist dl ol,.mw-parser-output .hlist dl ul,.mw-parser-output .hlist ol dl,.mw-parser-output .hlist ol ol,.mw-parser-output .hlist ol ul,.mw-parser-output .hlist ul dl,.mw-parser-output .hlist ul ol,.mw-parser-output .hlist ul ul{display:inline}.mw-parser-output .hlist .mw-empty-li{display:none}.mw-parser-output .hlist dt::after{content:\": \"}.mw-parser-output .hlist dd::after,.mw-parser-output .hlist li::after{content:\" · \";font-weight:bold}.mw-parser-output .hlist dd:last-child::after,.mw-parser-output .hlist dt:last-child::after,.mw-parser-output .hlist li:last-child::after{content:none}.mw-parser-output .hlist dd dd:first-child::before,.mw-parser-output .hlist dd dt:first-child::before,.mw-parser-output .hlist dd li:first-child::before,.mw-parser-output .hlist dt dd:first-child::before,.mw-parser-output .hlist dt dt:first-child::before,.mw-parser-output .hlist dt li:first-child::before,.mw-parser-output .hlist li dd:first-child::before,.mw-parser-output .hlist li dt:first-child::before,.mw-parser-output .hlist li li:first-child::before{content:\" (\";font-weight:normal}.mw-parser-output .hlist dd dd:last-child::after,.mw-parser-output .hlist dd dt:last-child::after,.mw-parser-output .hlist dd li:last-child::after,.mw-parser-output .hlist dt dd:last-child::after,.mw-parser-output .hlist dt dt:last-child::after,.mw-parser-output .hlist dt li:last-child::after,.mw-parser-output .hlist li dd:last-child::after,.mw-parser-output .hlist li dt:last-child::after,.mw-parser-output .hlist li li:last-child::after{content:\")\";font-weight:normal}.mw-parser-output .hlist ol{counter-reset:listitem}.mw-parser-output .hlist ol>li{counter-increment:listitem}.mw-parser-output .hlist ol>li::before{content:\" \"counter(listitem)\"\\\\a0 \"}.mw-parser-output .hlist dd ol>li:first-child::before,.mw-parser-output .hlist dt ol>li:first-child::before,.mw-parser-output .hlist li ol>li:first-child::before{content:\" (\"counter(listitem)\"\\\\a0 \"}</style><style data-mw-deduplicate=\"TemplateStyles:r1314944253\">.mw-parser-output .navbox{box-sizing:border-box;border:1px solid #a2a9b1;width:100%;clear:both;font-size:88%;text-align:center;padding:1px;margin:1em auto 0}.mw-parser-output .navbox .navbox{margin-top:0}.mw-parser-output .navbox+.navbox,.mw-parser-output .navbox+.navbox-styles+.navbox{margin-top:-1px}.mw-parser-output .navbox-inner,.mw-parser-output .navbox-subgroup{width:100%}.mw-parser-output .navbox-group,.mw-parser-output .navbox-title,.mw-parser-output .navbox-abovebelow{padding:0.25em 1em;line-height:1.5em;text-align:center}.mw-parser-output .navbox-group{white-space:nowrap;text-align:right}.mw-parser-output .navbox,.mw-parser-output .navbox-subgroup{background-color:#fdfdfd;color:inherit}.mw-parser-output .navbox-list{line-height:1.5em;border-color:#fdfdfd}.mw-parser-output .navbox-list-with-group{text-align:left;border-left-width:2px;border-left-style:solid}.mw-parser-output tr+tr>.navbox-abovebelow,.mw-parser-output tr+tr>.navbox-group,.mw-parser-output tr+tr>.navbox-image,.mw-parser-output tr+tr>.navbox-list{border-top:2px solid #fdfdfd}.mw-parser-output .navbox-title{background-color:#ccf;color:inherit}.mw-parser-output .navbox-abovebelow,.mw-parser-output .navbox-group,.mw-parser-output .navbox-subgroup .navbox-title{background-color:#ddf;color:inherit}.mw-parser-output .navbox-subgroup .navbox-group,.mw-parser-output .navbox-subgroup .navbox-abovebelow{background-color:#e6e6ff;color:inherit}.mw-parser-output .navbox-even{background-color:#f7f7f7;color:inherit}.mw-parser-output .navbox-odd{background-color:transparent;color:inherit}.mw-parser-output .navbox .hlist td dl,.mw-parser-output .navbox .hlist td ol,.mw-parser-output .navbox .hlist td ul,.mw-parser-output .navbox td.hlist dl,.mw-parser-output .navbox td.hlist ol,.mw-parser-output .navbox td.hlist ul{padding:0.125em 0}.mw-parser-output .navbox .navbar{display:block;font-size:100%}.mw-parser-output .navbox-title .navbar{float:left;text-align:left;margin-right:0.5em}body.skin--responsive .mw-parser-output .navbox-image img{max-width:none!important}@media print{body.ns-0 .mw-parser-output .navbox{display:none!important}}</style></div><div role=\"navigation\" class=\"navbox\" aria-labelledby=\"Universities&amp;#95;in&amp;#95;Poland3840\" style=\"padding:3px\"><table class=\"nowraplinks mw-collapsible autocollapse navbox-inner\" style=\"border-spacing:0;background:transparent;color:inherit\"><tbody><tr><th scope=\"col\" class=\"navbox-title\" colspan=\"2\"><link rel=\"mw-deduplicated-inline-style\" href=\"mw-data:TemplateStyles:r1129693374\" /><style data-mw-deduplicate=\"TemplateStyles:r1239400231\">.mw-parser-output .navbar{display:inline;font-size:88%;font-weight:normal}.mw-parser-output .navbar-collapse{float:left;text-align:left}.mw-parser-output .navbar-boxtext{word-spacing:0}.mw-parser-output .navbar ul{display:inline-block;white-space:nowrap;line-height:inherit}.mw-parser-output .navbar-brackets::before{margin-right:-0.125em;content:\"[ \"}.mw-parser-output .navbar-brackets::after{margin-left:-0.125em;content:\" ]\"}.mw-parser-output .navbar li{word-spacing:-0.125em}.mw-parser-output .navbar a>span,.mw-parser-output .navbar a>abbr{text-decoration:inherit}.mw-parser-output .navbar-mini abbr{font-variant:small-caps;border-bottom:none;text-decoration:none;cursor:inherit}.mw-parser-output .navbar-ct-full{font-size:114%;margin:0 7em}.mw-parser-output .navbar-ct-mini{font-size:114%;margin:0 4em}html.skin-theme-clientpref-night .mw-parser-output .navbar li a abbr{color:var(--color-base)!important}@media(prefers-color-scheme:dark){html.skin-theme-clientpref-os .mw-parser-output .navbar li a abbr{color:var(--color-base)!important}}@media print{.mw-parser-output .navbar{display:none!important}}</style><div class=\"navbar plainlinks hlist navbar-mini\"><ul><li class=\"nv-view\"><a href=\"/wiki/Template:Universities_in_Poland\" title=\"Template:Universities in Poland\"><abbr title=\"View this template\">v</abbr></a></li><li class=\"nv-talk\"><a href=\"/wiki/Template_talk:Universities_in_Poland\" title=\"Template talk:Universities in Poland\"><abbr title=\"Discuss this template\">t</abbr></a></li><li class=\"nv-edit\"><a href=\"/wiki/Special:EditPage/Template:Universities_in_Poland\" title=\"Special:EditPage/Template:Universities in Poland\"><abbr title=\"Edit this template\">e</abbr></a></li></ul></div><div id=\"Universities&amp;#95;in&amp;#95;Poland3840\" style=\"font-size:114%;margin:0 4em\"><a href=\"/wiki/List_of_universities_in_Poland\" title=\"List of universities in Poland\">Universities in Poland</a></div></th></tr><tr><th scope=\"row\" class=\"navbox-group\" style=\"width:1%\">Classical</th><td class=\"navbox-list-with-group navbox-list navbox-odd hlist\" style=\"width:100%;padding:0\"><div style=\"padding:0 0.25em\">\\n<ul><li><a href=\"/wiki/Adam_Mickiewicz_University_in_Pozna%C5%84\" title=\"Adam Mickiewicz University in Poznań\">Adam Mickiewicz</a></li>\\n<li><a href=\"/wiki/University_of_Bia%C5%82ystok\" title=\"University of Białystok\">Białystok</a></li>\\n<li><a href=\"/wiki/Cardinal_Stefan_Wyszy%C5%84ski_University_in_Warsaw\" class=\"mw-redirect\" title=\"Cardinal Stefan Wyszyński University in Warsaw\">Cardinal Stefan Wyszyński</a></li>\\n<li><a href=\"/wiki/University_of_Gda%C5%84sk\" title=\"University of Gdańsk\">Gdańsk</a></li>\\n<li><a href=\"/wiki/Jagiellonian_University\" title=\"Jagiellonian University\">Jagiellonian</a></li>\\n<li><a href=\"/wiki/Jan_Kochanowski_University\" title=\"Jan Kochanowski University\">Jan Kochanowski</a></li>\\n<li><a href=\"/wiki/John_Paul_II_Catholic_University_of_Lublin\" title=\"John Paul II Catholic University of Lublin\">John Paul II Catholic University of Lublin</a></li>\\n<li><a href=\"/wiki/Kazimierz_Wielki_University_in_Bydgoszcz\" title=\"Kazimierz Wielki University in Bydgoszcz\">Kazimierz Wielki</a></li>\\n<li><a href=\"/wiki/University_of_%C5%81%C3%B3d%C5%BA\" title=\"University of Łódź\">Łódź</a></li>\\n<li><a href=\"/wiki/Maria_Curie-Sk%C5%82odowska_University\" title=\"Maria Curie-Skłodowska University\">Maria Curie-Skłodowska</a></li>\\n<li><a href=\"/wiki/Nicolaus_Copernicus_University_in_Toru%C5%84\" title=\"Nicolaus Copernicus University in Toruń\">Nicolaus Copernicus</a></li>\\n<li><a href=\"/wiki/University_of_Opole\" title=\"University of Opole\">Opole</a></li>\\n<li><a href=\"/wiki/University_of_Rzesz%C3%B3w\" title=\"University of Rzeszów\">Rzeszów</a></li>\\n<li><a href=\"/wiki/University_of_Silesia_in_Katowice\" title=\"University of Silesia in Katowice\">Silesia</a></li>\\n<li><a href=\"/wiki/University_of_Szczecin\" title=\"University of Szczecin\">Szczecin</a></li>\\n<li><a href=\"/wiki/University_of_Warmia_and_Mazury_in_Olsztyn\" title=\"University of Warmia and Mazury in Olsztyn\">Warmia and Mazury</a></li>\\n<li><a href=\"/wiki/University_of_Warsaw\" title=\"University of Warsaw\">Warsaw</a></li>\\n<li><a href=\"/wiki/University_of_Wroc%C5%82aw\" title=\"University of Wrocław\">Wrocław</a></li>\\n<li><a href=\"/wiki/University_of_Zielona_G%C3%B3ra\" title=\"University of Zielona Góra\"> Zielona Góra</a></li>\\n<li><a href=\"/wiki/VIZJA_University\" title=\"VIZJA University\">VIZJA University</a></li></ul>\\n</div></td></tr><tr><th scope=\"row\" class=\"navbox-group\" style=\"width:1%\">Technical</th><td class=\"navbox-list-with-group navbox-list navbox-even hlist\" style=\"width:100%;padding:0\"><div style=\"padding:0 0.25em\">\\n<ul><li><a href=\"/wiki/AGH_University_of_Science_and_Technology\" class=\"mw-redirect\" title=\"AGH University of Science and Technology\">AGH</a></li>\\n<li><a href=\"/wiki/University_of_Bielsko-Bia%C5%82a\" title=\"University of Bielsko-Biała\">Bielsko-Biała</a></li>\\n<li><a href=\"/wiki/Bialystok_University_of_Technology\" class=\"mw-redirect\" title=\"Bialystok University of Technology\">Białystok Technical</a></li>\\n<li><a href=\"/wiki/Tadeusz_Ko%C5%9Bciuszko_University_of_Technology\" class=\"mw-redirect\" title=\"Tadeusz Kościuszko University of Technology\">Kraków </a></li>\\n<li><a href=\"/wiki/Cz%C4%99stochowa_University_of_Technology\" title=\"Częstochowa University of Technology\">Częstochowa </a></li>\\n<li><a href=\"/wiki/Gda%C5%84sk_University_of_Technology\" title=\"Gdańsk University of Technology\">Gdańsk Technical</a></li>\\n<li><a href=\"/wiki/Kazimierz_Pu%C5%82aski_University_of_Technology_and_Humanities_in_Radom\" class=\"mw-redirect\" title=\"Kazimierz Pułaski University of Technology and Humanities in Radom\">Kazimierz Pułaski </a></li>\\n<li><a href=\"/wiki/Kielce_University_of_Technology\" title=\"Kielce University of Technology\">Kielce </a></li>\\n<li><a href=\"/wiki/Koszalin_University_of_Technology\" title=\"Koszalin University of Technology\">Koszalin </a></li>\\n<li><a href=\"/wiki/Lublin_University_of_Technology\" title=\"Lublin University of Technology\">Lublin</a></li>\\n<li><a href=\"/wiki/Lodz_University_of_Technology\" class=\"mw-redirect\" title=\"Lodz University of Technology\">Łodź Technical</a></li>\\n<li><a href=\"/wiki/Opole_University_of_Technology\" title=\"Opole University of Technology\">Opole </a></li>\\n<li><a class=\"mw-selflink selflink\">Poznań </a></li>\\n<li><a href=\"/wiki/Rzesz%C3%B3w_University_of_Technology\" title=\"Rzeszów University of Technology\">Rzeszów Technical</a></li>\\n<li><a href=\"/wiki/Silesian_University_of_Technology\" title=\"Silesian University of Technology\">Silesian Technical</a></li>\\n<li><a href=\"/wiki/West_Pomeranian_University_of_Technology\" title=\"West Pomeranian University of Technology\">West Pomeranian </a></li>\\n<li><a href=\"/wiki/Warsaw_University_of_Technology\" title=\"Warsaw University of Technology\">Warsaw Technical</a></li>\\n<li><a href=\"/wiki/Wroc%C5%82aw_University_of_Science_and_Technology\" title=\"Wrocław University of Science and Technology\">Wrocław Technical</a></li>\\n<li><a href=\"/wiki/University_of_Technology_and_Life_Sciences_in_Bydgoszcz\" class=\"mw-redirect\" title=\"University of Technology and Life Sciences in Bydgoszcz\">Bydgoszcz Technical</a></li></ul>\\n</div></td></tr><tr><th scope=\"row\" class=\"navbox-group\" style=\"width:1%\">Medical</th><td class=\"navbox-list-with-group navbox-list navbox-odd hlist\" style=\"width:100%;padding:0\"><div style=\"padding:0 0.25em\">\\n<ul><li><a href=\"/wiki/Jagiellonian_University_Medical_College\" title=\"Jagiellonian University Medical College\">Jagiellonian College</a></li>\\n<li><a href=\"/wiki/Medical_University_of_Bia%C5%82ystok\" title=\"Medical University of Białystok\">Białystok</a></li>\\n<li><a href=\"/wiki/Nicolaus_Copernicus_University_Ludwik_Rydygier_Collegium_Medicum_in_Bydgoszcz\" title=\"Nicolaus Copernicus University Ludwik Rydygier Collegium Medicum in Bydgoszcz\">Bydgoszcz</a></li>\\n<li><a href=\"/wiki/Medical_University_of_Gda%C5%84sk\" title=\"Medical University of Gdańsk\">Gdańsk</a></li>\\n<li><a href=\"/wiki/Medical_University_of_Silesia\" title=\"Medical University of Silesia\">Silesia</a></li>\\n<li><a href=\"/wiki/Medical_University_of_Lublin\" title=\"Medical University of Lublin\">Lublin</a></li>\\n<li><a href=\"/wiki/Medical_University_of_%C5%81%C3%B3d%C5%BA\" title=\"Medical University of Łódź\">Łódź</a></li>\\n<li><a href=\"/wiki/Poznan_University_of_Medical_Sciences\" class=\"mw-redirect\" title=\"Poznan University of Medical Sciences\">Poznań</a></li>\\n<li><a href=\"/wiki/Pomeranian_Medical_University_in_Szczecin\" class=\"mw-redirect\" title=\"Pomeranian Medical University in Szczecin\">Pomeranian</a></li>\\n<li><a href=\"/wiki/Medical_University_of_Warsaw\" title=\"Medical University of Warsaw\">Warsaw</a></li>\\n<li><a href=\"/wiki/Wroc%C5%82aw_Medical_University\" title=\"Wrocław Medical University\">Wrocław</a></li></ul>\\n</div></td></tr><tr><th scope=\"row\" class=\"navbox-group\" style=\"width:1%\">Economical</th><td class=\"navbox-list-with-group navbox-list navbox-even hlist\" style=\"width:100%;padding:0\"><div style=\"padding:0 0.25em\">\\n<ul><li><a href=\"/wiki/University_of_Economics_in_Katowice\" title=\"University of Economics in Katowice\">Economics in Katowice</a></li>\\n<li><a href=\"/wiki/Krak%C3%B3w_University_of_Economics\" title=\"Kraków University of Economics\">Economics in Kraków</a></li>\\n<li><a href=\"/wiki/Pozna%C5%84_University_of_Economics_and_Business\" title=\"Poznań University of Economics and Business\">Economics in Poznań</a></li>\\n<li><a href=\"/wiki/Wroc%C5%82aw_University_of_Economics\" title=\"Wrocław University of Economics\">Economics in Wrocław</a></li></ul>\\n</div></td></tr><tr><th scope=\"row\" class=\"navbox-group\" style=\"width:1%\">Fine arts</th><td class=\"navbox-list-with-group navbox-list navbox-odd hlist\" style=\"width:100%;padding:0\"><div style=\"padding:0 0.25em\">\\n<ul><li><a href=\"/wiki/Fryderyk_Chopin_University_of_Music\" class=\"mw-redirect\" title=\"Fryderyk Chopin University of Music\">Music in Warsaw</a></li>\\n<li><a href=\"/wiki/University_of_Fine_Arts_in_Pozna%C5%84\" class=\"mw-redirect\" title=\"University of Fine Arts in Poznań\">Fine Arts in Poznań</a></li></ul>\\n</div></td></tr><tr><th scope=\"row\" class=\"navbox-group\" style=\"width:1%\">Pedagogical</th><td class=\"navbox-list-with-group navbox-list navbox-even hlist\" style=\"width:100%;padding:0\"><div style=\"padding:0 0.25em\">\\n<ul><li><a href=\"/wiki/Pedagogical_University_of_Krak%C3%B3w\" title=\"Pedagogical University of Kraków\">Pedagogical in Kraków</a></li>\\n<li><a href=\"/wiki/Siedlce_University_of_Natural_Sciences_and_Humanities\" class=\"mw-redirect\" title=\"Siedlce University of Natural Sciences and Humanities\">Natural Sciences and Humanities in Siedlce</a></li>\\n<li><a href=\"/wiki/Jan_D%C5%82ugosz_University\" title=\"Jan Długosz University\">Jan Długosz</a></li></ul>\\n</div></td></tr><tr><th scope=\"row\" class=\"navbox-group\" style=\"width:1%\">Life Sciences</th><td class=\"navbox-list-with-group navbox-list navbox-odd hlist\" style=\"width:100%;padding:0\"><div style=\"padding:0 0.25em\">\\n<ul><li><a href=\"/wiki/Wroc%C5%82aw_University_of_Environmental_and_Life_Sciences\" title=\"Wrocław University of Environmental and Life Sciences\">Environmental and Life Sciences in Wrocław</a></li>\\n<li><a href=\"/wiki/University_of_Life_Sciences_in_Pozna%C5%84\" title=\"University of Life Sciences in Poznań\">Life Sciences in Poznań</a></li>\\n<li><a href=\"/wiki/Agricultural_University_of_Krak%C3%B3w\" title=\"Agricultural University of Kraków\">Agricultural in Kraków</a></li>\\n<li><a href=\"/wiki/University_of_Life_Sciences_in_Lublin\" title=\"University of Life Sciences in Lublin\">Life Sciences in Lublin</a></li></ul>\\n</div></td></tr><tr><th scope=\"row\" class=\"navbox-group\" style=\"width:1%\">Special</th><td class=\"navbox-list-with-group navbox-list navbox-even hlist\" style=\"width:100%;padding:0\"><div style=\"padding:0 0.25em\">\\n<ul><li><a href=\"/wiki/Gdynia_Maritime_University\" title=\"Gdynia Maritime University\">Gdynia Maritime University</a></li>\\n<li><a href=\"/wiki/SWPS_University_of_Social_Sciences_and_Humanities\" class=\"mw-redirect\" title=\"SWPS University of Social Sciences and Humanities\">SWPS University of Social Sciences and Humanities</a></li>\\n<li><a href=\"/wiki/College_of_Europe\" title=\"College of Europe\">College of Europe in Natolin</a></li></ul>\\n</div></td></tr></tbody></table></div>\\n<div class=\"navbox-styles\"><link rel=\"mw-deduplicated-inline-style\" href=\"mw-data:TemplateStyles:r1129693374\" /><link rel=\"mw-deduplicated-inline-style\" href=\"mw-data:TemplateStyles:r1314944253\" /></div><div role=\"navigation\" class=\"navbox\" aria-labelledby=\"CESAER2239\" style=\"padding:3px\"><table class=\"nowraplinks mw-collapsible autocollapse navbox-inner\" style=\"border-spacing:0;background:transparent;color:inherit\"><tbody><tr><th scope=\"col\" class=\"navbox-title\" colspan=\"2\"><link rel=\"mw-deduplicated-inline-style\" href=\"mw-data:TemplateStyles:r1129693374\" /><link rel=\"mw-deduplicated-inline-style\" href=\"mw-data:TemplateStyles:r1239400231\" /><div class=\"navbar plainlinks hlist navbar-mini\"><ul><li class=\"nv-view\"><a href=\"/wiki/Template:Conference_of_European_Schools_for_Advanced_Engineering_Education_and_Research\" title=\"Template:Conference of European Schools for Advanced Engineering Education and Research\"><abbr title=\"View this template\">v</abbr></a></li><li class=\"nv-talk\"><a href=\"/wiki/Template_talk:Conference_of_European_Schools_for_Advanced_Engineering_Education_and_Research\" title=\"Template talk:Conference of European Schools for Advanced Engineering Education and Research\"><abbr title=\"Discuss this template\">t</abbr></a></li><li class=\"nv-edit\"><a href=\"/wiki/Special:EditPage/Template:Conference_of_European_Schools_for_Advanced_Engineering_Education_and_Research\" title=\"Special:EditPage/Template:Conference of European Schools for Advanced Engineering Education and Research\"><abbr title=\"Edit this template\">e</abbr></a></li></ul></div><div id=\"CESAER2239\" style=\"font-size:114%;margin:0 4em\"><a href=\"/wiki/CESAER\" title=\"CESAER\">CESAER</a></div></th></tr><tr><td colspan=\"2\" class=\"navbox-list navbox-odd hlist\" style=\"width:100%;padding:0\"><div style=\"padding:0 0.25em\">\\n<ul><li><a href=\"/wiki/Aalborg_University\" title=\"Aalborg University\">Aalborg</a></li>\\n<li><a href=\"/wiki/Aalto_University\" title=\"Aalto University\">Aalto</a></li>\\n<li><a href=\"/wiki/National_Technical_University_of_Athens\" title=\"National Technical University of Athens\">Athens Polytechnic</a></li>\\n<li><a href=\"/wiki/University_of_Belgrade\" title=\"University of Belgrade\">Belgrade</a></li>\\n<li><a href=\"/wiki/Budapest_University_of_Technology_and_Economics\" title=\"Budapest University of Technology and Economics\">BME</a></li>\\n<li><a href=\"/wiki/Brno_University_of_Technology\" title=\"Brno University of Technology\">BUT</a></li>\\n<li><a href=\"/wiki/Chalmers_University_of_Technology\" title=\"Chalmers University of Technology\">Chalmers</a></li>\\n<li><a href=\"/wiki/%C3%89cole_Polytechnique_F%C3%A9d%C3%A9rale_de_Lausanne\" title=\"École Polytechnique Fédérale de Lausanne\">EPFL</a></li>\\n<li><a href=\"/wiki/ETH_Zurich\" title=\"ETH Zurich\">ETH Zurich</a></li>\\n<li><a href=\"/wiki/Gda%C5%84sk_University_of_Technology\" title=\"Gdańsk University of Technology\">Gdańsk University of Technology</a></li>\\n<li><a href=\"/wiki/Ghent_University\" title=\"Ghent University\">Ghent</a></li>\\n<li><a href=\"/wiki/Graz_University_of_Technology\" title=\"Graz University of Technology\">Graz University of Technology</a></li>\\n<li><a href=\"/wiki/Grenoble_Alpes_University\" title=\"Grenoble Alpes University\">Grenoble Alpes University</a></li>\\n<li><a href=\"/wiki/Institut_national_des_sciences_Appliqu%C3%A9es_de_Lyon\" class=\"mw-redirect\" title=\"Institut national des sciences Appliquées de Lyon\">INSA de Lyon</a></li>\\n<li><a href=\"/wiki/Institut_Polytechnique_de_Paris\" class=\"mw-redirect\" title=\"Institut Polytechnique de Paris\">IP Paris</a></li>\\n<li><a href=\"/wiki/Instituto_Superior_T%C3%A9cnico\" title=\"Instituto Superior Técnico\">IST</a></li>\\n<li><a href=\"/wiki/Istanbul_Technical_University\" title=\"Istanbul Technical University\">ITU</a></li>\\n<li><a href=\"/wiki/Karlsruhe_Institute_of_Technology\" title=\"Karlsruhe Institute of Technology\">KIT</a></li>\\n<li><a href=\"/wiki/Kyiv_Polytechnic_Institute\" title=\"Kyiv Polytechnic Institute\">KPI</a></li>\\n<li><a href=\"/wiki/Royal_Institute_of_Technology\" class=\"mw-redirect\" title=\"Royal Institute of Technology\">KTH</a></li>\\n<li><a href=\"/wiki/KU_Leuven\" title=\"KU Leuven\">KU Leuven</a></li>\\n<li><a href=\"/wiki/Leibniz_University_Hannover\" title=\"Leibniz University Hannover\">Leibniz University Hannover</a></li>\\n<li><a href=\"/wiki/Lund_University\" title=\"Lund University\">Lund</a></li>\\n<li><a href=\"/wiki/New_University_of_Lisbon\" class=\"mw-redirect\" title=\"New University of Lisbon\">NOVA</a></li>\\n<li><a href=\"/wiki/Norwegian_University_of_Science_and_Technology\" title=\"Norwegian University of Science and Technology\">NTNU</a></li>\\n<li><a href=\"/wiki/University_of_Paris-Saclay\" class=\"mw-redirect\" title=\"University of Paris-Saclay\">Paris-Saclay</a></li>\\n<li><a href=\"/wiki/ParisTech\" title=\"ParisTech\">ParisTech</a></li>\\n<li><a href=\"/wiki/Polytechnic_University_of_Milan\" title=\"Polytechnic University of Milan\">Polytechnic University of Milan</a></li>\\n<li><a href=\"/wiki/Polytechnic_University_of_Turin\" title=\"Polytechnic University of Turin\">Polytechnic University of Turin</a></li>\\n<li><a href=\"/wiki/University_of_Porto\" title=\"University of Porto\">Porto</a></li>\\n<li><a href=\"/wiki/Politehnica_University_of_Bucharest\" title=\"Politehnica University of Bucharest\">PUB</a></li>\\n<li><a class=\"mw-selflink selflink\">PUT</a></li>\\n<li><a href=\"/wiki/RWTH_Aachen_University\" title=\"RWTH Aachen University\">RWTH Aachen</a></li>\\n<li><a href=\"/wiki/Sapienza_University_of_Rome\" title=\"Sapienza University of Rome\">Sapienza University of Rome</a></li>\\n<li><a href=\"/wiki/University_of_Sheffield\" title=\"University of Sheffield\">Sheffield</a></li>\\n<li><a href=\"/wiki/University_of_Southampton\" title=\"University of Southampton\">Southampton</a></li>\\n<li><a href=\"/wiki/University_of_Strathclyde\" title=\"University of Strathclyde\">Strathclyde</a></li>\\n<li><a href=\"/wiki/Slovak_University_of_Technology_in_Bratislava\" title=\"Slovak University of Technology in Bratislava\">STU</a></li>\\n<li><a href=\"/wiki/University_of_Stuttgart\" title=\"University of Stuttgart\">Stuttgart</a></li>\\n<li><a href=\"/wiki/University_of_Surrey\" title=\"University of Surrey\">Surrey</a></li>\\n<li><a href=\"/wiki/Technion_%E2%80%93_Israel_Institute_of_Technology\" title=\"Technion – Israel Institute of Technology\">Technion</a></li>\\n<li><a href=\"/wiki/Technical_University_of_Berlin\" class=\"mw-redirect\" title=\"Technical University of Berlin\">TU Berlin</a></li>\\n<li><a href=\"/wiki/Technische_Universit%C3%A4t_Darmstadt\" title=\"Technische Universität Darmstadt\">TU Darmstadt</a></li>\\n<li><a href=\"/wiki/Delft_University_of_Technology\" title=\"Delft University of Technology\">TU Delft</a></li>\\n<li><a href=\"/wiki/TU_Dresden\" title=\"TU Dresden\">TU Dresden</a></li>\\n<li><a href=\"/wiki/Warsaw_University_of_Technology\" title=\"Warsaw University of Technology\">TU Warsaw</a></li>\\n<li><a href=\"/wiki/TU_Wien\" title=\"TU Wien\">TU Wien</a></li>\\n<li><a href=\"/wiki/University_of_Twente\" title=\"University of Twente\">Twente</a></li>\\n<li><a href=\"/wiki/University_College_Dublin\" title=\"University College Dublin\">UCD</a></li>\\n<li><a href=\"/wiki/Universit%C3%A9_catholique_de_Louvain\" class=\"mw-redirect\" title=\"Université catholique de Louvain\">UCLouvain</a></li>\\n<li><a href=\"/wiki/Polytechnic_University_of_Catalonia\" title=\"Polytechnic University of Catalonia\">UPC</a></li>\\n<li><a href=\"/wiki/Technical_University_of_Madrid\" title=\"Technical University of Madrid\">UPM</a></li>\\n<li><a href=\"/wiki/Polytechnic_University_of_Valencia\" class=\"mw-redirect\" title=\"Polytechnic University of Valencia\">UPV</a></li></ul>\\n</div></td></tr></tbody></table></div>\\n<p><span class=\"geo-inline-hidden noexcerpt\"><style data-mw-deduplicate=\"TemplateStyles:r1156832818\">.mw-parser-output .geo-default,.mw-parser-output .geo-dms,.mw-parser-output .geo-dec{display:inline}.mw-parser-output .geo-nondefault,.mw-parser-output .geo-multi-punct,.mw-parser-output .geo-inline-hidden{display:none}.mw-parser-output .longitude,.mw-parser-output .latitude{white-space:nowrap}</style><span class=\"plainlinks nourlexpansion\"><a class=\"external text\" href=\"https://geohack.toolforge.org/geohack.php?pagename=Pozna%C5%84_University_of_Technology&amp;params=52.3942_N_16.9183_E_source:kolossus-plwiki\"><span class=\"geo-nondefault\"><span class=\"geo-dms\" title=\"Maps, aerial photos, and other data for this location\"><span class=\"latitude\">52°23′39″N</span> <span class=\"longitude\">16°55′06″E</span></span></span><span class=\"geo-multi-punct\">&#xfeff; / &#xfeff;</span><span class=\"geo-default\"><span class=\"geo-dec\" title=\"Maps, aerial photos, and other data for this location\">52.3942°N 16.9183°E</span><span style=\"display:none\">&#xfeff; / <span class=\"geo\">52.3942; 16.9183</span></span></span></a></span></span>\\n</p>\\n<div class=\"navbox-styles\"><link rel=\"mw-deduplicated-inline-style\" href=\"mw-data:TemplateStyles:r1129693374\" /><link rel=\"mw-deduplicated-inline-style\" href=\"mw-data:TemplateStyles:r1314944253\" /></div><div role=\"navigation\" class=\"navbox authority-control\" aria-labelledby=\"Authority&amp;#95;control&amp;#95;databases&amp;#95;frameless&amp;#124;text-top&amp;#124;10px&amp;#124;alt=Edit&amp;#95;this&amp;#95;at&amp;#95;Wikidata&amp;#124;link=https&amp;#58;//www.wikidata.org/wiki/Q1678753#identifiers&amp;#124;class=noprint&amp;#124;Edit&amp;#95;this&amp;#95;at&amp;#95;Wikidata1108\" style=\"padding:3px\"><table class=\"nowraplinks hlist mw-collapsible autocollapse navbox-inner\" style=\"border-spacing:0;background:transparent;color:inherit\"><tbody><tr><th scope=\"col\" class=\"navbox-title\" colspan=\"2\"><div id=\"Authority&amp;#95;control&amp;#95;databases&amp;#95;frameless&amp;#124;text-top&amp;#124;10px&amp;#124;alt=Edit&amp;#95;this&amp;#95;at&amp;#95;Wikidata&amp;#124;link=https&amp;#58;//www.wikidata.org/wiki/Q1678753#identifiers&amp;#124;class=noprint&amp;#124;Edit&amp;#95;this&amp;#95;at&amp;#95;Wikidata1108\" style=\"font-size:114%;margin:0 4em\"><a href=\"/wiki/Help:Authority_control\" title=\"Help:Authority control\">Authority control databases</a> <span class=\"mw-valign-text-top noprint\" typeof=\"mw:File/Frameless\"><a href=\"https://www.wikidata.org/wiki/Q1678753#identifiers\" title=\"Edit this at Wikidata\"><img alt=\"Edit this at Wikidata\" src=\"//upload.wikimedia.org/wikipedia/en/thumb/8/8a/OOjs_UI_icon_edit-ltr-progressive.svg/20px-OOjs_UI_icon_edit-ltr-progressive.svg.png\" decoding=\"async\" width=\"10\" height=\"10\" class=\"mw-file-element\" data-file-width=\"20\" data-file-height=\"20\" /></a></span></div></th></tr><tr><th scope=\"row\" class=\"navbox-group\" style=\"width:1%\">International</th><td class=\"navbox-list-with-group navbox-list navbox-odd\" style=\"width:100%;padding:0\"><div style=\"padding:0 0.25em\"><ul><li><span class=\"uid\"><a rel=\"nofollow\" class=\"external text\" href=\"https://isni.org/isni/0000000107296922\">ISNI</a></span></li><li><span class=\"uid\"><a rel=\"nofollow\" class=\"external text\" href=\"https://viaf.org/viaf/156532287\">VIAF</a></span></li><li><span class=\"uid\"><a rel=\"nofollow\" class=\"external text\" href=\"https://d-nb.info/gnd/61128-1\">GND</a></span></li></ul></div></td></tr><tr><th scope=\"row\" class=\"navbox-group\" style=\"width:1%\">National</th><td class=\"navbox-list-with-group navbox-list navbox-even\" style=\"width:100%;padding:0\"><div style=\"padding:0 0.25em\"><ul><li><span class=\"uid\"><a rel=\"nofollow\" class=\"external text\" href=\"https://id.loc.gov/authorities/n80119900\">United States</a></span></li><li><span class=\"uid\"><a rel=\"nofollow\" class=\"external text\" href=\"https://catalogue.bnf.fr/ark:/12148/cb166868590\">France</a></span></li><li><span class=\"uid\"><a rel=\"nofollow\" class=\"external text\" href=\"https://data.bnf.fr/ark:/12148/cb166868590\">BnF data</a></span></li><li><span class=\"uid\"><a rel=\"nofollow\" class=\"external text\" href=\"https://dbn.bn.org.pl/descriptor-details/9810704583105606\">Poland</a></span></li><li><span class=\"uid\"><a rel=\"nofollow\" class=\"external text\" href=\"https://www.nli.org.il/en/authorities/987007585583205171\">Israel</a></span></li></ul></div></td></tr><tr><th scope=\"row\" class=\"navbox-group\" style=\"width:1%\">Other</th><td class=\"navbox-list-with-group navbox-list navbox-odd\" style=\"width:100%;padding:0\"><div style=\"padding:0 0.25em\"><ul><li><span class=\"uid\"><a rel=\"nofollow\" class=\"external text\" href=\"https://www.idref.fr/077711130\">IdRef</a></span></li></ul></div></td></tr></tbody></table></div>\\n<!-- \\nNewPP limit report\\nParsed by mw‐web.eqiad.main‐99cbb7fcd‐jfswz\\nCached time: 20251018094606\\nCache expiry: 2592000\\nReduced expiry: false\\nComplications: [vary‐revision‐sha1, show‐toc]\\nCPU time usage: 0.561 seconds\\nReal time usage: 0.735 seconds\\nPreprocessor visited node count: 2623/1000000\\nRevision size: 9406/2097152 bytes\\nPost‐expand include size: 71266/2097152 bytes\\nTemplate argument size: 2563/2097152 bytes\\nHighest expansion depth: 13/100\\nExpensive parser function count: 3/500\\nUnstrip recursion depth: 1/20\\nUnstrip post‐expand size: 42927/5000000 bytes\\nLua time usage: 0.384/10.000 seconds\\nLua memory usage: 13614552/52428800 bytes\\nNumber of Wikibase entities loaded: 1/500\\n-->\\n<!--\\nTransclusion expansion time report (%,ms,calls,template)\\n100.00%  657.565      1 -total\\n 34.24%  225.178      3 Template:Infobox\\n 32.78%  215.551      1 Template:Infobox_university\\n 16.93%  111.331      2 Template:Langx\\n 15.39%  101.209      1 Template:Reflist\\n 13.53%   88.996      4 Template:Cite_web\\n 12.65%   83.212      1 Template:Short_description\\n 12.63%   83.061      2 Template:Navbox\\n 12.53%   82.378      1 Template:Universities_in_Poland\\n  9.80%   64.449      1 Template:More_sources_needed\\n-->\\n\\n<!-- Saved in parser cache with key enwiki:pcache:38290:|#|:idhash:canonical and timestamp 20251018094606 and revision id 1308818926. Rendering was triggered because: page_view\\n -->\\n</div><noscript><img src=\"https://en.wikipedia.org/wiki/Special:CentralAutoLogin/start?useformat=desktop&amp;type=1x1&amp;usesul3=1\" alt=\"\" width=\"1\" height=\"1\" style=\"border: none; position: absolute;\"></noscript>\\n<div class=\"printfooter\" data-nosnippet=\"\">Retrieved from \"<a dir=\"ltr\" href=\"https://en.wikipedia.org/w/index.php?title=Poznań_University_of_Technology&amp;oldid=1308818926\">https://en.wikipedia.org/w/index.php?title=Poznań_University_of_Technology&amp;oldid=1308818926</a>\"</div></div>\\n\\t\\t\\t\\t\\t<div id=\"catlinks\" class=\"catlinks\" data-mw=\"interface\"><div id=\"mw-normal-catlinks\" class=\"mw-normal-catlinks\"><a href=\"/wiki/Help:Category\" title=\"Help:Category\">Categories</a>: <ul><li><a href=\"/wiki/Category:Pozna%C5%84_University_of_Technology\" title=\"Category:Poznań University of Technology\">Poznań University of Technology</a></li><li><a href=\"/wiki/Category:Universities_and_colleges_established_in_1955\" title=\"Category:Universities and colleges established in 1955\">Universities and colleges established in 1955</a></li><li><a href=\"/wiki/Category:1955_establishments_in_Poland\" title=\"Category:1955 establishments in Poland\">1955 establishments in Poland</a></li></ul></div><div id=\"mw-hidden-catlinks\" class=\"mw-hidden-catlinks mw-hidden-cats-hidden\">Hidden categories: <ul><li><a href=\"/wiki/Category:CS1_Polish-language_sources_(pl)\" title=\"Category:CS1 Polish-language sources (pl)\">CS1 Polish-language sources (pl)</a></li><li><a href=\"/wiki/Category:Pages_using_gadget_WikiMiniAtlas\" title=\"Category:Pages using gadget WikiMiniAtlas\">Pages using gadget WikiMiniAtlas</a></li><li><a href=\"/wiki/Category:Articles_with_short_description\" title=\"Category:Articles with short description\">Articles with short description</a></li><li><a href=\"/wiki/Category:Short_description_matches_Wikidata\" title=\"Category:Short description matches Wikidata\">Short description matches Wikidata</a></li><li><a href=\"/wiki/Category:Use_dmy_dates_from_April_2020\" title=\"Category:Use dmy dates from April 2020\">Use dmy dates from April 2020</a></li><li><a href=\"/wiki/Category:Articles_needing_additional_references_from_August_2015\" title=\"Category:Articles needing additional references from August 2015\">Articles needing additional references from August 2015</a></li><li><a href=\"/wiki/Category:All_articles_needing_additional_references\" title=\"Category:All articles needing additional references\">All articles needing additional references</a></li><li><a href=\"/wiki/Category:Articles_containing_Latin-language_text\" title=\"Category:Articles containing Latin-language text\">Articles containing Latin-language text</a></li><li><a href=\"/wiki/Category:Infobox_mapframe_without_OSM_relation_ID_on_Wikidata\" title=\"Category:Infobox mapframe without OSM relation ID on Wikidata\">Infobox mapframe without OSM relation ID on Wikidata</a></li><li><a href=\"/wiki/Category:Articles_using_infobox_university\" title=\"Category:Articles using infobox university\">Articles using infobox university</a></li><li><a href=\"/wiki/Category:Pages_using_infobox_university_with_the_affiliations_parameter\" title=\"Category:Pages using infobox university with the affiliations parameter\">Pages using infobox university with the affiliations parameter</a></li><li><a href=\"/wiki/Category:Articles_using_infobox_templates_with_no_data_rows\" title=\"Category:Articles using infobox templates with no data rows\">Articles using infobox templates with no data rows</a></li><li><a href=\"/wiki/Category:Articles_containing_Polish-language_text\" title=\"Category:Articles containing Polish-language text\">Articles containing Polish-language text</a></li><li><a href=\"/wiki/Category:Coordinates_on_Wikidata\" title=\"Category:Coordinates on Wikidata\">Coordinates on Wikidata</a></li><li><a href=\"/wiki/Category:Pages_using_the_Kartographer_extension\" title=\"Category:Pages using the Kartographer extension\">Pages using the Kartographer extension</a></li></ul></div></div>\\n\\t\\t\\t\\t</div>\\n\\t\\t\\t</main>\\n\\t\\t\\t\\n\\t\\t</div>\\n\\t\\t<div class=\"mw-footer-container\">\\n\\t\\t\\t\\n<footer id=\"footer\" class=\"mw-footer\" >\\n\\t<ul id=\"footer-info\">\\n\\t<li id=\"footer-info-lastmod\"> This page was last edited on 31 August 2025, at 17:47<span class=\"anonymous-show\">&#160;(UTC)</span>.</li>\\n\\t<li id=\"footer-info-copyright\">Text is available under the <a href=\"/wiki/Wikipedia:Text_of_the_Creative_Commons_Attribution-ShareAlike_4.0_International_License\" title=\"Wikipedia:Text of the Creative Commons Attribution-ShareAlike 4.0 International License\">Creative Commons Attribution-ShareAlike 4.0 License</a>;\\nadditional terms may apply. By using this site, you agree to the <a href=\"https://foundation.wikimedia.org/wiki/Special:MyLanguage/Policy:Terms_of_Use\" class=\"extiw\" title=\"foundation:Special:MyLanguage/Policy:Terms of Use\">Terms of Use</a> and <a href=\"https://foundation.wikimedia.org/wiki/Special:MyLanguage/Policy:Privacy_policy\" class=\"extiw\" title=\"foundation:Special:MyLanguage/Policy:Privacy policy\">Privacy Policy</a>. Wikipedia® is a registered trademark of the <a rel=\"nofollow\" class=\"external text\" href=\"https://wikimediafoundation.org/\">Wikimedia Foundation, Inc.</a>, a non-profit organization.</li>\\n</ul>\\n\\n\\t<ul id=\"footer-places\">\\n\\t<li id=\"footer-places-privacy\"><a href=\"https://foundation.wikimedia.org/wiki/Special:MyLanguage/Policy:Privacy_policy\">Privacy policy</a></li>\\n\\t<li id=\"footer-places-about\"><a href=\"/wiki/Wikipedia:About\">About Wikipedia</a></li>\\n\\t<li id=\"footer-places-disclaimers\"><a href=\"/wiki/Wikipedia:General_disclaimer\">Disclaimers</a></li>\\n\\t<li id=\"footer-places-contact\"><a href=\"//en.wikipedia.org/wiki/Wikipedia:Contact_us\">Contact Wikipedia</a></li>\\n\\t<li id=\"footer-places-wm-codeofconduct\"><a href=\"https://foundation.wikimedia.org/wiki/Special:MyLanguage/Policy:Universal_Code_of_Conduct\">Code of Conduct</a></li>\\n\\t<li id=\"footer-places-developers\"><a href=\"https://developer.wikimedia.org\">Developers</a></li>\\n\\t<li id=\"footer-places-statslink\"><a href=\"https://stats.wikimedia.org/#/en.wikipedia.org\">Statistics</a></li>\\n\\t<li id=\"footer-places-cookiestatement\"><a href=\"https://foundation.wikimedia.org/wiki/Special:MyLanguage/Policy:Cookie_statement\">Cookie statement</a></li>\\n\\t<li id=\"footer-places-mobileview\"><a href=\"//en.wikipedia.org/w/index.php?title=Pozna%C5%84_University_of_Technology&amp;mobileaction=toggle_view_mobile\" class=\"noprint stopMobileRedirectToggle\">Mobile view</a></li>\\n</ul>\\n\\n\\t<ul id=\"footer-icons\" class=\"noprint\">\\n\\t<li id=\"footer-copyrightico\"><a href=\"https://www.wikimedia.org/\" class=\"cdx-button cdx-button--fake-button cdx-button--size-large cdx-button--fake-button--enabled\"><picture><source media=\"(min-width: 500px)\" srcset=\"/static/images/footer/wikimedia-button.svg\" width=\"84\" height=\"29\"><img src=\"/static/images/footer/wikimedia.svg\" width=\"25\" height=\"25\" alt=\"Wikimedia Foundation\" lang=\"en\" loading=\"lazy\"></picture></a></li>\\n\\t<li id=\"footer-poweredbyico\"><a href=\"https://www.mediawiki.org/\" class=\"cdx-button cdx-button--fake-button cdx-button--size-large cdx-button--fake-button--enabled\"><picture><source media=\"(min-width: 500px)\" srcset=\"/w/resources/assets/poweredby_mediawiki.svg\" width=\"88\" height=\"31\"><img src=\"/w/resources/assets/mediawiki_compact.svg\" alt=\"Powered by MediaWiki\" lang=\"en\" width=\"25\" height=\"25\" loading=\"lazy\"></picture></a></li>\\n</ul>\\n\\n</footer>\\n\\n\\t\\t</div>\\n\\t</div> \\n</div> \\n<div class=\"vector-header-container vector-sticky-header-container no-font-mode-scale\">\\n\\t<div id=\"vector-sticky-header\" class=\"vector-sticky-header\">\\n\\t\\t<div class=\"vector-sticky-header-start\">\\n\\t\\t\\t<div class=\"vector-sticky-header-icon-start vector-button-flush-left vector-button-flush-right\" aria-hidden=\"true\">\\n\\t\\t\\t\\t<button class=\"cdx-button cdx-button--weight-quiet cdx-button--icon-only vector-sticky-header-search-toggle\" tabindex=\"-1\" data-event-name=\"ui.vector-sticky-search-form.icon\"><span class=\"vector-icon mw-ui-icon-search mw-ui-icon-wikimedia-search\"></span>\\n\\n<span>Search</span>\\n\\t\\t\\t</button>\\n\\t\\t</div>\\n\\t\\t\\t\\n\\t\\t<div role=\"search\" class=\"vector-search-box-vue  vector-search-box-show-thumbnail vector-search-box\">\\n\\t\\t\\t<div class=\"vector-typeahead-search-container\">\\n\\t\\t\\t\\t<div class=\"cdx-typeahead-search cdx-typeahead-search--show-thumbnail\">\\n\\t\\t\\t\\t\\t<form action=\"/w/index.php\" id=\"vector-sticky-search-form\" class=\"cdx-search-input cdx-search-input--has-end-button\">\\n\\t\\t\\t\\t\\t\\t<div  class=\"cdx-search-input__input-wrapper\"  data-search-loc=\"header-moved\">\\n\\t\\t\\t\\t\\t\\t\\t<div class=\"cdx-text-input cdx-text-input--has-start-icon\">\\n\\t\\t\\t\\t\\t\\t\\t\\t<input\\n\\t\\t\\t\\t\\t\\t\\t\\t\\tclass=\"cdx-text-input__input mw-searchInput\" autocomplete=\"off\"\\n\\t\\t\\t\\t\\t\\t\\t\\t\\t\\n\\t\\t\\t\\t\\t\\t\\t\\t\\ttype=\"search\" name=\"search\" placeholder=\"Search Wikipedia\">\\n\\t\\t\\t\\t\\t\\t\\t\\t<span class=\"cdx-text-input__icon cdx-text-input__start-icon\"></span>\\n\\t\\t\\t\\t\\t\\t\\t</div>\\n\\t\\t\\t\\t\\t\\t\\t<input type=\"hidden\" name=\"title\" value=\"Special:Search\">\\n\\t\\t\\t\\t\\t\\t</div>\\n\\t\\t\\t\\t\\t\\t<button class=\"cdx-button cdx-search-input__end-button\">Search</button>\\n\\t\\t\\t\\t\\t</form>\\n\\t\\t\\t\\t</div>\\n\\t\\t\\t</div>\\n\\t\\t</div>\\n\\t\\t<div class=\"vector-sticky-header-context-bar\">\\n\\t\\t\\t\\t<nav aria-label=\"Contents\" class=\"vector-toc-landmark\">\\n\\t\\t\\t\\t\\t\\t\\n\\t\\t\\t\\t\\t<div id=\"vector-sticky-header-toc\" class=\"vector-dropdown mw-portlet mw-portlet-sticky-header-toc vector-sticky-header-toc vector-button-flush-left\"  >\\n\\t\\t\\t\\t\\t\\t<input type=\"checkbox\" id=\"vector-sticky-header-toc-checkbox\" role=\"button\" aria-haspopup=\"true\" data-event-name=\"ui.dropdown-vector-sticky-header-toc\" class=\"vector-dropdown-checkbox \"  aria-label=\"Toggle the table of contents\"  >\\n\\t\\t\\t\\t\\t\\t<label id=\"vector-sticky-header-toc-label\" for=\"vector-sticky-header-toc-checkbox\" class=\"vector-dropdown-label cdx-button cdx-button--fake-button cdx-button--fake-button--enabled cdx-button--weight-quiet cdx-button--icon-only \" aria-hidden=\"true\"  ><span class=\"vector-icon mw-ui-icon-listBullet mw-ui-icon-wikimedia-listBullet\"></span>\\n\\n<span class=\"vector-dropdown-label-text\">Toggle the table of contents</span>\\n\\t\\t\\t\\t\\t\\t</label>\\n\\t\\t\\t\\t\\t\\t<div class=\"vector-dropdown-content\">\\n\\t\\t\\t\\t\\t\\n\\t\\t\\t\\t\\t\\t<div id=\"vector-sticky-header-toc-unpinned-container\" class=\"vector-unpinned-container\">\\n\\t\\t\\t\\t\\t\\t</div>\\n\\t\\t\\t\\t\\t\\n\\t\\t\\t\\t\\t\\t</div>\\n\\t\\t\\t\\t\\t</div>\\n\\t\\t\\t</nav>\\n\\t\\t\\t\\t<div class=\"vector-sticky-header-context-bar-primary\" aria-hidden=\"true\" ><span class=\"mw-page-title-main\">Poznań University of Technology</span></div>\\n\\t\\t\\t</div>\\n\\t\\t</div>\\n\\t\\t<div class=\"vector-sticky-header-end\" aria-hidden=\"true\">\\n\\t\\t\\t<div class=\"vector-sticky-header-icons\">\\n\\t\\t\\t\\t<a href=\"#\" class=\"cdx-button cdx-button--fake-button cdx-button--fake-button--enabled cdx-button--weight-quiet cdx-button--icon-only\" id=\"ca-talk-sticky-header\" tabindex=\"-1\" data-event-name=\"talk-sticky-header\"><span class=\"vector-icon mw-ui-icon-speechBubbles mw-ui-icon-wikimedia-speechBubbles\"></span>\\n\\n<span></span>\\n\\t\\t\\t</a>\\n\\t\\t\\t<a href=\"#\" class=\"cdx-button cdx-button--fake-button cdx-button--fake-button--enabled cdx-button--weight-quiet cdx-button--icon-only\" id=\"ca-subject-sticky-header\" tabindex=\"-1\" data-event-name=\"subject-sticky-header\"><span class=\"vector-icon mw-ui-icon-article mw-ui-icon-wikimedia-article\"></span>\\n\\n<span></span>\\n\\t\\t\\t</a>\\n\\t\\t\\t<a href=\"#\" class=\"cdx-button cdx-button--fake-button cdx-button--fake-button--enabled cdx-button--weight-quiet cdx-button--icon-only\" id=\"ca-history-sticky-header\" tabindex=\"-1\" data-event-name=\"history-sticky-header\"><span class=\"vector-icon mw-ui-icon-wikimedia-history mw-ui-icon-wikimedia-wikimedia-history\"></span>\\n\\n<span></span>\\n\\t\\t\\t</a>\\n\\t\\t\\t<a href=\"#\" class=\"cdx-button cdx-button--fake-button cdx-button--fake-button--enabled cdx-button--weight-quiet cdx-button--icon-only mw-watchlink\" id=\"ca-watchstar-sticky-header\" tabindex=\"-1\" data-event-name=\"watch-sticky-header\"><span class=\"vector-icon mw-ui-icon-wikimedia-star mw-ui-icon-wikimedia-wikimedia-star\"></span>\\n\\n<span></span>\\n\\t\\t\\t</a>\\n\\t\\t\\t<a href=\"#\" class=\"cdx-button cdx-button--fake-button cdx-button--fake-button--enabled cdx-button--weight-quiet cdx-button--icon-only reading-lists-bookmark\" id=\"ca-bookmark-sticky-header\" tabindex=\"-1\" data-event-name=\"watch-sticky-bookmark\"><span class=\"vector-icon mw-ui-icon-wikimedia-bookmarkOutline mw-ui-icon-wikimedia-wikimedia-bookmarkOutline\"></span>\\n\\n<span></span>\\n\\t\\t\\t</a>\\n\\t\\t\\t<a href=\"#\" class=\"cdx-button cdx-button--fake-button cdx-button--fake-button--enabled cdx-button--weight-quiet cdx-button--icon-only\" id=\"ca-edit-sticky-header\" tabindex=\"-1\" data-event-name=\"wikitext-edit-sticky-header\"><span class=\"vector-icon mw-ui-icon-wikimedia-wikiText mw-ui-icon-wikimedia-wikimedia-wikiText\"></span>\\n\\n<span></span>\\n\\t\\t\\t</a>\\n\\t\\t\\t<a href=\"#\" class=\"cdx-button cdx-button--fake-button cdx-button--fake-button--enabled cdx-button--weight-quiet cdx-button--icon-only\" id=\"ca-ve-edit-sticky-header\" tabindex=\"-1\" data-event-name=\"ve-edit-sticky-header\"><span class=\"vector-icon mw-ui-icon-wikimedia-edit mw-ui-icon-wikimedia-wikimedia-edit\"></span>\\n\\n<span></span>\\n\\t\\t\\t</a>\\n\\t\\t\\t<a href=\"#\" class=\"cdx-button cdx-button--fake-button cdx-button--fake-button--enabled cdx-button--weight-quiet cdx-button--icon-only\" id=\"ca-viewsource-sticky-header\" tabindex=\"-1\" data-event-name=\"ve-edit-protected-sticky-header\"><span class=\"vector-icon mw-ui-icon-wikimedia-editLock mw-ui-icon-wikimedia-wikimedia-editLock\"></span>\\n\\n<span></span>\\n\\t\\t\\t</a>\\n\\t\\t</div>\\n\\t\\t\\t<div class=\"vector-sticky-header-buttons\">\\n\\t\\t\\t\\t<button class=\"cdx-button cdx-button--weight-quiet mw-interlanguage-selector\" id=\"p-lang-btn-sticky-header\" tabindex=\"-1\" data-event-name=\"ui.dropdown-p-lang-btn-sticky-header\"><span class=\"vector-icon mw-ui-icon-wikimedia-language mw-ui-icon-wikimedia-wikimedia-language\"></span>\\n\\n<span>11 languages</span>\\n\\t\\t\\t</button>\\n\\t\\t\\t<a href=\"#\" class=\"cdx-button cdx-button--fake-button cdx-button--fake-button--enabled cdx-button--weight-quiet cdx-button--action-progressive\" id=\"ca-addsection-sticky-header\" tabindex=\"-1\" data-event-name=\"addsection-sticky-header\"><span class=\"vector-icon mw-ui-icon-speechBubbleAdd-progressive mw-ui-icon-wikimedia-speechBubbleAdd-progressive\"></span>\\n\\n<span>Add topic</span>\\n\\t\\t\\t</a>\\n\\t\\t</div>\\n\\t\\t\\t<div class=\"vector-sticky-header-icon-end\">\\n\\t\\t\\t\\t<div class=\"vector-user-links\">\\n\\t\\t\\t\\t</div>\\n\\t\\t\\t</div>\\n\\t\\t</div>\\n\\t</div>\\n</div>\\n<div class=\"mw-portlet mw-portlet-dock-bottom emptyPortlet\" id=\"p-dock-bottom\">\\n\\t<ul>\\n\\t\\t\\n\\t</ul>\\n</div>\\n<script>(RLQ=window.RLQ||[]).push(function(){mw.config.set({\"wgHostname\":\"mw-web.eqiad.main-99cbb7fcd-4h69l\",\"wgBackendResponseTime\":123,\"wgKartographerLiveData\":{\"_a20a830a9c4273f20ad80c6495aebc77bc082cc4\":[{\"type\":\"ExternalData\",\"service\":\"geoshape\",\"url\":\"https://maps.wikimedia.org/geoshape?getgeojson=1\\\\u0026ids=Q1678753\",\"properties\":{\"title\":\"Poznań University of Technology\",\"fill-opacity\":0.075,\"stroke\":\"#FF0000\",\"stroke-width\":2,\"fill\":\"#606060\"}},{\"type\":\"ExternalData\",\"service\":\"geoline\",\"url\":\"https://maps.wikimedia.org/geoline?getgeojson=1\\\\u0026ids=Q1678753\",\"properties\":{\"stroke-width\":5,\"stroke\":\"#FF0000\",\"title\":\"Poznań University of Technology\"}},{\"type\":\"Feature\",\"geometry\":{\"coordinates\":[16.918333333333333,52.39416666666666],\"type\":\"Point\"},\"properties\":{\"marker-color\":\"#5E74F3\",\"title\":\"Poznań University of Technology\",\"marker-symbol\":\"college\"}}]},\"wgPageParseReport\":{\"limitreport\":{\"cputime\":\"0.561\",\"walltime\":\"0.735\",\"ppvisitednodes\":{\"value\":2623,\"limit\":1000000},\"revisionsize\":{\"value\":9406,\"limit\":2097152},\"postexpandincludesize\":{\"value\":71266,\"limit\":2097152},\"templateargumentsize\":{\"value\":2563,\"limit\":2097152},\"expansiondepth\":{\"value\":13,\"limit\":100},\"expensivefunctioncount\":{\"value\":3,\"limit\":500},\"unstrip-depth\":{\"value\":1,\"limit\":20},\"unstrip-size\":{\"value\":42927,\"limit\":5000000},\"entityaccesscount\":{\"value\":1,\"limit\":500},\"timingprofile\":[\"100.00%  657.565      1 -total\",\" 34.24%  225.178      3 Template:Infobox\",\" 32.78%  215.551      1 Template:Infobox_university\",\" 16.93%  111.331      2 Template:Langx\",\" 15.39%  101.209      1 Template:Reflist\",\" 13.53%   88.996      4 Template:Cite_web\",\" 12.65%   83.212      1 Template:Short_description\",\" 12.63%   83.061      2 Template:Navbox\",\" 12.53%   82.378      1 Template:Universities_in_Poland\",\"  9.80%   64.449      1 Template:More_sources_needed\"]},\"scribunto\":{\"limitreport-timeusage\":{\"value\":\"0.384\",\"limit\":\"10.000\"},\"limitreport-memusage\":{\"value\":13614552,\"limit\":52428800}},\"cachereport\":{\"origin\":\"mw-web.eqiad.main-99cbb7fcd-jfswz\",\"timestamp\":\"20251018094606\",\"ttl\":2592000,\"transientcontent\":false}}});});</script>\\n<script type=\"application/ld+json\">{\"@context\":\"https:\\\\/\\\\/schema.org\",\"@type\":\"Article\",\"name\":\"Pozna\\\\u0144 University of Technology\",\"url\":\"https:\\\\/\\\\/en.wikipedia.org\\\\/wiki\\\\/Pozna%C5%84_University_of_Technology\",\"sameAs\":\"http:\\\\/\\\\/www.wikidata.org\\\\/entity\\\\/Q1678753\",\"mainEntity\":\"http:\\\\/\\\\/www.wikidata.org\\\\/entity\\\\/Q1678753\",\"author\":{\"@type\":\"Organization\",\"name\":\"Contributors to Wikimedia projects\"},\"publisher\":{\"@type\":\"Organization\",\"name\":\"Wikimedia Foundation, Inc.\",\"logo\":{\"@type\":\"ImageObject\",\"url\":\"https:\\\\/\\\\/www.wikimedia.org\\\\/static\\\\/images\\\\/wmf-hor-googpub.png\"}},\"datePublished\":\"2002-02-08T04:21:06Z\",\"dateModified\":\"2025-08-31T17:47:31Z\",\"image\":\"https:\\\\/\\\\/upload.wikimedia.org\\\\/wikipedia\\\\/commons\\\\/2\\\\/2e\\\\/Rektorat_Politechniki_Pozna%C5%84skiej_04.JPG\",\"headline\":\"technical university in Pozna\\\\u0144, Poland\"}</script>\\n</body>\\n</html>'"
            ]
          },
          "execution_count": 3,
          "metadata": {},
          "output_type": "execute_result"
        }
      ],
      "source": [
        "response.text"
      ]
    },
    {
      "cell_type": "markdown",
      "metadata": {
        "id": "_CGUwXu5d0_3"
      },
      "source": [
        "Working with such a string might be problematic. However, HTML is structured and we can benefit from it. The Beautiful Soup package transforms HTML string into a tree form and allows us to query it in a much more efficient and easier way."
      ]
    },
    {
      "cell_type": "code",
      "execution_count": 8,
      "metadata": {
        "id": "qjuGDo2Rd0_3"
      },
      "outputs": [],
      "source": [
        "parsed = bs4.BeautifulSoup(response.text)\n",
        "# parsed"
      ]
    },
    {
      "cell_type": "markdown",
      "metadata": {
        "id": "G1ju0DASd0_4"
      },
      "source": [
        "Typically text content is stored in a paragraph element denoted with a 'p' tag. We can take a look at the text from all paragraphs."
      ]
    },
    {
      "cell_type": "code",
      "execution_count": 9,
      "metadata": {
        "id": "JsrJd6Fid0_4"
      },
      "outputs": [
        {
          "name": "stdout",
          "output_type": "stream",
          "text": [
            "\n",
            "\n",
            "Poznań University of Technology, PUT (Polish: Politechnika Poznańska) is a university in Poznań, Poland.[3] Poznań University of Technology is known as one of the best technical universities in Poland. URAP ranked PUT among the top 6% of world universities and Webometrics ranked it at no. 842 in the world by Google citations for the year 2015. In 1995, it became the first Polish university to become a member of the Conference of European Schools for Advanced Engineering Education and Research (CESAER), an organization comprising the best technical universities in Europe. The university is also a member of the Socrates-Erasmus programme for exchange students from all over Europe, promoting advanced engineering and a European dimension. The university is home to many organizations and student circles, and the radio station Afera 98.6 MHz. The university has over 21,000 students and over 1,100 academic staff.\n",
            "\n",
            "There are nine faculties (since 2020):\n",
            "\n",
            "Poznan University of Technology (PUT) was officially founded in 1955 and the first rector was Roman Kozak. But a state school had existed in Poznań since 1919, named the Higher State School of Machinery. After adding a second department in 1929, its name was changed to the Higher State School of Machinery and Electrotechnics. It was supposed to become the University of Technology in 1940, but its development was interrupted by World War II. In 1945 the school received the status of Higher Engineering School and in 1955 it became the University of Technology.\n",
            "\n",
            "In 1999 PUT celebrated the 80th anniversary of the higher educational technical system in Poznan. It continues traditions of the State Higher School of Mechanical Engineering, which was opened in August 1919. The school remained open at the outbreak of the Second World War, during which time 716 graduates had completed their studies there. It was allocated in a building nowadays situated at Marie Skłodowska-Curie Square, today the Rector's Office. In 1929, the school changed its name to the State Higher School of Mechanical and Electrical Engineering. As a result of further development, the Higher School was to be given the status of a university in 1940. Unfortunately, this did not occur during the war period. In September 1945, the school received the title High School of Engineering and after ten years became Poznan University of Technology.\n",
            "\n",
            "PUT is at present autonomous state institution consisting of nine faculties in which institutes and chairs over one thousand academic staff members do research and run educational tasks for over fourteen thousand students of full -time and part-time studies. PUT has been granted the right to confer doctorates in technical science. Moreover, it runs postgraduate studies within different faculties.\n",
            "\n",
            "In 1995 PUT, as the first Polish University of Technology, became a member of the Conference of European Schools for Advanced Engineering Education and Research – CESAER-bringing together the best European Engineering Colleges and Universities of Technology. In 1999 PUT was the host organization of the IX CESAER Conference.\n",
            "\n",
            "In the academic year 1999 / 2000 European Credit Transfer System –ECTS-was introduced at the PUT.\n",
            "\n",
            "From the academic year 2006/2007, Poznan University of Technology also conducts its existing doctoral studies as third-cycle studies.[4]\n",
            "\n",
            "Students from the Faculty of Computer Science started few times in CSIDC computer systems projecting world championships organised by Institute of Electrical and Electronics Engineers (IEEE) Computer Society and ImagineCup (Microsoft). Four different teams in 2001–2006 managed by Doctor of Engineering Jan Kniat were three-time world champions. Many graduates from Computer science and Management faculty work in Microsoft corporation in Redmond, Washington, US. PUT is a member of CESAER Association and was the first Polish technical university to receive membership of that organisation.\n",
            "\n",
            "52°23′39″N 16°55′06″E﻿ / ﻿52.3942°N 16.9183°E﻿ / 52.3942; 16.9183\n",
            "\n"
          ]
        }
      ],
      "source": [
        "for p in parsed.select('p'):\n",
        "    print(p.getText())"
      ]
    },
    {
      "cell_type": "markdown",
      "metadata": {
        "id": "5TAyhuTKd0_4"
      },
      "source": [
        "## Task1\n",
        "Implement a function getText(url)\n",
        " - download content from a given url\n",
        " - transform it using bs\n",
        " - return text from all paragraphs"
      ]
    },
    {
      "cell_type": "code",
      "execution_count": null,
      "metadata": {
        "id": "aKqWV5nld0_4"
      },
      "outputs": [],
      "source": [
        "def getText(url):\n",
        "\n",
        "    output = \"\"\n",
        "    headers = {\n",
        "        'User-Agent': 'IRclasses',\n",
        "    }\n",
        "\n",
        "    response = requests.get(url, headers=headers)\n",
        "    \n",
        "    parsed = bs4.BeautifulSoup(response.text)\n",
        "    \n",
        "    for p in parsed.select('p'):\n",
        "        output += p.getText()\n",
        "\n",
        "    return output"
      ]
    },
    {
      "cell_type": "code",
      "execution_count": 16,
      "metadata": {
        "id": "hgbWf9tEd0_4"
      },
      "outputs": [
        {
          "data": {
            "text/plain": [
              "\"\\nPoznań University of Technology, PUT (Polish: Politechnika Poznańska) is a university in Poznań, Poland.[3] Poznań University of Technology is known as one of the best technical universities in Poland. URAP ranked PUT among the top 6% of world universities and Webometrics ranked it at no. 842 in the world by Google citations for the year 2015. In 1995, it became the first Polish university to become a member of the Conference of European Schools for Advanced Engineering Education and Research (CESAER), an organization comprising the best technical universities in Europe. The university is also a member of the Socrates-Erasmus programme for exchange students from all over Europe, promoting advanced engineering and a European dimension. The university is home to many organizations and student circles, and the radio station Afera 98.6\\xa0MHz. The university has over 21,000 students and over 1,100 academic staff.\\nThere are nine faculties (since 2020):\\nPoznan University of Technology (PUT) was officially founded in 1955 and the first rector was Roman Kozak. But a state school had existed in Poznań since 1919, named the Higher State School of Machinery. After adding a second department in 1929, its name was changed to the Higher State School of Machinery and Electrotechnics. It was supposed to become the University of Technology in 1940, but its development was interrupted by World War II. In 1945 the school received the status of Higher Engineering School and in 1955 it became the University of Technology.\\nIn 1999 PUT celebrated the 80th anniversary of the higher educational technical system in Poznan. It continues traditions of the State Higher School of Mechanical Engineering, which was opened in August 1919. The school remained open at the outbreak of the Second World War, during which time 716 graduates had completed their studies there. It was allocated in a building nowadays situated at Marie Skłodowska-Curie Square, today the Rector's Office. In 1929, the school changed its name to the State Higher School of Mechanical and Electrical Engineering. As a result of further development, the Higher School was to be given the status of a university in 1940. Unfortunately, this did not occur during the war period. In September 1945, the school received the title High School of Engineering and after ten years became Poznan University of Technology.\\nPUT is at present autonomous state institution consisting of nine faculties in which institutes and chairs over one thousand academic staff members do research and run educational tasks for over fourteen thousand students of full -time and part-time studies. PUT has been granted the right to confer doctorates in technical science. Moreover, it runs postgraduate studies within different faculties.\\nIn 1995 PUT, as the first Polish University of Technology, became a member of the Conference of European Schools for Advanced Engineering Education and Research – CESAER-bringing together the best European Engineering Colleges and Universities of Technology. In 1999 PUT was the host organization of the IX CESAER Conference.\\nIn the academic year 1999 / 2000 European Credit Transfer System –ECTS-was introduced at the PUT.\\nFrom the academic year 2006/2007, Poznan University of Technology also conducts its existing doctoral studies as third-cycle studies.[4]\\nStudents from the Faculty of Computer Science started few times in CSIDC computer systems projecting world championships organised by Institute of Electrical and Electronics Engineers (IEEE) Computer Society and ImagineCup (Microsoft). Four different teams in 2001–2006 managed by Doctor of Engineering Jan Kniat were three-time world champions. Many graduates from Computer science and Management faculty work in Microsoft corporation in Redmond, Washington, US. PUT is a member of CESAER Association and was the first Polish technical university to receive membership of that organisation.\\n52°23′39″N 16°55′06″E\\ufeff / \\ufeff52.3942°N 16.9183°E\\ufeff / 52.3942; 16.9183\\n\""
            ]
          },
          "execution_count": 16,
          "metadata": {},
          "output_type": "execute_result"
        }
      ],
      "source": [
        "getText('https://en.wikipedia.org/wiki/Pozna%C5%84_University_of_Technology')"
      ]
    },
    {
      "cell_type": "code",
      "execution_count": 17,
      "metadata": {
        "id": "GdDfEWa3d0_4"
      },
      "outputs": [
        {
          "data": {
            "text/plain": [
              "'Pobieranie, zwielokrotnianie, przechowywanie lub jakiekolwiek inne wykorzystywanie treści dostępnych w niniejszym serwisie - bez względu na ich charakter i sposób wyrażenia (w szczególności lecz nie wyłącznie: słowne, słowno-muzyczne, muzyczne, audiowizualne, audialne, tekstowe, graficzne i zawarte w nich dane i informacje, bazy danych i zawarte w nich dane) oraz formę (np. literackie, publicystyczne, naukowe, kartograficzne, programy komputerowe, plastyczne, fotograficzne) wymaga uprzedniej i jednoznacznej zgody Wirtualna Polska Media Spółka Akcyjna z siedzibą w Warszawie, będącej właścicielem niniejszego serwisu, bez względu na sposób ich eksploracji i wykorzystaną metodę (manualną lub zautomatyzowaną technikę, w tym z użyciem programów uczenia maszynowego lub sztucznej inteligencji). Powyższe zastrzeżenie nie dotyczy wykorzystywania jedynie w celu ułatwienia ich wyszukiwania przez wyszukiwarki internetowe oraz korzystania w ramach stosunków umownych lub dozwolonego użytku określonego przez właściwe przepisy prawa.Szczegółowa treść dotycząca niniejszego zastrzeżenia znajduje się tutaj.'"
            ]
          },
          "execution_count": 17,
          "metadata": {},
          "output_type": "execute_result"
        }
      ],
      "source": [
        "getText(\"http://wp.pl\")"
      ]
    },
    {
      "cell_type": "markdown",
      "metadata": {
        "id": "K_hLm9D-d0_5"
      },
      "source": [
        "Nowadays websites are often dynamic, not static. Working with them would require dealing with javascript. It's possible and there are python packages supporting this processing but we will not cover them in this course."
      ]
    },
    {
      "cell_type": "code",
      "execution_count": 18,
      "metadata": {
        "id": "sbGZronkd0_5"
      },
      "outputs": [
        {
          "data": {
            "text/plain": [
              "''"
            ]
          },
          "execution_count": 18,
          "metadata": {},
          "output_type": "execute_result"
        }
      ],
      "source": [
        "getText(\"http://facebook.com\")"
      ]
    },
    {
      "cell_type": "markdown",
      "metadata": {
        "id": "jabwq9gmd0_5"
      },
      "source": [
        "## Task 2\n",
        "Extract number of students from infobox table"
      ]
    },
    {
      "cell_type": "code",
      "execution_count": 20,
      "metadata": {
        "id": "V7_yvUvEd0_5"
      },
      "outputs": [
        {
          "data": {
            "text/plain": [
              "<table class=\"box-More_citations_needed plainlinks metadata ambox ambox-content ambox-Refimprove\" role=\"presentation\"><tbody><tr><td class=\"mbox-image\"><div class=\"mbox-image-div\"><span typeof=\"mw:File\"><a class=\"mw-file-description\" href=\"/wiki/File:Question_book-new.svg\"><img alt=\"\" class=\"mw-file-element\" data-file-height=\"399\" data-file-width=\"512\" decoding=\"async\" height=\"39\" src=\"//upload.wikimedia.org/wikipedia/en/thumb/9/99/Question_book-new.svg/60px-Question_book-new.svg.png\" srcset=\"//upload.wikimedia.org/wikipedia/en/thumb/9/99/Question_book-new.svg/120px-Question_book-new.svg.png 1.5x\" width=\"50\"/></a></span></div></td><td class=\"mbox-text\"><div class=\"mbox-text-span\">This article <b>needs additional citations for <a href=\"/wiki/Wikipedia:Verifiability\" title=\"Wikipedia:Verifiability\">verification</a></b>.<span class=\"hide-when-compact\"> Please help <a href=\"/wiki/Special:EditPage/Pozna%C5%84_University_of_Technology\" title=\"Special:EditPage/Poznań University of Technology\">improve this article</a> by <a href=\"/wiki/Help:Referencing_for_beginners\" title=\"Help:Referencing for beginners\">adding citations to reliable sources</a>. Unsourced material may be challenged and removed.<br/><small><span class=\"plainlinks\"><i>Find sources:</i> <a class=\"external text\" href=\"https://www.google.com/search?as_eq=wikipedia&amp;q=%22Pozna%C5%84+University+of+Technology%22\" rel=\"nofollow\">\"Poznań University of Technology\"</a> – <a class=\"external text\" href=\"https://www.google.com/search?tbm=nws&amp;q=%22Pozna%C5%84+University+of+Technology%22+-wikipedia&amp;tbs=ar:1\" rel=\"nofollow\">news</a> <b>·</b> <a class=\"external text\" href=\"https://www.google.com/search?&amp;q=%22Pozna%C5%84+University+of+Technology%22&amp;tbs=bkt:s&amp;tbm=bks\" rel=\"nofollow\">newspapers</a> <b>·</b> <a class=\"external text\" href=\"https://www.google.com/search?tbs=bks:1&amp;q=%22Pozna%C5%84+University+of+Technology%22+-wikipedia\" rel=\"nofollow\">books</a> <b>·</b> <a class=\"external text\" href=\"https://scholar.google.com/scholar?q=%22Pozna%C5%84+University+of+Technology%22\" rel=\"nofollow\">scholar</a> <b>·</b> <a class=\"external text\" href=\"https://www.jstor.org/action/doBasicSearch?Query=%22Pozna%C5%84+University+of+Technology%22&amp;acc=on&amp;wc=on\" rel=\"nofollow\">JSTOR</a></span></small></span> <span class=\"date-container\"><i>(<span class=\"date\">August 2015</span>)</i></span><span class=\"hide-when-compact\"><i> (<small><a href=\"/wiki/Help:Maintenance_template_removal\" title=\"Help:Maintenance template removal\">Learn how and when to remove this message</a></small>)</i></span></div></td></tr></tbody></table>"
            ]
          },
          "execution_count": 20,
          "metadata": {},
          "output_type": "execute_result"
        }
      ],
      "source": [
        "response = requests.get('https://en.wikipedia.org/wiki/Pozna%C5%84_University_of_Technology', headers=headers)\n",
        "parsed = bs4.BeautifulSoup(response.text)\n",
        "parsed.find('table')"
      ]
    },
    {
      "cell_type": "markdown",
      "metadata": {
        "id": "1--RIdE6d0_5"
      },
      "source": [
        "In this task, you have to extract specific information from a specific table. The table we are interested in is of class infobox and bs allows us to use this information."
      ]
    },
    {
      "cell_type": "code",
      "execution_count": 21,
      "metadata": {
        "id": "gmdch9TTd0_5"
      },
      "outputs": [
        {
          "data": {
            "text/plain": [
              "<table class=\"infobox vcard\"><caption class=\"infobox-title fn org\">Poznań University of Technology</caption><tbody><tr><td class=\"infobox-subheader\" colspan=\"2\"><div class=\"nickname\">Politechnika Poznańska</div></td></tr><tr><td class=\"infobox-full-data nickname\" colspan=\"2\"><a class=\"mw-redirect\" href=\"/wiki/Latin_language\" title=\"Latin language\">Latin</a>: <i lang=\"la\">Polytechnica Posnaniensis</i></td></tr><tr><th class=\"infobox-label\" scope=\"row\" style=\"padding-right:0.65em;\">Motto</th><td class=\"infobox-data\"><i>Technologies in a positive climate</i></td></tr><tr><th class=\"infobox-label\" scope=\"row\" style=\"padding-right:0.65em;\">Type</th><td class=\"infobox-data\"><a href=\"/wiki/Public_university\" title=\"Public university\">Public</a></td></tr><tr><th class=\"infobox-label\" scope=\"row\" style=\"padding-right:0.65em;\">Established</th><td class=\"infobox-data\">1955 (1919)</td></tr><tr><th class=\"infobox-label\" scope=\"row\" style=\"padding-right:0.65em;\"><a href=\"/wiki/Rector_(academia)\" title=\"Rector (academia)\">Rector</a></th><td class=\"infobox-data\">PhD, Prof. Teofil Jesionowski</td></tr><tr><th class=\"infobox-label\" scope=\"row\" style=\"padding-right:0.65em;\">Students</th><td class=\"infobox-data\">14,138<sup class=\"reference\" id=\"cite_ref-1\"><a href=\"#cite_note-1\"><span class=\"cite-bracket\">[</span>1<span class=\"cite-bracket\">]</span></a></sup> <small>(12.2023)</small></td></tr><tr><th class=\"infobox-label\" scope=\"row\" style=\"padding-right:0.65em;\">Address</th><td class=\"infobox-data adr\"><div class=\"street-address\" style=\"display:inline\">pl. Marii Skłodowskiej-Curie 5<br/>60-965 Poznań</div>, <div class=\"locality\" style=\"display:inline\"><a href=\"/wiki/Pozna%C5%84\" title=\"Poznań\">Poznań</a></div>, <div class=\"state\" style=\"display:inline\"><a href=\"/wiki/Greater_Poland_Voivodeship\" title=\"Greater Poland Voivodeship\">Greater Poland Voivodeship</a></div>, <div class=\"country-name\" style=\"display:inline\"><a href=\"/wiki/Poland\" title=\"Poland\">Poland</a></div></td></tr><tr><th class=\"infobox-label\" scope=\"row\" style=\"padding-right:0.65em;\">Campus</th><td class=\"infobox-data\">Piotrowo, Nieszawska</td></tr><tr><th class=\"infobox-label\" scope=\"row\" style=\"padding-right:0.65em;\">Affiliations</th><td class=\"infobox-data\"><a class=\"mw-redirect\" href=\"/wiki/Conference_of_European_Schools_for_Advanced_Engineering_Education_and_Research\" title=\"Conference of European Schools for Advanced Engineering Education and Research\">CESAER</a>, <a class=\"mw-redirect\" href=\"/wiki/Socrates-Erasmus\" title=\"Socrates-Erasmus\">ERASMUS</a>, <a href=\"/wiki/European_University_Association\" title=\"European University Association\">EUA</a>, <a class=\"mw-redirect\" href=\"/wiki/EAIE\" title=\"EAIE\">EAIE</a>, <a href=\"/wiki/European_Society_for_Engineering_Education\" title=\"European Society for Engineering Education\">SEFI</a>,LEONET</td></tr><tr><th class=\"infobox-label\" scope=\"row\" style=\"padding-right:0.65em;\">Website</th><td class=\"infobox-data\"><span class=\"url\"><a class=\"external text\" href=\"http://put.poznan.pl\" rel=\"nofollow\">put<wbr/>.poznan<wbr/>.pl</a></span></td></tr><tr><td class=\"infobox-full-data\" colspan=\"2\"><a class=\"mw-kartographer-map notheme mw-kartographer-container center\" data-height=\"200\" data-mw-kartographer=\"mapframe\" data-overlays='[\"_a20a830a9c4273f20ad80c6495aebc77bc082cc4\"]' data-style=\"osm-intl\" data-width=\"270\" data-zoom=\"13\" style=\"width: 270px; height: 200px;\"><img alt=\"Map\" decoding=\"async\" height=\"200\" src=\"https://maps.wikimedia.org/img/osm-intl,13,a,a,270x200.png?lang=en&amp;domain=en.wikipedia.org&amp;title=Pozna%C5%84_University_of_Technology&amp;revid=1308818926&amp;groups=_a20a830a9c4273f20ad80c6495aebc77bc082cc4\" srcset=\"https://maps.wikimedia.org/img/osm-intl,13,a,a,270x200@2x.png?lang=en&amp;domain=en.wikipedia.org&amp;title=Pozna%C5%84_University_of_Technology&amp;revid=1308818926&amp;groups=_a20a830a9c4273f20ad80c6495aebc77bc082cc4 2x\" width=\"270\"/></a></td></tr></tbody></table>"
            ]
          },
          "execution_count": 21,
          "metadata": {},
          "output_type": "execute_result"
        }
      ],
      "source": [
        "parsed.find('table', class_=\"infobox\")"
      ]
    },
    {
      "cell_type": "markdown",
      "metadata": {
        "id": "uPbrj0Brd0_5"
      },
      "source": [
        "Since bs creates a tree structure you can navigate through it and use methods find and find_all on the next nodes."
      ]
    },
    {
      "cell_type": "code",
      "execution_count": 65,
      "metadata": {
        "id": "EMG8CsaOd0_5"
      },
      "outputs": [
        {
          "data": {
            "text/plain": [
              "[<tr><td class=\"infobox-subheader\" colspan=\"2\"><div class=\"nickname\">Politechnika Poznańska</div></td></tr>,\n",
              " <tr><td class=\"infobox-full-data nickname\" colspan=\"2\"><a class=\"mw-redirect\" href=\"/wiki/Latin_language\" title=\"Latin language\">Latin</a>: <i lang=\"la\">Polytechnica Posnaniensis</i></td></tr>,\n",
              " <tr><th class=\"infobox-label\" scope=\"row\" style=\"padding-right:0.65em;\">Motto</th><td class=\"infobox-data\"><i>Technologies in a positive climate</i></td></tr>,\n",
              " <tr><th class=\"infobox-label\" scope=\"row\" style=\"padding-right:0.65em;\">Type</th><td class=\"infobox-data\"><a href=\"/wiki/Public_university\" title=\"Public university\">Public</a></td></tr>,\n",
              " <tr><th class=\"infobox-label\" scope=\"row\" style=\"padding-right:0.65em;\">Established</th><td class=\"infobox-data\">1955 (1919)</td></tr>,\n",
              " <tr><th class=\"infobox-label\" scope=\"row\" style=\"padding-right:0.65em;\"><a href=\"/wiki/Rector_(academia)\" title=\"Rector (academia)\">Rector</a></th><td class=\"infobox-data\">PhD, Prof. Teofil Jesionowski</td></tr>,\n",
              " <tr><th class=\"infobox-label\" scope=\"row\" style=\"padding-right:0.65em;\">Students</th><td class=\"infobox-data\">14,138<sup class=\"reference\" id=\"cite_ref-1\"><a href=\"#cite_note-1\"><span class=\"cite-bracket\">[</span>1<span class=\"cite-bracket\">]</span></a></sup> <small>(12.2023)</small></td></tr>,\n",
              " <tr><th class=\"infobox-label\" scope=\"row\" style=\"padding-right:0.65em;\">Address</th><td class=\"infobox-data adr\"><div class=\"street-address\" style=\"display:inline\">pl. Marii Skłodowskiej-Curie 5<br/>60-965 Poznań</div>, <div class=\"locality\" style=\"display:inline\"><a href=\"/wiki/Pozna%C5%84\" title=\"Poznań\">Poznań</a></div>, <div class=\"state\" style=\"display:inline\"><a href=\"/wiki/Greater_Poland_Voivodeship\" title=\"Greater Poland Voivodeship\">Greater Poland Voivodeship</a></div>, <div class=\"country-name\" style=\"display:inline\"><a href=\"/wiki/Poland\" title=\"Poland\">Poland</a></div></td></tr>,\n",
              " <tr><th class=\"infobox-label\" scope=\"row\" style=\"padding-right:0.65em;\">Campus</th><td class=\"infobox-data\">Piotrowo, Nieszawska</td></tr>,\n",
              " <tr><th class=\"infobox-label\" scope=\"row\" style=\"padding-right:0.65em;\">Affiliations</th><td class=\"infobox-data\"><a class=\"mw-redirect\" href=\"/wiki/Conference_of_European_Schools_for_Advanced_Engineering_Education_and_Research\" title=\"Conference of European Schools for Advanced Engineering Education and Research\">CESAER</a>, <a class=\"mw-redirect\" href=\"/wiki/Socrates-Erasmus\" title=\"Socrates-Erasmus\">ERASMUS</a>, <a href=\"/wiki/European_University_Association\" title=\"European University Association\">EUA</a>, <a class=\"mw-redirect\" href=\"/wiki/EAIE\" title=\"EAIE\">EAIE</a>, <a href=\"/wiki/European_Society_for_Engineering_Education\" title=\"European Society for Engineering Education\">SEFI</a>,LEONET</td></tr>,\n",
              " <tr><th class=\"infobox-label\" scope=\"row\" style=\"padding-right:0.65em;\">Website</th><td class=\"infobox-data\"><span class=\"url\"><a class=\"external text\" href=\"http://put.poznan.pl\" rel=\"nofollow\">put<wbr/>.poznan<wbr/>.pl</a></span></td></tr>,\n",
              " <tr><td class=\"infobox-full-data\" colspan=\"2\"><a class=\"mw-kartographer-map notheme mw-kartographer-container center\" data-height=\"200\" data-mw-kartographer=\"mapframe\" data-overlays='[\"_a20a830a9c4273f20ad80c6495aebc77bc082cc4\"]' data-style=\"osm-intl\" data-width=\"270\" data-zoom=\"13\" style=\"width: 270px; height: 200px;\"><img alt=\"Map\" decoding=\"async\" height=\"200\" src=\"https://maps.wikimedia.org/img/osm-intl,13,a,a,270x200.png?lang=en&amp;domain=en.wikipedia.org&amp;title=Pozna%C5%84_University_of_Technology&amp;revid=1308818926&amp;groups=_a20a830a9c4273f20ad80c6495aebc77bc082cc4\" srcset=\"https://maps.wikimedia.org/img/osm-intl,13,a,a,270x200@2x.png?lang=en&amp;domain=en.wikipedia.org&amp;title=Pozna%C5%84_University_of_Technology&amp;revid=1308818926&amp;groups=_a20a830a9c4273f20ad80c6495aebc77bc082cc4 2x\" width=\"270\"/></a></td></tr>]"
            ]
          },
          "execution_count": 65,
          "metadata": {},
          "output_type": "execute_result"
        }
      ],
      "source": [
        "parsed.find('table', class_=\"infobox\").find_all(\"tr\")"
      ]
    },
    {
      "cell_type": "code",
      "execution_count": 23,
      "metadata": {
        "id": "N7lbJ6HCd0_5"
      },
      "outputs": [
        {
          "data": {
            "text/plain": [
              "<tr><th class=\"infobox-label\" scope=\"row\" style=\"padding-right:0.65em;\">Students</th><td class=\"infobox-data\">14,138<sup class=\"reference\" id=\"cite_ref-1\"><a href=\"#cite_note-1\"><span class=\"cite-bracket\">[</span>1<span class=\"cite-bracket\">]</span></a></sup> <small>(12.2023)</small></td></tr>"
            ]
          },
          "execution_count": 23,
          "metadata": {},
          "output_type": "execute_result"
        }
      ],
      "source": [
        "parsed.find('table', class_=\"infobox\").find_all(\"tr\")[6]"
      ]
    },
    {
      "cell_type": "code",
      "execution_count": 24,
      "metadata": {
        "id": "OsXQ-FzZd0_5"
      },
      "outputs": [
        {
          "data": {
            "text/plain": [
              "'Students'"
            ]
          },
          "execution_count": 24,
          "metadata": {},
          "output_type": "execute_result"
        }
      ],
      "source": [
        "parsed.find('table', class_=\"infobox\").find_all(\"tr\")[6].find('th').text"
      ]
    },
    {
      "cell_type": "code",
      "execution_count": 25,
      "metadata": {
        "id": "KFmJ2Ay6d0_6"
      },
      "outputs": [
        {
          "data": {
            "text/plain": [
              "'14,138[1] (12.2023)'"
            ]
          },
          "execution_count": 25,
          "metadata": {},
          "output_type": "execute_result"
        }
      ],
      "source": [
        "parsed.find('table', class_=\"infobox\").find_all(\"tr\")[6].find('td').text"
      ]
    },
    {
      "cell_type": "markdown",
      "metadata": {
        "id": "0ATd7zzcd0_6"
      },
      "source": [
        "\n",
        "Write a function that returns the number of students from the infobox table from the provided URL. You can use inspect tool - just right click on a website, choose inspect and analyze the html structure."
      ]
    },
    {
      "cell_type": "code",
      "execution_count": 81,
      "metadata": {
        "id": "meZ6xSmNd0_6"
      },
      "outputs": [],
      "source": [
        "def getStudentCount(url):\n",
        "    response = requests.get(url, headers=headers)\n",
        "    parsed = bs4.BeautifulSoup(response.text)\n",
        "    table = parsed.find('table', class_=\"infobox\").find_all(\"tr\")\n",
        "    for i in table:\n",
        "        if i.find('th') and 'Students' in i.find('th').text:\n",
        "            match = re.match(r'[\\d,]+', i.find('td').text)\n",
        "            if match:\n",
        "                return int(match.group().replace(',', ''))"
      ]
    },
    {
      "cell_type": "code",
      "execution_count": 82,
      "metadata": {
        "id": "Y64UrWhed0_6"
      },
      "outputs": [],
      "source": [
        "assert getStudentCount(\"https://en.wikipedia.org/wiki/Pozna%C5%84_University_of_Technology\") == 14138"
      ]
    },
    {
      "cell_type": "code",
      "execution_count": 83,
      "metadata": {
        "id": "TlyR9NWLd0_6"
      },
      "outputs": [],
      "source": [
        "assert getStudentCount(\"https://en.wikipedia.org/wiki/Wroc%C5%82aw_University_of_Science_and_Technology\") == 20970"
      ]
    },
    {
      "cell_type": "markdown",
      "metadata": {
        "id": "it-OZXzAd0_6"
      },
      "source": [
        "# Regex\n",
        "Regular expression is a scheme for defining patterns to be found in a text\n",
        "\n",
        "Let's try it  https://regexone.com/"
      ]
    },
    {
      "cell_type": "code",
      "execution_count": null,
      "metadata": {
        "id": "pmdWtKzOd0_6"
      },
      "outputs": [],
      "source": []
    },
    {
      "cell_type": "markdown",
      "metadata": {
        "id": "KYmxPm0fd0_6"
      },
      "source": [
        "## Task 3\n",
        "\n",
        "We can also retrieve URLs and once we have them we can scrape them as well."
      ]
    },
    {
      "cell_type": "code",
      "execution_count": 84,
      "metadata": {
        "id": "GtK6GyvWd0_6"
      },
      "outputs": [
        {
          "data": {
            "text/plain": [
              "[<a class=\"mw-jump-link\" href=\"#bodyContent\">Jump to content</a>,\n",
              " <a accesskey=\"z\" href=\"/wiki/Main_Page\" title=\"Visit the main page [z]\"><span>Main page</span></a>,\n",
              " <a href=\"/wiki/Wikipedia:Contents\" title=\"Guides to browsing Wikipedia\"><span>Contents</span></a>,\n",
              " <a href=\"/wiki/Portal:Current_events\" title=\"Articles related to current events\"><span>Current events</span></a>,\n",
              " <a accesskey=\"x\" href=\"/wiki/Special:Random\" title=\"Visit a randomly selected article [x]\"><span>Random article</span></a>,\n",
              " <a href=\"/wiki/Wikipedia:About\" title=\"Learn about Wikipedia and how it works\"><span>About Wikipedia</span></a>,\n",
              " <a href=\"//en.wikipedia.org/wiki/Wikipedia:Contact_us\" title=\"How to contact Wikipedia\"><span>Contact us</span></a>,\n",
              " <a href=\"/wiki/Help:Contents\" title=\"Guidance on how to use and edit Wikipedia\"><span>Help</span></a>,\n",
              " <a href=\"/wiki/Help:Introduction\" title=\"Learn how to edit Wikipedia\"><span>Learn to edit</span></a>,\n",
              " <a href=\"/wiki/Wikipedia:Community_portal\" title=\"The hub for editors\"><span>Community portal</span></a>,\n",
              " <a accesskey=\"r\" href=\"/wiki/Special:RecentChanges\" title=\"A list of recent changes to Wikipedia [r]\"><span>Recent changes</span></a>,\n",
              " <a href=\"/wiki/Wikipedia:File_upload_wizard\" title=\"Add images or other media for use on Wikipedia\"><span>Upload file</span></a>,\n",
              " <a href=\"/wiki/Special:SpecialPages\"><span>Special pages</span></a>,\n",
              " <a class=\"mw-logo\" href=\"/wiki/Main_Page\">\n",
              " <img alt=\"\" aria-hidden=\"true\" class=\"mw-logo-icon\" height=\"50\" src=\"/static/images/icons/wikipedia.png\" width=\"50\"/>\n",
              " <span class=\"mw-logo-container skin-invert\">\n",
              " <img alt=\"Wikipedia\" class=\"mw-logo-wordmark\" src=\"/static/images/mobile/copyright/wikipedia-wordmark-en.svg\" style=\"width: 7.5em; height: 1.125em;\"/>\n",
              " <img alt=\"The Free Encyclopedia\" class=\"mw-logo-tagline\" height=\"13\" src=\"/static/images/mobile/copyright/wikipedia-tagline-en.svg\" style=\"width: 7.3125em; height: 0.8125em;\" width=\"117\"/>\n",
              " </span>\n",
              " </a>,\n",
              " <a accesskey=\"f\" class=\"cdx-button cdx-button--fake-button cdx-button--fake-button--enabled cdx-button--weight-quiet cdx-button--icon-only search-toggle\" href=\"/wiki/Special:Search\" title=\"Search Wikipedia [f]\"><span class=\"vector-icon mw-ui-icon-search mw-ui-icon-wikimedia-search\"></span>\n",
              " <span>Search</span>\n",
              " </a>,\n",
              " <a class=\"\" data-mw=\"interface\" href=\"https://donate.wikimedia.org/?wmf_source=donate&amp;wmf_medium=sidebar&amp;wmf_campaign=en.wikipedia.org&amp;uselang=en\"><span>Donate</span></a>,\n",
              " <a class=\"\" data-mw=\"interface\" href=\"/w/index.php?title=Special:CreateAccount&amp;returnto=Pozna%C5%84+University+of+Technology\" title=\"You are encouraged to create an account and log in; however, it is not mandatory\"><span>Create account</span></a>,\n",
              " <a accesskey=\"o\" class=\"\" data-mw=\"interface\" href=\"/w/index.php?title=Special:UserLogin&amp;returnto=Pozna%C5%84+University+of+Technology\" title=\"You're encouraged to log in; however, it's not mandatory. [o]\"><span>Log in</span></a>,\n",
              " <a href=\"https://donate.wikimedia.org/?wmf_source=donate&amp;wmf_medium=sidebar&amp;wmf_campaign=en.wikipedia.org&amp;uselang=en\"><span>Donate</span></a>,\n",
              " <a href=\"/w/index.php?title=Special:CreateAccount&amp;returnto=Pozna%C5%84+University+of+Technology\" title=\"You are encouraged to create an account and log in; however, it is not mandatory\"><span class=\"vector-icon mw-ui-icon-userAdd mw-ui-icon-wikimedia-userAdd\"></span> <span>Create account</span></a>,\n",
              " <a accesskey=\"o\" href=\"/w/index.php?title=Special:UserLogin&amp;returnto=Pozna%C5%84+University+of+Technology\" title=\"You're encouraged to log in; however, it's not mandatory. [o]\"><span class=\"vector-icon mw-ui-icon-logIn mw-ui-icon-wikimedia-logIn\"></span> <span>Log in</span></a>,\n",
              " <a aria-label=\"Learn more about editing\" href=\"/wiki/Help:Introduction\"><span>learn more</span></a>,\n",
              " <a accesskey=\"y\" href=\"/wiki/Special:MyContributions\" title=\"A list of edits made from this IP address [y]\"><span>Contributions</span></a>,\n",
              " <a accesskey=\"n\" href=\"/wiki/Special:MyTalk\" title=\"Discussion about edits from this IP address [n]\"><span>Talk</span></a>,\n",
              " <a class=\"vector-toc-link\" href=\"#\">\n",
              " <div class=\"vector-toc-text\">(Top)</div>\n",
              " </a>,\n",
              " <a class=\"vector-toc-link\" href=\"#Faculties\">\n",
              " <div class=\"vector-toc-text\">\n",
              " <span class=\"vector-toc-numb\">1</span>\n",
              " <span>Faculties</span>\n",
              " </div>\n",
              " </a>,\n",
              " <a class=\"vector-toc-link\" href=\"#History\">\n",
              " <div class=\"vector-toc-text\">\n",
              " <span class=\"vector-toc-numb\">2</span>\n",
              " <span>History</span>\n",
              " </div>\n",
              " </a>,\n",
              " <a class=\"vector-toc-link\" href=\"#Successes\">\n",
              " <div class=\"vector-toc-text\">\n",
              " <span class=\"vector-toc-numb\">3</span>\n",
              " <span>Successes</span>\n",
              " </div>\n",
              " </a>,\n",
              " <a class=\"vector-toc-link\" href=\"#Notable_alumni\">\n",
              " <div class=\"vector-toc-text\">\n",
              " <span class=\"vector-toc-numb\">4</span>\n",
              " <span>Notable alumni</span>\n",
              " </div>\n",
              " </a>,\n",
              " <a class=\"vector-toc-link\" href=\"#List_of_rectors\">\n",
              " <div class=\"vector-toc-text\">\n",
              " <span class=\"vector-toc-numb\">5</span>\n",
              " <span>List of rectors</span>\n",
              " </div>\n",
              " </a>,\n",
              " <a class=\"vector-toc-link\" href=\"#See_also\">\n",
              " <div class=\"vector-toc-text\">\n",
              " <span class=\"vector-toc-numb\">6</span>\n",
              " <span>See also</span>\n",
              " </div>\n",
              " </a>,\n",
              " <a class=\"vector-toc-link\" href=\"#References\">\n",
              " <div class=\"vector-toc-text\">\n",
              " <span class=\"vector-toc-numb\">7</span>\n",
              " <span>References</span>\n",
              " </div>\n",
              " </a>,\n",
              " <a class=\"vector-toc-link\" href=\"#External_links\">\n",
              " <div class=\"vector-toc-text\">\n",
              " <span class=\"vector-toc-numb\">8</span>\n",
              " <span>External links</span>\n",
              " </div>\n",
              " </a>,\n",
              " <a class=\"interlanguage-link-target\" data-language-autonym=\"Беларуская\" data-language-local-name=\"Belarusian\" data-title=\"Познаньскі політэхнічны ўніверсітэт\" href=\"https://be.wikipedia.org/wiki/%D0%9F%D0%BE%D0%B7%D0%BD%D0%B0%D0%BD%D1%8C%D1%81%D0%BA%D1%96_%D0%BF%D0%BE%D0%BB%D1%96%D1%82%D1%8D%D1%85%D0%BD%D1%96%D1%87%D0%BD%D1%8B_%D1%9E%D0%BD%D1%96%D0%B2%D0%B5%D1%80%D1%81%D1%96%D1%82%D1%8D%D1%82\" hreflang=\"be\" lang=\"be\" title=\"Познаньскі політэхнічны ўніверсітэт – Belarusian\"><span>Беларуская</span></a>,\n",
              " <a class=\"interlanguage-link-target\" data-language-autonym=\"Deutsch\" data-language-local-name=\"German\" data-title=\"Technische Universität Posen\" href=\"https://de.wikipedia.org/wiki/Technische_Universit%C3%A4t_Posen\" hreflang=\"de\" lang=\"de\" title=\"Technische Universität Posen – German\"><span>Deutsch</span></a>,\n",
              " <a class=\"interlanguage-link-target\" data-language-autonym=\"Eesti\" data-language-local-name=\"Estonian\" data-title=\"Poznańi Tehnikaülikool\" href=\"https://et.wikipedia.org/wiki/Pozna%C5%84i_Tehnika%C3%BClikool\" hreflang=\"et\" lang=\"et\" title=\"Poznańi Tehnikaülikool – Estonian\"><span>Eesti</span></a>,\n",
              " <a class=\"interlanguage-link-target\" data-language-autonym=\"Italiano\" data-language-local-name=\"Italian\" data-title=\"Politecnico di Poznań\" href=\"https://it.wikipedia.org/wiki/Politecnico_di_Pozna%C5%84\" hreflang=\"it\" lang=\"it\" title=\"Politecnico di Poznań – Italian\"><span>Italiano</span></a>,\n",
              " <a class=\"interlanguage-link-target\" data-language-autonym=\"Lietuvių\" data-language-local-name=\"Lithuanian\" data-title=\"Poznanės technikos universitetas\" href=\"https://lt.wikipedia.org/wiki/Poznan%C4%97s_technikos_universitetas\" hreflang=\"lt\" lang=\"lt\" title=\"Poznanės technikos universitetas – Lithuanian\"><span>Lietuvių</span></a>,\n",
              " <a class=\"interlanguage-link-target\" data-language-autonym=\"Nederlands\" data-language-local-name=\"Dutch\" data-title=\"Technische Universiteit Poznań\" href=\"https://nl.wikipedia.org/wiki/Technische_Universiteit_Pozna%C5%84\" hreflang=\"nl\" lang=\"nl\" title=\"Technische Universiteit Poznań – Dutch\"><span>Nederlands</span></a>,\n",
              " <a class=\"interlanguage-link-target\" data-language-autonym=\"Polski\" data-language-local-name=\"Polish\" data-title=\"Politechnika Poznańska\" href=\"https://pl.wikipedia.org/wiki/Politechnika_Pozna%C5%84ska\" hreflang=\"pl\" lang=\"pl\" title=\"Politechnika Poznańska – Polish\"><span>Polski</span></a>,\n",
              " <a class=\"interlanguage-link-target\" data-language-autonym=\"Português\" data-language-local-name=\"Portuguese\" data-title=\"Universidade Técnica de Poznan\" href=\"https://pt.wikipedia.org/wiki/Universidade_T%C3%A9cnica_de_Poznan\" hreflang=\"pt\" lang=\"pt\" title=\"Universidade Técnica de Poznan – Portuguese\"><span>Português</span></a>,\n",
              " <a class=\"interlanguage-link-target\" data-language-autonym=\"Русский\" data-language-local-name=\"Russian\" data-title=\"Познанский технический университет\" href=\"https://ru.wikipedia.org/wiki/%D0%9F%D0%BE%D0%B7%D0%BD%D0%B0%D0%BD%D1%81%D0%BA%D0%B8%D0%B9_%D1%82%D0%B5%D1%85%D0%BD%D0%B8%D1%87%D0%B5%D1%81%D0%BA%D0%B8%D0%B9_%D1%83%D0%BD%D0%B8%D0%B2%D0%B5%D1%80%D1%81%D0%B8%D1%82%D0%B5%D1%82\" hreflang=\"ru\" lang=\"ru\" title=\"Познанский технический университет – Russian\"><span>Русский</span></a>,\n",
              " <a class=\"interlanguage-link-target\" data-language-autonym=\"Українська\" data-language-local-name=\"Ukrainian\" data-title=\"Познанський технічний університет\" href=\"https://uk.wikipedia.org/wiki/%D0%9F%D0%BE%D0%B7%D0%BD%D0%B0%D0%BD%D1%81%D1%8C%D0%BA%D0%B8%D0%B9_%D1%82%D0%B5%D1%85%D0%BD%D1%96%D1%87%D0%BD%D0%B8%D0%B9_%D1%83%D0%BD%D1%96%D0%B2%D0%B5%D1%80%D1%81%D0%B8%D1%82%D0%B5%D1%82\" hreflang=\"uk\" lang=\"uk\" title=\"Познанський технічний університет – Ukrainian\"><span>Українська</span></a>,\n",
              " <a class=\"interlanguage-link-target\" data-language-autonym=\"中文\" data-language-local-name=\"Chinese\" data-title=\"波兹南理工大学\" href=\"https://zh.wikipedia.org/wiki/%E6%B3%A2%E5%85%B9%E5%8D%97%E7%90%86%E5%B7%A5%E5%A4%A7%E5%AD%A6\" hreflang=\"zh\" lang=\"zh\" title=\"波兹南理工大学 – Chinese\"><span>中文</span></a>,\n",
              " <a class=\"wbc-editpage\" href=\"https://www.wikidata.org/wiki/Special:EntityPage/Q1678753#sitelinks-wikipedia\" title=\"Edit interlanguage links\">Edit links</a>,\n",
              " <a accesskey=\"c\" href=\"/wiki/Pozna%C5%84_University_of_Technology\" title=\"View the content page [c]\"><span>Article</span></a>,\n",
              " <a accesskey=\"t\" href=\"/wiki/Talk:Pozna%C5%84_University_of_Technology\" rel=\"discussion\" title=\"Discuss improvements to the content page [t]\"><span>Talk</span></a>,\n",
              " <a href=\"/wiki/Pozna%C5%84_University_of_Technology\"><span>Read</span></a>,\n",
              " <a accesskey=\"e\" href=\"/w/index.php?title=Pozna%C5%84_University_of_Technology&amp;action=edit\" title=\"Edit this page [e]\"><span>Edit</span></a>,\n",
              " <a accesskey=\"h\" href=\"/w/index.php?title=Pozna%C5%84_University_of_Technology&amp;action=history\" title=\"Past revisions of this page [h]\"><span>View history</span></a>,\n",
              " <a href=\"/wiki/Pozna%C5%84_University_of_Technology\"><span>Read</span></a>,\n",
              " <a accesskey=\"e\" href=\"/w/index.php?title=Pozna%C5%84_University_of_Technology&amp;action=edit\" title=\"Edit this page [e]\"><span>Edit</span></a>,\n",
              " <a href=\"/w/index.php?title=Pozna%C5%84_University_of_Technology&amp;action=history\"><span>View history</span></a>,\n",
              " <a accesskey=\"j\" href=\"/wiki/Special:WhatLinksHere/Pozna%C5%84_University_of_Technology\" title=\"List of all English Wikipedia pages containing links to this page [j]\"><span>What links here</span></a>,\n",
              " <a accesskey=\"k\" href=\"/wiki/Special:RecentChangesLinked/Pozna%C5%84_University_of_Technology\" rel=\"nofollow\" title=\"Recent changes in pages linked from this page [k]\"><span>Related changes</span></a>,\n",
              " <a accesskey=\"u\" href=\"//en.wikipedia.org/wiki/Wikipedia:File_Upload_Wizard\" title=\"Upload files [u]\"><span>Upload file</span></a>,\n",
              " <a href=\"/w/index.php?title=Pozna%C5%84_University_of_Technology&amp;oldid=1308818926\" title=\"Permanent link to this revision of this page\"><span>Permanent link</span></a>,\n",
              " <a href=\"/w/index.php?title=Pozna%C5%84_University_of_Technology&amp;action=info\" title=\"More information about this page\"><span>Page information</span></a>,\n",
              " <a href=\"/w/index.php?title=Special:CiteThisPage&amp;page=Pozna%C5%84_University_of_Technology&amp;id=1308818926&amp;wpFormIdentifier=titleform\" title=\"Information on how to cite this page\"><span>Cite this page</span></a>,\n",
              " <a href=\"/w/index.php?title=Special:UrlShortener&amp;url=https%3A%2F%2Fen.wikipedia.org%2Fwiki%2FPozna%25C5%2584_University_of_Technology\"><span>Get shortened URL</span></a>,\n",
              " <a href=\"/w/index.php?title=Special:QrCode&amp;url=https%3A%2F%2Fen.wikipedia.org%2Fwiki%2FPozna%25C5%2584_University_of_Technology\"><span>Download QR code</span></a>,\n",
              " <a href=\"/w/index.php?title=Special:DownloadAsPdf&amp;page=Pozna%C5%84_University_of_Technology&amp;action=show-download-screen\" title=\"Download this page as a PDF file\"><span>Download as PDF</span></a>,\n",
              " <a accesskey=\"p\" href=\"/w/index.php?title=Pozna%C5%84_University_of_Technology&amp;printable=yes\" title=\"Printable version of this page [p]\"><span>Printable version</span></a>,\n",
              " <a href=\"https://commons.wikimedia.org/wiki/Category:Pozna%C5%84_University_of_Technology\" hreflang=\"en\"><span>Wikimedia Commons</span></a>,\n",
              " <a accesskey=\"g\" href=\"https://www.wikidata.org/wiki/Special:EntityPage/Q1678753\" title=\"Structured data on this page hosted by Wikidata [g]\"><span>Wikidata item</span></a>,\n",
              " <a href=\"/wiki/Geographic_coordinate_system\" title=\"Geographic coordinate system\">Coordinates</a>,\n",
              " <a class=\"external text\" href=\"https://geohack.toolforge.org/geohack.php?pagename=Pozna%C5%84_University_of_Technology&amp;params=52.3942_N_16.9183_E_source:kolossus-plwiki\"><span class=\"geo-nondefault\"><span class=\"geo-dms\" title=\"Maps, aerial photos, and other data for this location\"><span class=\"latitude\">52°23′39″N</span> <span class=\"longitude\">16°55′06″E</span></span></span><span class=\"geo-multi-punct\">﻿ / ﻿</span><span class=\"geo-default\"><span class=\"geo-dec\" title=\"Maps, aerial photos, and other data for this location\">52.3942°N 16.9183°E</span><span style=\"display:none\">﻿ / <span class=\"geo\">52.3942; 16.9183</span></span></span></a>,\n",
              " <a class=\"mw-file-description\" href=\"/wiki/File:Question_book-new.svg\"><img alt=\"\" class=\"mw-file-element\" data-file-height=\"399\" data-file-width=\"512\" decoding=\"async\" height=\"39\" src=\"//upload.wikimedia.org/wikipedia/en/thumb/9/99/Question_book-new.svg/60px-Question_book-new.svg.png\" srcset=\"//upload.wikimedia.org/wikipedia/en/thumb/9/99/Question_book-new.svg/120px-Question_book-new.svg.png 1.5x\" width=\"50\"/></a>,\n",
              " <a href=\"/wiki/Wikipedia:Verifiability\" title=\"Wikipedia:Verifiability\">verification</a>,\n",
              " <a href=\"/wiki/Special:EditPage/Pozna%C5%84_University_of_Technology\" title=\"Special:EditPage/Poznań University of Technology\">improve this article</a>,\n",
              " <a href=\"/wiki/Help:Referencing_for_beginners\" title=\"Help:Referencing for beginners\">adding citations to reliable sources</a>,\n",
              " <a class=\"external text\" href=\"https://www.google.com/search?as_eq=wikipedia&amp;q=%22Pozna%C5%84+University+of+Technology%22\" rel=\"nofollow\">\"Poznań University of Technology\"</a>,\n",
              " <a class=\"external text\" href=\"https://www.google.com/search?tbm=nws&amp;q=%22Pozna%C5%84+University+of+Technology%22+-wikipedia&amp;tbs=ar:1\" rel=\"nofollow\">news</a>,\n",
              " <a class=\"external text\" href=\"https://www.google.com/search?&amp;q=%22Pozna%C5%84+University+of+Technology%22&amp;tbs=bkt:s&amp;tbm=bks\" rel=\"nofollow\">newspapers</a>,\n",
              " <a class=\"external text\" href=\"https://www.google.com/search?tbs=bks:1&amp;q=%22Pozna%C5%84+University+of+Technology%22+-wikipedia\" rel=\"nofollow\">books</a>,\n",
              " <a class=\"external text\" href=\"https://scholar.google.com/scholar?q=%22Pozna%C5%84+University+of+Technology%22\" rel=\"nofollow\">scholar</a>,\n",
              " <a class=\"external text\" href=\"https://www.jstor.org/action/doBasicSearch?Query=%22Pozna%C5%84+University+of+Technology%22&amp;acc=on&amp;wc=on\" rel=\"nofollow\">JSTOR</a>,\n",
              " <a href=\"/wiki/Help:Maintenance_template_removal\" title=\"Help:Maintenance template removal\">Learn how and when to remove this message</a>,\n",
              " <a class=\"mw-redirect\" href=\"/wiki/Latin_language\" title=\"Latin language\">Latin</a>,\n",
              " <a href=\"/wiki/Public_university\" title=\"Public university\">Public</a>,\n",
              " <a href=\"/wiki/Rector_(academia)\" title=\"Rector (academia)\">Rector</a>,\n",
              " <a href=\"#cite_note-1\"><span class=\"cite-bracket\">[</span>1<span class=\"cite-bracket\">]</span></a>,\n",
              " <a href=\"/wiki/Pozna%C5%84\" title=\"Poznań\">Poznań</a>,\n",
              " <a href=\"/wiki/Greater_Poland_Voivodeship\" title=\"Greater Poland Voivodeship\">Greater Poland Voivodeship</a>,\n",
              " <a href=\"/wiki/Poland\" title=\"Poland\">Poland</a>,\n",
              " <a class=\"mw-redirect\" href=\"/wiki/Conference_of_European_Schools_for_Advanced_Engineering_Education_and_Research\" title=\"Conference of European Schools for Advanced Engineering Education and Research\">CESAER</a>,\n",
              " <a class=\"mw-redirect\" href=\"/wiki/Socrates-Erasmus\" title=\"Socrates-Erasmus\">ERASMUS</a>,\n",
              " <a href=\"/wiki/European_University_Association\" title=\"European University Association\">EUA</a>,\n",
              " <a class=\"mw-redirect\" href=\"/wiki/EAIE\" title=\"EAIE\">EAIE</a>,\n",
              " <a href=\"/wiki/European_Society_for_Engineering_Education\" title=\"European Society for Engineering Education\">SEFI</a>,\n",
              " <a class=\"external text\" href=\"http://put.poznan.pl\" rel=\"nofollow\">put<wbr/>.poznan<wbr/>.pl</a>,\n",
              " <a class=\"mw-kartographer-map notheme mw-kartographer-container center\" data-height=\"200\" data-mw-kartographer=\"mapframe\" data-overlays='[\"_a20a830a9c4273f20ad80c6495aebc77bc082cc4\"]' data-style=\"osm-intl\" data-width=\"270\" data-zoom=\"13\" style=\"width: 270px; height: 200px;\"><img alt=\"Map\" decoding=\"async\" height=\"200\" src=\"https://maps.wikimedia.org/img/osm-intl,13,a,a,270x200.png?lang=en&amp;domain=en.wikipedia.org&amp;title=Pozna%C5%84_University_of_Technology&amp;revid=1308818926&amp;groups=_a20a830a9c4273f20ad80c6495aebc77bc082cc4\" srcset=\"https://maps.wikimedia.org/img/osm-intl,13,a,a,270x200@2x.png?lang=en&amp;domain=en.wikipedia.org&amp;title=Pozna%C5%84_University_of_Technology&amp;revid=1308818926&amp;groups=_a20a830a9c4273f20ad80c6495aebc77bc082cc4 2x\" width=\"270\"/></a>,\n",
              " <a href=\"/wiki/College_and_university_rankings\" title=\"College and university rankings\">University rankings</a>,\n",
              " <a href=\"/wiki/QS_World_University_Rankings\" title=\"QS World University Rankings\">QS</a>,\n",
              " <a href=\"#cite_note-QS_World_University_Rankings_2022-2\"><span class=\"cite-bracket\">[</span>2<span class=\"cite-bracket\">]</span></a>,\n",
              " <a class=\"mw-file-description\" href=\"/wiki/File:Rektorat_Politechniki_Pozna%C5%84skiej_04.JPG\"><img class=\"mw-file-element\" data-file-height=\"4016\" data-file-width=\"2866\" decoding=\"async\" height=\"350\" src=\"//upload.wikimedia.org/wikipedia/commons/thumb/2/2e/Rektorat_Politechniki_Pozna%C5%84skiej_04.JPG/250px-Rektorat_Politechniki_Pozna%C5%84skiej_04.JPG\" srcset=\"//upload.wikimedia.org/wikipedia/commons/thumb/2/2e/Rektorat_Politechniki_Pozna%C5%84skiej_04.JPG/500px-Rektorat_Politechniki_Pozna%C5%84skiej_04.JPG 1.5x\" width=\"250\"/></a>,\n",
              " <a class=\"mw-file-description\" href=\"/wiki/File:Wydzial_Technologii_Chemicznych_Politechnika_Poznanska,_Berdychowo_(5).JPG\"><img class=\"mw-file-element\" data-file-height=\"2736\" data-file-width=\"3648\" decoding=\"async\" height=\"188\" src=\"//upload.wikimedia.org/wikipedia/commons/thumb/6/6e/Wydzial_Technologii_Chemicznych_Politechnika_Poznanska%2C_Berdychowo_%285%29.JPG/250px-Wydzial_Technologii_Chemicznych_Politechnika_Poznanska%2C_Berdychowo_%285%29.JPG\" srcset=\"//upload.wikimedia.org/wikipedia/commons/thumb/6/6e/Wydzial_Technologii_Chemicznych_Politechnika_Poznanska%2C_Berdychowo_%285%29.JPG/500px-Wydzial_Technologii_Chemicznych_Politechnika_Poznanska%2C_Berdychowo_%285%29.JPG 1.5x\" width=\"250\"/></a>,\n",
              " <a href=\"/wiki/Polish_language\" title=\"Polish language\">Polish</a>,\n",
              " <a href=\"/wiki/Pozna%C5%84\" title=\"Poznań\">Poznań</a>,\n",
              " <a href=\"#cite_note-3\"><span class=\"cite-bracket\">[</span>3<span class=\"cite-bracket\">]</span></a>,\n",
              " <a class=\"mw-redirect\" href=\"/wiki/Technical_university\" title=\"Technical university\">technical universities</a>,\n",
              " <a href=\"/wiki/University_Ranking_by_Academic_Performance\" title=\"University Ranking by Academic Performance\">URAP</a>,\n",
              " <a href=\"/wiki/Webometrics\" title=\"Webometrics\">Webometrics</a>,\n",
              " <a class=\"mw-redirect\" href=\"/wiki/Universities_in_Poland\" title=\"Universities in Poland\">Polish university</a>,\n",
              " <a class=\"mw-redirect\" href=\"/wiki/Conference_of_European_Schools_for_Advanced_Engineering_Education_and_Research\" title=\"Conference of European Schools for Advanced Engineering Education and Research\">Conference of European Schools for Advanced Engineering Education and Research</a>,\n",
              " <a class=\"mw-redirect\" href=\"/wiki/Socrates-Erasmus\" title=\"Socrates-Erasmus\">Socrates-Erasmus</a>,\n",
              " <a class=\"mw-redirect\" href=\"/wiki/Exchange_student\" title=\"Exchange student\">exchange students</a>,\n",
              " <a href=\"/w/index.php?title=Pozna%C5%84_University_of_Technology&amp;action=edit&amp;section=1\" title=\"Edit section: Faculties\"><span>edit</span></a>,\n",
              " <a href=\"/wiki/Faculty_of_Architecture_Pozna%C5%84_University_of_Technology\" title=\"Faculty of Architecture Poznań University of Technology\">Architecture</a>,\n",
              " <a href=\"/w/index.php?title=Pozna%C5%84_University_of_Technology&amp;action=edit&amp;section=2\" title=\"Edit section: History\"><span>edit</span></a>,\n",
              " <a href=\"/wiki/Rector_(academia)\" title=\"Rector (academia)\">rector</a>,\n",
              " <a href=\"/wiki/Pozna%C5%84\" title=\"Poznań\">Poznań</a>,\n",
              " <a href=\"/wiki/World_War_II\" title=\"World War II\">World War II</a>,\n",
              " <a href=\"/wiki/Marie_Curie\" title=\"Marie Curie\">Marie Skłodowska-Curie</a>,\n",
              " <a class=\"mw-redirect\" href=\"/wiki/Electrical_Engineering\" title=\"Electrical Engineering\">Electrical Engineering</a>,\n",
              " <a class=\"mw-redirect\" href=\"/wiki/Postgraduate_studies\" title=\"Postgraduate studies\">postgraduate studies</a>,\n",
              " <a class=\"mw-redirect\" href=\"/wiki/Conference_of_European_Schools_for_Advanced_Engineering_Education_and_Research\" title=\"Conference of European Schools for Advanced Engineering Education and Research\">Conference of European Schools for Advanced Engineering Education and Research</a>,\n",
              " <a class=\"mw-redirect\" href=\"/wiki/European_Credit_Transfer_System\" title=\"European Credit Transfer System\">European Credit Transfer System</a>,\n",
              " <a href=\"#cite_note-4\"><span class=\"cite-bracket\">[</span>4<span class=\"cite-bracket\">]</span></a>,\n",
              " <a href=\"/w/index.php?title=Pozna%C5%84_University_of_Technology&amp;action=edit&amp;section=3\" title=\"Edit section: Successes\"><span>edit</span></a>,\n",
              " <a class=\"mw-redirect\" href=\"/wiki/Computer_Science\" title=\"Computer Science\">Computer Science</a>,\n",
              " <a href=\"/wiki/Institute_of_Electrical_and_Electronics_Engineers\" title=\"Institute of Electrical and Electronics Engineers\">Institute of Electrical and Electronics Engineers</a>,\n",
              " <a href=\"/wiki/Redmond,_Washington\" title=\"Redmond, Washington\">Redmond, Washington</a>,\n",
              " <a class=\"mw-redirect\" href=\"/wiki/CESAER_Association\" title=\"CESAER Association\">CESAER Association</a>,\n",
              " <a href=\"/w/index.php?title=Pozna%C5%84_University_of_Technology&amp;action=edit&amp;section=4\" title=\"Edit section: Notable alumni\"><span>edit</span></a>,\n",
              " <a href=\"/wiki/Category:Pozna%C5%84_University_of_Technology_alumni\" title=\"Category:Poznań University of Technology alumni\">Category:Poznań University of Technology alumni</a>,\n",
              " <a class=\"mw-file-description\" href=\"/wiki/File:2005063030_(Politechnika_Pozna%C5%84ska,_Centrum_Wyk%C5%82adowo-Konferencyjne).png\"><img class=\"mw-file-element\" data-file-height=\"400\" data-file-width=\"600\" decoding=\"async\" height=\"167\" src=\"//upload.wikimedia.org/wikipedia/commons/thumb/d/dd/2005063030_%28Politechnika_Pozna%C5%84ska%2C_Centrum_Wyk%C5%82adowo-Konferencyjne%29.png/250px-2005063030_%28Politechnika_Pozna%C5%84ska%2C_Centrum_Wyk%C5%82adowo-Konferencyjne%29.png\" srcset=\"//upload.wikimedia.org/wikipedia/commons/thumb/d/dd/2005063030_%28Politechnika_Pozna%C5%84ska%2C_Centrum_Wyk%C5%82adowo-Konferencyjne%29.png/500px-2005063030_%28Politechnika_Pozna%C5%84ska%2C_Centrum_Wyk%C5%82adowo-Konferencyjne%29.png 1.5x\" width=\"250\"/></a>,\n",
              " <a href=\"/wiki/Pawe%C5%82_Arndt\" title=\"Paweł Arndt\">Paweł Arndt</a>,\n",
              " <a href=\"/wiki/Jacek_B%C5%82a%C5%BCewicz\" title=\"Jacek Błażewicz\">Jacek Błażewicz</a>,\n",
              " <a href=\"/wiki/Computer_scientist\" title=\"Computer scientist\">computer scientist</a>,\n",
              " <a href=\"/wiki/Janusz_Centka\" title=\"Janusz Centka\">Janusz Centka</a>,\n",
              " <a href=\"/wiki/World_Gliding_Championships\" title=\"World Gliding Championships\">World Gliding Championships</a>,\n",
              " <a href=\"/wiki/Witold_Czarnecki\" title=\"Witold Czarnecki\">Witold Czarnecki</a>,\n",
              " <a href=\"/wiki/Aleksander_Doba\" title=\"Aleksander Doba\">Aleksander Doba</a>,\n",
              " <a href=\"/wiki/Waldy_Dzikowski\" title=\"Waldy Dzikowski\">Waldy Dzikowski</a>,\n",
              " <a href=\"/wiki/Andrzej_Jajszczyk\" title=\"Andrzej Jajszczyk\">Andrzej Jajszczyk</a>,\n",
              " <a href=\"/wiki/Fiann_Paul\" title=\"Fiann Paul\">Fiann Paul</a>,\n",
              " <a href=\"/wiki/Roman_S%C5%82owi%C5%84ski\" title=\"Roman Słowiński\">Roman Słowiński</a>,\n",
              " <a class=\"mw-redirect\" href=\"/wiki/Piotr_Szczerek\" title=\"Piotr Szczerek\">Piotr Szczerek</a>,\n",
              " <a href=\"/wiki/Jan_W%C4%99glarz\" title=\"Jan Węglarz\">Jan Węglarz</a>,\n",
              " <a href=\"/w/index.php?title=Pozna%C5%84_University_of_Technology&amp;action=edit&amp;section=5\" title=\"Edit section: List of rectors\"><span>edit</span></a>,\n",
              " <a class=\"mw-file-description\" href=\"/wiki/File:Politechnika_Pozna%C5%84ska-1.jpg\"><img class=\"mw-file-element\" data-file-height=\"1944\" data-file-width=\"2592\" decoding=\"async\" height=\"188\" src=\"//upload.wikimedia.org/wikipedia/commons/thumb/a/a2/Politechnika_Pozna%C5%84ska-1.jpg/250px-Politechnika_Pozna%C5%84ska-1.jpg\" srcset=\"//upload.wikimedia.org/wikipedia/commons/thumb/a/a2/Politechnika_Pozna%C5%84ska-1.jpg/500px-Politechnika_Pozna%C5%84ska-1.jpg 1.5x\" width=\"250\"/></a>,\n",
              " <a class=\"new\" href=\"/w/index.php?title=Roman_Kozak_(rector)&amp;action=edit&amp;redlink=1\" title=\"Roman Kozak (rector) (page does not exist)\">Roman Kozak</a>,\n",
              " <a class=\"new\" href=\"/w/index.php?title=Zbigniew_Jasicki&amp;action=edit&amp;redlink=1\" title=\"Zbigniew Jasicki (page does not exist)\">Zbigniew Jasicki</a>,\n",
              " <a class=\"new\" href=\"/w/index.php?title=Wiktor_Jankowski&amp;action=edit&amp;redlink=1\" title=\"Wiktor Jankowski (page does not exist)\">Wiktor Jankowski</a>,\n",
              " <a class=\"new\" href=\"/w/index.php?title=Boles%C5%82aw_Wojciechowicz&amp;action=edit&amp;redlink=1\" title=\"Bolesław Wojciechowicz (page does not exist)\">Bolesław Wojciechowicz</a>,\n",
              " <a class=\"new\" href=\"/w/index.php?title=Edmund_Tuliszka&amp;action=edit&amp;redlink=1\" title=\"Edmund Tuliszka (page does not exist)\">Edmund Tuliszka</a>,\n",
              " <a class=\"new\" href=\"/w/index.php?title=Czes%C5%82aw_Kr%C3%B3likowski&amp;action=edit&amp;redlink=1\" title=\"Czesław Królikowski (page does not exist)\">Czesław Królikowski</a>,\n",
              " <a class=\"new\" href=\"/w/index.php?title=Wiktor_Jankowski&amp;action=edit&amp;redlink=1\" title=\"Wiktor Jankowski (page does not exist)\">Wiktor Jankowski</a>,\n",
              " <a class=\"new\" href=\"/w/index.php?title=Tadeusz_Pucha%C5%82ka&amp;action=edit&amp;redlink=1\" title=\"Tadeusz Puchałka (page does not exist)\">Tadeusz Puchałka</a>,\n",
              " <a class=\"new\" href=\"/w/index.php?title=Andrzej_Ry%C5%BCy%C5%84ski&amp;action=edit&amp;redlink=1\" title=\"Andrzej Ryżyński (page does not exist)\">Andrzej Ryżyński</a>,\n",
              " <a class=\"new\" href=\"/w/index.php?title=Jaros%C5%82aw_Stefaniak&amp;action=edit&amp;redlink=1\" title=\"Jarosław Stefaniak (page does not exist)\">Jarosław Stefaniak</a>,\n",
              " <a class=\"new\" href=\"/w/index.php?title=Eugeniusz_Mitkowski&amp;action=edit&amp;redlink=1\" title=\"Eugeniusz Mitkowski (page does not exist)\">Eugeniusz Mitkowski</a>,\n",
              " <a class=\"new\" href=\"/w/index.php?title=Jerzy_Dembczy%C5%84ski&amp;action=edit&amp;redlink=1\" title=\"Jerzy Dembczyński (page does not exist)\">Jerzy Dembczyński</a>,\n",
              " <a class=\"new\" href=\"/w/index.php?title=Adam_Hamrol&amp;action=edit&amp;redlink=1\" title=\"Adam Hamrol (page does not exist)\">Adam Hamrol</a>,\n",
              " <a class=\"new\" href=\"/w/index.php?title=Tomasz_%C5%81odygowski&amp;action=edit&amp;redlink=1\" title=\"Tomasz Łodygowski (page does not exist)\">Tomasz Łodygowski</a>,\n",
              " <a class=\"new\" href=\"/w/index.php?title=Teofil_Jesionowski&amp;action=edit&amp;redlink=1\" title=\"Teofil Jesionowski (page does not exist)\">Teofil Jesionowski</a>,\n",
              " <a href=\"/w/index.php?title=Pozna%C5%84_University_of_Technology&amp;action=edit&amp;section=6\" title=\"Edit section: See also\"><span>edit</span></a>,\n",
              " <a href=\"/wiki/List_of_universities_in_Poland\" title=\"List of universities in Poland\">List of universities in Poland</a>,\n",
              " <a class=\"mw-redirect\" href=\"/wiki/Universities_in_Poznan\" title=\"Universities in Poznan\">Universities in Poznan</a>,\n",
              " <a href=\"/w/index.php?title=Pozna%C5%84_University_of_Technology&amp;action=edit&amp;section=7\" title=\"Edit section: References\"><span>edit</span></a>,\n",
              " <a href=\"#cite_ref-1\">^</a>,\n",
              " <a class=\"external text\" href=\"https://stat.gov.pl/obszary-tematyczne/edukacja/edukacja/szkolnictwo-wyzsze-w-roku-akademickim-20232024,8,10.html\" rel=\"nofollow\">\"Higher education in the 2023/24 academic year\"</a>,\n",
              " <a href=\"#cite_ref-QS_World_University_Rankings_2022_2-0\">^</a>,\n",
              " <a class=\"external text\" href=\"https://www.topuniversities.com/university-rankings/eeca-rankings/2022\" rel=\"nofollow\">\"QS World University Rankings-Emerging Europe &amp; Central Asia\"</a>,\n",
              " <a href=\"#cite_ref-3\">^</a>,\n",
              " <a class=\"external text\" href=\"https://www.bip.gov.pl/subjects/29692,Politechnika+Pozna%C5%84ska.html\" rel=\"nofollow\">\"Politechnika Poznańska\"</a>,\n",
              " <a href=\"#cite_ref-4\">^</a>,\n",
              " <a class=\"external text\" href=\"https://uczelnie.info.pl/uczelnie/politechnika-poznanska/\" rel=\"nofollow\">\"Politechnika Poznańska\"</a>,\n",
              " <a href=\"/w/index.php?title=Pozna%C5%84_University_of_Technology&amp;action=edit&amp;section=8\" title=\"Edit section: External links\"><span>edit</span></a>,\n",
              " <a class=\"external text\" href=\"https://www.put.poznan.pl/\" rel=\"nofollow\">Official site of PUT</a>,\n",
              " <a class=\"external text\" href=\"http://www.cs.put.poznan.pl/\" rel=\"nofollow\">PUT's Institute of Computer Science</a>,\n",
              " <a class=\"external text\" href=\"https://web.archive.org/web/20040202202747/http://www.me.put.poznan.pl/english.php\" rel=\"nofollow\">PUT's Institute of Management Engineering</a>,\n",
              " <a class=\"external text\" href=\"http://www.ee.put.poznan.pl/\" rel=\"nofollow\">PUT's Institute of Environmental Engineering</a>,\n",
              " <a class=\"external text\" href=\"https://web.archive.org/web/20090304003834/http://www.skn.put.poznan.pl/\" rel=\"nofollow\">Association of Scientific Circles at PUT</a>,\n",
              " <a class=\"external text\" href=\"http://www.knis.put.poznan.pl/\" rel=\"nofollow\">Scientific Circle of Environmental Engineers</a>,\n",
              " <a href=\"/wiki/Template:Universities_in_Poland\" title=\"Template:Universities in Poland\"><abbr title=\"View this template\">v</abbr></a>,\n",
              " <a href=\"/wiki/Template_talk:Universities_in_Poland\" title=\"Template talk:Universities in Poland\"><abbr title=\"Discuss this template\">t</abbr></a>,\n",
              " <a href=\"/wiki/Special:EditPage/Template:Universities_in_Poland\" title=\"Special:EditPage/Template:Universities in Poland\"><abbr title=\"Edit this template\">e</abbr></a>,\n",
              " <a href=\"/wiki/List_of_universities_in_Poland\" title=\"List of universities in Poland\">Universities in Poland</a>,\n",
              " <a href=\"/wiki/Adam_Mickiewicz_University_in_Pozna%C5%84\" title=\"Adam Mickiewicz University in Poznań\">Adam Mickiewicz</a>,\n",
              " <a href=\"/wiki/University_of_Bia%C5%82ystok\" title=\"University of Białystok\">Białystok</a>,\n",
              " <a class=\"mw-redirect\" href=\"/wiki/Cardinal_Stefan_Wyszy%C5%84ski_University_in_Warsaw\" title=\"Cardinal Stefan Wyszyński University in Warsaw\">Cardinal Stefan Wyszyński</a>,\n",
              " <a href=\"/wiki/University_of_Gda%C5%84sk\" title=\"University of Gdańsk\">Gdańsk</a>,\n",
              " <a href=\"/wiki/Jagiellonian_University\" title=\"Jagiellonian University\">Jagiellonian</a>,\n",
              " <a href=\"/wiki/Jan_Kochanowski_University\" title=\"Jan Kochanowski University\">Jan Kochanowski</a>,\n",
              " <a href=\"/wiki/John_Paul_II_Catholic_University_of_Lublin\" title=\"John Paul II Catholic University of Lublin\">John Paul II Catholic University of Lublin</a>,\n",
              " <a href=\"/wiki/Kazimierz_Wielki_University_in_Bydgoszcz\" title=\"Kazimierz Wielki University in Bydgoszcz\">Kazimierz Wielki</a>,\n",
              " <a href=\"/wiki/University_of_%C5%81%C3%B3d%C5%BA\" title=\"University of Łódź\">Łódź</a>,\n",
              " <a href=\"/wiki/Maria_Curie-Sk%C5%82odowska_University\" title=\"Maria Curie-Skłodowska University\">Maria Curie-Skłodowska</a>,\n",
              " <a href=\"/wiki/Nicolaus_Copernicus_University_in_Toru%C5%84\" title=\"Nicolaus Copernicus University in Toruń\">Nicolaus Copernicus</a>,\n",
              " <a href=\"/wiki/University_of_Opole\" title=\"University of Opole\">Opole</a>,\n",
              " <a href=\"/wiki/University_of_Rzesz%C3%B3w\" title=\"University of Rzeszów\">Rzeszów</a>,\n",
              " <a href=\"/wiki/University_of_Silesia_in_Katowice\" title=\"University of Silesia in Katowice\">Silesia</a>,\n",
              " <a href=\"/wiki/University_of_Szczecin\" title=\"University of Szczecin\">Szczecin</a>,\n",
              " <a href=\"/wiki/University_of_Warmia_and_Mazury_in_Olsztyn\" title=\"University of Warmia and Mazury in Olsztyn\">Warmia and Mazury</a>,\n",
              " <a href=\"/wiki/University_of_Warsaw\" title=\"University of Warsaw\">Warsaw</a>,\n",
              " <a href=\"/wiki/University_of_Wroc%C5%82aw\" title=\"University of Wrocław\">Wrocław</a>,\n",
              " <a href=\"/wiki/University_of_Zielona_G%C3%B3ra\" title=\"University of Zielona Góra\"> Zielona Góra</a>,\n",
              " <a href=\"/wiki/VIZJA_University\" title=\"VIZJA University\">VIZJA University</a>,\n",
              " <a class=\"mw-redirect\" href=\"/wiki/AGH_University_of_Science_and_Technology\" title=\"AGH University of Science and Technology\">AGH</a>,\n",
              " <a href=\"/wiki/University_of_Bielsko-Bia%C5%82a\" title=\"University of Bielsko-Biała\">Bielsko-Biała</a>,\n",
              " <a class=\"mw-redirect\" href=\"/wiki/Bialystok_University_of_Technology\" title=\"Bialystok University of Technology\">Białystok Technical</a>,\n",
              " <a class=\"mw-redirect\" href=\"/wiki/Tadeusz_Ko%C5%9Bciuszko_University_of_Technology\" title=\"Tadeusz Kościuszko University of Technology\">Kraków </a>,\n",
              " <a href=\"/wiki/Cz%C4%99stochowa_University_of_Technology\" title=\"Częstochowa University of Technology\">Częstochowa </a>,\n",
              " <a href=\"/wiki/Gda%C5%84sk_University_of_Technology\" title=\"Gdańsk University of Technology\">Gdańsk Technical</a>,\n",
              " <a class=\"mw-redirect\" href=\"/wiki/Kazimierz_Pu%C5%82aski_University_of_Technology_and_Humanities_in_Radom\" title=\"Kazimierz Pułaski University of Technology and Humanities in Radom\">Kazimierz Pułaski </a>,\n",
              " <a href=\"/wiki/Kielce_University_of_Technology\" title=\"Kielce University of Technology\">Kielce </a>,\n",
              " <a href=\"/wiki/Koszalin_University_of_Technology\" title=\"Koszalin University of Technology\">Koszalin </a>,\n",
              " <a href=\"/wiki/Lublin_University_of_Technology\" title=\"Lublin University of Technology\">Lublin</a>,\n",
              " <a class=\"mw-redirect\" href=\"/wiki/Lodz_University_of_Technology\" title=\"Lodz University of Technology\">Łodź Technical</a>,\n",
              " <a href=\"/wiki/Opole_University_of_Technology\" title=\"Opole University of Technology\">Opole </a>,\n",
              " <a class=\"mw-selflink selflink\">Poznań </a>,\n",
              " <a href=\"/wiki/Rzesz%C3%B3w_University_of_Technology\" title=\"Rzeszów University of Technology\">Rzeszów Technical</a>,\n",
              " <a href=\"/wiki/Silesian_University_of_Technology\" title=\"Silesian University of Technology\">Silesian Technical</a>,\n",
              " <a href=\"/wiki/West_Pomeranian_University_of_Technology\" title=\"West Pomeranian University of Technology\">West Pomeranian </a>,\n",
              " <a href=\"/wiki/Warsaw_University_of_Technology\" title=\"Warsaw University of Technology\">Warsaw Technical</a>,\n",
              " <a href=\"/wiki/Wroc%C5%82aw_University_of_Science_and_Technology\" title=\"Wrocław University of Science and Technology\">Wrocław Technical</a>,\n",
              " <a class=\"mw-redirect\" href=\"/wiki/University_of_Technology_and_Life_Sciences_in_Bydgoszcz\" title=\"University of Technology and Life Sciences in Bydgoszcz\">Bydgoszcz Technical</a>,\n",
              " <a href=\"/wiki/Jagiellonian_University_Medical_College\" title=\"Jagiellonian University Medical College\">Jagiellonian College</a>,\n",
              " <a href=\"/wiki/Medical_University_of_Bia%C5%82ystok\" title=\"Medical University of Białystok\">Białystok</a>,\n",
              " <a href=\"/wiki/Nicolaus_Copernicus_University_Ludwik_Rydygier_Collegium_Medicum_in_Bydgoszcz\" title=\"Nicolaus Copernicus University Ludwik Rydygier Collegium Medicum in Bydgoszcz\">Bydgoszcz</a>,\n",
              " <a href=\"/wiki/Medical_University_of_Gda%C5%84sk\" title=\"Medical University of Gdańsk\">Gdańsk</a>,\n",
              " <a href=\"/wiki/Medical_University_of_Silesia\" title=\"Medical University of Silesia\">Silesia</a>,\n",
              " <a href=\"/wiki/Medical_University_of_Lublin\" title=\"Medical University of Lublin\">Lublin</a>,\n",
              " <a href=\"/wiki/Medical_University_of_%C5%81%C3%B3d%C5%BA\" title=\"Medical University of Łódź\">Łódź</a>,\n",
              " <a class=\"mw-redirect\" href=\"/wiki/Poznan_University_of_Medical_Sciences\" title=\"Poznan University of Medical Sciences\">Poznań</a>,\n",
              " <a class=\"mw-redirect\" href=\"/wiki/Pomeranian_Medical_University_in_Szczecin\" title=\"Pomeranian Medical University in Szczecin\">Pomeranian</a>,\n",
              " <a href=\"/wiki/Medical_University_of_Warsaw\" title=\"Medical University of Warsaw\">Warsaw</a>,\n",
              " <a href=\"/wiki/Wroc%C5%82aw_Medical_University\" title=\"Wrocław Medical University\">Wrocław</a>,\n",
              " <a href=\"/wiki/University_of_Economics_in_Katowice\" title=\"University of Economics in Katowice\">Economics in Katowice</a>,\n",
              " <a href=\"/wiki/Krak%C3%B3w_University_of_Economics\" title=\"Kraków University of Economics\">Economics in Kraków</a>,\n",
              " <a href=\"/wiki/Pozna%C5%84_University_of_Economics_and_Business\" title=\"Poznań University of Economics and Business\">Economics in Poznań</a>,\n",
              " <a href=\"/wiki/Wroc%C5%82aw_University_of_Economics\" title=\"Wrocław University of Economics\">Economics in Wrocław</a>,\n",
              " <a class=\"mw-redirect\" href=\"/wiki/Fryderyk_Chopin_University_of_Music\" title=\"Fryderyk Chopin University of Music\">Music in Warsaw</a>,\n",
              " <a class=\"mw-redirect\" href=\"/wiki/University_of_Fine_Arts_in_Pozna%C5%84\" title=\"University of Fine Arts in Poznań\">Fine Arts in Poznań</a>,\n",
              " <a href=\"/wiki/Pedagogical_University_of_Krak%C3%B3w\" title=\"Pedagogical University of Kraków\">Pedagogical in Kraków</a>,\n",
              " <a class=\"mw-redirect\" href=\"/wiki/Siedlce_University_of_Natural_Sciences_and_Humanities\" title=\"Siedlce University of Natural Sciences and Humanities\">Natural Sciences and Humanities in Siedlce</a>,\n",
              " <a href=\"/wiki/Jan_D%C5%82ugosz_University\" title=\"Jan Długosz University\">Jan Długosz</a>,\n",
              " <a href=\"/wiki/Wroc%C5%82aw_University_of_Environmental_and_Life_Sciences\" title=\"Wrocław University of Environmental and Life Sciences\">Environmental and Life Sciences in Wrocław</a>,\n",
              " <a href=\"/wiki/University_of_Life_Sciences_in_Pozna%C5%84\" title=\"University of Life Sciences in Poznań\">Life Sciences in Poznań</a>,\n",
              " <a href=\"/wiki/Agricultural_University_of_Krak%C3%B3w\" title=\"Agricultural University of Kraków\">Agricultural in Kraków</a>,\n",
              " <a href=\"/wiki/University_of_Life_Sciences_in_Lublin\" title=\"University of Life Sciences in Lublin\">Life Sciences in Lublin</a>,\n",
              " <a href=\"/wiki/Gdynia_Maritime_University\" title=\"Gdynia Maritime University\">Gdynia Maritime University</a>,\n",
              " <a class=\"mw-redirect\" href=\"/wiki/SWPS_University_of_Social_Sciences_and_Humanities\" title=\"SWPS University of Social Sciences and Humanities\">SWPS University of Social Sciences and Humanities</a>,\n",
              " <a href=\"/wiki/College_of_Europe\" title=\"College of Europe\">College of Europe in Natolin</a>,\n",
              " <a href=\"/wiki/Template:Conference_of_European_Schools_for_Advanced_Engineering_Education_and_Research\" title=\"Template:Conference of European Schools for Advanced Engineering Education and Research\"><abbr title=\"View this template\">v</abbr></a>,\n",
              " <a href=\"/wiki/Template_talk:Conference_of_European_Schools_for_Advanced_Engineering_Education_and_Research\" title=\"Template talk:Conference of European Schools for Advanced Engineering Education and Research\"><abbr title=\"Discuss this template\">t</abbr></a>,\n",
              " <a href=\"/wiki/Special:EditPage/Template:Conference_of_European_Schools_for_Advanced_Engineering_Education_and_Research\" title=\"Special:EditPage/Template:Conference of European Schools for Advanced Engineering Education and Research\"><abbr title=\"Edit this template\">e</abbr></a>,\n",
              " <a href=\"/wiki/CESAER\" title=\"CESAER\">CESAER</a>,\n",
              " <a href=\"/wiki/Aalborg_University\" title=\"Aalborg University\">Aalborg</a>,\n",
              " <a href=\"/wiki/Aalto_University\" title=\"Aalto University\">Aalto</a>,\n",
              " <a href=\"/wiki/National_Technical_University_of_Athens\" title=\"National Technical University of Athens\">Athens Polytechnic</a>,\n",
              " <a href=\"/wiki/University_of_Belgrade\" title=\"University of Belgrade\">Belgrade</a>,\n",
              " <a href=\"/wiki/Budapest_University_of_Technology_and_Economics\" title=\"Budapest University of Technology and Economics\">BME</a>,\n",
              " <a href=\"/wiki/Brno_University_of_Technology\" title=\"Brno University of Technology\">BUT</a>,\n",
              " <a href=\"/wiki/Chalmers_University_of_Technology\" title=\"Chalmers University of Technology\">Chalmers</a>,\n",
              " <a href=\"/wiki/%C3%89cole_Polytechnique_F%C3%A9d%C3%A9rale_de_Lausanne\" title=\"École Polytechnique Fédérale de Lausanne\">EPFL</a>,\n",
              " <a href=\"/wiki/ETH_Zurich\" title=\"ETH Zurich\">ETH Zurich</a>,\n",
              " <a href=\"/wiki/Gda%C5%84sk_University_of_Technology\" title=\"Gdańsk University of Technology\">Gdańsk University of Technology</a>,\n",
              " <a href=\"/wiki/Ghent_University\" title=\"Ghent University\">Ghent</a>,\n",
              " <a href=\"/wiki/Graz_University_of_Technology\" title=\"Graz University of Technology\">Graz University of Technology</a>,\n",
              " <a href=\"/wiki/Grenoble_Alpes_University\" title=\"Grenoble Alpes University\">Grenoble Alpes University</a>,\n",
              " <a class=\"mw-redirect\" href=\"/wiki/Institut_national_des_sciences_Appliqu%C3%A9es_de_Lyon\" title=\"Institut national des sciences Appliquées de Lyon\">INSA de Lyon</a>,\n",
              " <a class=\"mw-redirect\" href=\"/wiki/Institut_Polytechnique_de_Paris\" title=\"Institut Polytechnique de Paris\">IP Paris</a>,\n",
              " <a href=\"/wiki/Instituto_Superior_T%C3%A9cnico\" title=\"Instituto Superior Técnico\">IST</a>,\n",
              " <a href=\"/wiki/Istanbul_Technical_University\" title=\"Istanbul Technical University\">ITU</a>,\n",
              " <a href=\"/wiki/Karlsruhe_Institute_of_Technology\" title=\"Karlsruhe Institute of Technology\">KIT</a>,\n",
              " <a href=\"/wiki/Kyiv_Polytechnic_Institute\" title=\"Kyiv Polytechnic Institute\">KPI</a>,\n",
              " <a class=\"mw-redirect\" href=\"/wiki/Royal_Institute_of_Technology\" title=\"Royal Institute of Technology\">KTH</a>,\n",
              " <a href=\"/wiki/KU_Leuven\" title=\"KU Leuven\">KU Leuven</a>,\n",
              " <a href=\"/wiki/Leibniz_University_Hannover\" title=\"Leibniz University Hannover\">Leibniz University Hannover</a>,\n",
              " <a href=\"/wiki/Lund_University\" title=\"Lund University\">Lund</a>,\n",
              " <a class=\"mw-redirect\" href=\"/wiki/New_University_of_Lisbon\" title=\"New University of Lisbon\">NOVA</a>,\n",
              " <a href=\"/wiki/Norwegian_University_of_Science_and_Technology\" title=\"Norwegian University of Science and Technology\">NTNU</a>,\n",
              " <a class=\"mw-redirect\" href=\"/wiki/University_of_Paris-Saclay\" title=\"University of Paris-Saclay\">Paris-Saclay</a>,\n",
              " <a href=\"/wiki/ParisTech\" title=\"ParisTech\">ParisTech</a>,\n",
              " <a href=\"/wiki/Polytechnic_University_of_Milan\" title=\"Polytechnic University of Milan\">Polytechnic University of Milan</a>,\n",
              " <a href=\"/wiki/Polytechnic_University_of_Turin\" title=\"Polytechnic University of Turin\">Polytechnic University of Turin</a>,\n",
              " <a href=\"/wiki/University_of_Porto\" title=\"University of Porto\">Porto</a>,\n",
              " <a href=\"/wiki/Politehnica_University_of_Bucharest\" title=\"Politehnica University of Bucharest\">PUB</a>,\n",
              " <a class=\"mw-selflink selflink\">PUT</a>,\n",
              " <a href=\"/wiki/RWTH_Aachen_University\" title=\"RWTH Aachen University\">RWTH Aachen</a>,\n",
              " <a href=\"/wiki/Sapienza_University_of_Rome\" title=\"Sapienza University of Rome\">Sapienza University of Rome</a>,\n",
              " <a href=\"/wiki/University_of_Sheffield\" title=\"University of Sheffield\">Sheffield</a>,\n",
              " <a href=\"/wiki/University_of_Southampton\" title=\"University of Southampton\">Southampton</a>,\n",
              " <a href=\"/wiki/University_of_Strathclyde\" title=\"University of Strathclyde\">Strathclyde</a>,\n",
              " <a href=\"/wiki/Slovak_University_of_Technology_in_Bratislava\" title=\"Slovak University of Technology in Bratislava\">STU</a>,\n",
              " <a href=\"/wiki/University_of_Stuttgart\" title=\"University of Stuttgart\">Stuttgart</a>,\n",
              " <a href=\"/wiki/University_of_Surrey\" title=\"University of Surrey\">Surrey</a>,\n",
              " <a href=\"/wiki/Technion_%E2%80%93_Israel_Institute_of_Technology\" title=\"Technion – Israel Institute of Technology\">Technion</a>,\n",
              " <a class=\"mw-redirect\" href=\"/wiki/Technical_University_of_Berlin\" title=\"Technical University of Berlin\">TU Berlin</a>,\n",
              " <a href=\"/wiki/Technische_Universit%C3%A4t_Darmstadt\" title=\"Technische Universität Darmstadt\">TU Darmstadt</a>,\n",
              " <a href=\"/wiki/Delft_University_of_Technology\" title=\"Delft University of Technology\">TU Delft</a>,\n",
              " <a href=\"/wiki/TU_Dresden\" title=\"TU Dresden\">TU Dresden</a>,\n",
              " <a href=\"/wiki/Warsaw_University_of_Technology\" title=\"Warsaw University of Technology\">TU Warsaw</a>,\n",
              " <a href=\"/wiki/TU_Wien\" title=\"TU Wien\">TU Wien</a>,\n",
              " <a href=\"/wiki/University_of_Twente\" title=\"University of Twente\">Twente</a>,\n",
              " <a href=\"/wiki/University_College_Dublin\" title=\"University College Dublin\">UCD</a>,\n",
              " <a class=\"mw-redirect\" href=\"/wiki/Universit%C3%A9_catholique_de_Louvain\" title=\"Université catholique de Louvain\">UCLouvain</a>,\n",
              " <a href=\"/wiki/Polytechnic_University_of_Catalonia\" title=\"Polytechnic University of Catalonia\">UPC</a>,\n",
              " <a href=\"/wiki/Technical_University_of_Madrid\" title=\"Technical University of Madrid\">UPM</a>,\n",
              " <a class=\"mw-redirect\" href=\"/wiki/Polytechnic_University_of_Valencia\" title=\"Polytechnic University of Valencia\">UPV</a>,\n",
              " <a class=\"external text\" href=\"https://geohack.toolforge.org/geohack.php?pagename=Pozna%C5%84_University_of_Technology&amp;params=52.3942_N_16.9183_E_source:kolossus-plwiki\"><span class=\"geo-nondefault\"><span class=\"geo-dms\" title=\"Maps, aerial photos, and other data for this location\"><span class=\"latitude\">52°23′39″N</span> <span class=\"longitude\">16°55′06″E</span></span></span><span class=\"geo-multi-punct\">﻿ / ﻿</span><span class=\"geo-default\"><span class=\"geo-dec\" title=\"Maps, aerial photos, and other data for this location\">52.3942°N 16.9183°E</span><span style=\"display:none\">﻿ / <span class=\"geo\">52.3942; 16.9183</span></span></span></a>,\n",
              " <a href=\"/wiki/Help:Authority_control\" title=\"Help:Authority control\">Authority control databases</a>,\n",
              " <a href=\"https://www.wikidata.org/wiki/Q1678753#identifiers\" title=\"Edit this at Wikidata\"><img alt=\"Edit this at Wikidata\" class=\"mw-file-element\" data-file-height=\"20\" data-file-width=\"20\" decoding=\"async\" height=\"10\" src=\"//upload.wikimedia.org/wikipedia/en/thumb/8/8a/OOjs_UI_icon_edit-ltr-progressive.svg/20px-OOjs_UI_icon_edit-ltr-progressive.svg.png\" width=\"10\"/></a>,\n",
              " <a class=\"external text\" href=\"https://isni.org/isni/0000000107296922\" rel=\"nofollow\">ISNI</a>,\n",
              " <a class=\"external text\" href=\"https://viaf.org/viaf/156532287\" rel=\"nofollow\">VIAF</a>,\n",
              " <a class=\"external text\" href=\"https://d-nb.info/gnd/61128-1\" rel=\"nofollow\">GND</a>,\n",
              " <a class=\"external text\" href=\"https://id.loc.gov/authorities/n80119900\" rel=\"nofollow\">United States</a>,\n",
              " <a class=\"external text\" href=\"https://catalogue.bnf.fr/ark:/12148/cb166868590\" rel=\"nofollow\">France</a>,\n",
              " <a class=\"external text\" href=\"https://data.bnf.fr/ark:/12148/cb166868590\" rel=\"nofollow\">BnF data</a>,\n",
              " <a class=\"external text\" href=\"https://dbn.bn.org.pl/descriptor-details/9810704583105606\" rel=\"nofollow\">Poland</a>,\n",
              " <a class=\"external text\" href=\"https://www.nli.org.il/en/authorities/987007585583205171\" rel=\"nofollow\">Israel</a>,\n",
              " <a class=\"external text\" href=\"https://www.idref.fr/077711130\" rel=\"nofollow\">IdRef</a>,\n",
              " <a dir=\"ltr\" href=\"https://en.wikipedia.org/w/index.php?title=Poznań_University_of_Technology&amp;oldid=1308818926\">https://en.wikipedia.org/w/index.php?title=Poznań_University_of_Technology&amp;oldid=1308818926</a>,\n",
              " <a href=\"/wiki/Help:Category\" title=\"Help:Category\">Categories</a>,\n",
              " <a href=\"/wiki/Category:Pozna%C5%84_University_of_Technology\" title=\"Category:Poznań University of Technology\">Poznań University of Technology</a>,\n",
              " <a href=\"/wiki/Category:Universities_and_colleges_established_in_1955\" title=\"Category:Universities and colleges established in 1955\">Universities and colleges established in 1955</a>,\n",
              " <a href=\"/wiki/Category:1955_establishments_in_Poland\" title=\"Category:1955 establishments in Poland\">1955 establishments in Poland</a>,\n",
              " <a href=\"/wiki/Category:CS1_Polish-language_sources_(pl)\" title=\"Category:CS1 Polish-language sources (pl)\">CS1 Polish-language sources (pl)</a>,\n",
              " <a href=\"/wiki/Category:Pages_using_gadget_WikiMiniAtlas\" title=\"Category:Pages using gadget WikiMiniAtlas\">Pages using gadget WikiMiniAtlas</a>,\n",
              " <a href=\"/wiki/Category:Articles_with_short_description\" title=\"Category:Articles with short description\">Articles with short description</a>,\n",
              " <a href=\"/wiki/Category:Short_description_matches_Wikidata\" title=\"Category:Short description matches Wikidata\">Short description matches Wikidata</a>,\n",
              " <a href=\"/wiki/Category:Use_dmy_dates_from_April_2020\" title=\"Category:Use dmy dates from April 2020\">Use dmy dates from April 2020</a>,\n",
              " <a href=\"/wiki/Category:Articles_needing_additional_references_from_August_2015\" title=\"Category:Articles needing additional references from August 2015\">Articles needing additional references from August 2015</a>,\n",
              " <a href=\"/wiki/Category:All_articles_needing_additional_references\" title=\"Category:All articles needing additional references\">All articles needing additional references</a>,\n",
              " <a href=\"/wiki/Category:Articles_containing_Latin-language_text\" title=\"Category:Articles containing Latin-language text\">Articles containing Latin-language text</a>,\n",
              " <a href=\"/wiki/Category:Infobox_mapframe_without_OSM_relation_ID_on_Wikidata\" title=\"Category:Infobox mapframe without OSM relation ID on Wikidata\">Infobox mapframe without OSM relation ID on Wikidata</a>,\n",
              " <a href=\"/wiki/Category:Articles_using_infobox_university\" title=\"Category:Articles using infobox university\">Articles using infobox university</a>,\n",
              " <a href=\"/wiki/Category:Pages_using_infobox_university_with_the_affiliations_parameter\" title=\"Category:Pages using infobox university with the affiliations parameter\">Pages using infobox university with the affiliations parameter</a>,\n",
              " <a href=\"/wiki/Category:Articles_using_infobox_templates_with_no_data_rows\" title=\"Category:Articles using infobox templates with no data rows\">Articles using infobox templates with no data rows</a>,\n",
              " <a href=\"/wiki/Category:Articles_containing_Polish-language_text\" title=\"Category:Articles containing Polish-language text\">Articles containing Polish-language text</a>,\n",
              " <a href=\"/wiki/Category:Coordinates_on_Wikidata\" title=\"Category:Coordinates on Wikidata\">Coordinates on Wikidata</a>,\n",
              " <a href=\"/wiki/Category:Pages_using_the_Kartographer_extension\" title=\"Category:Pages using the Kartographer extension\">Pages using the Kartographer extension</a>,\n",
              " <a href=\"/wiki/Wikipedia:Text_of_the_Creative_Commons_Attribution-ShareAlike_4.0_International_License\" title=\"Wikipedia:Text of the Creative Commons Attribution-ShareAlike 4.0 International License\">Creative Commons Attribution-ShareAlike 4.0 License</a>,\n",
              " <a class=\"extiw\" href=\"https://foundation.wikimedia.org/wiki/Special:MyLanguage/Policy:Terms_of_Use\" title=\"foundation:Special:MyLanguage/Policy:Terms of Use\">Terms of Use</a>,\n",
              " <a class=\"extiw\" href=\"https://foundation.wikimedia.org/wiki/Special:MyLanguage/Policy:Privacy_policy\" title=\"foundation:Special:MyLanguage/Policy:Privacy policy\">Privacy Policy</a>,\n",
              " <a class=\"external text\" href=\"https://wikimediafoundation.org/\" rel=\"nofollow\">Wikimedia Foundation, Inc.</a>,\n",
              " <a href=\"https://foundation.wikimedia.org/wiki/Special:MyLanguage/Policy:Privacy_policy\">Privacy policy</a>,\n",
              " <a href=\"/wiki/Wikipedia:About\">About Wikipedia</a>,\n",
              " <a href=\"/wiki/Wikipedia:General_disclaimer\">Disclaimers</a>,\n",
              " <a href=\"//en.wikipedia.org/wiki/Wikipedia:Contact_us\">Contact Wikipedia</a>,\n",
              " <a href=\"https://foundation.wikimedia.org/wiki/Special:MyLanguage/Policy:Universal_Code_of_Conduct\">Code of Conduct</a>,\n",
              " <a href=\"https://developer.wikimedia.org\">Developers</a>,\n",
              " <a href=\"https://stats.wikimedia.org/#/en.wikipedia.org\">Statistics</a>,\n",
              " <a href=\"https://foundation.wikimedia.org/wiki/Special:MyLanguage/Policy:Cookie_statement\">Cookie statement</a>,\n",
              " <a class=\"noprint stopMobileRedirectToggle\" href=\"//en.wikipedia.org/w/index.php?title=Pozna%C5%84_University_of_Technology&amp;mobileaction=toggle_view_mobile\">Mobile view</a>,\n",
              " <a class=\"cdx-button cdx-button--fake-button cdx-button--size-large cdx-button--fake-button--enabled\" href=\"https://www.wikimedia.org/\"><picture><source height=\"29\" media=\"(min-width: 500px)\" srcset=\"/static/images/footer/wikimedia-button.svg\" width=\"84\"/><img alt=\"Wikimedia Foundation\" height=\"25\" lang=\"en\" loading=\"lazy\" src=\"/static/images/footer/wikimedia.svg\" width=\"25\"/></picture></a>,\n",
              " <a class=\"cdx-button cdx-button--fake-button cdx-button--size-large cdx-button--fake-button--enabled\" href=\"https://www.mediawiki.org/\"><picture><source height=\"31\" media=\"(min-width: 500px)\" srcset=\"/w/resources/assets/poweredby_mediawiki.svg\" width=\"88\"/><img alt=\"Powered by MediaWiki\" height=\"25\" lang=\"en\" loading=\"lazy\" src=\"/w/resources/assets/mediawiki_compact.svg\" width=\"25\"/></picture></a>,\n",
              " <a class=\"cdx-button cdx-button--fake-button cdx-button--fake-button--enabled cdx-button--weight-quiet cdx-button--icon-only\" data-event-name=\"talk-sticky-header\" href=\"#\" id=\"ca-talk-sticky-header\" tabindex=\"-1\"><span class=\"vector-icon mw-ui-icon-speechBubbles mw-ui-icon-wikimedia-speechBubbles\"></span>\n",
              " <span></span>\n",
              " </a>,\n",
              " <a class=\"cdx-button cdx-button--fake-button cdx-button--fake-button--enabled cdx-button--weight-quiet cdx-button--icon-only\" data-event-name=\"subject-sticky-header\" href=\"#\" id=\"ca-subject-sticky-header\" tabindex=\"-1\"><span class=\"vector-icon mw-ui-icon-article mw-ui-icon-wikimedia-article\"></span>\n",
              " <span></span>\n",
              " </a>,\n",
              " <a class=\"cdx-button cdx-button--fake-button cdx-button--fake-button--enabled cdx-button--weight-quiet cdx-button--icon-only\" data-event-name=\"history-sticky-header\" href=\"#\" id=\"ca-history-sticky-header\" tabindex=\"-1\"><span class=\"vector-icon mw-ui-icon-wikimedia-history mw-ui-icon-wikimedia-wikimedia-history\"></span>\n",
              " <span></span>\n",
              " </a>,\n",
              " <a class=\"cdx-button cdx-button--fake-button cdx-button--fake-button--enabled cdx-button--weight-quiet cdx-button--icon-only mw-watchlink\" data-event-name=\"watch-sticky-header\" href=\"#\" id=\"ca-watchstar-sticky-header\" tabindex=\"-1\"><span class=\"vector-icon mw-ui-icon-wikimedia-star mw-ui-icon-wikimedia-wikimedia-star\"></span>\n",
              " <span></span>\n",
              " </a>,\n",
              " <a class=\"cdx-button cdx-button--fake-button cdx-button--fake-button--enabled cdx-button--weight-quiet cdx-button--icon-only reading-lists-bookmark\" data-event-name=\"watch-sticky-bookmark\" href=\"#\" id=\"ca-bookmark-sticky-header\" tabindex=\"-1\"><span class=\"vector-icon mw-ui-icon-wikimedia-bookmarkOutline mw-ui-icon-wikimedia-wikimedia-bookmarkOutline\"></span>\n",
              " <span></span>\n",
              " </a>,\n",
              " <a class=\"cdx-button cdx-button--fake-button cdx-button--fake-button--enabled cdx-button--weight-quiet cdx-button--icon-only\" data-event-name=\"wikitext-edit-sticky-header\" href=\"#\" id=\"ca-edit-sticky-header\" tabindex=\"-1\"><span class=\"vector-icon mw-ui-icon-wikimedia-wikiText mw-ui-icon-wikimedia-wikimedia-wikiText\"></span>\n",
              " <span></span>\n",
              " </a>,\n",
              " <a class=\"cdx-button cdx-button--fake-button cdx-button--fake-button--enabled cdx-button--weight-quiet cdx-button--icon-only\" data-event-name=\"ve-edit-sticky-header\" href=\"#\" id=\"ca-ve-edit-sticky-header\" tabindex=\"-1\"><span class=\"vector-icon mw-ui-icon-wikimedia-edit mw-ui-icon-wikimedia-wikimedia-edit\"></span>\n",
              " <span></span>\n",
              " </a>,\n",
              " <a class=\"cdx-button cdx-button--fake-button cdx-button--fake-button--enabled cdx-button--weight-quiet cdx-button--icon-only\" data-event-name=\"ve-edit-protected-sticky-header\" href=\"#\" id=\"ca-viewsource-sticky-header\" tabindex=\"-1\"><span class=\"vector-icon mw-ui-icon-wikimedia-editLock mw-ui-icon-wikimedia-wikimedia-editLock\"></span>\n",
              " <span></span>\n",
              " </a>,\n",
              " <a class=\"cdx-button cdx-button--fake-button cdx-button--fake-button--enabled cdx-button--weight-quiet cdx-button--action-progressive\" data-event-name=\"addsection-sticky-header\" href=\"#\" id=\"ca-addsection-sticky-header\" tabindex=\"-1\"><span class=\"vector-icon mw-ui-icon-speechBubbleAdd-progressive mw-ui-icon-wikimedia-speechBubbleAdd-progressive\"></span>\n",
              " <span>Add topic</span>\n",
              " </a>]"
            ]
          },
          "execution_count": 84,
          "metadata": {},
          "output_type": "execute_result"
        }
      ],
      "source": [
        "parsed.find_all('a')"
      ]
    },
    {
      "cell_type": "markdown",
      "metadata": {
        "id": "-vRFiOlzd0_6"
      },
      "source": [
        "It's important to add some delay between accessing the next page. Otherwise, you might cause too much traffic and be temporarily banned"
      ]
    },
    {
      "cell_type": "code",
      "execution_count": 145,
      "metadata": {
        "id": "oUbSKTBNd0_6",
        "scrolled": true
      },
      "outputs": [
        {
          "name": "stdout",
          "output_type": "stream",
          "text": [
            "/wiki/Special:EditPage/Template:Universities_in_Poland\n",
            "403\n",
            "/wiki/Wikipedia:About\n",
            "403\n",
            "/wiki/Special:MyContributions\n",
            "403\n",
            "/wiki/University_of_Warmia_and_Mazury_in_Olsztyn\n",
            "403\n",
            "/wiki/University_College_Dublin\n",
            "403\n",
            "/wiki/ETH_Zurich\n",
            "403\n",
            "/wiki/University_of_Stuttgart\n",
            "403\n",
            "/wiki/Leibniz_University_Hannover\n",
            "403\n",
            "/wiki/Socrates-Erasmus\n",
            "403\n",
            "/wiki/University_of_%C5%81%C3%B3d%C5%BA\n",
            "403\n"
          ]
        }
      ],
      "source": [
        "links = parsed.find_all('a', attrs={'href': re.compile(r'^/wiki')})\n",
        "random.shuffle(links)\n",
        "for link in links[:10]:\n",
        "    print(link['href'])\n",
        "    response = requests.get(\"https://en.wikipedia.org\" + link['href'])\n",
        "    print(response.status_code)\n",
        "    sleep(random.random()*3)"
      ]
    },
    {
      "cell_type": "markdown",
      "metadata": {
        "id": "U8FxKOmOd0_7"
      },
      "source": [
        "implement DFS based on the code above, try to avoid links not leading to an article"
      ]
    },
    {
      "cell_type": "code",
      "execution_count": 158,
      "metadata": {
        "id": "Ar58sokGd0_7"
      },
      "outputs": [],
      "source": [
        "\n",
        "def dfs(link):\n",
        "    max_visited = 10\n",
        "    visited = set()\n",
        "    def dfs_run(link, visited):\n",
        "        sleep(random.random()*3)\n",
        "        response = requests.get(link, headers=headers)\n",
        "        parsed = bs4.BeautifulSoup(response.text)\n",
        "        links = parsed.find_all('a', attrs={'href': re.compile(r'^/wiki')})\n",
        "        random.shuffle(links)\n",
        "        \n",
        "        \n",
        "        for link in links:\n",
        "            full_link = \"https://en.wikipedia.org\" + link['href']\n",
        "            if full_link not in visited and len(visited) < max_visited:\n",
        "                visited.add(full_link)\n",
        "                \n",
        "                \n",
        "        for link in links:\n",
        "            full_link = \"https://en.wikipedia.org\" + link['href']\n",
        "            if len(visited) >= max_visited:\n",
        "                return\n",
        "            dfs_run(full_link, visited)\n",
        "    dfs_run(link, visited)\n",
        "    for link in visited:\n",
        "        print(link)\n",
        "    return visited"
      ]
    },
    {
      "cell_type": "code",
      "execution_count": 159,
      "metadata": {
        "id": "bH4vAP7Qd0_7"
      },
      "outputs": [
        {
          "name": "stdout",
          "output_type": "stream",
          "text": [
            "https://en.wikipedia.org/wiki/Socrates-Erasmus\n",
            "https://en.wikipedia.org/wiki/Lund_University\n",
            "https://en.wikipedia.org/wiki/Maria_Curie-Sk%C5%82odowska_University\n",
            "https://en.wikipedia.org/wiki/Pozna%C5%84_University_of_Technology\n",
            "https://en.wikipedia.org/wiki/European_Society_for_Engineering_Education\n",
            "https://en.wikipedia.org/wiki/College_of_Europe\n",
            "https://en.wikipedia.org/wiki/University_of_Paris-Saclay\n",
            "https://en.wikipedia.org/wiki/Medical_University_of_Warsaw\n",
            "https://en.wikipedia.org/wiki/Sapienza_University_of_Rome\n",
            "https://en.wikipedia.org/wiki/Category:Pages_using_infobox_university_with_the_affiliations_parameter\n"
          ]
        },
        {
          "data": {
            "text/plain": [
              "{'https://en.wikipedia.org/wiki/Category:Pages_using_infobox_university_with_the_affiliations_parameter',\n",
              " 'https://en.wikipedia.org/wiki/College_of_Europe',\n",
              " 'https://en.wikipedia.org/wiki/European_Society_for_Engineering_Education',\n",
              " 'https://en.wikipedia.org/wiki/Lund_University',\n",
              " 'https://en.wikipedia.org/wiki/Maria_Curie-Sk%C5%82odowska_University',\n",
              " 'https://en.wikipedia.org/wiki/Medical_University_of_Warsaw',\n",
              " 'https://en.wikipedia.org/wiki/Pozna%C5%84_University_of_Technology',\n",
              " 'https://en.wikipedia.org/wiki/Sapienza_University_of_Rome',\n",
              " 'https://en.wikipedia.org/wiki/Socrates-Erasmus',\n",
              " 'https://en.wikipedia.org/wiki/University_of_Paris-Saclay'}"
            ]
          },
          "execution_count": 159,
          "metadata": {},
          "output_type": "execute_result"
        }
      ],
      "source": [
        "dfs('https://en.wikipedia.org/wiki/Pozna%C5%84_University_of_Technology')"
      ]
    },
    {
      "cell_type": "markdown",
      "metadata": {
        "id": "e7Nyyndfd0_7"
      },
      "source": [
        "write BFS with printing current link"
      ]
    },
    {
      "cell_type": "code",
      "execution_count": 162,
      "metadata": {
        "id": "DXSNZ4hwd0_7"
      },
      "outputs": [
        {
          "name": "stdout",
          "output_type": "stream",
          "text": [
            "https://en.wikipedia.org/wiki/Witold_Czarnecki\n",
            "https://en.wikipedia.org/wiki/Pozna%C5%84_University_of_Technology\n",
            "https://en.wikipedia.org/wiki/University_of_Bia%C5%82ystok\n",
            "https://en.wikipedia.org/wiki/Conference_of_European_Schools_for_Advanced_Engineering_Education_and_Research\n",
            "https://en.wikipedia.org/wiki/University_of_Wroc%C5%82aw\n",
            "https://en.wikipedia.org/wiki/University_of_Paris-Saclay\n",
            "https://en.wikipedia.org/wiki/Universities_in_Poznan\n",
            "https://en.wikipedia.org/wiki/Wroc%C5%82aw_University_of_Science_and_Technology\n",
            "https://en.wikipedia.org/wiki/Jan_Kochanowski_University\n",
            "https://en.wikipedia.org/wiki/Special:RecentChangesLinked/Pozna%C5%84_University_of_Technology\n"
          ]
        },
        {
          "data": {
            "text/plain": [
              "{'https://en.wikipedia.org/wiki/Conference_of_European_Schools_for_Advanced_Engineering_Education_and_Research',\n",
              " 'https://en.wikipedia.org/wiki/Jan_Kochanowski_University',\n",
              " 'https://en.wikipedia.org/wiki/Pozna%C5%84_University_of_Technology',\n",
              " 'https://en.wikipedia.org/wiki/Special:RecentChangesLinked/Pozna%C5%84_University_of_Technology',\n",
              " 'https://en.wikipedia.org/wiki/Universities_in_Poznan',\n",
              " 'https://en.wikipedia.org/wiki/University_of_Bia%C5%82ystok',\n",
              " 'https://en.wikipedia.org/wiki/University_of_Paris-Saclay',\n",
              " 'https://en.wikipedia.org/wiki/University_of_Wroc%C5%82aw',\n",
              " 'https://en.wikipedia.org/wiki/Witold_Czarnecki',\n",
              " 'https://en.wikipedia.org/wiki/Wroc%C5%82aw_University_of_Science_and_Technology'}"
            ]
          },
          "execution_count": 162,
          "metadata": {},
          "output_type": "execute_result"
        }
      ],
      "source": [
        "def bfs(link):\n",
        "    max_visited = 10\n",
        "    visited = set()\n",
        "    visited.add(link)\n",
        "    queue = [link]\n",
        "    while queue and len(visited) < max_visited:\n",
        "        current_link = queue.pop(0)\n",
        "        sleep(random.random()*3)\n",
        "        response = requests.get(current_link, headers=headers)\n",
        "        parsed = bs4.BeautifulSoup(response.text)\n",
        "        links = parsed.find_all('a', attrs={'href': re.compile(r'^/wiki')})\n",
        "        random.shuffle(links)\n",
        "        for link in links:\n",
        "            full_link = \"https://en.wikipedia.org\" + link['href']\n",
        "            if full_link not in visited and len(visited) < max_visited:\n",
        "                visited.add(full_link)\n",
        "                queue.append(full_link)\n",
        "            if len(visited) >= max_visited:\n",
        "                break\n",
        "    for link in visited:\n",
        "        print(link)\n",
        "    return visited\n",
        "\n",
        "\n",
        "bfs('https://en.wikipedia.org/wiki/Pozna%C5%84_University_of_Technology')"
      ]
    },
    {
      "cell_type": "markdown",
      "metadata": {
        "id": "hT8BlXgOd0_7"
      },
      "source": [
        "## Networkx\n",
        "\n",
        "It's a package for working with various networks"
      ]
    },
    {
      "cell_type": "code",
      "execution_count": 164,
      "metadata": {
        "id": "m7Nayo4Bd1AD"
      },
      "outputs": [
        {
          "data": {
            "image/png": "[encoded data removed]",
            "text/plain": [
              "<Figure size 640x480 with 1 Axes>"
            ]
          },
          "metadata": {},
          "output_type": "display_data"
        }
      ],
      "source": [
        "G = nx.Graph()\n",
        "\n",
        "G.add_edge(\"a\", \"b\")\n",
        "G.add_edge(\"a\", \"c\")\n",
        "G.add_edge(\"c\", \"d\")\n",
        "G.add_edge(\"c\", \"e\")\n",
        "G.add_edge(\"c\", \"f\")\n",
        "G.add_edge(\"a\", \"d\")\n",
        "\n",
        "nx.draw(G, with_labels=True)"
      ]
    },
    {
      "cell_type": "markdown",
      "metadata": {
        "id": "ge_cWA01d1AD"
      },
      "source": [
        "\n",
        "Can you plot a graph of Wikipedia links? Extend the bfs function by plotting a network. Limit the search to a reasonable number of nodes."
      ]
    },
    {
      "cell_type": "code",
      "execution_count": 190,
      "metadata": {
        "id": "RTbNmfLKd1AD"
      },
      "outputs": [
        {
          "data": {
            "image/png": "[encoded data removed]",
            "text/plain": [
              "<Figure size 640x480 with 1 Axes>"
            ]
          },
          "metadata": {},
          "output_type": "display_data"
        }
      ],
      "source": [
        "def trim_url(url):\n",
        "    return re.sub(r'^https://en\\.wikipedia\\.org/wiki/', '', url)\n",
        "\n",
        "def bfs_plot(link, max_visited=50, links_from_site=6):\n",
        "    G = nx.Graph()\n",
        "    visited = set()\n",
        "    visited.add(link)\n",
        "    queue = [link]\n",
        "    while queue and len(visited) < max_visited:\n",
        "        current_link = queue.pop(0)\n",
        "        sleep(random.random()*3)\n",
        "        response = requests.get(current_link, headers=headers)\n",
        "        parsed = bs4.BeautifulSoup(response.text)\n",
        "        links = parsed.find_all('a', attrs={'href': re.compile(r'^/wiki')})\n",
        "        links = sorted(links, key=lambda x: x['href'])\n",
        "        for link in links[0:links_from_site]:\n",
        "            full_link = \"https://en.wikipedia.org\" + link['href']\n",
        "            if full_link not in visited and len(visited) < max_visited:\n",
        "                visited.add(full_link)\n",
        "                queue.append(full_link)\n",
        "                G.add_edge(trim_url(current_link), trim_url(full_link))\n",
        "            if len(visited) >= max_visited:\n",
        "                break\n",
        "    nx.draw(G, with_labels=False)\n",
        "    return visited\n",
        "\n",
        "\n",
        "d = bfs_plot('https://en.wikipedia.org/wiki/Pozna%C5%84_University_of_Technology')"
      ]
    },
    {
      "cell_type": "markdown",
      "metadata": {
        "id": "_IthuH61d1AD"
      },
      "source": [
        "# Scrapy\n",
        "\n",
        "Scrapy is an efficient library for web crawling and scraping. It has a slightly higher entrance level than requests + bs but it's much easier for complex tasks."
      ]
    },
    {
      "cell_type": "code",
      "execution_count": 1,
      "metadata": {
        "id": "g1SZFx0Od1AD"
      },
      "outputs": [],
      "source": [
        "import requests\n",
        "import bs4\n",
        "import re\n",
        "from time import sleep\n",
        "import random\n",
        "\n",
        "\n",
        "import scrapy\n",
        "from scrapy.crawler import CrawlerProcess\n",
        "import nest_asyncio\n",
        "nest_asyncio.apply()"
      ]
    },
    {
      "cell_type": "code",
      "execution_count": 2,
      "metadata": {
        "id": "6Z50lSkpd1AD"
      },
      "outputs": [],
      "source": [
        "class MySpider(scrapy.Spider):\n",
        "    name = \"lab1\"\n",
        "\n",
        "    start_urls = ['http://quotes.toscrape.com']\n",
        "\n",
        "    def parse(self, response):\n",
        "        quotes = response.css('div.quote')\n",
        "        for quote in quotes: # you can extract data you need\n",
        "            yield {\n",
        "                'text': quote.css('.text::text').get(),\n",
        "                'author': quote.css('.author::text').get(),\n",
        "            }\n",
        "\n",
        "        next_page = response.css('li.next a::attr(href)').get() #find next URL\n",
        "        print(next_page)\n",
        "        if next_page is not None:\n",
        "            next_page = response.urljoin(next_page)\n",
        "            yield scrapy.Request(next_page, callback=self.parse) #and process it"
      ]
    },
    {
      "cell_type": "code",
      "execution_count": 3,
      "metadata": {
        "id": "QdFmUDBQd1AD"
      },
      "outputs": [
        {
          "name": "stderr",
          "output_type": "stream",
          "text": [
            "2025-10-18 19:40:03 [scrapy.utils.log] INFO: Scrapy 2.13.3 started (bot: scrapybot)\n",
            "2025-10-18 19:40:03 [scrapy.utils.log] INFO: Versions:\n",
            "{'lxml': '6.0.2',\n",
            " 'libxml2': '2.11.9',\n",
            " 'cssselect': '1.3.0',\n",
            " 'parsel': '1.10.0',\n",
            " 'w3lib': '2.3.1',\n",
            " 'Twisted': '25.5.0',\n",
            " 'Python': '3.13.2 | packaged by Anaconda, Inc. | (main, Feb  6 2025, '\n",
            "           '18:49:14) [MSC v.1929 64 bit (AMD64)]',\n",
            " 'pyOpenSSL': '25.3.0 (OpenSSL 3.5.4 30 Sep 2025)',\n",
            " 'cryptography': '46.0.3',\n",
            " 'Platform': 'Windows-11-10.0.26100-SP0'}\n",
            "2025-10-18 19:40:03 [scrapy.addons] INFO: Enabled addons:\n",
            "[]\n",
            "2025-10-18 19:40:03 [scrapy.utils.log] DEBUG: Using reactor: twisted.internet.asyncioreactor.AsyncioSelectorReactor\n",
            "2025-10-18 19:40:03 [scrapy.utils.log] DEBUG: Using asyncio event loop: asyncio.windows_events._WindowsSelectorEventLoop\n",
            "2025-10-18 19:40:03 [scrapy.extensions.telnet] INFO: Telnet Password: fa259629a3033f04\n",
            "2025-10-18 19:40:03 [scrapy.middleware] INFO: Enabled extensions:\n",
            "['scrapy.extensions.corestats.CoreStats',\n",
            " 'scrapy.extensions.telnet.TelnetConsole',\n",
            " 'scrapy.extensions.closespider.CloseSpider',\n",
            " 'scrapy.extensions.logstats.LogStats']\n",
            "2025-10-18 19:40:03 [scrapy.crawler] INFO: Overridden settings:\n",
            "{'CLOSESPIDER_PAGECOUNT': 5,\n",
            " 'USER_AGENT': 'Mozilla/4.0 (compatible; MSIE 7.0; Windows NT 5.1)'}\n",
            "2025-10-18 19:40:03 [scrapy.middleware] INFO: Enabled downloader middlewares:\n",
            "['scrapy.downloadermiddlewares.offsite.OffsiteMiddleware',\n",
            " 'scrapy.downloadermiddlewares.httpauth.HttpAuthMiddleware',\n",
            " 'scrapy.downloadermiddlewares.downloadtimeout.DownloadTimeoutMiddleware',\n",
            " 'scrapy.downloadermiddlewares.defaultheaders.DefaultHeadersMiddleware',\n",
            " 'scrapy.downloadermiddlewares.useragent.UserAgentMiddleware',\n",
            " 'scrapy.downloadermiddlewares.retry.RetryMiddleware',\n",
            " 'scrapy.downloadermiddlewares.redirect.MetaRefreshMiddleware',\n",
            " 'scrapy.downloadermiddlewares.httpcompression.HttpCompressionMiddleware',\n",
            " 'scrapy.downloadermiddlewares.redirect.RedirectMiddleware',\n",
            " 'scrapy.downloadermiddlewares.cookies.CookiesMiddleware',\n",
            " 'scrapy.downloadermiddlewares.httpproxy.HttpProxyMiddleware',\n",
            " 'scrapy.downloadermiddlewares.stats.DownloaderStats']\n",
            "2025-10-18 19:40:03 [scrapy.middleware] INFO: Enabled spider middlewares:\n",
            "['scrapy.spidermiddlewares.start.StartSpiderMiddleware',\n",
            " 'scrapy.spidermiddlewares.httperror.HttpErrorMiddleware',\n",
            " 'scrapy.spidermiddlewares.referer.RefererMiddleware',\n",
            " 'scrapy.spidermiddlewares.urllength.UrlLengthMiddleware',\n",
            " 'scrapy.spidermiddlewares.depth.DepthMiddleware']\n",
            "2025-10-18 19:40:03 [scrapy.middleware] INFO: Enabled item pipelines:\n",
            "[]\n",
            "2025-10-18 19:40:03 [scrapy.core.engine] INFO: Spider opened\n",
            "2025-10-18 19:40:03 [scrapy.extensions.logstats] INFO: Crawled 0 pages (at 0 pages/min), scraped 0 items (at 0 items/min)\n",
            "2025-10-18 19:40:03 [scrapy.extensions.telnet] INFO: Telnet console listening on 127.0.0.1:6023\n",
            "2025-10-18 19:40:03 [scrapy.core.engine] DEBUG: Crawled (200) <GET http://quotes.toscrape.com> (referer: None)\n",
            "2025-10-18 19:40:03 [scrapy.core.scraper] DEBUG: Scraped from <200 http://quotes.toscrape.com>\n",
            "{'text': '“The world as we have created it is a process of our thinking. It cannot be changed without changing our thinking.”', 'author': 'Albert Einstein'}\n",
            "2025-10-18 19:40:03 [scrapy.core.scraper] DEBUG: Scraped from <200 http://quotes.toscrape.com>\n",
            "{'text': '“It is our choices, Harry, that show what we truly are, far more than our abilities.”', 'author': 'J.K. Rowling'}\n",
            "2025-10-18 19:40:03 [scrapy.core.scraper] DEBUG: Scraped from <200 http://quotes.toscrape.com>\n",
            "{'text': '“There are only two ways to live your life. One is as though nothing is a miracle. The other is as though everything is a miracle.”', 'author': 'Albert Einstein'}\n",
            "2025-10-18 19:40:03 [scrapy.core.scraper] DEBUG: Scraped from <200 http://quotes.toscrape.com>\n",
            "{'text': '“The person, be it gentleman or lady, who has not pleasure in a good novel, must be intolerably stupid.”', 'author': 'Jane Austen'}\n",
            "2025-10-18 19:40:03 [scrapy.core.scraper] DEBUG: Scraped from <200 http://quotes.toscrape.com>\n",
            "{'text': \"“Imperfection is beauty, madness is genius and it's better to be absolutely ridiculous than absolutely boring.”\", 'author': 'Marilyn Monroe'}\n",
            "2025-10-18 19:40:03 [scrapy.core.scraper] DEBUG: Scraped from <200 http://quotes.toscrape.com>\n",
            "{'text': '“Try not to become a man of success. Rather become a man of value.”', 'author': 'Albert Einstein'}\n",
            "2025-10-18 19:40:03 [scrapy.core.scraper] DEBUG: Scraped from <200 http://quotes.toscrape.com>\n",
            "{'text': '“It is better to be hated for what you are than to be loved for what you are not.”', 'author': 'André Gide'}\n",
            "2025-10-18 19:40:03 [scrapy.core.scraper] DEBUG: Scraped from <200 http://quotes.toscrape.com>\n",
            "{'text': \"“I have not failed. I've just found 10,000 ways that won't work.”\", 'author': 'Thomas A. Edison'}\n",
            "2025-10-18 19:40:03 [scrapy.core.scraper] DEBUG: Scraped from <200 http://quotes.toscrape.com>\n",
            "{'text': \"“A woman is like a tea bag; you never know how strong it is until it's in hot water.”\", 'author': 'Eleanor Roosevelt'}\n",
            "2025-10-18 19:40:03 [scrapy.core.scraper] DEBUG: Scraped from <200 http://quotes.toscrape.com>\n",
            "{'text': '“A day without sunshine is like, you know, night.”', 'author': 'Steve Martin'}\n",
            "2025-10-18 19:40:04 [scrapy.core.engine] DEBUG: Crawled (200) <GET http://quotes.toscrape.com/page/2/> (referer: http://quotes.toscrape.com)\n"
          ]
        },
        {
          "name": "stdout",
          "output_type": "stream",
          "text": [
            "/page/2/\n"
          ]
        },
        {
          "name": "stderr",
          "output_type": "stream",
          "text": [
            "2025-10-18 19:40:04 [scrapy.core.scraper] DEBUG: Scraped from <200 http://quotes.toscrape.com/page/2/>\n",
            "{'text': \"“This life is what you make it. No matter what, you're going to mess up sometimes, it's a universal truth. But the good part is you get to decide how you're going to mess it up. Girls will be your friends - they'll act like it anyway. But just remember, some come, some go. The ones that stay with you through everything - they're your true best friends. Don't let go of them. Also remember, sisters make the best friends in the world. As for lovers, well, they'll come and go too. And baby, I hate to say it, most of them - actually pretty much all of them are going to break your heart, but you can't give up because if you give up, you'll never find your soulmate. You'll never find that half who makes you whole and that goes for everything. Just because you fail once, doesn't mean you're gonna fail at everything. Keep trying, hold on, and always, always, always believe in yourself, because if you don't, then who will, sweetie? So keep your head high, keep your chin up, and most importantly, keep smiling, because life's a beautiful thing and there's so much to smile about.”\", 'author': 'Marilyn Monroe'}\n",
            "2025-10-18 19:40:04 [scrapy.core.scraper] DEBUG: Scraped from <200 http://quotes.toscrape.com/page/2/>\n",
            "{'text': '“It takes a great deal of bravery to stand up to our enemies, but just as much to stand up to our friends.”', 'author': 'J.K. Rowling'}\n",
            "2025-10-18 19:40:04 [scrapy.core.scraper] DEBUG: Scraped from <200 http://quotes.toscrape.com/page/2/>\n",
            "{'text': \"“If you can't explain it to a six year old, you don't understand it yourself.”\", 'author': 'Albert Einstein'}\n",
            "2025-10-18 19:40:04 [scrapy.core.scraper] DEBUG: Scraped from <200 http://quotes.toscrape.com/page/2/>\n",
            "{'text': \"“You may not be her first, her last, or her only. She loved before she may love again. But if she loves you now, what else matters? She's not perfect—you aren't either, and the two of you may never be perfect together but if she can make you laugh, cause you to think twice, and admit to being human and making mistakes, hold onto her and give her the most you can. She may not be thinking about you every second of the day, but she will give you a part of her that she knows you can break—her heart. So don't hurt her, don't change her, don't analyze and don't expect more than she can give. Smile when she makes you happy, let her know when she makes you mad, and miss her when she's not there.”\", 'author': 'Bob Marley'}\n",
            "2025-10-18 19:40:04 [scrapy.core.scraper] DEBUG: Scraped from <200 http://quotes.toscrape.com/page/2/>\n",
            "{'text': '“I like nonsense, it wakes up the brain cells. Fantasy is a necessary ingredient in living.”', 'author': 'Dr. Seuss'}\n",
            "2025-10-18 19:40:04 [scrapy.core.scraper] DEBUG: Scraped from <200 http://quotes.toscrape.com/page/2/>\n",
            "{'text': '“I may not have gone where I intended to go, but I think I have ended up where I needed to be.”', 'author': 'Douglas Adams'}\n",
            "2025-10-18 19:40:04 [scrapy.core.scraper] DEBUG: Scraped from <200 http://quotes.toscrape.com/page/2/>\n",
            "{'text': \"“The opposite of love is not hate, it's indifference. The opposite of art is not ugliness, it's indifference. The opposite of faith is not heresy, it's indifference. And the opposite of life is not death, it's indifference.”\", 'author': 'Elie Wiesel'}\n",
            "2025-10-18 19:40:04 [scrapy.core.scraper] DEBUG: Scraped from <200 http://quotes.toscrape.com/page/2/>\n",
            "{'text': '“It is not a lack of love, but a lack of friendship that makes unhappy marriages.”', 'author': 'Friedrich Nietzsche'}\n",
            "2025-10-18 19:40:04 [scrapy.core.scraper] DEBUG: Scraped from <200 http://quotes.toscrape.com/page/2/>\n",
            "{'text': '“Good friends, good books, and a sleepy conscience: this is the ideal life.”', 'author': 'Mark Twain'}\n",
            "2025-10-18 19:40:04 [scrapy.core.scraper] DEBUG: Scraped from <200 http://quotes.toscrape.com/page/2/>\n",
            "{'text': '“Life is what happens to us while we are making other plans.”', 'author': 'Allen Saunders'}\n",
            "2025-10-18 19:40:04 [scrapy.core.engine] DEBUG: Crawled (200) <GET http://quotes.toscrape.com/page/3/> (referer: http://quotes.toscrape.com/page/2/)\n"
          ]
        },
        {
          "name": "stdout",
          "output_type": "stream",
          "text": [
            "/page/3/\n"
          ]
        },
        {
          "name": "stderr",
          "output_type": "stream",
          "text": [
            "2025-10-18 19:40:04 [scrapy.core.scraper] DEBUG: Scraped from <200 http://quotes.toscrape.com/page/3/>\n",
            "{'text': '“I love you without knowing how, or when, or from where. I love you simply, without problems or pride: I love you in this way because I do not know any other way of loving but this, in which there is no I or you, so intimate that your hand upon my chest is my hand, so intimate that when I fall asleep your eyes close.”', 'author': 'Pablo Neruda'}\n",
            "2025-10-18 19:40:04 [scrapy.core.scraper] DEBUG: Scraped from <200 http://quotes.toscrape.com/page/3/>\n",
            "{'text': '“For every minute you are angry you lose sixty seconds of happiness.”', 'author': 'Ralph Waldo Emerson'}\n",
            "2025-10-18 19:40:04 [scrapy.core.scraper] DEBUG: Scraped from <200 http://quotes.toscrape.com/page/3/>\n",
            "{'text': '“If you judge people, you have no time to love them.”', 'author': 'Mother Teresa'}\n",
            "2025-10-18 19:40:04 [scrapy.core.scraper] DEBUG: Scraped from <200 http://quotes.toscrape.com/page/3/>\n",
            "{'text': '“Anyone who thinks sitting in church can make you a Christian must also think that sitting in a garage can make you a car.”', 'author': 'Garrison Keillor'}\n",
            "2025-10-18 19:40:04 [scrapy.core.scraper] DEBUG: Scraped from <200 http://quotes.toscrape.com/page/3/>\n",
            "{'text': '“Beauty is in the eye of the beholder and it may be necessary from time to time to give a stupid or misinformed beholder a black eye.”', 'author': 'Jim Henson'}\n",
            "2025-10-18 19:40:04 [scrapy.core.scraper] DEBUG: Scraped from <200 http://quotes.toscrape.com/page/3/>\n",
            "{'text': '“Today you are You, that is truer than true. There is no one alive who is Youer than You.”', 'author': 'Dr. Seuss'}\n",
            "2025-10-18 19:40:04 [scrapy.core.scraper] DEBUG: Scraped from <200 http://quotes.toscrape.com/page/3/>\n",
            "{'text': '“If you want your children to be intelligent, read them fairy tales. If you want them to be more intelligent, read them more fairy tales.”', 'author': 'Albert Einstein'}\n",
            "2025-10-18 19:40:04 [scrapy.core.scraper] DEBUG: Scraped from <200 http://quotes.toscrape.com/page/3/>\n",
            "{'text': '“It is impossible to live without failing at something, unless you live so cautiously that you might as well not have lived at all - in which case, you fail by default.”', 'author': 'J.K. Rowling'}\n",
            "2025-10-18 19:40:04 [scrapy.core.scraper] DEBUG: Scraped from <200 http://quotes.toscrape.com/page/3/>\n",
            "{'text': '“Logic will get you from A to Z; imagination will get you everywhere.”', 'author': 'Albert Einstein'}\n",
            "2025-10-18 19:40:04 [scrapy.core.scraper] DEBUG: Scraped from <200 http://quotes.toscrape.com/page/3/>\n",
            "{'text': '“One good thing about music, when it hits you, you feel no pain.”', 'author': 'Bob Marley'}\n",
            "2025-10-18 19:40:04 [scrapy.core.engine] DEBUG: Crawled (200) <GET http://quotes.toscrape.com/page/4/> (referer: http://quotes.toscrape.com/page/3/)\n"
          ]
        },
        {
          "name": "stdout",
          "output_type": "stream",
          "text": [
            "/page/4/\n"
          ]
        },
        {
          "name": "stderr",
          "output_type": "stream",
          "text": [
            "2025-10-18 19:40:04 [scrapy.core.scraper] DEBUG: Scraped from <200 http://quotes.toscrape.com/page/4/>\n",
            "{'text': \"“The more that you read, the more things you will know. The more that you learn, the more places you'll go.”\", 'author': 'Dr. Seuss'}\n",
            "2025-10-18 19:40:04 [scrapy.core.scraper] DEBUG: Scraped from <200 http://quotes.toscrape.com/page/4/>\n",
            "{'text': '“Of course it is happening inside your head, Harry, but why on earth should that mean that it is not real?”', 'author': 'J.K. Rowling'}\n",
            "2025-10-18 19:40:04 [scrapy.core.scraper] DEBUG: Scraped from <200 http://quotes.toscrape.com/page/4/>\n",
            "{'text': '“The truth is, everyone is going to hurt you. You just got to find the ones worth suffering for.”', 'author': 'Bob Marley'}\n",
            "2025-10-18 19:40:04 [scrapy.core.scraper] DEBUG: Scraped from <200 http://quotes.toscrape.com/page/4/>\n",
            "{'text': '“Not all of us can do great things. But we can do small things with great love.”', 'author': 'Mother Teresa'}\n",
            "2025-10-18 19:40:04 [scrapy.core.scraper] DEBUG: Scraped from <200 http://quotes.toscrape.com/page/4/>\n",
            "{'text': '“To the well-organized mind, death is but the next great adventure.”', 'author': 'J.K. Rowling'}\n",
            "2025-10-18 19:40:04 [scrapy.core.scraper] DEBUG: Scraped from <200 http://quotes.toscrape.com/page/4/>\n",
            "{'text': \"“All you need is love. But a little chocolate now and then doesn't hurt.”\", 'author': 'Charles M. Schulz'}\n",
            "2025-10-18 19:40:04 [scrapy.core.scraper] DEBUG: Scraped from <200 http://quotes.toscrape.com/page/4/>\n",
            "{'text': \"“We read to know we're not alone.”\", 'author': 'William Nicholson'}\n",
            "2025-10-18 19:40:04 [scrapy.core.scraper] DEBUG: Scraped from <200 http://quotes.toscrape.com/page/4/>\n",
            "{'text': '“Any fool can know. The point is to understand.”', 'author': 'Albert Einstein'}\n",
            "2025-10-18 19:40:04 [scrapy.core.scraper] DEBUG: Scraped from <200 http://quotes.toscrape.com/page/4/>\n",
            "{'text': '“I have always imagined that Paradise will be a kind of library.”', 'author': 'Jorge Luis Borges'}\n",
            "2025-10-18 19:40:04 [scrapy.core.scraper] DEBUG: Scraped from <200 http://quotes.toscrape.com/page/4/>\n",
            "{'text': '“It is never too late to be what you might have been.”', 'author': 'George Eliot'}\n",
            "2025-10-18 19:40:04 [scrapy.core.engine] DEBUG: Crawled (200) <GET http://quotes.toscrape.com/page/5/> (referer: http://quotes.toscrape.com/page/4/)\n",
            "2025-10-18 19:40:04 [scrapy.core.engine] INFO: Closing spider (closespider_pagecount)\n"
          ]
        },
        {
          "name": "stdout",
          "output_type": "stream",
          "text": [
            "/page/5/\n"
          ]
        },
        {
          "name": "stderr",
          "output_type": "stream",
          "text": [
            "2025-10-18 19:40:05 [scrapy.core.scraper] DEBUG: Scraped from <200 http://quotes.toscrape.com/page/5/>\n",
            "{'text': '“A reader lives a thousand lives before he dies, said Jojen. The man who never reads lives only one.”', 'author': 'George R.R. Martin'}\n",
            "2025-10-18 19:40:05 [scrapy.core.scraper] DEBUG: Scraped from <200 http://quotes.toscrape.com/page/5/>\n",
            "{'text': '“You can never get a cup of tea large enough or a book long enough to suit me.”', 'author': 'C.S. Lewis'}\n",
            "2025-10-18 19:40:05 [scrapy.core.scraper] DEBUG: Scraped from <200 http://quotes.toscrape.com/page/5/>\n",
            "{'text': '“You believe lies so you eventually learn to trust no one but yourself.”', 'author': 'Marilyn Monroe'}\n",
            "2025-10-18 19:40:05 [scrapy.core.scraper] DEBUG: Scraped from <200 http://quotes.toscrape.com/page/5/>\n",
            "{'text': '“If you can make a woman laugh, you can make her do anything.”', 'author': 'Marilyn Monroe'}\n",
            "2025-10-18 19:40:05 [scrapy.core.scraper] DEBUG: Scraped from <200 http://quotes.toscrape.com/page/5/>\n",
            "{'text': '“Life is like riding a bicycle. To keep your balance, you must keep moving.”', 'author': 'Albert Einstein'}\n",
            "2025-10-18 19:40:05 [scrapy.core.scraper] DEBUG: Scraped from <200 http://quotes.toscrape.com/page/5/>\n",
            "{'text': '“The real lover is the man who can thrill you by kissing your forehead or smiling into your eyes or just staring into space.”', 'author': 'Marilyn Monroe'}\n",
            "2025-10-18 19:40:05 [scrapy.core.scraper] DEBUG: Scraped from <200 http://quotes.toscrape.com/page/5/>\n",
            "{'text': \"“A wise girl kisses but doesn't love, listens but doesn't believe, and leaves before she is left.”\", 'author': 'Marilyn Monroe'}\n",
            "2025-10-18 19:40:05 [scrapy.core.scraper] DEBUG: Scraped from <200 http://quotes.toscrape.com/page/5/>\n",
            "{'text': '“Only in the darkness can you see the stars.”', 'author': 'Martin Luther King Jr.'}\n",
            "2025-10-18 19:40:05 [scrapy.core.scraper] DEBUG: Scraped from <200 http://quotes.toscrape.com/page/5/>\n",
            "{'text': '“It matters not what someone is born, but what they grow to be.”', 'author': 'J.K. Rowling'}\n",
            "2025-10-18 19:40:05 [scrapy.core.scraper] DEBUG: Scraped from <200 http://quotes.toscrape.com/page/5/>\n",
            "{'text': '“Love does not begin and end the way we seem to think it does. Love is a battle, love is a war; love is a growing up.”', 'author': 'James Baldwin'}\n",
            "2025-10-18 19:40:05 [scrapy.statscollectors] INFO: Dumping Scrapy stats:\n",
            "{'downloader/request_bytes': 1425,\n",
            " 'downloader/request_count': 5,\n",
            " 'downloader/request_method_count/GET': 5,\n",
            " 'downloader/response_bytes': 11002,\n",
            " 'downloader/response_count': 5,\n",
            " 'downloader/response_status_count/200': 5,\n",
            " 'elapsed_time_seconds': 1.521698,\n",
            " 'finish_reason': 'closespider_pagecount',\n",
            " 'finish_time': datetime.datetime(2025, 10, 18, 17, 40, 5, 14837, tzinfo=datetime.timezone.utc),\n",
            " 'httpcompression/response_bytes': 55175,\n",
            " 'httpcompression/response_count': 5,\n",
            " 'item_scraped_count': 50,\n",
            " 'items_per_minute': 3000.0,\n",
            " 'log_count/DEBUG': 57,\n",
            " 'log_count/INFO': 10,\n",
            " 'request_depth_max': 5,\n",
            " 'response_received_count': 5,\n",
            " 'responses_per_minute': 300.0,\n",
            " 'scheduler/dequeued': 5,\n",
            " 'scheduler/dequeued/memory': 5,\n",
            " 'scheduler/enqueued': 6,\n",
            " 'scheduler/enqueued/memory': 6,\n",
            " 'start_time': datetime.datetime(2025, 10, 18, 17, 40, 3, 493139, tzinfo=datetime.timezone.utc)}\n",
            "2025-10-18 19:40:05 [scrapy.core.engine] INFO: Spider closed (closespider_pagecount)\n"
          ]
        },
        {
          "name": "stdout",
          "output_type": "stream",
          "text": [
            "/page/6/\n"
          ]
        }
      ],
      "source": [
        "process = CrawlerProcess({\n",
        "    'USER_AGENT': 'Mozilla/4.0 (compatible; MSIE 7.0; Windows NT 5.1)',\n",
        "    'CLOSESPIDER_PAGECOUNT': 5\n",
        "})\n",
        "\n",
        "process.crawl(MySpider)\n",
        "process.start()"
      ]
    },
    {
      "cell_type": "markdown",
      "metadata": {
        "id": "8q4sPrDXd1AD"
      },
      "source": [
        "## Additional task\n",
        "\n",
        "Which color of a car is the most expensive? Analyze offers from https://www.olx.pl/motoryzacja/samochody/ some of them leads to olx while other to otomoto. Can you use data from both sources?"
      ]
    },
    {
      "cell_type": "code",
      "execution_count": 69,
      "metadata": {
        "id": "PO9UTMiGd1AD"
      },
      "outputs": [
        {
          "name": "stdout",
          "output_type": "stream",
          "text": [
            "https://www.olx.pl/d/oferta/peugeot-5008-automat-gt-CID5-ID17g1pA.html\n",
            "https://www.olx.pl/d/oferta/opel-mokka-1-4-turbo-skora-navi-alum-full-CID5-ID17S46g.html\n",
            "https://www.olx.pl/d/oferta/audi-a7-oryginal-abt-420-km-CID5-ID17CIU0.html\n",
            "https://www.olx.pl/d/oferta/mazda-mx5-nd-rf-CID5-ID17IF4U.html\n",
            "https://www.olx.pl/d/oferta/kia-sportage-okazja-przebieg-14-900km-gwarancja-pl-do-2029r-zamiana-CID5-ID17NF1L.html\n",
            "https://www.olx.pl/d/oferta/poszanowane-audi-a6-c6-lift-2-0tdi-navi-skora-okazja-CID5-ID17IwTI.html\n",
            "https://www.olx.pl/d/oferta/honda-accord2015r2-0-lpgautomatbogata-wersjaplgwarancja-CID5-ID17HMMg.html\n",
            "https://www.olx.pl/d/oferta/vw-passat-alltrack-2-0-tdi-240hp-webasto-projektory-dsg-automat-CID5-ID17H8Gw.html\n",
            "https://www.olx.pl/d/oferta/kia-optima2-0bnawigacjakamera-cofaniadvd10androidzarejestrowany-CID5-ID17NErC.html\n",
            "https://www.olx.pl/d/oferta/skoda-octavia-4-2-0-tdi-dsg-canton-CID5-ID17Osqx.html\n",
            "https://www.olx.pl/d/oferta/bmw-5-g30-lift-okazja-vat23-salon-polska-CID5-ID17NB9M.html\n",
            "https://www.olx.pl/d/oferta/fiat-panda1-5lpgekonomicznywygodnyklimazamiana-CID5-ID17Scjk.html\n",
            "https://www.olx.pl/d/oferta/zamiana-volkswagen-golf-plus-klimatronictempomatelszybyisofix-CID5-ID17kzPa.html\n",
            "https://www.olx.pl/d/oferta/kia-sportage-2013-rok-1-7-crdi-climatronik-CID5-ID17HVlh.html\n",
            "https://www.olx.pl/d/oferta/wolksvagen-touran-bogata-wersja-live-2013r-1-4tsi-CID5-ID17HSIB.html\n",
            "https://www.olx.pl/d/oferta/citroen-berlingo-CID5-ID17OmSg.html\n",
            "https://www.olx.pl/d/oferta/mercedes-glk-320-v6-cdi-4x4-salon-polska-1-wlasciciel-zamiana-CID5-ID17OrQo.html\n",
            "https://www.olx.pl/d/oferta/sprzedam-peugeot-3008-CID5-ID17Osji.html\n",
            "https://www.olx.pl/d/oferta/fiat-500-1-2-2009r-CID5-ID17IHdN.html\n",
            "https://www.olx.pl/d/oferta/toyota-yaris-1-0-gaz-vat1-salon-polska-van-CID5-ID17IzOi.html\n",
            "https://www.olx.pl/d/oferta/nissan-juke-1-5-dci-prywatnie-mozliwa-zamiana-za-kombi-CID5-ID17IzrM.html\n",
            "https://www.olx.pl/d/oferta/nissan-qashqai-2-0-benz-i-way-super-CID5-ID17IFA0.html\n",
            "https://www.olx.pl/d/oferta/sliczna-kia-carens-1-6-crdi-7-osobowa-bogata-opcja-top-stan-2012-CID5-ID12rP4f.html\n",
            "https://www.olx.pl/d/oferta/sprzedam-mercedes-w211-CID5-ID17SYFV.html\n",
            "https://www.olx.pl/d/oferta/skoda-superb-salon-polska-hak-CID5-ID17H99Y.html\n",
            "https://www.olx.pl/d/oferta/skoda-octavia-1-4tsi-150km-dsg-el-klapa-bixenon-chromy-led-2016-CID5-ID17HPGW.html\n",
            "https://www.olx.pl/d/oferta/piekne-volvo-xc60-r-design-modelowo-2019-CID5-ID17HdqF.html\n",
            "https://www.olx.pl/d/oferta/bmw-520d-lci-2008-e61-automat-CID5-ID17HclO.html\n",
            "https://www.olx.pl/d/oferta/audi-a4-2-0-tdi-stan-jak-nowy-import-niemcy-CID5-ID17MN07.html\n",
            "https://www.olx.pl/d/oferta/peugeot-308-t9-2020r-CID5-ID17HTgV.html\n",
            "https://www.olx.pl/d/oferta/mercedes-klasa-c-w203-143km-2006r-CID5-ID17Osqf.html\n",
            "https://www.olx.pl/d/oferta/ford-s-max-2-0-tdci-titanium-s-line-CID5-ID17SxUZ.html\n",
            "https://www.olx.pl/d/oferta/chrysler-pacifica-s-awd-CID5-ID17TMb4.html\n",
            "https://www.olx.pl/d/oferta/jeep-cherokee-3-2-v6-active-drive-lock-trailhawk-CID5-ID17Nefb.html\n",
            "https://www.olx.pl/d/oferta/audi-a5-2-0-tdi-sportback-s-line-2011r-skora-zadbany-polecam-CID5-ID17ICJ8.html\n",
            "https://www.olx.pl/d/oferta/opel-astra-j-bez-dpf-CID5-ID17H7P7.html\n",
            "https://www.olx.pl/d/oferta/witam-sprzedam-renault-scenic-CID5-ID17DeTE.html\n",
            "https://www.olx.pl/d/oferta/dodge-charger-3-6-lpg-CID5-ID17560M.html\n",
            "https://www.olx.pl/d/oferta/bmw-5-e61-m-pakiet-czytaj-opis-CID5-ID17R63z.html\n",
            "https://www.olx.pl/d/oferta/bmw-e92-automatyczna-skrzynia-sportowe-fotele-CID5-ID17yq1g.html\n",
            "https://www.olx.pl/d/oferta/volvo-s60-t8-2023r-455-km-mocy-recharge-plug-in-hybrid-plus-dark-theme-CID5-ID17NARN.html\n",
            "https://www.olx.pl/d/oferta/audi-a4-b8-2-0-tdi-CID5-ID17NEfp.html\n",
            "https://www.olx.pl/d/oferta/jeep-grand-cherokee-wk-2005-5-7-hemi-lpg-CID5-ID17ICxi.html\n",
            "https://www.olx.pl/d/oferta/peugeot-5008-automat-gt-CID5-ID17g1pA.html\n",
            "https://www.olx.pl/d/oferta/fiat-panda1-5lpgekonomicznywygodnyklimazamiana-CID5-ID17Scjk.html\n",
            "https://www.olx.pl/d/oferta/mazda-mx5-nd-rf-CID5-ID17IF4U.html\n",
            "https://www.olx.pl/d/oferta/kia-sportage-okazja-przebieg-14-900km-gwarancja-pl-do-2029r-zamiana-CID5-ID17NF1L.html\n",
            "https://www.olx.pl/d/oferta/poszanowane-audi-a6-c6-lift-2-0tdi-navi-skora-okazja-CID5-ID17IwTI.html\n",
            "https://www.olx.pl/d/oferta/honda-accord2015r2-0-lpgautomatbogata-wersjaplgwarancja-CID5-ID17HMMg.html\n",
            "https://www.olx.pl/d/oferta/vw-passat-alltrack-2-0-tdi-240hp-webasto-projektory-dsg-automat-CID5-ID17H8Gw.html\n",
            "https://www.olx.pl/d/oferta/kia-optima2-0bnawigacjakamera-cofaniadvd10androidzarejestrowany-CID5-ID17NErC.html\n",
            "https://www.olx.pl/d/oferta/skoda-octavia-4-2-0-tdi-dsg-canton-CID5-ID17Osqx.html\n",
            "https://www.olx.pl/d/oferta/bmw-5-g30-lift-okazja-vat23-salon-polska-CID5-ID17NB9M.html\n",
            "https://www.olx.pl/d/oferta/zamiana-volkswagen-golf-plus-klimatronictempomatelszybyisofix-CID5-ID17kzPa.html\n",
            "https://www.olx.pl/d/oferta/nissan-juke-1-6-turbo-1-wlasciciel-167-tys-km-CID5-ID17RZsK.html\n",
            "https://www.olx.pl/d/oferta/kia-sportage-2013-rok-1-7-crdi-climatronik-CID5-ID17HVlh.html\n",
            "https://www.olx.pl/d/oferta/wolksvagen-touran-bogata-wersja-live-2013r-1-4tsi-CID5-ID17HSIB.html\n",
            "https://www.olx.pl/d/oferta/citroen-berlingo-CID5-ID17OmSg.html\n",
            "https://www.olx.pl/d/oferta/mercedes-glk-320-v6-cdi-4x4-salon-polska-1-wlasciciel-zamiana-CID5-ID17OrQo.html\n",
            "https://www.olx.pl/d/oferta/sprzedam-peugeot-3008-CID5-ID17Osji.html\n",
            "https://www.olx.pl/d/oferta/fiat-500-1-2-2009r-CID5-ID17IHdN.html\n",
            "https://www.olx.pl/d/oferta/toyota-yaris-1-0-gaz-vat1-salon-polska-van-CID5-ID17IzOi.html\n",
            "https://www.olx.pl/d/oferta/nissan-juke-1-5-dci-prywatnie-mozliwa-zamiana-za-kombi-CID5-ID17IzrM.html\n",
            "https://www.olx.pl/d/oferta/nissan-qashqai-2-0-benz-i-way-super-CID5-ID17IFA0.html\n",
            "https://www.olx.pl/d/oferta/sliczna-kia-carens-1-6-crdi-7-osobowa-bogata-opcja-top-stan-2012-CID5-ID12rP4f.html\n",
            "https://www.olx.pl/d/oferta/chrysler-pacifica-s-awd-CID5-ID17TMb4.html\n",
            "https://www.olx.pl/d/oferta/jeep-cherokee-3-2-v6-active-drive-lock-trailhawk-CID5-ID17Nefb.html\n",
            "https://www.olx.pl/d/oferta/skoda-superb-salon-polska-hak-CID5-ID17H99Y.html\n",
            "https://www.olx.pl/d/oferta/skoda-octavia-1-4tsi-150km-dsg-el-klapa-bixenon-chromy-led-2016-CID5-ID17HPGW.html\n",
            "https://www.olx.pl/d/oferta/piekne-volvo-xc60-r-design-modelowo-2019-CID5-ID17HdqF.html\n",
            "https://www.olx.pl/d/oferta/bmw-520d-lci-2008-e61-automat-CID5-ID17HclO.html\n",
            "https://www.olx.pl/d/oferta/audi-a4-2-0-tdi-stan-jak-nowy-import-niemcy-CID5-ID17MN07.html\n",
            "https://www.olx.pl/d/oferta/peugeot-308-t9-2020r-CID5-ID17HTgV.html\n",
            "https://www.olx.pl/d/oferta/mercedes-klasa-c-w203-143km-2006r-CID5-ID17Osqf.html\n",
            "https://www.olx.pl/d/oferta/audi-a5-2-0-tdi-sportback-s-line-2011r-skora-zadbany-polecam-CID5-ID17ICJ8.html\n",
            "https://www.olx.pl/d/oferta/opel-astra-j-bez-dpf-CID5-ID17H7P7.html\n",
            "https://www.olx.pl/d/oferta/witam-sprzedam-renault-scenic-CID5-ID17DeTE.html\n",
            "https://www.olx.pl/d/oferta/dodge-charger-3-6-lpg-CID5-ID17560M.html\n",
            "https://www.olx.pl/d/oferta/ford-fusion-2016r-CID5-ID17Etor.html\n",
            "https://www.olx.pl/d/oferta/bmw-e92-automatyczna-skrzynia-sportowe-fotele-CID5-ID17yq1g.html\n",
            "https://www.olx.pl/d/oferta/bmw-5-e61-m-pakiet-czytaj-opis-CID5-ID17R63z.html\n",
            "https://www.olx.pl/d/oferta/volvo-s60-t8-2023r-455-km-mocy-recharge-plug-in-hybrid-plus-dark-theme-CID5-ID17NARN.html\n",
            "https://www.olx.pl/d/oferta/audi-a4-b8-2-0-tdi-CID5-ID17NEfp.html\n",
            "https://www.olx.pl/d/oferta/bmw-e61-2010r-2-0d-lift-CID5-ID17NrOD.html\n",
            "https://www.olx.pl/d/oferta/mercedes-benz-a200-cdi-automat-diesel-CID5-ID17GCWc.html\n",
            "https://www.olx.pl/d/oferta/audi-a4-b9-2-0-tfsi-quattro-niski-przebieg-CID5-ID17TOPy.html\n",
            "https://www.olx.pl/d/oferta/audi-a4-b8-2-0-tdi-CID5-ID17NEfp.html\n",
            "https://www.olx.pl/d/oferta/jeep-grand-cherokee-wk-2005-5-7-hemi-lpg-CID5-ID17ICxi.html\n",
            "https://www.olx.pl/d/oferta/opel-mokka-z-polskiego-salonu-bezwypadkowy-zadbany-CID5-ID17IK2A.html\n",
            "https://www.olx.pl/d/oferta/sprzedam-atrakcyjne-bmw-118d-CID5-ID17OsEW.html\n",
            "https://www.olx.pl/d/oferta/chevrolet-blazer-4x4-4-3-v6-lpg-skup-sprzedaz-zamiana-rozliczenie-CID5-ID17yogW.html\n",
            "https://www.olx.pl/d/oferta/sprzedam-forda-edge-CID5-ID17IFS6.html\n",
            "https://www.olx.pl/d/oferta/sprzedam-volvo-s80-2-4-d5-2008-rok-CID5-ID17MXJG.html\n",
            "https://www.olx.pl/d/oferta/opel-astra-1-6-benz-klimatyzacja-elektryka-zadbany-CID5-ID17vocZ.html\n",
            "https://www.olx.pl/d/oferta/g-klasa-550-kwadrat-4x4-CID5-ID17xNcR.html\n",
            "https://www.olx.pl/d/oferta/fiat-126p-jeden-wlasciciel-garazowany-oryginalny-stan-CID5-ID17IEDO.html\n",
            "https://www.olx.pl/d/oferta/mazda-6-2-2-2015-r-CID5-ID17OnoW.html\n",
            "https://www.olx.pl/d/oferta/mercedes-benz-w123-coup-automat-sprzedam-zamienie-CID5-ID17H8M9.html\n",
            "https://www.olx.pl/d/oferta/citroen-c4-picasso-2010-benzyna-CID5-ID17OqFo.html\n",
            "https://www.olx.pl/d/oferta/patrol-bmw-swap-8hp-po-renowacji-zamiana-CID5-ID17tDsm.html\n",
            "https://www.olx.pl/d/oferta/na-sprzedaz-audi-a6c6-2-4-benzyna-gaz-klima-alufelgi-zamiana-gwarancja-CID5-ID16SeeD.html\n",
            "https://www.olx.pl/d/oferta/mazda-5-2-0-lpg-7-osob-radio-android-bez-korozji-super-CID5-ID17DMQ3.html\n",
            "https://www.olx.pl/d/oferta/nissan-350z-rhd-zarejestrowany-super-stan-gwint-CID5-ID17Izr8.html\n",
            "https://www.olx.pl/d/oferta/subaru-forester-iv-CID5-ID17IEDW.html\n",
            "https://www.olx.pl/d/oferta/hyundai-ioniq-hybrid-2016r-silnik-1-6-2-wlasciciel-od-nowosci-CID5-ID17HPOD.html\n",
            "https://www.olx.pl/d/oferta/passat-b7-2011r-dobrze-wyposazony-i-zadbany-CID5-ID17DjGJ.html\n",
            "https://www.olx.pl/d/oferta/lexus-rx300-3-0-lpgautomat4x4superstanzamiana1wlascicielwarto-CID5-ID17IHl6.html\n",
            "https://www.olx.pl/d/oferta/toyota-aygo-sprowadzony-klima-elektryka-wspomaganie-CID5-ID17MBIf.html\n",
            "https://www.olx.pl/d/oferta/syndyk-sprzeda-infiniti-qx70-s-designer-CID5-ID17R3dW.html\n",
            "https://www.olx.pl/d/oferta/chevrolet-silverado-2019-rok-4x4-nie-f150-dodge-ram-zamiana-CID5-ID14yBgh.html\n",
            "https://www.olx.pl/d/oferta/bmw-e60-530d-210-km-2004-CID5-ID17Uf1L.html\n",
            "https://www.olx.pl/d/oferta/bmw-f22-m-sport-228xi-CID5-ID17R1LZ.html\n",
            "https://www.olx.pl/d/oferta/fiat-doblo-1-4b-7-osobowy-2018r-igla-import-CID5-ID17di7S.html\n",
            "https://www.olx.pl/d/oferta/porsche-cayenne-3-2-gaz-lpg-zadbane-CID5-ID17OqHE.html\n",
            "https://www.olx.pl/d/oferta/audi-a3-s-line-jak-nowa-200km-klima-alu-skory-servis-oryginal-CID5-ID17MXFS.html\n",
            "https://www.olx.pl/d/oferta/ford-fiesta-titanium-lift-diesel-piekna-CID5-ID17Ot26.html\n",
            "https://www.olx.pl/d/oferta/kia-pro-ceed-oryginalny-lakier-1-6-gdi-2014-CID5-ID17HTEd.html\n",
            "https://www.olx.pl/d/oferta/mercedes-benz-e-klasa-350d-9g-tronic-anglik-CID5-ID17qEY5.html\n",
            "https://www.olx.pl/d/oferta/opel-corsa-polift-benzyna-nietuzinkowa-bezwypadkowa-CID5-ID17HSA5.html\n",
            "https://www.olx.pl/d/oferta/land-rover-defender-110-maly-przebieg-147954km-uszkodzony-jezdzacy-CID5-ID15W7D6.html\n",
            "https://www.olx.pl/d/oferta/renault-koleos-2017-rok-full-opcja-CID5-ID17cm6A.html\n",
            "https://www.olx.pl/d/oferta/audi-a8-d2-3-7-v8-230km-quatro-benzyna-lpg-1999r-CID5-ID17OHUT.html\n",
            "https://www.olx.pl/d/oferta/peugeot-5008-1-6-hdi-7-osob-automat-klima-zadbany-CID5-ID17Oh5z.html\n",
            "https://www.olx.pl/d/oferta/dodge-caliber-salon-polska-CID5-ID17Olyq.html\n",
            "https://www.olx.pl/d/oferta/hyundai-kona-electric-64kwh-aso-gwarancja-na-baterie-bezwypadkowy-CID5-ID17MT8y.html\n",
            "https://www.olx.pl/d/oferta/toyota-rav4-1996r-2000l-95-lpg-CID5-ID17R6Kd.html\n",
            "https://www.olx.pl/d/oferta/sprzedam-seat-altea-CID5-ID17IBXM.html\n",
            "https://www.olx.pl/d/oferta/nissan-patrol-zd30-mt-2-lift-wyciagarka-CID5-ID17O4Or.html\n",
            "https://www.olx.pl/d/oferta/hyundai-i30-salon-polska-2021r-1-5-benzyna-110km-6-biegow-CID5-ID17NHbs.html\n",
            "https://www.olx.pl/d/oferta/suzuki-grand-vitara-4x4-1-9d-130ps6b-xenon-navi-klimatronik-alu17-CID5-ID17OqT6.html\n",
            "https://www.olx.pl/d/oferta/hyundai-ix35-2014r-1-6-benzyna-CID5-ID17yLuJ.html\n",
            "https://www.olx.pl/d/oferta/porsche-macan-gts-3-0-v6-pneumatyka-zadbany2xkluczyki-CID5-ID16KDCF.html\n",
            "https://www.olx.pl/d/oferta/citroen-c4-picasso-2-0-hdi-automat-klima-hak-ladny-zamiana-CID5-ID17RISM.html\n",
            "https://www.olx.pl/d/oferta/ford-kuga-sprowadzona-zarejestrowana-orginal-serwis-jak-nowa-zamiana-CID5-ID17FuE6.html\n",
            "https://www.olx.pl/d/oferta/dacia-dokker-lpg-klima-nawigacja-2016-CID5-ID17OrAf.html\n",
            "https://www.olx.pl/d/oferta/audi-a8-3-0-tdi-quattro-full-opcja-CID5-ID17IzGL.html\n",
            "https://www.olx.pl/d/oferta/toyota-avensis-2-0i-salon-polska-stan-bdb-CID5-ID17OruR.html\n",
            "https://www.olx.pl/d/oferta/audi-a3-8p-quattro-310-km-CID5-ID17ypod.html\n",
            "https://www.olx.pl/d/oferta/opel-mokka-2016-1-4-140km-tylko-96300km-kamera-cofania-gwarancja-zarej-CID5-ID17xGaW.html\n",
            "https://www.olx.pl/d/oferta/vw-golf-mk3-special-color-concept-yellow-CID5-ID17OsSf.html\n",
            "https://www.olx.pl/d/oferta/vw-t3-westfalia-joker-CID5-ID17ya6O.html\n",
            "https://www.olx.pl/d/oferta/volvo-s60-2-5t-gaz-CID5-ID17U5mQ.html\n",
            "https://www.olx.pl/d/oferta/opel-vivaro-trafic-9-osob-max-dlugi-stan-idealny-do-jazdy-CID5-ID17NJQE.html\n",
            "https://www.olx.pl/d/oferta/vw-touareg-v8-gaz-hak-CID5-ID17Op2F.html\n",
            "https://www.olx.pl/d/oferta/mercedes-benz-glc-220d-4-matic-krajowy-garazowany-CID5-ID17flUl.html\n",
            "https://www.olx.pl/d/oferta/sprzedam-toyota-yaris-2008r-CID5-ID17NYl0.html\n",
            "https://www.olx.pl/d/oferta/volkswagen-golf-vi-gtd-2-0-tdi-dsg-CID5-ID17R3qZ.html\n",
            "https://www.olx.pl/d/oferta/audi-q7-3-0-tdi-quattro-el-hak-zamiana-warszawa-CID5-ID16zNoZ.html\n",
            "https://www.olx.pl/d/oferta/bmw-x3-stan-bdb-niski-przebieg-CID5-ID17ypT4.html\n",
            "https://www.olx.pl/d/oferta/kia-sportage-1-6gdi-1-wlasciciel-z-pol-salonu-aso-bezwypadkowy-CID5-ID17ICNX.html\n",
            "https://www.olx.pl/d/oferta/ladne-bmw-530xi-3-0l-258km-2006r-lpg-xdrive-navi-skory-niski-przebieg-CID5-ID17SBBb.html\n",
            "https://www.olx.pl/d/oferta/citroen-c4-grand-picasso-7-osobowy-CID5-ID16Ceyz.html\n",
            "https://www.olx.pl/d/oferta/volvo-xc60-2-0d-190km-CID5-ID16zmvV.html\n",
            "https://www.olx.pl/d/oferta/bmw-e38-3-5-v8-1998r-CID5-ID17ICDR.html\n",
            "https://www.olx.pl/d/oferta/audi-a8-d4-4-2-tdi-quattro-CID5-ID17HbRA.html\n",
            "https://www.olx.pl/d/oferta/sprzedam-peugeota-207-lift-1-4-8v-2010-rok-CID5-ID17OnFG.html\n",
            "https://www.olx.pl/d/oferta/sprzedam-fiata-pande-CID5-ID17IKdf.html\n",
            "https://www.olx.pl/d/oferta/bmw-e61-530xd-jedyna-taka-sztuka-w-polsce-sprawdz-opis-CID5-ID17E7ZT.html\n",
            "https://www.olx.pl/d/oferta/skoda-octavia-rs-2-0-diesel-CID5-ID17IIxt.html\n",
            "https://www.olx.pl/d/oferta/ford-focus-1-8-mega-zadbany-klima-skory-alu-nowe-opony-raty-CID5-ID17Onga.html\n",
            "https://www.olx.pl/d/oferta/hyundai-i20-fv-faktura-vat-stan-bdb-niski-przebieg-warszawa-czujniki-CID5-ID17L6k2.html\n",
            "https://www.olx.pl/d/oferta/ford-mondeo-1-8-lpg-fajny-srodek-alusy-nowe-zawieszenie-CID5-ID17yY6x.html\n",
            "https://www.olx.pl/d/oferta/bmw-i3-s-120ah-rex-uszkodzony-pl-CID5-ID1797Tr.html\n",
            "https://www.olx.pl/d/oferta/audi-a4-3-0tdi-pakiet-s4-zamiana-CID5-ID17DVCY.html\n",
            "https://www.olx.pl/d/oferta/mercedes-w124-4matic-zloty-skromny-CID5-ID17HbOl.html\n",
            "https://www.olx.pl/d/oferta/sprzedam-vw-multivan-2-5-benzyna-gas-CID5-ID17IE97.html\n",
            "https://www.olx.pl/d/oferta/cesja-leasingu-volkswagen-passat-2-0-tdi-dsg-highline-2018-r-CID5-ID17Kmk4.html\n",
            "https://www.olx.pl/d/oferta/volvo-xc90-t8-twin-engine-plug-in-hybrid-r-design-CID5-ID17Onf7.html\n",
            "https://www.olx.pl/d/oferta/mercedes-klasa-s-320-CID5-ID17IE7s.html\n",
            "https://www.olx.pl/d/oferta/bmw-550i-e60m-okazja-stan-bardzo-dobry-CID5-ID17xCDV.html\n",
            "https://www.olx.pl/d/oferta/peugeot-partner-husky-1-9-diesel-70-km-elektryka-zadbany-CID5-ID17Or9G.html\n",
            "https://www.olx.pl/d/oferta/renault-teafic-grand-passenger-pac-clim-2-0-dci-145-faktura-vat-CID5-ID17yT3x.html\n",
            "https://www.olx.pl/d/oferta/sprzedam-vw-golf-1-3-b-rok-1992-okazja-CID5-ID17OrXQ.html\n",
            "https://www.olx.pl/d/oferta/mercedes-benz-c180-kompresor-1-wlasciciel-serwis-aso-2025-l-niemcy-CID5-ID17Di1S.html\n",
            "https://www.olx.pl/d/oferta/volkswagen-passat-b2-CID5-ID17QYDZ.html\n",
            "https://www.olx.pl/d/oferta/bmw-330i-2017r-nie-usa-tyl-naped-sportline-CID5-ID17H5c6.html\n",
            "https://www.olx.pl/d/oferta/skoda-octavia-zarejestrowane-okazja-CID5-ID17IDZ2.html\n",
            "https://www.olx.pl/d/oferta/chrysler-grand-voyager-CID5-ID17M1Ef.html\n",
            "https://www.olx.pl/d/oferta/audi-a4-b6-2002-rok-2-0-benzyna-z-gazem-super-stan-CID5-ID17OlLM.html\n",
            "https://www.olx.pl/d/oferta/ford-f150-zadbany-z-2015-CID5-ID17FAdp.html\n",
            "https://www.olx.pl/d/oferta/bmw-seria-4-420d-coupe-xdrive-m-sport-serwis-inclucive-do-07-2026-CID5-ID17Ooor.html\n",
            "https://www.olx.pl/d/oferta/lanicia-musa1-4lpgwygodnykomfortowysolidnyklimazamiana-CID5-ID17Txw0.html\n",
            "https://www.olx.pl/d/oferta/sprzedam-vw-polo-9n-CID5-ID17LMsX.html\n",
            "https://www.olx.pl/d/oferta/rezerwacja-qashqai-salon-polska-serwisowany-bezwypadkowy-2020-rok-CID5-ID17TvlS.html\n",
            "https://www.olx.pl/d/oferta/ford-transit-9-osobowy-dofinansowany-klima-CID5-ID17OrsL.html\n",
            "https://www.olx.pl/d/oferta/bmw-x3-stan-bdb-niski-przebieg-CID5-ID17ypT4.html\n",
            "https://www.olx.pl/d/oferta/audi-a6-competition-326-km-raty-CID5-IDZCXkU.html\n",
            "https://www.olx.pl/d/oferta/vw-t5-caravelle-long-9-osob-2-5-tdi-130-km-4x4-CID5-ID17Oqgj.html\n",
            "https://www.olx.pl/d/oferta/fiat-panda-klima-z-niemiec-CID5-ID17l7Mc.html\n",
            "https://www.olx.pl/d/oferta/opel-astra-1-6-cdti-ecoflex-CID5-ID17tHN3.html\n",
            "https://www.olx.pl/d/oferta/dacia-duster-salon-polska-1-5-dci-CID5-ID17H6DT.html\n",
            "https://www.olx.pl/d/oferta/vw-passat-b5-fl-1-9-tdi-CID5-ID17IABI.html\n",
            "https://www.olx.pl/d/oferta/toyota-land-cruiser-79-2024-rok-diesel-nowy-CID5-ID13C1g5.html\n",
            "https://www.olx.pl/d/oferta/audi-q5-quatro-automat-bezwypadkowy-CID5-ID17xEKr.html\n",
            "https://www.olx.pl/d/oferta/audi-a4-b7-2-0-140km-8v-2007r-s-line-czarny-sufit-klimatron-bez-rdzy-CID5-ID17OozM.html\n",
            "https://www.olx.pl/d/oferta/citroen-c5-tourer-exclusive-2-0-hdi-163-km-euro-5-czarna-perla-CID5-ID17OBdu.html\n",
            "https://www.olx.pl/d/oferta/sprowadzony-z-niemiec-1-6-benzyna-136-tys-km-stan-idealny-CID5-ID17OoWx.html\n",
            "https://www.olx.pl/d/oferta/mercedes-cla-180-7g-dct-amg-line-cudowny-i-bestia-CID5-ID17oBz2.html\n",
            "https://www.olx.pl/d/oferta/opel-zafira-c2017r140km-lpg157800kmnavikamera-cofania7miejscgw-CID5-ID17HN7N.html\n",
            "https://www.olx.pl/d/oferta/audi-a8-d3-3-0tdi-quattro-CID5-ID17OrnS.html\n",
            "https://www.olx.pl/d/oferta/bmw-f10-528-i-2012-zamina-CID5-ID14Znj1.html\n",
            "https://www.olx.pl/d/oferta/sprzedam-auto-skoda-octavia-CID5-ID17IDtC.html\n",
            "https://www.olx.pl/d/oferta/subaru-tribeca-3-0-lpg-automat-CID5-ID17BKbD.html\n",
            "https://www.olx.pl/d/oferta/seat-leon-fr-2015-rok-2-0-CID5-ID17ICf1.html\n",
            "https://www.olx.pl/d/oferta/sprzedam-toyota-yaris-cross-hybrid-2023-CID5-ID17P44y.html\n",
            "https://www.olx.pl/d/oferta/peugeot-308-active-t9-CID5-ID17suwC.html\n",
            "https://www.olx.pl/d/oferta/peugot-308-1-6-hdi-CID5-ID17ICsW.html\n",
            "https://www.olx.pl/d/oferta/samochod-kia-rio-3-1-25-85km-2012-CID5-ID17OpZ9.html\n",
            "https://www.olx.pl/d/oferta/sprzedam-fiata-pande-2008-CID5-ID17IBx1.html\n",
            "https://www.olx.pl/d/oferta/renault-trafic-1-9-2004r-ocynk-blacha-CID5-ID17HSsp.html\n",
            "https://www.olx.pl/d/oferta/sprzedam-citroen-xsara-picasso-2-0-hdi-CID5-ID17nppm.html\n",
            "https://www.olx.pl/d/oferta/bmw-f11-2-0d-2012r-184km-duza-navi-niski-przebieg-CID5-ID17p4w1.html\n",
            "https://www.olx.pl/d/oferta/fv23-nissan-x-trail-rogue-2018r-4x4-2-5b-automat-bdb-stan-kamera-cof-CID5-ID16u5h8.html\n",
            "https://www.olx.pl/d/oferta/kia-soul-ev-elektryk-2015r-CID5-ID17nQvZ.html\n",
            "https://www.olx.pl/d/oferta/opel-corsa-d-1-2-benzyna-80kmklimatyzacjazadbanabez-rdzy-CID5-ID17MMC3.html\n",
            "https://www.olx.pl/d/oferta/uaz-452-1990r-zadbany-kiper-na-3-strony-CID5-ID17Onyu.html\n",
            "https://www.olx.pl/d/oferta/bmw-x1-swiezo-sprowadzona-CID5-ID17OoRi.html\n",
            "https://www.olx.pl/d/oferta/volkswagen-golf-1-6-benzyna-super-stan-CID5-ID17Oux6.html\n",
            "https://www.olx.pl/d/oferta/lexus-rx-450h-prestige-2013-r-hybryda-299km-CID5-ID17xEuZ.html\n",
            "https://www.olx.pl/d/oferta/mega-hyundai-coupe-2-0-lpg-140km-klima-mrozi-skora-ledy-alu-2-kpl-kol-CID5-ID17RdyV.html\n",
            "https://www.olx.pl/d/oferta/sprzedam-audi-a4b6-sline-quattro-3-0-benzyna-CID5-ID17OmUP.html\n",
            "https://www.olx.pl/d/oferta/opel-insignia-lift-2014r-CID5-ID17UcAB.html\n",
            "https://www.olx.pl/d/oferta/citroen-c5-exclusive-CID5-ID15E4VT.html\n",
            "https://www.olx.pl/d/oferta/opel-mokka-1-7cdti-130km-6biegow-CID5-ID17Ksxn.html\n",
            "https://www.olx.pl/d/oferta/audi-a4-b6-2-4-v6-w-gazie-CID5-ID17H7Sh.html\n",
            "https://www.olx.pl/d/oferta/toyota-corolla-hybrid-122km-2022-bezwypadkowa-serwis-aso-CID5-ID17O1xL.html\n",
            "https://www.olx.pl/d/oferta/fiat-punto-1-4-8v-lpg-CID5-ID17IHtc.html\n",
            "https://www.olx.pl/d/oferta/ford-mondeo-mk4-titanium-s-CID5-ID17Onjt.html\n",
            "https://www.olx.pl/d/oferta/na-sprzedaz-vw-passat-1-9-tdi-automat-bdb-stan-alusy-klima-wygodn-CID5-ID17IEEq.html\n",
            "https://www.olx.pl/d/oferta/mazda-6-2-0-benzyna-ladny-stan-alu-sprowadzony-CID5-ID17MAAd.html\n",
            "https://www.olx.pl/d/oferta/jeep-grand-cherokee-srt-6-4-hemi-CID5-ID11j2sT.html\n",
            "https://www.olx.pl/d/oferta/sprzedam-lub-zamienie-CID5-ID17xz2N.html\n",
            "https://www.olx.pl/d/oferta/ford-focus-1-6d-oszczedne-miejskie-super-stan-zadbany-CID5-ID17IlFm.html\n",
            "https://www.olx.pl/d/oferta/mercedes-clk-kompresor-209-CID5-ID17y0Et.html\n",
            "https://www.olx.pl/d/oferta/mercedes-benz-w210-3-2-cdi-CID5-ID17Llt2.html\n",
            "https://www.olx.pl/d/oferta/toyota-avensis2013-lift2-0-152km-lpgbogata-wersjakamera-cofaniapl-CID5-ID17DMSi.html\n",
            "https://www.olx.pl/d/oferta/hyundai-i20-z-gazem-klima-CID5-ID17GoFb.html\n",
            "https://www.olx.pl/d/oferta/renault-captur-kamera-wersja-limited-przebieg-tylko-77tys-CID5-ID17Osqg.html\n",
            "https://www.olx.pl/d/oferta/na-sprzedaz-volkswagen-golf-1-4lpg-gwarancja-klimatyzacja-nowy-rozrzad-CID5-ID17IDm7.html\n",
            "https://www.olx.pl/d/oferta/volkswagen-jetta-1-6-tdi-CID5-ID17II5q.html\n",
            "https://www.olx.pl/d/oferta/toyota-proace-verso-long-vip-CID5-ID17QAVa.html\n",
            "https://www.olx.pl/d/oferta/kia-sportage-1-7-crdi-business-line-l-2wd-CID5-ID17ypBS.html\n",
            "https://www.olx.pl/d/oferta/kia-optima-2017-1-7-diesel-CID5-ID17CuY3.html\n",
            "https://www.olx.pl/d/oferta/sprzedam-opel-meriva-b-CID5-ID17NIzc.html\n",
            "https://www.olx.pl/d/oferta/na-sprzedaz-audi-a6-c6-3-2lpg-automat-4x4-nowa-skrzynia-super-st-klima-CID5-ID17NR4r.html\n",
            "https://www.olx.pl/d/oferta/vw-touran-3-2-0tdi-z-dsg-i-adblue-CID5-ID15Deft.html\n",
            "https://www.olx.pl/d/oferta/audi-a3-8l-1-9-tdi-rezerwacja-CID5-ID17OsPu.html\n",
            "https://www.olx.pl/d/oferta/volkswagen-t4-caravelle-CID5-ID17OuWO.html\n",
            "https://www.olx.pl/d/oferta/mercedes-cls-4matic-350d-amg-wyjatkowy-egzemplarz-z-pewna-historia-CID5-ID17p7Oa.html\n",
            "https://www.olx.pl/d/oferta/ford-focus-1-6-benzyna-2009-CID5-ID17IzMc.html\n",
            "https://www.olx.pl/d/oferta/porsche-cayman-987-s-3-4-295-km-987-okazja-projekt-zamiana-CID5-ID17H36O.html\n",
            "https://www.olx.pl/d/oferta/sprzedam-lexus-is-300h-salon-polska-mozliwosc-lesingu-CID5-ID17DNah.html\n",
            "https://www.olx.pl/d/oferta/volvo-xc90-2-5t-CID5-ID17GAPo.html\n",
            "https://www.olx.pl/d/oferta/opel-astra-ii-1-4-benzyna-salon-polska-CID5-ID17H8gr.html\n",
            "https://www.olx.pl/d/oferta/renault-megane-benzyna-kombi-naglosnienie-bose-alufelgi-CID5-ID169W4Q.html\n",
            "https://www.olx.pl/d/oferta/audi-a4-b5-quattro-2-5-diesel-CID5-ID17UnHH.html\n",
            "https://www.olx.pl/d/oferta/citroen-nemo-2010-rok-1-4-diesel-CID5-ID17H357.html\n",
            "https://www.olx.pl/d/oferta/honda-crv-2-0b-150kmautomat-2012r-158-552km-serwispdcklima-CID5-ID17IEc4.html\n",
            "https://www.olx.pl/d/oferta/sprzedam-volvo-v50-CID5-ID17IGPx.html\n",
            "https://www.olx.pl/d/oferta/golf-plus-1-9-diesel-CID5-ID17IBLS.html\n",
            "https://www.olx.pl/d/oferta/ssangyong-korando-CID5-ID1706QF.html\n",
            "https://www.olx.pl/d/oferta/sprzedam-ford-escape-2-5-benzyna-oplacone-CID5-ID17Owiy.html\n",
            "https://www.olx.pl/d/oferta/renault-clio-4-salon-polska-zamiana-CID5-ID17OrFG.html\n",
            "https://www.olx.pl/d/oferta/nissan-qashqai-1-5-dci-CID5-ID17SvbK.html\n",
            "https://www.olx.pl/d/oferta/ford-mondeo-mk4-2-0tdci-140km-215tys-full-opcja-keyless-radarsprzeglo-CID5-ID17BeoI.html\n",
            "https://www.olx.pl/d/oferta/bmw-seria-5-bmw-f10-520d-anglik-osoba-prywatna-CID5-ID17SC72.html\n",
            "https://www.olx.pl/d/oferta/sprzedam-mazda-6-sport-kombi-2-0-gaz-benzuna-CID5-ID17Nfb2.html\n",
            "https://www.olx.pl/d/oferta/bmw-x3-g01-xline-xdrive-w-bardzo-ladnym-stanie-CID5-ID17NKgY.html\n",
            "https://www.olx.pl/d/oferta/jeep-patriot-2-0-diesel-ekonomiczny-4x4-CID5-ID17IEol.html\n",
            "https://www.olx.pl/d/oferta/nissan-qashqai-1-6-4x4-CID5-ID17Osn7.html\n",
            "https://www.olx.pl/d/oferta/ford-kuga-2-0d-2010r-super-stan-CID5-ID17IDvv.html\n",
            "https://www.olx.pl/d/oferta/bmw-e90-lci-325d-2011r-CID5-ID17IImr.html\n",
            "https://www.olx.pl/d/oferta/vw-passat-b6-1-4-tsi-150km-kuty-CID5-ID17IIJZ.html\n",
            "https://www.olx.pl/d/oferta/vw-touran-3-2-0tdi-z-dsg-i-adblue-CID5-ID15Deft.html\n",
            "https://www.olx.pl/d/oferta/renault-megane-benzyna-kombi-naglosnienie-bose-alufelgi-CID5-ID169W4Q.html\n",
            "https://www.olx.pl/d/oferta/sprzedam-male-szybkie-autko-mini-one-CID5-ID17OqWG.html\n",
            "https://www.olx.pl/d/oferta/mazda-cx-5-2-2-diesel-4x4-full-wersja-okazja-CID5-ID17IHKu.html\n",
            "https://www.olx.pl/d/oferta/volkswagen-t-cross-z-salonu-dsg-CID5-ID17jD96.html\n",
            "https://www.olx.pl/d/oferta/nissan-x-trail-t30-CID5-ID17IFmb.html\n",
            "https://www.olx.pl/d/oferta/r-e-z-e-r-w-a-c-j-a-CID5-ID17MVUJ.html\n",
            "https://www.olx.pl/d/oferta/ford-mustang-kabriolet-CID5-ID17IGoS.html\n",
            "https://www.olx.pl/d/oferta/renault-megane-3-grandtour-1-5-dci-salon-pl-CID5-ID17Oqpe.html\n",
            "https://www.olx.pl/d/oferta/sprzedam-hyundai-tucson-drugi-wlasciciel-serwisowany-w-aso-CID5-ID17EOwg.html\n",
            "https://www.olx.pl/d/oferta/audi-a3-8p-2-0-tdi-8v-140-km-quattro-4x4-CID5-ID17OlMU.html\n",
            "https://www.olx.pl/d/oferta/nissan-qashqai-1-5-dci-CID5-ID17SvbK.html\n",
            "https://www.olx.pl/d/oferta/bmw-520d-m-pakiet-nowy-rozrzad-head-up-el-klapa-hak-piekny-CID5-ID17DMH6.html\n",
            "https://www.olx.pl/d/oferta/peugeot-307-2-0hdi-CID5-ID17IGli.html\n",
            "https://www.olx.pl/d/oferta/volkswagen-phaeton-lift-3-0-tdi-4motion-CID5-ID17R3wQ.html\n",
            "https://www.olx.pl/d/oferta/chrysler-300-c-3-5-gaz-super-technicznie-doinwestowany-zamiana-CID5-ID17AULH.html\n",
            "https://www.olx.pl/d/oferta/pixo-automat-nissan-super-auto-bardzo-poszukiwane-podobne-do-CID5-ID17Oriz.html\n",
            "https://www.olx.pl/d/oferta/audi-a4-b6-1-8t-bex-quattro-lpg-CID5-ID16uG8k.html\n",
            "https://www.olx.pl/d/oferta/bmw-seria-5-bmw-f10-520d-anglik-osoba-prywatna-CID5-ID17SC72.html\n",
            "https://www.olx.pl/d/oferta/peugeot-407-na-czesci-wszystko-dziala-dach-panoramiczny-CID5-ID17RXmR.html\n",
            "https://www.olx.pl/d/oferta/toyota-avensis-terra-2003-uszkodzona-skrzynia-biegow-CID5-ID17OkY9.html\n",
            "https://www.olx.pl/d/oferta/hyundai-i40-2012-diesel-1-7-automatyczna-skrzynia-CID5-ID17OrlJ.html\n",
            "https://www.olx.pl/d/oferta/samochod-po-kolizji-CID5-ID17MQTT.html\n",
            "https://www.olx.pl/d/oferta/bmw-x3-2005-rok-xdrive-3-0-diesel-automat-super-stan-CID5-ID17NNDU.html\n",
            "https://www.olx.pl/d/oferta/citroen-c3-aircross-CID5-ID17Oomd.html\n",
            "https://www.olx.pl/d/oferta/ford-mondeo-mk4-2-0-diesel-140-km-2009-r-CID5-ID17NEIR.html\n",
            "https://www.olx.pl/d/oferta/renault-laguna-iii-2-0-dci-bezwypadkowa-CID5-ID17OnPZ.html\n",
            "https://www.olx.pl/d/oferta/renault-modus-benzyna-CID5-ID17OthE.html\n",
            "https://www.olx.pl/d/oferta/renault-megane-3-CID5-ID17OIfc.html\n",
            "https://www.olx.pl/d/oferta/renault-modus-1-5d-2007-full-wypas-super-stan-zamiana-CID5-ID17GPjU.html\n",
            "https://www.olx.pl/d/oferta/mazda-5-1-6-diesel-2011r-7-osobowa-cena-do-negocjacji-CID5-ID17OqCs.html\n",
            "https://www.olx.pl/d/oferta/audi-a5-coupe-2-0-tfsi-quattro-CID5-ID17DfPj.html\n",
            "https://www.olx.pl/d/oferta/audi-a6-avant-quattro-2022-cesja-leasingu-CID5-ID17OnBq.html\n",
            "https://www.olx.pl/d/oferta/sprzedam-samochod-osobowy-peugeot-307-CID5-ID17H76d.html\n",
            "https://www.olx.pl/d/oferta/audi-q3-polift-2016-CID5-ID17Qflv.html\n",
            "https://www.olx.pl/d/oferta/mercedes-a-klasa-2015r-1-6-122km-amg-line-200tys-km-CID5-ID17IxLp.html\n",
            "https://www.olx.pl/d/oferta/volkswagen-passat-b6-CID5-ID17IDMH.html\n",
            "https://www.olx.pl/d/oferta/hyundai-ix35-2-0td-136km-4x4nawigacjakamera1-wlasciciel-CID5-ID17TZkx.html\n",
            "https://www.olx.pl/d/oferta/kia-rio-1-4-benzyna-2008-krajowy-klima-dlugie-oplaty-zamiana-CID5-ID17iITE.html\n",
            "https://www.olx.pl/d/oferta/sprzedam-volkswagen-multivan-CID5-IDUTzje.html\n",
            "https://www.olx.pl/d/oferta/bmw-e60-2-5-benzyna-po-wypadku-132k-przebieg-CID5-ID17Izkx.html\n",
            "https://www.olx.pl/d/oferta/toyota-avensis-t27-sedan-1-6-benzyna-CID5-ID17Oo8r.html\n",
            "https://www.olx.pl/d/oferta/skoda-superb-1-4tsi-kombi-z-polskiego-salonu-CID5-ID17I9mv.html\n",
            "https://www.olx.pl/d/oferta/volkswagen-golf-6-2010-rok-1-4-turbo-benzyna-z-niemiec-CID5-ID17NNxN.html\n",
            "https://www.olx.pl/d/oferta/audi-s5-premium-plus-skora-alcantara-carbon-masaze-CID5-ID17OmVK.html\n",
            "https://www.olx.pl/d/oferta/renault-twingo-gt-1-2-benzyna-119tys-km-CID5-ID17H4aZ.html\n",
            "https://www.olx.pl/d/oferta/mini-cuper-2-0-4x4-CID5-ID14m6JE.html\n",
            "https://www.olx.pl/d/oferta/audi-a4-2-0tsi-265km-s-line-bezwypadkowa-CID5-ID17JnJ3.html\n",
            "https://www.olx.pl/d/oferta/ford-mondeo-mk4-1-6-ecoboost-CID5-ID17IzMU.html\n",
            "https://www.olx.pl/d/oferta/hyundai-ix20-1-6-crdi-CID5-ID17Otmt.html\n",
            "https://www.olx.pl/d/oferta/sprzedam-bmw-f01-2009rok-sprowadzona-super-stan-maly-przebieg-CID5-ID17KnAF.html\n",
            "https://www.olx.pl/d/oferta/ford-fiesta-mk7-2008r-CID5-ID17IEJ1.html\n",
            "https://www.olx.pl/d/oferta/audi-a4b7-2-0-tfsi-lpg-automat-CID5-ID17xRtn.html\n",
            "https://www.olx.pl/d/oferta/volkswagen-touran-1-9-dieseloszczednyrodzinnenowewtryskizamiana-CID5-ID17QP6t.html\n",
            "https://www.olx.pl/d/oferta/skoda-superb-kombi-CID5-ID17R5pR.html\n",
            "https://www.olx.pl/d/oferta/sprzedam-dlugo-oplaty-CID5-ID17II4R.html\n",
            "https://www.olx.pl/d/oferta/bmw-seria-3-e46-1-8i-CID5-ID17Oofx.html\n",
            "https://www.olx.pl/d/oferta/citroen-jumper-9-osobowy-CID5-ID17E6z8.html\n",
            "https://www.olx.pl/d/oferta/ford-transit-courier-2019-CID5-ID17ylzY.html\n",
            "https://www.olx.pl/d/oferta/volkswagen-touran-2-0-diesel-CID5-ID17Os7T.html\n",
            "https://www.olx.pl/d/oferta/bmw-e36-316i-sedan-1996r-automat-szyberdach-alufelgi-r16-CID5-ID17UfWt.html\n",
            "https://www.olx.pl/d/oferta/vw-golf-v-1-6-benzyna-5-drzwi-bez-korozji-CID5-ID16QXMG.html\n",
            "https://www.olx.pl/d/oferta/nissan-x-trail-4x4-klimatyzacja-CID5-ID128AyN.html\n",
            "https://www.olx.pl/d/oferta/toyota-auris-2007-rok1-6-benzyna-123-km-CID5-ID17Orw8.html\n",
            "https://www.olx.pl/d/oferta/300de-salon-polska-CID5-ID17cicN.html\n",
            "https://www.olx.pl/d/oferta/ford-s-max-mkii-titanium-2-0-150-180km-2016-137kkm-CID5-ID17II0S.html\n",
            "https://www.olx.pl/d/oferta/citroen-c3-2004-1-3-CID5-ID17IE3T.html\n",
            "https://www.olx.pl/d/oferta/bmw-e46-m52tub20-drift-CID5-ID17OpdM.html\n",
            "https://www.olx.pl/d/oferta/renault-grand-scenic-2-lpg-7osobowy-CID5-ID17IAKa.html\n",
            "https://www.olx.pl/d/oferta/ford-fiesta-mk7-lift-CID5-ID17Or5x.html\n",
            "https://www.olx.pl/d/oferta/opel-meriva-1-6-lpg-stag-klimatronik-srebrna-okazja-CID5-ID17MPFa.html\n",
            "https://www.olx.pl/d/oferta/nissan-x-trail-4x4-klimatyzacja-CID5-ID128AyN.html\n",
            "https://www.olx.pl/d/oferta/autokomis-topcar-opel-signum-1-8-lpg-ekonomiczny-klima-sprawna-okazja-CID5-ID17y3di.html\n",
            "https://www.olx.pl/d/oferta/chrysler-pacyfica-touring-l-CID5-IDZ1MHH.html\n",
            "https://www.olx.pl/d/oferta/jeep-willys-56rok-CID5-ID17AUV4.html\n",
            "https://www.olx.pl/d/oferta/audi-s3-8p-2-0-tfsi-quattro-dla-pasjonatow-zamienie-na-pickupa-CID5-ID17AXnM.html\n",
            "https://www.olx.pl/d/oferta/ford-fiesta-mk7-125km-bogata-wersja-titanium-CID5-ID17IHqM.html\n",
            "https://www.olx.pl/d/oferta/piekna-vitara-1-6-8v-zadbana-alusy-zdrowa-twardy-dach-2kpl-kol-okazja-CID5-ID17HgQW.html\n",
            "https://www.olx.pl/d/oferta/vw-passat-b8-2016r-dsg-CID5-ID17IF2h.html\n",
            "https://www.olx.pl/d/oferta/volkswagen-transporter-t4-2-4d-terenowe-opony-wazne-oplaty-CID5-ID17IBl4.html\n",
            "https://www.olx.pl/d/oferta/skoda-fabia-2-1-2-benzyna-2008r-CID5-ID17OgaX.html\n",
            "https://www.olx.pl/d/oferta/bmw-serii-5-e39-titansilber-wydech-i-shortshifter-schmiedmann-CID5-ID176V5a.html\n",
            "https://www.olx.pl/d/oferta/citroen-berlingo-1-6-lpg-sprzedaz-zamiana-CID5-ID17IDb0.html\n",
            "https://www.olx.pl/d/oferta/sprzedam-auto-bez-posrednikow-faktura-vat-CID5-ID17K1Fd.html\n",
            "https://www.olx.pl/d/oferta/ford-fusion-mondeo-1-5-180km-piekny-bogata-opcja-super-stan-zamiana-CID5-ID17GdXP.html\n",
            "https://www.olx.pl/d/oferta/toyota-chr-gr-2-0-CID5-ID17Isno.html\n",
            "https://www.olx.pl/d/oferta/mercedes-benz-klasa-e-mercedes-w211-2-2-150km-diesel-automat-2004r-CID5-ID17R3Ak.html\n",
            "https://www.olx.pl/d/oferta/range-rover-classic-3-5-v8-3-drzwiowy-CID5-ID17OrFR.html\n",
            "https://www.olx.pl/d/oferta/jeep-grand-cherokee-CID5-ID16CYcF.html\n",
            "https://www.olx.pl/d/oferta/sprzedam-bmw-x5-2004-r-3-0-diesel-CID5-ID17R1UY.html\n",
            "https://www.olx.pl/d/oferta/sprzedam-volkswagen-jetta-1-6-fsi-CID5-ID17Oluk.html\n",
            "https://www.olx.pl/d/oferta/opel-corsa-d-2009r-CID5-ID17OsnE.html\n",
            "https://www.olx.pl/d/oferta/kia-ceed-1-6-diesel-CID5-ID17IDHD.html\n",
            "https://www.olx.pl/d/oferta/opel-astra-gtc-1-6-lpg-klima-alusy-super-stan-gwarancja-CID5-ID17yhJH.html\n",
            "https://www.olx.pl/d/oferta/audi-a5-2-0tdi-177km-sportback-CID5-ID13BXVC.html\n",
            "https://www.olx.pl/d/oferta/vw-golf-iv-2-0-benzyna-gaz-klima-5drzwi-CID5-ID17OpbN.html\n",
            "https://www.olx.pl/d/oferta/toyota-corolla-verso-automat-skora-7-osob-CID5-ID17Orpj.html\n",
            "https://www.olx.pl/d/oferta/golfik4-z-gazem-1-6-CID5-ID17OoxE.html\n",
            "https://www.olx.pl/d/oferta/opel-zafira-c-7-osobowa-2016r-CID5-ID17ICwH.html\n",
            "https://www.olx.pl/d/oferta/opel-insignia-salon-pl-165km-automat-fv-23-1-wlasciciel-srwis-aso-CID5-ID17indN.html\n",
            "https://www.olx.pl/d/oferta/bmw-f11-525d-xdrive-m-pakiet2016zamianabogata-opcja-CID5-ID17xHWJ.html\n",
            "https://www.olx.pl/d/oferta/kia-ceed-1-6-crdi-carplay-2-komplety-opon-114-km-osoba-prywatna-CID5-ID16TcVU.html\n",
            "https://www.olx.pl/d/oferta/volkswagen-golf-5kombi2-0drodzinnydynamicznyklimazamiana-CID5-ID17JXPo.html\n",
            "https://www.olx.pl/d/oferta/citroen-c3-1-2-benzyna-igla-wszystko-dziala-perfekt-klima-sprawna-CID5-ID17Q3Jo.html\n",
            "https://www.olx.pl/d/oferta/hyundai-ix20-1-4crdi-skora-panorama-navi-kamera-cofania-grzane-fotele-CID5-ID17HQlv.html\n",
            "https://www.olx.pl/d/oferta/sprzedam-volkswagena-tourana-CID5-ID17Ot7O.html\n",
            "https://www.olx.pl/d/oferta/ford-c-max-lift-polecam-CID5-ID17IDrn.html\n",
            "https://www.olx.pl/d/oferta/mazda-5-2-0-niski-przebieg-CID5-ID17IDRD.html\n",
            "https://www.olx.pl/d/oferta/alfa-romeo-159-2010r-1-9-jtdm-polift-CID5-ID17IDuX.html\n"
          ]
        }
      ],
      "source": [
        "def getCarUrls(url):\n",
        "    response = requests.get(url, headers=headers)\n",
        "    parsed = bs4.BeautifulSoup(response.text)\n",
        "    table = parsed.find_all('div', {'data-cy': 'l-card'})\n",
        "    \n",
        "    car_urls = []\n",
        "    for car in table:\n",
        "        car_url = 'https://www.olx.pl' + car.find('a', class_='css-1tqlkj0').get('href')\n",
        "        car_urls.append(car_url)\n",
        "    return car_urls\n",
        "            \n",
        "def getCarData(url):\n",
        "    color = ''\n",
        "    price = ''\n",
        "    response = requests.get(url, headers=headers)\n",
        "    parsed = bs4.BeautifulSoup(response.text)\n",
        "    table = parsed.find_all('div', {'data-testid': 'ad-parameters-container'})\n",
        "    for row in table:\n",
        "        data = row.find_all('p')\n",
        "        for p in data:\n",
        "            text = p.getText().strip()\n",
        "            if 'Kolor:' in text:\n",
        "                color = text.split(':')[-1].strip()\n",
        "    table = parsed.find('div', {'data-testid': 'ad-price-container'})\n",
        "    if table == None:\n",
        "        return None,None\n",
        "    price = int(table.find('h3').text[0:-3].replace(' ', ''))\n",
        "    return price,color\n",
        "    \n",
        "\n",
        "cars_url = ['https://www.olx.pl/motoryzacja/samochody/?page=' + str(i) for i in range(10)]\n",
        "\n",
        "\n",
        "color_data = dict()\n",
        "urls = []\n",
        "for i in cars_url:\n",
        "    urls.extend(getCarUrls(i))\n",
        "for i in urls:\n",
        "    if i.find('otomoto') != -1:\n",
        "        continue\n",
        "    print(i)\n",
        "    price, color = getCarData(i)\n",
        "    if color not in color_data:\n",
        "        color_data[color] = []\n",
        "    color_data[color].append(price)\n",
        "\n"
      ]
    },
    {
      "cell_type": "code",
      "execution_count": 74,
      "metadata": {},
      "outputs": [
        {
          "name": "stdout",
          "output_type": "stream",
          "text": [
            "Niebieski 47304.31707317073\n"
          ]
        },
        {
          "data": {
            "image/png": "[encoded data removed]",
            "text/plain": [
              "<Figure size 1200x600 with 1 Axes>"
            ]
          },
          "metadata": {},
          "output_type": "display_data"
        }
      ],
      "source": [
        "import matplotlib.pyplot as plt\n",
        "\n",
        "color_plot = dict()\n",
        "for color in color_data:\n",
        "    color_plot[color] = sum(color_data[color]) / len(color_data[color])\n",
        "\n",
        "plt.figure(figsize=(12, 6))\n",
        "plt.bar(color_plot.keys(), color_plot.values())\n",
        "plt.xticks(rotation=45, ha='right')\n",
        "plt.title('Average Car Price by Color')\n",
        "plt.xlabel('Color')\n",
        "plt.ylabel('Average Price (PLN)')\n",
        "plt.tight_layout()\n",
        "\n",
        "\n",
        "print(max(color_plot, key=color_plot.get), color_plot[max(color_plot, key=color_plot.get)])"
      ]
    },
    {
      "cell_type": "markdown",
      "metadata": {
        "id": "RbuLDcozd1AE"
      },
      "source": [
        "<details>\n",
        "\n",
        "<summary>Bonus</summary>\n",
        "\n",
        "Funny website for scraping https://web.archive.org/web/20190615072453/https://sirius.cs.put.poznan.pl/~inf66204/WKC.html\n",
        "</details>"
      ]
    }
  ],
  "metadata": {
    "colab": {
      "provenance": []
    },
    "kernelspec": {
      "display_name": "base",
      "language": "python",
      "name": "python3"
    },
    "language_info": {
      "codemirror_mode": {
        "name": "ipython",
        "version": 3
      },
      "file_extension": ".py",
      "mimetype": "text/x-python",
      "name": "python",
      "nbconvert_exporter": "python",
      "pygments_lexer": "ipython3",
      "version": "3.13.2"
    }
  },
  "nbformat": 4,
  "nbformat_minor": 0
}
