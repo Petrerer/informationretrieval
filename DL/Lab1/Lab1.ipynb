{
 "cells": [
  {
   "cell_type": "code",
   "execution_count": null,
   "id": "93304745",
   "metadata": {
    "ExecuteTime": {
     "end_time": "2025-10-14T22:17:45.776948Z",
     "start_time": "2025-10-14T22:17:39.422395Z"
    },
    "id": "93304745"
   },
   "outputs": [],
   "source": [
    "!pip install tensorflow\n",
    "import numpy as np\n",
    "import pandas as pd\n",
    "import tensorflow as tf\n",
    "from tensorflow.keras.layers import Dense, Input, concatenate, Concatenate\n",
    "from tensorflow.keras.models import Model, Sequential\n",
    "from tensorflow.keras.utils import Sequence, plot_model\n",
    "from tensorflow.keras.callbacks import EarlyStopping, ReduceLROnPlateau\n",
    "import matplotlib.pyplot as plt\n",
    "import itertools\n",
    "\n",
    "from sklearn.preprocessing import StandardScaler\n",
    "from sklearn.datasets import load_wine"
   ]
  },
  {
   "cell_type": "markdown",
   "id": "f0d4a88c",
   "metadata": {
    "id": "f0d4a88c"
   },
   "source": [
    "In our classes we will use TensorFlow and Keras, however, a project can be done with any technology you want. You can even use pure NumPy and implement neural networks by yourself or write it in C or Assembler."
   ]
  },
  {
   "cell_type": "markdown",
   "id": "f4a2f032",
   "metadata": {
    "id": "f4a2f032"
   },
   "source": [
    "TensorFlow by default allocates nearly all available memory on the GPU. It's wise to set the memory_growth parameter then it will take just as much memory as needed."
   ]
  },
  {
   "cell_type": "code",
   "execution_count": 6,
   "id": "c09b116c",
   "metadata": {
    "ExecuteTime": {
     "end_time": "2025-10-14T22:17:46.142786Z",
     "start_time": "2025-10-14T22:17:45.788059Z"
    },
    "id": "c09b116c"
   },
   "outputs": [
    {
     "name": "stdout",
     "output_type": "stream",
     "text": [
      "[PhysicalDevice(name='/physical_device:GPU:0', device_type='GPU')]\n"
     ]
    }
   ],
   "source": [
    "physical_devices = tf.config.list_physical_devices('GPU')\n",
    "print(physical_devices)\n",
    "for gpu in physical_devices:\n",
    "    tf.config.experimental.set_memory_growth(gpu, enable=True)"
   ]
  },
  {
   "cell_type": "markdown",
   "id": "455fa82f",
   "metadata": {
    "id": "455fa82f"
   },
   "source": [
    "Before we jump to neural networks let's start with a single perceptron. It's a simple mathematical model that calculates a weighted sum and applies a selected function called an activation function."
   ]
  },
  {
   "cell_type": "code",
   "execution_count": 7,
   "id": "10b4546e",
   "metadata": {
    "ExecuteTime": {
     "end_time": "2025-10-14T22:17:47.202613Z",
     "start_time": "2025-10-14T22:17:46.167417Z"
    },
    "id": "10b4546e"
   },
   "outputs": [
    {
     "name": "stderr",
     "output_type": "stream",
     "text": [
      "/home/determinator/miniconda3/envs/tf-gpu/lib/python3.12/site-packages/keras/src/layers/core/dense.py:87: UserWarning: Do not pass an `input_shape`/`input_dim` argument to a layer. When using Sequential models, prefer using an `Input(shape)` object as the first layer in the model instead.\n",
      "  super().__init__(activity_regularizer=activity_regularizer, **kwargs)\n",
      "I0000 00:00:1760480266.390653   21520 gpu_device.cc:2019] Created device /job:localhost/replica:0/task:0/device:GPU:0 with 9709 MB memory:  -> device: 0, name: NVIDIA GeForce RTX 3060, pci bus id: 0000:05:00.0, compute capability: 8.6\n"
     ]
    },
    {
     "data": {
      "text/html": [
       "<pre style=\"white-space:pre;overflow-x:auto;line-height:normal;font-family:Menlo,'DejaVu Sans Mono',consolas,'Courier New',monospace\"><span style=\"font-weight: bold\">Model: \"sequential\"</span>\n",
       "</pre>\n"
      ],
      "text/plain": [
       "\u001b[1mModel: \"sequential\"\u001b[0m\n"
      ]
     },
     "metadata": {},
     "output_type": "display_data"
    },
    {
     "data": {
      "text/html": [
       "<pre style=\"white-space:pre;overflow-x:auto;line-height:normal;font-family:Menlo,'DejaVu Sans Mono',consolas,'Courier New',monospace\">┏━━━━━━━━━━━━━━━━━━━━━━━━━━━━━━━━━┳━━━━━━━━━━━━━━━━━━━━━━━━┳━━━━━━━━━━━━━━━┓\n",
       "┃<span style=\"font-weight: bold\"> Layer (type)                    </span>┃<span style=\"font-weight: bold\"> Output Shape           </span>┃<span style=\"font-weight: bold\">       Param # </span>┃\n",
       "┡━━━━━━━━━━━━━━━━━━━━━━━━━━━━━━━━━╇━━━━━━━━━━━━━━━━━━━━━━━━╇━━━━━━━━━━━━━━━┩\n",
       "│ dense (<span style=\"color: #0087ff; text-decoration-color: #0087ff\">Dense</span>)                   │ (<span style=\"color: #00d7ff; text-decoration-color: #00d7ff\">None</span>, <span style=\"color: #00af00; text-decoration-color: #00af00\">1</span>)              │             <span style=\"color: #00af00; text-decoration-color: #00af00\">3</span> │\n",
       "└─────────────────────────────────┴────────────────────────┴───────────────┘\n",
       "</pre>\n"
      ],
      "text/plain": [
       "┏━━━━━━━━━━━━━━━━━━━━━━━━━━━━━━━━━┳━━━━━━━━━━━━━━━━━━━━━━━━┳━━━━━━━━━━━━━━━┓\n",
       "┃\u001b[1m \u001b[0m\u001b[1mLayer (type)                   \u001b[0m\u001b[1m \u001b[0m┃\u001b[1m \u001b[0m\u001b[1mOutput Shape          \u001b[0m\u001b[1m \u001b[0m┃\u001b[1m \u001b[0m\u001b[1m      Param #\u001b[0m\u001b[1m \u001b[0m┃\n",
       "┡━━━━━━━━━━━━━━━━━━━━━━━━━━━━━━━━━╇━━━━━━━━━━━━━━━━━━━━━━━━╇━━━━━━━━━━━━━━━┩\n",
       "│ dense (\u001b[38;5;33mDense\u001b[0m)                   │ (\u001b[38;5;45mNone\u001b[0m, \u001b[38;5;34m1\u001b[0m)              │             \u001b[38;5;34m3\u001b[0m │\n",
       "└─────────────────────────────────┴────────────────────────┴───────────────┘\n"
      ]
     },
     "metadata": {},
     "output_type": "display_data"
    },
    {
     "data": {
      "text/html": [
       "<pre style=\"white-space:pre;overflow-x:auto;line-height:normal;font-family:Menlo,'DejaVu Sans Mono',consolas,'Courier New',monospace\"><span style=\"font-weight: bold\"> Total params: </span><span style=\"color: #00af00; text-decoration-color: #00af00\">3</span> (12.00 B)\n",
       "</pre>\n"
      ],
      "text/plain": [
       "\u001b[1m Total params: \u001b[0m\u001b[38;5;34m3\u001b[0m (12.00 B)\n"
      ]
     },
     "metadata": {},
     "output_type": "display_data"
    },
    {
     "data": {
      "text/html": [
       "<pre style=\"white-space:pre;overflow-x:auto;line-height:normal;font-family:Menlo,'DejaVu Sans Mono',consolas,'Courier New',monospace\"><span style=\"font-weight: bold\"> Trainable params: </span><span style=\"color: #00af00; text-decoration-color: #00af00\">3</span> (12.00 B)\n",
       "</pre>\n"
      ],
      "text/plain": [
       "\u001b[1m Trainable params: \u001b[0m\u001b[38;5;34m3\u001b[0m (12.00 B)\n"
      ]
     },
     "metadata": {},
     "output_type": "display_data"
    },
    {
     "data": {
      "text/html": [
       "<pre style=\"white-space:pre;overflow-x:auto;line-height:normal;font-family:Menlo,'DejaVu Sans Mono',consolas,'Courier New',monospace\"><span style=\"font-weight: bold\"> Non-trainable params: </span><span style=\"color: #00af00; text-decoration-color: #00af00\">0</span> (0.00 B)\n",
       "</pre>\n"
      ],
      "text/plain": [
       "\u001b[1m Non-trainable params: \u001b[0m\u001b[38;5;34m0\u001b[0m (0.00 B)\n"
      ]
     },
     "metadata": {},
     "output_type": "display_data"
    }
   ],
   "source": [
    "model = Sequential()\n",
    "model.add(Dense(1, input_shape=(2,)))\n",
    "# that's how we create a single layer. First parameter specifies how many neurons we want, since we want to have\n",
    "# a single perceptron we use 1. Then we specify the input shape so bascially the number of variables\n",
    "model.summary()"
   ]
  },
  {
   "cell_type": "markdown",
   "id": "9aeb9cc6",
   "metadata": {
    "id": "9aeb9cc6"
   },
   "source": [
    "Above we created a simple neural network with just one neuron accepting input consisting of two values. As you can see such a network/perceptron has 3 parameters. Two of them are the weights associated with each input. Additionally, there is one more parameter called bias. It can be treated as a weight associated with an additional constant input equal to one.\n",
    "\n",
    "The formula for a single perceptron looks as follows.\n",
    "$$ \\sum (x_i*w_i) + bias$$\n",
    "\n",
    "Let's check if it really works"
   ]
  },
  {
   "cell_type": "code",
   "execution_count": 8,
   "id": "52ae8466",
   "metadata": {
    "ExecuteTime": {
     "end_time": "2025-10-14T22:17:47.235973Z",
     "start_time": "2025-10-14T22:17:47.229222Z"
    },
    "id": "52ae8466"
   },
   "outputs": [
    {
     "data": {
      "text/plain": [
       "[<Variable path=sequential/dense/kernel, shape=(2, 1), dtype=float32, value=[[-1.2057145]\n",
       "  [ 0.3233446]]>,\n",
       " <Variable path=sequential/dense/bias, shape=(1,), dtype=float32, value=[0.]>]"
      ]
     },
     "execution_count": 8,
     "metadata": {},
     "output_type": "execute_result"
    }
   ],
   "source": [
    "model.weights"
   ]
  },
  {
   "cell_type": "markdown",
   "id": "6c4f5cc7",
   "metadata": {
    "id": "6c4f5cc7"
   },
   "source": [
    "Above you should see two weights as kernel and one bias. These weights are randomly initialized. Let's see if the formula is correct."
   ]
  },
  {
   "cell_type": "code",
   "execution_count": 9,
   "id": "e311cd82",
   "metadata": {
    "ExecuteTime": {
     "end_time": "2025-10-14T22:17:47.640212Z",
     "start_time": "2025-10-14T22:17:47.295547Z"
    },
    "id": "e311cd82"
   },
   "outputs": [
    {
     "name": "stderr",
     "output_type": "stream",
     "text": [
      "WARNING: All log messages before absl::InitializeLog() is called are written to STDERR\n",
      "I0000 00:00:1760480267.375411   21621 service.cc:152] XLA service 0x7d0b24003400 initialized for platform CUDA (this does not guarantee that XLA will be used). Devices:\n",
      "I0000 00:00:1760480267.375449   21621 service.cc:160]   StreamExecutor device (0): NVIDIA GeForce RTX 3060, Compute Capability 8.6\n",
      "I0000 00:00:1760480267.393684   21621 cuda_dnn.cc:529] Loaded cuDNN version 90501\n"
     ]
    },
    {
     "name": "stdout",
     "output_type": "stream",
     "text": [
      "\u001b[1m1/1\u001b[0m \u001b[32m━━━━━━━━━━━━━━━━━━━━\u001b[0m\u001b[37m\u001b[0m \u001b[1m0s\u001b[0m 300ms/step\n",
      "Model prediction: [[-2.0880842]]\n",
      "Manual calculations: [[-2.08808434]]\n"
     ]
    },
    {
     "name": "stderr",
     "output_type": "stream",
     "text": [
      "I0000 00:00:1760480267.621341   21621 device_compiler.h:188] Compiled cluster using XLA!  This line is logged at most once for the lifetime of the process.\n"
     ]
    }
   ],
   "source": [
    "x = np.array([[2,1]]) # dummy input for calculations\n",
    "print(\"Model prediction:\", model.predict(x))\n",
    "print(\"Manual calculations:\", x @ model.weights[0].numpy() + model.weights[1].numpy())"
   ]
  },
  {
   "cell_type": "markdown",
   "id": "77b73b40",
   "metadata": {
    "id": "77b73b40"
   },
   "source": [
    "Method predict simply run neural network with given input.\n",
    "\n",
    "Seems it works since the results are the same, btw @ is an operator for matrix multiplication. If you don't trust it you can write it step by step with scalar multiplication."
   ]
  },
  {
   "cell_type": "markdown",
   "id": "4dfb4103",
   "metadata": {
    "id": "4dfb4103"
   },
   "source": [
    "OK but what about an activation function?\n",
    "\n",
    "That's right, here we just used linear function f(x) = x, but in general, you can use whatever function you want e.g. tanh. It's applied after the weighted sum. So let's update our formula and try it once again.\n",
    "$$ f(\\sum (x_i*w_i) + bias)$$"
   ]
  },
  {
   "cell_type": "code",
   "execution_count": 10,
   "id": "a0cb8f2b",
   "metadata": {
    "ExecuteTime": {
     "end_time": "2025-10-14T22:17:47.678397Z",
     "start_time": "2025-10-14T22:17:47.655358Z"
    },
    "id": "a0cb8f2b"
   },
   "outputs": [
    {
     "data": {
      "text/html": [
       "<pre style=\"white-space:pre;overflow-x:auto;line-height:normal;font-family:Menlo,'DejaVu Sans Mono',consolas,'Courier New',monospace\"><span style=\"font-weight: bold\">Model: \"sequential_1\"</span>\n",
       "</pre>\n"
      ],
      "text/plain": [
       "\u001b[1mModel: \"sequential_1\"\u001b[0m\n"
      ]
     },
     "metadata": {},
     "output_type": "display_data"
    },
    {
     "data": {
      "text/html": [
       "<pre style=\"white-space:pre;overflow-x:auto;line-height:normal;font-family:Menlo,'DejaVu Sans Mono',consolas,'Courier New',monospace\">┏━━━━━━━━━━━━━━━━━━━━━━━━━━━━━━━━━┳━━━━━━━━━━━━━━━━━━━━━━━━┳━━━━━━━━━━━━━━━┓\n",
       "┃<span style=\"font-weight: bold\"> Layer (type)                    </span>┃<span style=\"font-weight: bold\"> Output Shape           </span>┃<span style=\"font-weight: bold\">       Param # </span>┃\n",
       "┡━━━━━━━━━━━━━━━━━━━━━━━━━━━━━━━━━╇━━━━━━━━━━━━━━━━━━━━━━━━╇━━━━━━━━━━━━━━━┩\n",
       "│ dense_1 (<span style=\"color: #0087ff; text-decoration-color: #0087ff\">Dense</span>)                 │ (<span style=\"color: #00d7ff; text-decoration-color: #00d7ff\">None</span>, <span style=\"color: #00af00; text-decoration-color: #00af00\">1</span>)              │             <span style=\"color: #00af00; text-decoration-color: #00af00\">3</span> │\n",
       "└─────────────────────────────────┴────────────────────────┴───────────────┘\n",
       "</pre>\n"
      ],
      "text/plain": [
       "┏━━━━━━━━━━━━━━━━━━━━━━━━━━━━━━━━━┳━━━━━━━━━━━━━━━━━━━━━━━━┳━━━━━━━━━━━━━━━┓\n",
       "┃\u001b[1m \u001b[0m\u001b[1mLayer (type)                   \u001b[0m\u001b[1m \u001b[0m┃\u001b[1m \u001b[0m\u001b[1mOutput Shape          \u001b[0m\u001b[1m \u001b[0m┃\u001b[1m \u001b[0m\u001b[1m      Param #\u001b[0m\u001b[1m \u001b[0m┃\n",
       "┡━━━━━━━━━━━━━━━━━━━━━━━━━━━━━━━━━╇━━━━━━━━━━━━━━━━━━━━━━━━╇━━━━━━━━━━━━━━━┩\n",
       "│ dense_1 (\u001b[38;5;33mDense\u001b[0m)                 │ (\u001b[38;5;45mNone\u001b[0m, \u001b[38;5;34m1\u001b[0m)              │             \u001b[38;5;34m3\u001b[0m │\n",
       "└─────────────────────────────────┴────────────────────────┴───────────────┘\n"
      ]
     },
     "metadata": {},
     "output_type": "display_data"
    },
    {
     "data": {
      "text/html": [
       "<pre style=\"white-space:pre;overflow-x:auto;line-height:normal;font-family:Menlo,'DejaVu Sans Mono',consolas,'Courier New',monospace\"><span style=\"font-weight: bold\"> Total params: </span><span style=\"color: #00af00; text-decoration-color: #00af00\">3</span> (12.00 B)\n",
       "</pre>\n"
      ],
      "text/plain": [
       "\u001b[1m Total params: \u001b[0m\u001b[38;5;34m3\u001b[0m (12.00 B)\n"
      ]
     },
     "metadata": {},
     "output_type": "display_data"
    },
    {
     "data": {
      "text/html": [
       "<pre style=\"white-space:pre;overflow-x:auto;line-height:normal;font-family:Menlo,'DejaVu Sans Mono',consolas,'Courier New',monospace\"><span style=\"font-weight: bold\"> Trainable params: </span><span style=\"color: #00af00; text-decoration-color: #00af00\">3</span> (12.00 B)\n",
       "</pre>\n"
      ],
      "text/plain": [
       "\u001b[1m Trainable params: \u001b[0m\u001b[38;5;34m3\u001b[0m (12.00 B)\n"
      ]
     },
     "metadata": {},
     "output_type": "display_data"
    },
    {
     "data": {
      "text/html": [
       "<pre style=\"white-space:pre;overflow-x:auto;line-height:normal;font-family:Menlo,'DejaVu Sans Mono',consolas,'Courier New',monospace\"><span style=\"font-weight: bold\"> Non-trainable params: </span><span style=\"color: #00af00; text-decoration-color: #00af00\">0</span> (0.00 B)\n",
       "</pre>\n"
      ],
      "text/plain": [
       "\u001b[1m Non-trainable params: \u001b[0m\u001b[38;5;34m0\u001b[0m (0.00 B)\n"
      ]
     },
     "metadata": {},
     "output_type": "display_data"
    }
   ],
   "source": [
    "model = Sequential()\n",
    "model.add(Dense(1, 'tanh', input_shape=(2,))) # the second parameter specifies the activation function\n",
    "model.summary()"
   ]
  },
  {
   "cell_type": "code",
   "execution_count": 11,
   "id": "875894fc",
   "metadata": {
    "ExecuteTime": {
     "end_time": "2025-10-14T22:17:47.763758Z",
     "start_time": "2025-10-14T22:17:47.759232Z"
    },
    "id": "875894fc"
   },
   "outputs": [
    {
     "data": {
      "text/plain": [
       "[<Variable path=sequential_1/dense_1/kernel, shape=(2, 1), dtype=float32, value=[[0.2764213]\n",
       "  [1.3038422]]>,\n",
       " <Variable path=sequential_1/dense_1/bias, shape=(1,), dtype=float32, value=[0.]>]"
      ]
     },
     "execution_count": 11,
     "metadata": {},
     "output_type": "execute_result"
    }
   ],
   "source": [
    "model.weights"
   ]
  },
  {
   "cell_type": "code",
   "execution_count": 12,
   "id": "83ad6cf4",
   "metadata": {
    "ExecuteTime": {
     "end_time": "2025-10-14T22:17:47.972843Z",
     "start_time": "2025-10-14T22:17:47.814595Z"
    },
    "id": "83ad6cf4"
   },
   "outputs": [
    {
     "name": "stdout",
     "output_type": "stream",
     "text": [
      "\u001b[1m1/1\u001b[0m \u001b[32m━━━━━━━━━━━━━━━━━━━━\u001b[0m\u001b[37m\u001b[0m \u001b[1m0s\u001b[0m 128ms/step\n",
      "Model prediction: [[0.95237154]]\n",
      "Manual calculations: [[1.8566848]]\n"
     ]
    },
    {
     "name": "stderr",
     "output_type": "stream",
     "text": [
      "2025-10-15 00:17:47.880352: I tensorflow/compiler/mlir/tensorflow/utils/dump_mlir_util.cc:269] disabling MLIR crash reproducer, set env var `MLIR_CRASH_REPRODUCER_DIRECTORY` to enable.\n"
     ]
    }
   ],
   "source": [
    "x = np.array([[2,1]]) # dummy input for calculations\n",
    "print(\"Model prediction:\", model.predict(x))\n",
    "print(\"Manual calculations:\", x @ model.weights[0].numpy() + model.weights[1].numpy())"
   ]
  },
  {
   "cell_type": "markdown",
   "id": "e77db638",
   "metadata": {
    "id": "e77db638"
   },
   "source": [
    "Now result of predict is different than our manual computations. That's because in predict a tanh activation function is used. Let's add tanh to our formula and see if the results match"
   ]
  },
  {
   "cell_type": "code",
   "execution_count": 13,
   "id": "068f461b",
   "metadata": {
    "ExecuteTime": {
     "end_time": "2025-10-14T22:17:47.995711Z",
     "start_time": "2025-10-14T22:17:47.991791Z"
    },
    "id": "068f461b"
   },
   "outputs": [
    {
     "name": "stdout",
     "output_type": "stream",
     "text": [
      "Improved manual calculations: [[0.95237154]]\n"
     ]
    }
   ],
   "source": [
    "print(\"Improved manual calculations:\", np.tanh(x @ model.weights[0].numpy() + model.weights[1].numpy()))"
   ]
  },
  {
   "cell_type": "markdown",
   "id": "3c94068c",
   "metadata": {
    "id": "3c94068c"
   },
   "source": [
    "The results might not be exactly the same due to numerical errors and the implementation of tanh, but it's clear it works.\n",
    "\n",
    "So why do we want to use different activation functions and which of them to use?\n",
    "\n",
    "We will return to that question later on.\n"
   ]
  },
  {
   "cell_type": "markdown",
   "id": "c1868c9e",
   "metadata": {
    "id": "c1868c9e"
   },
   "source": [
    "Now let's talk about those weights and how to obtain them.\n",
    "Well, the idea is simple. Firstly you need a training set with predictors ($x$) and target ($y$). In our example let's try to predict the price of a flat ($y$) based on its area ($x$). Of course, more than one feature can and should be used e.g. floor, year, district, ..., but for clarity, let's use a single feature."
   ]
  },
  {
   "cell_type": "code",
   "execution_count": 14,
   "id": "a7d07231",
   "metadata": {
    "ExecuteTime": {
     "end_time": "2025-10-14T22:17:48.049183Z",
     "start_time": "2025-10-14T22:17:48.046275Z"
    },
    "id": "a7d07231",
    "scrolled": true
   },
   "outputs": [],
   "source": [
    "np.random.seed(41)\n",
    "x = np.random.rand(200,1)*20+50"
   ]
  },
  {
   "cell_type": "code",
   "execution_count": 15,
   "id": "2b22068e",
   "metadata": {
    "ExecuteTime": {
     "end_time": "2025-10-14T22:17:48.106347Z",
     "start_time": "2025-10-14T22:17:48.102749Z"
    },
    "id": "2b22068e",
    "scrolled": true
   },
   "outputs": [],
   "source": [
    "np.random.seed(27)\n",
    "y = .5*x + np.random.rand(*x.shape)*3 + np.log(x-49)*2"
   ]
  },
  {
   "cell_type": "code",
   "execution_count": 16,
   "id": "a642c697",
   "metadata": {
    "ExecuteTime": {
     "end_time": "2025-10-14T22:17:48.301605Z",
     "start_time": "2025-10-14T22:17:48.151730Z"
    },
    "id": "a642c697"
   },
   "outputs": [
    {
     "data": {
      "image/png": "[encoded data removed]",
      "text/plain": [
       "<Figure size 640x480 with 1 Axes>"
      ]
     },
     "metadata": {},
     "output_type": "display_data"
    }
   ],
   "source": [
    "plt.plot(x,y, '.')\n",
    "plt.xlabel(\"$m^2$\")\n",
    "plt.ylabel(\"price in bitcoins\")\n",
    "plt.show()"
   ]
  },
  {
   "cell_type": "markdown",
   "id": "b7d6689f",
   "metadata": {
    "id": "b7d6689f"
   },
   "source": [
    "Ok, we created a dataset (a fake one, but perfect for this exercise). Now let's create a perceptron that will solve this task. Which activation function should be used?"
   ]
  },
  {
   "cell_type": "code",
   "execution_count": 17,
   "id": "c7b59edd",
   "metadata": {
    "ExecuteTime": {
     "end_time": "2025-10-14T22:17:48.331248Z",
     "start_time": "2025-10-14T22:17:48.314612Z"
    },
    "id": "c7b59edd"
   },
   "outputs": [
    {
     "data": {
      "text/html": [
       "<pre style=\"white-space:pre;overflow-x:auto;line-height:normal;font-family:Menlo,'DejaVu Sans Mono',consolas,'Courier New',monospace\"><span style=\"font-weight: bold\">Model: \"sequential_2\"</span>\n",
       "</pre>\n"
      ],
      "text/plain": [
       "\u001b[1mModel: \"sequential_2\"\u001b[0m\n"
      ]
     },
     "metadata": {},
     "output_type": "display_data"
    },
    {
     "data": {
      "text/html": [
       "<pre style=\"white-space:pre;overflow-x:auto;line-height:normal;font-family:Menlo,'DejaVu Sans Mono',consolas,'Courier New',monospace\">┏━━━━━━━━━━━━━━━━━━━━━━━━━━━━━━━━━┳━━━━━━━━━━━━━━━━━━━━━━━━┳━━━━━━━━━━━━━━━┓\n",
       "┃<span style=\"font-weight: bold\"> Layer (type)                    </span>┃<span style=\"font-weight: bold\"> Output Shape           </span>┃<span style=\"font-weight: bold\">       Param # </span>┃\n",
       "┡━━━━━━━━━━━━━━━━━━━━━━━━━━━━━━━━━╇━━━━━━━━━━━━━━━━━━━━━━━━╇━━━━━━━━━━━━━━━┩\n",
       "│ dense_2 (<span style=\"color: #0087ff; text-decoration-color: #0087ff\">Dense</span>)                 │ (<span style=\"color: #00d7ff; text-decoration-color: #00d7ff\">None</span>, <span style=\"color: #00af00; text-decoration-color: #00af00\">1</span>)              │             <span style=\"color: #00af00; text-decoration-color: #00af00\">2</span> │\n",
       "└─────────────────────────────────┴────────────────────────┴───────────────┘\n",
       "</pre>\n"
      ],
      "text/plain": [
       "┏━━━━━━━━━━━━━━━━━━━━━━━━━━━━━━━━━┳━━━━━━━━━━━━━━━━━━━━━━━━┳━━━━━━━━━━━━━━━┓\n",
       "┃\u001b[1m \u001b[0m\u001b[1mLayer (type)                   \u001b[0m\u001b[1m \u001b[0m┃\u001b[1m \u001b[0m\u001b[1mOutput Shape          \u001b[0m\u001b[1m \u001b[0m┃\u001b[1m \u001b[0m\u001b[1m      Param #\u001b[0m\u001b[1m \u001b[0m┃\n",
       "┡━━━━━━━━━━━━━━━━━━━━━━━━━━━━━━━━━╇━━━━━━━━━━━━━━━━━━━━━━━━╇━━━━━━━━━━━━━━━┩\n",
       "│ dense_2 (\u001b[38;5;33mDense\u001b[0m)                 │ (\u001b[38;5;45mNone\u001b[0m, \u001b[38;5;34m1\u001b[0m)              │             \u001b[38;5;34m2\u001b[0m │\n",
       "└─────────────────────────────────┴────────────────────────┴───────────────┘\n"
      ]
     },
     "metadata": {},
     "output_type": "display_data"
    },
    {
     "data": {
      "text/html": [
       "<pre style=\"white-space:pre;overflow-x:auto;line-height:normal;font-family:Menlo,'DejaVu Sans Mono',consolas,'Courier New',monospace\"><span style=\"font-weight: bold\"> Total params: </span><span style=\"color: #00af00; text-decoration-color: #00af00\">2</span> (8.00 B)\n",
       "</pre>\n"
      ],
      "text/plain": [
       "\u001b[1m Total params: \u001b[0m\u001b[38;5;34m2\u001b[0m (8.00 B)\n"
      ]
     },
     "metadata": {},
     "output_type": "display_data"
    },
    {
     "data": {
      "text/html": [
       "<pre style=\"white-space:pre;overflow-x:auto;line-height:normal;font-family:Menlo,'DejaVu Sans Mono',consolas,'Courier New',monospace\"><span style=\"font-weight: bold\"> Trainable params: </span><span style=\"color: #00af00; text-decoration-color: #00af00\">2</span> (8.00 B)\n",
       "</pre>\n"
      ],
      "text/plain": [
       "\u001b[1m Trainable params: \u001b[0m\u001b[38;5;34m2\u001b[0m (8.00 B)\n"
      ]
     },
     "metadata": {},
     "output_type": "display_data"
    },
    {
     "data": {
      "text/html": [
       "<pre style=\"white-space:pre;overflow-x:auto;line-height:normal;font-family:Menlo,'DejaVu Sans Mono',consolas,'Courier New',monospace\"><span style=\"font-weight: bold\"> Non-trainable params: </span><span style=\"color: #00af00; text-decoration-color: #00af00\">0</span> (0.00 B)\n",
       "</pre>\n"
      ],
      "text/plain": [
       "\u001b[1m Non-trainable params: \u001b[0m\u001b[38;5;34m0\u001b[0m (0.00 B)\n"
      ]
     },
     "metadata": {},
     "output_type": "display_data"
    }
   ],
   "source": [
    "np.random.seed(0)\n",
    "model = Sequential()\n",
    "model.add(Dense(1, input_shape=(1,))) #now we have only one input parameter\n",
    "model.summary()"
   ]
  },
  {
   "cell_type": "code",
   "execution_count": 18,
   "id": "00a0170d",
   "metadata": {
    "ExecuteTime": {
     "end_time": "2025-10-14T22:17:48.627364Z",
     "start_time": "2025-10-14T22:17:48.411527Z"
    },
    "id": "00a0170d",
    "scrolled": true
   },
   "outputs": [
    {
     "name": "stdout",
     "output_type": "stream",
     "text": [
      "\u001b[1m7/7\u001b[0m \u001b[32m━━━━━━━━━━━━━━━━━━━━\u001b[0m\u001b[37m\u001b[0m \u001b[1m0s\u001b[0m 14ms/step\n"
     ]
    },
    {
     "data": {
      "text/plain": [
       "array([[-41.15355 ],\n",
       "       [-38.089348],\n",
       "       [-47.52486 ],\n",
       "       [-38.050056],\n",
       "       [-39.141445],\n",
       "       [-46.43353 ],\n",
       "       [-40.25606 ],\n",
       "       [-47.40069 ],\n",
       "       [-51.124683],\n",
       "       [-43.664665],\n",
       "       [-42.370335],\n",
       "       [-41.63391 ],\n",
       "       [-40.186523],\n",
       "       [-42.1437  ],\n",
       "       [-44.597996],\n",
       "       [-38.439774],\n",
       "       [-47.94623 ],\n",
       "       [-42.107292],\n",
       "       [-48.54911 ],\n",
       "       [-43.356983],\n",
       "       [-46.498764],\n",
       "       [-48.297394],\n",
       "       [-43.709217],\n",
       "       [-43.292583],\n",
       "       [-40.873783],\n",
       "       [-44.00702 ],\n",
       "       [-42.980118],\n",
       "       [-46.130444],\n",
       "       [-38.896214],\n",
       "       [-48.490307],\n",
       "       [-38.64439 ],\n",
       "       [-39.288055],\n",
       "       [-42.230183],\n",
       "       [-47.017887],\n",
       "       [-52.351757],\n",
       "       [-41.603516],\n",
       "       [-46.10978 ],\n",
       "       [-50.45378 ],\n",
       "       [-49.20819 ],\n",
       "       [-40.662327],\n",
       "       [-42.58519 ],\n",
       "       [-48.193336],\n",
       "       [-42.694344],\n",
       "       [-44.29155 ],\n",
       "       [-41.055923],\n",
       "       [-41.62837 ],\n",
       "       [-49.760845],\n",
       "       [-50.480274],\n",
       "       [-39.53557 ],\n",
       "       [-41.589603],\n",
       "       [-45.256237],\n",
       "       [-50.876503],\n",
       "       [-46.412453],\n",
       "       [-47.748955],\n",
       "       [-41.62735 ],\n",
       "       [-41.53628 ],\n",
       "       [-39.737797],\n",
       "       [-47.329967],\n",
       "       [-51.50408 ],\n",
       "       [-47.592262],\n",
       "       [-50.30989 ],\n",
       "       [-51.03581 ],\n",
       "       [-49.59717 ],\n",
       "       [-49.812702],\n",
       "       [-37.805126],\n",
       "       [-41.00431 ],\n",
       "       [-41.38398 ],\n",
       "       [-43.087685],\n",
       "       [-44.569317],\n",
       "       [-42.208157],\n",
       "       [-43.938076],\n",
       "       [-45.751408],\n",
       "       [-43.28873 ],\n",
       "       [-46.050514],\n",
       "       [-43.05639 ],\n",
       "       [-40.44704 ],\n",
       "       [-42.84847 ],\n",
       "       [-47.91691 ],\n",
       "       [-48.429203],\n",
       "       [-47.611183],\n",
       "       [-38.898876],\n",
       "       [-40.21889 ],\n",
       "       [-45.10412 ],\n",
       "       [-50.196396],\n",
       "       [-37.887608],\n",
       "       [-40.272926],\n",
       "       [-49.810043],\n",
       "       [-48.870106],\n",
       "       [-45.27746 ],\n",
       "       [-51.004147],\n",
       "       [-43.90617 ],\n",
       "       [-44.766426],\n",
       "       [-44.63559 ],\n",
       "       [-39.616234],\n",
       "       [-45.81836 ],\n",
       "       [-45.346485],\n",
       "       [-50.64105 ],\n",
       "       [-39.25579 ],\n",
       "       [-38.280453],\n",
       "       [-42.411243],\n",
       "       [-47.04995 ],\n",
       "       [-42.678696],\n",
       "       [-42.80986 ],\n",
       "       [-42.223694],\n",
       "       [-39.944572],\n",
       "       [-42.479855],\n",
       "       [-45.822395],\n",
       "       [-47.88845 ],\n",
       "       [-49.500362],\n",
       "       [-42.532143],\n",
       "       [-48.772346],\n",
       "       [-42.352127],\n",
       "       [-41.131504],\n",
       "       [-47.108578],\n",
       "       [-43.538807],\n",
       "       [-38.671745],\n",
       "       [-46.171844],\n",
       "       [-41.62495 ],\n",
       "       [-40.735207],\n",
       "       [-40.198997],\n",
       "       [-52.107132],\n",
       "       [-38.81436 ],\n",
       "       [-43.516697],\n",
       "       [-39.388275],\n",
       "       [-38.06453 ],\n",
       "       [-48.00751 ],\n",
       "       [-50.218693],\n",
       "       [-48.97339 ],\n",
       "       [-48.78751 ],\n",
       "       [-47.435825],\n",
       "       [-38.77624 ],\n",
       "       [-46.818542],\n",
       "       [-51.52452 ],\n",
       "       [-39.05648 ],\n",
       "       [-39.640446],\n",
       "       [-46.385105],\n",
       "       [-37.61815 ],\n",
       "       [-45.779793],\n",
       "       [-37.880898],\n",
       "       [-41.1501  ],\n",
       "       [-41.737896],\n",
       "       [-38.27536 ],\n",
       "       [-42.847275],\n",
       "       [-43.80072 ],\n",
       "       [-40.86404 ],\n",
       "       [-51.877213],\n",
       "       [-48.474514],\n",
       "       [-44.03844 ],\n",
       "       [-44.847458],\n",
       "       [-40.629444],\n",
       "       [-48.20071 ],\n",
       "       [-49.98403 ],\n",
       "       [-37.86776 ],\n",
       "       [-46.75694 ],\n",
       "       [-50.73037 ],\n",
       "       [-40.15561 ],\n",
       "       [-38.483864],\n",
       "       [-50.721336],\n",
       "       [-45.303276],\n",
       "       [-46.518112],\n",
       "       [-47.731083],\n",
       "       [-48.278164],\n",
       "       [-46.756664],\n",
       "       [-39.20153 ],\n",
       "       [-48.43857 ],\n",
       "       [-37.647106],\n",
       "       [-37.449406],\n",
       "       [-51.494244],\n",
       "       [-45.905643],\n",
       "       [-49.58235 ],\n",
       "       [-38.71477 ],\n",
       "       [-43.379776],\n",
       "       [-45.847015],\n",
       "       [-51.94693 ],\n",
       "       [-43.150433],\n",
       "       [-46.51623 ],\n",
       "       [-38.774044],\n",
       "       [-47.82229 ],\n",
       "       [-48.30289 ],\n",
       "       [-50.128963],\n",
       "       [-48.482327],\n",
       "       [-47.89628 ],\n",
       "       [-39.57648 ],\n",
       "       [-44.76694 ],\n",
       "       [-42.521008],\n",
       "       [-51.604923],\n",
       "       [-40.423847],\n",
       "       [-48.995678],\n",
       "       [-41.141354],\n",
       "       [-49.935154],\n",
       "       [-43.9525  ],\n",
       "       [-51.48679 ],\n",
       "       [-47.277946],\n",
       "       [-37.797817],\n",
       "       [-39.437897],\n",
       "       [-50.825737],\n",
       "       [-41.702663],\n",
       "       [-40.51357 ],\n",
       "       [-48.38434 ],\n",
       "       [-50.66469 ]], dtype=float32)"
      ]
     },
     "execution_count": 18,
     "metadata": {},
     "output_type": "execute_result"
    }
   ],
   "source": [
    "model.predict(x)"
   ]
  },
  {
   "cell_type": "code",
   "execution_count": 19,
   "id": "c2deab8c",
   "metadata": {
    "ExecuteTime": {
     "end_time": "2025-10-14T22:17:48.792252Z",
     "start_time": "2025-10-14T22:17:48.641623Z"
    },
    "id": "c2deab8c"
   },
   "outputs": [
    {
     "name": "stdout",
     "output_type": "stream",
     "text": [
      "\u001b[1m7/7\u001b[0m \u001b[32m━━━━━━━━━━━━━━━━━━━━\u001b[0m\u001b[37m\u001b[0m \u001b[1m0s\u001b[0m 3ms/step \n"
     ]
    },
    {
     "data": {
      "image/png": "[encoded data removed]",
      "text/plain": [
       "<Figure size 640x480 with 1 Axes>"
      ]
     },
     "metadata": {},
     "output_type": "display_data"
    }
   ],
   "source": [
    "plt.plot(x,y, '.', label='data')\n",
    "plt.plot(np.sort(x,0), model.predict(np.sort(x,0)), label='prediction')\n",
    "plt.legend()\n",
    "plt.grid()\n",
    "plt.show()"
   ]
  },
  {
   "cell_type": "markdown",
   "id": "6b8e57d7",
   "metadata": {
    "id": "6b8e57d7"
   },
   "source": [
    "That's our prediction. Probably we are not even close. It's not strange, weights are initialized in a randomized way. What we need now is a measure of this error called a loss function. Once it's defined, the process of training weights is just an optimization task and the goal is to find such weights that minimize the loss function. In fact, any optimization algorithm can be used here including random search - try a lot of random weights and choose the best ones. But in most cases, stochastic gradient descent is used - in this algorithm using derivative iteratively the weights are updated"
   ]
  },
  {
   "cell_type": "markdown",
   "id": "afe24098",
   "metadata": {
    "id": "afe24098"
   },
   "source": [
    "The first idea might be simply to calculate $prediction - y$. Do you know why it fails? The problem is we will keep a sign so positive and negative errors will cancel each other. We can improve this approach by taking an absolute of it. This metric is called a mean absolute error and again there is one problem. It's not differentiable and some algorithms for optimization require the loss function to be differentiable. That's why we will use the so-called mean squared error $(prediction - y)^2$. It works more or less like mean absolute error + it's differentiable + lower impact of small errors and higher impact of big errors.\n"
   ]
  },
  {
   "cell_type": "code",
   "execution_count": 20,
   "id": "ee6d979b",
   "metadata": {
    "ExecuteTime": {
     "end_time": "2025-10-14T22:17:48.831142Z",
     "start_time": "2025-10-14T22:17:48.828536Z"
    },
    "id": "ee6d979b"
   },
   "outputs": [],
   "source": [
    "mse = lambda x,y: ((y - x)**2).mean() # our loss function"
   ]
  },
  {
   "cell_type": "markdown",
   "id": "bfeca8e3",
   "metadata": {
    "id": "bfeca8e3"
   },
   "source": [
    "I said you can use even random search so let's give it a try."
   ]
  },
  {
   "cell_type": "code",
   "execution_count": 21,
   "id": "ebd76d4b",
   "metadata": {
    "ExecuteTime": {
     "end_time": "2025-10-14T22:17:59.586530Z",
     "start_time": "2025-10-14T22:17:48.914380Z"
    },
    "id": "ebd76d4b"
   },
   "outputs": [
    {
     "name": "stdout",
     "output_type": "stream",
     "text": [
      "Best score so far: 4891.1249701984525\n",
      "Best score so far: 618.8097799103092\n",
      "Best score so far: 431.8615792097705\n",
      "Best score so far: 96.0190625838139\n",
      "Best score so far: 82.75324321999865\n",
      "Best score so far: 62.65741547601692\n",
      "Best score so far: 4.603000459405834\n",
      "Best score so far: 4.062428707113407\n",
      "Best score so far: 1.283453795896516\n"
     ]
    }
   ],
   "source": [
    "bestWeights = model.get_weights()\n",
    "pred = model.predict(x, verbose=0)\n",
    "bestError = mse(y, pred)\n",
    "bestError\n",
    "\n",
    "for _ in range(200):\n",
    "    # generate random weights\n",
    "    weights = [np.random.randn(1,1), np.random.randn(1)]\n",
    "    # use them in the model\n",
    "    model.set_weights(weights)\n",
    "    pred = model.predict(x, verbose=0)\n",
    "    # evaluate the weights\n",
    "    err = mse(y, pred)\n",
    "    if err < bestError:\n",
    "        bestError = err\n",
    "        bestWeights = model.get_weights()\n",
    "        print(\"Best score so far:\", err)\n"
   ]
  },
  {
   "cell_type": "code",
   "execution_count": 22,
   "id": "83a93991",
   "metadata": {
    "ExecuteTime": {
     "end_time": "2025-10-14T22:17:59.758559Z",
     "start_time": "2025-10-14T22:17:59.602386Z"
    },
    "id": "83a93991"
   },
   "outputs": [
    {
     "name": "stdout",
     "output_type": "stream",
     "text": [
      "\u001b[1m7/7\u001b[0m \u001b[32m━━━━━━━━━━━━━━━━━━━━\u001b[0m\u001b[37m\u001b[0m \u001b[1m0s\u001b[0m 4ms/step \n"
     ]
    },
    {
     "data": {
      "image/png": "[encoded data removed]",
      "text/plain": [
       "<Figure size 640x480 with 1 Axes>"
      ]
     },
     "metadata": {},
     "output_type": "display_data"
    }
   ],
   "source": [
    "model.set_weights(bestWeights)\n",
    "plt.plot(x,y, '.', label='data')\n",
    "plt.plot(np.sort(x,0), model.predict(np.sort(x,0)), label='prediction')\n",
    "plt.legend()\n",
    "plt.grid()\n",
    "plt.show()"
   ]
  },
  {
   "cell_type": "markdown",
   "id": "03f789d7",
   "metadata": {
    "id": "03f789d7"
   },
   "source": [
    "Ok, it looks better but there should be a better way than a random search. Of course, there is. As I said before, any optimization technique can be used here but in most cases, a version of stochastic gradient descent is used. Here we take advantage of a differentiable loss function and iteratively step by step change the weights in a direction set by gradient descent."
   ]
  },
  {
   "cell_type": "markdown",
   "id": "7b43b5f6",
   "metadata": {
    "id": "7b43b5f6"
   },
   "source": [
    "There are two parameters related to optimizing neural network weights using this algorithm: number of epochs and batch size. The batch size determines the number of rows used for one update of weights. The general rule is the higher the better. The number of epochs determines how many times we will go through the whole dataset in the training process. The total number of weights updates is size of data / batch size * number of epochs"
   ]
  },
  {
   "cell_type": "markdown",
   "id": "b2c810b9",
   "metadata": {
    "id": "b2c810b9"
   },
   "source": [
    "This function is already implemented so we just have to call the fit function. Before we have to call a compile method where we say which loss function should be used and if we want to collect some additional metrics"
   ]
  },
  {
   "cell_type": "code",
   "execution_count": 23,
   "id": "adb372be",
   "metadata": {
    "ExecuteTime": {
     "end_time": "2025-10-14T22:18:20.219815Z",
     "start_time": "2025-10-14T22:17:59.779367Z"
    },
    "id": "adb372be"
   },
   "outputs": [
    {
     "name": "stdout",
     "output_type": "stream",
     "text": [
      "Epoch 1/300\n"
     ]
    },
    {
     "name": "stderr",
     "output_type": "stream",
     "text": [
      "/home/determinator/miniconda3/envs/tf-gpu/lib/python3.12/site-packages/keras/src/layers/core/dense.py:87: UserWarning: Do not pass an `input_shape`/`input_dim` argument to a layer. When using Sequential models, prefer using an `Input(shape)` object as the first layer in the model instead.\n",
      "  super().__init__(activity_regularizer=activity_regularizer, **kwargs)\n"
     ]
    },
    {
     "name": "stdout",
     "output_type": "stream",
     "text": [
      "\u001b[1m13/13\u001b[0m \u001b[32m━━━━━━━━━━━━━━━━━━━━\u001b[0m\u001b[37m\u001b[0m \u001b[1m1s\u001b[0m 15ms/step - loss: 1109.3457 - mae: 33.1036\n",
      "Epoch 2/300\n",
      "\u001b[1m13/13\u001b[0m \u001b[32m━━━━━━━━━━━━━━━━━━━━\u001b[0m\u001b[37m\u001b[0m \u001b[1m0s\u001b[0m 4ms/step - loss: 1046.9760 - mae: 32.1144 \n",
      "Epoch 3/300\n",
      "\u001b[1m13/13\u001b[0m \u001b[32m━━━━━━━━━━━━━━━━━━━━\u001b[0m\u001b[37m\u001b[0m \u001b[1m0s\u001b[0m 5ms/step - loss: 993.5321 - mae: 31.3253 \n",
      "Epoch 4/300\n",
      "\u001b[1m13/13\u001b[0m \u001b[32m━━━━━━━━━━━━━━━━━━━━\u001b[0m\u001b[37m\u001b[0m \u001b[1m0s\u001b[0m 5ms/step - loss: 926.4003 - mae: 30.1904 \n",
      "Epoch 5/300\n",
      "\u001b[1m13/13\u001b[0m \u001b[32m━━━━━━━━━━━━━━━━━━━━\u001b[0m\u001b[37m\u001b[0m \u001b[1m0s\u001b[0m 4ms/step - loss: 903.6982 - mae: 29.8612 \n",
      "Epoch 6/300\n",
      "\u001b[1m13/13\u001b[0m \u001b[32m━━━━━━━━━━━━━━━━━━━━\u001b[0m\u001b[37m\u001b[0m \u001b[1m0s\u001b[0m 4ms/step - loss: 858.0762 - mae: 29.0779 \n",
      "Epoch 7/300\n",
      "\u001b[1m13/13\u001b[0m \u001b[32m━━━━━━━━━━━━━━━━━━━━\u001b[0m\u001b[37m\u001b[0m \u001b[1m0s\u001b[0m 4ms/step - loss: 806.3741 - mae: 28.1729 \n",
      "Epoch 8/300\n",
      "\u001b[1m13/13\u001b[0m \u001b[32m━━━━━━━━━━━━━━━━━━━━\u001b[0m\u001b[37m\u001b[0m \u001b[1m0s\u001b[0m 4ms/step - loss: 751.0535 - mae: 27.2095 \n",
      "Epoch 9/300\n",
      "\u001b[1m13/13\u001b[0m \u001b[32m━━━━━━━━━━━━━━━━━━━━\u001b[0m\u001b[37m\u001b[0m \u001b[1m0s\u001b[0m 4ms/step - loss: 723.1564 - mae: 26.6734 \n",
      "Epoch 10/300\n",
      "\u001b[1m13/13\u001b[0m \u001b[32m━━━━━━━━━━━━━━━━━━━━\u001b[0m\u001b[37m\u001b[0m \u001b[1m0s\u001b[0m 4ms/step - loss: 691.6961 - mae: 26.1006 \n",
      "Epoch 11/300\n",
      "\u001b[1m13/13\u001b[0m \u001b[32m━━━━━━━━━━━━━━━━━━━━\u001b[0m\u001b[37m\u001b[0m \u001b[1m0s\u001b[0m 4ms/step - loss: 630.0105 - mae: 24.8773 \n",
      "Epoch 12/300\n",
      "\u001b[1m13/13\u001b[0m \u001b[32m━━━━━━━━━━━━━━━━━━━━\u001b[0m\u001b[37m\u001b[0m \u001b[1m0s\u001b[0m 4ms/step - loss: 601.0134 - mae: 24.3201 \n",
      "Epoch 13/300\n",
      "\u001b[1m13/13\u001b[0m \u001b[32m━━━━━━━━━━━━━━━━━━━━\u001b[0m\u001b[37m\u001b[0m \u001b[1m0s\u001b[0m 4ms/step - loss: 563.9373 - mae: 23.5497 \n",
      "Epoch 14/300\n",
      "\u001b[1m13/13\u001b[0m \u001b[32m━━━━━━━━━━━━━━━━━━━━\u001b[0m\u001b[37m\u001b[0m \u001b[1m0s\u001b[0m 4ms/step - loss: 519.9586 - mae: 22.6025 \n",
      "Epoch 15/300\n",
      "\u001b[1m13/13\u001b[0m \u001b[32m━━━━━━━━━━━━━━━━━━━━\u001b[0m\u001b[37m\u001b[0m \u001b[1m0s\u001b[0m 4ms/step - loss: 494.9283 - mae: 22.0433 \n",
      "Epoch 16/300\n",
      "\u001b[1m13/13\u001b[0m \u001b[32m━━━━━━━━━━━━━━━━━━━━\u001b[0m\u001b[37m\u001b[0m \u001b[1m0s\u001b[0m 4ms/step - loss: 462.9230 - mae: 21.3150 \n",
      "Epoch 17/300\n",
      "\u001b[1m13/13\u001b[0m \u001b[32m━━━━━━━━━━━━━━━━━━━━\u001b[0m\u001b[37m\u001b[0m \u001b[1m0s\u001b[0m 4ms/step - loss: 417.8143 - mae: 20.2312 \n",
      "Epoch 18/300\n",
      "\u001b[1m13/13\u001b[0m \u001b[32m━━━━━━━━━━━━━━━━━━━━\u001b[0m\u001b[37m\u001b[0m \u001b[1m0s\u001b[0m 4ms/step - loss: 390.4039 - mae: 19.5739 \n",
      "Epoch 19/300\n",
      "\u001b[1m13/13\u001b[0m \u001b[32m━━━━━━━━━━━━━━━━━━━━\u001b[0m\u001b[37m\u001b[0m \u001b[1m0s\u001b[0m 3ms/step - loss: 360.4906 - mae: 18.8122 \n",
      "Epoch 20/300\n",
      "\u001b[1m13/13\u001b[0m \u001b[32m━━━━━━━━━━━━━━━━━━━━\u001b[0m\u001b[37m\u001b[0m \u001b[1m0s\u001b[0m 3ms/step - loss: 334.2119 - mae: 18.0761 \n",
      "Epoch 21/300\n",
      "\u001b[1m13/13\u001b[0m \u001b[32m━━━━━━━━━━━━━━━━━━━━\u001b[0m\u001b[37m\u001b[0m \u001b[1m0s\u001b[0m 4ms/step - loss: 308.7471 - mae: 17.4042 \n",
      "Epoch 22/300\n",
      "\u001b[1m13/13\u001b[0m \u001b[32m━━━━━━━━━━━━━━━━━━━━\u001b[0m\u001b[37m\u001b[0m \u001b[1m0s\u001b[0m 4ms/step - loss: 283.8330 - mae: 16.6636 \n",
      "Epoch 23/300\n",
      "\u001b[1m13/13\u001b[0m \u001b[32m━━━━━━━━━━━━━━━━━━━━\u001b[0m\u001b[37m\u001b[0m \u001b[1m0s\u001b[0m 4ms/step - loss: 260.2041 - mae: 15.9553 \n",
      "Epoch 24/300\n",
      "\u001b[1m13/13\u001b[0m \u001b[32m━━━━━━━━━━━━━━━━━━━━\u001b[0m\u001b[37m\u001b[0m \u001b[1m0s\u001b[0m 3ms/step - loss: 233.4854 - mae: 15.0956 \n",
      "Epoch 25/300\n",
      "\u001b[1m13/13\u001b[0m \u001b[32m━━━━━━━━━━━━━━━━━━━━\u001b[0m\u001b[37m\u001b[0m \u001b[1m0s\u001b[0m 3ms/step - loss: 210.4166 - mae: 14.3103 \n",
      "Epoch 26/300\n",
      "\u001b[1m13/13\u001b[0m \u001b[32m━━━━━━━━━━━━━━━━━━━━\u001b[0m\u001b[37m\u001b[0m \u001b[1m0s\u001b[0m 3ms/step - loss: 197.3277 - mae: 13.8702 \n",
      "Epoch 27/300\n",
      "\u001b[1m13/13\u001b[0m \u001b[32m━━━━━━━━━━━━━━━━━━━━\u001b[0m\u001b[37m\u001b[0m \u001b[1m0s\u001b[0m 4ms/step - loss: 166.0862 - mae: 12.7146 \n",
      "Epoch 28/300\n",
      "\u001b[1m13/13\u001b[0m \u001b[32m━━━━━━━━━━━━━━━━━━━━\u001b[0m\u001b[37m\u001b[0m \u001b[1m0s\u001b[0m 3ms/step - loss: 148.9405 - mae: 12.0406 \n",
      "Epoch 29/300\n",
      "\u001b[1m13/13\u001b[0m \u001b[32m━━━━━━━━━━━━━━━━━━━━\u001b[0m\u001b[37m\u001b[0m \u001b[1m0s\u001b[0m 3ms/step - loss: 134.4429 - mae: 11.4200 \n",
      "Epoch 30/300\n",
      "\u001b[1m13/13\u001b[0m \u001b[32m━━━━━━━━━━━━━━━━━━━━\u001b[0m\u001b[37m\u001b[0m \u001b[1m0s\u001b[0m 4ms/step - loss: 115.7463 - mae: 10.5535 \n",
      "Epoch 31/300\n",
      "\u001b[1m13/13\u001b[0m \u001b[32m━━━━━━━━━━━━━━━━━━━━\u001b[0m\u001b[37m\u001b[0m \u001b[1m0s\u001b[0m 3ms/step - loss: 101.0473 - mae: 9.8635 \n",
      "Epoch 32/300\n",
      "\u001b[1m13/13\u001b[0m \u001b[32m━━━━━━━━━━━━━━━━━━━━\u001b[0m\u001b[37m\u001b[0m \u001b[1m0s\u001b[0m 4ms/step - loss: 86.1055 - mae: 9.0826  \n",
      "Epoch 33/300\n",
      "\u001b[1m13/13\u001b[0m \u001b[32m━━━━━━━━━━━━━━━━━━━━\u001b[0m\u001b[37m\u001b[0m \u001b[1m0s\u001b[0m 4ms/step - loss: 73.5481 - mae: 8.3851 \n",
      "Epoch 34/300\n",
      "\u001b[1m13/13\u001b[0m \u001b[32m━━━━━━━━━━━━━━━━━━━━\u001b[0m\u001b[37m\u001b[0m \u001b[1m0s\u001b[0m 4ms/step - loss: 62.1708 - mae: 7.6899 \n",
      "Epoch 35/300\n",
      "\u001b[1m13/13\u001b[0m \u001b[32m━━━━━━━━━━━━━━━━━━━━\u001b[0m\u001b[37m\u001b[0m \u001b[1m0s\u001b[0m 4ms/step - loss: 54.3302 - mae: 7.1686 \n",
      "Epoch 36/300\n",
      "\u001b[1m13/13\u001b[0m \u001b[32m━━━━━━━━━━━━━━━━━━━━\u001b[0m\u001b[37m\u001b[0m \u001b[1m0s\u001b[0m 4ms/step - loss: 41.9680 - mae: 6.2652 \n",
      "Epoch 37/300\n",
      "\u001b[1m13/13\u001b[0m \u001b[32m━━━━━━━━━━━━━━━━━━━━\u001b[0m\u001b[37m\u001b[0m \u001b[1m0s\u001b[0m 4ms/step - loss: 33.2776 - mae: 5.5195 \n",
      "Epoch 38/300\n",
      "\u001b[1m13/13\u001b[0m \u001b[32m━━━━━━━━━━━━━━━━━━━━\u001b[0m\u001b[37m\u001b[0m \u001b[1m0s\u001b[0m 4ms/step - loss: 26.2959 - mae: 4.8917 \n",
      "Epoch 39/300\n",
      "\u001b[1m13/13\u001b[0m \u001b[32m━━━━━━━━━━━━━━━━━━━━\u001b[0m\u001b[37m\u001b[0m \u001b[1m0s\u001b[0m 4ms/step - loss: 18.6159 - mae: 4.0495 \n",
      "Epoch 40/300\n",
      "\u001b[1m13/13\u001b[0m \u001b[32m━━━━━━━━━━━━━━━━━━━━\u001b[0m\u001b[37m\u001b[0m \u001b[1m0s\u001b[0m 4ms/step - loss: 13.4146 - mae: 3.3818 \n",
      "Epoch 41/300\n",
      "\u001b[1m13/13\u001b[0m \u001b[32m━━━━━━━━━━━━━━━━━━━━\u001b[0m\u001b[37m\u001b[0m \u001b[1m0s\u001b[0m 4ms/step - loss: 8.1324 - mae: 2.5583 \n",
      "Epoch 42/300\n",
      "\u001b[1m13/13\u001b[0m \u001b[32m━━━━━━━━━━━━━━━━━━━━\u001b[0m\u001b[37m\u001b[0m \u001b[1m0s\u001b[0m 4ms/step - loss: 6.1859 - mae: 2.1910 \n",
      "Epoch 43/300\n",
      "\u001b[1m13/13\u001b[0m \u001b[32m━━━━━━━━━━━━━━━━━━━━\u001b[0m\u001b[37m\u001b[0m \u001b[1m0s\u001b[0m 4ms/step - loss: 3.8019 - mae: 1.6947 \n",
      "Epoch 44/300\n",
      "\u001b[1m13/13\u001b[0m \u001b[32m━━━━━━━━━━━━━━━━━━━━\u001b[0m\u001b[37m\u001b[0m \u001b[1m0s\u001b[0m 4ms/step - loss: 2.4126 - mae: 1.3037 \n",
      "Epoch 45/300\n",
      "\u001b[1m13/13\u001b[0m \u001b[32m━━━━━━━━━━━━━━━━━━━━\u001b[0m\u001b[37m\u001b[0m \u001b[1m0s\u001b[0m 4ms/step - loss: 1.8383 - mae: 1.1113 \n",
      "Epoch 46/300\n",
      "\u001b[1m13/13\u001b[0m \u001b[32m━━━━━━━━━━━━━━━━━━━━\u001b[0m\u001b[37m\u001b[0m \u001b[1m0s\u001b[0m 5ms/step - loss: 1.5814 - mae: 1.0558 \n",
      "Epoch 47/300\n",
      "\u001b[1m13/13\u001b[0m \u001b[32m━━━━━━━━━━━━━━━━━━━━\u001b[0m\u001b[37m\u001b[0m \u001b[1m0s\u001b[0m 4ms/step - loss: 1.5870 - mae: 1.0586 \n",
      "Epoch 48/300\n",
      "\u001b[1m13/13\u001b[0m \u001b[32m━━━━━━━━━━━━━━━━━━━━\u001b[0m\u001b[37m\u001b[0m \u001b[1m0s\u001b[0m 5ms/step - loss: 1.4873 - mae: 0.9997 \n",
      "Epoch 49/300\n",
      "\u001b[1m13/13\u001b[0m \u001b[32m━━━━━━━━━━━━━━━━━━━━\u001b[0m\u001b[37m\u001b[0m \u001b[1m0s\u001b[0m 3ms/step - loss: 1.3992 - mae: 0.9762 \n",
      "Epoch 50/300\n",
      "\u001b[1m13/13\u001b[0m \u001b[32m━━━━━━━━━━━━━━━━━━━━\u001b[0m\u001b[37m\u001b[0m \u001b[1m0s\u001b[0m 3ms/step - loss: 1.4485 - mae: 0.9899 \n",
      "Epoch 51/300\n",
      "\u001b[1m13/13\u001b[0m \u001b[32m━━━━━━━━━━━━━━━━━━━━\u001b[0m\u001b[37m\u001b[0m \u001b[1m0s\u001b[0m 5ms/step - loss: 1.5824 - mae: 1.0612 \n",
      "Epoch 52/300\n",
      "\u001b[1m13/13\u001b[0m \u001b[32m━━━━━━━━━━━━━━━━━━━━\u001b[0m\u001b[37m\u001b[0m \u001b[1m0s\u001b[0m 5ms/step - loss: 1.4708 - mae: 1.0152 \n",
      "Epoch 53/300\n",
      "\u001b[1m13/13\u001b[0m \u001b[32m━━━━━━━━━━━━━━━━━━━━\u001b[0m\u001b[37m\u001b[0m \u001b[1m0s\u001b[0m 4ms/step - loss: 1.4852 - mae: 1.0126 \n",
      "Epoch 54/300\n",
      "\u001b[1m13/13\u001b[0m \u001b[32m━━━━━━━━━━━━━━━━━━━━\u001b[0m\u001b[37m\u001b[0m \u001b[1m0s\u001b[0m 4ms/step - loss: 1.5920 - mae: 1.0391 \n",
      "Epoch 55/300\n",
      "\u001b[1m13/13\u001b[0m \u001b[32m━━━━━━━━━━━━━━━━━━━━\u001b[0m\u001b[37m\u001b[0m \u001b[1m0s\u001b[0m 5ms/step - loss: 1.5469 - mae: 1.0170 \n",
      "Epoch 56/300\n",
      "\u001b[1m13/13\u001b[0m \u001b[32m━━━━━━━━━━━━━━━━━━━━\u001b[0m\u001b[37m\u001b[0m \u001b[1m0s\u001b[0m 4ms/step - loss: 1.6064 - mae: 1.0708 \n",
      "Epoch 57/300\n",
      "\u001b[1m13/13\u001b[0m \u001b[32m━━━━━━━━━━━━━━━━━━━━\u001b[0m\u001b[37m\u001b[0m \u001b[1m0s\u001b[0m 4ms/step - loss: 1.4910 - mae: 1.0136 \n",
      "Epoch 58/300\n",
      "\u001b[1m13/13\u001b[0m \u001b[32m━━━━━━━━━━━━━━━━━━━━\u001b[0m\u001b[37m\u001b[0m \u001b[1m0s\u001b[0m 3ms/step - loss: 1.4145 - mae: 1.0082 \n",
      "Epoch 59/300\n",
      "\u001b[1m13/13\u001b[0m \u001b[32m━━━━━━━━━━━━━━━━━━━━\u001b[0m\u001b[37m\u001b[0m \u001b[1m0s\u001b[0m 4ms/step - loss: 1.5443 - mae: 1.0235 \n",
      "Epoch 60/300\n",
      "\u001b[1m13/13\u001b[0m \u001b[32m━━━━━━━━━━━━━━━━━━━━\u001b[0m\u001b[37m\u001b[0m \u001b[1m0s\u001b[0m 4ms/step - loss: 1.4609 - mae: 1.0276 \n",
      "Epoch 61/300\n",
      "\u001b[1m13/13\u001b[0m \u001b[32m━━━━━━━━━━━━━━━━━━━━\u001b[0m\u001b[37m\u001b[0m \u001b[1m0s\u001b[0m 4ms/step - loss: 1.3194 - mae: 0.9554 \n",
      "Epoch 62/300\n",
      "\u001b[1m13/13\u001b[0m \u001b[32m━━━━━━━━━━━━━━━━━━━━\u001b[0m\u001b[37m\u001b[0m \u001b[1m0s\u001b[0m 4ms/step - loss: 1.4848 - mae: 1.0271 \n",
      "Epoch 63/300\n",
      "\u001b[1m13/13\u001b[0m \u001b[32m━━━━━━━━━━━━━━━━━━━━\u001b[0m\u001b[37m\u001b[0m \u001b[1m0s\u001b[0m 4ms/step - loss: 1.5481 - mae: 1.0384 \n",
      "Epoch 64/300\n",
      "\u001b[1m13/13\u001b[0m \u001b[32m━━━━━━━━━━━━━━━━━━━━\u001b[0m\u001b[37m\u001b[0m \u001b[1m0s\u001b[0m 3ms/step - loss: 1.6588 - mae: 1.0643 \n",
      "Epoch 65/300\n",
      "\u001b[1m13/13\u001b[0m \u001b[32m━━━━━━━━━━━━━━━━━━━━\u001b[0m\u001b[37m\u001b[0m \u001b[1m0s\u001b[0m 3ms/step - loss: 1.5531 - mae: 1.0417 \n",
      "Epoch 66/300\n",
      "\u001b[1m13/13\u001b[0m \u001b[32m━━━━━━━━━━━━━━━━━━━━\u001b[0m\u001b[37m\u001b[0m \u001b[1m0s\u001b[0m 4ms/step - loss: 1.4169 - mae: 0.9717 \n",
      "Epoch 67/300\n",
      "\u001b[1m13/13\u001b[0m \u001b[32m━━━━━━━━━━━━━━━━━━━━\u001b[0m\u001b[37m\u001b[0m \u001b[1m0s\u001b[0m 4ms/step - loss: 1.6079 - mae: 1.0662 \n",
      "Epoch 68/300\n",
      "\u001b[1m13/13\u001b[0m \u001b[32m━━━━━━━━━━━━━━━━━━━━\u001b[0m\u001b[37m\u001b[0m \u001b[1m0s\u001b[0m 3ms/step - loss: 1.4764 - mae: 1.0226 \n",
      "Epoch 69/300\n",
      "\u001b[1m13/13\u001b[0m \u001b[32m━━━━━━━━━━━━━━━━━━━━\u001b[0m\u001b[37m\u001b[0m \u001b[1m0s\u001b[0m 4ms/step - loss: 1.7280 - mae: 1.0676 \n",
      "Epoch 70/300\n",
      "\u001b[1m13/13\u001b[0m \u001b[32m━━━━━━━━━━━━━━━━━━━━\u001b[0m\u001b[37m\u001b[0m \u001b[1m0s\u001b[0m 5ms/step - loss: 1.3474 - mae: 0.9798 \n",
      "Epoch 71/300\n",
      "\u001b[1m13/13\u001b[0m \u001b[32m━━━━━━━━━━━━━━━━━━━━\u001b[0m\u001b[37m\u001b[0m \u001b[1m0s\u001b[0m 4ms/step - loss: 1.5516 - mae: 1.0639 \n",
      "Epoch 72/300\n",
      "\u001b[1m13/13\u001b[0m \u001b[32m━━━━━━━━━━━━━━━━━━━━\u001b[0m\u001b[37m\u001b[0m \u001b[1m0s\u001b[0m 4ms/step - loss: 1.4512 - mae: 1.0025 \n",
      "Epoch 73/300\n",
      "\u001b[1m13/13\u001b[0m \u001b[32m━━━━━━━━━━━━━━━━━━━━\u001b[0m\u001b[37m\u001b[0m \u001b[1m0s\u001b[0m 4ms/step - loss: 1.4020 - mae: 0.9900 \n",
      "Epoch 74/300\n",
      "\u001b[1m13/13\u001b[0m \u001b[32m━━━━━━━━━━━━━━━━━━━━\u001b[0m\u001b[37m\u001b[0m \u001b[1m0s\u001b[0m 4ms/step - loss: 1.6523 - mae: 1.0561 \n",
      "Epoch 75/300\n",
      "\u001b[1m13/13\u001b[0m \u001b[32m━━━━━━━━━━━━━━━━━━━━\u001b[0m\u001b[37m\u001b[0m \u001b[1m0s\u001b[0m 3ms/step - loss: 1.6117 - mae: 1.0556 \n",
      "Epoch 76/300\n",
      "\u001b[1m13/13\u001b[0m \u001b[32m━━━━━━━━━━━━━━━━━━━━\u001b[0m\u001b[37m\u001b[0m \u001b[1m0s\u001b[0m 4ms/step - loss: 1.4483 - mae: 1.0193 \n",
      "Epoch 77/300\n",
      "\u001b[1m13/13\u001b[0m \u001b[32m━━━━━━━━━━━━━━━━━━━━\u001b[0m\u001b[37m\u001b[0m \u001b[1m0s\u001b[0m 4ms/step - loss: 1.4918 - mae: 1.0380 \n",
      "Epoch 78/300\n",
      "\u001b[1m13/13\u001b[0m \u001b[32m━━━━━━━━━━━━━━━━━━━━\u001b[0m\u001b[37m\u001b[0m \u001b[1m0s\u001b[0m 4ms/step - loss: 1.4778 - mae: 1.0536 \n",
      "Epoch 79/300\n",
      "\u001b[1m13/13\u001b[0m \u001b[32m━━━━━━━━━━━━━━━━━━━━\u001b[0m\u001b[37m\u001b[0m \u001b[1m0s\u001b[0m 4ms/step - loss: 1.4961 - mae: 1.0444 \n",
      "Epoch 80/300\n",
      "\u001b[1m13/13\u001b[0m \u001b[32m━━━━━━━━━━━━━━━━━━━━\u001b[0m\u001b[37m\u001b[0m \u001b[1m0s\u001b[0m 4ms/step - loss: 1.5594 - mae: 1.0296 \n",
      "Epoch 81/300\n",
      "\u001b[1m13/13\u001b[0m \u001b[32m━━━━━━━━━━━━━━━━━━━━\u001b[0m\u001b[37m\u001b[0m \u001b[1m0s\u001b[0m 4ms/step - loss: 1.6308 - mae: 1.0512 \n",
      "Epoch 82/300\n",
      "\u001b[1m13/13\u001b[0m \u001b[32m━━━━━━━━━━━━━━━━━━━━\u001b[0m\u001b[37m\u001b[0m \u001b[1m0s\u001b[0m 4ms/step - loss: 1.3351 - mae: 0.9669 \n",
      "Epoch 83/300\n",
      "\u001b[1m13/13\u001b[0m \u001b[32m━━━━━━━━━━━━━━━━━━━━\u001b[0m\u001b[37m\u001b[0m \u001b[1m0s\u001b[0m 3ms/step - loss: 1.5696 - mae: 1.0517 \n",
      "Epoch 84/300\n",
      "\u001b[1m13/13\u001b[0m \u001b[32m━━━━━━━━━━━━━━━━━━━━\u001b[0m\u001b[37m\u001b[0m \u001b[1m0s\u001b[0m 3ms/step - loss: 1.5128 - mae: 1.0261 \n",
      "Epoch 85/300\n",
      "\u001b[1m13/13\u001b[0m \u001b[32m━━━━━━━━━━━━━━━━━━━━\u001b[0m\u001b[37m\u001b[0m \u001b[1m0s\u001b[0m 4ms/step - loss: 1.4129 - mae: 0.9938 \n",
      "Epoch 86/300\n",
      "\u001b[1m13/13\u001b[0m \u001b[32m━━━━━━━━━━━━━━━━━━━━\u001b[0m\u001b[37m\u001b[0m \u001b[1m0s\u001b[0m 3ms/step - loss: 1.6457 - mae: 1.0780 \n",
      "Epoch 87/300\n",
      "\u001b[1m13/13\u001b[0m \u001b[32m━━━━━━━━━━━━━━━━━━━━\u001b[0m\u001b[37m\u001b[0m \u001b[1m0s\u001b[0m 4ms/step - loss: 1.4940 - mae: 1.0194 \n",
      "Epoch 88/300\n",
      "\u001b[1m13/13\u001b[0m \u001b[32m━━━━━━━━━━━━━━━━━━━━\u001b[0m\u001b[37m\u001b[0m \u001b[1m0s\u001b[0m 4ms/step - loss: 1.3736 - mae: 0.9614 \n",
      "Epoch 89/300\n",
      "\u001b[1m13/13\u001b[0m \u001b[32m━━━━━━━━━━━━━━━━━━━━\u001b[0m\u001b[37m\u001b[0m \u001b[1m0s\u001b[0m 4ms/step - loss: 1.4794 - mae: 0.9936 \n",
      "Epoch 90/300\n",
      "\u001b[1m13/13\u001b[0m \u001b[32m━━━━━━━━━━━━━━━━━━━━\u001b[0m\u001b[37m\u001b[0m \u001b[1m0s\u001b[0m 4ms/step - loss: 1.5100 - mae: 1.0254 \n",
      "Epoch 91/300\n",
      "\u001b[1m13/13\u001b[0m \u001b[32m━━━━━━━━━━━━━━━━━━━━\u001b[0m\u001b[37m\u001b[0m \u001b[1m0s\u001b[0m 4ms/step - loss: 1.5452 - mae: 1.0283 \n",
      "Epoch 92/300\n",
      "\u001b[1m13/13\u001b[0m \u001b[32m━━━━━━━━━━━━━━━━━━━━\u001b[0m\u001b[37m\u001b[0m \u001b[1m0s\u001b[0m 4ms/step - loss: 1.5047 - mae: 1.0324 \n",
      "Epoch 93/300\n",
      "\u001b[1m13/13\u001b[0m \u001b[32m━━━━━━━━━━━━━━━━━━━━\u001b[0m\u001b[37m\u001b[0m \u001b[1m0s\u001b[0m 4ms/step - loss: 1.3584 - mae: 0.9753 \n",
      "Epoch 94/300\n",
      "\u001b[1m13/13\u001b[0m \u001b[32m━━━━━━━━━━━━━━━━━━━━\u001b[0m\u001b[37m\u001b[0m \u001b[1m0s\u001b[0m 3ms/step - loss: 1.8035 - mae: 1.1381 \n",
      "Epoch 95/300\n",
      "\u001b[1m13/13\u001b[0m \u001b[32m━━━━━━━━━━━━━━━━━━━━\u001b[0m\u001b[37m\u001b[0m \u001b[1m0s\u001b[0m 4ms/step - loss: 1.5372 - mae: 1.0222 \n",
      "Epoch 96/300\n",
      "\u001b[1m13/13\u001b[0m \u001b[32m━━━━━━━━━━━━━━━━━━━━\u001b[0m\u001b[37m\u001b[0m \u001b[1m0s\u001b[0m 4ms/step - loss: 1.3560 - mae: 0.9632 \n",
      "Epoch 97/300\n",
      "\u001b[1m13/13\u001b[0m \u001b[32m━━━━━━━━━━━━━━━━━━━━\u001b[0m\u001b[37m\u001b[0m \u001b[1m0s\u001b[0m 4ms/step - loss: 1.3333 - mae: 0.9767 \n",
      "Epoch 98/300\n",
      "\u001b[1m13/13\u001b[0m \u001b[32m━━━━━━━━━━━━━━━━━━━━\u001b[0m\u001b[37m\u001b[0m \u001b[1m0s\u001b[0m 4ms/step - loss: 1.3625 - mae: 0.9646 \n",
      "Epoch 99/300\n",
      "\u001b[1m13/13\u001b[0m \u001b[32m━━━━━━━━━━━━━━━━━━━━\u001b[0m\u001b[37m\u001b[0m \u001b[1m0s\u001b[0m 3ms/step - loss: 1.4567 - mae: 1.0111 \n",
      "Epoch 100/300\n",
      "\u001b[1m13/13\u001b[0m \u001b[32m━━━━━━━━━━━━━━━━━━━━\u001b[0m\u001b[37m\u001b[0m \u001b[1m0s\u001b[0m 4ms/step - loss: 1.5127 - mae: 1.0374 \n",
      "Epoch 101/300\n",
      "\u001b[1m13/13\u001b[0m \u001b[32m━━━━━━━━━━━━━━━━━━━━\u001b[0m\u001b[37m\u001b[0m \u001b[1m0s\u001b[0m 4ms/step - loss: 1.4778 - mae: 1.0233 \n",
      "Epoch 102/300\n",
      "\u001b[1m13/13\u001b[0m \u001b[32m━━━━━━━━━━━━━━━━━━━━\u001b[0m\u001b[37m\u001b[0m \u001b[1m0s\u001b[0m 4ms/step - loss: 1.4742 - mae: 1.0229 \n",
      "Epoch 103/300\n",
      "\u001b[1m13/13\u001b[0m \u001b[32m━━━━━━━━━━━━━━━━━━━━\u001b[0m\u001b[37m\u001b[0m \u001b[1m0s\u001b[0m 4ms/step - loss: 1.4200 - mae: 1.0078 \n",
      "Epoch 104/300\n",
      "\u001b[1m13/13\u001b[0m \u001b[32m━━━━━━━━━━━━━━━━━━━━\u001b[0m\u001b[37m\u001b[0m \u001b[1m0s\u001b[0m 4ms/step - loss: 1.5031 - mae: 1.0168 \n",
      "Epoch 105/300\n",
      "\u001b[1m13/13\u001b[0m \u001b[32m━━━━━━━━━━━━━━━━━━━━\u001b[0m\u001b[37m\u001b[0m \u001b[1m0s\u001b[0m 4ms/step - loss: 1.4118 - mae: 0.9751 \n",
      "Epoch 106/300\n",
      "\u001b[1m13/13\u001b[0m \u001b[32m━━━━━━━━━━━━━━━━━━━━\u001b[0m\u001b[37m\u001b[0m \u001b[1m0s\u001b[0m 4ms/step - loss: 1.2943 - mae: 0.9192 \n",
      "Epoch 107/300\n",
      "\u001b[1m13/13\u001b[0m \u001b[32m━━━━━━━━━━━━━━━━━━━━\u001b[0m\u001b[37m\u001b[0m \u001b[1m0s\u001b[0m 4ms/step - loss: 1.3309 - mae: 0.9736 \n",
      "Epoch 108/300\n",
      "\u001b[1m13/13\u001b[0m \u001b[32m━━━━━━━━━━━━━━━━━━━━\u001b[0m\u001b[37m\u001b[0m \u001b[1m0s\u001b[0m 4ms/step - loss: 1.4333 - mae: 0.9991 \n",
      "Epoch 109/300\n",
      "\u001b[1m13/13\u001b[0m \u001b[32m━━━━━━━━━━━━━━━━━━━━\u001b[0m\u001b[37m\u001b[0m \u001b[1m0s\u001b[0m 3ms/step - loss: 1.6583 - mae: 1.0470 \n",
      "Epoch 110/300\n",
      "\u001b[1m13/13\u001b[0m \u001b[32m━━━━━━━━━━━━━━━━━━━━\u001b[0m\u001b[37m\u001b[0m \u001b[1m0s\u001b[0m 4ms/step - loss: 1.3464 - mae: 0.9726 \n",
      "Epoch 111/300\n",
      "\u001b[1m13/13\u001b[0m \u001b[32m━━━━━━━━━━━━━━━━━━━━\u001b[0m\u001b[37m\u001b[0m \u001b[1m0s\u001b[0m 3ms/step - loss: 1.7817 - mae: 1.1133 \n",
      "Epoch 112/300\n",
      "\u001b[1m13/13\u001b[0m \u001b[32m━━━━━━━━━━━━━━━━━━━━\u001b[0m\u001b[37m\u001b[0m \u001b[1m0s\u001b[0m 3ms/step - loss: 1.3849 - mae: 0.9849 \n",
      "Epoch 113/300\n",
      "\u001b[1m13/13\u001b[0m \u001b[32m━━━━━━━━━━━━━━━━━━━━\u001b[0m\u001b[37m\u001b[0m \u001b[1m0s\u001b[0m 4ms/step - loss: 1.4573 - mae: 1.0233 \n",
      "Epoch 114/300\n",
      "\u001b[1m13/13\u001b[0m \u001b[32m━━━━━━━━━━━━━━━━━━━━\u001b[0m\u001b[37m\u001b[0m \u001b[1m0s\u001b[0m 3ms/step - loss: 1.4355 - mae: 0.9978 \n",
      "Epoch 115/300\n",
      "\u001b[1m13/13\u001b[0m \u001b[32m━━━━━━━━━━━━━━━━━━━━\u001b[0m\u001b[37m\u001b[0m \u001b[1m0s\u001b[0m 3ms/step - loss: 1.6245 - mae: 1.0779 \n",
      "Epoch 116/300\n",
      "\u001b[1m13/13\u001b[0m \u001b[32m━━━━━━━━━━━━━━━━━━━━\u001b[0m\u001b[37m\u001b[0m \u001b[1m0s\u001b[0m 3ms/step - loss: 1.4275 - mae: 0.9848 \n",
      "Epoch 117/300\n",
      "\u001b[1m13/13\u001b[0m \u001b[32m━━━━━━━━━━━━━━━━━━━━\u001b[0m\u001b[37m\u001b[0m \u001b[1m0s\u001b[0m 4ms/step - loss: 1.4055 - mae: 0.9958 \n",
      "Epoch 118/300\n",
      "\u001b[1m13/13\u001b[0m \u001b[32m━━━━━━━━━━━━━━━━━━━━\u001b[0m\u001b[37m\u001b[0m \u001b[1m0s\u001b[0m 3ms/step - loss: 1.7426 - mae: 1.0667 \n",
      "Epoch 119/300\n",
      "\u001b[1m13/13\u001b[0m \u001b[32m━━━━━━━━━━━━━━━━━━━━\u001b[0m\u001b[37m\u001b[0m \u001b[1m0s\u001b[0m 3ms/step - loss: 1.5469 - mae: 1.0334 \n",
      "Epoch 120/300\n",
      "\u001b[1m13/13\u001b[0m \u001b[32m━━━━━━━━━━━━━━━━━━━━\u001b[0m\u001b[37m\u001b[0m \u001b[1m0s\u001b[0m 3ms/step - loss: 1.6372 - mae: 1.0685 \n",
      "Epoch 121/300\n",
      "\u001b[1m13/13\u001b[0m \u001b[32m━━━━━━━━━━━━━━━━━━━━\u001b[0m\u001b[37m\u001b[0m \u001b[1m0s\u001b[0m 3ms/step - loss: 1.4712 - mae: 1.0244 \n",
      "Epoch 122/300\n",
      "\u001b[1m13/13\u001b[0m \u001b[32m━━━━━━━━━━━━━━━━━━━━\u001b[0m\u001b[37m\u001b[0m \u001b[1m0s\u001b[0m 3ms/step - loss: 1.6184 - mae: 1.0516 \n",
      "Epoch 123/300\n",
      "\u001b[1m13/13\u001b[0m \u001b[32m━━━━━━━━━━━━━━━━━━━━\u001b[0m\u001b[37m\u001b[0m \u001b[1m0s\u001b[0m 3ms/step - loss: 1.5138 - mae: 1.0256 \n",
      "Epoch 124/300\n",
      "\u001b[1m13/13\u001b[0m \u001b[32m━━━━━━━━━━━━━━━━━━━━\u001b[0m\u001b[37m\u001b[0m \u001b[1m0s\u001b[0m 4ms/step - loss: 1.3140 - mae: 0.9802 \n",
      "Epoch 125/300\n",
      "\u001b[1m13/13\u001b[0m \u001b[32m━━━━━━━━━━━━━━━━━━━━\u001b[0m\u001b[37m\u001b[0m \u001b[1m0s\u001b[0m 3ms/step - loss: 1.4276 - mae: 1.0173 \n",
      "Epoch 126/300\n",
      "\u001b[1m13/13\u001b[0m \u001b[32m━━━━━━━━━━━━━━━━━━━━\u001b[0m\u001b[37m\u001b[0m \u001b[1m0s\u001b[0m 3ms/step - loss: 1.7665 - mae: 1.1082 \n",
      "Epoch 127/300\n",
      "\u001b[1m13/13\u001b[0m \u001b[32m━━━━━━━━━━━━━━━━━━━━\u001b[0m\u001b[37m\u001b[0m \u001b[1m0s\u001b[0m 4ms/step - loss: 1.5983 - mae: 1.0365 \n",
      "Epoch 128/300\n",
      "\u001b[1m13/13\u001b[0m \u001b[32m━━━━━━━━━━━━━━━━━━━━\u001b[0m\u001b[37m\u001b[0m \u001b[1m0s\u001b[0m 3ms/step - loss: 1.5267 - mae: 1.0191 \n",
      "Epoch 129/300\n",
      "\u001b[1m13/13\u001b[0m \u001b[32m━━━━━━━━━━━━━━━━━━━━\u001b[0m\u001b[37m\u001b[0m \u001b[1m0s\u001b[0m 4ms/step - loss: 1.5762 - mae: 1.0379 \n",
      "Epoch 130/300\n",
      "\u001b[1m13/13\u001b[0m \u001b[32m━━━━━━━━━━━━━━━━━━━━\u001b[0m\u001b[37m\u001b[0m \u001b[1m0s\u001b[0m 3ms/step - loss: 1.5126 - mae: 1.0208 \n",
      "Epoch 131/300\n",
      "\u001b[1m13/13\u001b[0m \u001b[32m━━━━━━━━━━━━━━━━━━━━\u001b[0m\u001b[37m\u001b[0m \u001b[1m0s\u001b[0m 3ms/step - loss: 1.4184 - mae: 1.0162 \n",
      "Epoch 132/300\n",
      "\u001b[1m13/13\u001b[0m \u001b[32m━━━━━━━━━━━━━━━━━━━━\u001b[0m\u001b[37m\u001b[0m \u001b[1m0s\u001b[0m 4ms/step - loss: 1.5143 - mae: 1.0187 \n",
      "Epoch 133/300\n",
      "\u001b[1m13/13\u001b[0m \u001b[32m━━━━━━━━━━━━━━━━━━━━\u001b[0m\u001b[37m\u001b[0m \u001b[1m0s\u001b[0m 4ms/step - loss: 1.5175 - mae: 1.0420 \n",
      "Epoch 134/300\n",
      "\u001b[1m13/13\u001b[0m \u001b[32m━━━━━━━━━━━━━━━━━━━━\u001b[0m\u001b[37m\u001b[0m \u001b[1m0s\u001b[0m 4ms/step - loss: 1.6296 - mae: 1.0459 \n",
      "Epoch 135/300\n",
      "\u001b[1m13/13\u001b[0m \u001b[32m━━━━━━━━━━━━━━━━━━━━\u001b[0m\u001b[37m\u001b[0m \u001b[1m0s\u001b[0m 4ms/step - loss: 1.5090 - mae: 1.0331 \n",
      "Epoch 136/300\n",
      "\u001b[1m13/13\u001b[0m \u001b[32m━━━━━━━━━━━━━━━━━━━━\u001b[0m\u001b[37m\u001b[0m \u001b[1m0s\u001b[0m 4ms/step - loss: 1.3971 - mae: 1.0110 \n",
      "Epoch 137/300\n",
      "\u001b[1m13/13\u001b[0m \u001b[32m━━━━━━━━━━━━━━━━━━━━\u001b[0m\u001b[37m\u001b[0m \u001b[1m0s\u001b[0m 4ms/step - loss: 1.4513 - mae: 1.0093 \n",
      "Epoch 138/300\n",
      "\u001b[1m13/13\u001b[0m \u001b[32m━━━━━━━━━━━━━━━━━━━━\u001b[0m\u001b[37m\u001b[0m \u001b[1m0s\u001b[0m 4ms/step - loss: 1.4621 - mae: 1.0015 \n",
      "Epoch 139/300\n",
      "\u001b[1m13/13\u001b[0m \u001b[32m━━━━━━━━━━━━━━━━━━━━\u001b[0m\u001b[37m\u001b[0m \u001b[1m0s\u001b[0m 4ms/step - loss: 1.6268 - mae: 1.0503 \n",
      "Epoch 140/300\n",
      "\u001b[1m13/13\u001b[0m \u001b[32m━━━━━━━━━━━━━━━━━━━━\u001b[0m\u001b[37m\u001b[0m \u001b[1m0s\u001b[0m 4ms/step - loss: 1.3997 - mae: 0.9795 \n",
      "Epoch 141/300\n",
      "\u001b[1m13/13\u001b[0m \u001b[32m━━━━━━━━━━━━━━━━━━━━\u001b[0m\u001b[37m\u001b[0m \u001b[1m0s\u001b[0m 4ms/step - loss: 1.6123 - mae: 1.0662 \n",
      "Epoch 142/300\n",
      "\u001b[1m13/13\u001b[0m \u001b[32m━━━━━━━━━━━━━━━━━━━━\u001b[0m\u001b[37m\u001b[0m \u001b[1m0s\u001b[0m 4ms/step - loss: 1.2636 - mae: 0.9438 \n",
      "Epoch 143/300\n",
      "\u001b[1m13/13\u001b[0m \u001b[32m━━━━━━━━━━━━━━━━━━━━\u001b[0m\u001b[37m\u001b[0m \u001b[1m0s\u001b[0m 4ms/step - loss: 1.6433 - mae: 1.0493 \n",
      "Epoch 144/300\n",
      "\u001b[1m13/13\u001b[0m \u001b[32m━━━━━━━━━━━━━━━━━━━━\u001b[0m\u001b[37m\u001b[0m \u001b[1m0s\u001b[0m 3ms/step - loss: 1.5081 - mae: 1.0146 \n",
      "Epoch 145/300\n",
      "\u001b[1m13/13\u001b[0m \u001b[32m━━━━━━━━━━━━━━━━━━━━\u001b[0m\u001b[37m\u001b[0m \u001b[1m0s\u001b[0m 4ms/step - loss: 1.4101 - mae: 0.9982 \n",
      "Epoch 146/300\n",
      "\u001b[1m13/13\u001b[0m \u001b[32m━━━━━━━━━━━━━━━━━━━━\u001b[0m\u001b[37m\u001b[0m \u001b[1m0s\u001b[0m 4ms/step - loss: 1.5226 - mae: 1.0336 \n",
      "Epoch 147/300\n",
      "\u001b[1m13/13\u001b[0m \u001b[32m━━━━━━━━━━━━━━━━━━━━\u001b[0m\u001b[37m\u001b[0m \u001b[1m0s\u001b[0m 4ms/step - loss: 1.3988 - mae: 0.9618 \n",
      "Epoch 148/300\n",
      "\u001b[1m13/13\u001b[0m \u001b[32m━━━━━━━━━━━━━━━━━━━━\u001b[0m\u001b[37m\u001b[0m \u001b[1m0s\u001b[0m 4ms/step - loss: 1.3862 - mae: 0.9755 \n",
      "Epoch 149/300\n",
      "\u001b[1m13/13\u001b[0m \u001b[32m━━━━━━━━━━━━━━━━━━━━\u001b[0m\u001b[37m\u001b[0m \u001b[1m0s\u001b[0m 4ms/step - loss: 1.3370 - mae: 0.9686 \n",
      "Epoch 150/300\n",
      "\u001b[1m13/13\u001b[0m \u001b[32m━━━━━━━━━━━━━━━━━━━━\u001b[0m\u001b[37m\u001b[0m \u001b[1m0s\u001b[0m 4ms/step - loss: 1.6388 - mae: 1.0664 \n",
      "Epoch 151/300\n",
      "\u001b[1m13/13\u001b[0m \u001b[32m━━━━━━━━━━━━━━━━━━━━\u001b[0m\u001b[37m\u001b[0m \u001b[1m0s\u001b[0m 3ms/step - loss: 1.4374 - mae: 1.0099 \n",
      "Epoch 152/300\n",
      "\u001b[1m13/13\u001b[0m \u001b[32m━━━━━━━━━━━━━━━━━━━━\u001b[0m\u001b[37m\u001b[0m \u001b[1m0s\u001b[0m 3ms/step - loss: 1.4701 - mae: 1.0156 \n",
      "Epoch 153/300\n",
      "\u001b[1m13/13\u001b[0m \u001b[32m━━━━━━━━━━━━━━━━━━━━\u001b[0m\u001b[37m\u001b[0m \u001b[1m0s\u001b[0m 4ms/step - loss: 1.2956 - mae: 0.9730 \n",
      "Epoch 154/300\n",
      "\u001b[1m13/13\u001b[0m \u001b[32m━━━━━━━━━━━━━━━━━━━━\u001b[0m\u001b[37m\u001b[0m \u001b[1m0s\u001b[0m 3ms/step - loss: 1.3565 - mae: 0.9940 \n",
      "Epoch 155/300\n",
      "\u001b[1m13/13\u001b[0m \u001b[32m━━━━━━━━━━━━━━━━━━━━\u001b[0m\u001b[37m\u001b[0m \u001b[1m0s\u001b[0m 4ms/step - loss: 1.6294 - mae: 1.0444 \n",
      "Epoch 156/300\n",
      "\u001b[1m13/13\u001b[0m \u001b[32m━━━━━━━━━━━━━━━━━━━━\u001b[0m\u001b[37m\u001b[0m \u001b[1m0s\u001b[0m 4ms/step - loss: 1.5069 - mae: 1.0299 \n",
      "Epoch 157/300\n",
      "\u001b[1m13/13\u001b[0m \u001b[32m━━━━━━━━━━━━━━━━━━━━\u001b[0m\u001b[37m\u001b[0m \u001b[1m0s\u001b[0m 3ms/step - loss: 1.6207 - mae: 1.0545 \n",
      "Epoch 158/300\n",
      "\u001b[1m13/13\u001b[0m \u001b[32m━━━━━━━━━━━━━━━━━━━━\u001b[0m\u001b[37m\u001b[0m \u001b[1m0s\u001b[0m 4ms/step - loss: 1.4276 - mae: 0.9951 \n",
      "Epoch 159/300\n",
      "\u001b[1m13/13\u001b[0m \u001b[32m━━━━━━━━━━━━━━━━━━━━\u001b[0m\u001b[37m\u001b[0m \u001b[1m0s\u001b[0m 4ms/step - loss: 1.3991 - mae: 0.9869 \n",
      "Epoch 160/300\n",
      "\u001b[1m13/13\u001b[0m \u001b[32m━━━━━━━━━━━━━━━━━━━━\u001b[0m\u001b[37m\u001b[0m \u001b[1m0s\u001b[0m 4ms/step - loss: 1.3564 - mae: 0.9844 \n",
      "Epoch 161/300\n",
      "\u001b[1m13/13\u001b[0m \u001b[32m━━━━━━━━━━━━━━━━━━━━\u001b[0m\u001b[37m\u001b[0m \u001b[1m0s\u001b[0m 3ms/step - loss: 1.5163 - mae: 1.0160 \n",
      "Epoch 162/300\n",
      "\u001b[1m13/13\u001b[0m \u001b[32m━━━━━━━━━━━━━━━━━━━━\u001b[0m\u001b[37m\u001b[0m \u001b[1m0s\u001b[0m 4ms/step - loss: 1.5029 - mae: 0.9907 \n",
      "Epoch 163/300\n",
      "\u001b[1m13/13\u001b[0m \u001b[32m━━━━━━━━━━━━━━━━━━━━\u001b[0m\u001b[37m\u001b[0m \u001b[1m0s\u001b[0m 3ms/step - loss: 1.3299 - mae: 0.9495 \n",
      "Epoch 164/300\n",
      "\u001b[1m13/13\u001b[0m \u001b[32m━━━━━━━━━━━━━━━━━━━━\u001b[0m\u001b[37m\u001b[0m \u001b[1m0s\u001b[0m 4ms/step - loss: 1.4993 - mae: 1.0412 \n",
      "Epoch 165/300\n",
      "\u001b[1m13/13\u001b[0m \u001b[32m━━━━━━━━━━━━━━━━━━━━\u001b[0m\u001b[37m\u001b[0m \u001b[1m0s\u001b[0m 4ms/step - loss: 1.5355 - mae: 1.0428 \n",
      "Epoch 166/300\n",
      "\u001b[1m13/13\u001b[0m \u001b[32m━━━━━━━━━━━━━━━━━━━━\u001b[0m\u001b[37m\u001b[0m \u001b[1m0s\u001b[0m 4ms/step - loss: 1.6162 - mae: 1.0454 \n",
      "Epoch 167/300\n",
      "\u001b[1m13/13\u001b[0m \u001b[32m━━━━━━━━━━━━━━━━━━━━\u001b[0m\u001b[37m\u001b[0m \u001b[1m0s\u001b[0m 5ms/step - loss: 1.4274 - mae: 1.0202 \n",
      "Epoch 168/300\n",
      "\u001b[1m13/13\u001b[0m \u001b[32m━━━━━━━━━━━━━━━━━━━━\u001b[0m\u001b[37m\u001b[0m \u001b[1m0s\u001b[0m 4ms/step - loss: 1.2780 - mae: 0.9421 \n",
      "Epoch 169/300\n",
      "\u001b[1m13/13\u001b[0m \u001b[32m━━━━━━━━━━━━━━━━━━━━\u001b[0m\u001b[37m\u001b[0m \u001b[1m0s\u001b[0m 4ms/step - loss: 1.4231 - mae: 0.9866 \n",
      "Epoch 170/300\n",
      "\u001b[1m13/13\u001b[0m \u001b[32m━━━━━━━━━━━━━━━━━━━━\u001b[0m\u001b[37m\u001b[0m \u001b[1m0s\u001b[0m 4ms/step - loss: 1.4634 - mae: 1.0311 \n",
      "Epoch 171/300\n",
      "\u001b[1m13/13\u001b[0m \u001b[32m━━━━━━━━━━━━━━━━━━━━\u001b[0m\u001b[37m\u001b[0m \u001b[1m0s\u001b[0m 5ms/step - loss: 1.5969 - mae: 1.0402 \n",
      "Epoch 172/300\n",
      "\u001b[1m13/13\u001b[0m \u001b[32m━━━━━━━━━━━━━━━━━━━━\u001b[0m\u001b[37m\u001b[0m \u001b[1m0s\u001b[0m 3ms/step - loss: 1.4426 - mae: 1.0137 \n",
      "Epoch 173/300\n",
      "\u001b[1m13/13\u001b[0m \u001b[32m━━━━━━━━━━━━━━━━━━━━\u001b[0m\u001b[37m\u001b[0m \u001b[1m0s\u001b[0m 3ms/step - loss: 1.4099 - mae: 1.0049 \n",
      "Epoch 174/300\n",
      "\u001b[1m13/13\u001b[0m \u001b[32m━━━━━━━━━━━━━━━━━━━━\u001b[0m\u001b[37m\u001b[0m \u001b[1m0s\u001b[0m 4ms/step - loss: 1.4923 - mae: 1.0026 \n",
      "Epoch 175/300\n",
      "\u001b[1m13/13\u001b[0m \u001b[32m━━━━━━━━━━━━━━━━━━━━\u001b[0m\u001b[37m\u001b[0m \u001b[1m0s\u001b[0m 5ms/step - loss: 1.3566 - mae: 0.9914 \n",
      "Epoch 176/300\n",
      "\u001b[1m13/13\u001b[0m \u001b[32m━━━━━━━━━━━━━━━━━━━━\u001b[0m\u001b[37m\u001b[0m \u001b[1m0s\u001b[0m 4ms/step - loss: 1.7225 - mae: 1.0709 \n",
      "Epoch 177/300\n",
      "\u001b[1m13/13\u001b[0m \u001b[32m━━━━━━━━━━━━━━━━━━━━\u001b[0m\u001b[37m\u001b[0m \u001b[1m0s\u001b[0m 4ms/step - loss: 1.5485 - mae: 1.0503 \n",
      "Epoch 178/300\n",
      "\u001b[1m13/13\u001b[0m \u001b[32m━━━━━━━━━━━━━━━━━━━━\u001b[0m\u001b[37m\u001b[0m \u001b[1m0s\u001b[0m 4ms/step - loss: 1.4791 - mae: 1.0189 \n",
      "Epoch 179/300\n",
      "\u001b[1m13/13\u001b[0m \u001b[32m━━━━━━━━━━━━━━━━━━━━\u001b[0m\u001b[37m\u001b[0m \u001b[1m0s\u001b[0m 4ms/step - loss: 1.6684 - mae: 1.0885 \n",
      "Epoch 180/300\n",
      "\u001b[1m13/13\u001b[0m \u001b[32m━━━━━━━━━━━━━━━━━━━━\u001b[0m\u001b[37m\u001b[0m \u001b[1m0s\u001b[0m 4ms/step - loss: 1.4931 - mae: 1.0444 \n",
      "Epoch 181/300\n",
      "\u001b[1m13/13\u001b[0m \u001b[32m━━━━━━━━━━━━━━━━━━━━\u001b[0m\u001b[37m\u001b[0m \u001b[1m0s\u001b[0m 3ms/step - loss: 1.3292 - mae: 0.9704 \n",
      "Epoch 182/300\n",
      "\u001b[1m13/13\u001b[0m \u001b[32m━━━━━━━━━━━━━━━━━━━━\u001b[0m\u001b[37m\u001b[0m \u001b[1m0s\u001b[0m 4ms/step - loss: 1.6881 - mae: 1.0864 \n",
      "Epoch 183/300\n",
      "\u001b[1m13/13\u001b[0m \u001b[32m━━━━━━━━━━━━━━━━━━━━\u001b[0m\u001b[37m\u001b[0m \u001b[1m0s\u001b[0m 4ms/step - loss: 1.4833 - mae: 1.0060 \n",
      "Epoch 184/300\n",
      "\u001b[1m13/13\u001b[0m \u001b[32m━━━━━━━━━━━━━━━━━━━━\u001b[0m\u001b[37m\u001b[0m \u001b[1m0s\u001b[0m 3ms/step - loss: 1.5269 - mae: 1.0241 \n",
      "Epoch 185/300\n",
      "\u001b[1m13/13\u001b[0m \u001b[32m━━━━━━━━━━━━━━━━━━━━\u001b[0m\u001b[37m\u001b[0m \u001b[1m0s\u001b[0m 4ms/step - loss: 1.8239 - mae: 1.1165 \n",
      "Epoch 186/300\n",
      "\u001b[1m13/13\u001b[0m \u001b[32m━━━━━━━━━━━━━━━━━━━━\u001b[0m\u001b[37m\u001b[0m \u001b[1m0s\u001b[0m 5ms/step - loss: 1.6862 - mae: 1.0881 \n",
      "Epoch 187/300\n",
      "\u001b[1m13/13\u001b[0m \u001b[32m━━━━━━━━━━━━━━━━━━━━\u001b[0m\u001b[37m\u001b[0m \u001b[1m0s\u001b[0m 5ms/step - loss: 1.4946 - mae: 1.0005 \n",
      "Epoch 188/300\n",
      "\u001b[1m13/13\u001b[0m \u001b[32m━━━━━━━━━━━━━━━━━━━━\u001b[0m\u001b[37m\u001b[0m \u001b[1m0s\u001b[0m 4ms/step - loss: 1.2592 - mae: 0.9600 \n",
      "Epoch 189/300\n",
      "\u001b[1m13/13\u001b[0m \u001b[32m━━━━━━━━━━━━━━━━━━━━\u001b[0m\u001b[37m\u001b[0m \u001b[1m0s\u001b[0m 4ms/step - loss: 1.4899 - mae: 1.0236 \n",
      "Epoch 190/300\n",
      "\u001b[1m13/13\u001b[0m \u001b[32m━━━━━━━━━━━━━━━━━━━━\u001b[0m\u001b[37m\u001b[0m \u001b[1m0s\u001b[0m 4ms/step - loss: 1.4511 - mae: 1.0063 \n",
      "Epoch 191/300\n",
      "\u001b[1m13/13\u001b[0m \u001b[32m━━━━━━━━━━━━━━━━━━━━\u001b[0m\u001b[37m\u001b[0m \u001b[1m0s\u001b[0m 4ms/step - loss: 1.3455 - mae: 0.9748 \n",
      "Epoch 192/300\n",
      "\u001b[1m13/13\u001b[0m \u001b[32m━━━━━━━━━━━━━━━━━━━━\u001b[0m\u001b[37m\u001b[0m \u001b[1m0s\u001b[0m 3ms/step - loss: 1.3648 - mae: 0.9880 \n",
      "Epoch 193/300\n",
      "\u001b[1m13/13\u001b[0m \u001b[32m━━━━━━━━━━━━━━━━━━━━\u001b[0m\u001b[37m\u001b[0m \u001b[1m0s\u001b[0m 4ms/step - loss: 1.4363 - mae: 1.0154 \n",
      "Epoch 194/300\n",
      "\u001b[1m13/13\u001b[0m \u001b[32m━━━━━━━━━━━━━━━━━━━━\u001b[0m\u001b[37m\u001b[0m \u001b[1m0s\u001b[0m 4ms/step - loss: 1.5021 - mae: 1.0376 \n",
      "Epoch 195/300\n",
      "\u001b[1m13/13\u001b[0m \u001b[32m━━━━━━━━━━━━━━━━━━━━\u001b[0m\u001b[37m\u001b[0m \u001b[1m0s\u001b[0m 3ms/step - loss: 1.6097 - mae: 1.0439 \n",
      "Epoch 196/300\n",
      "\u001b[1m13/13\u001b[0m \u001b[32m━━━━━━━━━━━━━━━━━━━━\u001b[0m\u001b[37m\u001b[0m \u001b[1m0s\u001b[0m 4ms/step - loss: 1.5829 - mae: 1.0448 \n",
      "Epoch 197/300\n",
      "\u001b[1m13/13\u001b[0m \u001b[32m━━━━━━━━━━━━━━━━━━━━\u001b[0m\u001b[37m\u001b[0m \u001b[1m0s\u001b[0m 3ms/step - loss: 1.5525 - mae: 1.0332 \n",
      "Epoch 198/300\n",
      "\u001b[1m13/13\u001b[0m \u001b[32m━━━━━━━━━━━━━━━━━━━━\u001b[0m\u001b[37m\u001b[0m \u001b[1m0s\u001b[0m 4ms/step - loss: 1.5516 - mae: 1.0577 \n",
      "Epoch 199/300\n",
      "\u001b[1m13/13\u001b[0m \u001b[32m━━━━━━━━━━━━━━━━━━━━\u001b[0m\u001b[37m\u001b[0m \u001b[1m0s\u001b[0m 3ms/step - loss: 1.4841 - mae: 1.0168 \n",
      "Epoch 200/300\n",
      "\u001b[1m13/13\u001b[0m \u001b[32m━━━━━━━━━━━━━━━━━━━━\u001b[0m\u001b[37m\u001b[0m \u001b[1m0s\u001b[0m 3ms/step - loss: 1.4826 - mae: 1.0128 \n",
      "Epoch 201/300\n",
      "\u001b[1m13/13\u001b[0m \u001b[32m━━━━━━━━━━━━━━━━━━━━\u001b[0m\u001b[37m\u001b[0m \u001b[1m0s\u001b[0m 4ms/step - loss: 1.6390 - mae: 1.0748 \n",
      "Epoch 202/300\n",
      "\u001b[1m13/13\u001b[0m \u001b[32m━━━━━━━━━━━━━━━━━━━━\u001b[0m\u001b[37m\u001b[0m \u001b[1m0s\u001b[0m 4ms/step - loss: 1.5213 - mae: 1.0328 \n",
      "Epoch 203/300\n",
      "\u001b[1m13/13\u001b[0m \u001b[32m━━━━━━━━━━━━━━━━━━━━\u001b[0m\u001b[37m\u001b[0m \u001b[1m0s\u001b[0m 3ms/step - loss: 1.5094 - mae: 1.0412 \n",
      "Epoch 204/300\n",
      "\u001b[1m13/13\u001b[0m \u001b[32m━━━━━━━━━━━━━━━━━━━━\u001b[0m\u001b[37m\u001b[0m \u001b[1m0s\u001b[0m 3ms/step - loss: 1.3861 - mae: 0.9858 \n",
      "Epoch 205/300\n",
      "\u001b[1m13/13\u001b[0m \u001b[32m━━━━━━━━━━━━━━━━━━━━\u001b[0m\u001b[37m\u001b[0m \u001b[1m0s\u001b[0m 3ms/step - loss: 1.4745 - mae: 1.0299 \n",
      "Epoch 206/300\n",
      "\u001b[1m13/13\u001b[0m \u001b[32m━━━━━━━━━━━━━━━━━━━━\u001b[0m\u001b[37m\u001b[0m \u001b[1m0s\u001b[0m 3ms/step - loss: 1.5896 - mae: 1.0409 \n",
      "Epoch 207/300\n",
      "\u001b[1m13/13\u001b[0m \u001b[32m━━━━━━━━━━━━━━━━━━━━\u001b[0m\u001b[37m\u001b[0m \u001b[1m0s\u001b[0m 3ms/step - loss: 1.3968 - mae: 0.9865 \n",
      "Epoch 208/300\n",
      "\u001b[1m13/13\u001b[0m \u001b[32m━━━━━━━━━━━━━━━━━━━━\u001b[0m\u001b[37m\u001b[0m \u001b[1m0s\u001b[0m 3ms/step - loss: 1.5376 - mae: 1.0302 \n",
      "Epoch 209/300\n",
      "\u001b[1m13/13\u001b[0m \u001b[32m━━━━━━━━━━━━━━━━━━━━\u001b[0m\u001b[37m\u001b[0m \u001b[1m0s\u001b[0m 4ms/step - loss: 1.5111 - mae: 1.0061 \n",
      "Epoch 210/300\n",
      "\u001b[1m13/13\u001b[0m \u001b[32m━━━━━━━━━━━━━━━━━━━━\u001b[0m\u001b[37m\u001b[0m \u001b[1m0s\u001b[0m 4ms/step - loss: 1.5460 - mae: 1.0350 \n",
      "Epoch 211/300\n",
      "\u001b[1m13/13\u001b[0m \u001b[32m━━━━━━━━━━━━━━━━━━━━\u001b[0m\u001b[37m\u001b[0m \u001b[1m0s\u001b[0m 5ms/step - loss: 1.4865 - mae: 1.0175 \n",
      "Epoch 212/300\n",
      "\u001b[1m13/13\u001b[0m \u001b[32m━━━━━━━━━━━━━━━━━━━━\u001b[0m\u001b[37m\u001b[0m \u001b[1m0s\u001b[0m 5ms/step - loss: 1.3784 - mae: 0.9800 \n",
      "Epoch 213/300\n",
      "\u001b[1m13/13\u001b[0m \u001b[32m━━━━━━━━━━━━━━━━━━━━\u001b[0m\u001b[37m\u001b[0m \u001b[1m0s\u001b[0m 4ms/step - loss: 1.7075 - mae: 1.1082 \n",
      "Epoch 214/300\n",
      "\u001b[1m13/13\u001b[0m \u001b[32m━━━━━━━━━━━━━━━━━━━━\u001b[0m\u001b[37m\u001b[0m \u001b[1m0s\u001b[0m 4ms/step - loss: 1.3097 - mae: 0.9785 \n",
      "Epoch 215/300\n",
      "\u001b[1m13/13\u001b[0m \u001b[32m━━━━━━━━━━━━━━━━━━━━\u001b[0m\u001b[37m\u001b[0m \u001b[1m0s\u001b[0m 4ms/step - loss: 1.3053 - mae: 0.9563 \n",
      "Epoch 216/300\n",
      "\u001b[1m13/13\u001b[0m \u001b[32m━━━━━━━━━━━━━━━━━━━━\u001b[0m\u001b[37m\u001b[0m \u001b[1m0s\u001b[0m 3ms/step - loss: 1.4827 - mae: 1.0253 \n",
      "Epoch 217/300\n",
      "\u001b[1m13/13\u001b[0m \u001b[32m━━━━━━━━━━━━━━━━━━━━\u001b[0m\u001b[37m\u001b[0m \u001b[1m0s\u001b[0m 4ms/step - loss: 1.5708 - mae: 1.0320 \n",
      "Epoch 218/300\n",
      "\u001b[1m13/13\u001b[0m \u001b[32m━━━━━━━━━━━━━━━━━━━━\u001b[0m\u001b[37m\u001b[0m \u001b[1m0s\u001b[0m 4ms/step - loss: 1.4878 - mae: 1.0389 \n",
      "Epoch 219/300\n",
      "\u001b[1m13/13\u001b[0m \u001b[32m━━━━━━━━━━━━━━━━━━━━\u001b[0m\u001b[37m\u001b[0m \u001b[1m0s\u001b[0m 4ms/step - loss: 1.3830 - mae: 0.9892 \n",
      "Epoch 220/300\n",
      "\u001b[1m13/13\u001b[0m \u001b[32m━━━━━━━━━━━━━━━━━━━━\u001b[0m\u001b[37m\u001b[0m \u001b[1m0s\u001b[0m 4ms/step - loss: 1.4398 - mae: 1.0009 \n",
      "Epoch 221/300\n",
      "\u001b[1m13/13\u001b[0m \u001b[32m━━━━━━━━━━━━━━━━━━━━\u001b[0m\u001b[37m\u001b[0m \u001b[1m0s\u001b[0m 4ms/step - loss: 1.4751 - mae: 1.0432 \n",
      "Epoch 222/300\n",
      "\u001b[1m13/13\u001b[0m \u001b[32m━━━━━━━━━━━━━━━━━━━━\u001b[0m\u001b[37m\u001b[0m \u001b[1m0s\u001b[0m 4ms/step - loss: 1.5811 - mae: 1.0448 \n",
      "Epoch 223/300\n",
      "\u001b[1m13/13\u001b[0m \u001b[32m━━━━━━━━━━━━━━━━━━━━\u001b[0m\u001b[37m\u001b[0m \u001b[1m0s\u001b[0m 4ms/step - loss: 1.4475 - mae: 1.0176 \n",
      "Epoch 224/300\n",
      "\u001b[1m13/13\u001b[0m \u001b[32m━━━━━━━━━━━━━━━━━━━━\u001b[0m\u001b[37m\u001b[0m \u001b[1m0s\u001b[0m 4ms/step - loss: 1.3709 - mae: 0.9784 \n",
      "Epoch 225/300\n",
      "\u001b[1m13/13\u001b[0m \u001b[32m━━━━━━━━━━━━━━━━━━━━\u001b[0m\u001b[37m\u001b[0m \u001b[1m0s\u001b[0m 4ms/step - loss: 1.2203 - mae: 0.9218 \n",
      "Epoch 226/300\n",
      "\u001b[1m13/13\u001b[0m \u001b[32m━━━━━━━━━━━━━━━━━━━━\u001b[0m\u001b[37m\u001b[0m \u001b[1m0s\u001b[0m 4ms/step - loss: 1.5262 - mae: 1.0259 \n",
      "Epoch 227/300\n",
      "\u001b[1m13/13\u001b[0m \u001b[32m━━━━━━━━━━━━━━━━━━━━\u001b[0m\u001b[37m\u001b[0m \u001b[1m0s\u001b[0m 6ms/step - loss: 1.5025 - mae: 1.0411\n",
      "Epoch 228/300\n",
      "\u001b[1m13/13\u001b[0m \u001b[32m━━━━━━━━━━━━━━━━━━━━\u001b[0m\u001b[37m\u001b[0m \u001b[1m0s\u001b[0m 4ms/step - loss: 1.3864 - mae: 1.0108 \n",
      "Epoch 229/300\n",
      "\u001b[1m13/13\u001b[0m \u001b[32m━━━━━━━━━━━━━━━━━━━━\u001b[0m\u001b[37m\u001b[0m \u001b[1m0s\u001b[0m 4ms/step - loss: 1.3966 - mae: 0.9935 \n",
      "Epoch 230/300\n",
      "\u001b[1m13/13\u001b[0m \u001b[32m━━━━━━━━━━━━━━━━━━━━\u001b[0m\u001b[37m\u001b[0m \u001b[1m0s\u001b[0m 3ms/step - loss: 1.6208 - mae: 1.0842 \n",
      "Epoch 231/300\n",
      "\u001b[1m13/13\u001b[0m \u001b[32m━━━━━━━━━━━━━━━━━━━━\u001b[0m\u001b[37m\u001b[0m \u001b[1m0s\u001b[0m 3ms/step - loss: 1.3610 - mae: 0.9727 \n",
      "Epoch 232/300\n",
      "\u001b[1m13/13\u001b[0m \u001b[32m━━━━━━━━━━━━━━━━━━━━\u001b[0m\u001b[37m\u001b[0m \u001b[1m0s\u001b[0m 4ms/step - loss: 1.1587 - mae: 0.9031 \n",
      "Epoch 233/300\n",
      "\u001b[1m13/13\u001b[0m \u001b[32m━━━━━━━━━━━━━━━━━━━━\u001b[0m\u001b[37m\u001b[0m \u001b[1m0s\u001b[0m 4ms/step - loss: 1.5666 - mae: 1.0362 \n",
      "Epoch 234/300\n",
      "\u001b[1m13/13\u001b[0m \u001b[32m━━━━━━━━━━━━━━━━━━━━\u001b[0m\u001b[37m\u001b[0m \u001b[1m0s\u001b[0m 3ms/step - loss: 1.4781 - mae: 1.0448 \n",
      "Epoch 235/300\n",
      "\u001b[1m13/13\u001b[0m \u001b[32m━━━━━━━━━━━━━━━━━━━━\u001b[0m\u001b[37m\u001b[0m \u001b[1m0s\u001b[0m 4ms/step - loss: 1.2925 - mae: 0.9574 \n",
      "Epoch 236/300\n",
      "\u001b[1m13/13\u001b[0m \u001b[32m━━━━━━━━━━━━━━━━━━━━\u001b[0m\u001b[37m\u001b[0m \u001b[1m0s\u001b[0m 3ms/step - loss: 1.4514 - mae: 1.0141 \n",
      "Epoch 237/300\n",
      "\u001b[1m13/13\u001b[0m \u001b[32m━━━━━━━━━━━━━━━━━━━━\u001b[0m\u001b[37m\u001b[0m \u001b[1m0s\u001b[0m 4ms/step - loss: 1.4211 - mae: 0.9938 \n",
      "Epoch 238/300\n",
      "\u001b[1m13/13\u001b[0m \u001b[32m━━━━━━━━━━━━━━━━━━━━\u001b[0m\u001b[37m\u001b[0m \u001b[1m0s\u001b[0m 4ms/step - loss: 1.5743 - mae: 1.0355 \n",
      "Epoch 239/300\n",
      "\u001b[1m13/13\u001b[0m \u001b[32m━━━━━━━━━━━━━━━━━━━━\u001b[0m\u001b[37m\u001b[0m \u001b[1m0s\u001b[0m 4ms/step - loss: 1.3065 - mae: 0.9492 \n",
      "Epoch 240/300\n",
      "\u001b[1m13/13\u001b[0m \u001b[32m━━━━━━━━━━━━━━━━━━━━\u001b[0m\u001b[37m\u001b[0m \u001b[1m0s\u001b[0m 4ms/step - loss: 1.3773 - mae: 0.9899 \n",
      "Epoch 241/300\n",
      "\u001b[1m13/13\u001b[0m \u001b[32m━━━━━━━━━━━━━━━━━━━━\u001b[0m\u001b[37m\u001b[0m \u001b[1m0s\u001b[0m 4ms/step - loss: 1.4095 - mae: 0.9730 \n",
      "Epoch 242/300\n",
      "\u001b[1m13/13\u001b[0m \u001b[32m━━━━━━━━━━━━━━━━━━━━\u001b[0m\u001b[37m\u001b[0m \u001b[1m0s\u001b[0m 3ms/step - loss: 1.3644 - mae: 0.9781 \n",
      "Epoch 243/300\n",
      "\u001b[1m13/13\u001b[0m \u001b[32m━━━━━━━━━━━━━━━━━━━━\u001b[0m\u001b[37m\u001b[0m \u001b[1m0s\u001b[0m 3ms/step - loss: 1.4233 - mae: 1.0039 \n",
      "Epoch 244/300\n",
      "\u001b[1m13/13\u001b[0m \u001b[32m━━━━━━━━━━━━━━━━━━━━\u001b[0m\u001b[37m\u001b[0m \u001b[1m0s\u001b[0m 3ms/step - loss: 1.5357 - mae: 1.0174 \n",
      "Epoch 245/300\n",
      "\u001b[1m13/13\u001b[0m \u001b[32m━━━━━━━━━━━━━━━━━━━━\u001b[0m\u001b[37m\u001b[0m \u001b[1m0s\u001b[0m 4ms/step - loss: 1.5073 - mae: 1.0232 \n",
      "Epoch 246/300\n",
      "\u001b[1m13/13\u001b[0m \u001b[32m━━━━━━━━━━━━━━━━━━━━\u001b[0m\u001b[37m\u001b[0m \u001b[1m0s\u001b[0m 4ms/step - loss: 1.6056 - mae: 1.0748 \n",
      "Epoch 247/300\n",
      "\u001b[1m13/13\u001b[0m \u001b[32m━━━━━━━━━━━━━━━━━━━━\u001b[0m\u001b[37m\u001b[0m \u001b[1m0s\u001b[0m 3ms/step - loss: 1.4162 - mae: 0.9897 \n",
      "Epoch 248/300\n",
      "\u001b[1m13/13\u001b[0m \u001b[32m━━━━━━━━━━━━━━━━━━━━\u001b[0m\u001b[37m\u001b[0m \u001b[1m0s\u001b[0m 3ms/step - loss: 1.5909 - mae: 1.0626 \n",
      "Epoch 249/300\n",
      "\u001b[1m13/13\u001b[0m \u001b[32m━━━━━━━━━━━━━━━━━━━━\u001b[0m\u001b[37m\u001b[0m \u001b[1m0s\u001b[0m 4ms/step - loss: 1.5116 - mae: 1.0171 \n",
      "Epoch 250/300\n",
      "\u001b[1m13/13\u001b[0m \u001b[32m━━━━━━━━━━━━━━━━━━━━\u001b[0m\u001b[37m\u001b[0m \u001b[1m0s\u001b[0m 4ms/step - loss: 1.3589 - mae: 0.9818 \n",
      "Epoch 251/300\n",
      "\u001b[1m13/13\u001b[0m \u001b[32m━━━━━━━━━━━━━━━━━━━━\u001b[0m\u001b[37m\u001b[0m \u001b[1m0s\u001b[0m 3ms/step - loss: 1.4844 - mae: 1.0191 \n",
      "Epoch 252/300\n",
      "\u001b[1m13/13\u001b[0m \u001b[32m━━━━━━━━━━━━━━━━━━━━\u001b[0m\u001b[37m\u001b[0m \u001b[1m0s\u001b[0m 4ms/step - loss: 1.4810 - mae: 1.0173 \n",
      "Epoch 253/300\n",
      "\u001b[1m13/13\u001b[0m \u001b[32m━━━━━━━━━━━━━━━━━━━━\u001b[0m\u001b[37m\u001b[0m \u001b[1m0s\u001b[0m 4ms/step - loss: 1.4489 - mae: 1.0256 \n",
      "Epoch 254/300\n",
      "\u001b[1m13/13\u001b[0m \u001b[32m━━━━━━━━━━━━━━━━━━━━\u001b[0m\u001b[37m\u001b[0m \u001b[1m0s\u001b[0m 4ms/step - loss: 1.4801 - mae: 1.0330 \n",
      "Epoch 255/300\n",
      "\u001b[1m13/13\u001b[0m \u001b[32m━━━━━━━━━━━━━━━━━━━━\u001b[0m\u001b[37m\u001b[0m \u001b[1m0s\u001b[0m 4ms/step - loss: 1.4161 - mae: 1.0083 \n",
      "Epoch 256/300\n",
      "\u001b[1m13/13\u001b[0m \u001b[32m━━━━━━━━━━━━━━━━━━━━\u001b[0m\u001b[37m\u001b[0m \u001b[1m0s\u001b[0m 4ms/step - loss: 1.6066 - mae: 1.0531 \n",
      "Epoch 257/300\n",
      "\u001b[1m13/13\u001b[0m \u001b[32m━━━━━━━━━━━━━━━━━━━━\u001b[0m\u001b[37m\u001b[0m \u001b[1m0s\u001b[0m 4ms/step - loss: 1.6336 - mae: 1.0413 \n",
      "Epoch 258/300\n",
      "\u001b[1m13/13\u001b[0m \u001b[32m━━━━━━━━━━━━━━━━━━━━\u001b[0m\u001b[37m\u001b[0m \u001b[1m0s\u001b[0m 4ms/step - loss: 1.7799 - mae: 1.1223 \n",
      "Epoch 259/300\n",
      "\u001b[1m13/13\u001b[0m \u001b[32m━━━━━━━━━━━━━━━━━━━━\u001b[0m\u001b[37m\u001b[0m \u001b[1m0s\u001b[0m 4ms/step - loss: 1.4724 - mae: 1.0139 \n",
      "Epoch 260/300\n",
      "\u001b[1m13/13\u001b[0m \u001b[32m━━━━━━━━━━━━━━━━━━━━\u001b[0m\u001b[37m\u001b[0m \u001b[1m0s\u001b[0m 4ms/step - loss: 1.5070 - mae: 1.0183 \n",
      "Epoch 261/300\n",
      "\u001b[1m13/13\u001b[0m \u001b[32m━━━━━━━━━━━━━━━━━━━━\u001b[0m\u001b[37m\u001b[0m \u001b[1m0s\u001b[0m 4ms/step - loss: 1.5581 - mae: 1.0408 \n",
      "Epoch 262/300\n",
      "\u001b[1m13/13\u001b[0m \u001b[32m━━━━━━━━━━━━━━━━━━━━\u001b[0m\u001b[37m\u001b[0m \u001b[1m0s\u001b[0m 4ms/step - loss: 1.4418 - mae: 1.0063 \n",
      "Epoch 263/300\n",
      "\u001b[1m13/13\u001b[0m \u001b[32m━━━━━━━━━━━━━━━━━━━━\u001b[0m\u001b[37m\u001b[0m \u001b[1m0s\u001b[0m 4ms/step - loss: 1.5905 - mae: 1.0426 \n",
      "Epoch 264/300\n",
      "\u001b[1m13/13\u001b[0m \u001b[32m━━━━━━━━━━━━━━━━━━━━\u001b[0m\u001b[37m\u001b[0m \u001b[1m0s\u001b[0m 5ms/step - loss: 1.3733 - mae: 0.9736 \n",
      "Epoch 265/300\n",
      "\u001b[1m13/13\u001b[0m \u001b[32m━━━━━━━━━━━━━━━━━━━━\u001b[0m\u001b[37m\u001b[0m \u001b[1m0s\u001b[0m 4ms/step - loss: 1.4545 - mae: 1.0083 \n",
      "Epoch 266/300\n",
      "\u001b[1m13/13\u001b[0m \u001b[32m━━━━━━━━━━━━━━━━━━━━\u001b[0m\u001b[37m\u001b[0m \u001b[1m0s\u001b[0m 4ms/step - loss: 1.2487 - mae: 0.9450 \n",
      "Epoch 267/300\n",
      "\u001b[1m13/13\u001b[0m \u001b[32m━━━━━━━━━━━━━━━━━━━━\u001b[0m\u001b[37m\u001b[0m \u001b[1m0s\u001b[0m 4ms/step - loss: 1.3359 - mae: 0.9637 \n",
      "Epoch 268/300\n",
      "\u001b[1m13/13\u001b[0m \u001b[32m━━━━━━━━━━━━━━━━━━━━\u001b[0m\u001b[37m\u001b[0m \u001b[1m0s\u001b[0m 3ms/step - loss: 1.4854 - mae: 1.0360 \n",
      "Epoch 269/300\n",
      "\u001b[1m13/13\u001b[0m \u001b[32m━━━━━━━━━━━━━━━━━━━━\u001b[0m\u001b[37m\u001b[0m \u001b[1m0s\u001b[0m 3ms/step - loss: 1.6081 - mae: 1.0528 \n",
      "Epoch 270/300\n",
      "\u001b[1m13/13\u001b[0m \u001b[32m━━━━━━━━━━━━━━━━━━━━\u001b[0m\u001b[37m\u001b[0m \u001b[1m0s\u001b[0m 3ms/step - loss: 1.3928 - mae: 0.9889 \n",
      "Epoch 271/300\n",
      "\u001b[1m13/13\u001b[0m \u001b[32m━━━━━━━━━━━━━━━━━━━━\u001b[0m\u001b[37m\u001b[0m \u001b[1m0s\u001b[0m 3ms/step - loss: 1.4963 - mae: 1.0460 \n",
      "Epoch 272/300\n",
      "\u001b[1m13/13\u001b[0m \u001b[32m━━━━━━━━━━━━━━━━━━━━\u001b[0m\u001b[37m\u001b[0m \u001b[1m0s\u001b[0m 4ms/step - loss: 1.3831 - mae: 0.9791 \n",
      "Epoch 273/300\n",
      "\u001b[1m13/13\u001b[0m \u001b[32m━━━━━━━━━━━━━━━━━━━━\u001b[0m\u001b[37m\u001b[0m \u001b[1m0s\u001b[0m 4ms/step - loss: 1.4060 - mae: 0.9999 \n",
      "Epoch 274/300\n",
      "\u001b[1m13/13\u001b[0m \u001b[32m━━━━━━━━━━━━━━━━━━━━\u001b[0m\u001b[37m\u001b[0m \u001b[1m0s\u001b[0m 4ms/step - loss: 1.4091 - mae: 0.9943 \n",
      "Epoch 275/300\n",
      "\u001b[1m13/13\u001b[0m \u001b[32m━━━━━━━━━━━━━━━━━━━━\u001b[0m\u001b[37m\u001b[0m \u001b[1m0s\u001b[0m 4ms/step - loss: 1.3377 - mae: 0.9758 \n",
      "Epoch 276/300\n",
      "\u001b[1m13/13\u001b[0m \u001b[32m━━━━━━━━━━━━━━━━━━━━\u001b[0m\u001b[37m\u001b[0m \u001b[1m0s\u001b[0m 3ms/step - loss: 1.6027 - mae: 1.0624 \n",
      "Epoch 277/300\n",
      "\u001b[1m13/13\u001b[0m \u001b[32m━━━━━━━━━━━━━━━━━━━━\u001b[0m\u001b[37m\u001b[0m \u001b[1m0s\u001b[0m 4ms/step - loss: 1.5938 - mae: 1.0372 \n",
      "Epoch 278/300\n",
      "\u001b[1m13/13\u001b[0m \u001b[32m━━━━━━━━━━━━━━━━━━━━\u001b[0m\u001b[37m\u001b[0m \u001b[1m0s\u001b[0m 3ms/step - loss: 1.4104 - mae: 0.9695 \n",
      "Epoch 279/300\n",
      "\u001b[1m13/13\u001b[0m \u001b[32m━━━━━━━━━━━━━━━━━━━━\u001b[0m\u001b[37m\u001b[0m \u001b[1m0s\u001b[0m 4ms/step - loss: 1.4991 - mae: 1.0161 \n",
      "Epoch 280/300\n",
      "\u001b[1m13/13\u001b[0m \u001b[32m━━━━━━━━━━━━━━━━━━━━\u001b[0m\u001b[37m\u001b[0m \u001b[1m0s\u001b[0m 4ms/step - loss: 1.4821 - mae: 1.0143 \n",
      "Epoch 281/300\n",
      "\u001b[1m13/13\u001b[0m \u001b[32m━━━━━━━━━━━━━━━━━━━━\u001b[0m\u001b[37m\u001b[0m \u001b[1m0s\u001b[0m 4ms/step - loss: 1.5006 - mae: 1.0257 \n",
      "Epoch 282/300\n",
      "\u001b[1m13/13\u001b[0m \u001b[32m━━━━━━━━━━━━━━━━━━━━\u001b[0m\u001b[37m\u001b[0m \u001b[1m0s\u001b[0m 4ms/step - loss: 1.3815 - mae: 0.9940 \n",
      "Epoch 283/300\n",
      "\u001b[1m13/13\u001b[0m \u001b[32m━━━━━━━━━━━━━━━━━━━━\u001b[0m\u001b[37m\u001b[0m \u001b[1m0s\u001b[0m 4ms/step - loss: 1.6536 - mae: 1.0885 \n",
      "Epoch 284/300\n",
      "\u001b[1m13/13\u001b[0m \u001b[32m━━━━━━━━━━━━━━━━━━━━\u001b[0m\u001b[37m\u001b[0m \u001b[1m0s\u001b[0m 4ms/step - loss: 1.3959 - mae: 1.0132 \n",
      "Epoch 285/300\n",
      "\u001b[1m13/13\u001b[0m \u001b[32m━━━━━━━━━━━━━━━━━━━━\u001b[0m\u001b[37m\u001b[0m \u001b[1m0s\u001b[0m 4ms/step - loss: 1.5319 - mae: 1.0382 \n",
      "Epoch 286/300\n",
      "\u001b[1m13/13\u001b[0m \u001b[32m━━━━━━━━━━━━━━━━━━━━\u001b[0m\u001b[37m\u001b[0m \u001b[1m0s\u001b[0m 4ms/step - loss: 1.4327 - mae: 0.9944 \n",
      "Epoch 287/300\n",
      "\u001b[1m13/13\u001b[0m \u001b[32m━━━━━━━━━━━━━━━━━━━━\u001b[0m\u001b[37m\u001b[0m \u001b[1m0s\u001b[0m 4ms/step - loss: 1.4410 - mae: 1.0046 \n",
      "Epoch 288/300\n",
      "\u001b[1m13/13\u001b[0m \u001b[32m━━━━━━━━━━━━━━━━━━━━\u001b[0m\u001b[37m\u001b[0m \u001b[1m0s\u001b[0m 4ms/step - loss: 1.4217 - mae: 1.0142 \n",
      "Epoch 289/300\n",
      "\u001b[1m13/13\u001b[0m \u001b[32m━━━━━━━━━━━━━━━━━━━━\u001b[0m\u001b[37m\u001b[0m \u001b[1m0s\u001b[0m 4ms/step - loss: 1.4873 - mae: 1.0179 \n",
      "Epoch 290/300\n",
      "\u001b[1m13/13\u001b[0m \u001b[32m━━━━━━━━━━━━━━━━━━━━\u001b[0m\u001b[37m\u001b[0m \u001b[1m0s\u001b[0m 4ms/step - loss: 1.3598 - mae: 0.9790 \n",
      "Epoch 291/300\n",
      "\u001b[1m13/13\u001b[0m \u001b[32m━━━━━━━━━━━━━━━━━━━━\u001b[0m\u001b[37m\u001b[0m \u001b[1m0s\u001b[0m 4ms/step - loss: 1.6750 - mae: 1.0695 \n",
      "Epoch 292/300\n",
      "\u001b[1m13/13\u001b[0m \u001b[32m━━━━━━━━━━━━━━━━━━━━\u001b[0m\u001b[37m\u001b[0m \u001b[1m0s\u001b[0m 4ms/step - loss: 1.5421 - mae: 1.0042 \n",
      "Epoch 293/300\n",
      "\u001b[1m13/13\u001b[0m \u001b[32m━━━━━━━━━━━━━━━━━━━━\u001b[0m\u001b[37m\u001b[0m \u001b[1m0s\u001b[0m 4ms/step - loss: 1.5655 - mae: 1.0464 \n",
      "Epoch 294/300\n",
      "\u001b[1m13/13\u001b[0m \u001b[32m━━━━━━━━━━━━━━━━━━━━\u001b[0m\u001b[37m\u001b[0m \u001b[1m0s\u001b[0m 3ms/step - loss: 1.6035 - mae: 1.0494 \n",
      "Epoch 295/300\n",
      "\u001b[1m13/13\u001b[0m \u001b[32m━━━━━━━━━━━━━━━━━━━━\u001b[0m\u001b[37m\u001b[0m \u001b[1m0s\u001b[0m 4ms/step - loss: 1.3366 - mae: 0.9532 \n",
      "Epoch 296/300\n",
      "\u001b[1m13/13\u001b[0m \u001b[32m━━━━━━━━━━━━━━━━━━━━\u001b[0m\u001b[37m\u001b[0m \u001b[1m0s\u001b[0m 4ms/step - loss: 1.3239 - mae: 0.9832 \n",
      "Epoch 297/300\n",
      "\u001b[1m13/13\u001b[0m \u001b[32m━━━━━━━━━━━━━━━━━━━━\u001b[0m\u001b[37m\u001b[0m \u001b[1m0s\u001b[0m 4ms/step - loss: 1.3550 - mae: 1.0128 \n",
      "Epoch 298/300\n",
      "\u001b[1m13/13\u001b[0m \u001b[32m━━━━━━━━━━━━━━━━━━━━\u001b[0m\u001b[37m\u001b[0m \u001b[1m0s\u001b[0m 4ms/step - loss: 1.6575 - mae: 1.0803 \n",
      "Epoch 299/300\n",
      "\u001b[1m13/13\u001b[0m \u001b[32m━━━━━━━━━━━━━━━━━━━━\u001b[0m\u001b[37m\u001b[0m \u001b[1m0s\u001b[0m 4ms/step - loss: 1.5658 - mae: 1.0470 \n",
      "Epoch 300/300\n",
      "\u001b[1m13/13\u001b[0m \u001b[32m━━━━━━━━━━━━━━━━━━━━\u001b[0m\u001b[37m\u001b[0m \u001b[1m0s\u001b[0m 4ms/step - loss: 1.4031 - mae: 1.0056 \n"
     ]
    },
    {
     "data": {
      "image/png": "[encoded data removed]",
      "text/plain": [
       "<Figure size 640x480 with 1 Axes>"
      ]
     },
     "metadata": {},
     "output_type": "display_data"
    }
   ],
   "source": [
    "model = Sequential()\n",
    "model.add(Dense(1, input_shape=(1,)))\n",
    "model.compile(loss='mse', metrics=['mae'])\n",
    "history = model.fit(x,y, epochs=300, batch_size=16)\n",
    "pd.DataFrame(history.history).plot()\n",
    "plt.grid()\n",
    "plt.yscale('log')\n",
    "plt.show()"
   ]
  },
  {
   "cell_type": "markdown",
   "id": "e6629144",
   "metadata": {
    "id": "e6629144"
   },
   "source": [
    "How to adjust the number of epochs? When you look at the history you should be able to determine when it doesn't make much sense to continue the optimization process. At some point, there is no longer any progress. We can use so-called callbacks - functions executed at various stages of the model training e.g. after each epoch. We can monitor the progress and stop learning when it's not progressing anymore. Such a callback is already implemented and is called EarlyStopping. It can be used together with the ReduceLROnPlateau callback. Before stopping the learning phase first it reduces the learning rate allowing the reduction of loss function even more."
   ]
  },
  {
   "cell_type": "code",
   "execution_count": 24,
   "id": "1de1301e",
   "metadata": {
    "ExecuteTime": {
     "end_time": "2025-10-14T22:18:32.036047Z",
     "start_time": "2025-10-14T22:18:20.240437Z"
    },
    "id": "1de1301e"
   },
   "outputs": [
    {
     "name": "stdout",
     "output_type": "stream",
     "text": [
      "Epoch 1/1000\n"
     ]
    },
    {
     "name": "stderr",
     "output_type": "stream",
     "text": [
      "/home/determinator/miniconda3/envs/tf-gpu/lib/python3.12/site-packages/keras/src/layers/core/dense.py:87: UserWarning: Do not pass an `input_shape`/`input_dim` argument to a layer. When using Sequential models, prefer using an `Input(shape)` object as the first layer in the model instead.\n",
      "  super().__init__(activity_regularizer=activity_regularizer, **kwargs)\n"
     ]
    },
    {
     "name": "stdout",
     "output_type": "stream",
     "text": [
      "\u001b[1m13/13\u001b[0m \u001b[32m━━━━━━━━━━━━━━━━━━━━\u001b[0m\u001b[37m\u001b[0m \u001b[1m1s\u001b[0m 16ms/step - loss: 5626.4229 - mae: 74.6052 - learning_rate: 0.0010\n",
      "Epoch 2/1000\n",
      "\u001b[1m13/13\u001b[0m \u001b[32m━━━━━━━━━━━━━━━━━━━━\u001b[0m\u001b[37m\u001b[0m \u001b[1m0s\u001b[0m 5ms/step - loss: 5443.6475 - mae: 73.4146 - learning_rate: 0.0010\n",
      "Epoch 3/1000\n",
      "\u001b[1m13/13\u001b[0m \u001b[32m━━━━━━━━━━━━━━━━━━━━\u001b[0m\u001b[37m\u001b[0m \u001b[1m0s\u001b[0m 4ms/step - loss: 5306.7866 - mae: 72.4224 - learning_rate: 0.0010\n",
      "Epoch 4/1000\n",
      "\u001b[1m13/13\u001b[0m \u001b[32m━━━━━━━━━━━━━━━━━━━━\u001b[0m\u001b[37m\u001b[0m \u001b[1m0s\u001b[0m 4ms/step - loss: 5299.7124 - mae: 72.3836 - learning_rate: 0.0010\n",
      "Epoch 5/1000\n",
      "\u001b[1m13/13\u001b[0m \u001b[32m━━━━━━━━━━━━━━━━━━━━\u001b[0m\u001b[37m\u001b[0m \u001b[1m0s\u001b[0m 4ms/step - loss: 5128.0542 - mae: 71.2159 - learning_rate: 0.0010\n",
      "Epoch 6/1000\n",
      "\u001b[1m13/13\u001b[0m \u001b[32m━━━━━━━━━━━━━━━━━━━━\u001b[0m\u001b[37m\u001b[0m \u001b[1m0s\u001b[0m 4ms/step - loss: 5075.7441 - mae: 70.8658 - learning_rate: 0.0010\n",
      "Epoch 7/1000\n",
      "\u001b[1m13/13\u001b[0m \u001b[32m━━━━━━━━━━━━━━━━━━━━\u001b[0m\u001b[37m\u001b[0m \u001b[1m0s\u001b[0m 4ms/step - loss: 4877.7114 - mae: 69.4750 - learning_rate: 0.0010\n",
      "Epoch 8/1000\n",
      "\u001b[1m13/13\u001b[0m \u001b[32m━━━━━━━━━━━━━━━━━━━━\u001b[0m\u001b[37m\u001b[0m \u001b[1m0s\u001b[0m 4ms/step - loss: 4895.2090 - mae: 69.6014 - learning_rate: 0.0010\n",
      "Epoch 9/1000\n",
      "\u001b[1m13/13\u001b[0m \u001b[32m━━━━━━━━━━━━━━━━━━━━\u001b[0m\u001b[37m\u001b[0m \u001b[1m0s\u001b[0m 5ms/step - loss: 4704.7959 - mae: 68.2393 - learning_rate: 0.0010\n",
      "Epoch 10/1000\n",
      "\u001b[1m13/13\u001b[0m \u001b[32m━━━━━━━━━━━━━━━━━━━━\u001b[0m\u001b[37m\u001b[0m \u001b[1m0s\u001b[0m 5ms/step - loss: 4559.8784 - mae: 67.1961 - learning_rate: 0.0010\n",
      "Epoch 11/1000\n",
      "\u001b[1m13/13\u001b[0m \u001b[32m━━━━━━━━━━━━━━━━━━━━\u001b[0m\u001b[37m\u001b[0m \u001b[1m0s\u001b[0m 4ms/step - loss: 4527.1147 - mae: 66.8852 - learning_rate: 0.0010\n",
      "Epoch 12/1000\n",
      "\u001b[1m13/13\u001b[0m \u001b[32m━━━━━━━━━━━━━━━━━━━━\u001b[0m\u001b[37m\u001b[0m \u001b[1m0s\u001b[0m 4ms/step - loss: 4337.7393 - mae: 65.5267 - learning_rate: 0.0010\n",
      "Epoch 13/1000\n",
      "\u001b[1m13/13\u001b[0m \u001b[32m━━━━━━━━━━━━━━━━━━━━\u001b[0m\u001b[37m\u001b[0m \u001b[1m0s\u001b[0m 4ms/step - loss: 4327.3691 - mae: 65.4321 - learning_rate: 0.0010\n",
      "Epoch 14/1000\n",
      "\u001b[1m13/13\u001b[0m \u001b[32m━━━━━━━━━━━━━━━━━━━━\u001b[0m\u001b[37m\u001b[0m \u001b[1m0s\u001b[0m 4ms/step - loss: 4132.1401 - mae: 63.9117 - learning_rate: 0.0010\n",
      "Epoch 15/1000\n",
      "\u001b[1m13/13\u001b[0m \u001b[32m━━━━━━━━━━━━━━━━━━━━\u001b[0m\u001b[37m\u001b[0m \u001b[1m0s\u001b[0m 5ms/step - loss: 4045.0203 - mae: 63.2725 - learning_rate: 0.0010\n",
      "Epoch 16/1000\n",
      "\u001b[1m13/13\u001b[0m \u001b[32m━━━━━━━━━━━━━━━━━━━━\u001b[0m\u001b[37m\u001b[0m \u001b[1m-1s\u001b[0m -90033us/step - loss: 3939.3623 - mae: 62.4053 - learning_rate: 0.0010\n",
      "Epoch 17/1000\n",
      "\u001b[1m13/13\u001b[0m \u001b[32m━━━━━━━━━━━━━━━━━━━━\u001b[0m\u001b[37m\u001b[0m \u001b[1m0s\u001b[0m 4ms/step - loss: 3909.3909 - mae: 62.1850 - learning_rate: 0.0010\n",
      "Epoch 18/1000\n",
      "\u001b[1m13/13\u001b[0m \u001b[32m━━━━━━━━━━━━━━━━━━━━\u001b[0m\u001b[37m\u001b[0m \u001b[1m0s\u001b[0m 4ms/step - loss: 3805.4207 - mae: 61.3541 - learning_rate: 0.0010\n",
      "Epoch 19/1000\n",
      "\u001b[1m13/13\u001b[0m \u001b[32m━━━━━━━━━━━━━━━━━━━━\u001b[0m\u001b[37m\u001b[0m \u001b[1m0s\u001b[0m 4ms/step - loss: 3678.2009 - mae: 60.2966 - learning_rate: 0.0010\n",
      "Epoch 20/1000\n",
      "\u001b[1m13/13\u001b[0m \u001b[32m━━━━━━━━━━━━━━━━━━━━\u001b[0m\u001b[37m\u001b[0m \u001b[1m0s\u001b[0m 4ms/step - loss: 3629.7632 - mae: 59.9034 - learning_rate: 0.0010\n",
      "Epoch 21/1000\n",
      "\u001b[1m13/13\u001b[0m \u001b[32m━━━━━━━━━━━━━━━━━━━━\u001b[0m\u001b[37m\u001b[0m \u001b[1m0s\u001b[0m 4ms/step - loss: 3528.0542 - mae: 59.0739 - learning_rate: 0.0010\n",
      "Epoch 22/1000\n",
      "\u001b[1m13/13\u001b[0m \u001b[32m━━━━━━━━━━━━━━━━━━━━\u001b[0m\u001b[37m\u001b[0m \u001b[1m0s\u001b[0m 4ms/step - loss: 3347.7568 - mae: 57.5218 - learning_rate: 0.0010\n",
      "Epoch 23/1000\n",
      "\u001b[1m13/13\u001b[0m \u001b[32m━━━━━━━━━━━━━━━━━━━━\u001b[0m\u001b[37m\u001b[0m \u001b[1m0s\u001b[0m 4ms/step - loss: 3319.7158 - mae: 57.3005 - learning_rate: 0.0010\n",
      "Epoch 24/1000\n",
      "\u001b[1m13/13\u001b[0m \u001b[32m━━━━━━━━━━━━━━━━━━━━\u001b[0m\u001b[37m\u001b[0m \u001b[1m0s\u001b[0m 5ms/step - loss: 3245.7742 - mae: 56.6628 - learning_rate: 0.0010\n",
      "Epoch 25/1000\n",
      "\u001b[1m13/13\u001b[0m \u001b[32m━━━━━━━━━━━━━━━━━━━━\u001b[0m\u001b[37m\u001b[0m \u001b[1m0s\u001b[0m 4ms/step - loss: 3121.6804 - mae: 55.5338 - learning_rate: 0.0010\n",
      "Epoch 26/1000\n",
      "\u001b[1m13/13\u001b[0m \u001b[32m━━━━━━━━━━━━━━━━━━━━\u001b[0m\u001b[37m\u001b[0m \u001b[1m0s\u001b[0m 5ms/step - loss: 3031.2249 - mae: 54.7313 - learning_rate: 0.0010\n",
      "Epoch 27/1000\n",
      "\u001b[1m13/13\u001b[0m \u001b[32m━━━━━━━━━━━━━━━━━━━━\u001b[0m\u001b[37m\u001b[0m \u001b[1m0s\u001b[0m 4ms/step - loss: 2951.6086 - mae: 53.9988 - learning_rate: 0.0010\n",
      "Epoch 28/1000\n",
      "\u001b[1m13/13\u001b[0m \u001b[32m━━━━━━━━━━━━━━━━━━━━\u001b[0m\u001b[37m\u001b[0m \u001b[1m0s\u001b[0m 4ms/step - loss: 2917.6292 - mae: 53.6887 - learning_rate: 0.0010\n",
      "Epoch 29/1000\n",
      "\u001b[1m13/13\u001b[0m \u001b[32m━━━━━━━━━━━━━━━━━━━━\u001b[0m\u001b[37m\u001b[0m \u001b[1m0s\u001b[0m 4ms/step - loss: 2779.7686 - mae: 52.4231 - learning_rate: 0.0010\n",
      "Epoch 30/1000\n",
      "\u001b[1m13/13\u001b[0m \u001b[32m━━━━━━━━━━━━━━━━━━━━\u001b[0m\u001b[37m\u001b[0m \u001b[1m0s\u001b[0m 4ms/step - loss: 2684.0132 - mae: 51.5101 - learning_rate: 0.0010\n",
      "Epoch 31/1000\n",
      "\u001b[1m13/13\u001b[0m \u001b[32m━━━━━━━━━━━━━━━━━━━━\u001b[0m\u001b[37m\u001b[0m \u001b[1m0s\u001b[0m 4ms/step - loss: 2635.6223 - mae: 51.0365 - learning_rate: 0.0010\n",
      "Epoch 32/1000\n",
      "\u001b[1m13/13\u001b[0m \u001b[32m━━━━━━━━━━━━━━━━━━━━\u001b[0m\u001b[37m\u001b[0m \u001b[1m0s\u001b[0m 4ms/step - loss: 2586.8425 - mae: 50.5563 - learning_rate: 0.0010\n",
      "Epoch 33/1000\n",
      "\u001b[1m13/13\u001b[0m \u001b[32m━━━━━━━━━━━━━━━━━━━━\u001b[0m\u001b[37m\u001b[0m \u001b[1m0s\u001b[0m 4ms/step - loss: 2514.8816 - mae: 49.8605 - learning_rate: 0.0010\n",
      "Epoch 34/1000\n",
      "\u001b[1m13/13\u001b[0m \u001b[32m━━━━━━━━━━━━━━━━━━━━\u001b[0m\u001b[37m\u001b[0m \u001b[1m0s\u001b[0m 4ms/step - loss: 2394.4939 - mae: 48.6501 - learning_rate: 0.0010\n",
      "Epoch 35/1000\n",
      "\u001b[1m13/13\u001b[0m \u001b[32m━━━━━━━━━━━━━━━━━━━━\u001b[0m\u001b[37m\u001b[0m \u001b[1m0s\u001b[0m 4ms/step - loss: 2358.4880 - mae: 48.2744 - learning_rate: 0.0010\n",
      "Epoch 36/1000\n",
      "\u001b[1m13/13\u001b[0m \u001b[32m━━━━━━━━━━━━━━━━━━━━\u001b[0m\u001b[37m\u001b[0m \u001b[1m0s\u001b[0m 3ms/step - loss: 2265.6736 - mae: 47.3394 - learning_rate: 0.0010\n",
      "Epoch 37/1000\n",
      "\u001b[1m13/13\u001b[0m \u001b[32m━━━━━━━━━━━━━━━━━━━━\u001b[0m\u001b[37m\u001b[0m \u001b[1m0s\u001b[0m 4ms/step - loss: 2123.6462 - mae: 45.7927 - learning_rate: 0.0010\n",
      "Epoch 38/1000\n",
      "\u001b[1m13/13\u001b[0m \u001b[32m━━━━━━━━━━━━━━━━━━━━\u001b[0m\u001b[37m\u001b[0m \u001b[1m0s\u001b[0m 4ms/step - loss: 2126.4604 - mae: 45.8377 - learning_rate: 0.0010\n",
      "Epoch 39/1000\n",
      "\u001b[1m13/13\u001b[0m \u001b[32m━━━━━━━━━━━━━━━━━━━━\u001b[0m\u001b[37m\u001b[0m \u001b[1m0s\u001b[0m 3ms/step - loss: 1998.2538 - mae: 44.4215 - learning_rate: 0.0010\n",
      "Epoch 40/1000\n",
      "\u001b[1m13/13\u001b[0m \u001b[32m━━━━━━━━━━━━━━━━━━━━\u001b[0m\u001b[37m\u001b[0m \u001b[1m0s\u001b[0m 3ms/step - loss: 1934.5229 - mae: 43.6869 - learning_rate: 0.0010\n",
      "Epoch 41/1000\n",
      "\u001b[1m13/13\u001b[0m \u001b[32m━━━━━━━━━━━━━━━━━━━━\u001b[0m\u001b[37m\u001b[0m \u001b[1m0s\u001b[0m 4ms/step - loss: 1878.5769 - mae: 43.0987 - learning_rate: 0.0010\n",
      "Epoch 42/1000\n",
      "\u001b[1m13/13\u001b[0m \u001b[32m━━━━━━━━━━━━━━━━━━━━\u001b[0m\u001b[37m\u001b[0m \u001b[1m0s\u001b[0m 4ms/step - loss: 1837.3474 - mae: 42.5788 - learning_rate: 0.0010\n",
      "Epoch 43/1000\n",
      "\u001b[1m13/13\u001b[0m \u001b[32m━━━━━━━━━━━━━━━━━━━━\u001b[0m\u001b[37m\u001b[0m \u001b[1m0s\u001b[0m 4ms/step - loss: 1769.2047 - mae: 41.7975 - learning_rate: 0.0010\n",
      "Epoch 44/1000\n",
      "\u001b[1m13/13\u001b[0m \u001b[32m━━━━━━━━━━━━━━━━━━━━\u001b[0m\u001b[37m\u001b[0m \u001b[1m0s\u001b[0m 4ms/step - loss: 1708.4596 - mae: 41.0785 - learning_rate: 0.0010\n",
      "Epoch 45/1000\n",
      "\u001b[1m13/13\u001b[0m \u001b[32m━━━━━━━━━━━━━━━━━━━━\u001b[0m\u001b[37m\u001b[0m \u001b[1m0s\u001b[0m 4ms/step - loss: 1654.8831 - mae: 40.4083 - learning_rate: 0.0010\n",
      "Epoch 46/1000\n",
      "\u001b[1m13/13\u001b[0m \u001b[32m━━━━━━━━━━━━━━━━━━━━\u001b[0m\u001b[37m\u001b[0m \u001b[1m0s\u001b[0m 3ms/step - loss: 1563.8071 - mae: 39.2740 - learning_rate: 0.0010\n",
      "Epoch 47/1000\n",
      "\u001b[1m13/13\u001b[0m \u001b[32m━━━━━━━━━━━━━━━━━━━━\u001b[0m\u001b[37m\u001b[0m \u001b[1m0s\u001b[0m 4ms/step - loss: 1511.3018 - mae: 38.6295 - learning_rate: 0.0010\n",
      "Epoch 48/1000\n",
      "\u001b[1m13/13\u001b[0m \u001b[32m━━━━━━━━━━━━━━━━━━━━\u001b[0m\u001b[37m\u001b[0m \u001b[1m0s\u001b[0m 4ms/step - loss: 1480.0948 - mae: 38.2167 - learning_rate: 0.0010\n",
      "Epoch 49/1000\n",
      "\u001b[1m13/13\u001b[0m \u001b[32m━━━━━━━━━━━━━━━━━━━━\u001b[0m\u001b[37m\u001b[0m \u001b[1m0s\u001b[0m 4ms/step - loss: 1369.0298 - mae: 36.7485 - learning_rate: 0.0010\n",
      "Epoch 50/1000\n",
      "\u001b[1m13/13\u001b[0m \u001b[32m━━━━━━━━━━━━━━━━━━━━\u001b[0m\u001b[37m\u001b[0m \u001b[1m0s\u001b[0m 4ms/step - loss: 1329.2494 - mae: 36.1936 - learning_rate: 0.0010\n",
      "Epoch 51/1000\n",
      "\u001b[1m13/13\u001b[0m \u001b[32m━━━━━━━━━━━━━━━━━━━━\u001b[0m\u001b[37m\u001b[0m \u001b[1m0s\u001b[0m 3ms/step - loss: 1282.4148 - mae: 35.5659 - learning_rate: 0.0010\n",
      "Epoch 52/1000\n",
      "\u001b[1m13/13\u001b[0m \u001b[32m━━━━━━━━━━━━━━━━━━━━\u001b[0m\u001b[37m\u001b[0m \u001b[1m0s\u001b[0m 4ms/step - loss: 1209.8605 - mae: 34.5364 - learning_rate: 0.0010\n",
      "Epoch 53/1000\n",
      "\u001b[1m13/13\u001b[0m \u001b[32m━━━━━━━━━━━━━━━━━━━━\u001b[0m\u001b[37m\u001b[0m \u001b[1m0s\u001b[0m 4ms/step - loss: 1177.2043 - mae: 34.0590 - learning_rate: 0.0010\n",
      "Epoch 54/1000\n",
      "\u001b[1m13/13\u001b[0m \u001b[32m━━━━━━━━━━━━━━━━━━━━\u001b[0m\u001b[37m\u001b[0m \u001b[1m0s\u001b[0m 4ms/step - loss: 1139.7338 - mae: 33.5305 - learning_rate: 0.0010\n",
      "Epoch 55/1000\n",
      "\u001b[1m13/13\u001b[0m \u001b[32m━━━━━━━━━━━━━━━━━━━━\u001b[0m\u001b[37m\u001b[0m \u001b[1m0s\u001b[0m 4ms/step - loss: 1084.7639 - mae: 32.6788 - learning_rate: 0.0010\n",
      "Epoch 56/1000\n",
      "\u001b[1m13/13\u001b[0m \u001b[32m━━━━━━━━━━━━━━━━━━━━\u001b[0m\u001b[37m\u001b[0m \u001b[1m0s\u001b[0m 4ms/step - loss: 1000.0447 - mae: 31.4045 - learning_rate: 0.0010\n",
      "Epoch 57/1000\n",
      "\u001b[1m13/13\u001b[0m \u001b[32m━━━━━━━━━━━━━━━━━━━━\u001b[0m\u001b[37m\u001b[0m \u001b[1m0s\u001b[0m 4ms/step - loss: 984.7764 - mae: 31.1568 - learning_rate: 0.0010\n",
      "Epoch 58/1000\n",
      "\u001b[1m13/13\u001b[0m \u001b[32m━━━━━━━━━━━━━━━━━━━━\u001b[0m\u001b[37m\u001b[0m \u001b[1m0s\u001b[0m 3ms/step - loss: 901.3184 - mae: 29.8093 - learning_rate: 0.0010\n",
      "Epoch 59/1000\n",
      "\u001b[1m13/13\u001b[0m \u001b[32m━━━━━━━━━━━━━━━━━━━━\u001b[0m\u001b[37m\u001b[0m \u001b[1m0s\u001b[0m 3ms/step - loss: 868.0927 - mae: 29.2066 - learning_rate: 0.0010\n",
      "Epoch 60/1000\n",
      "\u001b[1m13/13\u001b[0m \u001b[32m━━━━━━━━━━━━━━━━━━━━\u001b[0m\u001b[37m\u001b[0m \u001b[1m0s\u001b[0m 5ms/step - loss: 819.3196 - mae: 28.3890 - learning_rate: 0.0010\n",
      "Epoch 61/1000\n",
      "\u001b[1m13/13\u001b[0m \u001b[32m━━━━━━━━━━━━━━━━━━━━\u001b[0m\u001b[37m\u001b[0m \u001b[1m0s\u001b[0m 5ms/step - loss: 779.1672 - mae: 27.7018 - learning_rate: 0.0010\n",
      "Epoch 62/1000\n",
      "\u001b[1m13/13\u001b[0m \u001b[32m━━━━━━━━━━━━━━━━━━━━\u001b[0m\u001b[37m\u001b[0m \u001b[1m0s\u001b[0m 4ms/step - loss: 756.6286 - mae: 27.2812 - learning_rate: 0.0010\n",
      "Epoch 63/1000\n",
      "\u001b[1m13/13\u001b[0m \u001b[32m━━━━━━━━━━━━━━━━━━━━\u001b[0m\u001b[37m\u001b[0m \u001b[1m0s\u001b[0m 3ms/step - loss: 709.1837 - mae: 26.4091 - learning_rate: 0.0010\n",
      "Epoch 64/1000\n",
      "\u001b[1m13/13\u001b[0m \u001b[32m━━━━━━━━━━━━━━━━━━━━\u001b[0m\u001b[37m\u001b[0m \u001b[1m0s\u001b[0m 4ms/step - loss: 665.2182 - mae: 25.5690 - learning_rate: 0.0010\n",
      "Epoch 65/1000\n",
      "\u001b[1m13/13\u001b[0m \u001b[32m━━━━━━━━━━━━━━━━━━━━\u001b[0m\u001b[37m\u001b[0m \u001b[1m0s\u001b[0m 3ms/step - loss: 634.8837 - mae: 24.9757 - learning_rate: 0.0010\n",
      "Epoch 66/1000\n",
      "\u001b[1m13/13\u001b[0m \u001b[32m━━━━━━━━━━━━━━━━━━━━\u001b[0m\u001b[37m\u001b[0m \u001b[1m0s\u001b[0m 3ms/step - loss: 570.9153 - mae: 23.6804 - learning_rate: 0.0010\n",
      "Epoch 67/1000\n",
      "\u001b[1m13/13\u001b[0m \u001b[32m━━━━━━━━━━━━━━━━━━━━\u001b[0m\u001b[37m\u001b[0m \u001b[1m0s\u001b[0m 4ms/step - loss: 548.0837 - mae: 23.2021 - learning_rate: 0.0010\n",
      "Epoch 68/1000\n",
      "\u001b[1m13/13\u001b[0m \u001b[32m━━━━━━━━━━━━━━━━━━━━\u001b[0m\u001b[37m\u001b[0m \u001b[1m0s\u001b[0m 4ms/step - loss: 508.1862 - mae: 22.3362 - learning_rate: 0.0010\n",
      "Epoch 69/1000\n",
      "\u001b[1m13/13\u001b[0m \u001b[32m━━━━━━━━━━━━━━━━━━━━\u001b[0m\u001b[37m\u001b[0m \u001b[1m0s\u001b[0m 4ms/step - loss: 473.8475 - mae: 21.5594 - learning_rate: 0.0010\n",
      "Epoch 70/1000\n",
      "\u001b[1m13/13\u001b[0m \u001b[32m━━━━━━━━━━━━━━━━━━━━\u001b[0m\u001b[37m\u001b[0m \u001b[1m0s\u001b[0m 4ms/step - loss: 447.8693 - mae: 20.9505 - learning_rate: 0.0010\n",
      "Epoch 71/1000\n",
      "\u001b[1m13/13\u001b[0m \u001b[32m━━━━━━━━━━━━━━━━━━━━\u001b[0m\u001b[37m\u001b[0m \u001b[1m0s\u001b[0m 4ms/step - loss: 418.3174 - mae: 20.2592 - learning_rate: 0.0010\n",
      "Epoch 72/1000\n",
      "\u001b[1m13/13\u001b[0m \u001b[32m━━━━━━━━━━━━━━━━━━━━\u001b[0m\u001b[37m\u001b[0m \u001b[1m0s\u001b[0m 4ms/step - loss: 381.9042 - mae: 19.3190 - learning_rate: 0.0010\n",
      "Epoch 73/1000\n",
      "\u001b[1m13/13\u001b[0m \u001b[32m━━━━━━━━━━━━━━━━━━━━\u001b[0m\u001b[37m\u001b[0m \u001b[1m0s\u001b[0m 4ms/step - loss: 360.4884 - mae: 18.7936 - learning_rate: 0.0010\n",
      "Epoch 74/1000\n",
      "\u001b[1m13/13\u001b[0m \u001b[32m━━━━━━━━━━━━━━━━━━━━\u001b[0m\u001b[37m\u001b[0m \u001b[1m0s\u001b[0m 4ms/step - loss: 327.4715 - mae: 17.9169 - learning_rate: 0.0010\n",
      "Epoch 75/1000\n",
      "\u001b[1m13/13\u001b[0m \u001b[32m━━━━━━━━━━━━━━━━━━━━\u001b[0m\u001b[37m\u001b[0m \u001b[1m0s\u001b[0m 4ms/step - loss: 297.4787 - mae: 17.0550 - learning_rate: 0.0010\n",
      "Epoch 76/1000\n",
      "\u001b[1m13/13\u001b[0m \u001b[32m━━━━━━━━━━━━━━━━━━━━\u001b[0m\u001b[37m\u001b[0m \u001b[1m0s\u001b[0m 4ms/step - loss: 277.4369 - mae: 16.4761 - learning_rate: 0.0010\n",
      "Epoch 77/1000\n",
      "\u001b[1m13/13\u001b[0m \u001b[32m━━━━━━━━━━━━━━━━━━━━\u001b[0m\u001b[37m\u001b[0m \u001b[1m0s\u001b[0m 4ms/step - loss: 249.8253 - mae: 15.6441 - learning_rate: 0.0010\n",
      "Epoch 78/1000\n",
      "\u001b[1m13/13\u001b[0m \u001b[32m━━━━━━━━━━━━━━━━━━━━\u001b[0m\u001b[37m\u001b[0m \u001b[1m0s\u001b[0m 4ms/step - loss: 222.7602 - mae: 14.7415 - learning_rate: 0.0010\n",
      "Epoch 79/1000\n",
      "\u001b[1m13/13\u001b[0m \u001b[32m━━━━━━━━━━━━━━━━━━━━\u001b[0m\u001b[37m\u001b[0m \u001b[1m0s\u001b[0m 4ms/step - loss: 207.9755 - mae: 14.2308 - learning_rate: 0.0010\n",
      "Epoch 80/1000\n",
      "\u001b[1m13/13\u001b[0m \u001b[32m━━━━━━━━━━━━━━━━━━━━\u001b[0m\u001b[37m\u001b[0m \u001b[1m0s\u001b[0m 5ms/step - loss: 181.9427 - mae: 13.3029 - learning_rate: 0.0010\n",
      "Epoch 81/1000\n",
      "\u001b[1m13/13\u001b[0m \u001b[32m━━━━━━━━━━━━━━━━━━━━\u001b[0m\u001b[37m\u001b[0m \u001b[1m0s\u001b[0m 4ms/step - loss: 162.5928 - mae: 12.5524 - learning_rate: 0.0010\n",
      "Epoch 82/1000\n",
      "\u001b[1m13/13\u001b[0m \u001b[32m━━━━━━━━━━━━━━━━━━━━\u001b[0m\u001b[37m\u001b[0m \u001b[1m0s\u001b[0m 4ms/step - loss: 145.8537 - mae: 11.8935 - learning_rate: 0.0010\n",
      "Epoch 83/1000\n",
      "\u001b[1m13/13\u001b[0m \u001b[32m━━━━━━━━━━━━━━━━━━━━\u001b[0m\u001b[37m\u001b[0m \u001b[1m0s\u001b[0m 4ms/step - loss: 130.3075 - mae: 11.2233 - learning_rate: 0.0010\n",
      "Epoch 84/1000\n",
      "\u001b[1m13/13\u001b[0m \u001b[32m━━━━━━━━━━━━━━━━━━━━\u001b[0m\u001b[37m\u001b[0m \u001b[1m0s\u001b[0m 3ms/step - loss: 113.5359 - mae: 10.4732 - learning_rate: 0.0010\n",
      "Epoch 85/1000\n",
      "\u001b[1m13/13\u001b[0m \u001b[32m━━━━━━━━━━━━━━━━━━━━\u001b[0m\u001b[37m\u001b[0m \u001b[1m0s\u001b[0m 4ms/step - loss: 96.1396 - mae: 9.6173 - learning_rate: 0.0010\n",
      "Epoch 86/1000\n",
      "\u001b[1m13/13\u001b[0m \u001b[32m━━━━━━━━━━━━━━━━━━━━\u001b[0m\u001b[37m\u001b[0m \u001b[1m0s\u001b[0m 4ms/step - loss: 84.1174 - mae: 8.9678 - learning_rate: 0.0010\n",
      "Epoch 87/1000\n",
      "\u001b[1m13/13\u001b[0m \u001b[32m━━━━━━━━━━━━━━━━━━━━\u001b[0m\u001b[37m\u001b[0m \u001b[1m0s\u001b[0m 4ms/step - loss: 67.9550 - mae: 8.0674 - learning_rate: 0.0010\n",
      "Epoch 88/1000\n",
      "\u001b[1m13/13\u001b[0m \u001b[32m━━━━━━━━━━━━━━━━━━━━\u001b[0m\u001b[37m\u001b[0m \u001b[1m0s\u001b[0m 4ms/step - loss: 57.7524 - mae: 7.3908 - learning_rate: 0.0010\n",
      "Epoch 89/1000\n",
      "\u001b[1m13/13\u001b[0m \u001b[32m━━━━━━━━━━━━━━━━━━━━\u001b[0m\u001b[37m\u001b[0m \u001b[1m0s\u001b[0m 4ms/step - loss: 45.7253 - mae: 6.5465 - learning_rate: 0.0010\n",
      "Epoch 90/1000\n",
      "\u001b[1m13/13\u001b[0m \u001b[32m━━━━━━━━━━━━━━━━━━━━\u001b[0m\u001b[37m\u001b[0m \u001b[1m0s\u001b[0m 4ms/step - loss: 35.9103 - mae: 5.7211 - learning_rate: 0.0010\n",
      "Epoch 91/1000\n",
      "\u001b[1m13/13\u001b[0m \u001b[32m━━━━━━━━━━━━━━━━━━━━\u001b[0m\u001b[37m\u001b[0m \u001b[1m0s\u001b[0m 4ms/step - loss: 29.3128 - mae: 5.1317 - learning_rate: 0.0010\n",
      "Epoch 92/1000\n",
      "\u001b[1m13/13\u001b[0m \u001b[32m━━━━━━━━━━━━━━━━━━━━\u001b[0m\u001b[37m\u001b[0m \u001b[1m0s\u001b[0m 4ms/step - loss: 22.9270 - mae: 4.5443 - learning_rate: 0.0010\n",
      "Epoch 93/1000\n",
      "\u001b[1m13/13\u001b[0m \u001b[32m━━━━━━━━━━━━━━━━━━━━\u001b[0m\u001b[37m\u001b[0m \u001b[1m0s\u001b[0m 4ms/step - loss: 16.6794 - mae: 3.7880 - learning_rate: 0.0010\n",
      "Epoch 94/1000\n",
      "\u001b[1m13/13\u001b[0m \u001b[32m━━━━━━━━━━━━━━━━━━━━\u001b[0m\u001b[37m\u001b[0m \u001b[1m0s\u001b[0m 4ms/step - loss: 11.6891 - mae: 3.1168 - learning_rate: 0.0010\n",
      "Epoch 95/1000\n",
      "\u001b[1m13/13\u001b[0m \u001b[32m━━━━━━━━━━━━━━━━━━━━\u001b[0m\u001b[37m\u001b[0m \u001b[1m0s\u001b[0m 4ms/step - loss: 8.4895 - mae: 2.5981 - learning_rate: 0.0010\n",
      "Epoch 96/1000\n",
      "\u001b[1m13/13\u001b[0m \u001b[32m━━━━━━━━━━━━━━━━━━━━\u001b[0m\u001b[37m\u001b[0m \u001b[1m0s\u001b[0m 4ms/step - loss: 5.2077 - mae: 1.9999 - learning_rate: 0.0010\n",
      "Epoch 97/1000\n",
      "\u001b[1m13/13\u001b[0m \u001b[32m━━━━━━━━━━━━━━━━━━━━\u001b[0m\u001b[37m\u001b[0m \u001b[1m0s\u001b[0m 4ms/step - loss: 3.0262 - mae: 1.5027 - learning_rate: 0.0010\n",
      "Epoch 98/1000\n",
      "\u001b[1m13/13\u001b[0m \u001b[32m━━━━━━━━━━━━━━━━━━━━\u001b[0m\u001b[37m\u001b[0m \u001b[1m0s\u001b[0m 5ms/step - loss: 1.9825 - mae: 1.1769 - learning_rate: 0.0010\n",
      "Epoch 99/1000\n",
      "\u001b[1m13/13\u001b[0m \u001b[32m━━━━━━━━━━━━━━━━━━━━\u001b[0m\u001b[37m\u001b[0m \u001b[1m0s\u001b[0m 4ms/step - loss: 1.8235 - mae: 1.1176 - learning_rate: 0.0010\n",
      "Epoch 100/1000\n",
      "\u001b[1m13/13\u001b[0m \u001b[32m━━━━━━━━━━━━━━━━━━━━\u001b[0m\u001b[37m\u001b[0m \u001b[1m0s\u001b[0m 4ms/step - loss: 1.6828 - mae: 1.0701 - learning_rate: 0.0010\n",
      "Epoch 101/1000\n",
      "\u001b[1m13/13\u001b[0m \u001b[32m━━━━━━━━━━━━━━━━━━━━\u001b[0m\u001b[37m\u001b[0m \u001b[1m0s\u001b[0m 4ms/step - loss: 1.7791 - mae: 1.0912 - learning_rate: 0.0010\n",
      "Epoch 102/1000\n",
      "\u001b[1m13/13\u001b[0m \u001b[32m━━━━━━━━━━━━━━━━━━━━\u001b[0m\u001b[37m\u001b[0m \u001b[1m0s\u001b[0m 4ms/step - loss: 1.5801 - mae: 1.0235 - learning_rate: 0.0010\n",
      "Epoch 103/1000\n",
      "\u001b[1m13/13\u001b[0m \u001b[32m━━━━━━━━━━━━━━━━━━━━\u001b[0m\u001b[37m\u001b[0m \u001b[1m0s\u001b[0m 3ms/step - loss: 1.8342 - mae: 1.1108 - learning_rate: 0.0010\n",
      "Epoch 104/1000\n",
      "\u001b[1m13/13\u001b[0m \u001b[32m━━━━━━━━━━━━━━━━━━━━\u001b[0m\u001b[37m\u001b[0m \u001b[1m0s\u001b[0m 4ms/step - loss: 1.5758 - mae: 1.0496 - learning_rate: 0.0010\n",
      "Epoch 105/1000\n",
      "\u001b[1m13/13\u001b[0m \u001b[32m━━━━━━━━━━━━━━━━━━━━\u001b[0m\u001b[37m\u001b[0m \u001b[1m0s\u001b[0m 4ms/step - loss: 1.5299 - mae: 1.0303 - learning_rate: 0.0010\n",
      "Epoch 106/1000\n",
      "\u001b[1m13/13\u001b[0m \u001b[32m━━━━━━━━━━━━━━━━━━━━\u001b[0m\u001b[37m\u001b[0m \u001b[1m0s\u001b[0m 4ms/step - loss: 1.6540 - mae: 1.0490 - learning_rate: 0.0010\n",
      "Epoch 107/1000\n",
      "\u001b[1m13/13\u001b[0m \u001b[32m━━━━━━━━━━━━━━━━━━━━\u001b[0m\u001b[37m\u001b[0m \u001b[1m0s\u001b[0m 4ms/step - loss: 1.5484 - mae: 1.0417 - learning_rate: 0.0010\n",
      "Epoch 108/1000\n",
      "\u001b[1m13/13\u001b[0m \u001b[32m━━━━━━━━━━━━━━━━━━━━\u001b[0m\u001b[37m\u001b[0m \u001b[1m0s\u001b[0m 4ms/step - loss: 1.7188 - mae: 1.0855 - learning_rate: 0.0010\n",
      "Epoch 109/1000\n",
      "\u001b[1m13/13\u001b[0m \u001b[32m━━━━━━━━━━━━━━━━━━━━\u001b[0m\u001b[37m\u001b[0m \u001b[1m0s\u001b[0m 4ms/step - loss: 1.6942 - mae: 1.0827 - learning_rate: 0.0010\n",
      "Epoch 110/1000\n",
      "\u001b[1m13/13\u001b[0m \u001b[32m━━━━━━━━━━━━━━━━━━━━\u001b[0m\u001b[37m\u001b[0m \u001b[1m0s\u001b[0m 4ms/step - loss: 1.5674 - mae: 1.0401 - learning_rate: 1.0000e-04\n",
      "Epoch 111/1000\n",
      "\u001b[1m13/13\u001b[0m \u001b[32m━━━━━━━━━━━━━━━━━━━━\u001b[0m\u001b[37m\u001b[0m \u001b[1m0s\u001b[0m 4ms/step - loss: 1.7932 - mae: 1.1208 - learning_rate: 1.0000e-04\n",
      "Epoch 112/1000\n",
      "\u001b[1m13/13\u001b[0m \u001b[32m━━━━━━━━━━━━━━━━━━━━\u001b[0m\u001b[37m\u001b[0m \u001b[1m0s\u001b[0m 4ms/step - loss: 1.6154 - mae: 1.0389 - learning_rate: 1.0000e-04\n",
      "Epoch 113/1000\n",
      "\u001b[1m13/13\u001b[0m \u001b[32m━━━━━━━━━━━━━━━━━━━━\u001b[0m\u001b[37m\u001b[0m \u001b[1m0s\u001b[0m 4ms/step - loss: 1.7544 - mae: 1.0763 - learning_rate: 1.0000e-04\n",
      "Epoch 114/1000\n",
      "\u001b[1m13/13\u001b[0m \u001b[32m━━━━━━━━━━━━━━━━━━━━\u001b[0m\u001b[37m\u001b[0m \u001b[1m0s\u001b[0m 4ms/step - loss: 1.3368 - mae: 0.9590 - learning_rate: 1.0000e-04\n",
      "Epoch 115/1000\n",
      "\u001b[1m13/13\u001b[0m \u001b[32m━━━━━━━━━━━━━━━━━━━━\u001b[0m\u001b[37m\u001b[0m \u001b[1m0s\u001b[0m 4ms/step - loss: 1.5163 - mae: 1.0419 - learning_rate: 1.0000e-04\n",
      "Epoch 116/1000\n",
      "\u001b[1m13/13\u001b[0m \u001b[32m━━━━━━━━━━━━━━━━━━━━\u001b[0m\u001b[37m\u001b[0m \u001b[1m0s\u001b[0m 4ms/step - loss: 1.7728 - mae: 1.0967 - learning_rate: 1.0000e-04\n",
      "Epoch 117/1000\n",
      "\u001b[1m13/13\u001b[0m \u001b[32m━━━━━━━━━━━━━━━━━━━━\u001b[0m\u001b[37m\u001b[0m \u001b[1m0s\u001b[0m 4ms/step - loss: 1.6187 - mae: 1.0490 - learning_rate: 1.0000e-04\n",
      "Epoch 118/1000\n",
      "\u001b[1m13/13\u001b[0m \u001b[32m━━━━━━━━━━━━━━━━━━━━\u001b[0m\u001b[37m\u001b[0m \u001b[1m0s\u001b[0m 5ms/step - loss: 1.6725 - mae: 1.0570 - learning_rate: 1.0000e-04\n",
      "Epoch 119/1000\n",
      "\u001b[1m13/13\u001b[0m \u001b[32m━━━━━━━━━━━━━━━━━━━━\u001b[0m\u001b[37m\u001b[0m \u001b[1m0s\u001b[0m 4ms/step - loss: 1.7148 - mae: 1.0949 - learning_rate: 1.0000e-04\n",
      "Epoch 120/1000\n",
      "\u001b[1m13/13\u001b[0m \u001b[32m━━━━━━━━━━━━━━━━━━━━\u001b[0m\u001b[37m\u001b[0m \u001b[1m0s\u001b[0m 4ms/step - loss: 1.6843 - mae: 1.0583 - learning_rate: 1.0000e-04\n",
      "Epoch 121/1000\n",
      "\u001b[1m13/13\u001b[0m \u001b[32m━━━━━━━━━━━━━━━━━━━━\u001b[0m\u001b[37m\u001b[0m \u001b[1m0s\u001b[0m 4ms/step - loss: 1.4424 - mae: 0.9858 - learning_rate: 1.0000e-04\n",
      "Epoch 122/1000\n",
      "\u001b[1m13/13\u001b[0m \u001b[32m━━━━━━━━━━━━━━━━━━━━\u001b[0m\u001b[37m\u001b[0m \u001b[1m0s\u001b[0m 4ms/step - loss: 1.4582 - mae: 0.9971 - learning_rate: 1.0000e-04\n",
      "Epoch 123/1000\n",
      "\u001b[1m13/13\u001b[0m \u001b[32m━━━━━━━━━━━━━━━━━━━━\u001b[0m\u001b[37m\u001b[0m \u001b[1m0s\u001b[0m 4ms/step - loss: 1.5556 - mae: 1.0289 - learning_rate: 1.0000e-04\n",
      "Epoch 124/1000\n",
      "\u001b[1m13/13\u001b[0m \u001b[32m━━━━━━━━━━━━━━━━━━━━\u001b[0m\u001b[37m\u001b[0m \u001b[1m0s\u001b[0m 4ms/step - loss: 1.5965 - mae: 1.0396 - learning_rate: 1.0000e-04\n",
      "Epoch 125/1000\n",
      "\u001b[1m13/13\u001b[0m \u001b[32m━━━━━━━━━━━━━━━━━━━━\u001b[0m\u001b[37m\u001b[0m \u001b[1m0s\u001b[0m 4ms/step - loss: 1.4833 - mae: 0.9882 - learning_rate: 1.0000e-04\n",
      "Epoch 126/1000\n",
      "\u001b[1m13/13\u001b[0m \u001b[32m━━━━━━━━━━━━━━━━━━━━\u001b[0m\u001b[37m\u001b[0m \u001b[1m0s\u001b[0m 4ms/step - loss: 1.7620 - mae: 1.0978 - learning_rate: 1.0000e-04\n",
      "Epoch 127/1000\n",
      "\u001b[1m13/13\u001b[0m \u001b[32m━━━━━━━━━━━━━━━━━━━━\u001b[0m\u001b[37m\u001b[0m \u001b[1m0s\u001b[0m 4ms/step - loss: 1.5881 - mae: 1.0672 - learning_rate: 1.0000e-04\n",
      "Epoch 128/1000\n",
      "\u001b[1m13/13\u001b[0m \u001b[32m━━━━━━━━━━━━━━━━━━━━\u001b[0m\u001b[37m\u001b[0m \u001b[1m0s\u001b[0m 5ms/step - loss: 1.6656 - mae: 1.0735 - learning_rate: 1.0000e-04\n",
      "Epoch 129/1000\n",
      "\u001b[1m13/13\u001b[0m \u001b[32m━━━━━━━━━━━━━━━━━━━━\u001b[0m\u001b[37m\u001b[0m \u001b[1m0s\u001b[0m 4ms/step - loss: 1.6560 - mae: 1.0673 - learning_rate: 1.0000e-05\n",
      "Epoch 130/1000\n",
      "\u001b[1m13/13\u001b[0m \u001b[32m━━━━━━━━━━━━━━━━━━━━\u001b[0m\u001b[37m\u001b[0m \u001b[1m0s\u001b[0m 4ms/step - loss: 1.5806 - mae: 1.0475 - learning_rate: 1.0000e-05\n",
      "Epoch 131/1000\n",
      "\u001b[1m13/13\u001b[0m \u001b[32m━━━━━━━━━━━━━━━━━━━━\u001b[0m\u001b[37m\u001b[0m \u001b[1m0s\u001b[0m 4ms/step - loss: 1.4715 - mae: 1.0222 - learning_rate: 1.0000e-05\n",
      "Epoch 132/1000\n",
      "\u001b[1m13/13\u001b[0m \u001b[32m━━━━━━━━━━━━━━━━━━━━\u001b[0m\u001b[37m\u001b[0m \u001b[1m0s\u001b[0m 4ms/step - loss: 1.5554 - mae: 1.0396 - learning_rate: 1.0000e-05\n",
      "Epoch 133/1000\n",
      "\u001b[1m13/13\u001b[0m \u001b[32m━━━━━━━━━━━━━━━━━━━━\u001b[0m\u001b[37m\u001b[0m \u001b[1m0s\u001b[0m 4ms/step - loss: 1.6168 - mae: 1.0374 - learning_rate: 1.0000e-05\n",
      "Epoch 134/1000\n",
      "\u001b[1m13/13\u001b[0m \u001b[32m━━━━━━━━━━━━━━━━━━━━\u001b[0m\u001b[37m\u001b[0m \u001b[1m0s\u001b[0m 4ms/step - loss: 1.5025 - mae: 1.0303 - learning_rate: 1.0000e-05\n",
      "Epoch 135/1000\n",
      "\u001b[1m13/13\u001b[0m \u001b[32m━━━━━━━━━━━━━━━━━━━━\u001b[0m\u001b[37m\u001b[0m \u001b[1m0s\u001b[0m 5ms/step - loss: 1.5614 - mae: 1.0512 - learning_rate: 1.0000e-05\n",
      "Epoch 136/1000\n",
      "\u001b[1m13/13\u001b[0m \u001b[32m━━━━━━━━━━━━━━━━━━━━\u001b[0m\u001b[37m\u001b[0m \u001b[1m0s\u001b[0m 4ms/step - loss: 1.4222 - mae: 1.0157 - learning_rate: 1.0000e-05\n",
      "Epoch 137/1000\n",
      "\u001b[1m13/13\u001b[0m \u001b[32m━━━━━━━━━━━━━━━━━━━━\u001b[0m\u001b[37m\u001b[0m \u001b[1m0s\u001b[0m 4ms/step - loss: 1.6802 - mae: 1.0719 - learning_rate: 1.0000e-05\n",
      "Epoch 138/1000\n",
      "\u001b[1m13/13\u001b[0m \u001b[32m━━━━━━━━━━━━━━━━━━━━\u001b[0m\u001b[37m\u001b[0m \u001b[1m0s\u001b[0m 4ms/step - loss: 1.5640 - mae: 1.0397 - learning_rate: 1.0000e-05\n",
      "Epoch 139/1000\n",
      "\u001b[1m13/13\u001b[0m \u001b[32m━━━━━━━━━━━━━━━━━━━━\u001b[0m\u001b[37m\u001b[0m \u001b[1m0s\u001b[0m 4ms/step - loss: 1.6303 - mae: 1.0661 - learning_rate: 1.0000e-05\n",
      "Epoch 140/1000\n",
      "\u001b[1m13/13\u001b[0m \u001b[32m━━━━━━━━━━━━━━━━━━━━\u001b[0m\u001b[37m\u001b[0m \u001b[1m0s\u001b[0m 4ms/step - loss: 1.5576 - mae: 1.0299 - learning_rate: 1.0000e-05\n",
      "Epoch 141/1000\n",
      "\u001b[1m13/13\u001b[0m \u001b[32m━━━━━━━━━━━━━━━━━━━━\u001b[0m\u001b[37m\u001b[0m \u001b[1m0s\u001b[0m 4ms/step - loss: 1.4853 - mae: 1.0250 - learning_rate: 1.0000e-05\n",
      "Epoch 142/1000\n",
      "\u001b[1m13/13\u001b[0m \u001b[32m━━━━━━━━━━━━━━━━━━━━\u001b[0m\u001b[37m\u001b[0m \u001b[1m0s\u001b[0m 4ms/step - loss: 1.7880 - mae: 1.0991 - learning_rate: 1.0000e-05\n",
      "Epoch 143/1000\n",
      "\u001b[1m13/13\u001b[0m \u001b[32m━━━━━━━━━━━━━━━━━━━━\u001b[0m\u001b[37m\u001b[0m \u001b[1m0s\u001b[0m 5ms/step - loss: 1.6417 - mae: 1.0682 - learning_rate: 1.0000e-06\n",
      "Epoch 144/1000\n",
      "\u001b[1m13/13\u001b[0m \u001b[32m━━━━━━━━━━━━━━━━━━━━\u001b[0m\u001b[37m\u001b[0m \u001b[1m0s\u001b[0m 4ms/step - loss: 1.5525 - mae: 1.0337 - learning_rate: 1.0000e-06\n",
      "Epoch 145/1000\n",
      "\u001b[1m13/13\u001b[0m \u001b[32m━━━━━━━━━━━━━━━━━━━━\u001b[0m\u001b[37m\u001b[0m \u001b[1m0s\u001b[0m 4ms/step - loss: 1.4781 - mae: 1.0014 - learning_rate: 1.0000e-06\n",
      "Epoch 146/1000\n",
      "\u001b[1m13/13\u001b[0m \u001b[32m━━━━━━━━━━━━━━━━━━━━\u001b[0m\u001b[37m\u001b[0m \u001b[1m0s\u001b[0m 4ms/step - loss: 1.8898 - mae: 1.1210 - learning_rate: 1.0000e-06\n",
      "Epoch 147/1000\n",
      "\u001b[1m13/13\u001b[0m \u001b[32m━━━━━━━━━━━━━━━━━━━━\u001b[0m\u001b[37m\u001b[0m \u001b[1m0s\u001b[0m 4ms/step - loss: 1.4930 - mae: 1.0088 - learning_rate: 1.0000e-06\n",
      "Epoch 148/1000\n",
      "\u001b[1m13/13\u001b[0m \u001b[32m━━━━━━━━━━━━━━━━━━━━\u001b[0m\u001b[37m\u001b[0m \u001b[1m0s\u001b[0m 4ms/step - loss: 1.6590 - mae: 1.0895 - learning_rate: 1.0000e-06\n",
      "Epoch 149/1000\n",
      "\u001b[1m13/13\u001b[0m \u001b[32m━━━━━━━━━━━━━━━━━━━━\u001b[0m\u001b[37m\u001b[0m \u001b[1m0s\u001b[0m 4ms/step - loss: 1.6967 - mae: 1.0675 - learning_rate: 1.0000e-06\n",
      "Epoch 150/1000\n",
      "\u001b[1m13/13\u001b[0m \u001b[32m━━━━━━━━━━━━━━━━━━━━\u001b[0m\u001b[37m\u001b[0m \u001b[1m0s\u001b[0m 4ms/step - loss: 1.7085 - mae: 1.0669 - learning_rate: 1.0000e-07\n",
      "Epoch 151/1000\n",
      "\u001b[1m13/13\u001b[0m \u001b[32m━━━━━━━━━━━━━━━━━━━━\u001b[0m\u001b[37m\u001b[0m \u001b[1m0s\u001b[0m 4ms/step - loss: 1.5446 - mae: 1.0318 - learning_rate: 1.0000e-07\n",
      "Epoch 152/1000\n",
      "\u001b[1m13/13\u001b[0m \u001b[32m━━━━━━━━━━━━━━━━━━━━\u001b[0m\u001b[37m\u001b[0m \u001b[1m0s\u001b[0m 4ms/step - loss: 1.6997 - mae: 1.0589 - learning_rate: 1.0000e-07\n",
      "Epoch 153/1000\n",
      "\u001b[1m13/13\u001b[0m \u001b[32m━━━━━━━━━━━━━━━━━━━━\u001b[0m\u001b[37m\u001b[0m \u001b[1m0s\u001b[0m 5ms/step - loss: 1.5459 - mae: 1.0271 - learning_rate: 1.0000e-07\n",
      "Epoch 154/1000\n",
      "\u001b[1m13/13\u001b[0m \u001b[32m━━━━━━━━━━━━━━━━━━━━\u001b[0m\u001b[37m\u001b[0m \u001b[1m0s\u001b[0m 4ms/step - loss: 1.7547 - mae: 1.0863 - learning_rate: 1.0000e-07\n",
      "Epoch 155/1000\n",
      "\u001b[1m13/13\u001b[0m \u001b[32m━━━━━━━━━━━━━━━━━━━━\u001b[0m\u001b[37m\u001b[0m \u001b[1m0s\u001b[0m 4ms/step - loss: 1.5331 - mae: 1.0340 - learning_rate: 1.0000e-07\n",
      "Epoch 156/1000\n",
      "\u001b[1m13/13\u001b[0m \u001b[32m━━━━━━━━━━━━━━━━━━━━\u001b[0m\u001b[37m\u001b[0m \u001b[1m0s\u001b[0m 4ms/step - loss: 1.8648 - mae: 1.1234 - learning_rate: 1.0000e-08\n",
      "Epoch 157/1000\n",
      "\u001b[1m13/13\u001b[0m \u001b[32m━━━━━━━━━━━━━━━━━━━━\u001b[0m\u001b[37m\u001b[0m \u001b[1m0s\u001b[0m 4ms/step - loss: 1.7434 - mae: 1.0832 - learning_rate: 1.0000e-08\n",
      "Epoch 158/1000\n",
      "\u001b[1m13/13\u001b[0m \u001b[32m━━━━━━━━━━━━━━━━━━━━\u001b[0m\u001b[37m\u001b[0m \u001b[1m0s\u001b[0m 4ms/step - loss: 1.6812 - mae: 1.0851 - learning_rate: 1.0000e-08\n",
      "Epoch 159/1000\n",
      "\u001b[1m13/13\u001b[0m \u001b[32m━━━━━━━━━━━━━━━━━━━━\u001b[0m\u001b[37m\u001b[0m \u001b[1m0s\u001b[0m 4ms/step - loss: 1.6683 - mae: 1.0373 - learning_rate: 1.0000e-08\n",
      "Epoch 160/1000\n",
      "\u001b[1m13/13\u001b[0m \u001b[32m━━━━━━━━━━━━━━━━━━━━\u001b[0m\u001b[37m\u001b[0m \u001b[1m0s\u001b[0m 4ms/step - loss: 1.7220 - mae: 1.0685 - learning_rate: 1.0000e-08\n",
      "Epoch 161/1000\n",
      "\u001b[1m13/13\u001b[0m \u001b[32m━━━━━━━━━━━━━━━━━━━━\u001b[0m\u001b[37m\u001b[0m \u001b[1m0s\u001b[0m 4ms/step - loss: 1.6126 - mae: 1.0675 - learning_rate: 1.0000e-08\n",
      "Epoch 162/1000\n",
      "\u001b[1m13/13\u001b[0m \u001b[32m━━━━━━━━━━━━━━━━━━━━\u001b[0m\u001b[37m\u001b[0m \u001b[1m0s\u001b[0m 4ms/step - loss: 1.6759 - mae: 1.0763 - learning_rate: 1.0000e-09\n",
      "Epoch 163/1000\n",
      "\u001b[1m13/13\u001b[0m \u001b[32m━━━━━━━━━━━━━━━━━━━━\u001b[0m\u001b[37m\u001b[0m \u001b[1m0s\u001b[0m 4ms/step - loss: 1.4997 - mae: 1.0313 - learning_rate: 1.0000e-09\n",
      "Epoch 164/1000\n",
      "\u001b[1m13/13\u001b[0m \u001b[32m━━━━━━━━━━━━━━━━━━━━\u001b[0m\u001b[37m\u001b[0m \u001b[1m0s\u001b[0m 3ms/step - loss: 1.7912 - mae: 1.0873 - learning_rate: 1.0000e-09\n",
      "Epoch 165/1000\n",
      "\u001b[1m13/13\u001b[0m \u001b[32m━━━━━━━━━━━━━━━━━━━━\u001b[0m\u001b[37m\u001b[0m \u001b[1m0s\u001b[0m 4ms/step - loss: 1.5924 - mae: 1.0573 - learning_rate: 1.0000e-09\n",
      "Epoch 166/1000\n",
      "\u001b[1m13/13\u001b[0m \u001b[32m━━━━━━━━━━━━━━━━━━━━\u001b[0m\u001b[37m\u001b[0m \u001b[1m0s\u001b[0m 4ms/step - loss: 1.4155 - mae: 0.9926 - learning_rate: 1.0000e-09\n",
      "Epoch 167/1000\n",
      "\u001b[1m13/13\u001b[0m \u001b[32m━━━━━━━━━━━━━━━━━━━━\u001b[0m\u001b[37m\u001b[0m \u001b[1m0s\u001b[0m 4ms/step - loss: 1.6637 - mae: 1.0709 - learning_rate: 1.0000e-09\n",
      "Epoch 168/1000\n",
      "\u001b[1m13/13\u001b[0m \u001b[32m━━━━━━━━━━━━━━━━━━━━\u001b[0m\u001b[37m\u001b[0m \u001b[1m0s\u001b[0m 4ms/step - loss: 1.6243 - mae: 1.0616 - learning_rate: 1.0000e-10\n",
      "Epoch 169/1000\n",
      "\u001b[1m13/13\u001b[0m \u001b[32m━━━━━━━━━━━━━━━━━━━━\u001b[0m\u001b[37m\u001b[0m \u001b[1m0s\u001b[0m 4ms/step - loss: 1.5895 - mae: 1.0436 - learning_rate: 1.0000e-10\n",
      "Epoch 170/1000\n",
      "\u001b[1m13/13\u001b[0m \u001b[32m━━━━━━━━━━━━━━━━━━━━\u001b[0m\u001b[37m\u001b[0m \u001b[1m0s\u001b[0m 4ms/step - loss: 1.6523 - mae: 1.0645 - learning_rate: 1.0000e-10\n",
      "Epoch 171/1000\n",
      "\u001b[1m13/13\u001b[0m \u001b[32m━━━━━━━━━━━━━━━━━━━━\u001b[0m\u001b[37m\u001b[0m \u001b[1m0s\u001b[0m 4ms/step - loss: 1.5665 - mae: 1.0357 - learning_rate: 1.0000e-10\n",
      "Epoch 172/1000\n",
      "\u001b[1m13/13\u001b[0m \u001b[32m━━━━━━━━━━━━━━━━━━━━\u001b[0m\u001b[37m\u001b[0m \u001b[1m0s\u001b[0m 4ms/step - loss: 1.5390 - mae: 1.0114 - learning_rate: 1.0000e-10\n",
      "Epoch 173/1000\n",
      "\u001b[1m13/13\u001b[0m \u001b[32m━━━━━━━━━━━━━━━━━━━━\u001b[0m\u001b[37m\u001b[0m \u001b[1m0s\u001b[0m 3ms/step - loss: 1.6191 - mae: 1.0686 - learning_rate: 1.0000e-10\n",
      "Epoch 174/1000\n",
      "\u001b[1m13/13\u001b[0m \u001b[32m━━━━━━━━━━━━━━━━━━━━\u001b[0m\u001b[37m\u001b[0m \u001b[1m0s\u001b[0m 5ms/step - loss: 1.7538 - mae: 1.1046 - learning_rate: 1.0000e-11\n",
      "Epoch 175/1000\n",
      "\u001b[1m13/13\u001b[0m \u001b[32m━━━━━━━━━━━━━━━━━━━━\u001b[0m\u001b[37m\u001b[0m \u001b[1m0s\u001b[0m 5ms/step - loss: 1.6628 - mae: 1.0751 - learning_rate: 1.0000e-11\n"
     ]
    },
    {
     "data": {
      "image/png": "[encoded data removed]",
      "text/plain": [
       "<Figure size 640x480 with 1 Axes>"
      ]
     },
     "metadata": {},
     "output_type": "display_data"
    }
   ],
   "source": [
    "early = EarlyStopping(monitor='loss', patience=15, restore_best_weights=True)\n",
    "reduce = ReduceLROnPlateau(monitor='loss', patience=6)\n",
    "\n",
    "model = Sequential()\n",
    "model.add(Dense(1, input_shape=(1,)))\n",
    "model.compile(loss='mse', metrics=['mae'])\n",
    "history = model.fit(x,y, epochs=1000, batch_size=16, callbacks=[early, reduce])\n",
    "history = pd.DataFrame(history.history).plot()\n",
    "plt.grid()\n",
    "plt.yscale('log')\n",
    "plt.show()"
   ]
  },
  {
   "cell_type": "code",
   "execution_count": 25,
   "id": "2fbd1acc",
   "metadata": {
    "ExecuteTime": {
     "end_time": "2025-10-14T22:18:32.347236Z",
     "start_time": "2025-10-14T22:18:32.057147Z"
    },
    "id": "2fbd1acc"
   },
   "outputs": [
    {
     "name": "stdout",
     "output_type": "stream",
     "text": [
      "\u001b[1m7/7\u001b[0m \u001b[32m━━━━━━━━━━━━━━━━━━━━\u001b[0m\u001b[37m\u001b[0m \u001b[1m0s\u001b[0m 16ms/step\n"
     ]
    },
    {
     "data": {
      "image/png": "[encoded data removed]",
      "text/plain": [
       "<Figure size 640x480 with 1 Axes>"
      ]
     },
     "metadata": {},
     "output_type": "display_data"
    }
   ],
   "source": [
    "plt.plot(x,y, '.', label='data')\n",
    "plt.plot(np.sort(x,0), model.predict(np.sort(x,0)), label='prediction')\n",
    "plt.legend()\n",
    "plt.grid()\n",
    "plt.show()"
   ]
  },
  {
   "cell_type": "markdown",
   "id": "6d3ed606",
   "metadata": {
    "id": "6d3ed606"
   },
   "source": [
    "The result is not perfect but with such a model it cannot be better. This model can return only linear output and there isn't a line that will fit much better to the data we have. What we have to do is to extend the model. Let's create a neural network with more than one neuron. Typically in classical neural networks neurons are organized in layers. Outputs of the previous layer is an input for the next layer. All inputs are connected to each neuron from a given layer thus we call such architecture fully connected or dense.\n"
   ]
  },
  {
   "cell_type": "markdown",
   "id": "380db2e4",
   "metadata": {
    "id": "380db2e4"
   },
   "source": [
    "Here we can return to the activation functions.\n",
    "\n",
    "First, let's list the most popular functions"
   ]
  },
  {
   "cell_type": "code",
   "execution_count": 26,
   "id": "b1bd2fa3",
   "metadata": {
    "ExecuteTime": {
     "end_time": "2025-10-14T22:18:32.709428Z",
     "start_time": "2025-10-14T22:18:32.358949Z"
    },
    "id": "b1bd2fa3",
    "scrolled": false
   },
   "outputs": [
    {
     "name": "stdout",
     "output_type": "stream",
     "text": [
      "linear\n"
     ]
    },
    {
     "data": {
      "image/png": "[encoded data removed]",
      "text/plain": [
       "<Figure size 640x480 with 1 Axes>"
      ]
     },
     "metadata": {},
     "output_type": "display_data"
    },
    {
     "name": "stdout",
     "output_type": "stream",
     "text": [
      "tanh\n"
     ]
    },
    {
     "data": {
      "image/png": "[encoded data removed]",
      "text/plain": [
       "<Figure size 640x480 with 1 Axes>"
      ]
     },
     "metadata": {},
     "output_type": "display_data"
    },
    {
     "name": "stdout",
     "output_type": "stream",
     "text": [
      "sigmoid\n"
     ]
    },
    {
     "data": {
      "image/png": "[encoded data removed]",
      "text/plain": [
       "<Figure size 640x480 with 1 Axes>"
      ]
     },
     "metadata": {},
     "output_type": "display_data"
    },
    {
     "name": "stdout",
     "output_type": "stream",
     "text": [
      "relu\n"
     ]
    },
    {
     "data": {
      "image/png": "[encoded data removed]",
      "text/plain": [
       "<Figure size 640x480 with 1 Axes>"
      ]
     },
     "metadata": {},
     "output_type": "display_data"
    },
    {
     "name": "stdout",
     "output_type": "stream",
     "text": [
      "leakyrelu\n"
     ]
    },
    {
     "data": {
      "image/png": "[encoded data removed]",
      "text/plain": [
       "<Figure size 640x480 with 1 Axes>"
      ]
     },
     "metadata": {},
     "output_type": "display_data"
    }
   ],
   "source": [
    "print(\"linear\")\n",
    "r = np.linspace(-7,7)\n",
    "plt.plot(r,r)\n",
    "plt.grid()\n",
    "plt.show()\n",
    "print(\"tanh\")\n",
    "plt.plot(r, np.tanh(r))\n",
    "plt.grid()\n",
    "plt.show()\n",
    "print(\"sigmoid\")\n",
    "plt.plot(r, 1/(1 + np.exp(-r)))\n",
    "plt.grid()\n",
    "plt.show()\n",
    "print(\"relu\")\n",
    "plt.plot(r, np.where(r<0,0,r))\n",
    "plt.grid()\n",
    "plt.show()\n",
    "print(\"leakyrelu\")\n",
    "plt.plot(r, np.where(r<0,r*.1,r))\n",
    "plt.grid()\n",
    "plt.show()"
   ]
  },
  {
   "cell_type": "markdown",
   "id": "2029aa65",
   "metadata": {
    "id": "2029aa65"
   },
   "source": [
    "Now how to decide which one to use. As you probably noticed some functions have a limited range of values e.g. sigmoid returns values from 0 to 1 hence it's a perfect option when the output should be treated as a probability.\n",
    "\n",
    "In dense layers it doesn't make much sense to use linear activation. Do you know why? What's a linear transformation of linear transformation?\n",
    "\n",
    "Good default choice is relu"
   ]
  },
  {
   "cell_type": "markdown",
   "id": "0afcc60a",
   "metadata": {
    "id": "0afcc60a"
   },
   "source": [
    "The process of weight selection uses the derivative of an activation function. As you probably noticed for most of them derivative is close to zero for big positive and negative values. That's why we want to stay close to 0. To achieve that it's a good practice to introduce a data scaling process. It's a good idea to try different options, but classical standardization should be enough in most cases"
   ]
  },
  {
   "cell_type": "code",
   "execution_count": 27,
   "id": "b6dbc625",
   "metadata": {
    "ExecuteTime": {
     "end_time": "2025-10-14T22:18:32.726418Z",
     "start_time": "2025-10-14T22:18:32.723075Z"
    },
    "id": "b6dbc625",
    "scrolled": true
   },
   "outputs": [],
   "source": [
    "ss_x = StandardScaler()\n",
    "ss_y = StandardScaler()\n",
    "\n",
    "transformed_x = ss_x.fit_transform(x)\n",
    "transformed_y = ss_y.fit_transform(y)"
   ]
  },
  {
   "cell_type": "code",
   "execution_count": 28,
   "id": "d022528f",
   "metadata": {
    "ExecuteTime": {
     "end_time": "2025-10-14T22:18:42.139821Z",
     "start_time": "2025-10-14T22:18:32.781564Z"
    },
    "id": "d022528f",
    "scrolled": true
   },
   "outputs": [
    {
     "name": "stdout",
     "output_type": "stream",
     "text": [
      "Epoch 1/500\n"
     ]
    },
    {
     "name": "stderr",
     "output_type": "stream",
     "text": [
      "/home/determinator/miniconda3/envs/tf-gpu/lib/python3.12/site-packages/keras/src/layers/core/dense.py:87: UserWarning: Do not pass an `input_shape`/`input_dim` argument to a layer. When using Sequential models, prefer using an `Input(shape)` object as the first layer in the model instead.\n",
      "  super().__init__(activity_regularizer=activity_regularizer, **kwargs)\n"
     ]
    },
    {
     "name": "stdout",
     "output_type": "stream",
     "text": [
      "\u001b[1m13/13\u001b[0m \u001b[32m━━━━━━━━━━━━━━━━━━━━\u001b[0m\u001b[37m\u001b[0m \u001b[1m1s\u001b[0m 19ms/step - loss: 1.1061 - mae: 0.8730 - learning_rate: 0.0010\n",
      "Epoch 2/500\n",
      "\u001b[1m13/13\u001b[0m \u001b[32m━━━━━━━━━━━━━━━━━━━━\u001b[0m\u001b[37m\u001b[0m \u001b[1m0s\u001b[0m 4ms/step - loss: 0.7987 - mae: 0.7409 - learning_rate: 0.0010\n",
      "Epoch 3/500\n",
      "\u001b[1m13/13\u001b[0m \u001b[32m━━━━━━━━━━━━━━━━━━━━\u001b[0m\u001b[37m\u001b[0m \u001b[1m0s\u001b[0m 4ms/step - loss: 0.6053 - mae: 0.6352 - learning_rate: 0.0010\n",
      "Epoch 4/500\n",
      "\u001b[1m13/13\u001b[0m \u001b[32m━━━━━━━━━━━━━━━━━━━━\u001b[0m\u001b[37m\u001b[0m \u001b[1m0s\u001b[0m 4ms/step - loss: 0.4802 - mae: 0.5641 - learning_rate: 0.0010\n",
      "Epoch 5/500\n",
      "\u001b[1m13/13\u001b[0m \u001b[32m━━━━━━━━━━━━━━━━━━━━\u001b[0m\u001b[37m\u001b[0m \u001b[1m0s\u001b[0m 4ms/step - loss: 0.2785 - mae: 0.4067 - learning_rate: 0.0010\n",
      "Epoch 6/500\n",
      "\u001b[1m13/13\u001b[0m \u001b[32m━━━━━━━━━━━━━━━━━━━━\u001b[0m\u001b[37m\u001b[0m \u001b[1m0s\u001b[0m 4ms/step - loss: 0.1900 - mae: 0.3461 - learning_rate: 0.0010\n",
      "Epoch 7/500\n",
      "\u001b[1m13/13\u001b[0m \u001b[32m━━━━━━━━━━━━━━━━━━━━\u001b[0m\u001b[37m\u001b[0m \u001b[1m0s\u001b[0m 4ms/step - loss: 0.1336 - mae: 0.2928 - learning_rate: 0.0010\n",
      "Epoch 8/500\n",
      "\u001b[1m13/13\u001b[0m \u001b[32m━━━━━━━━━━━━━━━━━━━━\u001b[0m\u001b[37m\u001b[0m \u001b[1m0s\u001b[0m 4ms/step - loss: 0.1163 - mae: 0.2681 - learning_rate: 0.0010\n",
      "Epoch 9/500\n",
      "\u001b[1m13/13\u001b[0m \u001b[32m━━━━━━━━━━━━━━━━━━━━\u001b[0m\u001b[37m\u001b[0m \u001b[1m0s\u001b[0m 4ms/step - loss: 0.0927 - mae: 0.2582 - learning_rate: 0.0010\n",
      "Epoch 10/500\n",
      "\u001b[1m13/13\u001b[0m \u001b[32m━━━━━━━━━━━━━━━━━━━━\u001b[0m\u001b[37m\u001b[0m \u001b[1m0s\u001b[0m 3ms/step - loss: 0.0794 - mae: 0.2357 - learning_rate: 0.0010\n",
      "Epoch 11/500\n",
      "\u001b[1m13/13\u001b[0m \u001b[32m━━━━━━━━━━━━━━━━━━━━\u001b[0m\u001b[37m\u001b[0m \u001b[1m0s\u001b[0m 4ms/step - loss: 0.0811 - mae: 0.2406 - learning_rate: 0.0010\n",
      "Epoch 12/500\n",
      "\u001b[1m13/13\u001b[0m \u001b[32m━━━━━━━━━━━━━━━━━━━━\u001b[0m\u001b[37m\u001b[0m \u001b[1m0s\u001b[0m 4ms/step - loss: 0.0806 - mae: 0.2415 - learning_rate: 0.0010\n",
      "Epoch 13/500\n",
      "\u001b[1m13/13\u001b[0m \u001b[32m━━━━━━━━━━━━━━━━━━━━\u001b[0m\u001b[37m\u001b[0m \u001b[1m0s\u001b[0m 4ms/step - loss: 0.0754 - mae: 0.2342 - learning_rate: 0.0010\n",
      "Epoch 14/500\n",
      "\u001b[1m13/13\u001b[0m \u001b[32m━━━━━━━━━━━━━━━━━━━━\u001b[0m\u001b[37m\u001b[0m \u001b[1m0s\u001b[0m 4ms/step - loss: 0.0714 - mae: 0.2262 - learning_rate: 0.0010\n",
      "Epoch 15/500\n",
      "\u001b[1m13/13\u001b[0m \u001b[32m━━━━━━━━━━━━━━━━━━━━\u001b[0m\u001b[37m\u001b[0m \u001b[1m0s\u001b[0m 5ms/step - loss: 0.0769 - mae: 0.2295 - learning_rate: 0.0010\n",
      "Epoch 16/500\n",
      "\u001b[1m13/13\u001b[0m \u001b[32m━━━━━━━━━━━━━━━━━━━━\u001b[0m\u001b[37m\u001b[0m \u001b[1m0s\u001b[0m 4ms/step - loss: 0.0724 - mae: 0.2311 - learning_rate: 0.0010\n",
      "Epoch 17/500\n",
      "\u001b[1m13/13\u001b[0m \u001b[32m━━━━━━━━━━━━━━━━━━━━\u001b[0m\u001b[37m\u001b[0m \u001b[1m0s\u001b[0m 4ms/step - loss: 0.0615 - mae: 0.2094 - learning_rate: 0.0010\n",
      "Epoch 18/500\n",
      "\u001b[1m13/13\u001b[0m \u001b[32m━━━━━━━━━━━━━━━━━━━━\u001b[0m\u001b[37m\u001b[0m \u001b[1m0s\u001b[0m 5ms/step - loss: 0.0604 - mae: 0.2077 - learning_rate: 0.0010\n",
      "Epoch 19/500\n",
      "\u001b[1m13/13\u001b[0m \u001b[32m━━━━━━━━━━━━━━━━━━━━\u001b[0m\u001b[37m\u001b[0m \u001b[1m0s\u001b[0m 4ms/step - loss: 0.0609 - mae: 0.2088 - learning_rate: 0.0010\n",
      "Epoch 20/500\n",
      "\u001b[1m13/13\u001b[0m \u001b[32m━━━━━━━━━━━━━━━━━━━━\u001b[0m\u001b[37m\u001b[0m \u001b[1m0s\u001b[0m 4ms/step - loss: 0.0653 - mae: 0.2195 - learning_rate: 0.0010\n",
      "Epoch 21/500\n",
      "\u001b[1m13/13\u001b[0m \u001b[32m━━━━━━━━━━━━━━━━━━━━\u001b[0m\u001b[37m\u001b[0m \u001b[1m0s\u001b[0m 4ms/step - loss: 0.0582 - mae: 0.2044 - learning_rate: 0.0010\n",
      "Epoch 22/500\n",
      "\u001b[1m13/13\u001b[0m \u001b[32m━━━━━━━━━━━━━━━━━━━━\u001b[0m\u001b[37m\u001b[0m \u001b[1m0s\u001b[0m 4ms/step - loss: 0.0566 - mae: 0.1994 - learning_rate: 0.0010\n",
      "Epoch 23/500\n",
      "\u001b[1m13/13\u001b[0m \u001b[32m━━━━━━━━━━━━━━━━━━━━\u001b[0m\u001b[37m\u001b[0m \u001b[1m0s\u001b[0m 4ms/step - loss: 0.0602 - mae: 0.2112 - learning_rate: 0.0010\n",
      "Epoch 24/500\n",
      "\u001b[1m13/13\u001b[0m \u001b[32m━━━━━━━━━━━━━━━━━━━━\u001b[0m\u001b[37m\u001b[0m \u001b[1m0s\u001b[0m 4ms/step - loss: 0.0539 - mae: 0.1994 - learning_rate: 0.0010\n",
      "Epoch 25/500\n",
      "\u001b[1m13/13\u001b[0m \u001b[32m━━━━━━━━━━━━━━━━━━━━\u001b[0m\u001b[37m\u001b[0m \u001b[1m0s\u001b[0m 4ms/step - loss: 0.0578 - mae: 0.2083 - learning_rate: 0.0010\n",
      "Epoch 26/500\n",
      "\u001b[1m13/13\u001b[0m \u001b[32m━━━━━━━━━━━━━━━━━━━━\u001b[0m\u001b[37m\u001b[0m \u001b[1m0s\u001b[0m 4ms/step - loss: 0.0600 - mae: 0.2098 - learning_rate: 0.0010\n",
      "Epoch 27/500\n",
      "\u001b[1m13/13\u001b[0m \u001b[32m━━━━━━━━━━━━━━━━━━━━\u001b[0m\u001b[37m\u001b[0m \u001b[1m0s\u001b[0m 4ms/step - loss: 0.0553 - mae: 0.2033 - learning_rate: 0.0010\n",
      "Epoch 28/500\n",
      "\u001b[1m13/13\u001b[0m \u001b[32m━━━━━━━━━━━━━━━━━━━━\u001b[0m\u001b[37m\u001b[0m \u001b[1m0s\u001b[0m 4ms/step - loss: 0.0524 - mae: 0.1965 - learning_rate: 0.0010\n",
      "Epoch 29/500\n",
      "\u001b[1m13/13\u001b[0m \u001b[32m━━━━━━━━━━━━━━━━━━━━\u001b[0m\u001b[37m\u001b[0m \u001b[1m0s\u001b[0m 4ms/step - loss: 0.0485 - mae: 0.1893 - learning_rate: 0.0010\n",
      "Epoch 30/500\n",
      "\u001b[1m13/13\u001b[0m \u001b[32m━━━━━━━━━━━━━━━━━━━━\u001b[0m\u001b[37m\u001b[0m \u001b[1m0s\u001b[0m 5ms/step - loss: 0.0518 - mae: 0.1914 - learning_rate: 0.0010\n",
      "Epoch 31/500\n",
      "\u001b[1m13/13\u001b[0m \u001b[32m━━━━━━━━━━━━━━━━━━━━\u001b[0m\u001b[37m\u001b[0m \u001b[1m0s\u001b[0m 5ms/step - loss: 0.0530 - mae: 0.1980 - learning_rate: 0.0010\n",
      "Epoch 32/500\n",
      "\u001b[1m13/13\u001b[0m \u001b[32m━━━━━━━━━━━━━━━━━━━━\u001b[0m\u001b[37m\u001b[0m \u001b[1m0s\u001b[0m 4ms/step - loss: 0.0487 - mae: 0.1899 - learning_rate: 0.0010\n",
      "Epoch 33/500\n",
      "\u001b[1m13/13\u001b[0m \u001b[32m━━━━━━━━━━━━━━━━━━━━\u001b[0m\u001b[37m\u001b[0m \u001b[1m0s\u001b[0m 5ms/step - loss: 0.0534 - mae: 0.1980 - learning_rate: 0.0010\n",
      "Epoch 34/500\n",
      "\u001b[1m13/13\u001b[0m \u001b[32m━━━━━━━━━━━━━━━━━━━━\u001b[0m\u001b[37m\u001b[0m \u001b[1m0s\u001b[0m 5ms/step - loss: 0.0523 - mae: 0.1998 - learning_rate: 0.0010\n",
      "Epoch 35/500\n",
      "\u001b[1m13/13\u001b[0m \u001b[32m━━━━━━━━━━━━━━━━━━━━\u001b[0m\u001b[37m\u001b[0m \u001b[1m0s\u001b[0m 6ms/step - loss: 0.0503 - mae: 0.1915 - learning_rate: 0.0010\n",
      "Epoch 36/500\n",
      "\u001b[1m13/13\u001b[0m \u001b[32m━━━━━━━━━━━━━━━━━━━━\u001b[0m\u001b[37m\u001b[0m \u001b[1m0s\u001b[0m 5ms/step - loss: 0.0474 - mae: 0.1887 - learning_rate: 0.0010\n",
      "Epoch 37/500\n",
      "\u001b[1m13/13\u001b[0m \u001b[32m━━━━━━━━━━━━━━━━━━━━\u001b[0m\u001b[37m\u001b[0m \u001b[1m0s\u001b[0m 4ms/step - loss: 0.0511 - mae: 0.1931 - learning_rate: 0.0010\n",
      "Epoch 38/500\n",
      "\u001b[1m13/13\u001b[0m \u001b[32m━━━━━━━━━━━━━━━━━━━━\u001b[0m\u001b[37m\u001b[0m \u001b[1m0s\u001b[0m 5ms/step - loss: 0.0464 - mae: 0.1854 - learning_rate: 0.0010\n",
      "Epoch 39/500\n",
      "\u001b[1m13/13\u001b[0m \u001b[32m━━━━━━━━━━━━━━━━━━━━\u001b[0m\u001b[37m\u001b[0m \u001b[1m0s\u001b[0m 4ms/step - loss: 0.0461 - mae: 0.1825 - learning_rate: 0.0010\n",
      "Epoch 40/500\n",
      "\u001b[1m13/13\u001b[0m \u001b[32m━━━━━━━━━━━━━━━━━━━━\u001b[0m\u001b[37m\u001b[0m \u001b[1m0s\u001b[0m 4ms/step - loss: 0.0480 - mae: 0.1894 - learning_rate: 0.0010\n",
      "Epoch 41/500\n",
      "\u001b[1m13/13\u001b[0m \u001b[32m━━━━━━━━━━━━━━━━━━━━\u001b[0m\u001b[37m\u001b[0m \u001b[1m0s\u001b[0m 4ms/step - loss: 0.0560 - mae: 0.2022 - learning_rate: 0.0010\n",
      "Epoch 42/500\n",
      "\u001b[1m13/13\u001b[0m \u001b[32m━━━━━━━━━━━━━━━━━━━━\u001b[0m\u001b[37m\u001b[0m \u001b[1m0s\u001b[0m 4ms/step - loss: 0.0530 - mae: 0.2020 - learning_rate: 0.0010\n",
      "Epoch 43/500\n",
      "\u001b[1m13/13\u001b[0m \u001b[32m━━━━━━━━━━━━━━━━━━━━\u001b[0m\u001b[37m\u001b[0m \u001b[1m0s\u001b[0m 4ms/step - loss: 0.0514 - mae: 0.2006 - learning_rate: 0.0010\n",
      "Epoch 44/500\n",
      "\u001b[1m13/13\u001b[0m \u001b[32m━━━━━━━━━━━━━━━━━━━━\u001b[0m\u001b[37m\u001b[0m \u001b[1m0s\u001b[0m 4ms/step - loss: 0.0544 - mae: 0.2026 - learning_rate: 0.0010\n",
      "Epoch 45/500\n",
      "\u001b[1m13/13\u001b[0m \u001b[32m━━━━━━━━━━━━━━━━━━━━\u001b[0m\u001b[37m\u001b[0m \u001b[1m0s\u001b[0m 4ms/step - loss: 0.0491 - mae: 0.1909 - learning_rate: 0.0010\n",
      "Epoch 46/500\n",
      "\u001b[1m13/13\u001b[0m \u001b[32m━━━━━━━━━━━━━━━━━━━━\u001b[0m\u001b[37m\u001b[0m \u001b[1m0s\u001b[0m 4ms/step - loss: 0.0478 - mae: 0.1860 - learning_rate: 0.0010\n",
      "Epoch 47/500\n",
      "\u001b[1m13/13\u001b[0m \u001b[32m━━━━━━━━━━━━━━━━━━━━\u001b[0m\u001b[37m\u001b[0m \u001b[1m0s\u001b[0m 4ms/step - loss: 0.0467 - mae: 0.1869 - learning_rate: 0.0010\n",
      "Epoch 48/500\n",
      "\u001b[1m13/13\u001b[0m \u001b[32m━━━━━━━━━━━━━━━━━━━━\u001b[0m\u001b[37m\u001b[0m \u001b[1m0s\u001b[0m 4ms/step - loss: 0.0456 - mae: 0.1859 - learning_rate: 0.0010\n",
      "Epoch 49/500\n",
      "\u001b[1m13/13\u001b[0m \u001b[32m━━━━━━━━━━━━━━━━━━━━\u001b[0m\u001b[37m\u001b[0m \u001b[1m0s\u001b[0m 4ms/step - loss: 0.0511 - mae: 0.1944 - learning_rate: 0.0010\n",
      "Epoch 50/500\n",
      "\u001b[1m13/13\u001b[0m \u001b[32m━━━━━━━━━━━━━━━━━━━━\u001b[0m\u001b[37m\u001b[0m \u001b[1m0s\u001b[0m 5ms/step - loss: 0.0490 - mae: 0.1938 - learning_rate: 0.0010\n",
      "Epoch 51/500\n",
      "\u001b[1m13/13\u001b[0m \u001b[32m━━━━━━━━━━━━━━━━━━━━\u001b[0m\u001b[37m\u001b[0m \u001b[1m0s\u001b[0m 4ms/step - loss: 0.0437 - mae: 0.1795 - learning_rate: 0.0010\n",
      "Epoch 52/500\n",
      "\u001b[1m13/13\u001b[0m \u001b[32m━━━━━━━━━━━━━━━━━━━━\u001b[0m\u001b[37m\u001b[0m \u001b[1m0s\u001b[0m 4ms/step - loss: 0.0469 - mae: 0.1885 - learning_rate: 0.0010\n",
      "Epoch 53/500\n",
      "\u001b[1m13/13\u001b[0m \u001b[32m━━━━━━━━━━━━━━━━━━━━\u001b[0m\u001b[37m\u001b[0m \u001b[1m0s\u001b[0m 4ms/step - loss: 0.0474 - mae: 0.1885 - learning_rate: 0.0010\n",
      "Epoch 54/500\n",
      "\u001b[1m13/13\u001b[0m \u001b[32m━━━━━━━━━━━━━━━━━━━━\u001b[0m\u001b[37m\u001b[0m \u001b[1m0s\u001b[0m 4ms/step - loss: 0.0468 - mae: 0.1876 - learning_rate: 0.0010\n",
      "Epoch 55/500\n",
      "\u001b[1m13/13\u001b[0m \u001b[32m━━━━━━━━━━━━━━━━━━━━\u001b[0m\u001b[37m\u001b[0m \u001b[1m0s\u001b[0m 4ms/step - loss: 0.0478 - mae: 0.1898 - learning_rate: 0.0010\n",
      "Epoch 56/500\n",
      "\u001b[1m13/13\u001b[0m \u001b[32m━━━━━━━━━━━━━━━━━━━━\u001b[0m\u001b[37m\u001b[0m \u001b[1m0s\u001b[0m 4ms/step - loss: 0.0482 - mae: 0.1913 - learning_rate: 0.0010\n",
      "Epoch 57/500\n",
      "\u001b[1m13/13\u001b[0m \u001b[32m━━━━━━━━━━━━━━━━━━━━\u001b[0m\u001b[37m\u001b[0m \u001b[1m0s\u001b[0m 4ms/step - loss: 0.0472 - mae: 0.1877 - learning_rate: 0.0010\n",
      "Epoch 58/500\n",
      "\u001b[1m13/13\u001b[0m \u001b[32m━━━━━━━━━━━━━━━━━━━━\u001b[0m\u001b[37m\u001b[0m \u001b[1m0s\u001b[0m 5ms/step - loss: 0.0525 - mae: 0.2036 - learning_rate: 0.0010\n",
      "Epoch 59/500\n",
      "\u001b[1m13/13\u001b[0m \u001b[32m━━━━━━━━━━━━━━━━━━━━\u001b[0m\u001b[37m\u001b[0m \u001b[1m0s\u001b[0m 5ms/step - loss: 0.0516 - mae: 0.1994 - learning_rate: 0.0010\n",
      "Epoch 60/500\n",
      "\u001b[1m13/13\u001b[0m \u001b[32m━━━━━━━━━━━━━━━━━━━━\u001b[0m\u001b[37m\u001b[0m \u001b[1m0s\u001b[0m 4ms/step - loss: 0.0479 - mae: 0.1900 - learning_rate: 0.0010\n",
      "Epoch 61/500\n",
      "\u001b[1m13/13\u001b[0m \u001b[32m━━━━━━━━━━━━━━━━━━━━\u001b[0m\u001b[37m\u001b[0m \u001b[1m0s\u001b[0m 4ms/step - loss: 0.0481 - mae: 0.1896 - learning_rate: 0.0010\n",
      "Epoch 62/500\n",
      "\u001b[1m13/13\u001b[0m \u001b[32m━━━━━━━━━━━━━━━━━━━━\u001b[0m\u001b[37m\u001b[0m \u001b[1m0s\u001b[0m 4ms/step - loss: 0.0488 - mae: 0.1953 - learning_rate: 0.0010\n",
      "Epoch 63/500\n",
      "\u001b[1m13/13\u001b[0m \u001b[32m━━━━━━━━━━━━━━━━━━━━\u001b[0m\u001b[37m\u001b[0m \u001b[1m0s\u001b[0m 4ms/step - loss: 0.0519 - mae: 0.2022 - learning_rate: 0.0010\n",
      "Epoch 64/500\n",
      "\u001b[1m13/13\u001b[0m \u001b[32m━━━━━━━━━━━━━━━━━━━━\u001b[0m\u001b[37m\u001b[0m \u001b[1m0s\u001b[0m 4ms/step - loss: 0.0507 - mae: 0.1976 - learning_rate: 0.0010\n",
      "Epoch 65/500\n",
      "\u001b[1m13/13\u001b[0m \u001b[32m━━━━━━━━━━━━━━━━━━━━\u001b[0m\u001b[37m\u001b[0m \u001b[1m0s\u001b[0m 5ms/step - loss: 0.0459 - mae: 0.1860 - learning_rate: 0.0010\n",
      "Epoch 66/500\n",
      "\u001b[1m13/13\u001b[0m \u001b[32m━━━━━━━━━━━━━━━━━━━━\u001b[0m\u001b[37m\u001b[0m \u001b[1m0s\u001b[0m 4ms/step - loss: 0.0505 - mae: 0.1947 - learning_rate: 0.0010\n",
      "Epoch 67/500\n",
      "\u001b[1m13/13\u001b[0m \u001b[32m━━━━━━━━━━━━━━━━━━━━\u001b[0m\u001b[37m\u001b[0m \u001b[1m0s\u001b[0m 4ms/step - loss: 0.0461 - mae: 0.1861 - learning_rate: 0.0010\n",
      "Epoch 68/500\n",
      "\u001b[1m13/13\u001b[0m \u001b[32m━━━━━━━━━━━━━━━━━━━━\u001b[0m\u001b[37m\u001b[0m \u001b[1m0s\u001b[0m 4ms/step - loss: 0.0504 - mae: 0.1945 - learning_rate: 0.0010\n",
      "Epoch 69/500\n",
      "\u001b[1m13/13\u001b[0m \u001b[32m━━━━━━━━━━━━━━━━━━━━\u001b[0m\u001b[37m\u001b[0m \u001b[1m0s\u001b[0m 4ms/step - loss: 0.0498 - mae: 0.1928 - learning_rate: 0.0010\n",
      "Epoch 70/500\n",
      "\u001b[1m13/13\u001b[0m \u001b[32m━━━━━━━━━━━━━━━━━━━━\u001b[0m\u001b[37m\u001b[0m \u001b[1m0s\u001b[0m 4ms/step - loss: 0.0505 - mae: 0.1956 - learning_rate: 1.0000e-04\n",
      "Epoch 71/500\n",
      "\u001b[1m13/13\u001b[0m \u001b[32m━━━━━━━━━━━━━━━━━━━━\u001b[0m\u001b[37m\u001b[0m \u001b[1m0s\u001b[0m 5ms/step - loss: 0.0506 - mae: 0.1964 - learning_rate: 1.0000e-04\n",
      "Epoch 72/500\n",
      "\u001b[1m13/13\u001b[0m \u001b[32m━━━━━━━━━━━━━━━━━━━━\u001b[0m\u001b[37m\u001b[0m \u001b[1m0s\u001b[0m 4ms/step - loss: 0.0424 - mae: 0.1780 - learning_rate: 1.0000e-04\n",
      "Epoch 73/500\n",
      "\u001b[1m13/13\u001b[0m \u001b[32m━━━━━━━━━━━━━━━━━━━━\u001b[0m\u001b[37m\u001b[0m \u001b[1m0s\u001b[0m 4ms/step - loss: 0.0487 - mae: 0.1932 - learning_rate: 1.0000e-04\n",
      "Epoch 74/500\n",
      "\u001b[1m13/13\u001b[0m \u001b[32m━━━━━━━━━━━━━━━━━━━━\u001b[0m\u001b[37m\u001b[0m \u001b[1m0s\u001b[0m 4ms/step - loss: 0.0449 - mae: 0.1835 - learning_rate: 1.0000e-04\n",
      "Epoch 75/500\n",
      "\u001b[1m13/13\u001b[0m \u001b[32m━━━━━━━━━━━━━━━━━━━━\u001b[0m\u001b[37m\u001b[0m \u001b[1m0s\u001b[0m 4ms/step - loss: 0.0480 - mae: 0.1909 - learning_rate: 1.0000e-04\n",
      "Epoch 76/500\n",
      "\u001b[1m13/13\u001b[0m \u001b[32m━━━━━━━━━━━━━━━━━━━━\u001b[0m\u001b[37m\u001b[0m \u001b[1m0s\u001b[0m 4ms/step - loss: 0.0447 - mae: 0.1833 - learning_rate: 1.0000e-04\n",
      "Epoch 77/500\n",
      "\u001b[1m13/13\u001b[0m \u001b[32m━━━━━━━━━━━━━━━━━━━━\u001b[0m\u001b[37m\u001b[0m \u001b[1m0s\u001b[0m 5ms/step - loss: 0.0447 - mae: 0.1811 - learning_rate: 1.0000e-05\n",
      "Epoch 78/500\n",
      "\u001b[1m13/13\u001b[0m \u001b[32m━━━━━━━━━━━━━━━━━━━━\u001b[0m\u001b[37m\u001b[0m \u001b[1m0s\u001b[0m 4ms/step - loss: 0.0456 - mae: 0.1871 - learning_rate: 1.0000e-05\n",
      "Epoch 79/500\n",
      "\u001b[1m13/13\u001b[0m \u001b[32m━━━━━━━━━━━━━━━━━━━━\u001b[0m\u001b[37m\u001b[0m \u001b[1m0s\u001b[0m 4ms/step - loss: 0.0441 - mae: 0.1820 - learning_rate: 1.0000e-05\n",
      "Epoch 80/500\n",
      "\u001b[1m13/13\u001b[0m \u001b[32m━━━━━━━━━━━━━━━━━━━━\u001b[0m\u001b[37m\u001b[0m \u001b[1m0s\u001b[0m 4ms/step - loss: 0.0480 - mae: 0.1913 - learning_rate: 1.0000e-05\n",
      "Epoch 81/500\n",
      "\u001b[1m13/13\u001b[0m \u001b[32m━━━━━━━━━━━━━━━━━━━━\u001b[0m\u001b[37m\u001b[0m \u001b[1m0s\u001b[0m 4ms/step - loss: 0.0462 - mae: 0.1864 - learning_rate: 1.0000e-05\n",
      "Epoch 82/500\n",
      "\u001b[1m13/13\u001b[0m \u001b[32m━━━━━━━━━━━━━━━━━━━━\u001b[0m\u001b[37m\u001b[0m \u001b[1m0s\u001b[0m 4ms/step - loss: 0.0465 - mae: 0.1893 - learning_rate: 1.0000e-05\n",
      "Epoch 83/500\n",
      "\u001b[1m13/13\u001b[0m \u001b[32m━━━━━━━━━━━━━━━━━━━━\u001b[0m\u001b[37m\u001b[0m \u001b[1m0s\u001b[0m 4ms/step - loss: 0.0450 - mae: 0.1791 - learning_rate: 1.0000e-05\n",
      "Epoch 84/500\n",
      "\u001b[1m13/13\u001b[0m \u001b[32m━━━━━━━━━━━━━━━━━━━━\u001b[0m\u001b[37m\u001b[0m \u001b[1m0s\u001b[0m 4ms/step - loss: 0.0500 - mae: 0.1957 - learning_rate: 1.0000e-06\n",
      "Epoch 85/500\n",
      "\u001b[1m13/13\u001b[0m \u001b[32m━━━━━━━━━━━━━━━━━━━━\u001b[0m\u001b[37m\u001b[0m \u001b[1m0s\u001b[0m 4ms/step - loss: 0.0428 - mae: 0.1795 - learning_rate: 1.0000e-06\n",
      "Epoch 86/500\n",
      "\u001b[1m13/13\u001b[0m \u001b[32m━━━━━━━━━━━━━━━━━━━━\u001b[0m\u001b[37m\u001b[0m \u001b[1m0s\u001b[0m 4ms/step - loss: 0.0467 - mae: 0.1886 - learning_rate: 1.0000e-06\n",
      "Epoch 87/500\n",
      "\u001b[1m13/13\u001b[0m \u001b[32m━━━━━━━━━━━━━━━━━━━━\u001b[0m\u001b[37m\u001b[0m \u001b[1m0s\u001b[0m 3ms/step - loss: 0.0489 - mae: 0.1914 - learning_rate: 1.0000e-06\n",
      "Epoch 88/500\n",
      "\u001b[1m13/13\u001b[0m \u001b[32m━━━━━━━━━━━━━━━━━━━━\u001b[0m\u001b[37m\u001b[0m \u001b[1m0s\u001b[0m 4ms/step - loss: 0.0480 - mae: 0.1888 - learning_rate: 1.0000e-06\n",
      "Epoch 89/500\n",
      "\u001b[1m13/13\u001b[0m \u001b[32m━━━━━━━━━━━━━━━━━━━━\u001b[0m\u001b[37m\u001b[0m \u001b[1m0s\u001b[0m 4ms/step - loss: 0.0478 - mae: 0.1881 - learning_rate: 1.0000e-06\n",
      "Epoch 90/500\n",
      "\u001b[1m13/13\u001b[0m \u001b[32m━━━━━━━━━━━━━━━━━━━━\u001b[0m\u001b[37m\u001b[0m \u001b[1m0s\u001b[0m 4ms/step - loss: 0.0502 - mae: 0.1941 - learning_rate: 1.0000e-07\n",
      "Epoch 91/500\n",
      "\u001b[1m13/13\u001b[0m \u001b[32m━━━━━━━━━━━━━━━━━━━━\u001b[0m\u001b[37m\u001b[0m \u001b[1m0s\u001b[0m 4ms/step - loss: 0.0447 - mae: 0.1815 - learning_rate: 1.0000e-07\n",
      "Epoch 92/500\n",
      "\u001b[1m13/13\u001b[0m \u001b[32m━━━━━━━━━━━━━━━━━━━━\u001b[0m\u001b[37m\u001b[0m \u001b[1m0s\u001b[0m 5ms/step - loss: 0.0487 - mae: 0.1922 - learning_rate: 1.0000e-07\n",
      "Epoch 93/500\n",
      "\u001b[1m13/13\u001b[0m \u001b[32m━━━━━━━━━━━━━━━━━━━━\u001b[0m\u001b[37m\u001b[0m \u001b[1m0s\u001b[0m 4ms/step - loss: 0.0485 - mae: 0.1941 - learning_rate: 1.0000e-07\n",
      "Epoch 94/500\n",
      "\u001b[1m13/13\u001b[0m \u001b[32m━━━━━━━━━━━━━━━━━━━━\u001b[0m\u001b[37m\u001b[0m \u001b[1m0s\u001b[0m 4ms/step - loss: 0.0445 - mae: 0.1823 - learning_rate: 1.0000e-07\n",
      "Epoch 95/500\n",
      "\u001b[1m13/13\u001b[0m \u001b[32m━━━━━━━━━━━━━━━━━━━━\u001b[0m\u001b[37m\u001b[0m \u001b[1m0s\u001b[0m 4ms/step - loss: 0.0469 - mae: 0.1899 - learning_rate: 1.0000e-07\n",
      "Epoch 96/500\n",
      "\u001b[1m13/13\u001b[0m \u001b[32m━━━━━━━━━━━━━━━━━━━━\u001b[0m\u001b[37m\u001b[0m \u001b[1m0s\u001b[0m 4ms/step - loss: 0.0497 - mae: 0.1942 - learning_rate: 1.0000e-08\n",
      "Epoch 97/500\n",
      "\u001b[1m13/13\u001b[0m \u001b[32m━━━━━━━━━━━━━━━━━━━━\u001b[0m\u001b[37m\u001b[0m \u001b[1m0s\u001b[0m 4ms/step - loss: 0.0467 - mae: 0.1883 - learning_rate: 1.0000e-08\n",
      "Epoch 98/500\n",
      "\u001b[1m13/13\u001b[0m \u001b[32m━━━━━━━━━━━━━━━━━━━━\u001b[0m\u001b[37m\u001b[0m \u001b[1m0s\u001b[0m 4ms/step - loss: 0.0472 - mae: 0.1888 - learning_rate: 1.0000e-08\n",
      "Epoch 99/500\n",
      "\u001b[1m13/13\u001b[0m \u001b[32m━━━━━━━━━━━━━━━━━━━━\u001b[0m\u001b[37m\u001b[0m \u001b[1m0s\u001b[0m 3ms/step - loss: 0.0527 - mae: 0.2029 - learning_rate: 1.0000e-08\n",
      "Epoch 100/500\n",
      "\u001b[1m13/13\u001b[0m \u001b[32m━━━━━━━━━━━━━━━━━━━━\u001b[0m\u001b[37m\u001b[0m \u001b[1m0s\u001b[0m 4ms/step - loss: 0.0460 - mae: 0.1855 - learning_rate: 1.0000e-08\n",
      "Epoch 101/500\n",
      "\u001b[1m13/13\u001b[0m \u001b[32m━━━━━━━━━━━━━━━━━━━━\u001b[0m\u001b[37m\u001b[0m \u001b[1m0s\u001b[0m 4ms/step - loss: 0.0517 - mae: 0.2013 - learning_rate: 1.0000e-08\n",
      "Epoch 102/500\n",
      "\u001b[1m13/13\u001b[0m \u001b[32m━━━━━━━━━━━━━━━━━━━━\u001b[0m\u001b[37m\u001b[0m \u001b[1m0s\u001b[0m 4ms/step - loss: 0.0449 - mae: 0.1837 - learning_rate: 1.0000e-09\n",
      "Epoch 103/500\n",
      "\u001b[1m13/13\u001b[0m \u001b[32m━━━━━━━━━━━━━━━━━━━━\u001b[0m\u001b[37m\u001b[0m \u001b[1m0s\u001b[0m 4ms/step - loss: 0.0474 - mae: 0.1938 - learning_rate: 1.0000e-09\n",
      "Epoch 104/500\n",
      "\u001b[1m13/13\u001b[0m \u001b[32m━━━━━━━━━━━━━━━━━━━━\u001b[0m\u001b[37m\u001b[0m \u001b[1m0s\u001b[0m 4ms/step - loss: 0.0469 - mae: 0.1907 - learning_rate: 1.0000e-09\n",
      "Epoch 105/500\n",
      "\u001b[1m13/13\u001b[0m \u001b[32m━━━━━━━━━━━━━━━━━━━━\u001b[0m\u001b[37m\u001b[0m \u001b[1m0s\u001b[0m 3ms/step - loss: 0.0453 - mae: 0.1840 - learning_rate: 1.0000e-09\n",
      "Epoch 106/500\n",
      "\u001b[1m13/13\u001b[0m \u001b[32m━━━━━━━━━━━━━━━━━━━━\u001b[0m\u001b[37m\u001b[0m \u001b[1m0s\u001b[0m 3ms/step - loss: 0.0489 - mae: 0.1950 - learning_rate: 1.0000e-09\n",
      "Epoch 107/500\n",
      "\u001b[1m13/13\u001b[0m \u001b[32m━━━━━━━━━━━━━━━━━━━━\u001b[0m\u001b[37m\u001b[0m \u001b[1m0s\u001b[0m 4ms/step - loss: 0.0456 - mae: 0.1881 - learning_rate: 1.0000e-09\n",
      "Epoch 108/500\n",
      "\u001b[1m13/13\u001b[0m \u001b[32m━━━━━━━━━━━━━━━━━━━━\u001b[0m\u001b[37m\u001b[0m \u001b[1m0s\u001b[0m 3ms/step - loss: 0.0484 - mae: 0.1929 - learning_rate: 1.0000e-10\n",
      "Epoch 109/500\n",
      "\u001b[1m13/13\u001b[0m \u001b[32m━━━━━━━━━━━━━━━━━━━━\u001b[0m\u001b[37m\u001b[0m \u001b[1m0s\u001b[0m 5ms/step - loss: 0.0460 - mae: 0.1863 - learning_rate: 1.0000e-10\n",
      "Epoch 110/500\n",
      "\u001b[1m13/13\u001b[0m \u001b[32m━━━━━━━━━━━━━━━━━━━━\u001b[0m\u001b[37m\u001b[0m \u001b[1m0s\u001b[0m 4ms/step - loss: 0.0467 - mae: 0.1892 - learning_rate: 1.0000e-10\n",
      "Epoch 111/500\n",
      "\u001b[1m13/13\u001b[0m \u001b[32m━━━━━━━━━━━━━━━━━━━━\u001b[0m\u001b[37m\u001b[0m \u001b[1m0s\u001b[0m 3ms/step - loss: 0.0470 - mae: 0.1904 - learning_rate: 1.0000e-10\n",
      "Epoch 112/500\n",
      "\u001b[1m13/13\u001b[0m \u001b[32m━━━━━━━━━━━━━━━━━━━━\u001b[0m\u001b[37m\u001b[0m \u001b[1m0s\u001b[0m 3ms/step - loss: 0.0449 - mae: 0.1838 - learning_rate: 1.0000e-10\n",
      "Epoch 113/500\n",
      "\u001b[1m13/13\u001b[0m \u001b[32m━━━━━━━━━━━━━━━━━━━━\u001b[0m\u001b[37m\u001b[0m \u001b[1m0s\u001b[0m 4ms/step - loss: 0.0493 - mae: 0.1939 - learning_rate: 1.0000e-10\n",
      "Epoch 114/500\n",
      "\u001b[1m13/13\u001b[0m \u001b[32m━━━━━━━━━━━━━━━━━━━━\u001b[0m\u001b[37m\u001b[0m \u001b[1m0s\u001b[0m 3ms/step - loss: 0.0498 - mae: 0.1954 - learning_rate: 1.0000e-11\n",
      "Epoch 115/500\n",
      "\u001b[1m13/13\u001b[0m \u001b[32m━━━━━━━━━━━━━━━━━━━━\u001b[0m\u001b[37m\u001b[0m \u001b[1m0s\u001b[0m 4ms/step - loss: 0.0463 - mae: 0.1822 - learning_rate: 1.0000e-11\n",
      "Epoch 116/500\n",
      "\u001b[1m13/13\u001b[0m \u001b[32m━━━━━━━━━━━━━━━━━━━━\u001b[0m\u001b[37m\u001b[0m \u001b[1m0s\u001b[0m 3ms/step - loss: 0.0470 - mae: 0.1908 - learning_rate: 1.0000e-11\n",
      "Epoch 117/500\n",
      "\u001b[1m13/13\u001b[0m \u001b[32m━━━━━━━━━━━━━━━━━━━━\u001b[0m\u001b[37m\u001b[0m \u001b[1m0s\u001b[0m 4ms/step - loss: 0.0448 - mae: 0.1819 - learning_rate: 1.0000e-11\n",
      "Epoch 118/500\n",
      "\u001b[1m13/13\u001b[0m \u001b[32m━━━━━━━━━━━━━━━━━━━━\u001b[0m\u001b[37m\u001b[0m \u001b[1m0s\u001b[0m 4ms/step - loss: 0.0510 - mae: 0.1980 - learning_rate: 1.0000e-11\n",
      "Epoch 119/500\n",
      "\u001b[1m13/13\u001b[0m \u001b[32m━━━━━━━━━━━━━━━━━━━━\u001b[0m\u001b[37m\u001b[0m \u001b[1m0s\u001b[0m 4ms/step - loss: 0.0479 - mae: 0.1892 - learning_rate: 1.0000e-11\n",
      "Epoch 120/500\n",
      "\u001b[1m13/13\u001b[0m \u001b[32m━━━━━━━━━━━━━━━━━━━━\u001b[0m\u001b[37m\u001b[0m \u001b[1m0s\u001b[0m 4ms/step - loss: 0.0470 - mae: 0.1866 - learning_rate: 1.0000e-12\n",
      "Epoch 121/500\n",
      "\u001b[1m13/13\u001b[0m \u001b[32m━━━━━━━━━━━━━━━━━━━━\u001b[0m\u001b[37m\u001b[0m \u001b[1m0s\u001b[0m 4ms/step - loss: 0.0447 - mae: 0.1845 - learning_rate: 1.0000e-12\n",
      "Epoch 122/500\n",
      "\u001b[1m13/13\u001b[0m \u001b[32m━━━━━━━━━━━━━━━━━━━━\u001b[0m\u001b[37m\u001b[0m \u001b[1m0s\u001b[0m 3ms/step - loss: 0.0465 - mae: 0.1890 - learning_rate: 1.0000e-12\n",
      "Epoch 123/500\n",
      "\u001b[1m13/13\u001b[0m \u001b[32m━━━━━━━━━━━━━━━━━━━━\u001b[0m\u001b[37m\u001b[0m \u001b[1m0s\u001b[0m 3ms/step - loss: 0.0493 - mae: 0.1947 - learning_rate: 1.0000e-12\n",
      "Epoch 124/500\n",
      "\u001b[1m13/13\u001b[0m \u001b[32m━━━━━━━━━━━━━━━━━━━━\u001b[0m\u001b[37m\u001b[0m \u001b[1m0s\u001b[0m 4ms/step - loss: 0.0439 - mae: 0.1814 - learning_rate: 1.0000e-12\n",
      "Epoch 125/500\n",
      "\u001b[1m13/13\u001b[0m \u001b[32m━━━━━━━━━━━━━━━━━━━━\u001b[0m\u001b[37m\u001b[0m \u001b[1m0s\u001b[0m 3ms/step - loss: 0.0458 - mae: 0.1857 - learning_rate: 1.0000e-12\n"
     ]
    },
    {
     "data": {
      "text/plain": [
       "<keras.src.callbacks.history.History at 0x7d0bf9773fe0>"
      ]
     },
     "execution_count": 28,
     "metadata": {},
     "output_type": "execute_result"
    }
   ],
   "source": [
    "model = Sequential()\n",
    "model.add(Dense(64, activation='relu', input_shape=(1,))) # 64 neurons in the first layer\n",
    "model.add(Dense(1)) # no need to specify input shape. Why?\n",
    "\n",
    "model.compile(loss='mse', metrics=['mae'])\n",
    "\n",
    "early = EarlyStopping(monitor='loss', patience=15, restore_best_weights=True)\n",
    "reduce = ReduceLROnPlateau(monitor='loss', patience=6)\n",
    "\n",
    "model.fit(transformed_x,transformed_y, epochs=500, batch_size=16, callbacks=[early, reduce])"
   ]
  },
  {
   "cell_type": "code",
   "execution_count": 29,
   "id": "77a731df",
   "metadata": {
    "ExecuteTime": {
     "end_time": "2025-10-14T22:18:42.470Z",
     "start_time": "2025-10-14T22:18:42.158995Z"
    },
    "id": "77a731df"
   },
   "outputs": [
    {
     "name": "stdout",
     "output_type": "stream",
     "text": [
      "\u001b[1m7/7\u001b[0m \u001b[32m━━━━━━━━━━━━━━━━━━━━\u001b[0m\u001b[37m\u001b[0m \u001b[1m0s\u001b[0m 18ms/step\n"
     ]
    },
    {
     "data": {
      "image/png": "[encoded data removed]",
      "text/plain": [
       "<Figure size 640x480 with 1 Axes>"
      ]
     },
     "metadata": {},
     "output_type": "display_data"
    }
   ],
   "source": [
    "plt.plot(transformed_x,transformed_y, '.', label='data')\n",
    "plt.plot(np.sort(transformed_x, 0), model.predict(np.sort(transformed_x, 0)), label='prediction')\n",
    "plt.legend()\n",
    "plt.grid()\n",
    "plt.show()"
   ]
  },
  {
   "cell_type": "markdown",
   "id": "1e6e3ede",
   "metadata": {
    "id": "1e6e3ede"
   },
   "source": [
    "You might wonder why do we use sort for plotting the prediction. Well it's just to draw a nice line. When the points are in a random order and we plot lines between them it might be quite chaotic."
   ]
  },
  {
   "cell_type": "code",
   "execution_count": 30,
   "id": "e64b87a5",
   "metadata": {
    "ExecuteTime": {
     "end_time": "2025-10-14T22:18:42.651729Z",
     "start_time": "2025-10-14T22:18:42.500651Z"
    },
    "id": "e64b87a5"
   },
   "outputs": [
    {
     "name": "stdout",
     "output_type": "stream",
     "text": [
      "\u001b[1m7/7\u001b[0m \u001b[32m━━━━━━━━━━━━━━━━━━━━\u001b[0m\u001b[37m\u001b[0m \u001b[1m0s\u001b[0m 3ms/step \n"
     ]
    },
    {
     "data": {
      "image/png": "[encoded data removed]",
      "text/plain": [
       "<Figure size 640x480 with 1 Axes>"
      ]
     },
     "metadata": {},
     "output_type": "display_data"
    }
   ],
   "source": [
    "plt.plot(transformed_x,transformed_y, '.', label='data')\n",
    "plt.plot(transformed_x, model.predict(transformed_x), label='prediction')\n",
    "plt.legend()\n",
    "plt.grid()\n",
    "plt.show()"
   ]
  },
  {
   "cell_type": "markdown",
   "id": "725a5528",
   "metadata": {
    "id": "725a5528"
   },
   "source": [
    "To avoid it we can just plot points, but a line looks better"
   ]
  },
  {
   "cell_type": "code",
   "execution_count": 31,
   "id": "f976bbec",
   "metadata": {
    "ExecuteTime": {
     "end_time": "2025-10-14T22:18:42.808594Z",
     "start_time": "2025-10-14T22:18:42.669786Z"
    },
    "id": "f976bbec"
   },
   "outputs": [
    {
     "name": "stdout",
     "output_type": "stream",
     "text": [
      "\u001b[1m7/7\u001b[0m \u001b[32m━━━━━━━━━━━━━━━━━━━━\u001b[0m\u001b[37m\u001b[0m \u001b[1m0s\u001b[0m 4ms/step \n"
     ]
    },
    {
     "data": {
      "image/png": "[encoded data removed]",
      "text/plain": [
       "<Figure size 640x480 with 1 Axes>"
      ]
     },
     "metadata": {},
     "output_type": "display_data"
    }
   ],
   "source": [
    "plt.plot(transformed_x,transformed_y, '.', label='data')\n",
    "plt.plot(transformed_x, model.predict(transformed_x), '.', label='prediction')\n",
    "plt.legend()\n",
    "plt.grid()\n",
    "plt.show()"
   ]
  },
  {
   "cell_type": "markdown",
   "id": "0c826308",
   "metadata": {
    "id": "0c826308"
   },
   "source": [
    "# Task 1\n",
    "What's the best architecture? Play here https://playground.tensorflow.org/"
   ]
  },
  {
   "cell_type": "markdown",
   "id": "2180a5f3",
   "metadata": {
    "id": "2180a5f3"
   },
   "source": [
    "# Task 2\n",
    "Try different architectures. Use different number of layers, neurons, activation functions"
   ]
  },
  {
   "cell_type": "code",
   "execution_count": null,
   "id": "967903a5",
   "metadata": {
    "ExecuteTime": {
     "end_time": "2025-10-14T22:18:42.827391Z",
     "start_time": "2025-10-14T22:18:42.825640Z"
    },
    "id": "967903a5"
   },
   "outputs": [],
   "source": []
  },
  {
   "cell_type": "code",
   "execution_count": null,
   "id": "8a54637f",
   "metadata": {
    "ExecuteTime": {
     "end_time": "2025-10-14T22:18:42.885451Z",
     "start_time": "2025-10-14T22:18:42.883740Z"
    },
    "id": "8a54637f"
   },
   "outputs": [],
   "source": []
  },
  {
   "cell_type": "code",
   "execution_count": null,
   "id": "3ed9dbad",
   "metadata": {
    "ExecuteTime": {
     "end_time": "2025-10-14T22:18:42.938687Z",
     "start_time": "2025-10-14T22:18:42.937019Z"
    },
    "id": "3ed9dbad"
   },
   "outputs": [],
   "source": []
  },
  {
   "cell_type": "markdown",
   "id": "d2bdc31e",
   "metadata": {
    "id": "d2bdc31e"
   },
   "source": [
    "Selecting the best number of layers and neurons is an optimization task itself. There are no strict rules. In general, you should increase the number of neurons as long as it improves the results. Be aware of overfitting - model learning noise in the data. Always split dataset to train, validation and training.\n",
    "\n",
    "Remember even the most complex network works still like a single perceptron - it's just an equation with weights determined using an optimization algorithm.\n",
    "\n",
    "Lifehack: since selecting architecture is an optimization task we can use an optimization algorithm to solve it. The most obvious representation would be a vector of size equal to the maximum number of layers we want and each element representing the number of neurons in such a layer. There are a few problems with this approach - it doesn't make sense to have neurons in the next layer if we have 0 neurons in the previous which is allowed in this representation. Removing 0 from the considered range is an option but then we will fix the number of layers. Also in most cases, it's not recommended to increase the number of neurons in the next layer. To avoid these issues we can change the representation. The first element will still be the number of neurons in the first layer, but all remainings will be the number from 0 to 1 meaning the fraction of neurons from the previous layer used in this layer. For example $[64, 1, .5, .5, 0, 0]$ would mean architecture with 4 layers with 64, 64, 32, and 16 neurons."
   ]
  },
  {
   "cell_type": "markdown",
   "id": "143a36d2",
   "metadata": {
    "id": "143a36d2"
   },
   "source": [
    "To avoid overfitting we split our dataset to training, validation, and test sets. It's a good practice in most cases to shuffle the data  since the initial order might have some problems. For example data can be sorted by a target value. Then if we split it in half, the testing set might contains target that are not in the training set"
   ]
  },
  {
   "cell_type": "code",
   "execution_count": 32,
   "id": "b2164e31",
   "metadata": {
    "ExecuteTime": {
     "end_time": "2025-10-14T22:18:42.992761Z",
     "start_time": "2025-10-14T22:18:42.989119Z"
    },
    "id": "b2164e31"
   },
   "outputs": [
    {
     "data": {
      "text/plain": [
       "array([148,   8,  79, 137, 147, 102, 179,  41,  56,  55,  45, 169, 139,\n",
       "       189, 118,  17,  10, 157,  96,  43,  74, 110,  95, 142,  12,  88,\n",
       "        54, 167, 185, 149,  53,  80, 197,  36,  62, 193,   2, 161, 109,\n",
       "       163,  37, 184, 192, 168,  71,  72, 144, 150,  68, 160, 123,  70,\n",
       "        77, 175,  48, 136, 131, 117,  21,  33,  13,  15,  47,  40, 143,\n",
       "        73, 114,  64, 129,  50,  23,  14,  89,  35, 134,  66,  19, 154,\n",
       "        49,  65,  67,  84, 108,  63, 187,  69,  83, 130,  59,   0, 105,\n",
       "       177, 141, 100,  32, 127,  57,   3, 199, 173,  38, 128,   7, 121,\n",
       "         4,  39, 101,  31, 125, 164,  34, 183,  44,  85, 196,  27,  78,\n",
       "        86, 165,  20,  61, 153,  22,  60,   5,  30,  91,  18, 135, 124,\n",
       "        75, 162,  94,  90, 198, 182,  42, 166, 174, 132,   9,  93, 133,\n",
       "        29, 145,  51, 190, 158,  26, 180, 104, 115, 112, 181,  11, 178,\n",
       "       188, 119,  24, 140,  76,  97,   1, 194, 116, 171,  52, 155, 106,\n",
       "       159, 120, 111, 103, 152, 186, 176,  99, 172, 191, 113, 138, 156,\n",
       "       107, 195,  81,  25, 146,  82,   6,  46, 170, 122,  92,  28,  58,\n",
       "       151,  98, 126,  16,  87])"
      ]
     },
     "execution_count": 32,
     "metadata": {},
     "output_type": "execute_result"
    }
   ],
   "source": [
    "np.random.seed(31)\n",
    "idx = np.arange(len(x))\n",
    "np.random.shuffle(idx)\n",
    "idx"
   ]
  },
  {
   "cell_type": "code",
   "execution_count": 33,
   "id": "50911996",
   "metadata": {
    "ExecuteTime": {
     "end_time": "2025-10-14T22:18:43.047684Z",
     "start_time": "2025-10-14T22:18:43.045035Z"
    },
    "id": "50911996"
   },
   "outputs": [],
   "source": [
    "train = idx[:int(.8*len(x))]\n",
    "val = idx[int(.8*len(x)):int(.9*len(x))]\n",
    "test = idx[int(.9*len(x)):]"
   ]
  },
  {
   "cell_type": "code",
   "execution_count": 34,
   "id": "bda7f44f",
   "metadata": {
    "ExecuteTime": {
     "end_time": "2025-10-14T22:18:43.104709Z",
     "start_time": "2025-10-14T22:18:43.102016Z"
    },
    "id": "bda7f44f"
   },
   "outputs": [],
   "source": [
    "train_x, train_y = transformed_x[train], transformed_y[train]\n",
    "val_x, val_y = transformed_x[val], transformed_y[val]\n",
    "test_x, test_y = transformed_x[test], transformed_y[test]"
   ]
  },
  {
   "cell_type": "markdown",
   "id": "432061e0",
   "metadata": {
    "id": "432061e0"
   },
   "source": [
    "What's the problem here? Well it's not a big issue, but data from validation and test sets should not be used to determine scaling parameters. So the scaler should be fit on the training data and then applied to validation and test datasets. Can you do it now?"
   ]
  },
  {
   "cell_type": "code",
   "execution_count": null,
   "id": "846b33ac",
   "metadata": {
    "ExecuteTime": {
     "end_time": "2025-10-14T22:18:43.165172Z",
     "start_time": "2025-10-14T22:18:43.163292Z"
    },
    "id": "846b33ac"
   },
   "outputs": [],
   "source": []
  },
  {
   "cell_type": "code",
   "execution_count": 35,
   "id": "62d9c533",
   "metadata": {
    "ExecuteTime": {
     "end_time": "2025-10-14T22:18:48.492483Z",
     "start_time": "2025-10-14T22:18:43.219269Z"
    },
    "id": "62d9c533"
   },
   "outputs": [
    {
     "name": "stdout",
     "output_type": "stream",
     "text": [
      "Epoch 1/500\n",
      "\u001b[1m10/10\u001b[0m \u001b[32m━━━━━━━━━━━━━━━━━━━━\u001b[0m\u001b[37m\u001b[0m \u001b[1m1s\u001b[0m 38ms/step - loss: 0.6338 - mae: 0.6659 - val_loss: 0.5268 - val_mae: 0.5980 - learning_rate: 0.0010\n",
      "Epoch 2/500\n",
      "\u001b[1m10/10\u001b[0m \u001b[32m━━━━━━━━━━━━━━━━━━━━\u001b[0m\u001b[37m\u001b[0m \u001b[1m0s\u001b[0m 7ms/step - loss: 0.3763 - mae: 0.5004 - val_loss: 0.3626 - val_mae: 0.4903 - learning_rate: 0.0010\n",
      "Epoch 3/500\n",
      "\u001b[1m10/10\u001b[0m \u001b[32m━━━━━━━━━━━━━━━━━━━━\u001b[0m\u001b[37m\u001b[0m \u001b[1m0s\u001b[0m 8ms/step - loss: 0.2466 - mae: 0.4034 - val_loss: 0.2491 - val_mae: 0.3990 - learning_rate: 0.0010\n",
      "Epoch 4/500\n",
      "\u001b[1m10/10\u001b[0m \u001b[32m━━━━━━━━━━━━━━━━━━━━\u001b[0m\u001b[37m\u001b[0m \u001b[1m0s\u001b[0m 7ms/step - loss: 0.1972 - mae: 0.3616 - val_loss: 0.1744 - val_mae: 0.3257 - learning_rate: 0.0010\n",
      "Epoch 5/500\n",
      "\u001b[1m10/10\u001b[0m \u001b[32m━━━━━━━━━━━━━━━━━━━━\u001b[0m\u001b[37m\u001b[0m \u001b[1m0s\u001b[0m 7ms/step - loss: 0.1531 - mae: 0.3202 - val_loss: 0.1294 - val_mae: 0.2728 - learning_rate: 0.0010\n",
      "Epoch 6/500\n",
      "\u001b[1m10/10\u001b[0m \u001b[32m━━━━━━━━━━━━━━━━━━━━\u001b[0m\u001b[37m\u001b[0m \u001b[1m0s\u001b[0m 8ms/step - loss: 0.1046 - mae: 0.2698 - val_loss: 0.1016 - val_mae: 0.2444 - learning_rate: 0.0010\n",
      "Epoch 7/500\n",
      "\u001b[1m10/10\u001b[0m \u001b[32m━━━━━━━━━━━━━━━━━━━━\u001b[0m\u001b[37m\u001b[0m \u001b[1m0s\u001b[0m 8ms/step - loss: 0.0884 - mae: 0.2504 - val_loss: 0.0861 - val_mae: 0.2242 - learning_rate: 0.0010\n",
      "Epoch 8/500\n",
      "\u001b[1m10/10\u001b[0m \u001b[32m━━━━━━━━━━━━━━━━━━━━\u001b[0m\u001b[37m\u001b[0m \u001b[1m0s\u001b[0m 10ms/step - loss: 0.0700 - mae: 0.2267 - val_loss: 0.0781 - val_mae: 0.2159 - learning_rate: 0.0010\n",
      "Epoch 9/500\n",
      "\u001b[1m10/10\u001b[0m \u001b[32m━━━━━━━━━━━━━━━━━━━━\u001b[0m\u001b[37m\u001b[0m \u001b[1m0s\u001b[0m 7ms/step - loss: 0.0736 - mae: 0.2327 - val_loss: 0.0730 - val_mae: 0.2075 - learning_rate: 0.0010\n",
      "Epoch 10/500\n",
      "\u001b[1m10/10\u001b[0m \u001b[32m━━━━━━━━━━━━━━━━━━━━\u001b[0m\u001b[37m\u001b[0m \u001b[1m0s\u001b[0m 8ms/step - loss: 0.0700 - mae: 0.2295 - val_loss: 0.0711 - val_mae: 0.2060 - learning_rate: 0.0010\n",
      "Epoch 11/500\n",
      "\u001b[1m10/10\u001b[0m \u001b[32m━━━━━━━━━━━━━━━━━━━━\u001b[0m\u001b[37m\u001b[0m \u001b[1m0s\u001b[0m 9ms/step - loss: 0.0710 - mae: 0.2320 - val_loss: 0.0674 - val_mae: 0.2005 - learning_rate: 0.0010\n",
      "Epoch 12/500\n",
      "\u001b[1m10/10\u001b[0m \u001b[32m━━━━━━━━━━━━━━━━━━━━\u001b[0m\u001b[37m\u001b[0m \u001b[1m0s\u001b[0m 7ms/step - loss: 0.0598 - mae: 0.2114 - val_loss: 0.0669 - val_mae: 0.2016 - learning_rate: 0.0010\n",
      "Epoch 13/500\n",
      "\u001b[1m10/10\u001b[0m \u001b[32m━━━━━━━━━━━━━━━━━━━━\u001b[0m\u001b[37m\u001b[0m \u001b[1m0s\u001b[0m 8ms/step - loss: 0.0580 - mae: 0.2052 - val_loss: 0.0651 - val_mae: 0.1981 - learning_rate: 0.0010\n",
      "Epoch 14/500\n",
      "\u001b[1m10/10\u001b[0m \u001b[32m━━━━━━━━━━━━━━━━━━━━\u001b[0m\u001b[37m\u001b[0m \u001b[1m0s\u001b[0m 8ms/step - loss: 0.0612 - mae: 0.2115 - val_loss: 0.0644 - val_mae: 0.1971 - learning_rate: 0.0010\n",
      "Epoch 15/500\n",
      "\u001b[1m10/10\u001b[0m \u001b[32m━━━━━━━━━━━━━━━━━━━━\u001b[0m\u001b[37m\u001b[0m \u001b[1m0s\u001b[0m 7ms/step - loss: 0.0572 - mae: 0.2030 - val_loss: 0.0599 - val_mae: 0.1885 - learning_rate: 0.0010\n",
      "Epoch 16/500\n",
      "\u001b[1m10/10\u001b[0m \u001b[32m━━━━━━━━━━━━━━━━━━━━\u001b[0m\u001b[37m\u001b[0m \u001b[1m0s\u001b[0m 8ms/step - loss: 0.0622 - mae: 0.2203 - val_loss: 0.0588 - val_mae: 0.1875 - learning_rate: 0.0010\n",
      "Epoch 17/500\n",
      "\u001b[1m10/10\u001b[0m \u001b[32m━━━━━━━━━━━━━━━━━━━━\u001b[0m\u001b[37m\u001b[0m \u001b[1m0s\u001b[0m 7ms/step - loss: 0.0536 - mae: 0.1970 - val_loss: 0.0586 - val_mae: 0.1872 - learning_rate: 0.0010\n",
      "Epoch 18/500\n",
      "\u001b[1m10/10\u001b[0m \u001b[32m━━━━━━━━━━━━━━━━━━━━\u001b[0m\u001b[37m\u001b[0m \u001b[1m0s\u001b[0m 7ms/step - loss: 0.0505 - mae: 0.1914 - val_loss: 0.0573 - val_mae: 0.1851 - learning_rate: 0.0010\n",
      "Epoch 19/500\n",
      "\u001b[1m10/10\u001b[0m \u001b[32m━━━━━━━━━━━━━━━━━━━━\u001b[0m\u001b[37m\u001b[0m \u001b[1m0s\u001b[0m 8ms/step - loss: 0.0576 - mae: 0.2093 - val_loss: 0.0572 - val_mae: 0.1845 - learning_rate: 0.0010\n",
      "Epoch 20/500\n",
      "\u001b[1m10/10\u001b[0m \u001b[32m━━━━━━━━━━━━━━━━━━━━\u001b[0m\u001b[37m\u001b[0m \u001b[1m0s\u001b[0m 7ms/step - loss: 0.0552 - mae: 0.2051 - val_loss: 0.0552 - val_mae: 0.1830 - learning_rate: 0.0010\n",
      "Epoch 21/500\n",
      "\u001b[1m10/10\u001b[0m \u001b[32m━━━━━━━━━━━━━━━━━━━━\u001b[0m\u001b[37m\u001b[0m \u001b[1m0s\u001b[0m 7ms/step - loss: 0.0589 - mae: 0.2156 - val_loss: 0.0567 - val_mae: 0.1844 - learning_rate: 0.0010\n",
      "Epoch 22/500\n",
      "\u001b[1m10/10\u001b[0m \u001b[32m━━━━━━━━━━━━━━━━━━━━\u001b[0m\u001b[37m\u001b[0m \u001b[1m0s\u001b[0m 8ms/step - loss: 0.0506 - mae: 0.1976 - val_loss: 0.0553 - val_mae: 0.1838 - learning_rate: 0.0010\n",
      "Epoch 23/500\n",
      "\u001b[1m10/10\u001b[0m \u001b[32m━━━━━━━━━━━━━━━━━━━━\u001b[0m\u001b[37m\u001b[0m \u001b[1m0s\u001b[0m 7ms/step - loss: 0.0510 - mae: 0.1921 - val_loss: 0.0529 - val_mae: 0.1824 - learning_rate: 0.0010\n",
      "Epoch 24/500\n",
      "\u001b[1m10/10\u001b[0m \u001b[32m━━━━━━━━━━━━━━━━━━━━\u001b[0m\u001b[37m\u001b[0m \u001b[1m0s\u001b[0m 10ms/step - loss: 0.0501 - mae: 0.1921 - val_loss: 0.0530 - val_mae: 0.1809 - learning_rate: 0.0010\n",
      "Epoch 25/500\n",
      "\u001b[1m10/10\u001b[0m \u001b[32m━━━━━━━━━━━━━━━━━━━━\u001b[0m\u001b[37m\u001b[0m \u001b[1m0s\u001b[0m 10ms/step - loss: 0.0487 - mae: 0.1938 - val_loss: 0.0538 - val_mae: 0.1819 - learning_rate: 0.0010\n",
      "Epoch 26/500\n",
      "\u001b[1m10/10\u001b[0m \u001b[32m━━━━━━━━━━━━━━━━━━━━\u001b[0m\u001b[37m\u001b[0m \u001b[1m0s\u001b[0m 9ms/step - loss: 0.0516 - mae: 0.2017 - val_loss: 0.0539 - val_mae: 0.1828 - learning_rate: 0.0010\n",
      "Epoch 27/500\n",
      "\u001b[1m10/10\u001b[0m \u001b[32m━━━━━━━━━━━━━━━━━━━━\u001b[0m\u001b[37m\u001b[0m \u001b[1m0s\u001b[0m 10ms/step - loss: 0.0551 - mae: 0.2046 - val_loss: 0.0532 - val_mae: 0.1816 - learning_rate: 0.0010\n",
      "Epoch 28/500\n",
      "\u001b[1m10/10\u001b[0m \u001b[32m━━━━━━━━━━━━━━━━━━━━\u001b[0m\u001b[37m\u001b[0m \u001b[1m0s\u001b[0m 7ms/step - loss: 0.0544 - mae: 0.2089 - val_loss: 0.0517 - val_mae: 0.1822 - learning_rate: 0.0010\n",
      "Epoch 29/500\n",
      "\u001b[1m10/10\u001b[0m \u001b[32m━━━━━━━━━━━━━━━━━━━━\u001b[0m\u001b[37m\u001b[0m \u001b[1m0s\u001b[0m 8ms/step - loss: 0.0504 - mae: 0.1959 - val_loss: 0.0523 - val_mae: 0.1816 - learning_rate: 0.0010\n",
      "Epoch 30/500\n",
      "\u001b[1m10/10\u001b[0m \u001b[32m━━━━━━━━━━━━━━━━━━━━\u001b[0m\u001b[37m\u001b[0m \u001b[1m0s\u001b[0m 9ms/step - loss: 0.0503 - mae: 0.1940 - val_loss: 0.0533 - val_mae: 0.1821 - learning_rate: 0.0010\n",
      "Epoch 31/500\n",
      "\u001b[1m10/10\u001b[0m \u001b[32m━━━━━━━━━━━━━━━━━━━━\u001b[0m\u001b[37m\u001b[0m \u001b[1m0s\u001b[0m 8ms/step - loss: 0.0528 - mae: 0.2061 - val_loss: 0.0525 - val_mae: 0.1815 - learning_rate: 0.0010\n",
      "Epoch 32/500\n",
      "\u001b[1m10/10\u001b[0m \u001b[32m━━━━━━━━━━━━━━━━━━━━\u001b[0m\u001b[37m\u001b[0m \u001b[1m0s\u001b[0m 8ms/step - loss: 0.0537 - mae: 0.2071 - val_loss: 0.0514 - val_mae: 0.1825 - learning_rate: 0.0010\n",
      "Epoch 33/500\n",
      "\u001b[1m10/10\u001b[0m \u001b[32m━━━━━━━━━━━━━━━━━━━━\u001b[0m\u001b[37m\u001b[0m \u001b[1m0s\u001b[0m 8ms/step - loss: 0.0488 - mae: 0.1939 - val_loss: 0.0525 - val_mae: 0.1816 - learning_rate: 0.0010\n",
      "Epoch 34/500\n",
      "\u001b[1m10/10\u001b[0m \u001b[32m━━━━━━━━━━━━━━━━━━━━\u001b[0m\u001b[37m\u001b[0m \u001b[1m0s\u001b[0m 8ms/step - loss: 0.0490 - mae: 0.1925 - val_loss: 0.0527 - val_mae: 0.1820 - learning_rate: 0.0010\n",
      "Epoch 35/500\n",
      "\u001b[1m10/10\u001b[0m \u001b[32m━━━━━━━━━━━━━━━━━━━━\u001b[0m\u001b[37m\u001b[0m \u001b[1m0s\u001b[0m 8ms/step - loss: 0.0521 - mae: 0.2001 - val_loss: 0.0522 - val_mae: 0.1815 - learning_rate: 0.0010\n",
      "Epoch 36/500\n",
      "\u001b[1m10/10\u001b[0m \u001b[32m━━━━━━━━━━━━━━━━━━━━\u001b[0m\u001b[37m\u001b[0m \u001b[1m0s\u001b[0m 8ms/step - loss: 0.0512 - mae: 0.2011 - val_loss: 0.0524 - val_mae: 0.1817 - learning_rate: 0.0010\n",
      "Epoch 37/500\n",
      "\u001b[1m10/10\u001b[0m \u001b[32m━━━━━━━━━━━━━━━━━━━━\u001b[0m\u001b[37m\u001b[0m \u001b[1m0s\u001b[0m 9ms/step - loss: 0.0438 - mae: 0.1810 - val_loss: 0.0518 - val_mae: 0.1816 - learning_rate: 0.0010\n",
      "Epoch 38/500\n",
      "\u001b[1m10/10\u001b[0m \u001b[32m━━━━━━━━━━━━━━━━━━━━\u001b[0m\u001b[37m\u001b[0m \u001b[1m0s\u001b[0m 7ms/step - loss: 0.0445 - mae: 0.1808 - val_loss: 0.0517 - val_mae: 0.1834 - learning_rate: 0.0010\n",
      "Epoch 39/500\n",
      "\u001b[1m10/10\u001b[0m \u001b[32m━━━━━━━━━━━━━━━━━━━━\u001b[0m\u001b[37m\u001b[0m \u001b[1m0s\u001b[0m 8ms/step - loss: 0.0502 - mae: 0.1951 - val_loss: 0.0518 - val_mae: 0.1829 - learning_rate: 1.0000e-04\n",
      "Epoch 40/500\n",
      "\u001b[1m10/10\u001b[0m \u001b[32m━━━━━━━━━━━━━━━━━━━━\u001b[0m\u001b[37m\u001b[0m \u001b[1m0s\u001b[0m 9ms/step - loss: 0.0467 - mae: 0.1871 - val_loss: 0.0518 - val_mae: 0.1827 - learning_rate: 1.0000e-04\n",
      "Epoch 41/500\n",
      "\u001b[1m10/10\u001b[0m \u001b[32m━━━━━━━━━━━━━━━━━━━━\u001b[0m\u001b[37m\u001b[0m \u001b[1m0s\u001b[0m 8ms/step - loss: 0.0450 - mae: 0.1854 - val_loss: 0.0519 - val_mae: 0.1823 - learning_rate: 1.0000e-04\n",
      "Epoch 42/500\n",
      "\u001b[1m10/10\u001b[0m \u001b[32m━━━━━━━━━━━━━━━━━━━━\u001b[0m\u001b[37m\u001b[0m \u001b[1m0s\u001b[0m 8ms/step - loss: 0.0434 - mae: 0.1780 - val_loss: 0.0520 - val_mae: 0.1821 - learning_rate: 1.0000e-04\n",
      "Epoch 43/500\n",
      "\u001b[1m10/10\u001b[0m \u001b[32m━━━━━━━━━━━━━━━━━━━━\u001b[0m\u001b[37m\u001b[0m \u001b[1m0s\u001b[0m 8ms/step - loss: 0.0482 - mae: 0.1898 - val_loss: 0.0520 - val_mae: 0.1820 - learning_rate: 1.0000e-04\n",
      "Epoch 44/500\n",
      "\u001b[1m10/10\u001b[0m \u001b[32m━━━━━━━━━━━━━━━━━━━━\u001b[0m\u001b[37m\u001b[0m \u001b[1m0s\u001b[0m 8ms/step - loss: 0.0438 - mae: 0.1813 - val_loss: 0.0520 - val_mae: 0.1819 - learning_rate: 1.0000e-04\n",
      "Epoch 45/500\n",
      "\u001b[1m10/10\u001b[0m \u001b[32m━━━━━━━━━━━━━━━━━━━━\u001b[0m\u001b[37m\u001b[0m \u001b[1m0s\u001b[0m 8ms/step - loss: 0.0467 - mae: 0.1870 - val_loss: 0.0520 - val_mae: 0.1819 - learning_rate: 1.0000e-05\n",
      "Epoch 46/500\n",
      "\u001b[1m10/10\u001b[0m \u001b[32m━━━━━━━━━━━━━━━━━━━━\u001b[0m\u001b[37m\u001b[0m \u001b[1m0s\u001b[0m 8ms/step - loss: 0.0494 - mae: 0.1934 - val_loss: 0.0520 - val_mae: 0.1818 - learning_rate: 1.0000e-05\n",
      "Epoch 47/500\n",
      "\u001b[1m10/10\u001b[0m \u001b[32m━━━━━━━━━━━━━━━━━━━━\u001b[0m\u001b[37m\u001b[0m \u001b[1m0s\u001b[0m 8ms/step - loss: 0.0519 - mae: 0.2004 - val_loss: 0.0520 - val_mae: 0.1818 - learning_rate: 1.0000e-05\n"
     ]
    },
    {
     "data": {
      "text/plain": [
       "<keras.src.callbacks.history.History at 0x7d0bb4933f20>"
      ]
     },
     "execution_count": 35,
     "metadata": {},
     "output_type": "execute_result"
    }
   ],
   "source": [
    "model = Sequential()\n",
    "model.add(Dense(64, activation='relu', input_shape=(1,)))\n",
    "model.add(Dense(1, activation='linear'))\n",
    "\n",
    "model.compile(loss='mse', metrics=['mae'])\n",
    "\n",
    "early = EarlyStopping(patience=15, restore_best_weights=True) # we don't specify monitor, by default it's val_loss\n",
    "reduce = ReduceLROnPlateau(patience=6)\n",
    "\n",
    "model.fit(train_x,train_y, validation_data=(val_x, val_y), epochs=500, batch_size=16, callbacks=[early, reduce])"
   ]
  },
  {
   "cell_type": "code",
   "execution_count": 36,
   "id": "cdd6ad20",
   "metadata": {
    "ExecuteTime": {
     "end_time": "2025-10-14T22:18:48.746770Z",
     "start_time": "2025-10-14T22:18:48.509993Z"
    },
    "id": "cdd6ad20"
   },
   "outputs": [
    {
     "name": "stdout",
     "output_type": "stream",
     "text": [
      "\u001b[1m1/1\u001b[0m \u001b[32m━━━━━━━━━━━━━━━━━━━━\u001b[0m\u001b[37m\u001b[0m \u001b[1m0s\u001b[0m 124ms/step\n"
     ]
    },
    {
     "data": {
      "image/png": "[encoded data removed]",
      "text/plain": [
       "<Figure size 640x480 with 1 Axes>"
      ]
     },
     "metadata": {},
     "output_type": "display_data"
    }
   ],
   "source": [
    "\n",
    "plt.plot(test_x,test_y, '.', label='data')\n",
    "plt.plot(np.sort(test_x, 0), model.predict(np.sort(test_x, 0)), label='prediction')\n",
    "plt.legend()\n",
    "plt.grid()\n",
    "plt.show()"
   ]
  },
  {
   "cell_type": "markdown",
   "id": "688f8d7f",
   "metadata": {
    "id": "688f8d7f"
   },
   "source": [
    "There are two popular functions to create a neural network model. For simple architectures Sequential can be used. For more complex Model is a suitable choice.\n",
    "\n",
    "\n",
    "In the sequential model, we assume layers are executed sequentially one by one. In Model, we can create architectures with different connections, multiple inputs or outputs."
   ]
  },
  {
   "cell_type": "code",
   "execution_count": 37,
   "id": "44aeb2d4",
   "metadata": {
    "ExecuteTime": {
     "end_time": "2025-10-14T22:18:48.815994Z",
     "start_time": "2025-10-14T22:18:48.766189Z"
    },
    "id": "44aeb2d4"
   },
   "outputs": [],
   "source": [
    "model = Sequential()\n",
    "model.add(Dense(64, activation='relu', input_shape=(1,)))\n",
    "model.add(Dense(32, activation='relu', input_shape=(1,)))\n",
    "model.add(Dense(16, activation='relu', input_shape=(1,)))\n",
    "model.add(Dense(1, activation='linear'))"
   ]
  },
  {
   "cell_type": "code",
   "execution_count": 38,
   "id": "e85206c5",
   "metadata": {
    "ExecuteTime": {
     "end_time": "2025-10-14T22:18:48.869124Z",
     "start_time": "2025-10-14T22:18:48.865704Z"
    },
    "id": "e85206c5"
   },
   "outputs": [
    {
     "name": "stdout",
     "output_type": "stream",
     "text": [
      "You must install pydot (`pip install pydot`) for `plot_model` to work.\n"
     ]
    }
   ],
   "source": [
    "plot_model(model)"
   ]
  },
  {
   "cell_type": "code",
   "execution_count": 39,
   "id": "30fcfaff",
   "metadata": {
    "ExecuteTime": {
     "end_time": "2025-10-14T22:18:48.978657Z",
     "start_time": "2025-10-14T22:18:48.949553Z"
    },
    "id": "30fcfaff"
   },
   "outputs": [],
   "source": [
    "inputLayer = Input(shape=(1,))\n",
    "dense1 = Dense(64, activation='relu')(inputLayer)\n",
    "dense2 = Dense(32, activation='relu')(dense1)\n",
    "dense3 = Dense(16, activation='relu')(dense2)\n",
    "dense4 = Dense(1, activation='relu')(dense3)\n",
    "model = Model(inputs=inputLayer, outputs=dense4)"
   ]
  },
  {
   "cell_type": "code",
   "execution_count": 40,
   "id": "b1916b12",
   "metadata": {
    "ExecuteTime": {
     "end_time": "2025-10-14T22:18:49.022665Z",
     "start_time": "2025-10-14T22:18:49.019796Z"
    },
    "id": "b1916b12"
   },
   "outputs": [
    {
     "name": "stdout",
     "output_type": "stream",
     "text": [
      "You must install pydot (`pip install pydot`) for `plot_model` to work.\n"
     ]
    }
   ],
   "source": [
    "plot_model(model)"
   ]
  },
  {
   "cell_type": "code",
   "execution_count": 41,
   "id": "5aeb6004",
   "metadata": {
    "ExecuteTime": {
     "end_time": "2025-10-14T22:18:49.116818Z",
     "start_time": "2025-10-14T22:18:49.086927Z"
    },
    "id": "5aeb6004"
   },
   "outputs": [],
   "source": [
    "inputLayer = Input(shape=(1,))\n",
    "dense1 = Dense(64, activation='relu')(inputLayer)\n",
    "dense2 = Dense(32, activation='relu')(dense1)\n",
    "concat = Concatenate()([dense1, dense2])\n",
    "dense3 = Dense(16, activation='relu')(concat)\n",
    "dense4 = Dense(1, activation='relu')(dense3)\n",
    "model = Model(inputs=inputLayer, outputs=dense4)"
   ]
  },
  {
   "cell_type": "code",
   "execution_count": 42,
   "id": "240c8a14",
   "metadata": {
    "ExecuteTime": {
     "end_time": "2025-10-14T22:18:49.165808Z",
     "start_time": "2025-10-14T22:18:49.162450Z"
    },
    "id": "240c8a14"
   },
   "outputs": [
    {
     "name": "stdout",
     "output_type": "stream",
     "text": [
      "You must install pydot (`pip install pydot`) for `plot_model` to work.\n"
     ]
    }
   ],
   "source": [
    "plot_model(model)"
   ]
  },
  {
   "cell_type": "markdown",
   "id": "44142fc3",
   "metadata": {
    "id": "44142fc3"
   },
   "source": [
    "# Task 3\n",
    "Create a model with two inputs, first processed by three Dense layers, second by two Dense layers, then concatenat them, process by two Dense layers and split it to two outputs"
   ]
  },
  {
   "cell_type": "code",
   "execution_count": null,
   "id": "6d5d4b51",
   "metadata": {
    "ExecuteTime": {
     "end_time": "2025-10-14T22:18:49.224993Z",
     "start_time": "2025-10-14T22:18:49.223186Z"
    },
    "id": "6d5d4b51"
   },
   "outputs": [],
   "source": []
  },
  {
   "cell_type": "code",
   "execution_count": null,
   "id": "925e28c6",
   "metadata": {
    "ExecuteTime": {
     "end_time": "2025-10-14T22:18:49.305101Z",
     "start_time": "2025-10-14T22:18:49.303380Z"
    },
    "id": "925e28c6"
   },
   "outputs": [],
   "source": []
  },
  {
   "cell_type": "code",
   "execution_count": null,
   "id": "9a293aa0",
   "metadata": {
    "ExecuteTime": {
     "end_time": "2025-10-14T22:18:49.367799Z",
     "start_time": "2025-10-14T22:18:49.365922Z"
    },
    "id": "9a293aa0"
   },
   "outputs": [],
   "source": []
  },
  {
   "cell_type": "markdown",
   "id": "8d851d7c",
   "metadata": {
    "id": "8d851d7c"
   },
   "source": [
    "Data generators are useful tools for neural network training. It allows to create data separately for each batch. Thanks to that there is no need to load all the data to the memory, which can be an issue for example when dealing with images. Also when we don't have data but a function creating data then instead of generating a fixed number of rows in advance a data generator can be used. It's also useful for the data augmentation process."
   ]
  },
  {
   "cell_type": "code",
   "execution_count": 43,
   "id": "446f549a",
   "metadata": {
    "ExecuteTime": {
     "end_time": "2025-10-14T22:18:49.453012Z",
     "start_time": "2025-10-14T22:18:49.448984Z"
    },
    "id": "446f549a"
   },
   "outputs": [],
   "source": [
    "class DataGenerator(Sequence):\n",
    "    def __init__(self, x, y, batch_size, shuffle=True):\n",
    "        self.x = x\n",
    "        self.y = y\n",
    "        self.indexes = np.arange(len(y))\n",
    "        self.batch_size = batch_size\n",
    "        self.shuffle = shuffle\n",
    "        self.on_epoch_end()\n",
    "\n",
    "    def __len__(self):\n",
    "        'Denotes the number of batches per epoch'\n",
    "        return int(np.floor(len(self.indexes) / self.batch_size))\n",
    "\n",
    "    def __getitem__(self, index):\n",
    "        'Generate one batch of data'\n",
    "        # Generate indexes of the batch.\n",
    "        # During training and prediction this function will be called in range(0, __len__())\n",
    "        indexes = self.indexes[index*self.batch_size:(index+1)*self.batch_size]\n",
    "\n",
    "        # Generate data\n",
    "        X, y = self.__data_generation(indexes)\n",
    "\n",
    "        return X, y\n",
    "\n",
    "    def on_epoch_end(self):\n",
    "        'Updates indexes after each epoch'\n",
    "        if self.shuffle == True:\n",
    "            np.random.shuffle(self.indexes)\n",
    "\n",
    "    def __data_generation(self, idx):\n",
    "        X = np.empty((self.batch_size, 1))\n",
    "        y = np.empty((self.batch_size), )\n",
    "\n",
    "        for i, ID in enumerate(idx):\n",
    "            # Store sample\n",
    "            X[i,] = self.x[ID]\n",
    "\n",
    "            # Store class\n",
    "            y[i] = self.y[ID]\n",
    "\n",
    "        return X, y"
   ]
  },
  {
   "cell_type": "code",
   "execution_count": 44,
   "id": "2d621e9f",
   "metadata": {
    "ExecuteTime": {
     "end_time": "2025-10-14T22:18:49.506597Z",
     "start_time": "2025-10-14T22:18:49.504180Z"
    },
    "id": "2d621e9f"
   },
   "outputs": [],
   "source": [
    "trainGenerator = DataGenerator(train_x, train_y, 16)\n",
    "valGenerator = DataGenerator(val_x, val_y, 1, shuffle=False)"
   ]
  },
  {
   "cell_type": "code",
   "execution_count": 45,
   "id": "ae76a3e8",
   "metadata": {
    "ExecuteTime": {
     "end_time": "2025-10-14T22:18:55.788689Z",
     "start_time": "2025-10-14T22:18:49.566001Z"
    },
    "id": "ae76a3e8"
   },
   "outputs": [
    {
     "name": "stdout",
     "output_type": "stream",
     "text": [
      "Epoch 1/500\n"
     ]
    },
    {
     "name": "stderr",
     "output_type": "stream",
     "text": [
      "/home/determinator/miniconda3/envs/tf-gpu/lib/python3.12/site-packages/keras/src/trainers/data_adapters/py_dataset_adapter.py:121: UserWarning: Your `PyDataset` class should call `super().__init__(**kwargs)` in its constructor. `**kwargs` can include `workers`, `use_multiprocessing`, `max_queue_size`. Do not pass these arguments to `fit()`, as they will be ignored.\n",
      "  self._warn_if_super_not_called()\n",
      "/tmp/ipykernel_21520/1683743351.py:39: DeprecationWarning: Conversion of an array with ndim > 0 to a scalar is deprecated, and will error in future. Ensure you extract a single element from your array before performing this operation. (Deprecated NumPy 1.25.)\n",
      "  y[i] = self.y[ID]\n"
     ]
    },
    {
     "name": "stdout",
     "output_type": "stream",
     "text": [
      "\u001b[1m10/10\u001b[0m \u001b[32m━━━━━━━━━━━━━━━━━━━━\u001b[0m\u001b[37m\u001b[0m \u001b[1m1s\u001b[0m 31ms/step - loss: 0.8530 - mae: 0.7698 - val_loss: 0.5835 - val_mae: 0.6211 - learning_rate: 0.0010\n",
      "Epoch 2/500\n",
      "\u001b[1m10/10\u001b[0m \u001b[32m━━━━━━━━━━━━━━━━━━━━\u001b[0m\u001b[37m\u001b[0m \u001b[1m0s\u001b[0m 15ms/step - loss: 0.5066 - mae: 0.5863 - val_loss: 0.4203 - val_mae: 0.5244 - learning_rate: 0.0010\n",
      "Epoch 3/500\n",
      "\u001b[1m10/10\u001b[0m \u001b[32m━━━━━━━━━━━━━━━━━━━━\u001b[0m\u001b[37m\u001b[0m \u001b[1m0s\u001b[0m 15ms/step - loss: 0.3363 - mae: 0.4589 - val_loss: 0.3033 - val_mae: 0.4397 - learning_rate: 0.0010\n",
      "Epoch 4/500\n",
      "\u001b[1m10/10\u001b[0m \u001b[32m━━━━━━━━━━━━━━━━━━━━\u001b[0m\u001b[37m\u001b[0m \u001b[1m0s\u001b[0m 12ms/step - loss: 0.2659 - mae: 0.4269 - val_loss: 0.2186 - val_mae: 0.3635 - learning_rate: 0.0010\n",
      "Epoch 5/500\n",
      "\u001b[1m10/10\u001b[0m \u001b[32m━━━━━━━━━━━━━━━━━━━━\u001b[0m\u001b[37m\u001b[0m \u001b[1m0s\u001b[0m 10ms/step - loss: 0.1658 - mae: 0.3368 - val_loss: 0.1546 - val_mae: 0.3075 - learning_rate: 0.0010\n",
      "Epoch 6/500\n",
      "\u001b[1m10/10\u001b[0m \u001b[32m━━━━━━━━━━━━━━━━━━━━\u001b[0m\u001b[37m\u001b[0m \u001b[1m0s\u001b[0m 13ms/step - loss: 0.1377 - mae: 0.3030 - val_loss: 0.1177 - val_mae: 0.2730 - learning_rate: 0.0010\n",
      "Epoch 7/500\n",
      "\u001b[1m10/10\u001b[0m \u001b[32m━━━━━━━━━━━━━━━━━━━━\u001b[0m\u001b[37m\u001b[0m \u001b[1m0s\u001b[0m 13ms/step - loss: 0.1014 - mae: 0.2702 - val_loss: 0.0931 - val_mae: 0.2450 - learning_rate: 0.0010\n",
      "Epoch 8/500\n",
      "\u001b[1m10/10\u001b[0m \u001b[32m━━━━━━━━━━━━━━━━━━━━\u001b[0m\u001b[37m\u001b[0m \u001b[1m0s\u001b[0m 13ms/step - loss: 0.0745 - mae: 0.2300 - val_loss: 0.0804 - val_mae: 0.2257 - learning_rate: 0.0010\n",
      "Epoch 9/500\n",
      "\u001b[1m10/10\u001b[0m \u001b[32m━━━━━━━━━━━━━━━━━━━━\u001b[0m\u001b[37m\u001b[0m \u001b[1m0s\u001b[0m 10ms/step - loss: 0.0726 - mae: 0.2324 - val_loss: 0.0746 - val_mae: 0.2136 - learning_rate: 0.0010\n",
      "Epoch 10/500\n",
      "\u001b[1m10/10\u001b[0m \u001b[32m━━━━━━━━━━━━━━━━━━━━\u001b[0m\u001b[37m\u001b[0m \u001b[1m0s\u001b[0m 11ms/step - loss: 0.0690 - mae: 0.2253 - val_loss: 0.0709 - val_mae: 0.2071 - learning_rate: 0.0010\n",
      "Epoch 11/500\n",
      "\u001b[1m10/10\u001b[0m \u001b[32m━━━━━━━━━━━━━━━━━━━━\u001b[0m\u001b[37m\u001b[0m \u001b[1m0s\u001b[0m 12ms/step - loss: 0.0700 - mae: 0.2317 - val_loss: 0.0697 - val_mae: 0.2054 - learning_rate: 0.0010\n",
      "Epoch 12/500\n",
      "\u001b[1m10/10\u001b[0m \u001b[32m━━━━━━━━━━━━━━━━━━━━\u001b[0m\u001b[37m\u001b[0m \u001b[1m0s\u001b[0m 13ms/step - loss: 0.0638 - mae: 0.2204 - val_loss: 0.0678 - val_mae: 0.2020 - learning_rate: 0.0010\n",
      "Epoch 13/500\n",
      "\u001b[1m10/10\u001b[0m \u001b[32m━━━━━━━━━━━━━━━━━━━━\u001b[0m\u001b[37m\u001b[0m \u001b[1m0s\u001b[0m 12ms/step - loss: 0.0600 - mae: 0.2141 - val_loss: 0.0662 - val_mae: 0.1988 - learning_rate: 0.0010\n",
      "Epoch 14/500\n",
      "\u001b[1m10/10\u001b[0m \u001b[32m━━━━━━━━━━━━━━━━━━━━\u001b[0m\u001b[37m\u001b[0m \u001b[1m0s\u001b[0m 10ms/step - loss: 0.0681 - mae: 0.2251 - val_loss: 0.0658 - val_mae: 0.1978 - learning_rate: 0.0010\n",
      "Epoch 15/500\n",
      "\u001b[1m10/10\u001b[0m \u001b[32m━━━━━━━━━━━━━━━━━━━━\u001b[0m\u001b[37m\u001b[0m \u001b[1m0s\u001b[0m 13ms/step - loss: 0.0566 - mae: 0.1994 - val_loss: 0.0637 - val_mae: 0.1955 - learning_rate: 0.0010\n",
      "Epoch 16/500\n",
      "\u001b[1m10/10\u001b[0m \u001b[32m━━━━━━━━━━━━━━━━━━━━\u001b[0m\u001b[37m\u001b[0m \u001b[1m0s\u001b[0m 11ms/step - loss: 0.0607 - mae: 0.2144 - val_loss: 0.0624 - val_mae: 0.1918 - learning_rate: 0.0010\n",
      "Epoch 17/500\n",
      "\u001b[1m10/10\u001b[0m \u001b[32m━━━━━━━━━━━━━━━━━━━━\u001b[0m\u001b[37m\u001b[0m \u001b[1m0s\u001b[0m 11ms/step - loss: 0.0590 - mae: 0.2131 - val_loss: 0.0599 - val_mae: 0.1866 - learning_rate: 0.0010\n",
      "Epoch 18/500\n",
      "\u001b[1m10/10\u001b[0m \u001b[32m━━━━━━━━━━━━━━━━━━━━\u001b[0m\u001b[37m\u001b[0m \u001b[1m0s\u001b[0m 11ms/step - loss: 0.0594 - mae: 0.2134 - val_loss: 0.0585 - val_mae: 0.1874 - learning_rate: 0.0010\n",
      "Epoch 19/500\n",
      "\u001b[1m10/10\u001b[0m \u001b[32m━━━━━━━━━━━━━━━━━━━━\u001b[0m\u001b[37m\u001b[0m \u001b[1m0s\u001b[0m 11ms/step - loss: 0.0596 - mae: 0.2183 - val_loss: 0.0580 - val_mae: 0.1864 - learning_rate: 0.0010\n",
      "Epoch 20/500\n",
      "\u001b[1m10/10\u001b[0m \u001b[32m━━━━━━━━━━━━━━━━━━━━\u001b[0m\u001b[37m\u001b[0m \u001b[1m0s\u001b[0m 12ms/step - loss: 0.0525 - mae: 0.1983 - val_loss: 0.0573 - val_mae: 0.1846 - learning_rate: 0.0010\n",
      "Epoch 21/500\n",
      "\u001b[1m10/10\u001b[0m \u001b[32m━━━━━━━━━━━━━━━━━━━━\u001b[0m\u001b[37m\u001b[0m \u001b[1m0s\u001b[0m 10ms/step - loss: 0.0587 - mae: 0.2128 - val_loss: 0.0580 - val_mae: 0.1846 - learning_rate: 0.0010\n",
      "Epoch 22/500\n",
      "\u001b[1m10/10\u001b[0m \u001b[32m━━━━━━━━━━━━━━━━━━━━\u001b[0m\u001b[37m\u001b[0m \u001b[1m-1s\u001b[0m -115383us/step - loss: 0.0542 - mae: 0.2031 - val_loss: 0.0569 - val_mae: 0.1836 - learning_rate: 0.0010\n",
      "Epoch 23/500\n",
      "\u001b[1m10/10\u001b[0m \u001b[32m━━━━━━━━━━━━━━━━━━━━\u001b[0m\u001b[37m\u001b[0m \u001b[1m0s\u001b[0m 12ms/step - loss: 0.0512 - mae: 0.1961 - val_loss: 0.0560 - val_mae: 0.1832 - learning_rate: 0.0010\n",
      "Epoch 24/500\n",
      "\u001b[1m10/10\u001b[0m \u001b[32m━━━━━━━━━━━━━━━━━━━━\u001b[0m\u001b[37m\u001b[0m \u001b[1m0s\u001b[0m 12ms/step - loss: 0.0556 - mae: 0.2054 - val_loss: 0.0566 - val_mae: 0.1844 - learning_rate: 0.0010\n",
      "Epoch 25/500\n",
      "\u001b[1m10/10\u001b[0m \u001b[32m━━━━━━━━━━━━━━━━━━━━\u001b[0m\u001b[37m\u001b[0m \u001b[1m0s\u001b[0m 12ms/step - loss: 0.0555 - mae: 0.2050 - val_loss: 0.0544 - val_mae: 0.1818 - learning_rate: 0.0010\n",
      "Epoch 26/500\n",
      "\u001b[1m10/10\u001b[0m \u001b[32m━━━━━━━━━━━━━━━━━━━━\u001b[0m\u001b[37m\u001b[0m \u001b[1m0s\u001b[0m 11ms/step - loss: 0.0527 - mae: 0.1989 - val_loss: 0.0541 - val_mae: 0.1819 - learning_rate: 0.0010\n",
      "Epoch 27/500\n",
      "\u001b[1m10/10\u001b[0m \u001b[32m━━━━━━━━━━━━━━━━━━━━\u001b[0m\u001b[37m\u001b[0m \u001b[1m0s\u001b[0m 11ms/step - loss: 0.0544 - mae: 0.2031 - val_loss: 0.0539 - val_mae: 0.1823 - learning_rate: 0.0010\n",
      "Epoch 28/500\n",
      "\u001b[1m10/10\u001b[0m \u001b[32m━━━━━━━━━━━━━━━━━━━━\u001b[0m\u001b[37m\u001b[0m \u001b[1m0s\u001b[0m 11ms/step - loss: 0.0529 - mae: 0.2040 - val_loss: 0.0540 - val_mae: 0.1817 - learning_rate: 0.0010\n",
      "Epoch 29/500\n",
      "\u001b[1m10/10\u001b[0m \u001b[32m━━━━━━━━━━━━━━━━━━━━\u001b[0m\u001b[37m\u001b[0m \u001b[1m0s\u001b[0m 11ms/step - loss: 0.0528 - mae: 0.2047 - val_loss: 0.0533 - val_mae: 0.1816 - learning_rate: 0.0010\n",
      "Epoch 30/500\n",
      "\u001b[1m10/10\u001b[0m \u001b[32m━━━━━━━━━━━━━━━━━━━━\u001b[0m\u001b[37m\u001b[0m \u001b[1m0s\u001b[0m 11ms/step - loss: 0.0519 - mae: 0.1989 - val_loss: 0.0523 - val_mae: 0.1812 - learning_rate: 0.0010\n",
      "Epoch 31/500\n",
      "\u001b[1m10/10\u001b[0m \u001b[32m━━━━━━━━━━━━━━━━━━━━\u001b[0m\u001b[37m\u001b[0m \u001b[1m0s\u001b[0m 12ms/step - loss: 0.0513 - mae: 0.2005 - val_loss: 0.0520 - val_mae: 0.1813 - learning_rate: 0.0010\n",
      "Epoch 32/500\n",
      "\u001b[1m10/10\u001b[0m \u001b[32m━━━━━━━━━━━━━━━━━━━━\u001b[0m\u001b[37m\u001b[0m \u001b[1m0s\u001b[0m 11ms/step - loss: 0.0499 - mae: 0.1937 - val_loss: 0.0529 - val_mae: 0.1814 - learning_rate: 0.0010\n",
      "Epoch 33/500\n",
      "\u001b[1m10/10\u001b[0m \u001b[32m━━━━━━━━━━━━━━━━━━━━\u001b[0m\u001b[37m\u001b[0m \u001b[1m0s\u001b[0m 11ms/step - loss: 0.0485 - mae: 0.1936 - val_loss: 0.0538 - val_mae: 0.1819 - learning_rate: 0.0010\n",
      "Epoch 34/500\n",
      "\u001b[1m10/10\u001b[0m \u001b[32m━━━━━━━━━━━━━━━━━━━━\u001b[0m\u001b[37m\u001b[0m \u001b[1m0s\u001b[0m 12ms/step - loss: 0.0517 - mae: 0.2031 - val_loss: 0.0515 - val_mae: 0.1817 - learning_rate: 0.0010\n",
      "Epoch 35/500\n",
      "\u001b[1m10/10\u001b[0m \u001b[32m━━━━━━━━━━━━━━━━━━━━\u001b[0m\u001b[37m\u001b[0m \u001b[1m0s\u001b[0m 12ms/step - loss: 0.0459 - mae: 0.1873 - val_loss: 0.0537 - val_mae: 0.1827 - learning_rate: 0.0010\n",
      "Epoch 36/500\n",
      "\u001b[1m10/10\u001b[0m \u001b[32m━━━━━━━━━━━━━━━━━━━━\u001b[0m\u001b[37m\u001b[0m \u001b[1m0s\u001b[0m 11ms/step - loss: 0.0516 - mae: 0.2007 - val_loss: 0.0515 - val_mae: 0.1814 - learning_rate: 0.0010\n",
      "Epoch 37/500\n",
      "\u001b[1m10/10\u001b[0m \u001b[32m━━━━━━━━━━━━━━━━━━━━\u001b[0m\u001b[37m\u001b[0m \u001b[1m0s\u001b[0m 10ms/step - loss: 0.0490 - mae: 0.1929 - val_loss: 0.0521 - val_mae: 0.1815 - learning_rate: 0.0010\n",
      "Epoch 38/500\n",
      "\u001b[1m10/10\u001b[0m \u001b[32m━━━━━━━━━━━━━━━━━━━━\u001b[0m\u001b[37m\u001b[0m \u001b[1m0s\u001b[0m 11ms/step - loss: 0.0480 - mae: 0.1939 - val_loss: 0.0530 - val_mae: 0.1824 - learning_rate: 0.0010\n",
      "Epoch 39/500\n",
      "\u001b[1m10/10\u001b[0m \u001b[32m━━━━━━━━━━━━━━━━━━━━\u001b[0m\u001b[37m\u001b[0m \u001b[1m0s\u001b[0m 10ms/step - loss: 0.0520 - mae: 0.1993 - val_loss: 0.0529 - val_mae: 0.1819 - learning_rate: 0.0010\n",
      "Epoch 40/500\n",
      "\u001b[1m10/10\u001b[0m \u001b[32m━━━━━━━━━━━━━━━━━━━━\u001b[0m\u001b[37m\u001b[0m \u001b[1m0s\u001b[0m 10ms/step - loss: 0.0506 - mae: 0.2026 - val_loss: 0.0514 - val_mae: 0.1817 - learning_rate: 0.0010\n",
      "Epoch 41/500\n",
      "\u001b[1m10/10\u001b[0m \u001b[32m━━━━━━━━━━━━━━━━━━━━\u001b[0m\u001b[37m\u001b[0m \u001b[1m0s\u001b[0m 10ms/step - loss: 0.0451 - mae: 0.1864 - val_loss: 0.0515 - val_mae: 0.1815 - learning_rate: 1.0000e-04\n",
      "Epoch 42/500\n",
      "\u001b[1m10/10\u001b[0m \u001b[32m━━━━━━━━━━━━━━━━━━━━\u001b[0m\u001b[37m\u001b[0m \u001b[1m0s\u001b[0m 10ms/step - loss: 0.0472 - mae: 0.1915 - val_loss: 0.0516 - val_mae: 0.1815 - learning_rate: 1.0000e-04\n",
      "Epoch 43/500\n",
      "\u001b[1m10/10\u001b[0m \u001b[32m━━━━━━━━━━━━━━━━━━━━\u001b[0m\u001b[37m\u001b[0m \u001b[1m0s\u001b[0m 10ms/step - loss: 0.0487 - mae: 0.1937 - val_loss: 0.0517 - val_mae: 0.1816 - learning_rate: 1.0000e-04\n",
      "Epoch 44/500\n",
      "\u001b[1m10/10\u001b[0m \u001b[32m━━━━━━━━━━━━━━━━━━━━\u001b[0m\u001b[37m\u001b[0m \u001b[1m0s\u001b[0m 10ms/step - loss: 0.0454 - mae: 0.1831 - val_loss: 0.0517 - val_mae: 0.1815 - learning_rate: 1.0000e-04\n",
      "Epoch 45/500\n",
      "\u001b[1m10/10\u001b[0m \u001b[32m━━━━━━━━━━━━━━━━━━━━\u001b[0m\u001b[37m\u001b[0m \u001b[1m0s\u001b[0m 10ms/step - loss: 0.0554 - mae: 0.2113 - val_loss: 0.0518 - val_mae: 0.1815 - learning_rate: 1.0000e-04\n",
      "Epoch 46/500\n",
      "\u001b[1m10/10\u001b[0m \u001b[32m━━━━━━━━━━━━━━━━━━━━\u001b[0m\u001b[37m\u001b[0m \u001b[1m0s\u001b[0m 9ms/step - loss: 0.0480 - mae: 0.1928 - val_loss: 0.0518 - val_mae: 0.1815 - learning_rate: 1.0000e-04\n",
      "Epoch 47/500\n",
      "\u001b[1m10/10\u001b[0m \u001b[32m━━━━━━━━━━━━━━━━━━━━\u001b[0m\u001b[37m\u001b[0m \u001b[1m0s\u001b[0m 10ms/step - loss: 0.0475 - mae: 0.1923 - val_loss: 0.0518 - val_mae: 0.1815 - learning_rate: 1.0000e-05\n",
      "Epoch 48/500\n",
      "\u001b[1m10/10\u001b[0m \u001b[32m━━━━━━━━━━━━━━━━━━━━\u001b[0m\u001b[37m\u001b[0m \u001b[1m0s\u001b[0m 10ms/step - loss: 0.0510 - mae: 0.1991 - val_loss: 0.0518 - val_mae: 0.1815 - learning_rate: 1.0000e-05\n",
      "Epoch 49/500\n",
      "\u001b[1m10/10\u001b[0m \u001b[32m━━━━━━━━━━━━━━━━━━━━\u001b[0m\u001b[37m\u001b[0m \u001b[1m0s\u001b[0m 10ms/step - loss: 0.0453 - mae: 0.1831 - val_loss: 0.0518 - val_mae: 0.1815 - learning_rate: 1.0000e-05\n",
      "Epoch 50/500\n",
      "\u001b[1m10/10\u001b[0m \u001b[32m━━━━━━━━━━━━━━━━━━━━\u001b[0m\u001b[37m\u001b[0m \u001b[1m0s\u001b[0m 10ms/step - loss: 0.0489 - mae: 0.1928 - val_loss: 0.0518 - val_mae: 0.1815 - learning_rate: 1.0000e-05\n",
      "Epoch 51/500\n",
      "\u001b[1m10/10\u001b[0m \u001b[32m━━━━━━━━━━━━━━━━━━━━\u001b[0m\u001b[37m\u001b[0m \u001b[1m0s\u001b[0m 10ms/step - loss: 0.0479 - mae: 0.1907 - val_loss: 0.0518 - val_mae: 0.1815 - learning_rate: 1.0000e-05\n",
      "Epoch 52/500\n",
      "\u001b[1m10/10\u001b[0m \u001b[32m━━━━━━━━━━━━━━━━━━━━\u001b[0m\u001b[37m\u001b[0m \u001b[1m0s\u001b[0m 10ms/step - loss: 0.0447 - mae: 0.1815 - val_loss: 0.0518 - val_mae: 0.1815 - learning_rate: 1.0000e-05\n",
      "Epoch 53/500\n",
      "\u001b[1m10/10\u001b[0m \u001b[32m━━━━━━━━━━━━━━━━━━━━\u001b[0m\u001b[37m\u001b[0m \u001b[1m0s\u001b[0m 9ms/step - loss: 0.0455 - mae: 0.1826 - val_loss: 0.0518 - val_mae: 0.1815 - learning_rate: 1.0000e-06\n",
      "Epoch 54/500\n",
      "\u001b[1m10/10\u001b[0m \u001b[32m━━━━━━━━━━━━━━━━━━━━\u001b[0m\u001b[37m\u001b[0m \u001b[1m0s\u001b[0m 9ms/step - loss: 0.0444 - mae: 0.1837 - val_loss: 0.0518 - val_mae: 0.1815 - learning_rate: 1.0000e-06\n",
      "Epoch 55/500\n",
      "\u001b[1m10/10\u001b[0m \u001b[32m━━━━━━━━━━━━━━━━━━━━\u001b[0m\u001b[37m\u001b[0m \u001b[1m0s\u001b[0m 9ms/step - loss: 0.0462 - mae: 0.1871 - val_loss: 0.0518 - val_mae: 0.1815 - learning_rate: 1.0000e-06\n"
     ]
    },
    {
     "data": {
      "text/plain": [
       "<keras.src.callbacks.history.History at 0x7d0b6027a870>"
      ]
     },
     "execution_count": 45,
     "metadata": {},
     "output_type": "execute_result"
    }
   ],
   "source": [
    "model = Sequential()\n",
    "model.add(Dense(64, activation='relu', input_shape=(1,)))\n",
    "model.add(Dense(1, activation='linear'))\n",
    "\n",
    "model.compile(loss='mse', metrics=['mae'])\n",
    "\n",
    "early = EarlyStopping(patience=15, restore_best_weights=True) # we don't specify monitor, by default it's val_loss\n",
    "reduce = ReduceLROnPlateau(patience=6)\n",
    "\n",
    "model.fit(trainGenerator, validation_data=valGenerator, epochs=500, batch_size=16, callbacks=[early, reduce])"
   ]
  },
  {
   "cell_type": "code",
   "execution_count": 46,
   "id": "19e83f6f",
   "metadata": {
    "ExecuteTime": {
     "end_time": "2025-10-14T22:18:56.880204Z",
     "start_time": "2025-10-14T22:18:56.641081Z"
    },
    "id": "19e83f6f"
   },
   "outputs": [
    {
     "name": "stdout",
     "output_type": "stream",
     "text": [
      "\u001b[1m1/1\u001b[0m \u001b[32m━━━━━━━━━━━━━━━━━━━━\u001b[0m\u001b[37m\u001b[0m \u001b[1m0s\u001b[0m 125ms/step\n"
     ]
    },
    {
     "data": {
      "image/png": "[encoded data removed]",
      "text/plain": [
       "<Figure size 640x480 with 1 Axes>"
      ]
     },
     "metadata": {},
     "output_type": "display_data"
    }
   ],
   "source": [
    "plt.plot(test_x,test_y, '.', label='data')\n",
    "plt.plot(np.sort(test_x, 0), model.predict(np.sort(test_x, 0)), label='prediction')\n",
    "plt.legend()\n",
    "plt.grid()\n",
    "plt.show()"
   ]
  },
  {
   "cell_type": "markdown",
   "id": "34890d07",
   "metadata": {
    "id": "34890d07"
   },
   "source": [
    "Of course, this generator doesn't make much sense since the data are already in the memory and we don't do anything with them. It's just a template you can use later when it's really needed."
   ]
  },
  {
   "cell_type": "markdown",
   "id": "2e45ea08",
   "metadata": {
    "id": "2e45ea08"
   },
   "source": [
    "# Task 4\n",
    "Predict the quality of wine using neural network.\n",
    " - Treat target as continuous.\n",
    " - Treat target as discrete classes."
   ]
  },
  {
   "cell_type": "code",
   "execution_count": 47,
   "id": "7e5c252d",
   "metadata": {
    "ExecuteTime": {
     "end_time": "2025-10-14T22:18:56.906656Z",
     "start_time": "2025-10-14T22:18:56.901096Z"
    },
    "id": "7e5c252d"
   },
   "outputs": [],
   "source": [
    "data = load_wine()"
   ]
  },
  {
   "cell_type": "code",
   "execution_count": 48,
   "id": "cfb56e2a",
   "metadata": {
    "ExecuteTime": {
     "end_time": "2025-10-14T22:18:57.016719Z",
     "start_time": "2025-10-14T22:18:57.014177Z"
    },
    "id": "cfb56e2a"
   },
   "outputs": [],
   "source": [
    "x = data['data']\n",
    "y = data['target']"
   ]
  },
  {
   "cell_type": "code",
   "execution_count": 49,
   "id": "9abc92fe",
   "metadata": {
    "ExecuteTime": {
     "end_time": "2025-10-14T22:18:57.093207Z",
     "start_time": "2025-10-14T22:18:57.089642Z"
    },
    "id": "9abc92fe"
   },
   "outputs": [
    {
     "data": {
      "text/plain": [
       "array([[1.423e+01, 1.710e+00, 2.430e+00, ..., 1.040e+00, 3.920e+00,\n",
       "        1.065e+03],\n",
       "       [1.320e+01, 1.780e+00, 2.140e+00, ..., 1.050e+00, 3.400e+00,\n",
       "        1.050e+03],\n",
       "       [1.316e+01, 2.360e+00, 2.670e+00, ..., 1.030e+00, 3.170e+00,\n",
       "        1.185e+03],\n",
       "       ...,\n",
       "       [1.327e+01, 4.280e+00, 2.260e+00, ..., 5.900e-01, 1.560e+00,\n",
       "        8.350e+02],\n",
       "       [1.317e+01, 2.590e+00, 2.370e+00, ..., 6.000e-01, 1.620e+00,\n",
       "        8.400e+02],\n",
       "       [1.413e+01, 4.100e+00, 2.740e+00, ..., 6.100e-01, 1.600e+00,\n",
       "        5.600e+02]])"
      ]
     },
     "execution_count": 49,
     "metadata": {},
     "output_type": "execute_result"
    }
   ],
   "source": [
    "x"
   ]
  },
  {
   "cell_type": "code",
   "execution_count": 50,
   "id": "086aeb2f",
   "metadata": {
    "ExecuteTime": {
     "end_time": "2025-10-14T22:18:57.218705Z",
     "start_time": "2025-10-14T22:18:57.215271Z"
    },
    "id": "086aeb2f"
   },
   "outputs": [
    {
     "data": {
      "text/plain": [
       "array([0, 0, 0, 0, 0, 0, 0, 0, 0, 0, 0, 0, 0, 0, 0, 0, 0, 0, 0, 0, 0, 0,\n",
       "       0, 0, 0, 0, 0, 0, 0, 0, 0, 0, 0, 0, 0, 0, 0, 0, 0, 0, 0, 0, 0, 0,\n",
       "       0, 0, 0, 0, 0, 0, 0, 0, 0, 0, 0, 0, 0, 0, 0, 1, 1, 1, 1, 1, 1, 1,\n",
       "       1, 1, 1, 1, 1, 1, 1, 1, 1, 1, 1, 1, 1, 1, 1, 1, 1, 1, 1, 1, 1, 1,\n",
       "       1, 1, 1, 1, 1, 1, 1, 1, 1, 1, 1, 1, 1, 1, 1, 1, 1, 1, 1, 1, 1, 1,\n",
       "       1, 1, 1, 1, 1, 1, 1, 1, 1, 1, 1, 1, 1, 1, 1, 1, 1, 1, 1, 1, 2, 2,\n",
       "       2, 2, 2, 2, 2, 2, 2, 2, 2, 2, 2, 2, 2, 2, 2, 2, 2, 2, 2, 2, 2, 2,\n",
       "       2, 2, 2, 2, 2, 2, 2, 2, 2, 2, 2, 2, 2, 2, 2, 2, 2, 2, 2, 2, 2, 2,\n",
       "       2, 2])"
      ]
     },
     "execution_count": 50,
     "metadata": {},
     "output_type": "execute_result"
    }
   ],
   "source": [
    "y"
   ]
  },
  {
   "cell_type": "markdown",
   "id": "e3c15f70",
   "metadata": {
    "id": "e3c15f70"
   },
   "source": [
    "Here spliting into train, val, and test sets without shuffling might not be the best idea"
   ]
  },
  {
   "cell_type": "code",
   "execution_count": null,
   "id": "bfd10b21",
   "metadata": {
    "ExecuteTime": {
     "end_time": "2025-10-14T22:18:57.352372Z",
     "start_time": "2025-10-14T22:18:57.350413Z"
    },
    "id": "bfd10b21"
   },
   "outputs": [],
   "source": []
  },
  {
   "cell_type": "code",
   "execution_count": null,
   "id": "82c191cf",
   "metadata": {
    "ExecuteTime": {
     "end_time": "2025-10-14T22:18:57.594810Z",
     "start_time": "2025-10-14T22:18:57.592929Z"
    },
    "id": "82c191cf"
   },
   "outputs": [],
   "source": []
  },
  {
   "cell_type": "code",
   "execution_count": null,
   "id": "32125902",
   "metadata": {
    "ExecuteTime": {
     "end_time": "2025-10-14T22:18:57.671690Z",
     "start_time": "2025-10-14T22:18:57.669740Z"
    },
    "id": "32125902"
   },
   "outputs": [],
   "source": []
  },
  {
   "cell_type": "code",
   "execution_count": null,
   "id": "61e6bcbd",
   "metadata": {
    "ExecuteTime": {
     "end_time": "2025-10-14T22:18:57.742967Z",
     "start_time": "2025-10-14T22:18:57.740999Z"
    },
    "id": "61e6bcbd"
   },
   "outputs": [],
   "source": []
  },
  {
   "cell_type": "code",
   "execution_count": 51,
   "id": "819228bc",
   "metadata": {
    "ExecuteTime": {
     "end_time": "2025-10-14T22:18:57.822693Z",
     "start_time": "2025-10-14T22:18:57.799167Z"
    },
    "id": "819228bc"
   },
   "outputs": [
    {
     "name": "stderr",
     "output_type": "stream",
     "text": [
      "/home/determinator/miniconda3/envs/tf-gpu/lib/python3.12/site-packages/keras/src/layers/core/dense.py:87: UserWarning: Do not pass an `input_shape`/`input_dim` argument to a layer. When using Sequential models, prefer using an `Input(shape)` object as the first layer in the model instead.\n",
      "  super().__init__(activity_regularizer=activity_regularizer, **kwargs)\n"
     ]
    }
   ],
   "source": [
    "#try also this model\n",
    "#check why and how it works\n",
    "model = Sequential()\n",
    "model.add(Dense(16, 'relu', input_shape=(13,)))\n",
    "model.add(Dense(3, 'softmax'))\n",
    "model.compile(loss='sparse_categorical_crossentropy', metrics=['acc'])"
   ]
  },
  {
   "cell_type": "code",
   "execution_count": null,
   "id": "2kgmYSNb81O6",
   "metadata": {
    "ExecuteTime": {
     "end_time": "2025-10-14T22:18:57.885283Z",
     "start_time": "2025-10-14T22:18:57.883540Z"
    },
    "id": "2kgmYSNb81O6"
   },
   "outputs": [],
   "source": []
  },
  {
   "cell_type": "markdown",
   "id": "c4b39b3f",
   "metadata": {
    "id": "c4b39b3f"
   },
   "source": [
    "# Project\n"
   ]
  },
  {
   "cell_type": "code",
   "execution_count": 52,
   "id": "465c0080",
   "metadata": {
    "ExecuteTime": {
     "end_time": "2025-10-14T22:18:57.973530Z",
     "start_time": "2025-10-14T22:18:57.966871Z"
    },
    "id": "465c0080"
   },
   "outputs": [
    {
     "data": {
      "text/html": [
       "<div>\n",
       "<style scoped>\n",
       "    .dataframe tbody tr th:only-of-type {\n",
       "        vertical-align: middle;\n",
       "    }\n",
       "\n",
       "    .dataframe tbody tr th {\n",
       "        vertical-align: top;\n",
       "    }\n",
       "\n",
       "    .dataframe thead th {\n",
       "        text-align: right;\n",
       "    }\n",
       "</style>\n",
       "<table border=\"1\" class=\"dataframe\">\n",
       "  <thead>\n",
       "    <tr style=\"text-align: right;\">\n",
       "      <th></th>\n",
       "      <th>pActive</th>\n",
       "      <th>popularity</th>\n",
       "    </tr>\n",
       "  </thead>\n",
       "  <tbody>\n",
       "    <tr>\n",
       "      <th>0</th>\n",
       "      <td>0.7</td>\n",
       "      <td>0.1</td>\n",
       "    </tr>\n",
       "    <tr>\n",
       "      <th>1</th>\n",
       "      <td>0.2</td>\n",
       "      <td>0.4</td>\n",
       "    </tr>\n",
       "  </tbody>\n",
       "</table>\n",
       "</div>"
      ],
      "text/plain": [
       "   pActive  popularity\n",
       "0      0.7         0.1\n",
       "1      0.2         0.4"
      ]
     },
     "execution_count": 52,
     "metadata": {},
     "output_type": "execute_result"
    }
   ],
   "source": [
    "df = pd.DataFrame({'pActive': [0.7, 0.2], 'popularity': [0.1, 0.4]})\n",
    "df"
   ]
  },
  {
   "cell_type": "markdown",
   "id": "f2d45e96",
   "metadata": {
    "id": "f2d45e96"
   },
   "source": [
    "Consider a simplified model for the election in the NPOS cryptocurrency environment. A nominator can select up to 16 different validators. Each validator has a probability to become active called $pActive$. Then the nominator will get assigned to one of the selected active validators in such a way that distributes stakes (money) between validators evenly. Therefore the more popular a validator is, the lower probability to be assigned to them.\n",
    "\n",
    "Example:\n",
    "\n",
    "With two validators having $pActive$ 0.7 and 0.2 and $popularity$ 0.1 and 0.4 respectively there are 4 possible scenarios:\n",
    "\n",
    " - no validators being active p = (1-0.7) * (1-0.2) = 0.24\n",
    " - just validator A p = 0.7 * (1-0.2) = 0.56\n",
    " - just validator B p = (1-0.7) * 0.2 = 0.06\n",
    " - both validators active p = 0.7 * 0.2 = 0.14\n",
    "\n",
    "In the first scenario there are no candidates so nobody is assigned. In the second and third case there is just once candidate so with 100% probability she/he wins. The last scenario is the most complex and we have to account for popularity and validator A has 20% chances of wining and B 80%. Combining all scenarios\n",
    "\n",
    " - validator A: 0.56 * 100% + 0.14 * 20% = 58.8%\n",
    " - validator B: 0.06 * 100% + 0.14 * 80% = 17.2%\n",
    "\n",
    "We can write a function to calculate it\n"
   ]
  },
  {
   "cell_type": "code",
   "execution_count": 53,
   "id": "5d1d332b",
   "metadata": {
    "ExecuteTime": {
     "end_time": "2025-10-14T22:18:58.054493Z",
     "start_time": "2025-10-14T22:18:58.051496Z"
    },
    "id": "5d1d332b"
   },
   "outputs": [],
   "source": [
    "def getProbability(df):\n",
    "    combinations = np.indices((2,) * len(df)).reshape(len(df), -1).T.astype(int)\n",
    "    p = np.maximum((1-combinations)*(1-df.pActive.values), (combinations*df.pActive.values)).prod(1)\n",
    "    prob = (combinations * df.popularity.values)[1:] / (combinations * df.popularity.values).sum(1).reshape((-1,1))[1:]\n",
    "    x=(p.reshape((-1,1))[1:] * prob)\n",
    "\n",
    "    return x.sum(axis=0)"
   ]
  },
  {
   "cell_type": "code",
   "execution_count": 54,
   "id": "b78e9ce8",
   "metadata": {
    "ExecuteTime": {
     "end_time": "2025-10-14T22:18:58.157991Z",
     "start_time": "2025-10-14T22:18:58.154560Z"
    },
    "id": "b78e9ce8"
   },
   "outputs": [
    {
     "data": {
      "text/plain": [
       "array([0.588, 0.172])"
      ]
     },
     "execution_count": 54,
     "metadata": {},
     "output_type": "execute_result"
    }
   ],
   "source": [
    "getProbability(df)"
   ]
  },
  {
   "cell_type": "code",
   "execution_count": 55,
   "id": "e4fc6298",
   "metadata": {
    "ExecuteTime": {
     "end_time": "2025-10-14T22:18:58.304791Z",
     "start_time": "2025-10-14T22:18:58.298470Z"
    },
    "id": "e4fc6298"
   },
   "outputs": [
    {
     "data": {
      "text/html": [
       "<div>\n",
       "<style scoped>\n",
       "    .dataframe tbody tr th:only-of-type {\n",
       "        vertical-align: middle;\n",
       "    }\n",
       "\n",
       "    .dataframe tbody tr th {\n",
       "        vertical-align: top;\n",
       "    }\n",
       "\n",
       "    .dataframe thead th {\n",
       "        text-align: right;\n",
       "    }\n",
       "</style>\n",
       "<table border=\"1\" class=\"dataframe\">\n",
       "  <thead>\n",
       "    <tr style=\"text-align: right;\">\n",
       "      <th></th>\n",
       "      <th>pActive</th>\n",
       "      <th>popularity</th>\n",
       "    </tr>\n",
       "  </thead>\n",
       "  <tbody>\n",
       "    <tr>\n",
       "      <th>0</th>\n",
       "      <td>0.834842</td>\n",
       "      <td>0.943351</td>\n",
       "    </tr>\n",
       "    <tr>\n",
       "      <th>1</th>\n",
       "      <td>0.104796</td>\n",
       "      <td>0.881824</td>\n",
       "    </tr>\n",
       "    <tr>\n",
       "      <th>2</th>\n",
       "      <td>0.744640</td>\n",
       "      <td>0.646411</td>\n",
       "    </tr>\n",
       "    <tr>\n",
       "      <th>3</th>\n",
       "      <td>0.360501</td>\n",
       "      <td>0.213825</td>\n",
       "    </tr>\n",
       "    <tr>\n",
       "      <th>4</th>\n",
       "      <td>0.359311</td>\n",
       "      <td>0.636832</td>\n",
       "    </tr>\n",
       "    <tr>\n",
       "      <th>5</th>\n",
       "      <td>0.609238</td>\n",
       "      <td>0.139146</td>\n",
       "    </tr>\n",
       "    <tr>\n",
       "      <th>6</th>\n",
       "      <td>0.393780</td>\n",
       "      <td>0.458704</td>\n",
       "    </tr>\n",
       "    <tr>\n",
       "      <th>7</th>\n",
       "      <td>0.409073</td>\n",
       "      <td>0.873863</td>\n",
       "    </tr>\n",
       "    <tr>\n",
       "      <th>8</th>\n",
       "      <td>0.509902</td>\n",
       "      <td>0.258450</td>\n",
       "    </tr>\n",
       "    <tr>\n",
       "      <th>9</th>\n",
       "      <td>0.710148</td>\n",
       "      <td>0.664851</td>\n",
       "    </tr>\n",
       "    <tr>\n",
       "      <th>10</th>\n",
       "      <td>0.960526</td>\n",
       "      <td>0.862674</td>\n",
       "    </tr>\n",
       "    <tr>\n",
       "      <th>11</th>\n",
       "      <td>0.456621</td>\n",
       "      <td>0.148848</td>\n",
       "    </tr>\n",
       "    <tr>\n",
       "      <th>12</th>\n",
       "      <td>0.427652</td>\n",
       "      <td>0.562950</td>\n",
       "    </tr>\n",
       "    <tr>\n",
       "      <th>13</th>\n",
       "      <td>0.113464</td>\n",
       "      <td>0.159155</td>\n",
       "    </tr>\n",
       "    <tr>\n",
       "      <th>14</th>\n",
       "      <td>0.217899</td>\n",
       "      <td>0.172895</td>\n",
       "    </tr>\n",
       "    <tr>\n",
       "      <th>15</th>\n",
       "      <td>0.957472</td>\n",
       "      <td>0.104023</td>\n",
       "    </tr>\n",
       "  </tbody>\n",
       "</table>\n",
       "</div>"
      ],
      "text/plain": [
       "     pActive  popularity\n",
       "0   0.834842    0.943351\n",
       "1   0.104796    0.881824\n",
       "2   0.744640    0.646411\n",
       "3   0.360501    0.213825\n",
       "4   0.359311    0.636832\n",
       "5   0.609238    0.139146\n",
       "6   0.393780    0.458704\n",
       "7   0.409073    0.873863\n",
       "8   0.509902    0.258450\n",
       "9   0.710148    0.664851\n",
       "10  0.960526    0.862674\n",
       "11  0.456621    0.148848\n",
       "12  0.427652    0.562950\n",
       "13  0.113464    0.159155\n",
       "14  0.217899    0.172895\n",
       "15  0.957472    0.104023"
      ]
     },
     "execution_count": 55,
     "metadata": {},
     "output_type": "execute_result"
    }
   ],
   "source": [
    "np.random.seed(44)\n",
    "df = pd.DataFrame({'pActive': np.random.rand(16), 'popularity': np.random.rand(16)})\n",
    "df"
   ]
  },
  {
   "cell_type": "code",
   "execution_count": 56,
   "id": "1348f5a4",
   "metadata": {
    "ExecuteTime": {
     "end_time": "2025-10-14T22:18:58.637998Z",
     "start_time": "2025-10-14T22:18:58.583004Z"
    },
    "id": "1348f5a4"
   },
   "outputs": [
    {
     "data": {
      "text/plain": [
       "array([0.18913886, 0.01923229, 0.11579273, 0.01878055, 0.05184979,\n",
       "       0.02111685, 0.04234469, 0.07859714, 0.03217675, 0.11270273,\n",
       "       0.20698343, 0.01681029, 0.05573447, 0.00439729, 0.00918603,\n",
       "       0.02515601])"
      ]
     },
     "execution_count": 56,
     "metadata": {},
     "output_type": "execute_result"
    }
   ],
   "source": [
    "getProbability(df)"
   ]
  },
  {
   "cell_type": "markdown",
   "id": "11154ecf",
   "metadata": {
    "id": "11154ecf"
   },
   "source": [
    "It might take longer when more candidates are considered. Imagine you have to solve an optimization problem where this function will be executed millions of times thus we want to make it faster.\n",
    "\n",
    "Your task is to create a neural network estimating function $getProbability$, while being much faster. You can assume the maximum number of validators is 16 and the minimal is 1. $pActive$ is in range from 0 to 1 $popularity$ is greater than 0 without an upper limit. Keep in mind it's possible no validator will be active (scenario 1 in the example above).\n",
    "Try to avoide using heavy pre- and post-processing (do not put a whole logic of the function there) and do as much computations as possible inside the neural network\n",
    "\n",
    "\n",
    "Send your result by the end of 26th October to grzegorz.miebs@cs.put.poznan.pl, start the email subject with [DL], there should be a function named project1 that gets a DataFrame as a parameter and produces a numpy array with probabilities.\n"
   ]
  },
  {
   "cell_type": "code",
   "execution_count": 65,
   "id": "68a3f1ed",
   "metadata": {
    "ExecuteTime": {
     "end_time": "2025-10-14T22:56:38.548287Z",
     "start_time": "2025-10-14T22:56:38.542929Z"
    },
    "id": "68a3f1ed"
   },
   "outputs": [],
   "source": [
    "def generate_data(n_samples=10000):\n",
    "    X_list = []\n",
    "    y_list = []\n",
    "\n",
    "    for _ in range(n_samples):\n",
    "        n_validators = np.random.randint(1, 17)\n",
    "\n",
    "        pActive = np.random.rand(n_validators)\n",
    "\n",
    "        popularity = np.clip(np.random.rand(n_validators) + 0.01, 0.01, 1)\n",
    "\n",
    "        df = pd.DataFrame({'pActive': pActive, 'popularity': popularity})\n",
    "\n",
    "        probabilities = getProbability(df)\n",
    "\n",
    "        pActive_padded = np.pad(pActive, (0, 16 - n_validators), constant_values=0)\n",
    "        popularity_padded = np.pad(popularity, (0, 16 - n_validators), constant_values=0)\n",
    "        probabilities_padded = np.pad(probabilities, (0, 16 - n_validators), constant_values=0)\n",
    "\n",
    "        X = np.concatenate([pActive_padded, popularity_padded])\n",
    "\n",
    "        X_list.append(X)\n",
    "        y_list.append(probabilities_padded)\n",
    "\n",
    "    return np.array(X_list), np.array(y_list)"
   ]
  },
  {
   "cell_type": "code",
   "execution_count": 64,
   "id": "f0cb73a469ae2758",
   "metadata": {
    "ExecuteTime": {
     "end_time": "2025-10-14T22:25:25.374965Z",
     "start_time": "2025-10-14T22:25:25.369770Z"
    }
   },
   "outputs": [],
   "source": [
    "def evaluate_model(df):\n",
    "    n_validators = len(df)\n",
    "\n",
    "    pActive = df['pActive'].values\n",
    "    popularity = df['popularity'].values\n",
    "\n",
    "    pActive_padded = np.pad(pActive, (0, 16 - n_validators), constant_values=0)\n",
    "    popularity_padded = np.pad(popularity, (0, 16 - n_validators), constant_values=0)\n",
    "\n",
    "    X = np.concatenate([pActive_padded, popularity_padded]).reshape(1, -1)\n",
    "\n",
    "    predictions = model.predict(X, verbose=0)[0]\n",
    "\n",
    "    return predictions[:n_validators]"
   ]
  },
  {
   "cell_type": "code",
   "execution_count": 70,
   "id": "c1b1941a035900f5",
   "metadata": {
    "ExecuteTime": {
     "end_time": "2025-10-14T23:18:45.799413Z",
     "start_time": "2025-10-14T23:15:20.903349Z"
    }
   },
   "outputs": [
    {
     "name": "stdout",
     "output_type": "stream",
     "text": [
      "Epoch 1/50\n"
     ]
    },
    {
     "name": "stderr",
     "output_type": "stream",
     "text": [
      "2025-10-15 01:16:42.692925: I external/local_xla/xla/stream_executor/cuda/subprocess_compilation.cc:346] ptxas warning : Registers are spilled to local memory in function 'gemm_fusion_dot_279', 8 bytes spill stores, 8 bytes spill loads\n",
      "\n",
      "2025-10-15 01:16:43.432544: I external/local_xla/xla/stream_executor/cuda/subprocess_compilation.cc:346] ptxas warning : Registers are spilled to local memory in function 'gemm_fusion_dot_279', 104 bytes spill stores, 104 bytes spill loads\n",
      "\n",
      "2025-10-15 01:16:43.475230: I external/local_xla/xla/stream_executor/cuda/subprocess_compilation.cc:346] ptxas warning : Registers are spilled to local memory in function 'gemm_fusion_dot_286', 24 bytes spill stores, 24 bytes spill loads\n",
      "\n",
      "2025-10-15 01:16:44.525425: I external/local_xla/xla/stream_executor/cuda/subprocess_compilation.cc:346] ptxas warning : Registers are spilled to local memory in function 'gemm_fusion_dot_286', 24 bytes spill stores, 24 bytes spill loads\n",
      "\n",
      "2025-10-15 01:16:44.588279: I external/local_xla/xla/stream_executor/cuda/subprocess_compilation.cc:346] ptxas warning : Registers are spilled to local memory in function 'gemm_fusion_dot_477', 68 bytes spill stores, 68 bytes spill loads\n",
      "\n",
      "2025-10-15 01:16:44.697922: I external/local_xla/xla/stream_executor/cuda/subprocess_compilation.cc:346] ptxas warning : Registers are spilled to local memory in function 'gemm_fusion_dot_475', 80 bytes spill stores, 80 bytes spill loads\n",
      "\n",
      "2025-10-15 01:16:45.393761: I external/local_xla/xla/stream_executor/cuda/subprocess_compilation.cc:346] ptxas warning : Registers are spilled to local memory in function 'gemm_fusion_dot_475', 8 bytes spill stores, 8 bytes spill loads\n",
      "\n"
     ]
    },
    {
     "name": "stdout",
     "output_type": "stream",
     "text": [
      "\u001b[1m625/625\u001b[0m \u001b[32m━━━━━━━━━━━━━━━━━━━━\u001b[0m\u001b[37m\u001b[0m \u001b[1m11s\u001b[0m 8ms/step - accuracy: 0.3033 - loss: 0.0283 - mae: 0.0934 - mse: 0.0283 - val_accuracy: 0.5573 - val_loss: 0.0039 - val_mae: 0.0310 - val_mse: 0.0039 - learning_rate: 0.0010\n",
      "Epoch 2/50\n",
      "\u001b[1m625/625\u001b[0m \u001b[32m━━━━━━━━━━━━━━━━━━━━\u001b[0m\u001b[37m\u001b[0m \u001b[1m2s\u001b[0m 4ms/step - accuracy: 0.6324 - loss: 0.0031 - mae: 0.0279 - mse: 0.0031 - val_accuracy: 0.7933 - val_loss: 7.4958e-04 - val_mae: 0.0166 - val_mse: 7.4958e-04 - learning_rate: 0.0010\n",
      "Epoch 3/50\n",
      "\u001b[1m625/625\u001b[0m \u001b[32m━━━━━━━━━━━━━━━━━━━━\u001b[0m\u001b[37m\u001b[0m \u001b[1m1s\u001b[0m 2ms/step - accuracy: 0.8298 - loss: 5.8343e-04 - mae: 0.0147 - mse: 5.8343e-04 - val_accuracy: 0.8811 - val_loss: 3.4374e-04 - val_mae: 0.0116 - val_mse: 3.4374e-04 - learning_rate: 0.0010\n",
      "Epoch 4/50\n",
      "\u001b[1m625/625\u001b[0m \u001b[32m━━━━━━━━━━━━━━━━━━━━\u001b[0m\u001b[37m\u001b[0m \u001b[1m3s\u001b[0m 4ms/step - accuracy: 0.8799 - loss: 3.4241e-04 - mae: 0.0115 - mse: 3.4241e-04 - val_accuracy: 0.8957 - val_loss: 2.7797e-04 - val_mae: 0.0104 - val_mse: 2.7797e-04 - learning_rate: 0.0010\n",
      "Epoch 5/50\n",
      "\u001b[1m625/625\u001b[0m \u001b[32m━━━━━━━━━━━━━━━━━━━━\u001b[0m\u001b[37m\u001b[0m \u001b[1m2s\u001b[0m 3ms/step - accuracy: 0.8918 - loss: 2.8326e-04 - mae: 0.0105 - mse: 2.8326e-04 - val_accuracy: 0.8988 - val_loss: 2.5299e-04 - val_mae: 0.0100 - val_mse: 2.5299e-04 - learning_rate: 0.0010\n",
      "Epoch 6/50\n",
      "\u001b[1m625/625\u001b[0m \u001b[32m━━━━━━━━━━━━━━━━━━━━\u001b[0m\u001b[37m\u001b[0m \u001b[1m2s\u001b[0m 4ms/step - accuracy: 0.8982 - loss: 2.4424e-04 - mae: 0.0098 - mse: 2.4424e-04 - val_accuracy: 0.8985 - val_loss: 2.2579e-04 - val_mae: 0.0094 - val_mse: 2.2579e-04 - learning_rate: 0.0010\n",
      "Epoch 7/50\n",
      "\u001b[1m625/625\u001b[0m \u001b[32m━━━━━━━━━━━━━━━━━━━━\u001b[0m\u001b[37m\u001b[0m \u001b[1m2s\u001b[0m 4ms/step - accuracy: 0.9009 - loss: 2.1298e-04 - mae: 0.0091 - mse: 2.1298e-04 - val_accuracy: 0.9045 - val_loss: 2.0694e-04 - val_mae: 0.0089 - val_mse: 2.0694e-04 - learning_rate: 0.0010\n",
      "Epoch 8/50\n",
      "\u001b[1m625/625\u001b[0m \u001b[32m━━━━━━━━━━━━━━━━━━━━\u001b[0m\u001b[37m\u001b[0m \u001b[1m2s\u001b[0m 4ms/step - accuracy: 0.9066 - loss: 1.8373e-04 - mae: 0.0085 - mse: 1.8373e-04 - val_accuracy: 0.9036 - val_loss: 1.7850e-04 - val_mae: 0.0083 - val_mse: 1.7850e-04 - learning_rate: 0.0010\n",
      "Epoch 9/50\n",
      "\u001b[1m625/625\u001b[0m \u001b[32m━━━━━━━━━━━━━━━━━━━━\u001b[0m\u001b[37m\u001b[0m \u001b[1m2s\u001b[0m 4ms/step - accuracy: 0.9112 - loss: 1.6653e-04 - mae: 0.0080 - mse: 1.6653e-04 - val_accuracy: 0.9100 - val_loss: 1.4923e-04 - val_mae: 0.0076 - val_mse: 1.4923e-04 - learning_rate: 0.0010\n",
      "Epoch 10/50\n",
      "\u001b[1m625/625\u001b[0m \u001b[32m━━━━━━━━━━━━━━━━━━━━\u001b[0m\u001b[37m\u001b[0m \u001b[1m3s\u001b[0m 4ms/step - accuracy: 0.9092 - loss: 1.5270e-04 - mae: 0.0077 - mse: 1.5270e-04 - val_accuracy: 0.9018 - val_loss: 1.6146e-04 - val_mae: 0.0078 - val_mse: 1.6146e-04 - learning_rate: 0.0010\n",
      "Epoch 11/50\n",
      "\u001b[1m625/625\u001b[0m \u001b[32m━━━━━━━━━━━━━━━━━━━━\u001b[0m\u001b[37m\u001b[0m \u001b[1m3s\u001b[0m 4ms/step - accuracy: 0.9105 - loss: 1.4243e-04 - mae: 0.0074 - mse: 1.4243e-04 - val_accuracy: 0.9130 - val_loss: 1.3347e-04 - val_mae: 0.0072 - val_mse: 1.3347e-04 - learning_rate: 0.0010\n",
      "Epoch 12/50\n",
      "\u001b[1m625/625\u001b[0m \u001b[32m━━━━━━━━━━━━━━━━━━━━\u001b[0m\u001b[37m\u001b[0m \u001b[1m3s\u001b[0m 5ms/step - accuracy: 0.9302 - loss: 1.0754e-04 - mae: 0.0065 - mse: 1.0754e-04 - val_accuracy: 0.9307 - val_loss: 1.0765e-04 - val_mae: 0.0064 - val_mse: 1.0765e-04 - learning_rate: 1.0000e-04\n",
      "Epoch 13/50\n",
      "\u001b[1m625/625\u001b[0m \u001b[32m━━━━━━━━━━━━━━━━━━━━\u001b[0m\u001b[37m\u001b[0m \u001b[1m3s\u001b[0m 4ms/step - accuracy: 0.9354 - loss: 1.0225e-04 - mae: 0.0063 - mse: 1.0225e-04 - val_accuracy: 0.9316 - val_loss: 1.0717e-04 - val_mae: 0.0064 - val_mse: 1.0717e-04 - learning_rate: 1.0000e-04\n",
      "Epoch 14/50\n",
      "\u001b[1m625/625\u001b[0m \u001b[32m━━━━━━━━━━━━━━━━━━━━\u001b[0m\u001b[37m\u001b[0m \u001b[1m3s\u001b[0m 4ms/step - accuracy: 0.9337 - loss: 1.0079e-04 - mae: 0.0062 - mse: 1.0079e-04 - val_accuracy: 0.9312 - val_loss: 1.0452e-04 - val_mae: 0.0063 - val_mse: 1.0452e-04 - learning_rate: 1.0000e-04\n",
      "Epoch 15/50\n",
      "\u001b[1m625/625\u001b[0m \u001b[32m━━━━━━━━━━━━━━━━━━━━\u001b[0m\u001b[37m\u001b[0m \u001b[1m3s\u001b[0m 4ms/step - accuracy: 0.9358 - loss: 9.9839e-05 - mae: 0.0062 - mse: 9.9839e-05 - val_accuracy: 0.9301 - val_loss: 1.0515e-04 - val_mae: 0.0063 - val_mse: 1.0515e-04 - learning_rate: 1.0000e-04\n",
      "Epoch 16/50\n",
      "\u001b[1m625/625\u001b[0m \u001b[32m━━━━━━━━━━━━━━━━━━━━\u001b[0m\u001b[37m\u001b[0m \u001b[1m2s\u001b[0m 3ms/step - accuracy: 0.9364 - loss: 9.7509e-05 - mae: 0.0061 - mse: 9.7509e-05 - val_accuracy: 0.9320 - val_loss: 1.0316e-04 - val_mae: 0.0062 - val_mse: 1.0316e-04 - learning_rate: 1.0000e-04\n",
      "Epoch 17/50\n",
      "\u001b[1m625/625\u001b[0m \u001b[32m━━━━━━━━━━━━━━━━━━━━\u001b[0m\u001b[37m\u001b[0m \u001b[1m2s\u001b[0m 4ms/step - accuracy: 0.9329 - loss: 9.7649e-05 - mae: 0.0061 - mse: 9.7649e-05 - val_accuracy: 0.9300 - val_loss: 1.0070e-04 - val_mae: 0.0061 - val_mse: 1.0070e-04 - learning_rate: 1.0000e-04\n",
      "Epoch 18/50\n",
      "\u001b[1m625/625\u001b[0m \u001b[32m━━━━━━━━━━━━━━━━━━━━\u001b[0m\u001b[37m\u001b[0m \u001b[1m2s\u001b[0m 4ms/step - accuracy: 0.9370 - loss: 9.3168e-05 - mae: 0.0059 - mse: 9.3168e-05 - val_accuracy: 0.9328 - val_loss: 9.7972e-05 - val_mae: 0.0060 - val_mse: 9.7972e-05 - learning_rate: 1.0000e-05\n",
      "Epoch 19/50\n",
      "\u001b[1m625/625\u001b[0m \u001b[32m━━━━━━━━━━━━━━━━━━━━\u001b[0m\u001b[37m\u001b[0m \u001b[1m2s\u001b[0m 4ms/step - accuracy: 0.9365 - loss: 9.2017e-05 - mae: 0.0059 - mse: 9.2017e-05 - val_accuracy: 0.9342 - val_loss: 9.8072e-05 - val_mae: 0.0060 - val_mse: 9.8072e-05 - learning_rate: 1.0000e-05\n",
      "Epoch 20/50\n",
      "\u001b[1m625/625\u001b[0m \u001b[32m━━━━━━━━━━━━━━━━━━━━\u001b[0m\u001b[37m\u001b[0m \u001b[1m2s\u001b[0m 4ms/step - accuracy: 0.9376 - loss: 9.1962e-05 - mae: 0.0059 - mse: 9.1962e-05 - val_accuracy: 0.9338 - val_loss: 9.7832e-05 - val_mae: 0.0060 - val_mse: 9.7832e-05 - learning_rate: 1.0000e-05\n",
      "Epoch 21/50\n",
      "\u001b[1m625/625\u001b[0m \u001b[32m━━━━━━━━━━━━━━━━━━━━\u001b[0m\u001b[37m\u001b[0m \u001b[1m2s\u001b[0m 4ms/step - accuracy: 0.9402 - loss: 9.0536e-05 - mae: 0.0058 - mse: 9.0536e-05 - val_accuracy: 0.9353 - val_loss: 9.7476e-05 - val_mae: 0.0060 - val_mse: 9.7476e-05 - learning_rate: 1.0000e-05\n",
      "Epoch 22/50\n",
      "\u001b[1m625/625\u001b[0m \u001b[32m━━━━━━━━━━━━━━━━━━━━\u001b[0m\u001b[37m\u001b[0m \u001b[1m3s\u001b[0m 4ms/step - accuracy: 0.9359 - loss: 9.1725e-05 - mae: 0.0059 - mse: 9.1725e-05 - val_accuracy: 0.9345 - val_loss: 9.7274e-05 - val_mae: 0.0060 - val_mse: 9.7274e-05 - learning_rate: 1.0000e-05\n",
      "Epoch 23/50\n",
      "\u001b[1m625/625\u001b[0m \u001b[32m━━━━━━━━━━━━━━━━━━━━\u001b[0m\u001b[37m\u001b[0m \u001b[1m3s\u001b[0m 4ms/step - accuracy: 0.9398 - loss: 9.0260e-05 - mae: 0.0058 - mse: 9.0260e-05 - val_accuracy: 0.9339 - val_loss: 9.7040e-05 - val_mae: 0.0060 - val_mse: 9.7040e-05 - learning_rate: 1.0000e-06\n",
      "Epoch 24/50\n",
      "\u001b[1m625/625\u001b[0m \u001b[32m━━━━━━━━━━━━━━━━━━━━\u001b[0m\u001b[37m\u001b[0m \u001b[1m3s\u001b[0m 4ms/step - accuracy: 0.9405 - loss: 9.0207e-05 - mae: 0.0058 - mse: 9.0207e-05 - val_accuracy: 0.9344 - val_loss: 9.7001e-05 - val_mae: 0.0060 - val_mse: 9.7001e-05 - learning_rate: 1.0000e-06\n",
      "Epoch 25/50\n",
      "\u001b[1m625/625\u001b[0m \u001b[32m━━━━━━━━━━━━━━━━━━━━\u001b[0m\u001b[37m\u001b[0m \u001b[1m2s\u001b[0m 4ms/step - accuracy: 0.9381 - loss: 9.1981e-05 - mae: 0.0059 - mse: 9.1981e-05 - val_accuracy: 0.9346 - val_loss: 9.6984e-05 - val_mae: 0.0060 - val_mse: 9.6984e-05 - learning_rate: 1.0000e-06\n",
      "Epoch 26/50\n",
      "\u001b[1m625/625\u001b[0m \u001b[32m━━━━━━━━━━━━━━━━━━━━\u001b[0m\u001b[37m\u001b[0m \u001b[1m3s\u001b[0m 4ms/step - accuracy: 0.9392 - loss: 9.0113e-05 - mae: 0.0058 - mse: 9.0113e-05 - val_accuracy: 0.9349 - val_loss: 9.6985e-05 - val_mae: 0.0060 - val_mse: 9.6985e-05 - learning_rate: 1.0000e-06\n",
      "Epoch 27/50\n",
      "\u001b[1m625/625\u001b[0m \u001b[32m━━━━━━━━━━━━━━━━━━━━\u001b[0m\u001b[37m\u001b[0m \u001b[1m2s\u001b[0m 3ms/step - accuracy: 0.9410 - loss: 9.0666e-05 - mae: 0.0058 - mse: 9.0666e-05 - val_accuracy: 0.9349 - val_loss: 9.6941e-05 - val_mae: 0.0060 - val_mse: 9.6941e-05 - learning_rate: 1.0000e-06\n",
      "Epoch 28/50\n",
      "\u001b[1m625/625\u001b[0m \u001b[32m━━━━━━━━━━━━━━━━━━━━\u001b[0m\u001b[37m\u001b[0m \u001b[1m2s\u001b[0m 3ms/step - accuracy: 0.9393 - loss: 9.0936e-05 - mae: 0.0059 - mse: 9.0936e-05 - val_accuracy: 0.9347 - val_loss: 9.6920e-05 - val_mae: 0.0060 - val_mse: 9.6920e-05 - learning_rate: 1.0000e-07\n",
      "Epoch 29/50\n",
      "\u001b[1m625/625\u001b[0m \u001b[32m━━━━━━━━━━━━━━━━━━━━\u001b[0m\u001b[37m\u001b[0m \u001b[1m2s\u001b[0m 3ms/step - accuracy: 0.9382 - loss: 9.0573e-05 - mae: 0.0058 - mse: 9.0573e-05 - val_accuracy: 0.9349 - val_loss: 9.6920e-05 - val_mae: 0.0060 - val_mse: 9.6920e-05 - learning_rate: 1.0000e-07\n",
      "Epoch 30/50\n",
      "\u001b[1m625/625\u001b[0m \u001b[32m━━━━━━━━━━━━━━━━━━━━\u001b[0m\u001b[37m\u001b[0m \u001b[1m2s\u001b[0m 4ms/step - accuracy: 0.9392 - loss: 9.0368e-05 - mae: 0.0058 - mse: 9.0368e-05 - val_accuracy: 0.9346 - val_loss: 9.6915e-05 - val_mae: 0.0060 - val_mse: 9.6915e-05 - learning_rate: 1.0000e-07\n",
      "Epoch 31/50\n",
      "\u001b[1m625/625\u001b[0m \u001b[32m━━━━━━━━━━━━━━━━━━━━\u001b[0m\u001b[37m\u001b[0m \u001b[1m3s\u001b[0m 4ms/step - accuracy: 0.9368 - loss: 8.9904e-05 - mae: 0.0058 - mse: 8.9904e-05 - val_accuracy: 0.9343 - val_loss: 9.6905e-05 - val_mae: 0.0060 - val_mse: 9.6905e-05 - learning_rate: 1.0000e-07\n",
      "Epoch 32/50\n",
      "\u001b[1m625/625\u001b[0m \u001b[32m━━━━━━━━━━━━━━━━━━━━\u001b[0m\u001b[37m\u001b[0m \u001b[1m2s\u001b[0m 4ms/step - accuracy: 0.9389 - loss: 9.0766e-05 - mae: 0.0058 - mse: 9.0766e-05 - val_accuracy: 0.9347 - val_loss: 9.6904e-05 - val_mae: 0.0060 - val_mse: 9.6904e-05 - learning_rate: 1.0000e-07\n",
      "Epoch 33/50\n",
      "\u001b[1m625/625\u001b[0m \u001b[32m━━━━━━━━━━━━━━━━━━━━\u001b[0m\u001b[37m\u001b[0m \u001b[1m2s\u001b[0m 4ms/step - accuracy: 0.9370 - loss: 9.0535e-05 - mae: 0.0058 - mse: 9.0535e-05 - val_accuracy: 0.9347 - val_loss: 9.6907e-05 - val_mae: 0.0060 - val_mse: 9.6907e-05 - learning_rate: 1.0000e-08\n",
      "Epoch 34/50\n",
      "\u001b[1m625/625\u001b[0m \u001b[32m━━━━━━━━━━━━━━━━━━━━\u001b[0m\u001b[37m\u001b[0m \u001b[1m2s\u001b[0m 4ms/step - accuracy: 0.9384 - loss: 9.0395e-05 - mae: 0.0058 - mse: 9.0395e-05 - val_accuracy: 0.9348 - val_loss: 9.6901e-05 - val_mae: 0.0060 - val_mse: 9.6901e-05 - learning_rate: 1.0000e-08\n",
      "Epoch 35/50\n",
      "\u001b[1m625/625\u001b[0m \u001b[32m━━━━━━━━━━━━━━━━━━━━\u001b[0m\u001b[37m\u001b[0m \u001b[1m2s\u001b[0m 4ms/step - accuracy: 0.9403 - loss: 8.9580e-05 - mae: 0.0058 - mse: 8.9580e-05 - val_accuracy: 0.9346 - val_loss: 9.6903e-05 - val_mae: 0.0060 - val_mse: 9.6903e-05 - learning_rate: 1.0000e-08\n",
      "Epoch 36/50\n",
      "\u001b[1m625/625\u001b[0m \u001b[32m━━━━━━━━━━━━━━━━━━━━\u001b[0m\u001b[37m\u001b[0m \u001b[1m2s\u001b[0m 4ms/step - accuracy: 0.9378 - loss: 9.0829e-05 - mae: 0.0058 - mse: 9.0829e-05 - val_accuracy: 0.9344 - val_loss: 9.6901e-05 - val_mae: 0.0060 - val_mse: 9.6901e-05 - learning_rate: 1.0000e-08\n",
      "Epoch 37/50\n",
      "\u001b[1m625/625\u001b[0m \u001b[32m━━━━━━━━━━━━━━━━━━━━\u001b[0m\u001b[37m\u001b[0m \u001b[1m2s\u001b[0m 4ms/step - accuracy: 0.9389 - loss: 8.9824e-05 - mae: 0.0058 - mse: 8.9824e-05 - val_accuracy: 0.9347 - val_loss: 9.6896e-05 - val_mae: 0.0060 - val_mse: 9.6896e-05 - learning_rate: 1.0000e-08\n",
      "Epoch 38/50\n",
      "\u001b[1m625/625\u001b[0m \u001b[32m━━━━━━━━━━━━━━━━━━━━\u001b[0m\u001b[37m\u001b[0m \u001b[1m2s\u001b[0m 4ms/step - accuracy: 0.9379 - loss: 9.0876e-05 - mae: 0.0058 - mse: 9.0876e-05 - val_accuracy: 0.9347 - val_loss: 9.6897e-05 - val_mae: 0.0060 - val_mse: 9.6897e-05 - learning_rate: 1.0000e-09\n",
      "Epoch 39/50\n",
      "\u001b[1m625/625\u001b[0m \u001b[32m━━━━━━━━━━━━━━━━━━━━\u001b[0m\u001b[37m\u001b[0m \u001b[1m2s\u001b[0m 4ms/step - accuracy: 0.9395 - loss: 9.0460e-05 - mae: 0.0058 - mse: 9.0460e-05 - val_accuracy: 0.9347 - val_loss: 9.6897e-05 - val_mae: 0.0060 - val_mse: 9.6897e-05 - learning_rate: 1.0000e-09\n",
      "Epoch 40/50\n",
      "\u001b[1m625/625\u001b[0m \u001b[32m━━━━━━━━━━━━━━━━━━━━\u001b[0m\u001b[37m\u001b[0m \u001b[1m2s\u001b[0m 4ms/step - accuracy: 0.9395 - loss: 9.0659e-05 - mae: 0.0058 - mse: 9.0659e-05 - val_accuracy: 0.9347 - val_loss: 9.6897e-05 - val_mae: 0.0060 - val_mse: 9.6897e-05 - learning_rate: 1.0000e-09\n",
      "Epoch 41/50\n",
      "\u001b[1m625/625\u001b[0m \u001b[32m━━━━━━━━━━━━━━━━━━━━\u001b[0m\u001b[37m\u001b[0m \u001b[1m2s\u001b[0m 4ms/step - accuracy: 0.9378 - loss: 9.0084e-05 - mae: 0.0058 - mse: 9.0084e-05 - val_accuracy: 0.9347 - val_loss: 9.6897e-05 - val_mae: 0.0060 - val_mse: 9.6897e-05 - learning_rate: 1.0000e-09\n",
      "Epoch 42/50\n",
      "\u001b[1m625/625\u001b[0m \u001b[32m━━━━━━━━━━━━━━━━━━━━\u001b[0m\u001b[37m\u001b[0m \u001b[1m2s\u001b[0m 3ms/step - accuracy: 0.9392 - loss: 9.0687e-05 - mae: 0.0058 - mse: 9.0687e-05 - val_accuracy: 0.9347 - val_loss: 9.6897e-05 - val_mae: 0.0060 - val_mse: 9.6897e-05 - learning_rate: 1.0000e-09\n",
      "Epoch 43/50\n",
      "\u001b[1m625/625\u001b[0m \u001b[32m━━━━━━━━━━━━━━━━━━━━\u001b[0m\u001b[37m\u001b[0m \u001b[1m2s\u001b[0m 4ms/step - accuracy: 0.9384 - loss: 9.1460e-05 - mae: 0.0058 - mse: 9.1460e-05 - val_accuracy: 0.9347 - val_loss: 9.6897e-05 - val_mae: 0.0060 - val_mse: 9.6897e-05 - learning_rate: 1.0000e-10\n",
      "Epoch 44/50\n",
      "\u001b[1m625/625\u001b[0m \u001b[32m━━━━━━━━━━━━━━━━━━━━\u001b[0m\u001b[37m\u001b[0m \u001b[1m2s\u001b[0m 4ms/step - accuracy: 0.9391 - loss: 9.0016e-05 - mae: 0.0058 - mse: 9.0016e-05 - val_accuracy: 0.9347 - val_loss: 9.6897e-05 - val_mae: 0.0060 - val_mse: 9.6897e-05 - learning_rate: 1.0000e-10\n",
      "Epoch 45/50\n",
      "\u001b[1m625/625\u001b[0m \u001b[32m━━━━━━━━━━━━━━━━━━━━\u001b[0m\u001b[37m\u001b[0m \u001b[1m2s\u001b[0m 4ms/step - accuracy: 0.9392 - loss: 9.0993e-05 - mae: 0.0058 - mse: 9.0993e-05 - val_accuracy: 0.9347 - val_loss: 9.6897e-05 - val_mae: 0.0060 - val_mse: 9.6897e-05 - learning_rate: 1.0000e-10\n",
      "Epoch 46/50\n",
      "\u001b[1m625/625\u001b[0m \u001b[32m━━━━━━━━━━━━━━━━━━━━\u001b[0m\u001b[37m\u001b[0m \u001b[1m2s\u001b[0m 4ms/step - accuracy: 0.9388 - loss: 9.0602e-05 - mae: 0.0058 - mse: 9.0602e-05 - val_accuracy: 0.9347 - val_loss: 9.6897e-05 - val_mae: 0.0060 - val_mse: 9.6897e-05 - learning_rate: 1.0000e-10\n",
      "Epoch 47/50\n",
      "\u001b[1m625/625\u001b[0m \u001b[32m━━━━━━━━━━━━━━━━━━━━\u001b[0m\u001b[37m\u001b[0m \u001b[1m3s\u001b[0m 4ms/step - accuracy: 0.9370 - loss: 9.0023e-05 - mae: 0.0058 - mse: 9.0023e-05 - val_accuracy: 0.9347 - val_loss: 9.6897e-05 - val_mae: 0.0060 - val_mse: 9.6897e-05 - learning_rate: 1.0000e-10\n",
      "Generating test data...\n",
      "Evaluating model...\n",
      "WARNING:tensorflow:6 out of the last 22 calls to <function TensorFlowTrainer.make_predict_function.<locals>.one_step_on_data_distributed at 0x7d0bb496aa20> triggered tf.function retracing. Tracing is expensive and the excessive number of tracings could be due to (1) creating @tf.function repeatedly in a loop, (2) passing tensors with different shapes, (3) passing Python objects instead of tensors. For (1), please define your @tf.function outside of the loop. For (2), @tf.function has reduce_retracing=True option that can avoid unnecessary retracing. For (3), please refer to https://www.tensorflow.org/guide/function#controlling_retracing and https://www.tensorflow.org/api_docs/python/tf/function for  more details.\n",
      "\u001b[1m4/4\u001b[0m \u001b[32m━━━━━━━━━━━━━━━━━━━━\u001b[0m\u001b[37m\u001b[0m \u001b[1m3s\u001b[0m 455ms/step\n"
     ]
    },
    {
     "data": {
      "image/png": "[encoded data removed]",
      "text/plain": [
       "<Figure size 1000x600 with 1 Axes>"
      ]
     },
     "metadata": {},
     "output_type": "display_data"
    }
   ],
   "source": [
    "# 1. Generate training data\n",
    "X_train, Y_train = generate_data(50000)\n",
    "\n",
    "# 2. Create model\n",
    "model = Sequential([\n",
    "    Input(shape=(32,)),\n",
    "    Dense(128, 'relu'),\n",
    "    Dense(128, 'relu'),\n",
    "    Dense(64, 'relu'),\n",
    "    Dense(16, 'sigmoid')\n",
    "])\n",
    "model.compile(optimizer='adam', loss='mse', metrics=['mae', 'mse', 'accuracy'])\n",
    "\n",
    "# 3. Train with callbacks\n",
    "early = EarlyStopping(patience=10, restore_best_weights=True)\n",
    "reduce = ReduceLROnPlateau(patience=5)\n",
    "history = model.fit(X_train, Y_train, epochs=50, batch_size=64,\n",
    "                    validation_split=0.2, callbacks=[early, reduce])\n",
    "\n",
    "# 4. Generate test data with various validator counts\n",
    "print(\"Generating test data...\")\n",
    "X_val, actual = generate_data(100)\n",
    "\n",
    "# 5. Calculate and display overall metrics\n",
    "print(\"Evaluating model...\")\n",
    "predictions = model.predict(X_val)\n",
    "\n",
    "# Create a scatter plot of actual vs predicted probabilities\n",
    "plt.figure(figsize=(10, 6))\n",
    "plt.scatter(actual.flatten(), predictions.flatten(), alpha=0.5)\n",
    "plt.plot([0, 1], [0, 1], 'r--')  # Diagonal line represents perfect predictions\n",
    "plt.xlabel('Actual Probabilities')\n",
    "plt.ylabel('Predicted Probabilities')\n",
    "plt.title('Model Performance: Actual vs Predicted Probabilities')\n",
    "plt.grid(True)\n",
    "plt.show()"
   ]
  }
 ],
 "metadata": {
  "colab": {
   "provenance": []
  },
  "kernelspec": {
   "display_name": "base",
   "language": "python",
   "name": "python3"
  },
  "language_info": {
   "codemirror_mode": {
    "name": "ipython",
    "version": 3
   },
   "file_extension": ".py",
   "mimetype": "text/x-python",
   "name": "python",
   "nbconvert_exporter": "python",
   "pygments_lexer": "ipython3",
   "version": "3.13.2"
  }
 },
 "nbformat": 4,
 "nbformat_minor": 5
}
