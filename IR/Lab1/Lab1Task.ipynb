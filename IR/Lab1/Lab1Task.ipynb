{
 "cells": [
  {
   "cell_type": "code",
   "execution_count": 8,
   "id": "57de1a22",
   "metadata": {},
   "outputs": [],
   "source": [
    "# !pip install dalex \n",
    "import pandas as pd\n",
    "import numpy as np\n",
    "import matplotlib.pyplot as plt\n",
    "\n",
    "from sklearn.ensemble import RandomForestRegressor\n",
    "from sklearn.model_selection import train_test_split\n",
    "from xgboost import XGBRegressor\n",
    "import dalex as dx\n",
    "\n",
    "# !kaggle competitions download -c playground-series-s5e10"
   ]
  },
  {
   "cell_type": "code",
   "execution_count": 2,
   "id": "a9618a4e",
   "metadata": {},
   "outputs": [
    {
     "name": "stdout",
     "output_type": "stream",
     "text": [
      "7248556\n"
     ]
    },
    {
     "data": {
      "text/html": [
       "<div>\n",
       "<style scoped>\n",
       "    .dataframe tbody tr th:only-of-type {\n",
       "        vertical-align: middle;\n",
       "    }\n",
       "\n",
       "    .dataframe tbody tr th {\n",
       "        vertical-align: top;\n",
       "    }\n",
       "\n",
       "    .dataframe thead th {\n",
       "        text-align: right;\n",
       "    }\n",
       "</style>\n",
       "<table border=\"1\" class=\"dataframe\">\n",
       "  <thead>\n",
       "    <tr style=\"text-align: right;\">\n",
       "      <th></th>\n",
       "      <th>id</th>\n",
       "      <th>road_type</th>\n",
       "      <th>num_lanes</th>\n",
       "      <th>curvature</th>\n",
       "      <th>speed_limit</th>\n",
       "      <th>lighting</th>\n",
       "      <th>weather</th>\n",
       "      <th>road_signs_present</th>\n",
       "      <th>public_road</th>\n",
       "      <th>time_of_day</th>\n",
       "      <th>holiday</th>\n",
       "      <th>school_season</th>\n",
       "      <th>num_reported_accidents</th>\n",
       "      <th>target</th>\n",
       "    </tr>\n",
       "  </thead>\n",
       "  <tbody>\n",
       "    <tr>\n",
       "      <th>0</th>\n",
       "      <td>0</td>\n",
       "      <td>urban</td>\n",
       "      <td>2</td>\n",
       "      <td>0.06</td>\n",
       "      <td>35</td>\n",
       "      <td>daylight</td>\n",
       "      <td>rainy</td>\n",
       "      <td>False</td>\n",
       "      <td>True</td>\n",
       "      <td>afternoon</td>\n",
       "      <td>False</td>\n",
       "      <td>True</td>\n",
       "      <td>1</td>\n",
       "      <td>0.13</td>\n",
       "    </tr>\n",
       "    <tr>\n",
       "      <th>1</th>\n",
       "      <td>1</td>\n",
       "      <td>urban</td>\n",
       "      <td>4</td>\n",
       "      <td>0.99</td>\n",
       "      <td>35</td>\n",
       "      <td>daylight</td>\n",
       "      <td>clear</td>\n",
       "      <td>True</td>\n",
       "      <td>False</td>\n",
       "      <td>evening</td>\n",
       "      <td>True</td>\n",
       "      <td>True</td>\n",
       "      <td>0</td>\n",
       "      <td>0.35</td>\n",
       "    </tr>\n",
       "    <tr>\n",
       "      <th>2</th>\n",
       "      <td>2</td>\n",
       "      <td>rural</td>\n",
       "      <td>4</td>\n",
       "      <td>0.63</td>\n",
       "      <td>70</td>\n",
       "      <td>dim</td>\n",
       "      <td>clear</td>\n",
       "      <td>False</td>\n",
       "      <td>True</td>\n",
       "      <td>morning</td>\n",
       "      <td>True</td>\n",
       "      <td>False</td>\n",
       "      <td>2</td>\n",
       "      <td>0.30</td>\n",
       "    </tr>\n",
       "    <tr>\n",
       "      <th>3</th>\n",
       "      <td>3</td>\n",
       "      <td>highway</td>\n",
       "      <td>4</td>\n",
       "      <td>0.07</td>\n",
       "      <td>35</td>\n",
       "      <td>dim</td>\n",
       "      <td>rainy</td>\n",
       "      <td>True</td>\n",
       "      <td>True</td>\n",
       "      <td>morning</td>\n",
       "      <td>False</td>\n",
       "      <td>False</td>\n",
       "      <td>1</td>\n",
       "      <td>0.21</td>\n",
       "    </tr>\n",
       "    <tr>\n",
       "      <th>4</th>\n",
       "      <td>4</td>\n",
       "      <td>rural</td>\n",
       "      <td>1</td>\n",
       "      <td>0.58</td>\n",
       "      <td>60</td>\n",
       "      <td>daylight</td>\n",
       "      <td>foggy</td>\n",
       "      <td>False</td>\n",
       "      <td>False</td>\n",
       "      <td>evening</td>\n",
       "      <td>True</td>\n",
       "      <td>False</td>\n",
       "      <td>1</td>\n",
       "      <td>0.56</td>\n",
       "    </tr>\n",
       "  </tbody>\n",
       "</table>\n",
       "</div>"
      ],
      "text/plain": [
       "   id road_type  num_lanes  curvature  speed_limit  lighting weather  \\\n",
       "0   0     urban          2       0.06           35  daylight   rainy   \n",
       "1   1     urban          4       0.99           35  daylight   clear   \n",
       "2   2     rural          4       0.63           70       dim   clear   \n",
       "3   3   highway          4       0.07           35       dim   rainy   \n",
       "4   4     rural          1       0.58           60  daylight   foggy   \n",
       "\n",
       "   road_signs_present  public_road time_of_day  holiday  school_season  \\\n",
       "0               False         True   afternoon    False           True   \n",
       "1                True        False     evening     True           True   \n",
       "2               False         True     morning     True          False   \n",
       "3                True         True     morning    False          False   \n",
       "4               False        False     evening     True          False   \n",
       "\n",
       "   num_reported_accidents  target  \n",
       "0                       1    0.13  \n",
       "1                       0    0.35  \n",
       "2                       2    0.30  \n",
       "3                       1    0.21  \n",
       "4                       1    0.56  "
      ]
     },
     "execution_count": 2,
     "metadata": {},
     "output_type": "execute_result"
    }
   ],
   "source": [
    "data = pd.read_csv('dataset/train.csv')\n",
    "df = data\n",
    "target_name = 'accident_risk'\n",
    "y = df[target_name]\n",
    "x = df.drop([target_name,'id'], axis=1)\n",
    "df['target']=y\n",
    "df = df.drop(target_name,axis=1)\n",
    "print(df.size)\n",
    "\n",
    "x_train, x_val, y_train, y_val = train_test_split(x,y)\n",
    "df.head()"
   ]
  },
  {
   "cell_type": "markdown",
   "id": "52e54f73",
   "metadata": {},
   "source": [
    "### Data visualization"
   ]
  },
  {
   "cell_type": "code",
   "execution_count": 34,
   "id": "624a44d1",
   "metadata": {},
   "outputs": [
    {
     "data": {
      "image/png": "[encoded data removed]",
      "text/plain": [
       "<Figure size 640x480 with 1 Axes>"
      ]
     },
     "metadata": {},
     "output_type": "display_data"
    },
    {
     "data": {
      "image/png": "[encoded data removed]",
      "text/plain": [
       "<Figure size 640x480 with 1 Axes>"
      ]
     },
     "metadata": {},
     "output_type": "display_data"
    },
    {
     "data": {
      "image/png": "[encoded data removed]",
      "text/plain": [
       "<Figure size 640x480 with 1 Axes>"
      ]
     },
     "metadata": {},
     "output_type": "display_data"
    },
    {
     "data": {
      "image/png": "[encoded data removed]",
      "text/plain": [
       "<Figure size 640x480 with 1 Axes>"
      ]
     },
     "metadata": {},
     "output_type": "display_data"
    },
    {
     "data": {
      "image/png": "[encoded data removed]",
      "text/plain": [
       "<Figure size 640x480 with 1 Axes>"
      ]
     },
     "metadata": {},
     "output_type": "display_data"
    },
    {
     "data": {
      "image/png": "[encoded data removed]",
      "text/plain": [
       "<Figure size 640x480 with 1 Axes>"
      ]
     },
     "metadata": {},
     "output_type": "display_data"
    },
    {
     "data": {
      "image/png": "[encoded data removed]",
      "text/plain": [
       "<Figure size 640x480 with 1 Axes>"
      ]
     },
     "metadata": {},
     "output_type": "display_data"
    },
    {
     "data": {
      "image/png": "[encoded data removed]",
      "text/plain": [
       "<Figure size 640x480 with 1 Axes>"
      ]
     },
     "metadata": {},
     "output_type": "display_data"
    },
    {
     "data": {
      "image/png": "[encoded data removed]",
      "text/plain": [
       "<Figure size 640x480 with 1 Axes>"
      ]
     },
     "metadata": {},
     "output_type": "display_data"
    },
    {
     "data": {
      "image/png": "[encoded data removed]",
      "text/plain": [
       "<Figure size 640x480 with 1 Axes>"
      ]
     },
     "metadata": {},
     "output_type": "display_data"
    },
    {
     "data": {
      "image/png": "[encoded data removed]",
      "text/plain": [
       "<Figure size 640x480 with 1 Axes>"
      ]
     },
     "metadata": {},
     "output_type": "display_data"
    },
    {
     "data": {
      "image/png": "[encoded data removed]",
      "text/plain": [
       "<Figure size 640x480 with 1 Axes>"
      ]
     },
     "metadata": {},
     "output_type": "display_data"
    }
   ],
   "source": [
    "import numpy as np\n",
    "import matplotlib.pyplot as plt\n",
    "\n",
    "for col in df.columns.drop(['target','id']):\n",
    "    tmp = df[[col, 'target']].sort_values(col).reset_index(drop=True)\n",
    "    cum_le = tmp['target'].expanding().mean()\n",
    "    cum_ge = tmp['target'].iloc[::-1].expanding().mean()[::-1]\n",
    "\n",
    "    plt.title(col)\n",
    "    plt.plot(tmp[col], cum_le, label=\"<=\")\n",
    "    plt.plot(tmp[col], cum_ge, label=\">=\")\n",
    "    \n",
    "    window = 20\n",
    "    plt.plot(tmp[col], np.convolve(tmp['target'], np.ones(window)/window, mode='same'), label=\"~=~\")\n",
    "\n",
    "    plt.legend()\n",
    "    plt.grid()\n",
    "    plt.show()\n"
   ]
  },
  {
   "cell_type": "markdown",
   "id": "fe9a651d",
   "metadata": {},
   "source": [
    "### Creating a sklearn pipeline for data preprocessing\n",
    "\n",
    "The dataset doesn't have any null values so Imputers aren't necessary"
   ]
  },
  {
   "cell_type": "code",
   "execution_count": 9,
   "id": "ee3db2f8",
   "metadata": {},
   "outputs": [
    {
     "name": "stdout",
     "output_type": "stream",
     "text": [
      "id                        0\n",
      "road_type                 0\n",
      "num_lanes                 0\n",
      "curvature                 0\n",
      "speed_limit               0\n",
      "lighting                  0\n",
      "weather                   0\n",
      "road_signs_present        0\n",
      "public_road               0\n",
      "time_of_day               0\n",
      "holiday                   0\n",
      "school_season             0\n",
      "num_reported_accidents    0\n",
      "target                    0\n",
      "dtype: int64\n"
     ]
    }
   ],
   "source": [
    "print(df.isna().sum())"
   ]
  },
  {
   "cell_type": "code",
   "execution_count": 16,
   "id": "32774410",
   "metadata": {},
   "outputs": [
    {
     "name": "stdout",
     "output_type": "stream",
     "text": [
      "Transformed feature count: 16\n",
      "['num__num_lanes' 'num__curvature' 'num__speed_limit'\n",
      " 'num__num_reported_accidents' 'cat__road_type_highway'\n",
      " 'cat__road_type_rural' 'cat__road_type_urban' 'cat__lighting_daylight'\n",
      " 'cat__lighting_dim' 'cat__lighting_night' 'cat__weather_clear'\n",
      " 'cat__weather_foggy' 'cat__weather_rainy' 'cat__time_of_day_afternoon'\n",
      " 'cat__time_of_day_evening' 'cat__time_of_day_morning']\n",
      "['num__num_lanes', 'num__curvature', 'num__speed_limit', 'num__num_reported_accidents', 'cat__road_type_highway', 'cat__road_type_rural', 'cat__road_type_urban', 'cat__lighting_daylight', 'cat__lighting_dim', 'cat__lighting_night', 'cat__weather_clear', 'cat__weather_foggy', 'cat__weather_rainy', 'cat__time_of_day_afternoon', 'cat__time_of_day_evening', 'cat__time_of_day_morning']\n"
     ]
    }
   ],
   "source": [
    "from sklearn.pipeline import Pipeline\n",
    "from sklearn.impute import SimpleImputer\n",
    "from sklearn.preprocessing import OneHotEncoder\n",
    "from sklearn.preprocessing import OrdinalEncoder\n",
    "from sklearn.ensemble import RandomForestRegressor\n",
    "from sklearn.metrics import mean_absolute_error\n",
    "from sklearn.compose import ColumnTransformer\n",
    "\n",
    "categorical_cols = [cname for cname in x.columns if\n",
    "                    x[cname].nunique() < 10 and \n",
    "                    x[cname].dtype == \"object\"]\n",
    "x[categorical_cols] = x[categorical_cols].astype(str)\n",
    "\n",
    "numerical_cols = [cname for cname in x.columns if \n",
    "                x[cname].dtype in ['int64', 'float64']]\n",
    "\n",
    "numerical_transformer = SimpleImputer(strategy='constant')\n",
    "\n",
    "categorical_transformer = Pipeline(steps=[\n",
    "    ('imputer', SimpleImputer(strategy='most_frequent')),\n",
    "    ('onehot', OneHotEncoder(handle_unknown='ignore'))\n",
    "])\n",
    "\n",
    "preprocessor = ColumnTransformer(\n",
    "    transformers=[\n",
    "        ('num', numerical_transformer, numerical_cols),\n",
    "        ('cat', categorical_transformer, categorical_cols)\n",
    "    ])\n",
    "\n",
    "# Define model\n",
    "model = XGBRegressor(random_state=0)\n",
    "\n",
    "# Bundle preprocessing and modeling code in a pipeline\n",
    "clf = Pipeline(steps=[('preprocessor', preprocessor),\n",
    "                      ('model', model)\n",
    "                     ])\n",
    "clf.fit(x,y)\n",
    "\n",
    "preprocessor = clf.named_steps['preprocessor']\n",
    "\n",
    "feature_names = preprocessor.get_feature_names_out()\n",
    "\n",
    "print(\"Transformed feature count:\", len(feature_names))\n",
    "\n",
    "print(feature_names)"
   ]
  },
  {
   "cell_type": "code",
   "execution_count": 11,
   "id": "acf04608",
   "metadata": {},
   "outputs": [
    {
     "data": {
      "application/vnd.plotly.v1+json": {
       "config": {
        "displaylogo": false,
        "modeBarButtonsToRemove": [
         "sendDataToCloud",
         "lasso2d",
         "autoScale2d",
         "select2d",
         "zoom2d",
         "pan2d",
         "zoomIn2d",
         "zoomOut2d",
         "resetScale2d",
         "toggleSpikelines",
         "hoverCompareCartesian",
         "hoverClosestCartesian"
        ],
        "plotlyServerURL": "https://plot.ly",
        "staticPlot": false,
        "toImageButtonOptions": {
         "height": null,
         "width": null
        }
       },
       "data": [
        {
         "base": 0.0562035674191352,
         "hoverinfo": "text",
         "hoverlabel": {
          "bgcolor": "rgba(0,0,0,0.8)"
         },
         "hovertext": [
          "Model: XGBRegressor loss after<br>variable: curvature is permuted: 0.145<br>Drop-out loss change: +0.089",
          "Model: XGBRegressor loss after<br>variable: speed_limit is permuted: 0.138<br>Drop-out loss change: +0.082",
          "Model: XGBRegressor loss after<br>variable: lighting is permuted: 0.134<br>Drop-out loss change: +0.078",
          "Model: XGBRegressor loss after<br>variable: weather is permuted: 0.083<br>Drop-out loss change: +0.027",
          "Model: XGBRegressor loss after<br>variable: num_reported_accidents is permuted: 0.069<br>Drop-out loss change: +0.013",
          "Model: XGBRegressor loss after<br>variable: num_lanes is permuted: 0.056<br>Drop-out loss change: +0.0",
          "Model: XGBRegressor loss after<br>variable: time_of_day is permuted: 0.056<br>Drop-out loss change: +0.0",
          "Model: XGBRegressor loss after<br>variable: road_type is permuted: 0.056<br>Drop-out loss change: +0.0",
          "Model: XGBRegressor loss after<br>variable: road_signs_present is permuted: 0.056<br>Drop-out loss change: -0.0",
          "Model: XGBRegressor loss after<br>variable: school_season is permuted: 0.056<br>Drop-out loss change: -0.0"
         ],
         "marker": {
          "color": "#46bac2"
         },
         "orientation": "h",
         "showlegend": false,
         "text": [
          "+0.089",
          "+0.082",
          "+0.078",
          "+0.027",
          "+0.013",
          "+0.0",
          "+0.0",
          "+0.0",
          "0.0",
          "0.0"
         ],
         "textposition": "outside",
         "type": "bar",
         "x": [
          0.08860502398171402,
          0.08206182065995593,
          0.07820004901861824,
          0.027278491322761965,
          0.013002192492604474,
          0.00026709181466345877,
          0.0001865223800815788,
          0.00013003528063965097,
          0,
          0
         ],
         "xaxis": "x",
         "y": [
          "curvature",
          "speed_limit",
          "lighting",
          "weather",
          "num_reported_accidents",
          "num_lanes",
          "time_of_day",
          "road_type",
          "road_signs_present",
          "school_season"
         ],
         "yaxis": "y"
        }
       ],
       "layout": {
        "annotations": [
         {
          "font": {
           "size": 16
          },
          "showarrow": false,
          "text": "XGBRegressor",
          "x": 0.5,
          "xanchor": "center",
          "xref": "paper",
          "y": 1,
          "yanchor": "bottom",
          "yref": "paper"
         },
         {
          "font": {
           "size": 16
          },
          "showarrow": false,
          "text": "drop-out loss",
          "x": 0.5,
          "xanchor": "center",
          "xref": "paper",
          "y": 0,
          "yanchor": "top",
          "yref": "paper",
          "yshift": -30
         }
        ],
        "font": {
         "color": "#371ea3"
        },
        "height": 383,
        "margin": {
         "b": 71,
         "r": 30,
         "t": 78
        },
        "shapes": [
         {
          "line": {
           "color": "#371ea3",
           "dash": "dot",
           "width": 1.5
          },
          "type": "line",
          "x0": 0.0562035674191352,
          "x1": 0.0562035674191352,
          "xref": "x",
          "y0": -1,
          "y1": 10,
          "yref": "y"
         }
        ],
        "template": {
         "data": {
          "scatter": [
           {
            "type": "scatter"
           }
          ]
         }
        },
        "title": {
         "text": "Variable Importance",
         "x": 0.15
        },
        "xaxis": {
         "anchor": "y",
         "automargin": true,
         "domain": [
          0,
          1
         ],
         "fixedrange": true,
         "gridwidth": 2,
         "range": [
          0.0429128138218781,
          0.15809934499810632
         ],
         "tickcolor": "white",
         "ticklen": 3,
         "ticks": "outside",
         "type": "linear",
         "zeroline": false
        },
        "yaxis": {
         "anchor": "x",
         "automargin": true,
         "autorange": "reversed",
         "domain": [
          0,
          1
         ],
         "fixedrange": true,
         "gridwidth": 2,
         "tickcolor": "white",
         "ticklen": 10,
         "ticks": "outside",
         "type": "category"
        }
       }
      }
     },
     "metadata": {},
     "output_type": "display_data"
    }
   ],
   "source": [
    "exp = dx.Explainer(clf, x, y,verbose=False)\n",
    "fi = exp.model_parts()\n",
    "fi.plot()"
   ]
  },
  {
   "cell_type": "code",
   "execution_count": 26,
   "id": "7e04ffcb",
   "metadata": {},
   "outputs": [
    {
     "name": "stderr",
     "output_type": "stream",
     "text": [
      "Calculating ceteris paribus:   0%|          | 0/12 [00:00<?, ?it/s]c:\\Users\\franc\\miniconda3\\Lib\\site-packages\\dalex\\predict_explanations\\_ceteris_paribus\\utils.py:100: FutureWarning:\n",
      "\n",
      "Setting an item of incompatible dtype is deprecated and will raise in a future error of pandas. Value '[1.   1.03 1.06 ... 3.94 3.97 4.  ]' has dtype incompatible with int64, please explicitly cast to a compatible dtype first.\n",
      "\n",
      "Calculating ceteris paribus:  25%|██▌       | 3/12 [00:00<00:00, 19.65it/s]c:\\Users\\franc\\miniconda3\\Lib\\site-packages\\dalex\\predict_explanations\\_ceteris_paribus\\utils.py:100: FutureWarning:\n",
      "\n",
      "Setting an item of incompatible dtype is deprecated and will raise in a future error of pandas. Value '[25.   25.45 25.9  ... 69.1  69.55 70.  ]' has dtype incompatible with int64, please explicitly cast to a compatible dtype first.\n",
      "\n",
      "c:\\Users\\franc\\miniconda3\\Lib\\site-packages\\dalex\\predict_explanations\\_ceteris_paribus\\utils.py:100: FutureWarning:\n",
      "\n",
      "Setting an item of incompatible dtype is deprecated and will raise in a future error of pandas. Value '[0.   0.01 0.02 ... 0.98 0.99 1.  ]' has dtype incompatible with bool, please explicitly cast to a compatible dtype first.\n",
      "\n",
      "Calculating ceteris paribus:  58%|█████▊    | 7/12 [00:00<00:00, 20.18it/s]c:\\Users\\franc\\miniconda3\\Lib\\site-packages\\dalex\\predict_explanations\\_ceteris_paribus\\utils.py:100: FutureWarning:\n",
      "\n",
      "Setting an item of incompatible dtype is deprecated and will raise in a future error of pandas. Value '[0.   0.01 0.02 ... 0.98 0.99 1.  ]' has dtype incompatible with bool, please explicitly cast to a compatible dtype first.\n",
      "\n",
      "c:\\Users\\franc\\miniconda3\\Lib\\site-packages\\dalex\\predict_explanations\\_ceteris_paribus\\utils.py:100: FutureWarning:\n",
      "\n",
      "Setting an item of incompatible dtype is deprecated and will raise in a future error of pandas. Value '[0.   0.01 0.02 ... 0.98 0.99 1.  ]' has dtype incompatible with bool, please explicitly cast to a compatible dtype first.\n",
      "\n",
      "Calculating ceteris paribus:  83%|████████▎ | 10/12 [00:00<00:00, 16.33it/s]c:\\Users\\franc\\miniconda3\\Lib\\site-packages\\dalex\\predict_explanations\\_ceteris_paribus\\utils.py:100: FutureWarning:\n",
      "\n",
      "Setting an item of incompatible dtype is deprecated and will raise in a future error of pandas. Value '[0.   0.01 0.02 ... 0.98 0.99 1.  ]' has dtype incompatible with bool, please explicitly cast to a compatible dtype first.\n",
      "\n",
      "c:\\Users\\franc\\miniconda3\\Lib\\site-packages\\dalex\\predict_explanations\\_ceteris_paribus\\utils.py:100: FutureWarning:\n",
      "\n",
      "Setting an item of incompatible dtype is deprecated and will raise in a future error of pandas. Value '[0.   0.07 0.14 ... 6.86 6.93 7.  ]' has dtype incompatible with int64, please explicitly cast to a compatible dtype first.\n",
      "\n",
      "Calculating ceteris paribus: 100%|██████████| 12/12 [00:00<00:00, 15.31it/s]\n"
     ]
    },
    {
     "data": {
      "application/vnd.plotly.v1+json": {
       "config": {
        "displaylogo": false,
        "modeBarButtonsToRemove": [
         "sendDataToCloud",
         "lasso2d",
         "autoScale2d",
         "select2d",
         "zoom2d",
         "pan2d",
         "zoomIn2d",
         "zoomOut2d",
         "resetScale2d",
         "toggleSpikelines",
         "hoverCompareCartesian",
         "hoverClosestCartesian"
        ],
        "plotlyServerURL": "https://plot.ly",
        "staticPlot": false,
        "toImageButtonOptions": {
         "height": null,
         "width": null
        }
       },
       "data": [
        {
         "customdata": [
          [
           0.3593742847442627,
           "XGBRegressor",
           "num_lanes"
          ],
          [
           0.3593742847442627,
           "XGBRegressor",
           "num_lanes"
          ],
          [
           0.3593742847442627,
           "XGBRegressor",
           "num_lanes"
          ],
          [
           0.3593742847442627,
           "XGBRegressor",
           "num_lanes"
          ],
          [
           0.3593742847442627,
           "XGBRegressor",
           "num_lanes"
          ],
          [
           0.3593742847442627,
           "XGBRegressor",
           "num_lanes"
          ],
          [
           0.3593742847442627,
           "XGBRegressor",
           "num_lanes"
          ],
          [
           0.3593742847442627,
           "XGBRegressor",
           "num_lanes"
          ],
          [
           0.3593742847442627,
           "XGBRegressor",
           "num_lanes"
          ],
          [
           0.3593742847442627,
           "XGBRegressor",
           "num_lanes"
          ],
          [
           0.3593742847442627,
           "XGBRegressor",
           "num_lanes"
          ],
          [
           0.3593742847442627,
           "XGBRegressor",
           "num_lanes"
          ],
          [
           0.3593742847442627,
           "XGBRegressor",
           "num_lanes"
          ],
          [
           0.3593742847442627,
           "XGBRegressor",
           "num_lanes"
          ],
          [
           0.3593742847442627,
           "XGBRegressor",
           "num_lanes"
          ],
          [
           0.3593742847442627,
           "XGBRegressor",
           "num_lanes"
          ],
          [
           0.3593742847442627,
           "XGBRegressor",
           "num_lanes"
          ],
          [
           0.3593742847442627,
           "XGBRegressor",
           "num_lanes"
          ],
          [
           0.3593742847442627,
           "XGBRegressor",
           "num_lanes"
          ],
          [
           0.3593742847442627,
           "XGBRegressor",
           "num_lanes"
          ],
          [
           0.3593742847442627,
           "XGBRegressor",
           "num_lanes"
          ],
          [
           0.3593742847442627,
           "XGBRegressor",
           "num_lanes"
          ],
          [
           0.3593742847442627,
           "XGBRegressor",
           "num_lanes"
          ],
          [
           0.3593742847442627,
           "XGBRegressor",
           "num_lanes"
          ],
          [
           0.3593742847442627,
           "XGBRegressor",
           "num_lanes"
          ],
          [
           0.3593742847442627,
           "XGBRegressor",
           "num_lanes"
          ],
          [
           0.3593742847442627,
           "XGBRegressor",
           "num_lanes"
          ],
          [
           0.3593742847442627,
           "XGBRegressor",
           "num_lanes"
          ],
          [
           0.3593742847442627,
           "XGBRegressor",
           "num_lanes"
          ],
          [
           0.3593742847442627,
           "XGBRegressor",
           "num_lanes"
          ],
          [
           0.3593742847442627,
           "XGBRegressor",
           "num_lanes"
          ],
          [
           0.3593742847442627,
           "XGBRegressor",
           "num_lanes"
          ],
          [
           0.3593742847442627,
           "XGBRegressor",
           "num_lanes"
          ],
          [
           0.3593742847442627,
           "XGBRegressor",
           "num_lanes"
          ],
          [
           0.3593742847442627,
           "XGBRegressor",
           "num_lanes"
          ],
          [
           0.3593742847442627,
           "XGBRegressor",
           "num_lanes"
          ],
          [
           0.3593742847442627,
           "XGBRegressor",
           "num_lanes"
          ],
          [
           0.3593742847442627,
           "XGBRegressor",
           "num_lanes"
          ],
          [
           0.3593742847442627,
           "XGBRegressor",
           "num_lanes"
          ],
          [
           0.3593742847442627,
           "XGBRegressor",
           "num_lanes"
          ],
          [
           0.3593742847442627,
           "XGBRegressor",
           "num_lanes"
          ],
          [
           0.3593742847442627,
           "XGBRegressor",
           "num_lanes"
          ],
          [
           0.3593742847442627,
           "XGBRegressor",
           "num_lanes"
          ],
          [
           0.3593742847442627,
           "XGBRegressor",
           "num_lanes"
          ],
          [
           0.3593742847442627,
           "XGBRegressor",
           "num_lanes"
          ],
          [
           0.3593742847442627,
           "XGBRegressor",
           "num_lanes"
          ],
          [
           0.3593742847442627,
           "XGBRegressor",
           "num_lanes"
          ],
          [
           0.3593742847442627,
           "XGBRegressor",
           "num_lanes"
          ],
          [
           0.3593742847442627,
           "XGBRegressor",
           "num_lanes"
          ],
          [
           0.3593742847442627,
           "XGBRegressor",
           "num_lanes"
          ],
          [
           0.3593742847442627,
           "XGBRegressor",
           "num_lanes"
          ],
          [
           0.3593742847442627,
           "XGBRegressor",
           "num_lanes"
          ],
          [
           0.3593742847442627,
           "XGBRegressor",
           "num_lanes"
          ],
          [
           0.3593742847442627,
           "XGBRegressor",
           "num_lanes"
          ],
          [
           0.3593742847442627,
           "XGBRegressor",
           "num_lanes"
          ],
          [
           0.3593742847442627,
           "XGBRegressor",
           "num_lanes"
          ],
          [
           0.3593742847442627,
           "XGBRegressor",
           "num_lanes"
          ],
          [
           0.3593742847442627,
           "XGBRegressor",
           "num_lanes"
          ],
          [
           0.3593742847442627,
           "XGBRegressor",
           "num_lanes"
          ],
          [
           0.3593742847442627,
           "XGBRegressor",
           "num_lanes"
          ],
          [
           0.3593742847442627,
           "XGBRegressor",
           "num_lanes"
          ],
          [
           0.3593742847442627,
           "XGBRegressor",
           "num_lanes"
          ],
          [
           0.3593742847442627,
           "XGBRegressor",
           "num_lanes"
          ],
          [
           0.3593742847442627,
           "XGBRegressor",
           "num_lanes"
          ],
          [
           0.3593742847442627,
           "XGBRegressor",
           "num_lanes"
          ],
          [
           0.3593742847442627,
           "XGBRegressor",
           "num_lanes"
          ],
          [
           0.3593742847442627,
           "XGBRegressor",
           "num_lanes"
          ],
          [
           0.3593742847442627,
           "XGBRegressor",
           "num_lanes"
          ],
          [
           0.3593742847442627,
           "XGBRegressor",
           "num_lanes"
          ],
          [
           0.3593742847442627,
           "XGBRegressor",
           "num_lanes"
          ],
          [
           0.3593742847442627,
           "XGBRegressor",
           "num_lanes"
          ],
          [
           0.3593742847442627,
           "XGBRegressor",
           "num_lanes"
          ],
          [
           0.3593742847442627,
           "XGBRegressor",
           "num_lanes"
          ],
          [
           0.3593742847442627,
           "XGBRegressor",
           "num_lanes"
          ],
          [
           0.3593742847442627,
           "XGBRegressor",
           "num_lanes"
          ],
          [
           0.3593742847442627,
           "XGBRegressor",
           "num_lanes"
          ],
          [
           0.3593742847442627,
           "XGBRegressor",
           "num_lanes"
          ],
          [
           0.3593742847442627,
           "XGBRegressor",
           "num_lanes"
          ],
          [
           0.3593742847442627,
           "XGBRegressor",
           "num_lanes"
          ],
          [
           0.3593742847442627,
           "XGBRegressor",
           "num_lanes"
          ],
          [
           0.3593742847442627,
           "XGBRegressor",
           "num_lanes"
          ],
          [
           0.3593742847442627,
           "XGBRegressor",
           "num_lanes"
          ],
          [
           0.3593742847442627,
           "XGBRegressor",
           "num_lanes"
          ],
          [
           0.3593742847442627,
           "XGBRegressor",
           "num_lanes"
          ],
          [
           0.3593742847442627,
           "XGBRegressor",
           "num_lanes"
          ],
          [
           0.3593742847442627,
           "XGBRegressor",
           "num_lanes"
          ],
          [
           0.3593742847442627,
           "XGBRegressor",
           "num_lanes"
          ],
          [
           0.3593742847442627,
           "XGBRegressor",
           "num_lanes"
          ],
          [
           0.3593742847442627,
           "XGBRegressor",
           "num_lanes"
          ],
          [
           0.3593742847442627,
           "XGBRegressor",
           "num_lanes"
          ],
          [
           0.3593742847442627,
           "XGBRegressor",
           "num_lanes"
          ],
          [
           0.3593742847442627,
           "XGBRegressor",
           "num_lanes"
          ],
          [
           0.3593742847442627,
           "XGBRegressor",
           "num_lanes"
          ],
          [
           0.3593742847442627,
           "XGBRegressor",
           "num_lanes"
          ],
          [
           0.3593742847442627,
           "XGBRegressor",
           "num_lanes"
          ],
          [
           0.3593742847442627,
           "XGBRegressor",
           "num_lanes"
          ],
          [
           0.3593742847442627,
           "XGBRegressor",
           "num_lanes"
          ],
          [
           0.3593742847442627,
           "XGBRegressor",
           "num_lanes"
          ],
          [
           0.3593742847442627,
           "XGBRegressor",
           "num_lanes"
          ],
          [
           0.3593742847442627,
           "XGBRegressor",
           "num_lanes"
          ],
          [
           0.3593742847442627,
           "XGBRegressor",
           "num_lanes"
          ]
         ],
         "hovertemplate": "<b>%{hovertext}</b><br><br>prediction=%{y:.3f}<br>mean_prediction=%{customdata[0]:.3f}<extra></extra>",
         "hovertext": [
          "XGBRegressor",
          "XGBRegressor",
          "XGBRegressor",
          "XGBRegressor",
          "XGBRegressor",
          "XGBRegressor",
          "XGBRegressor",
          "XGBRegressor",
          "XGBRegressor",
          "XGBRegressor",
          "XGBRegressor",
          "XGBRegressor",
          "XGBRegressor",
          "XGBRegressor",
          "XGBRegressor",
          "XGBRegressor",
          "XGBRegressor",
          "XGBRegressor",
          "XGBRegressor",
          "XGBRegressor",
          "XGBRegressor",
          "XGBRegressor",
          "XGBRegressor",
          "XGBRegressor",
          "XGBRegressor",
          "XGBRegressor",
          "XGBRegressor",
          "XGBRegressor",
          "XGBRegressor",
          "XGBRegressor",
          "XGBRegressor",
          "XGBRegressor",
          "XGBRegressor",
          "XGBRegressor",
          "XGBRegressor",
          "XGBRegressor",
          "XGBRegressor",
          "XGBRegressor",
          "XGBRegressor",
          "XGBRegressor",
          "XGBRegressor",
          "XGBRegressor",
          "XGBRegressor",
          "XGBRegressor",
          "XGBRegressor",
          "XGBRegressor",
          "XGBRegressor",
          "XGBRegressor",
          "XGBRegressor",
          "XGBRegressor",
          "XGBRegressor",
          "XGBRegressor",
          "XGBRegressor",
          "XGBRegressor",
          "XGBRegressor",
          "XGBRegressor",
          "XGBRegressor",
          "XGBRegressor",
          "XGBRegressor",
          "XGBRegressor",
          "XGBRegressor",
          "XGBRegressor",
          "XGBRegressor",
          "XGBRegressor",
          "XGBRegressor",
          "XGBRegressor",
          "XGBRegressor",
          "XGBRegressor",
          "XGBRegressor",
          "XGBRegressor",
          "XGBRegressor",
          "XGBRegressor",
          "XGBRegressor",
          "XGBRegressor",
          "XGBRegressor",
          "XGBRegressor",
          "XGBRegressor",
          "XGBRegressor",
          "XGBRegressor",
          "XGBRegressor",
          "XGBRegressor",
          "XGBRegressor",
          "XGBRegressor",
          "XGBRegressor",
          "XGBRegressor",
          "XGBRegressor",
          "XGBRegressor",
          "XGBRegressor",
          "XGBRegressor",
          "XGBRegressor",
          "XGBRegressor",
          "XGBRegressor",
          "XGBRegressor",
          "XGBRegressor",
          "XGBRegressor",
          "XGBRegressor",
          "XGBRegressor",
          "XGBRegressor",
          "XGBRegressor",
          "XGBRegressor",
          "XGBRegressor"
         ],
         "legendgroup": "XGBRegressor",
         "line": {
          "color": "#46bac2",
          "dash": "solid",
          "width": 2
         },
         "marker": {
          "symbol": "circle"
         },
         "mode": "lines",
         "name": "XGBRegressor",
         "opacity": 1,
         "orientation": "v",
         "showlegend": true,
         "type": "scatter",
         "x": [
          1,
          1.03,
          1.06,
          1.09,
          1.12,
          1.15,
          1.18,
          1.21,
          1.24,
          1.27,
          1.3,
          1.33,
          1.3599999999999999,
          1.3900000000000001,
          1.42,
          1.45,
          1.48,
          1.51,
          1.54,
          1.5699999999999998,
          1.6,
          1.63,
          1.66,
          1.69,
          1.72,
          1.75,
          1.78,
          1.81,
          1.8399999999999999,
          1.87,
          1.9,
          1.93,
          1.96,
          1.99,
          2.02,
          2.05,
          2.08,
          2.11,
          2.1399999999999997,
          2.17,
          2.2,
          2.23,
          2.26,
          2.29,
          2.32,
          2.3499999999999996,
          2.38,
          2.41,
          2.44,
          2.4699999999999998,
          2.5,
          2.5300000000000002,
          2.56,
          2.59,
          2.62,
          2.65,
          2.6799999999999997,
          2.71,
          2.74,
          2.77,
          2.8,
          2.83,
          2.86,
          2.8899999999999997,
          2.92,
          2.95,
          2.98,
          3.01,
          3.04,
          3.07,
          3.1,
          3.13,
          3.16,
          3.19,
          3.2199999999999998,
          3.25,
          3.28,
          3.31,
          3.34,
          3.37,
          3.4,
          3.4299999999999997,
          3.46,
          3.4899999999999998,
          3.52,
          3.55,
          3.58,
          3.61,
          3.6399999999999997,
          3.67,
          3.6999999999999997,
          3.73,
          3.76,
          3.79,
          3.82,
          3.85,
          3.88,
          3.9099999999999997,
          3.94,
          3.9699999999999998,
          4
         ],
         "xaxis": "x3",
         "y": [
          0.35852715373039246,
          0.35852715373039246,
          0.35852715373039246,
          0.35852715373039246,
          0.35852715373039246,
          0.35852715373039246,
          0.35852715373039246,
          0.35852715373039246,
          0.35852715373039246,
          0.35852715373039246,
          0.35852715373039246,
          0.35852715373039246,
          0.35852715373039246,
          0.35852715373039246,
          0.35852715373039246,
          0.35852715373039246,
          0.35852715373039246,
          0.35852715373039246,
          0.35852715373039246,
          0.35852715373039246,
          0.35852715373039246,
          0.35852715373039246,
          0.35852715373039246,
          0.35852715373039246,
          0.35852715373039246,
          0.35852715373039246,
          0.35852715373039246,
          0.35852715373039246,
          0.35852715373039246,
          0.35852715373039246,
          0.35852715373039246,
          0.35852715373039246,
          0.35852715373039246,
          0.35852715373039246,
          0.358677476644516,
          0.358677476644516,
          0.358677476644516,
          0.358677476644516,
          0.358677476644516,
          0.358677476644516,
          0.358677476644516,
          0.358677476644516,
          0.358677476644516,
          0.358677476644516,
          0.358677476644516,
          0.358677476644516,
          0.358677476644516,
          0.358677476644516,
          0.358677476644516,
          0.358677476644516,
          0.358677476644516,
          0.358677476644516,
          0.358677476644516,
          0.358677476644516,
          0.358677476644516,
          0.358677476644516,
          0.358677476644516,
          0.358677476644516,
          0.358677476644516,
          0.358677476644516,
          0.358677476644516,
          0.358677476644516,
          0.358677476644516,
          0.358677476644516,
          0.358677476644516,
          0.358677476644516,
          0.358677476644516,
          0.3603527843952179,
          0.3603527843952179,
          0.3603527843952179,
          0.3603527843952179,
          0.3603527843952179,
          0.3603527843952179,
          0.3603527843952179,
          0.3603527843952179,
          0.3603527843952179,
          0.3603527843952179,
          0.3603527843952179,
          0.3603527843952179,
          0.3603527843952179,
          0.3603527843952179,
          0.3603527843952179,
          0.3603527843952179,
          0.3603527843952179,
          0.3603527843952179,
          0.3603527843952179,
          0.3603527843952179,
          0.3603527843952179,
          0.3603527843952179,
          0.3603527843952179,
          0.3603527843952179,
          0.3603527843952179,
          0.3603527843952179,
          0.3603527843952179,
          0.3603527843952179,
          0.3603527843952179,
          0.3603527843952179,
          0.3603527843952179,
          0.3603527843952179,
          0.3603527843952179,
          0.35889187455177307
         ],
         "yaxis": "y3"
        },
        {
         "customdata": [
          [
           0.3593742847442627,
           "XGBRegressor",
           "curvature"
          ],
          [
           0.3593742847442627,
           "XGBRegressor",
           "curvature"
          ],
          [
           0.3593742847442627,
           "XGBRegressor",
           "curvature"
          ],
          [
           0.3593742847442627,
           "XGBRegressor",
           "curvature"
          ],
          [
           0.3593742847442627,
           "XGBRegressor",
           "curvature"
          ],
          [
           0.3593742847442627,
           "XGBRegressor",
           "curvature"
          ],
          [
           0.3593742847442627,
           "XGBRegressor",
           "curvature"
          ],
          [
           0.3593742847442627,
           "XGBRegressor",
           "curvature"
          ],
          [
           0.3593742847442627,
           "XGBRegressor",
           "curvature"
          ],
          [
           0.3593742847442627,
           "XGBRegressor",
           "curvature"
          ],
          [
           0.3593742847442627,
           "XGBRegressor",
           "curvature"
          ],
          [
           0.3593742847442627,
           "XGBRegressor",
           "curvature"
          ],
          [
           0.3593742847442627,
           "XGBRegressor",
           "curvature"
          ],
          [
           0.3593742847442627,
           "XGBRegressor",
           "curvature"
          ],
          [
           0.3593742847442627,
           "XGBRegressor",
           "curvature"
          ],
          [
           0.3593742847442627,
           "XGBRegressor",
           "curvature"
          ],
          [
           0.3593742847442627,
           "XGBRegressor",
           "curvature"
          ],
          [
           0.3593742847442627,
           "XGBRegressor",
           "curvature"
          ],
          [
           0.3593742847442627,
           "XGBRegressor",
           "curvature"
          ],
          [
           0.3593742847442627,
           "XGBRegressor",
           "curvature"
          ],
          [
           0.3593742847442627,
           "XGBRegressor",
           "curvature"
          ],
          [
           0.3593742847442627,
           "XGBRegressor",
           "curvature"
          ],
          [
           0.3593742847442627,
           "XGBRegressor",
           "curvature"
          ],
          [
           0.3593742847442627,
           "XGBRegressor",
           "curvature"
          ],
          [
           0.3593742847442627,
           "XGBRegressor",
           "curvature"
          ],
          [
           0.3593742847442627,
           "XGBRegressor",
           "curvature"
          ],
          [
           0.3593742847442627,
           "XGBRegressor",
           "curvature"
          ],
          [
           0.3593742847442627,
           "XGBRegressor",
           "curvature"
          ],
          [
           0.3593742847442627,
           "XGBRegressor",
           "curvature"
          ],
          [
           0.3593742847442627,
           "XGBRegressor",
           "curvature"
          ],
          [
           0.3593742847442627,
           "XGBRegressor",
           "curvature"
          ],
          [
           0.3593742847442627,
           "XGBRegressor",
           "curvature"
          ],
          [
           0.3593742847442627,
           "XGBRegressor",
           "curvature"
          ],
          [
           0.3593742847442627,
           "XGBRegressor",
           "curvature"
          ],
          [
           0.3593742847442627,
           "XGBRegressor",
           "curvature"
          ],
          [
           0.3593742847442627,
           "XGBRegressor",
           "curvature"
          ],
          [
           0.3593742847442627,
           "XGBRegressor",
           "curvature"
          ],
          [
           0.3593742847442627,
           "XGBRegressor",
           "curvature"
          ],
          [
           0.3593742847442627,
           "XGBRegressor",
           "curvature"
          ],
          [
           0.3593742847442627,
           "XGBRegressor",
           "curvature"
          ],
          [
           0.3593742847442627,
           "XGBRegressor",
           "curvature"
          ],
          [
           0.3593742847442627,
           "XGBRegressor",
           "curvature"
          ],
          [
           0.3593742847442627,
           "XGBRegressor",
           "curvature"
          ],
          [
           0.3593742847442627,
           "XGBRegressor",
           "curvature"
          ],
          [
           0.3593742847442627,
           "XGBRegressor",
           "curvature"
          ],
          [
           0.3593742847442627,
           "XGBRegressor",
           "curvature"
          ],
          [
           0.3593742847442627,
           "XGBRegressor",
           "curvature"
          ],
          [
           0.3593742847442627,
           "XGBRegressor",
           "curvature"
          ],
          [
           0.3593742847442627,
           "XGBRegressor",
           "curvature"
          ],
          [
           0.3593742847442627,
           "XGBRegressor",
           "curvature"
          ],
          [
           0.3593742847442627,
           "XGBRegressor",
           "curvature"
          ],
          [
           0.3593742847442627,
           "XGBRegressor",
           "curvature"
          ],
          [
           0.3593742847442627,
           "XGBRegressor",
           "curvature"
          ],
          [
           0.3593742847442627,
           "XGBRegressor",
           "curvature"
          ],
          [
           0.3593742847442627,
           "XGBRegressor",
           "curvature"
          ],
          [
           0.3593742847442627,
           "XGBRegressor",
           "curvature"
          ],
          [
           0.3593742847442627,
           "XGBRegressor",
           "curvature"
          ],
          [
           0.3593742847442627,
           "XGBRegressor",
           "curvature"
          ],
          [
           0.3593742847442627,
           "XGBRegressor",
           "curvature"
          ],
          [
           0.3593742847442627,
           "XGBRegressor",
           "curvature"
          ],
          [
           0.3593742847442627,
           "XGBRegressor",
           "curvature"
          ],
          [
           0.3593742847442627,
           "XGBRegressor",
           "curvature"
          ],
          [
           0.3593742847442627,
           "XGBRegressor",
           "curvature"
          ],
          [
           0.3593742847442627,
           "XGBRegressor",
           "curvature"
          ],
          [
           0.3593742847442627,
           "XGBRegressor",
           "curvature"
          ],
          [
           0.3593742847442627,
           "XGBRegressor",
           "curvature"
          ],
          [
           0.3593742847442627,
           "XGBRegressor",
           "curvature"
          ],
          [
           0.3593742847442627,
           "XGBRegressor",
           "curvature"
          ],
          [
           0.3593742847442627,
           "XGBRegressor",
           "curvature"
          ],
          [
           0.3593742847442627,
           "XGBRegressor",
           "curvature"
          ],
          [
           0.3593742847442627,
           "XGBRegressor",
           "curvature"
          ],
          [
           0.3593742847442627,
           "XGBRegressor",
           "curvature"
          ],
          [
           0.3593742847442627,
           "XGBRegressor",
           "curvature"
          ],
          [
           0.3593742847442627,
           "XGBRegressor",
           "curvature"
          ],
          [
           0.3593742847442627,
           "XGBRegressor",
           "curvature"
          ],
          [
           0.3593742847442627,
           "XGBRegressor",
           "curvature"
          ],
          [
           0.3593742847442627,
           "XGBRegressor",
           "curvature"
          ],
          [
           0.3593742847442627,
           "XGBRegressor",
           "curvature"
          ],
          [
           0.3593742847442627,
           "XGBRegressor",
           "curvature"
          ],
          [
           0.3593742847442627,
           "XGBRegressor",
           "curvature"
          ],
          [
           0.3593742847442627,
           "XGBRegressor",
           "curvature"
          ],
          [
           0.3593742847442627,
           "XGBRegressor",
           "curvature"
          ],
          [
           0.3593742847442627,
           "XGBRegressor",
           "curvature"
          ],
          [
           0.3593742847442627,
           "XGBRegressor",
           "curvature"
          ],
          [
           0.3593742847442627,
           "XGBRegressor",
           "curvature"
          ],
          [
           0.3593742847442627,
           "XGBRegressor",
           "curvature"
          ],
          [
           0.3593742847442627,
           "XGBRegressor",
           "curvature"
          ],
          [
           0.3593742847442627,
           "XGBRegressor",
           "curvature"
          ],
          [
           0.3593742847442627,
           "XGBRegressor",
           "curvature"
          ],
          [
           0.3593742847442627,
           "XGBRegressor",
           "curvature"
          ],
          [
           0.3593742847442627,
           "XGBRegressor",
           "curvature"
          ],
          [
           0.3593742847442627,
           "XGBRegressor",
           "curvature"
          ],
          [
           0.3593742847442627,
           "XGBRegressor",
           "curvature"
          ],
          [
           0.3593742847442627,
           "XGBRegressor",
           "curvature"
          ],
          [
           0.3593742847442627,
           "XGBRegressor",
           "curvature"
          ],
          [
           0.3593742847442627,
           "XGBRegressor",
           "curvature"
          ],
          [
           0.3593742847442627,
           "XGBRegressor",
           "curvature"
          ],
          [
           0.3593742847442627,
           "XGBRegressor",
           "curvature"
          ],
          [
           0.3593742847442627,
           "XGBRegressor",
           "curvature"
          ],
          [
           0.3593742847442627,
           "XGBRegressor",
           "curvature"
          ],
          [
           0.3593742847442627,
           "XGBRegressor",
           "curvature"
          ]
         ],
         "hovertemplate": "<b>%{hovertext}</b><br><br>prediction=%{y:.3f}<br>mean_prediction=%{customdata[0]:.3f}<extra></extra>",
         "hovertext": [
          "XGBRegressor",
          "XGBRegressor",
          "XGBRegressor",
          "XGBRegressor",
          "XGBRegressor",
          "XGBRegressor",
          "XGBRegressor",
          "XGBRegressor",
          "XGBRegressor",
          "XGBRegressor",
          "XGBRegressor",
          "XGBRegressor",
          "XGBRegressor",
          "XGBRegressor",
          "XGBRegressor",
          "XGBRegressor",
          "XGBRegressor",
          "XGBRegressor",
          "XGBRegressor",
          "XGBRegressor",
          "XGBRegressor",
          "XGBRegressor",
          "XGBRegressor",
          "XGBRegressor",
          "XGBRegressor",
          "XGBRegressor",
          "XGBRegressor",
          "XGBRegressor",
          "XGBRegressor",
          "XGBRegressor",
          "XGBRegressor",
          "XGBRegressor",
          "XGBRegressor",
          "XGBRegressor",
          "XGBRegressor",
          "XGBRegressor",
          "XGBRegressor",
          "XGBRegressor",
          "XGBRegressor",
          "XGBRegressor",
          "XGBRegressor",
          "XGBRegressor",
          "XGBRegressor",
          "XGBRegressor",
          "XGBRegressor",
          "XGBRegressor",
          "XGBRegressor",
          "XGBRegressor",
          "XGBRegressor",
          "XGBRegressor",
          "XGBRegressor",
          "XGBRegressor",
          "XGBRegressor",
          "XGBRegressor",
          "XGBRegressor",
          "XGBRegressor",
          "XGBRegressor",
          "XGBRegressor",
          "XGBRegressor",
          "XGBRegressor",
          "XGBRegressor",
          "XGBRegressor",
          "XGBRegressor",
          "XGBRegressor",
          "XGBRegressor",
          "XGBRegressor",
          "XGBRegressor",
          "XGBRegressor",
          "XGBRegressor",
          "XGBRegressor",
          "XGBRegressor",
          "XGBRegressor",
          "XGBRegressor",
          "XGBRegressor",
          "XGBRegressor",
          "XGBRegressor",
          "XGBRegressor",
          "XGBRegressor",
          "XGBRegressor",
          "XGBRegressor",
          "XGBRegressor",
          "XGBRegressor",
          "XGBRegressor",
          "XGBRegressor",
          "XGBRegressor",
          "XGBRegressor",
          "XGBRegressor",
          "XGBRegressor",
          "XGBRegressor",
          "XGBRegressor",
          "XGBRegressor",
          "XGBRegressor",
          "XGBRegressor",
          "XGBRegressor",
          "XGBRegressor",
          "XGBRegressor",
          "XGBRegressor",
          "XGBRegressor",
          "XGBRegressor",
          "XGBRegressor",
          "XGBRegressor"
         ],
         "legendgroup": "XGBRegressor",
         "line": {
          "color": "#46bac2",
          "dash": "solid",
          "width": 2
         },
         "marker": {
          "symbol": "circle"
         },
         "mode": "lines",
         "name": "XGBRegressor",
         "opacity": 1,
         "orientation": "v",
         "showlegend": false,
         "type": "scatter",
         "x": [
          0,
          0.01,
          0.02,
          0.03,
          0.04,
          0.05,
          0.06,
          0.07,
          0.08,
          0.09,
          0.1,
          0.11,
          0.12,
          0.13,
          0.14,
          0.15,
          0.16,
          0.17,
          0.18,
          0.19,
          0.2,
          0.21,
          0.22,
          0.23,
          0.24,
          0.25,
          0.26,
          0.27,
          0.28,
          0.29,
          0.3,
          0.31,
          0.32,
          0.33,
          0.34,
          0.35000000000000003,
          0.36,
          0.37,
          0.38,
          0.39,
          0.4,
          0.41000000000000003,
          0.42,
          0.43,
          0.44,
          0.45,
          0.46,
          0.47000000000000003,
          0.48,
          0.49,
          0.5,
          0.51,
          0.52,
          0.53,
          0.54,
          0.55,
          0.56,
          0.5700000000000001,
          0.58,
          0.59,
          0.6,
          0.61,
          0.62,
          0.63,
          0.64,
          0.65,
          0.66,
          0.67,
          0.68,
          0.6900000000000001,
          0.7000000000000001,
          0.71,
          0.72,
          0.73,
          0.74,
          0.75,
          0.76,
          0.77,
          0.78,
          0.79,
          0.8,
          0.81,
          0.8200000000000001,
          0.8300000000000001,
          0.84,
          0.85,
          0.86,
          0.87,
          0.88,
          0.89,
          0.9,
          0.91,
          0.92,
          0.93,
          0.9400000000000001,
          0.9500000000000001,
          0.96,
          0.97,
          0.98,
          0.99,
          1
         ],
         "xaxis": "x4",
         "y": [
          0.20253422856330872,
          0.20902155339717865,
          0.21458585560321808,
          0.22003735601902008,
          0.2208520472049713,
          0.2162744700908661,
          0.22566676139831543,
          0.2229831963777542,
          0.23004139959812164,
          0.23127733170986176,
          0.23416493833065033,
          0.23131752014160156,
          0.24289222061634064,
          0.2338215857744217,
          0.2493872344493866,
          0.2545353174209595,
          0.25920814275741577,
          0.25932779908180237,
          0.2595665752887726,
          0.26035359501838684,
          0.2630827724933624,
          0.2642333209514618,
          0.263705849647522,
          0.27366745471954346,
          0.27588170766830444,
          0.2809765338897705,
          0.2790663540363312,
          0.2785329818725586,
          0.28884047269821167,
          0.29088690876960754,
          0.2779577374458313,
          0.2873155474662781,
          0.2914395034313202,
          0.30176666378974915,
          0.30105987191200256,
          0.29697170853614807,
          0.30274510383605957,
          0.31508326530456543,
          0.31345030665397644,
          0.32353121042251587,
          0.32159319519996643,
          0.318141371011734,
          0.3187985122203827,
          0.3277508020401001,
          0.32653090357780457,
          0.3230556845664978,
          0.32319995760917664,
          0.3362478017807007,
          0.3281782567501068,
          0.3366398513317108,
          0.3181699514389038,
          0.36250007152557373,
          0.3814164102077484,
          0.382502943277359,
          0.3863867521286011,
          0.38832202553749084,
          0.3911241888999939,
          0.386776864528656,
          0.39562511444091797,
          0.39665552973747253,
          0.4071858525276184,
          0.4031827747821808,
          0.4068160057067871,
          0.40760084986686707,
          0.41077521443367004,
          0.4182891845703125,
          0.42313578724861145,
          0.4200235605239868,
          0.42688778042793274,
          0.42836999893188477,
          0.42395704984664917,
          0.435603529214859,
          0.4350656569004059,
          0.44657042622566223,
          0.44114261865615845,
          0.45564937591552734,
          0.4548082947731018,
          0.45809367299079895,
          0.4666610658168793,
          0.463356077671051,
          0.468135267496109,
          0.46420368552207947,
          0.465766966342926,
          0.48101842403411865,
          0.47362178564071655,
          0.47489461302757263,
          0.46745309233665466,
          0.4769859313964844,
          0.47196725010871887,
          0.4716193675994873,
          0.47645267844200134,
          0.4809013903141022,
          0.4787128269672394,
          0.4864920675754547,
          0.4804171621799469,
          0.48344069719314575,
          0.48522624373435974,
          0.4930303394794464,
          0.49326440691947937,
          0.49145305156707764,
          0.45007872581481934
         ],
         "yaxis": "y4"
        },
        {
         "customdata": [
          [
           0.3593742847442627,
           "XGBRegressor",
           "speed_limit"
          ],
          [
           0.3593742847442627,
           "XGBRegressor",
           "speed_limit"
          ],
          [
           0.3593742847442627,
           "XGBRegressor",
           "speed_limit"
          ],
          [
           0.3593742847442627,
           "XGBRegressor",
           "speed_limit"
          ],
          [
           0.3593742847442627,
           "XGBRegressor",
           "speed_limit"
          ],
          [
           0.3593742847442627,
           "XGBRegressor",
           "speed_limit"
          ],
          [
           0.3593742847442627,
           "XGBRegressor",
           "speed_limit"
          ],
          [
           0.3593742847442627,
           "XGBRegressor",
           "speed_limit"
          ],
          [
           0.3593742847442627,
           "XGBRegressor",
           "speed_limit"
          ],
          [
           0.3593742847442627,
           "XGBRegressor",
           "speed_limit"
          ],
          [
           0.3593742847442627,
           "XGBRegressor",
           "speed_limit"
          ],
          [
           0.3593742847442627,
           "XGBRegressor",
           "speed_limit"
          ],
          [
           0.3593742847442627,
           "XGBRegressor",
           "speed_limit"
          ],
          [
           0.3593742847442627,
           "XGBRegressor",
           "speed_limit"
          ],
          [
           0.3593742847442627,
           "XGBRegressor",
           "speed_limit"
          ],
          [
           0.3593742847442627,
           "XGBRegressor",
           "speed_limit"
          ],
          [
           0.3593742847442627,
           "XGBRegressor",
           "speed_limit"
          ],
          [
           0.3593742847442627,
           "XGBRegressor",
           "speed_limit"
          ],
          [
           0.3593742847442627,
           "XGBRegressor",
           "speed_limit"
          ],
          [
           0.3593742847442627,
           "XGBRegressor",
           "speed_limit"
          ],
          [
           0.3593742847442627,
           "XGBRegressor",
           "speed_limit"
          ],
          [
           0.3593742847442627,
           "XGBRegressor",
           "speed_limit"
          ],
          [
           0.3593742847442627,
           "XGBRegressor",
           "speed_limit"
          ],
          [
           0.3593742847442627,
           "XGBRegressor",
           "speed_limit"
          ],
          [
           0.3593742847442627,
           "XGBRegressor",
           "speed_limit"
          ],
          [
           0.3593742847442627,
           "XGBRegressor",
           "speed_limit"
          ],
          [
           0.3593742847442627,
           "XGBRegressor",
           "speed_limit"
          ],
          [
           0.3593742847442627,
           "XGBRegressor",
           "speed_limit"
          ],
          [
           0.3593742847442627,
           "XGBRegressor",
           "speed_limit"
          ],
          [
           0.3593742847442627,
           "XGBRegressor",
           "speed_limit"
          ],
          [
           0.3593742847442627,
           "XGBRegressor",
           "speed_limit"
          ],
          [
           0.3593742847442627,
           "XGBRegressor",
           "speed_limit"
          ],
          [
           0.3593742847442627,
           "XGBRegressor",
           "speed_limit"
          ],
          [
           0.3593742847442627,
           "XGBRegressor",
           "speed_limit"
          ],
          [
           0.3593742847442627,
           "XGBRegressor",
           "speed_limit"
          ],
          [
           0.3593742847442627,
           "XGBRegressor",
           "speed_limit"
          ],
          [
           0.3593742847442627,
           "XGBRegressor",
           "speed_limit"
          ],
          [
           0.3593742847442627,
           "XGBRegressor",
           "speed_limit"
          ],
          [
           0.3593742847442627,
           "XGBRegressor",
           "speed_limit"
          ],
          [
           0.3593742847442627,
           "XGBRegressor",
           "speed_limit"
          ],
          [
           0.3593742847442627,
           "XGBRegressor",
           "speed_limit"
          ],
          [
           0.3593742847442627,
           "XGBRegressor",
           "speed_limit"
          ],
          [
           0.3593742847442627,
           "XGBRegressor",
           "speed_limit"
          ],
          [
           0.3593742847442627,
           "XGBRegressor",
           "speed_limit"
          ],
          [
           0.3593742847442627,
           "XGBRegressor",
           "speed_limit"
          ],
          [
           0.3593742847442627,
           "XGBRegressor",
           "speed_limit"
          ],
          [
           0.3593742847442627,
           "XGBRegressor",
           "speed_limit"
          ],
          [
           0.3593742847442627,
           "XGBRegressor",
           "speed_limit"
          ],
          [
           0.3593742847442627,
           "XGBRegressor",
           "speed_limit"
          ],
          [
           0.3593742847442627,
           "XGBRegressor",
           "speed_limit"
          ],
          [
           0.3593742847442627,
           "XGBRegressor",
           "speed_limit"
          ],
          [
           0.3593742847442627,
           "XGBRegressor",
           "speed_limit"
          ],
          [
           0.3593742847442627,
           "XGBRegressor",
           "speed_limit"
          ],
          [
           0.3593742847442627,
           "XGBRegressor",
           "speed_limit"
          ],
          [
           0.3593742847442627,
           "XGBRegressor",
           "speed_limit"
          ],
          [
           0.3593742847442627,
           "XGBRegressor",
           "speed_limit"
          ],
          [
           0.3593742847442627,
           "XGBRegressor",
           "speed_limit"
          ],
          [
           0.3593742847442627,
           "XGBRegressor",
           "speed_limit"
          ],
          [
           0.3593742847442627,
           "XGBRegressor",
           "speed_limit"
          ],
          [
           0.3593742847442627,
           "XGBRegressor",
           "speed_limit"
          ],
          [
           0.3593742847442627,
           "XGBRegressor",
           "speed_limit"
          ],
          [
           0.3593742847442627,
           "XGBRegressor",
           "speed_limit"
          ],
          [
           0.3593742847442627,
           "XGBRegressor",
           "speed_limit"
          ],
          [
           0.3593742847442627,
           "XGBRegressor",
           "speed_limit"
          ],
          [
           0.3593742847442627,
           "XGBRegressor",
           "speed_limit"
          ],
          [
           0.3593742847442627,
           "XGBRegressor",
           "speed_limit"
          ],
          [
           0.3593742847442627,
           "XGBRegressor",
           "speed_limit"
          ],
          [
           0.3593742847442627,
           "XGBRegressor",
           "speed_limit"
          ],
          [
           0.3593742847442627,
           "XGBRegressor",
           "speed_limit"
          ],
          [
           0.3593742847442627,
           "XGBRegressor",
           "speed_limit"
          ],
          [
           0.3593742847442627,
           "XGBRegressor",
           "speed_limit"
          ],
          [
           0.3593742847442627,
           "XGBRegressor",
           "speed_limit"
          ],
          [
           0.3593742847442627,
           "XGBRegressor",
           "speed_limit"
          ],
          [
           0.3593742847442627,
           "XGBRegressor",
           "speed_limit"
          ],
          [
           0.3593742847442627,
           "XGBRegressor",
           "speed_limit"
          ],
          [
           0.3593742847442627,
           "XGBRegressor",
           "speed_limit"
          ],
          [
           0.3593742847442627,
           "XGBRegressor",
           "speed_limit"
          ],
          [
           0.3593742847442627,
           "XGBRegressor",
           "speed_limit"
          ],
          [
           0.3593742847442627,
           "XGBRegressor",
           "speed_limit"
          ],
          [
           0.3593742847442627,
           "XGBRegressor",
           "speed_limit"
          ],
          [
           0.3593742847442627,
           "XGBRegressor",
           "speed_limit"
          ],
          [
           0.3593742847442627,
           "XGBRegressor",
           "speed_limit"
          ],
          [
           0.3593742847442627,
           "XGBRegressor",
           "speed_limit"
          ],
          [
           0.3593742847442627,
           "XGBRegressor",
           "speed_limit"
          ],
          [
           0.3593742847442627,
           "XGBRegressor",
           "speed_limit"
          ],
          [
           0.3593742847442627,
           "XGBRegressor",
           "speed_limit"
          ],
          [
           0.3593742847442627,
           "XGBRegressor",
           "speed_limit"
          ],
          [
           0.3593742847442627,
           "XGBRegressor",
           "speed_limit"
          ],
          [
           0.3593742847442627,
           "XGBRegressor",
           "speed_limit"
          ],
          [
           0.3593742847442627,
           "XGBRegressor",
           "speed_limit"
          ],
          [
           0.3593742847442627,
           "XGBRegressor",
           "speed_limit"
          ],
          [
           0.3593742847442627,
           "XGBRegressor",
           "speed_limit"
          ],
          [
           0.3593742847442627,
           "XGBRegressor",
           "speed_limit"
          ],
          [
           0.3593742847442627,
           "XGBRegressor",
           "speed_limit"
          ],
          [
           0.3593742847442627,
           "XGBRegressor",
           "speed_limit"
          ],
          [
           0.3593742847442627,
           "XGBRegressor",
           "speed_limit"
          ],
          [
           0.3593742847442627,
           "XGBRegressor",
           "speed_limit"
          ],
          [
           0.3593742847442627,
           "XGBRegressor",
           "speed_limit"
          ],
          [
           0.3593742847442627,
           "XGBRegressor",
           "speed_limit"
          ],
          [
           0.3593742847442627,
           "XGBRegressor",
           "speed_limit"
          ],
          [
           0.3593742847442627,
           "XGBRegressor",
           "speed_limit"
          ]
         ],
         "hovertemplate": "<b>%{hovertext}</b><br><br>prediction=%{y:.3f}<br>mean_prediction=%{customdata[0]:.3f}<extra></extra>",
         "hovertext": [
          "XGBRegressor",
          "XGBRegressor",
          "XGBRegressor",
          "XGBRegressor",
          "XGBRegressor",
          "XGBRegressor",
          "XGBRegressor",
          "XGBRegressor",
          "XGBRegressor",
          "XGBRegressor",
          "XGBRegressor",
          "XGBRegressor",
          "XGBRegressor",
          "XGBRegressor",
          "XGBRegressor",
          "XGBRegressor",
          "XGBRegressor",
          "XGBRegressor",
          "XGBRegressor",
          "XGBRegressor",
          "XGBRegressor",
          "XGBRegressor",
          "XGBRegressor",
          "XGBRegressor",
          "XGBRegressor",
          "XGBRegressor",
          "XGBRegressor",
          "XGBRegressor",
          "XGBRegressor",
          "XGBRegressor",
          "XGBRegressor",
          "XGBRegressor",
          "XGBRegressor",
          "XGBRegressor",
          "XGBRegressor",
          "XGBRegressor",
          "XGBRegressor",
          "XGBRegressor",
          "XGBRegressor",
          "XGBRegressor",
          "XGBRegressor",
          "XGBRegressor",
          "XGBRegressor",
          "XGBRegressor",
          "XGBRegressor",
          "XGBRegressor",
          "XGBRegressor",
          "XGBRegressor",
          "XGBRegressor",
          "XGBRegressor",
          "XGBRegressor",
          "XGBRegressor",
          "XGBRegressor",
          "XGBRegressor",
          "XGBRegressor",
          "XGBRegressor",
          "XGBRegressor",
          "XGBRegressor",
          "XGBRegressor",
          "XGBRegressor",
          "XGBRegressor",
          "XGBRegressor",
          "XGBRegressor",
          "XGBRegressor",
          "XGBRegressor",
          "XGBRegressor",
          "XGBRegressor",
          "XGBRegressor",
          "XGBRegressor",
          "XGBRegressor",
          "XGBRegressor",
          "XGBRegressor",
          "XGBRegressor",
          "XGBRegressor",
          "XGBRegressor",
          "XGBRegressor",
          "XGBRegressor",
          "XGBRegressor",
          "XGBRegressor",
          "XGBRegressor",
          "XGBRegressor",
          "XGBRegressor",
          "XGBRegressor",
          "XGBRegressor",
          "XGBRegressor",
          "XGBRegressor",
          "XGBRegressor",
          "XGBRegressor",
          "XGBRegressor",
          "XGBRegressor",
          "XGBRegressor",
          "XGBRegressor",
          "XGBRegressor",
          "XGBRegressor",
          "XGBRegressor",
          "XGBRegressor",
          "XGBRegressor",
          "XGBRegressor",
          "XGBRegressor",
          "XGBRegressor",
          "XGBRegressor"
         ],
         "legendgroup": "XGBRegressor",
         "line": {
          "color": "#46bac2",
          "dash": "solid",
          "width": 2
         },
         "marker": {
          "symbol": "circle"
         },
         "mode": "lines",
         "name": "XGBRegressor",
         "opacity": 1,
         "orientation": "v",
         "showlegend": false,
         "type": "scatter",
         "x": [
          25,
          25.45,
          25.9,
          26.35,
          26.8,
          27.25,
          27.7,
          28.15,
          28.6,
          29.05,
          29.5,
          29.95,
          30.4,
          30.85,
          31.3,
          31.75,
          32.2,
          32.65,
          33.1,
          33.55,
          34,
          34.45,
          34.9,
          35.35,
          35.8,
          36.25,
          36.7,
          37.15,
          37.6,
          38.05,
          38.5,
          38.95,
          39.4,
          39.85,
          40.3,
          40.75,
          41.2,
          41.650000000000006,
          42.1,
          42.55,
          43,
          43.45,
          43.900000000000006,
          44.35,
          44.8,
          45.25,
          45.7,
          46.150000000000006,
          46.6,
          47.05,
          47.5,
          47.95,
          48.400000000000006,
          48.85,
          49.3,
          49.75,
          50.2,
          50.650000000000006,
          51.1,
          51.55,
          52,
          52.45,
          52.900000000000006,
          53.35,
          53.8,
          54.25,
          54.7,
          55.150000000000006,
          55.6,
          56.05,
          56.5,
          56.95,
          57.4,
          57.85,
          58.300000000000004,
          58.75,
          59.2,
          59.65,
          60.1,
          60.550000000000004,
          61,
          61.45,
          61.9,
          62.35,
          62.800000000000004,
          63.25,
          63.7,
          64.15,
          64.6,
          65.05000000000001,
          65.5,
          65.95,
          66.4,
          66.85,
          67.30000000000001,
          67.75,
          68.2,
          68.65,
          69.1,
          69.55000000000001,
          70
         ],
         "xaxis": "x",
         "y": [
          0.2835208773612976,
          0.2835208773612976,
          0.2835208773612976,
          0.2835208773612976,
          0.2835208773612976,
          0.2835208773612976,
          0.2835208773612976,
          0.2835208773612976,
          0.2835208773612976,
          0.2835208773612976,
          0.2835208773612976,
          0.2835208773612976,
          0.2835208773612976,
          0.2835208773612976,
          0.2835208773612976,
          0.2835208773612976,
          0.2835208773612976,
          0.2835208773612976,
          0.2835208773612976,
          0.2835208773612976,
          0.2835208773612976,
          0.2835208773612976,
          0.2835208773612976,
          0.2848936915397644,
          0.2848936915397644,
          0.2848936915397644,
          0.2848936915397644,
          0.2848936915397644,
          0.2848936915397644,
          0.2848936915397644,
          0.2848936915397644,
          0.2848936915397644,
          0.2848936915397644,
          0.2848936915397644,
          0.2848936915397644,
          0.2848936915397644,
          0.2848936915397644,
          0.2848936915397644,
          0.2848936915397644,
          0.2848936915397644,
          0.2848936915397644,
          0.2848936915397644,
          0.2848936915397644,
          0.2848936915397644,
          0.2848936915397644,
          0.2836490273475647,
          0.2836490273475647,
          0.2836490273475647,
          0.2836490273475647,
          0.2836490273475647,
          0.2836490273475647,
          0.2836490273475647,
          0.2836490273475647,
          0.2836490273475647,
          0.2836490273475647,
          0.2836490273475647,
          0.2836490273475647,
          0.2836490273475647,
          0.2836490273475647,
          0.2836490273475647,
          0.2836490273475647,
          0.2836490273475647,
          0.2836490273475647,
          0.2836490273475647,
          0.2836490273475647,
          0.2836490273475647,
          0.2836490273475647,
          0.2836490273475647,
          0.2836490273475647,
          0.2836490273475647,
          0.2836490273475647,
          0.2836490273475647,
          0.2836490273475647,
          0.2836490273475647,
          0.2836490273475647,
          0.2836490273475647,
          0.2836490273475647,
          0.2836490273475647,
          0.46819406747817993,
          0.46819406747817993,
          0.46819406747817993,
          0.46819406747817993,
          0.46819406747817993,
          0.46819406747817993,
          0.46819406747817993,
          0.46819406747817993,
          0.46819406747817993,
          0.46819406747817993,
          0.46819406747817993,
          0.46819406747817993,
          0.46819406747817993,
          0.46819406747817993,
          0.46819406747817993,
          0.46819406747817993,
          0.46819406747817993,
          0.46819406747817993,
          0.46819406747817993,
          0.46819406747817993,
          0.46819406747817993,
          0.46819406747817993,
          0.4693717360496521
         ],
         "yaxis": "y"
        },
        {
         "customdata": [
          [
           0.3593742847442627,
           "XGBRegressor",
           "num_reported_accidents"
          ],
          [
           0.3593742847442627,
           "XGBRegressor",
           "num_reported_accidents"
          ],
          [
           0.3593742847442627,
           "XGBRegressor",
           "num_reported_accidents"
          ],
          [
           0.3593742847442627,
           "XGBRegressor",
           "num_reported_accidents"
          ],
          [
           0.3593742847442627,
           "XGBRegressor",
           "num_reported_accidents"
          ],
          [
           0.3593742847442627,
           "XGBRegressor",
           "num_reported_accidents"
          ],
          [
           0.3593742847442627,
           "XGBRegressor",
           "num_reported_accidents"
          ],
          [
           0.3593742847442627,
           "XGBRegressor",
           "num_reported_accidents"
          ],
          [
           0.3593742847442627,
           "XGBRegressor",
           "num_reported_accidents"
          ],
          [
           0.3593742847442627,
           "XGBRegressor",
           "num_reported_accidents"
          ],
          [
           0.3593742847442627,
           "XGBRegressor",
           "num_reported_accidents"
          ],
          [
           0.3593742847442627,
           "XGBRegressor",
           "num_reported_accidents"
          ],
          [
           0.3593742847442627,
           "XGBRegressor",
           "num_reported_accidents"
          ],
          [
           0.3593742847442627,
           "XGBRegressor",
           "num_reported_accidents"
          ],
          [
           0.3593742847442627,
           "XGBRegressor",
           "num_reported_accidents"
          ],
          [
           0.3593742847442627,
           "XGBRegressor",
           "num_reported_accidents"
          ],
          [
           0.3593742847442627,
           "XGBRegressor",
           "num_reported_accidents"
          ],
          [
           0.3593742847442627,
           "XGBRegressor",
           "num_reported_accidents"
          ],
          [
           0.3593742847442627,
           "XGBRegressor",
           "num_reported_accidents"
          ],
          [
           0.3593742847442627,
           "XGBRegressor",
           "num_reported_accidents"
          ],
          [
           0.3593742847442627,
           "XGBRegressor",
           "num_reported_accidents"
          ],
          [
           0.3593742847442627,
           "XGBRegressor",
           "num_reported_accidents"
          ],
          [
           0.3593742847442627,
           "XGBRegressor",
           "num_reported_accidents"
          ],
          [
           0.3593742847442627,
           "XGBRegressor",
           "num_reported_accidents"
          ],
          [
           0.3593742847442627,
           "XGBRegressor",
           "num_reported_accidents"
          ],
          [
           0.3593742847442627,
           "XGBRegressor",
           "num_reported_accidents"
          ],
          [
           0.3593742847442627,
           "XGBRegressor",
           "num_reported_accidents"
          ],
          [
           0.3593742847442627,
           "XGBRegressor",
           "num_reported_accidents"
          ],
          [
           0.3593742847442627,
           "XGBRegressor",
           "num_reported_accidents"
          ],
          [
           0.3593742847442627,
           "XGBRegressor",
           "num_reported_accidents"
          ],
          [
           0.3593742847442627,
           "XGBRegressor",
           "num_reported_accidents"
          ],
          [
           0.3593742847442627,
           "XGBRegressor",
           "num_reported_accidents"
          ],
          [
           0.3593742847442627,
           "XGBRegressor",
           "num_reported_accidents"
          ],
          [
           0.3593742847442627,
           "XGBRegressor",
           "num_reported_accidents"
          ],
          [
           0.3593742847442627,
           "XGBRegressor",
           "num_reported_accidents"
          ],
          [
           0.3593742847442627,
           "XGBRegressor",
           "num_reported_accidents"
          ],
          [
           0.3593742847442627,
           "XGBRegressor",
           "num_reported_accidents"
          ],
          [
           0.3593742847442627,
           "XGBRegressor",
           "num_reported_accidents"
          ],
          [
           0.3593742847442627,
           "XGBRegressor",
           "num_reported_accidents"
          ],
          [
           0.3593742847442627,
           "XGBRegressor",
           "num_reported_accidents"
          ],
          [
           0.3593742847442627,
           "XGBRegressor",
           "num_reported_accidents"
          ],
          [
           0.3593742847442627,
           "XGBRegressor",
           "num_reported_accidents"
          ],
          [
           0.3593742847442627,
           "XGBRegressor",
           "num_reported_accidents"
          ],
          [
           0.3593742847442627,
           "XGBRegressor",
           "num_reported_accidents"
          ],
          [
           0.3593742847442627,
           "XGBRegressor",
           "num_reported_accidents"
          ],
          [
           0.3593742847442627,
           "XGBRegressor",
           "num_reported_accidents"
          ],
          [
           0.3593742847442627,
           "XGBRegressor",
           "num_reported_accidents"
          ],
          [
           0.3593742847442627,
           "XGBRegressor",
           "num_reported_accidents"
          ],
          [
           0.3593742847442627,
           "XGBRegressor",
           "num_reported_accidents"
          ],
          [
           0.3593742847442627,
           "XGBRegressor",
           "num_reported_accidents"
          ],
          [
           0.3593742847442627,
           "XGBRegressor",
           "num_reported_accidents"
          ],
          [
           0.3593742847442627,
           "XGBRegressor",
           "num_reported_accidents"
          ],
          [
           0.3593742847442627,
           "XGBRegressor",
           "num_reported_accidents"
          ],
          [
           0.3593742847442627,
           "XGBRegressor",
           "num_reported_accidents"
          ],
          [
           0.3593742847442627,
           "XGBRegressor",
           "num_reported_accidents"
          ],
          [
           0.3593742847442627,
           "XGBRegressor",
           "num_reported_accidents"
          ],
          [
           0.3593742847442627,
           "XGBRegressor",
           "num_reported_accidents"
          ],
          [
           0.3593742847442627,
           "XGBRegressor",
           "num_reported_accidents"
          ],
          [
           0.3593742847442627,
           "XGBRegressor",
           "num_reported_accidents"
          ],
          [
           0.3593742847442627,
           "XGBRegressor",
           "num_reported_accidents"
          ],
          [
           0.3593742847442627,
           "XGBRegressor",
           "num_reported_accidents"
          ],
          [
           0.3593742847442627,
           "XGBRegressor",
           "num_reported_accidents"
          ],
          [
           0.3593742847442627,
           "XGBRegressor",
           "num_reported_accidents"
          ],
          [
           0.3593742847442627,
           "XGBRegressor",
           "num_reported_accidents"
          ],
          [
           0.3593742847442627,
           "XGBRegressor",
           "num_reported_accidents"
          ],
          [
           0.3593742847442627,
           "XGBRegressor",
           "num_reported_accidents"
          ],
          [
           0.3593742847442627,
           "XGBRegressor",
           "num_reported_accidents"
          ],
          [
           0.3593742847442627,
           "XGBRegressor",
           "num_reported_accidents"
          ],
          [
           0.3593742847442627,
           "XGBRegressor",
           "num_reported_accidents"
          ],
          [
           0.3593742847442627,
           "XGBRegressor",
           "num_reported_accidents"
          ],
          [
           0.3593742847442627,
           "XGBRegressor",
           "num_reported_accidents"
          ],
          [
           0.3593742847442627,
           "XGBRegressor",
           "num_reported_accidents"
          ],
          [
           0.3593742847442627,
           "XGBRegressor",
           "num_reported_accidents"
          ],
          [
           0.3593742847442627,
           "XGBRegressor",
           "num_reported_accidents"
          ],
          [
           0.3593742847442627,
           "XGBRegressor",
           "num_reported_accidents"
          ],
          [
           0.3593742847442627,
           "XGBRegressor",
           "num_reported_accidents"
          ],
          [
           0.3593742847442627,
           "XGBRegressor",
           "num_reported_accidents"
          ],
          [
           0.3593742847442627,
           "XGBRegressor",
           "num_reported_accidents"
          ],
          [
           0.3593742847442627,
           "XGBRegressor",
           "num_reported_accidents"
          ],
          [
           0.3593742847442627,
           "XGBRegressor",
           "num_reported_accidents"
          ],
          [
           0.3593742847442627,
           "XGBRegressor",
           "num_reported_accidents"
          ],
          [
           0.3593742847442627,
           "XGBRegressor",
           "num_reported_accidents"
          ],
          [
           0.3593742847442627,
           "XGBRegressor",
           "num_reported_accidents"
          ],
          [
           0.3593742847442627,
           "XGBRegressor",
           "num_reported_accidents"
          ],
          [
           0.3593742847442627,
           "XGBRegressor",
           "num_reported_accidents"
          ],
          [
           0.3593742847442627,
           "XGBRegressor",
           "num_reported_accidents"
          ],
          [
           0.3593742847442627,
           "XGBRegressor",
           "num_reported_accidents"
          ],
          [
           0.3593742847442627,
           "XGBRegressor",
           "num_reported_accidents"
          ],
          [
           0.3593742847442627,
           "XGBRegressor",
           "num_reported_accidents"
          ],
          [
           0.3593742847442627,
           "XGBRegressor",
           "num_reported_accidents"
          ],
          [
           0.3593742847442627,
           "XGBRegressor",
           "num_reported_accidents"
          ],
          [
           0.3593742847442627,
           "XGBRegressor",
           "num_reported_accidents"
          ],
          [
           0.3593742847442627,
           "XGBRegressor",
           "num_reported_accidents"
          ],
          [
           0.3593742847442627,
           "XGBRegressor",
           "num_reported_accidents"
          ],
          [
           0.3593742847442627,
           "XGBRegressor",
           "num_reported_accidents"
          ],
          [
           0.3593742847442627,
           "XGBRegressor",
           "num_reported_accidents"
          ],
          [
           0.3593742847442627,
           "XGBRegressor",
           "num_reported_accidents"
          ],
          [
           0.3593742847442627,
           "XGBRegressor",
           "num_reported_accidents"
          ],
          [
           0.3593742847442627,
           "XGBRegressor",
           "num_reported_accidents"
          ],
          [
           0.3593742847442627,
           "XGBRegressor",
           "num_reported_accidents"
          ],
          [
           0.3593742847442627,
           "XGBRegressor",
           "num_reported_accidents"
          ]
         ],
         "hovertemplate": "<b>%{hovertext}</b><br><br>prediction=%{y:.3f}<br>mean_prediction=%{customdata[0]:.3f}<extra></extra>",
         "hovertext": [
          "XGBRegressor",
          "XGBRegressor",
          "XGBRegressor",
          "XGBRegressor",
          "XGBRegressor",
          "XGBRegressor",
          "XGBRegressor",
          "XGBRegressor",
          "XGBRegressor",
          "XGBRegressor",
          "XGBRegressor",
          "XGBRegressor",
          "XGBRegressor",
          "XGBRegressor",
          "XGBRegressor",
          "XGBRegressor",
          "XGBRegressor",
          "XGBRegressor",
          "XGBRegressor",
          "XGBRegressor",
          "XGBRegressor",
          "XGBRegressor",
          "XGBRegressor",
          "XGBRegressor",
          "XGBRegressor",
          "XGBRegressor",
          "XGBRegressor",
          "XGBRegressor",
          "XGBRegressor",
          "XGBRegressor",
          "XGBRegressor",
          "XGBRegressor",
          "XGBRegressor",
          "XGBRegressor",
          "XGBRegressor",
          "XGBRegressor",
          "XGBRegressor",
          "XGBRegressor",
          "XGBRegressor",
          "XGBRegressor",
          "XGBRegressor",
          "XGBRegressor",
          "XGBRegressor",
          "XGBRegressor",
          "XGBRegressor",
          "XGBRegressor",
          "XGBRegressor",
          "XGBRegressor",
          "XGBRegressor",
          "XGBRegressor",
          "XGBRegressor",
          "XGBRegressor",
          "XGBRegressor",
          "XGBRegressor",
          "XGBRegressor",
          "XGBRegressor",
          "XGBRegressor",
          "XGBRegressor",
          "XGBRegressor",
          "XGBRegressor",
          "XGBRegressor",
          "XGBRegressor",
          "XGBRegressor",
          "XGBRegressor",
          "XGBRegressor",
          "XGBRegressor",
          "XGBRegressor",
          "XGBRegressor",
          "XGBRegressor",
          "XGBRegressor",
          "XGBRegressor",
          "XGBRegressor",
          "XGBRegressor",
          "XGBRegressor",
          "XGBRegressor",
          "XGBRegressor",
          "XGBRegressor",
          "XGBRegressor",
          "XGBRegressor",
          "XGBRegressor",
          "XGBRegressor",
          "XGBRegressor",
          "XGBRegressor",
          "XGBRegressor",
          "XGBRegressor",
          "XGBRegressor",
          "XGBRegressor",
          "XGBRegressor",
          "XGBRegressor",
          "XGBRegressor",
          "XGBRegressor",
          "XGBRegressor",
          "XGBRegressor",
          "XGBRegressor",
          "XGBRegressor",
          "XGBRegressor",
          "XGBRegressor",
          "XGBRegressor",
          "XGBRegressor",
          "XGBRegressor",
          "XGBRegressor"
         ],
         "legendgroup": "XGBRegressor",
         "line": {
          "color": "#46bac2",
          "dash": "solid",
          "width": 2
         },
         "marker": {
          "symbol": "circle"
         },
         "mode": "lines",
         "name": "XGBRegressor",
         "opacity": 1,
         "orientation": "v",
         "showlegend": false,
         "type": "scatter",
         "x": [
          0,
          0.07,
          0.14,
          0.21000000000000002,
          0.28,
          0.35000000000000003,
          0.42000000000000004,
          0.49000000000000005,
          0.56,
          0.6300000000000001,
          0.7000000000000001,
          0.77,
          0.8400000000000001,
          0.9100000000000001,
          0.9800000000000001,
          1.05,
          1.12,
          1.1900000000000002,
          1.2600000000000002,
          1.33,
          1.4000000000000001,
          1.4700000000000002,
          1.54,
          1.61,
          1.6800000000000002,
          1.7500000000000002,
          1.8200000000000003,
          1.8900000000000001,
          1.9600000000000002,
          2.0300000000000002,
          2.1,
          2.1700000000000004,
          2.24,
          2.31,
          2.3800000000000003,
          2.45,
          2.5200000000000005,
          2.5900000000000003,
          2.66,
          2.7300000000000004,
          2.8000000000000003,
          2.87,
          2.9400000000000004,
          3.0100000000000002,
          3.08,
          3.1500000000000004,
          3.22,
          3.2900000000000005,
          3.3600000000000003,
          3.43,
          3.5000000000000004,
          3.5700000000000003,
          3.6400000000000006,
          3.7100000000000004,
          3.7800000000000002,
          3.8500000000000005,
          3.9200000000000004,
          3.99,
          4.0600000000000005,
          4.130000000000001,
          4.2,
          4.2700000000000005,
          4.340000000000001,
          4.41,
          4.48,
          4.550000000000001,
          4.62,
          4.69,
          4.760000000000001,
          4.83,
          4.9,
          4.970000000000001,
          5.040000000000001,
          5.11,
          5.180000000000001,
          5.250000000000001,
          5.32,
          5.390000000000001,
          5.460000000000001,
          5.53,
          5.6000000000000005,
          5.670000000000001,
          5.74,
          5.8100000000000005,
          5.880000000000001,
          5.95,
          6.0200000000000005,
          6.090000000000001,
          6.16,
          6.23,
          6.300000000000001,
          6.370000000000001,
          6.44,
          6.510000000000001,
          6.580000000000001,
          6.65,
          6.720000000000001,
          6.790000000000001,
          6.86,
          6.930000000000001,
          7
         ],
         "xaxis": "x2",
         "y": [
          0.3530854284763336,
          0.3530854284763336,
          0.3530854284763336,
          0.3530854284763336,
          0.3530854284763336,
          0.3530854284763336,
          0.3530854284763336,
          0.3530854284763336,
          0.3530854284763336,
          0.3530854284763336,
          0.3530854284763336,
          0.3530854284763336,
          0.3530854284763336,
          0.3530854284763336,
          0.3530854284763336,
          0.3523525893688202,
          0.3523525893688202,
          0.3523525893688202,
          0.3523525893688202,
          0.3523525893688202,
          0.3523525893688202,
          0.3523525893688202,
          0.3523525893688202,
          0.3523525893688202,
          0.3523525893688202,
          0.3523525893688202,
          0.3523525893688202,
          0.3523525893688202,
          0.3523525893688202,
          0.3537435531616211,
          0.3537435531616211,
          0.3537435531616211,
          0.3537435531616211,
          0.3537435531616211,
          0.3537435531616211,
          0.3537435531616211,
          0.3537435531616211,
          0.3537435531616211,
          0.3537435531616211,
          0.3537435531616211,
          0.3537435531616211,
          0.3537435531616211,
          0.3537435531616211,
          0.349822998046875,
          0.349822998046875,
          0.349822998046875,
          0.349822998046875,
          0.349822998046875,
          0.349822998046875,
          0.349822998046875,
          0.349822998046875,
          0.349822998046875,
          0.349822998046875,
          0.349822998046875,
          0.349822998046875,
          0.349822998046875,
          0.349822998046875,
          0.349822998046875,
          0.33674129843711853,
          0.33674129843711853,
          0.33674129843711853,
          0.33674129843711853,
          0.33674129843711853,
          0.33674129843711853,
          0.33674129843711853,
          0.33674129843711853,
          0.33674129843711853,
          0.33674129843711853,
          0.33674129843711853,
          0.33674129843711853,
          0.33674129843711853,
          0.33674129843711853,
          0.30635783076286316,
          0.30635783076286316,
          0.30635783076286316,
          0.30635783076286316,
          0.30635783076286316,
          0.30635783076286316,
          0.30635783076286316,
          0.30635783076286316,
          0.30635783076286316,
          0.30635783076286316,
          0.30635783076286316,
          0.30635783076286316,
          0.30635783076286316,
          0.30635783076286316,
          0.31258371472358704,
          0.31258371472358704,
          0.31258371472358704,
          0.31258371472358704,
          0.31258371472358704,
          0.31258371472358704,
          0.31258371472358704,
          0.31258371472358704,
          0.31258371472358704,
          0.31258371472358704,
          0.31258371472358704,
          0.31258371472358704,
          0.31258371472358704,
          0.31258371472358704,
          0.3027702271938324
         ],
         "yaxis": "y2"
        }
       ],
       "layout": {
        "annotations": [
         {
          "font": {
           "size": 13
          },
          "showarrow": false,
          "text": "speed_limit",
          "x": 0.2375,
          "xanchor": "center",
          "xref": "paper",
          "y": 0.425,
          "yanchor": "bottom",
          "yref": "paper"
         },
         {
          "font": {
           "size": 13
          },
          "showarrow": false,
          "text": "num_reported_accidents",
          "x": 0.7625,
          "xanchor": "center",
          "xref": "paper",
          "y": 0.425,
          "yanchor": "bottom",
          "yref": "paper"
         },
         {
          "font": {
           "size": 13
          },
          "showarrow": false,
          "text": "num_lanes",
          "x": 0.2375,
          "xanchor": "center",
          "xref": "paper",
          "y": 1,
          "yanchor": "bottom",
          "yref": "paper"
         },
         {
          "font": {
           "size": 13
          },
          "showarrow": false,
          "text": "curvature",
          "x": 0.7625,
          "xanchor": "center",
          "xref": "paper",
          "y": 1,
          "yanchor": "bottom",
          "yref": "paper"
         },
         {
          "font": {
           "size": 13
          },
          "showarrow": false,
          "text": "prediction",
          "textangle": -90,
          "x": -0.07,
          "xref": "paper",
          "y": 0.5,
          "yref": "paper"
         }
        ],
        "font": {
         "color": "#371ea3"
        },
        "height": 829,
        "hovermode": "x unified",
        "legend": {
         "font": {
          "size": 11
         },
         "itemsizing": "constant",
         "orientation": "h",
         "title": {
          "font": {
           "size": 12
          },
          "text": "label"
         },
         "tracegroupgap": 0,
         "x": 1,
         "xanchor": "right",
         "y": 1.0361881785283473,
         "yanchor": "bottom"
        },
        "margin": {
         "b": 71,
         "r": 30,
         "t": 78
        },
        "template": {
         "data": {
          "scatter": [
           {
            "type": "scatter"
           }
          ]
         }
        },
        "title": {
         "font": {
          "size": 16
         },
         "text": "Aggregated Profiles",
         "x": 0.15
        },
        "xaxis": {
         "anchor": "y",
         "automargin": true,
         "domain": [
          0,
          0.475
         ],
         "fixedrange": true,
         "gridwidth": 2,
         "showticklabels": true,
         "tickcolor": "white",
         "ticklen": 3,
         "ticks": "outside",
         "title": {
          "text": ""
         },
         "type": "linear",
         "zeroline": false
        },
        "xaxis2": {
         "anchor": "y2",
         "automargin": true,
         "domain": [
          0.525,
          1
         ],
         "fixedrange": true,
         "gridwidth": 2,
         "showticklabels": true,
         "tickcolor": "white",
         "ticklen": 3,
         "ticks": "outside",
         "title": {
          "text": ""
         },
         "type": "linear",
         "zeroline": false
        },
        "xaxis3": {
         "anchor": "y3",
         "automargin": true,
         "domain": [
          0,
          0.475
         ],
         "fixedrange": true,
         "gridwidth": 2,
         "showticklabels": true,
         "tickcolor": "white",
         "ticklen": 3,
         "ticks": "outside",
         "title": {
          "text": ""
         },
         "type": "linear",
         "zeroline": false
        },
        "xaxis4": {
         "anchor": "y4",
         "automargin": true,
         "domain": [
          0.525,
          1
         ],
         "fixedrange": true,
         "gridwidth": 2,
         "showticklabels": true,
         "tickcolor": "white",
         "ticklen": 3,
         "ticks": "outside",
         "title": {
          "text": ""
         },
         "type": "linear",
         "zeroline": false
        },
        "yaxis": {
         "anchor": "x",
         "automargin": true,
         "domain": [
          0,
          0.425
         ],
         "fixedrange": true,
         "gridwidth": 2,
         "range": [
          0.1734612137079239,
          0.5223374366760254
         ],
         "tickcolor": "white",
         "ticklen": 3,
         "ticks": "outside",
         "title": {
          "text": ""
         },
         "type": "linear",
         "zeroline": false
        },
        "yaxis2": {
         "anchor": "x2",
         "automargin": true,
         "domain": [
          0,
          0.425
         ],
         "fixedrange": true,
         "gridwidth": 2,
         "matches": "y",
         "showticklabels": false,
         "tickcolor": "white",
         "ticklen": 3,
         "ticks": "outside",
         "title": {
          "text": ""
         },
         "type": "linear",
         "zeroline": false
        },
        "yaxis3": {
         "anchor": "x3",
         "automargin": true,
         "domain": [
          0.575,
          1
         ],
         "fixedrange": true,
         "gridwidth": 2,
         "matches": "y",
         "range": [
          0.1734612137079239,
          0.5223374366760254
         ],
         "tickcolor": "white",
         "ticklen": 3,
         "ticks": "outside",
         "title": {
          "text": ""
         },
         "type": "linear",
         "zeroline": false
        },
        "yaxis4": {
         "anchor": "x4",
         "automargin": true,
         "domain": [
          0.575,
          1
         ],
         "fixedrange": true,
         "gridwidth": 2,
         "matches": "y",
         "showticklabels": false,
         "tickcolor": "white",
         "ticklen": 3,
         "ticks": "outside",
         "title": {
          "text": ""
         },
         "type": "linear",
         "zeroline": false
        }
       }
      }
     },
     "metadata": {},
     "output_type": "display_data"
    }
   ],
   "source": [
    "mp = exp.model_profile()\n",
    "mp.plot()"
   ]
  },
  {
   "cell_type": "code",
   "execution_count": 46,
   "id": "b9e666ad",
   "metadata": {},
   "outputs": [
    {
     "name": "stdout",
     "output_type": "stream",
     "text": [
      "0.13237005\n",
      "0.7318035\n",
      "0.41356137\n"
     ]
    }
   ],
   "source": [
    "for i in [0,19,32]:\n",
    "    print(clf.predict(x)[i])"
   ]
  },
  {
   "cell_type": "code",
   "execution_count": 27,
   "id": "5a65a6f9",
   "metadata": {},
   "outputs": [
    {
     "data": {
      "application/vnd.plotly.v1+json": {
       "config": {
        "displaylogo": false,
        "modeBarButtonsToRemove": [
         "sendDataToCloud",
         "lasso2d",
         "autoScale2d",
         "select2d",
         "zoom2d",
         "pan2d",
         "zoomIn2d",
         "zoomOut2d",
         "resetScale2d",
         "toggleSpikelines",
         "hoverCompareCartesian",
         "hoverClosestCartesian"
        ],
        "plotlyServerURL": "https://plot.ly",
        "staticPlot": false,
        "toImageButtonOptions": {
         "height": null,
         "width": null
        }
       },
       "data": [
        {
         "base": 0.3523775041103363,
         "hoverinfo": "text",
         "hoverlabel": {
          "bgcolor": "rgba(0,0,0,0.8)"
         },
         "hovertext": [
          "Average response: 0.352<br>Prediction: 0.132<br>curvature = 0.06<br>decreases average response <br>by 0.125",
          "Average response: 0.352<br>Prediction: 0.132<br>speed_limit = 35.0<br>decreases average response <br>by 0.066",
          "Average response: 0.352<br>Prediction: 0.132<br>lighting = daylight<br>decreases average response <br>by 0.054",
          "Average response: 0.352<br>Prediction: 0.132<br>weather = rainy<br>increases average response <br>by 0.028",
          "Average response: 0.352<br>Prediction: 0.132<br>num_reported_accidents = 1.0<br>decreases average response <br>by 0.004",
          "Average response: 0.352<br>Prediction: 0.132<br>num_lanes = 2.0<br>decreases average response <br>by 0.0",
          "Average response: 0.352<br>Prediction: 0.132<br>road_type = urban<br>decreases average response <br>by 0.0",
          "Average response: 0.352<br>Prediction: 0.132<br>time_of_day = afternoon<br>decreases average response <br>by 0.0",
          "Average response: 0.352<br>Prediction: 0.132<br>holiday = 0.0<br>decreases average response <br>by 0.0",
          "Average response: 0.352<br>Prediction: 0.132<br>+ all other factors<br>decreases average response <br>by 0.0"
         ],
         "marker": {
          "color": [
           "#f05a71",
           "#f05a71",
           "#f05a71",
           "#8bdcbe",
           "#f05a71",
           "#8bdcbe",
           "#f05a71",
           "#8bdcbe",
           "#371ea3",
           "#371ea3"
          ]
         },
         "orientation": "h",
         "showlegend": false,
         "text": [
          "-0.125",
          "-0.066",
          "-0.054",
          "+0.028",
          "-0.004",
          "0.0",
          "-0.0",
          "0.0",
          "0.0",
          "0.0"
         ],
         "textposition": "outside",
         "type": "bar",
         "x": [
          -0.125,
          -0.066,
          -0.054,
          0.028,
          -0.004,
          0,
          0,
          0,
          0,
          0
         ],
         "xaxis": "x",
         "y": [
          "curvature = 0.06",
          "speed_limit = 35.0",
          "lighting = daylight",
          "weather = rainy",
          "num_reported_accidents = 1.0",
          "num_lanes = 2.0",
          "road_type = urban",
          "time_of_day = afternoon",
          "holiday = 0.0",
          "+ all other factors"
         ],
         "yaxis": "y"
        }
       ],
       "layout": {
        "annotations": [
         {
          "font": {
           "size": 16
          },
          "showarrow": false,
          "text": "XGBRegressor",
          "x": 0.5,
          "xanchor": "center",
          "xref": "paper",
          "y": 1,
          "yanchor": "bottom",
          "yref": "paper"
         },
         {
          "font": {
           "size": 16
          },
          "showarrow": false,
          "text": "contribution",
          "x": 0.5,
          "xanchor": "center",
          "xref": "paper",
          "y": 0,
          "yanchor": "top",
          "yref": "paper",
          "yshift": -30
         }
        ],
        "font": {
         "color": "#371ea3"
        },
        "height": 373,
        "margin": {
         "b": 71,
         "r": 30,
         "t": 78
        },
        "shapes": [
         {
          "line": {
           "color": "#371ea3",
           "dash": "dot",
           "width": 1.5
          },
          "type": "line",
          "x0": 0.3523775041103363,
          "x1": 0.3523775041103363,
          "xref": "x",
          "y0": -1,
          "y1": 11,
          "yref": "y"
         }
        ],
        "template": {
         "data": {
          "scatter": [
           {
            "type": "scatter"
           }
          ]
         }
        },
        "title": {
         "text": "Shapley Values",
         "x": 0.15
        },
        "xaxis": {
         "anchor": "y",
         "automargin": true,
         "domain": [
          0,
          1
         ],
         "fixedrange": true,
         "gridwidth": 2,
         "range": [
          0.2044275041103363,
          0.40332750411033635
         ],
         "tickcolor": "white",
         "ticklen": 3,
         "ticks": "outside",
         "type": "linear",
         "zeroline": false
        },
        "yaxis": {
         "anchor": "x",
         "automargin": true,
         "autorange": "reversed",
         "domain": [
          0,
          1
         ],
         "fixedrange": true,
         "gridwidth": 2,
         "tickcolor": "white",
         "ticklen": 10,
         "ticks": "outside",
         "type": "category"
        }
       }
      }
     },
     "metadata": {},
     "output_type": "display_data"
    }
   ],
   "source": [
    "exp.predict_parts(x.iloc[0], type='shap').plot()"
   ]
  },
  {
   "cell_type": "code",
   "execution_count": 28,
   "id": "2469d293",
   "metadata": {},
   "outputs": [
    {
     "data": {
      "application/vnd.plotly.v1+json": {
       "config": {
        "displaylogo": false,
        "modeBarButtonsToRemove": [
         "sendDataToCloud",
         "lasso2d",
         "autoScale2d",
         "select2d",
         "zoom2d",
         "pan2d",
         "zoomIn2d",
         "zoomOut2d",
         "resetScale2d",
         "toggleSpikelines",
         "hoverCompareCartesian",
         "hoverClosestCartesian"
        ],
        "plotlyServerURL": "https://plot.ly",
        "staticPlot": false,
        "toImageButtonOptions": {
         "height": null,
         "width": null
        }
       },
       "data": [
        {
         "base": 0.3523775041103363,
         "hoverinfo": "text",
         "hoverlabel": {
          "bgcolor": "rgba(0,0,0,0.8)"
         },
         "hovertext": [
          "Average response: 0.352<br>Prediction: 0.732<br>curvature = 0.86<br>increases average response <br>by 0.149",
          "Average response: 0.352<br>Prediction: 0.732<br>lighting = night<br>increases average response <br>by 0.125",
          "Average response: 0.352<br>Prediction: 0.732<br>speed_limit = 70.0<br>increases average response <br>by 0.108",
          "Average response: 0.352<br>Prediction: 0.732<br>weather = clear<br>decreases average response <br>by 0.044",
          "Average response: 0.352<br>Prediction: 0.732<br>num_reported_accidents = 3.0<br>increases average response <br>by 0.044",
          "Average response: 0.352<br>Prediction: 0.732<br>num_lanes = 2.0<br>decreases average response <br>by 0.001",
          "Average response: 0.352<br>Prediction: 0.732<br>road_type = highway<br>increases average response <br>by 0.001",
          "Average response: 0.352<br>Prediction: 0.732<br>time_of_day = evening<br>decreases average response <br>by 0.0",
          "Average response: 0.352<br>Prediction: 0.732<br>holiday = 0.0<br>decreases average response <br>by 0.0",
          "Average response: 0.352<br>Prediction: 0.732<br>+ all other factors<br>decreases average response <br>by 0.0"
         ],
         "marker": {
          "color": [
           "#8bdcbe",
           "#8bdcbe",
           "#8bdcbe",
           "#f05a71",
           "#8bdcbe",
           "#f05a71",
           "#8bdcbe",
           "#f05a71",
           "#371ea3",
           "#371ea3"
          ]
         },
         "orientation": "h",
         "showlegend": false,
         "text": [
          "+0.149",
          "+0.125",
          "+0.108",
          "-0.044",
          "+0.044",
          "-0.001",
          "+0.001",
          "-0.0",
          "0.0",
          "0.0"
         ],
         "textposition": "outside",
         "type": "bar",
         "x": [
          0.149,
          0.125,
          0.108,
          -0.044,
          0.044,
          -0.001,
          0.001,
          0,
          0,
          0
         ],
         "xaxis": "x",
         "y": [
          "curvature = 0.86",
          "lighting = night",
          "speed_limit = 70.0",
          "weather = clear",
          "num_reported_accidents = 3.0",
          "num_lanes = 2.0",
          "road_type = highway",
          "time_of_day = evening",
          "holiday = 0.0",
          "+ all other factors"
         ],
         "yaxis": "y"
        }
       ],
       "layout": {
        "annotations": [
         {
          "font": {
           "size": 16
          },
          "showarrow": false,
          "text": "XGBRegressor",
          "x": 0.5,
          "xanchor": "center",
          "xref": "paper",
          "y": 1,
          "yanchor": "bottom",
          "yref": "paper"
         },
         {
          "font": {
           "size": 16
          },
          "showarrow": false,
          "text": "contribution",
          "x": 0.5,
          "xanchor": "center",
          "xref": "paper",
          "y": 0,
          "yanchor": "top",
          "yref": "paper",
          "yshift": -30
         }
        ],
        "font": {
         "color": "#371ea3"
        },
        "height": 373,
        "margin": {
         "b": 71,
         "r": 30,
         "t": 78
        },
        "shapes": [
         {
          "line": {
           "color": "#371ea3",
           "dash": "dot",
           "width": 1.5
          },
          "type": "line",
          "x0": 0.3523775041103363,
          "x1": 0.3523775041103363,
          "xref": "x",
          "y0": -1,
          "y1": 11,
          "yref": "y"
         }
        ],
        "template": {
         "data": {
          "scatter": [
           {
            "type": "scatter"
           }
          ]
         }
        },
        "title": {
         "text": "Shapley Values",
         "x": 0.15
        },
        "xaxis": {
         "anchor": "y",
         "automargin": true,
         "domain": [
          0,
          1
         ],
         "fixedrange": true,
         "gridwidth": 2,
         "range": [
          0.27942750411033634,
          0.5303275041103364
         ],
         "tickcolor": "white",
         "ticklen": 3,
         "ticks": "outside",
         "type": "linear",
         "zeroline": false
        },
        "yaxis": {
         "anchor": "x",
         "automargin": true,
         "autorange": "reversed",
         "domain": [
          0,
          1
         ],
         "fixedrange": true,
         "gridwidth": 2,
         "tickcolor": "white",
         "ticklen": 10,
         "ticks": "outside",
         "type": "category"
        }
       }
      }
     },
     "metadata": {},
     "output_type": "display_data"
    }
   ],
   "source": [
    "exp.predict_parts(x.iloc[19], type='shap').plot()"
   ]
  },
  {
   "cell_type": "code",
   "execution_count": 29,
   "id": "39bbb50b",
   "metadata": {},
   "outputs": [
    {
     "data": {
      "application/vnd.plotly.v1+json": {
       "config": {
        "displaylogo": false,
        "modeBarButtonsToRemove": [
         "sendDataToCloud",
         "lasso2d",
         "autoScale2d",
         "select2d",
         "zoom2d",
         "pan2d",
         "zoomIn2d",
         "zoomOut2d",
         "resetScale2d",
         "toggleSpikelines",
         "hoverCompareCartesian",
         "hoverClosestCartesian"
        ],
        "plotlyServerURL": "https://plot.ly",
        "staticPlot": false,
        "toImageButtonOptions": {
         "height": null,
         "width": null
        }
       },
       "data": [
        {
         "base": 0.3523775041103363,
         "hoverinfo": "text",
         "hoverlabel": {
          "bgcolor": "rgba(0,0,0,0.8)"
         },
         "hovertext": [
          "Average response: 0.352<br>Prediction: 0.414<br>lighting = night<br>increases average response <br>by 0.124",
          "Average response: 0.352<br>Prediction: 0.414<br>speed_limit = 35.0<br>decreases average response <br>by 0.063",
          "Average response: 0.352<br>Prediction: 0.414<br>curvature = 0.45<br>decreases average response <br>by 0.038",
          "Average response: 0.352<br>Prediction: 0.414<br>weather = foggy<br>increases average response <br>by 0.032",
          "Average response: 0.352<br>Prediction: 0.414<br>num_reported_accidents = 2.0<br>increases average response <br>by 0.008",
          "Average response: 0.352<br>Prediction: 0.414<br>num_lanes = 1.0<br>decreases average response <br>by 0.001",
          "Average response: 0.352<br>Prediction: 0.414<br>time_of_day = morning<br>decreases average response <br>by 0.001",
          "Average response: 0.352<br>Prediction: 0.414<br>road_type = highway<br>decreases average response <br>by 0.0",
          "Average response: 0.352<br>Prediction: 0.414<br>holiday = 1.0<br>decreases average response <br>by 0.0",
          "Average response: 0.352<br>Prediction: 0.414<br>+ all other factors<br>decreases average response <br>by 0.0"
         ],
         "marker": {
          "color": [
           "#8bdcbe",
           "#f05a71",
           "#f05a71",
           "#8bdcbe",
           "#8bdcbe",
           "#f05a71",
           "#f05a71",
           "#8bdcbe",
           "#371ea3",
           "#371ea3"
          ]
         },
         "orientation": "h",
         "showlegend": false,
         "text": [
          "+0.124",
          "-0.063",
          "-0.038",
          "+0.032",
          "+0.008",
          "-0.001",
          "-0.001",
          "0.0",
          "0.0",
          "0.0"
         ],
         "textposition": "outside",
         "type": "bar",
         "x": [
          0.124,
          -0.063,
          -0.038,
          0.032,
          0.008,
          -0.001,
          -0.001,
          0,
          0,
          0
         ],
         "xaxis": "x",
         "y": [
          "lighting = night",
          "speed_limit = 35.0",
          "curvature = 0.45",
          "weather = foggy",
          "num_reported_accidents = 2.0",
          "num_lanes = 1.0",
          "time_of_day = morning",
          "road_type = highway",
          "holiday = 1.0",
          "+ all other factors"
         ],
         "yaxis": "y"
        }
       ],
       "layout": {
        "annotations": [
         {
          "font": {
           "size": 16
          },
          "showarrow": false,
          "text": "XGBRegressor",
          "x": 0.5,
          "xanchor": "center",
          "xref": "paper",
          "y": 1,
          "yanchor": "bottom",
          "yref": "paper"
         },
         {
          "font": {
           "size": 16
          },
          "showarrow": false,
          "text": "contribution",
          "x": 0.5,
          "xanchor": "center",
          "xref": "paper",
          "y": 0,
          "yanchor": "top",
          "yref": "paper",
          "yshift": -30
         }
        ],
        "font": {
         "color": "#371ea3"
        },
        "height": 373,
        "margin": {
         "b": 71,
         "r": 30,
         "t": 78
        },
        "shapes": [
         {
          "line": {
           "color": "#371ea3",
           "dash": "dot",
           "width": 1.5
          },
          "type": "line",
          "x0": 0.3523775041103363,
          "x1": 0.3523775041103363,
          "xref": "x",
          "y0": -1,
          "y1": 11,
          "yref": "y"
         }
        ],
        "template": {
         "data": {
          "scatter": [
           {
            "type": "scatter"
           }
          ]
         }
        },
        "title": {
         "text": "Shapley Values",
         "x": 0.15
        },
        "xaxis": {
         "anchor": "y",
         "automargin": true,
         "domain": [
          0,
          1
         ],
         "fixedrange": true,
         "gridwidth": 2,
         "range": [
          0.2613275041103363,
          0.5044275041103363
         ],
         "tickcolor": "white",
         "ticklen": 3,
         "ticks": "outside",
         "type": "linear",
         "zeroline": false
        },
        "yaxis": {
         "anchor": "x",
         "automargin": true,
         "autorange": "reversed",
         "domain": [
          0,
          1
         ],
         "fixedrange": true,
         "gridwidth": 2,
         "tickcolor": "white",
         "ticklen": 10,
         "ticks": "outside",
         "type": "category"
        }
       }
      }
     },
     "metadata": {},
     "output_type": "display_data"
    }
   ],
   "source": [
    "exp.predict_parts(x.iloc[32], type='shap').plot()"
   ]
  }
 ],
 "metadata": {
  "kernelspec": {
   "display_name": "base",
   "language": "python",
   "name": "python3"
  },
  "language_info": {
   "codemirror_mode": {
    "name": "ipython",
    "version": 3
   },
   "file_extension": ".py",
   "mimetype": "text/x-python",
   "name": "python",
   "nbconvert_exporter": "python",
   "pygments_lexer": "ipython3",
   "version": "3.13.2"
  }
 },
 "nbformat": 4,
 "nbformat_minor": 5
}
